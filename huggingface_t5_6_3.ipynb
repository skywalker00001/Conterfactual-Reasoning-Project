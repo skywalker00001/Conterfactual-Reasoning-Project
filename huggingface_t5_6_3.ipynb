{
  "nbformat": 4,
  "nbformat_minor": 0,
  "metadata": {
    "colab": {
      "name": "huggingface_t5_6.0.ipynb",
      "provenance": [],
      "collapsed_sections": [],
      "toc_visible": true,
      "machine_shape": "hm",
      "authorship_tag": "ABX9TyMb0YT7+BPOYj2rTBzr41IX",
      "include_colab_link": true
    },
    "kernelspec": {
      "name": "python3",
      "display_name": "Python 3"
    },
    "language_info": {
      "name": "python"
    },
    "accelerator": "GPU",
    "widgets": {
      "application/vnd.jupyter.widget-state+json": {
        "cb63d8f05187400db53c08e3e041da2c": {
          "model_module": "@jupyter-widgets/controls",
          "model_name": "HBoxModel",
          "model_module_version": "1.5.0",
          "state": {
            "_view_name": "HBoxView",
            "_dom_classes": [],
            "_model_name": "HBoxModel",
            "_view_module": "@jupyter-widgets/controls",
            "_model_module_version": "1.5.0",
            "_view_count": null,
            "_view_module_version": "1.5.0",
            "box_style": "",
            "layout": "IPY_MODEL_5d50f5d2b6904baaaaf6ed73cfb017d8",
            "_model_module": "@jupyter-widgets/controls",
            "children": [
              "IPY_MODEL_7c084cdfe34b4c46bc297211aee99776",
              "IPY_MODEL_e32ea4cf384644b785f0c834fab75303",
              "IPY_MODEL_e147c82d482646ed87b7264526dc365e"
            ]
          }
        },
        "5d50f5d2b6904baaaaf6ed73cfb017d8": {
          "model_module": "@jupyter-widgets/base",
          "model_name": "LayoutModel",
          "model_module_version": "1.2.0",
          "state": {
            "_view_name": "LayoutView",
            "grid_template_rows": null,
            "right": null,
            "justify_content": null,
            "_view_module": "@jupyter-widgets/base",
            "overflow": null,
            "_model_module_version": "1.2.0",
            "_view_count": null,
            "flex_flow": null,
            "width": null,
            "min_width": null,
            "border": null,
            "align_items": null,
            "bottom": null,
            "_model_module": "@jupyter-widgets/base",
            "top": null,
            "grid_column": null,
            "overflow_y": null,
            "overflow_x": null,
            "grid_auto_flow": null,
            "grid_area": null,
            "grid_template_columns": null,
            "flex": null,
            "_model_name": "LayoutModel",
            "justify_items": null,
            "grid_row": null,
            "max_height": null,
            "align_content": null,
            "visibility": null,
            "align_self": null,
            "height": null,
            "min_height": null,
            "padding": null,
            "grid_auto_rows": null,
            "grid_gap": null,
            "max_width": null,
            "order": null,
            "_view_module_version": "1.2.0",
            "grid_template_areas": null,
            "object_position": null,
            "object_fit": null,
            "grid_auto_columns": null,
            "margin": null,
            "display": null,
            "left": null
          }
        },
        "7c084cdfe34b4c46bc297211aee99776": {
          "model_module": "@jupyter-widgets/controls",
          "model_name": "HTMLModel",
          "model_module_version": "1.5.0",
          "state": {
            "_view_name": "HTMLView",
            "style": "IPY_MODEL_a88282258bcd4104a7fdfe3643e1eb64",
            "_dom_classes": [],
            "description": "",
            "_model_name": "HTMLModel",
            "placeholder": "​",
            "_view_module": "@jupyter-widgets/controls",
            "_model_module_version": "1.5.0",
            "value": "Downloading: 100%",
            "_view_count": null,
            "_view_module_version": "1.5.0",
            "description_tooltip": null,
            "_model_module": "@jupyter-widgets/controls",
            "layout": "IPY_MODEL_421fa7393ad24d0b837e9c460d249380"
          }
        },
        "e32ea4cf384644b785f0c834fab75303": {
          "model_module": "@jupyter-widgets/controls",
          "model_name": "FloatProgressModel",
          "model_module_version": "1.5.0",
          "state": {
            "_view_name": "ProgressView",
            "style": "IPY_MODEL_7c15dc9f32b44a07adc6982459fa5906",
            "_dom_classes": [],
            "description": "",
            "_model_name": "FloatProgressModel",
            "bar_style": "success",
            "max": 791656,
            "_view_module": "@jupyter-widgets/controls",
            "_model_module_version": "1.5.0",
            "value": 791656,
            "_view_count": null,
            "_view_module_version": "1.5.0",
            "orientation": "horizontal",
            "min": 0,
            "description_tooltip": null,
            "_model_module": "@jupyter-widgets/controls",
            "layout": "IPY_MODEL_c254b51ec4124377827717b988978125"
          }
        },
        "e147c82d482646ed87b7264526dc365e": {
          "model_module": "@jupyter-widgets/controls",
          "model_name": "HTMLModel",
          "model_module_version": "1.5.0",
          "state": {
            "_view_name": "HTMLView",
            "style": "IPY_MODEL_3c442403ee434409956abe159293c3e1",
            "_dom_classes": [],
            "description": "",
            "_model_name": "HTMLModel",
            "placeholder": "​",
            "_view_module": "@jupyter-widgets/controls",
            "_model_module_version": "1.5.0",
            "value": " 773k/773k [00:00&lt;00:00, 2.61MB/s]",
            "_view_count": null,
            "_view_module_version": "1.5.0",
            "description_tooltip": null,
            "_model_module": "@jupyter-widgets/controls",
            "layout": "IPY_MODEL_b111a4ad9fb34f86a2fc55cb2fa4e5af"
          }
        },
        "a88282258bcd4104a7fdfe3643e1eb64": {
          "model_module": "@jupyter-widgets/controls",
          "model_name": "DescriptionStyleModel",
          "model_module_version": "1.5.0",
          "state": {
            "_view_name": "StyleView",
            "_model_name": "DescriptionStyleModel",
            "description_width": "",
            "_view_module": "@jupyter-widgets/base",
            "_model_module_version": "1.5.0",
            "_view_count": null,
            "_view_module_version": "1.2.0",
            "_model_module": "@jupyter-widgets/controls"
          }
        },
        "421fa7393ad24d0b837e9c460d249380": {
          "model_module": "@jupyter-widgets/base",
          "model_name": "LayoutModel",
          "model_module_version": "1.2.0",
          "state": {
            "_view_name": "LayoutView",
            "grid_template_rows": null,
            "right": null,
            "justify_content": null,
            "_view_module": "@jupyter-widgets/base",
            "overflow": null,
            "_model_module_version": "1.2.0",
            "_view_count": null,
            "flex_flow": null,
            "width": null,
            "min_width": null,
            "border": null,
            "align_items": null,
            "bottom": null,
            "_model_module": "@jupyter-widgets/base",
            "top": null,
            "grid_column": null,
            "overflow_y": null,
            "overflow_x": null,
            "grid_auto_flow": null,
            "grid_area": null,
            "grid_template_columns": null,
            "flex": null,
            "_model_name": "LayoutModel",
            "justify_items": null,
            "grid_row": null,
            "max_height": null,
            "align_content": null,
            "visibility": null,
            "align_self": null,
            "height": null,
            "min_height": null,
            "padding": null,
            "grid_auto_rows": null,
            "grid_gap": null,
            "max_width": null,
            "order": null,
            "_view_module_version": "1.2.0",
            "grid_template_areas": null,
            "object_position": null,
            "object_fit": null,
            "grid_auto_columns": null,
            "margin": null,
            "display": null,
            "left": null
          }
        },
        "7c15dc9f32b44a07adc6982459fa5906": {
          "model_module": "@jupyter-widgets/controls",
          "model_name": "ProgressStyleModel",
          "model_module_version": "1.5.0",
          "state": {
            "_view_name": "StyleView",
            "_model_name": "ProgressStyleModel",
            "description_width": "",
            "_view_module": "@jupyter-widgets/base",
            "_model_module_version": "1.5.0",
            "_view_count": null,
            "_view_module_version": "1.2.0",
            "bar_color": null,
            "_model_module": "@jupyter-widgets/controls"
          }
        },
        "c254b51ec4124377827717b988978125": {
          "model_module": "@jupyter-widgets/base",
          "model_name": "LayoutModel",
          "model_module_version": "1.2.0",
          "state": {
            "_view_name": "LayoutView",
            "grid_template_rows": null,
            "right": null,
            "justify_content": null,
            "_view_module": "@jupyter-widgets/base",
            "overflow": null,
            "_model_module_version": "1.2.0",
            "_view_count": null,
            "flex_flow": null,
            "width": null,
            "min_width": null,
            "border": null,
            "align_items": null,
            "bottom": null,
            "_model_module": "@jupyter-widgets/base",
            "top": null,
            "grid_column": null,
            "overflow_y": null,
            "overflow_x": null,
            "grid_auto_flow": null,
            "grid_area": null,
            "grid_template_columns": null,
            "flex": null,
            "_model_name": "LayoutModel",
            "justify_items": null,
            "grid_row": null,
            "max_height": null,
            "align_content": null,
            "visibility": null,
            "align_self": null,
            "height": null,
            "min_height": null,
            "padding": null,
            "grid_auto_rows": null,
            "grid_gap": null,
            "max_width": null,
            "order": null,
            "_view_module_version": "1.2.0",
            "grid_template_areas": null,
            "object_position": null,
            "object_fit": null,
            "grid_auto_columns": null,
            "margin": null,
            "display": null,
            "left": null
          }
        },
        "3c442403ee434409956abe159293c3e1": {
          "model_module": "@jupyter-widgets/controls",
          "model_name": "DescriptionStyleModel",
          "model_module_version": "1.5.0",
          "state": {
            "_view_name": "StyleView",
            "_model_name": "DescriptionStyleModel",
            "description_width": "",
            "_view_module": "@jupyter-widgets/base",
            "_model_module_version": "1.5.0",
            "_view_count": null,
            "_view_module_version": "1.2.0",
            "_model_module": "@jupyter-widgets/controls"
          }
        },
        "b111a4ad9fb34f86a2fc55cb2fa4e5af": {
          "model_module": "@jupyter-widgets/base",
          "model_name": "LayoutModel",
          "model_module_version": "1.2.0",
          "state": {
            "_view_name": "LayoutView",
            "grid_template_rows": null,
            "right": null,
            "justify_content": null,
            "_view_module": "@jupyter-widgets/base",
            "overflow": null,
            "_model_module_version": "1.2.0",
            "_view_count": null,
            "flex_flow": null,
            "width": null,
            "min_width": null,
            "border": null,
            "align_items": null,
            "bottom": null,
            "_model_module": "@jupyter-widgets/base",
            "top": null,
            "grid_column": null,
            "overflow_y": null,
            "overflow_x": null,
            "grid_auto_flow": null,
            "grid_area": null,
            "grid_template_columns": null,
            "flex": null,
            "_model_name": "LayoutModel",
            "justify_items": null,
            "grid_row": null,
            "max_height": null,
            "align_content": null,
            "visibility": null,
            "align_self": null,
            "height": null,
            "min_height": null,
            "padding": null,
            "grid_auto_rows": null,
            "grid_gap": null,
            "max_width": null,
            "order": null,
            "_view_module_version": "1.2.0",
            "grid_template_areas": null,
            "object_position": null,
            "object_fit": null,
            "grid_auto_columns": null,
            "margin": null,
            "display": null,
            "left": null
          }
        },
        "2d6b8ffcae9e4870947ed0062006a765": {
          "model_module": "@jupyter-widgets/controls",
          "model_name": "HBoxModel",
          "model_module_version": "1.5.0",
          "state": {
            "_view_name": "HBoxView",
            "_dom_classes": [],
            "_model_name": "HBoxModel",
            "_view_module": "@jupyter-widgets/controls",
            "_model_module_version": "1.5.0",
            "_view_count": null,
            "_view_module_version": "1.5.0",
            "box_style": "",
            "layout": "IPY_MODEL_626351c51b214f37b2655a5729e02baa",
            "_model_module": "@jupyter-widgets/controls",
            "children": [
              "IPY_MODEL_1ae2ef67f8ce4ebd86dbc05c52fbf65e",
              "IPY_MODEL_a59916c021c943e1b95b7e172dce0f84",
              "IPY_MODEL_af66f772ffc2404e989849661ae7fbe6"
            ]
          }
        },
        "626351c51b214f37b2655a5729e02baa": {
          "model_module": "@jupyter-widgets/base",
          "model_name": "LayoutModel",
          "model_module_version": "1.2.0",
          "state": {
            "_view_name": "LayoutView",
            "grid_template_rows": null,
            "right": null,
            "justify_content": null,
            "_view_module": "@jupyter-widgets/base",
            "overflow": null,
            "_model_module_version": "1.2.0",
            "_view_count": null,
            "flex_flow": null,
            "width": null,
            "min_width": null,
            "border": null,
            "align_items": null,
            "bottom": null,
            "_model_module": "@jupyter-widgets/base",
            "top": null,
            "grid_column": null,
            "overflow_y": null,
            "overflow_x": null,
            "grid_auto_flow": null,
            "grid_area": null,
            "grid_template_columns": null,
            "flex": null,
            "_model_name": "LayoutModel",
            "justify_items": null,
            "grid_row": null,
            "max_height": null,
            "align_content": null,
            "visibility": null,
            "align_self": null,
            "height": null,
            "min_height": null,
            "padding": null,
            "grid_auto_rows": null,
            "grid_gap": null,
            "max_width": null,
            "order": null,
            "_view_module_version": "1.2.0",
            "grid_template_areas": null,
            "object_position": null,
            "object_fit": null,
            "grid_auto_columns": null,
            "margin": null,
            "display": null,
            "left": null
          }
        },
        "1ae2ef67f8ce4ebd86dbc05c52fbf65e": {
          "model_module": "@jupyter-widgets/controls",
          "model_name": "HTMLModel",
          "model_module_version": "1.5.0",
          "state": {
            "_view_name": "HTMLView",
            "style": "IPY_MODEL_06afa02a45454ce09b3ecd754f74a06b",
            "_dom_classes": [],
            "description": "",
            "_model_name": "HTMLModel",
            "placeholder": "​",
            "_view_module": "@jupyter-widgets/controls",
            "_model_module_version": "1.5.0",
            "value": "Downloading: 100%",
            "_view_count": null,
            "_view_module_version": "1.5.0",
            "description_tooltip": null,
            "_model_module": "@jupyter-widgets/controls",
            "layout": "IPY_MODEL_708f79fa12234117a871dbf1e1820513"
          }
        },
        "a59916c021c943e1b95b7e172dce0f84": {
          "model_module": "@jupyter-widgets/controls",
          "model_name": "FloatProgressModel",
          "model_module_version": "1.5.0",
          "state": {
            "_view_name": "ProgressView",
            "style": "IPY_MODEL_dfef4126c497444da882c34126772d7c",
            "_dom_classes": [],
            "description": "",
            "_model_name": "FloatProgressModel",
            "bar_style": "success",
            "max": 1199,
            "_view_module": "@jupyter-widgets/controls",
            "_model_module_version": "1.5.0",
            "value": 1199,
            "_view_count": null,
            "_view_module_version": "1.5.0",
            "orientation": "horizontal",
            "min": 0,
            "description_tooltip": null,
            "_model_module": "@jupyter-widgets/controls",
            "layout": "IPY_MODEL_f76622adefd347529e3704378f600a62"
          }
        },
        "af66f772ffc2404e989849661ae7fbe6": {
          "model_module": "@jupyter-widgets/controls",
          "model_name": "HTMLModel",
          "model_module_version": "1.5.0",
          "state": {
            "_view_name": "HTMLView",
            "style": "IPY_MODEL_15980bcac77e4143a717a06364bf9cbf",
            "_dom_classes": [],
            "description": "",
            "_model_name": "HTMLModel",
            "placeholder": "​",
            "_view_module": "@jupyter-widgets/controls",
            "_model_module_version": "1.5.0",
            "value": " 1.17k/1.17k [00:00&lt;00:00, 34.3kB/s]",
            "_view_count": null,
            "_view_module_version": "1.5.0",
            "description_tooltip": null,
            "_model_module": "@jupyter-widgets/controls",
            "layout": "IPY_MODEL_8842eb15da1d404e8c1edf7846167221"
          }
        },
        "06afa02a45454ce09b3ecd754f74a06b": {
          "model_module": "@jupyter-widgets/controls",
          "model_name": "DescriptionStyleModel",
          "model_module_version": "1.5.0",
          "state": {
            "_view_name": "StyleView",
            "_model_name": "DescriptionStyleModel",
            "description_width": "",
            "_view_module": "@jupyter-widgets/base",
            "_model_module_version": "1.5.0",
            "_view_count": null,
            "_view_module_version": "1.2.0",
            "_model_module": "@jupyter-widgets/controls"
          }
        },
        "708f79fa12234117a871dbf1e1820513": {
          "model_module": "@jupyter-widgets/base",
          "model_name": "LayoutModel",
          "model_module_version": "1.2.0",
          "state": {
            "_view_name": "LayoutView",
            "grid_template_rows": null,
            "right": null,
            "justify_content": null,
            "_view_module": "@jupyter-widgets/base",
            "overflow": null,
            "_model_module_version": "1.2.0",
            "_view_count": null,
            "flex_flow": null,
            "width": null,
            "min_width": null,
            "border": null,
            "align_items": null,
            "bottom": null,
            "_model_module": "@jupyter-widgets/base",
            "top": null,
            "grid_column": null,
            "overflow_y": null,
            "overflow_x": null,
            "grid_auto_flow": null,
            "grid_area": null,
            "grid_template_columns": null,
            "flex": null,
            "_model_name": "LayoutModel",
            "justify_items": null,
            "grid_row": null,
            "max_height": null,
            "align_content": null,
            "visibility": null,
            "align_self": null,
            "height": null,
            "min_height": null,
            "padding": null,
            "grid_auto_rows": null,
            "grid_gap": null,
            "max_width": null,
            "order": null,
            "_view_module_version": "1.2.0",
            "grid_template_areas": null,
            "object_position": null,
            "object_fit": null,
            "grid_auto_columns": null,
            "margin": null,
            "display": null,
            "left": null
          }
        },
        "dfef4126c497444da882c34126772d7c": {
          "model_module": "@jupyter-widgets/controls",
          "model_name": "ProgressStyleModel",
          "model_module_version": "1.5.0",
          "state": {
            "_view_name": "StyleView",
            "_model_name": "ProgressStyleModel",
            "description_width": "",
            "_view_module": "@jupyter-widgets/base",
            "_model_module_version": "1.5.0",
            "_view_count": null,
            "_view_module_version": "1.2.0",
            "bar_color": null,
            "_model_module": "@jupyter-widgets/controls"
          }
        },
        "f76622adefd347529e3704378f600a62": {
          "model_module": "@jupyter-widgets/base",
          "model_name": "LayoutModel",
          "model_module_version": "1.2.0",
          "state": {
            "_view_name": "LayoutView",
            "grid_template_rows": null,
            "right": null,
            "justify_content": null,
            "_view_module": "@jupyter-widgets/base",
            "overflow": null,
            "_model_module_version": "1.2.0",
            "_view_count": null,
            "flex_flow": null,
            "width": null,
            "min_width": null,
            "border": null,
            "align_items": null,
            "bottom": null,
            "_model_module": "@jupyter-widgets/base",
            "top": null,
            "grid_column": null,
            "overflow_y": null,
            "overflow_x": null,
            "grid_auto_flow": null,
            "grid_area": null,
            "grid_template_columns": null,
            "flex": null,
            "_model_name": "LayoutModel",
            "justify_items": null,
            "grid_row": null,
            "max_height": null,
            "align_content": null,
            "visibility": null,
            "align_self": null,
            "height": null,
            "min_height": null,
            "padding": null,
            "grid_auto_rows": null,
            "grid_gap": null,
            "max_width": null,
            "order": null,
            "_view_module_version": "1.2.0",
            "grid_template_areas": null,
            "object_position": null,
            "object_fit": null,
            "grid_auto_columns": null,
            "margin": null,
            "display": null,
            "left": null
          }
        },
        "15980bcac77e4143a717a06364bf9cbf": {
          "model_module": "@jupyter-widgets/controls",
          "model_name": "DescriptionStyleModel",
          "model_module_version": "1.5.0",
          "state": {
            "_view_name": "StyleView",
            "_model_name": "DescriptionStyleModel",
            "description_width": "",
            "_view_module": "@jupyter-widgets/base",
            "_model_module_version": "1.5.0",
            "_view_count": null,
            "_view_module_version": "1.2.0",
            "_model_module": "@jupyter-widgets/controls"
          }
        },
        "8842eb15da1d404e8c1edf7846167221": {
          "model_module": "@jupyter-widgets/base",
          "model_name": "LayoutModel",
          "model_module_version": "1.2.0",
          "state": {
            "_view_name": "LayoutView",
            "grid_template_rows": null,
            "right": null,
            "justify_content": null,
            "_view_module": "@jupyter-widgets/base",
            "overflow": null,
            "_model_module_version": "1.2.0",
            "_view_count": null,
            "flex_flow": null,
            "width": null,
            "min_width": null,
            "border": null,
            "align_items": null,
            "bottom": null,
            "_model_module": "@jupyter-widgets/base",
            "top": null,
            "grid_column": null,
            "overflow_y": null,
            "overflow_x": null,
            "grid_auto_flow": null,
            "grid_area": null,
            "grid_template_columns": null,
            "flex": null,
            "_model_name": "LayoutModel",
            "justify_items": null,
            "grid_row": null,
            "max_height": null,
            "align_content": null,
            "visibility": null,
            "align_self": null,
            "height": null,
            "min_height": null,
            "padding": null,
            "grid_auto_rows": null,
            "grid_gap": null,
            "max_width": null,
            "order": null,
            "_view_module_version": "1.2.0",
            "grid_template_areas": null,
            "object_position": null,
            "object_fit": null,
            "grid_auto_columns": null,
            "margin": null,
            "display": null,
            "left": null
          }
        },
        "a197071566894189b7e6d1a4161304d5": {
          "model_module": "@jupyter-widgets/controls",
          "model_name": "HBoxModel",
          "model_module_version": "1.5.0",
          "state": {
            "_view_name": "HBoxView",
            "_dom_classes": [],
            "_model_name": "HBoxModel",
            "_view_module": "@jupyter-widgets/controls",
            "_model_module_version": "1.5.0",
            "_view_count": null,
            "_view_module_version": "1.5.0",
            "box_style": "",
            "layout": "IPY_MODEL_8dc197293e664b6f8a62ee518735d8c2",
            "_model_module": "@jupyter-widgets/controls",
            "children": [
              "IPY_MODEL_a1b2f22044544a518d0110f167ff94a0",
              "IPY_MODEL_ce075e0e923e4b55ad0e12e69408e865",
              "IPY_MODEL_1494e7d6a71f4fc39668eb7db5659d0d"
            ]
          }
        },
        "8dc197293e664b6f8a62ee518735d8c2": {
          "model_module": "@jupyter-widgets/base",
          "model_name": "LayoutModel",
          "model_module_version": "1.2.0",
          "state": {
            "_view_name": "LayoutView",
            "grid_template_rows": null,
            "right": null,
            "justify_content": null,
            "_view_module": "@jupyter-widgets/base",
            "overflow": null,
            "_model_module_version": "1.2.0",
            "_view_count": null,
            "flex_flow": null,
            "width": null,
            "min_width": null,
            "border": null,
            "align_items": null,
            "bottom": null,
            "_model_module": "@jupyter-widgets/base",
            "top": null,
            "grid_column": null,
            "overflow_y": null,
            "overflow_x": null,
            "grid_auto_flow": null,
            "grid_area": null,
            "grid_template_columns": null,
            "flex": null,
            "_model_name": "LayoutModel",
            "justify_items": null,
            "grid_row": null,
            "max_height": null,
            "align_content": null,
            "visibility": null,
            "align_self": null,
            "height": null,
            "min_height": null,
            "padding": null,
            "grid_auto_rows": null,
            "grid_gap": null,
            "max_width": null,
            "order": null,
            "_view_module_version": "1.2.0",
            "grid_template_areas": null,
            "object_position": null,
            "object_fit": null,
            "grid_auto_columns": null,
            "margin": null,
            "display": null,
            "left": null
          }
        },
        "a1b2f22044544a518d0110f167ff94a0": {
          "model_module": "@jupyter-widgets/controls",
          "model_name": "HTMLModel",
          "model_module_version": "1.5.0",
          "state": {
            "_view_name": "HTMLView",
            "style": "IPY_MODEL_f697d745cb7147ad950c30a3edc0905e",
            "_dom_classes": [],
            "description": "",
            "_model_name": "HTMLModel",
            "placeholder": "​",
            "_view_module": "@jupyter-widgets/controls",
            "_model_module_version": "1.5.0",
            "value": "Downloading:  60%",
            "_view_count": null,
            "_view_module_version": "1.5.0",
            "description_tooltip": null,
            "_model_module": "@jupyter-widgets/controls",
            "layout": "IPY_MODEL_7c614694cda24e8da243f9ae1403e656"
          }
        },
        "ce075e0e923e4b55ad0e12e69408e865": {
          "model_module": "@jupyter-widgets/controls",
          "model_name": "FloatProgressModel",
          "model_module_version": "1.5.0",
          "state": {
            "_view_name": "ProgressView",
            "style": "IPY_MODEL_32d95374f5264626977c8901340f265f",
            "_dom_classes": [],
            "description": "",
            "_model_name": "FloatProgressModel",
            "bar_style": "",
            "max": 891691430,
            "_view_module": "@jupyter-widgets/controls",
            "_model_module_version": "1.5.0",
            "value": 535134208,
            "_view_count": null,
            "_view_module_version": "1.5.0",
            "orientation": "horizontal",
            "min": 0,
            "description_tooltip": null,
            "_model_module": "@jupyter-widgets/controls",
            "layout": "IPY_MODEL_b0d4922621514d8895e28fe9c2747b19"
          }
        },
        "1494e7d6a71f4fc39668eb7db5659d0d": {
          "model_module": "@jupyter-widgets/controls",
          "model_name": "HTMLModel",
          "model_module_version": "1.5.0",
          "state": {
            "_view_name": "HTMLView",
            "style": "IPY_MODEL_ed77065a66f149118bdf97229985c815",
            "_dom_classes": [],
            "description": "",
            "_model_name": "HTMLModel",
            "placeholder": "​",
            "_view_module": "@jupyter-widgets/controls",
            "_model_module_version": "1.5.0",
            "value": " 510M/850M [00:13&lt;00:11, 31.1MB/s]",
            "_view_count": null,
            "_view_module_version": "1.5.0",
            "description_tooltip": null,
            "_model_module": "@jupyter-widgets/controls",
            "layout": "IPY_MODEL_47294903b3b140f68309ede4b8a08eb7"
          }
        },
        "f697d745cb7147ad950c30a3edc0905e": {
          "model_module": "@jupyter-widgets/controls",
          "model_name": "DescriptionStyleModel",
          "model_module_version": "1.5.0",
          "state": {
            "_view_name": "StyleView",
            "_model_name": "DescriptionStyleModel",
            "description_width": "",
            "_view_module": "@jupyter-widgets/base",
            "_model_module_version": "1.5.0",
            "_view_count": null,
            "_view_module_version": "1.2.0",
            "_model_module": "@jupyter-widgets/controls"
          }
        },
        "7c614694cda24e8da243f9ae1403e656": {
          "model_module": "@jupyter-widgets/base",
          "model_name": "LayoutModel",
          "model_module_version": "1.2.0",
          "state": {
            "_view_name": "LayoutView",
            "grid_template_rows": null,
            "right": null,
            "justify_content": null,
            "_view_module": "@jupyter-widgets/base",
            "overflow": null,
            "_model_module_version": "1.2.0",
            "_view_count": null,
            "flex_flow": null,
            "width": null,
            "min_width": null,
            "border": null,
            "align_items": null,
            "bottom": null,
            "_model_module": "@jupyter-widgets/base",
            "top": null,
            "grid_column": null,
            "overflow_y": null,
            "overflow_x": null,
            "grid_auto_flow": null,
            "grid_area": null,
            "grid_template_columns": null,
            "flex": null,
            "_model_name": "LayoutModel",
            "justify_items": null,
            "grid_row": null,
            "max_height": null,
            "align_content": null,
            "visibility": null,
            "align_self": null,
            "height": null,
            "min_height": null,
            "padding": null,
            "grid_auto_rows": null,
            "grid_gap": null,
            "max_width": null,
            "order": null,
            "_view_module_version": "1.2.0",
            "grid_template_areas": null,
            "object_position": null,
            "object_fit": null,
            "grid_auto_columns": null,
            "margin": null,
            "display": null,
            "left": null
          }
        },
        "32d95374f5264626977c8901340f265f": {
          "model_module": "@jupyter-widgets/controls",
          "model_name": "ProgressStyleModel",
          "model_module_version": "1.5.0",
          "state": {
            "_view_name": "StyleView",
            "_model_name": "ProgressStyleModel",
            "description_width": "",
            "_view_module": "@jupyter-widgets/base",
            "_model_module_version": "1.5.0",
            "_view_count": null,
            "_view_module_version": "1.2.0",
            "bar_color": null,
            "_model_module": "@jupyter-widgets/controls"
          }
        },
        "b0d4922621514d8895e28fe9c2747b19": {
          "model_module": "@jupyter-widgets/base",
          "model_name": "LayoutModel",
          "model_module_version": "1.2.0",
          "state": {
            "_view_name": "LayoutView",
            "grid_template_rows": null,
            "right": null,
            "justify_content": null,
            "_view_module": "@jupyter-widgets/base",
            "overflow": null,
            "_model_module_version": "1.2.0",
            "_view_count": null,
            "flex_flow": null,
            "width": null,
            "min_width": null,
            "border": null,
            "align_items": null,
            "bottom": null,
            "_model_module": "@jupyter-widgets/base",
            "top": null,
            "grid_column": null,
            "overflow_y": null,
            "overflow_x": null,
            "grid_auto_flow": null,
            "grid_area": null,
            "grid_template_columns": null,
            "flex": null,
            "_model_name": "LayoutModel",
            "justify_items": null,
            "grid_row": null,
            "max_height": null,
            "align_content": null,
            "visibility": null,
            "align_self": null,
            "height": null,
            "min_height": null,
            "padding": null,
            "grid_auto_rows": null,
            "grid_gap": null,
            "max_width": null,
            "order": null,
            "_view_module_version": "1.2.0",
            "grid_template_areas": null,
            "object_position": null,
            "object_fit": null,
            "grid_auto_columns": null,
            "margin": null,
            "display": null,
            "left": null
          }
        },
        "ed77065a66f149118bdf97229985c815": {
          "model_module": "@jupyter-widgets/controls",
          "model_name": "DescriptionStyleModel",
          "model_module_version": "1.5.0",
          "state": {
            "_view_name": "StyleView",
            "_model_name": "DescriptionStyleModel",
            "description_width": "",
            "_view_module": "@jupyter-widgets/base",
            "_model_module_version": "1.5.0",
            "_view_count": null,
            "_view_module_version": "1.2.0",
            "_model_module": "@jupyter-widgets/controls"
          }
        },
        "47294903b3b140f68309ede4b8a08eb7": {
          "model_module": "@jupyter-widgets/base",
          "model_name": "LayoutModel",
          "model_module_version": "1.2.0",
          "state": {
            "_view_name": "LayoutView",
            "grid_template_rows": null,
            "right": null,
            "justify_content": null,
            "_view_module": "@jupyter-widgets/base",
            "overflow": null,
            "_model_module_version": "1.2.0",
            "_view_count": null,
            "flex_flow": null,
            "width": null,
            "min_width": null,
            "border": null,
            "align_items": null,
            "bottom": null,
            "_model_module": "@jupyter-widgets/base",
            "top": null,
            "grid_column": null,
            "overflow_y": null,
            "overflow_x": null,
            "grid_auto_flow": null,
            "grid_area": null,
            "grid_template_columns": null,
            "flex": null,
            "_model_name": "LayoutModel",
            "justify_items": null,
            "grid_row": null,
            "max_height": null,
            "align_content": null,
            "visibility": null,
            "align_self": null,
            "height": null,
            "min_height": null,
            "padding": null,
            "grid_auto_rows": null,
            "grid_gap": null,
            "max_width": null,
            "order": null,
            "_view_module_version": "1.2.0",
            "grid_template_areas": null,
            "object_position": null,
            "object_fit": null,
            "grid_auto_columns": null,
            "margin": null,
            "display": null,
            "left": null
          }
        }
      }
    }
  },
  "cells": [
    {
      "cell_type": "markdown",
      "metadata": {
        "id": "view-in-github",
        "colab_type": "text"
      },
      "source": [
        "<a href=\"https://colab.research.google.com/github/skywalker00001/Conterfactual-Reasoning-Project/blob/main/huggingface_t5_6_3.ipynb\" target=\"_parent\"><img src=\"https://colab.research.google.com/assets/colab-badge.svg\" alt=\"Open In Colab\"/></a>"
      ]
    },
    {
      "cell_type": "markdown",
      "source": [
        "Version 6.0\n",
        "\n",
        "ground truth using \"denosing\"\n",
        "\n",
        "find out the different pairs and only output those different things"
      ],
      "metadata": {
        "id": "Z2G7crDz4L8f"
      }
    },
    {
      "cell_type": "markdown",
      "source": [
        "# 1. Preparation"
      ],
      "metadata": {
        "id": "rCTEkdBKntFE"
      }
    },
    {
      "cell_type": "code",
      "execution_count": 1,
      "metadata": {
        "id": "p6esmL2vmo0D",
        "colab": {
          "base_uri": "https://localhost:8080/"
        },
        "outputId": "65aa70e0-87ff-46f8-8b97-ac7365eb7c16"
      },
      "outputs": [
        {
          "output_type": "stream",
          "name": "stdout",
          "text": [
            "Mounted at /content/drive\n"
          ]
        }
      ],
      "source": [
        "from google.colab import drive\n",
        "drive.mount('/content/drive')\n",
        "root = 'drive/MyDrive/LM/'"
      ]
    },
    {
      "cell_type": "code",
      "source": [
        "!pip install sentencepiece\n",
        "!pip install transformers -q\n",
        "!pip install wandb -q"
      ],
      "metadata": {
        "id": "X_UlorGdnHLt",
        "colab": {
          "base_uri": "https://localhost:8080/"
        },
        "outputId": "e857b642-4aaf-4b05-811a-bfa49c7a09d4"
      },
      "execution_count": 2,
      "outputs": [
        {
          "output_type": "stream",
          "name": "stdout",
          "text": [
            "Collecting sentencepiece\n",
            "  Downloading sentencepiece-0.1.96-cp37-cp37m-manylinux_2_17_x86_64.manylinux2014_x86_64.whl (1.2 MB)\n",
            "\u001b[K     |████████████████████████████████| 1.2 MB 3.2 MB/s \n",
            "\u001b[?25hInstalling collected packages: sentencepiece\n",
            "Successfully installed sentencepiece-0.1.96\n",
            "\u001b[K     |████████████████████████████████| 3.8 MB 2.1 MB/s \n",
            "\u001b[K     |████████████████████████████████| 67 kB 4.7 MB/s \n",
            "\u001b[K     |████████████████████████████████| 596 kB 59.1 MB/s \n",
            "\u001b[K     |████████████████████████████████| 895 kB 47.0 MB/s \n",
            "\u001b[K     |████████████████████████████████| 6.5 MB 50.3 MB/s \n",
            "\u001b[K     |████████████████████████████████| 1.7 MB 3.2 MB/s \n",
            "\u001b[K     |████████████████████████████████| 181 kB 58.4 MB/s \n",
            "\u001b[K     |████████████████████████████████| 144 kB 36.5 MB/s \n",
            "\u001b[K     |████████████████████████████████| 63 kB 1.6 MB/s \n",
            "\u001b[?25h  Building wheel for pathtools (setup.py) ... \u001b[?25l\u001b[?25hdone\n"
          ]
        }
      ]
    },
    {
      "cell_type": "code",
      "source": [
        "# Importing stock libraries\n",
        "import numpy as np\n",
        "import pandas as pd\n",
        "import time\n",
        "from tqdm import tqdm\n",
        "import os\n",
        "import regex as re\n",
        "import sys\n",
        "sys.path.append('/content/drive/MyDrive/LM/')\n",
        "from global_param import MyConfig\n",
        "import nltk\n",
        "nltk.download(\"punkt\")\n",
        "from nltk.tokenize.treebank import TreebankWordDetokenizer\n",
        "detokenizer = TreebankWordDetokenizer()\n",
        "\n",
        "import torch\n",
        "from torch import cuda\n",
        "import torch.nn.functional as F\n",
        "from torch.utils.data import Dataset, DataLoader, RandomSampler, SequentialSampler\n",
        "# Importing the T5 modules from huggingface/transformers\n",
        "from transformers import T5Tokenizer, T5ForConditionalGeneration\n",
        "\n",
        "# WandB – Import the wandb library\n",
        "import wandb"
      ],
      "metadata": {
        "id": "lmAP7b3pnLSL",
        "colab": {
          "base_uri": "https://localhost:8080/"
        },
        "outputId": "53e90b9c-1dec-45bd-ef4a-e0b5d8931f19"
      },
      "execution_count": 3,
      "outputs": [
        {
          "output_type": "stream",
          "name": "stdout",
          "text": [
            "[nltk_data] Downloading package punkt to /root/nltk_data...\n",
            "[nltk_data]   Unzipping tokenizers/punkt.zip.\n"
          ]
        }
      ]
    },
    {
      "cell_type": "code",
      "source": [
        "# Login to wandb to log the model run and all the parameters\n",
        "# 7229adacb32965027d73056a6927efd0365a00bc\n",
        "!wandb login"
      ],
      "metadata": {
        "id": "uAWMdyDonWV2",
        "colab": {
          "base_uri": "https://localhost:8080/"
        },
        "outputId": "bddbe799-2d47-4f5d-ce95-fdeb20638550"
      },
      "execution_count": 4,
      "outputs": [
        {
          "output_type": "stream",
          "name": "stdout",
          "text": [
            "\u001b[34m\u001b[1mwandb\u001b[0m: You can find your API key in your browser here: https://wandb.ai/authorize\n",
            "\u001b[34m\u001b[1mwandb\u001b[0m: Paste an API key from your profile and hit enter, or press ctrl+c to quit: \n",
            "\u001b[34m\u001b[1mwandb\u001b[0m: Appending key for api.wandb.ai to your netrc file: /root/.netrc\n"
          ]
        }
      ]
    },
    {
      "cell_type": "code",
      "source": [
        "myconfig = MyConfig()"
      ],
      "metadata": {
        "id": "2d9ku8imls0I"
      },
      "execution_count": 5,
      "outputs": []
    },
    {
      "cell_type": "code",
      "source": [
        "# Checking out the GPU we have access to. This is output is from the google colab version. \n",
        "!nvidia-smi"
      ],
      "metadata": {
        "id": "xM9n_9U3nO4A",
        "colab": {
          "base_uri": "https://localhost:8080/"
        },
        "outputId": "ee78c75b-7a95-49cf-d21c-24ec0ea7acb8"
      },
      "execution_count": 6,
      "outputs": [
        {
          "output_type": "stream",
          "name": "stdout",
          "text": [
            "Thu Mar 10 20:16:34 2022       \n",
            "+-----------------------------------------------------------------------------+\n",
            "| NVIDIA-SMI 460.32.03    Driver Version: 460.32.03    CUDA Version: 11.2     |\n",
            "|-------------------------------+----------------------+----------------------+\n",
            "| GPU  Name        Persistence-M| Bus-Id        Disp.A | Volatile Uncorr. ECC |\n",
            "| Fan  Temp  Perf  Pwr:Usage/Cap|         Memory-Usage | GPU-Util  Compute M. |\n",
            "|                               |                      |               MIG M. |\n",
            "|===============================+======================+======================|\n",
            "|   0  Tesla P100-PCIE...  Off  | 00000000:00:04.0 Off |                    0 |\n",
            "| N/A   40C    P0    26W / 250W |      0MiB / 16280MiB |      0%      Default |\n",
            "|                               |                      |                  N/A |\n",
            "+-------------------------------+----------------------+----------------------+\n",
            "                                                                               \n",
            "+-----------------------------------------------------------------------------+\n",
            "| Processes:                                                                  |\n",
            "|  GPU   GI   CI        PID   Type   Process name                  GPU Memory |\n",
            "|        ID   ID                                                   Usage      |\n",
            "|=============================================================================|\n",
            "|  No running processes found                                                 |\n",
            "+-----------------------------------------------------------------------------+\n"
          ]
        }
      ]
    },
    {
      "cell_type": "code",
      "source": [
        "# # Setting up the device for GPU usage\n",
        "\n",
        "device = 'cuda' if cuda.is_available() else 'cpu'\n",
        "print(\"Device is: \", device)\n",
        "\n",
        "# Set random seeds and deterministic pytorch for reproducibility\n",
        "#SEED = 42\n",
        "SEED = myconfig.SEED\n",
        "torch.manual_seed(SEED) # pytorch random seed\n",
        "np.random.seed(SEED) # numpy random seed\n",
        "torch.backends.cudnn.deterministic = True"
      ],
      "metadata": {
        "id": "TWzXE0OAnQ_5",
        "colab": {
          "base_uri": "https://localhost:8080/"
        },
        "outputId": "41220786-c61a-4bb2-d416-d90f4d007eb1"
      },
      "execution_count": 7,
      "outputs": [
        {
          "output_type": "stream",
          "name": "stdout",
          "text": [
            "Device is:  cuda\n"
          ]
        }
      ]
    },
    {
      "cell_type": "code",
      "source": [
        "# Global Parameter\n",
        "model_version = \"6.3\"\n",
        "\n",
        "load_version = \"6.2\"\n",
        "initial_epoch = 0\n",
        "\n",
        "# WandB – Initialize a new run\n",
        "wandb.init(project=\"counterfactual\"+model_version)\n",
        "\n",
        "# WandB – Config is a variable that holds and saves hyperparameters and inputs\n",
        "# Defining some key variables that will be used later on in the training  \n",
        "# config = wandb.config          # Initialize config\n",
        "# config.TRAIN_BATCH_SIZE = 16    # input batch size for training (default: 64)\n",
        "# config.VALID_BATCH_SIZE = 32    # input batch size for testing (default: 1000)\n",
        "# config.TRAIN_EPOCHS = 51        # number of epochs to train (default: 10)\n",
        "# config.VAL_EPOCHS = 1 \n",
        "# config.LEARNING_RATE = 1e-4    # learning rate (default: 0.01)\n",
        "# config.SEED = 42               # random seed (default: 42)\n",
        "# config.SOURCE_LEN = 150\n",
        "# config.TARGET_LEN = 110\n",
        "\n",
        "# WandB – Config is a variable that holds and saves hyperparameters and inputs\n",
        "# Defining some key variables that will be used later on in the training  \n",
        "config = wandb.config          # Initialize config\n",
        "config.TRAIN_BATCH_SIZE = 16    # input batch size for training (default: 64)\n",
        "config.VALID_BATCH_SIZE = 32    # input batch size for testing (default: 1000)\n",
        "#config.TRAIN_EPOCHS = myconfig.TRAIN_EPOCHS        # number of epochs to train (default: 10)\n",
        "config.TRAIN_EPOCHS = 41\n",
        "config.VAL_EPOCHS = myconfig.VAL_EPOCHS \n",
        "config.LEARNING_RATE = myconfig.LEARNING_RATE    # learning rate (default: 0.01)\n",
        "config.SEED = myconfig.SEED              # random seed (default: 42)\n",
        "config.SOURCE_LEN = 150\n",
        "config.TARGET_LEN = 70\n",
        "config.LOAD_PATH = root+'models/model'+load_version+'.tar'\n",
        "config.SAVE_PATH = root+'models/model'+model_version+'.tar'"
      ],
      "metadata": {
        "id": "AzFrt4dtF0dU",
        "colab": {
          "base_uri": "https://localhost:8080/",
          "height": 85
        },
        "outputId": "4a5770ae-059d-4f6b-9b76-efa0faa40210"
      },
      "execution_count": 8,
      "outputs": [
        {
          "output_type": "stream",
          "name": "stderr",
          "text": [
            "\u001b[34m\u001b[1mwandb\u001b[0m: Currently logged in as: \u001b[33mskywalk3r\u001b[0m (use `wandb login --relogin` to force relogin)\n"
          ]
        },
        {
          "output_type": "display_data",
          "data": {
            "text/html": [
              "Tracking run with wandb version 0.12.11"
            ],
            "text/plain": [
              "<IPython.core.display.HTML object>"
            ]
          },
          "metadata": {}
        },
        {
          "output_type": "display_data",
          "data": {
            "text/html": [
              "Run data is saved locally in <code>/content/wandb/run-20220310_201639-3obo5wbs</code>"
            ],
            "text/plain": [
              "<IPython.core.display.HTML object>"
            ]
          },
          "metadata": {}
        },
        {
          "output_type": "display_data",
          "data": {
            "text/html": [
              "Syncing run <strong><a href=\"https://wandb.ai/skywalk3r/counterfactual6.3/runs/3obo5wbs\" target=\"_blank\">youthful-morning-1</a></strong> to <a href=\"https://wandb.ai/skywalk3r/counterfactual6.3\" target=\"_blank\">Weights & Biases</a> (<a href=\"https://wandb.me/run\" target=\"_blank\">docs</a>)<br/>"
            ],
            "text/plain": [
              "<IPython.core.display.HTML object>"
            ]
          },
          "metadata": {}
        }
      ]
    },
    {
      "cell_type": "code",
      "source": [
        "PRETRAINED_MODEL_NAME =  myconfig.PRETRAINED_MODEL_NAME\n",
        "# tokenzier for encoding the text\n",
        "t5_tokenizer = T5Tokenizer.from_pretrained(PRETRAINED_MODEL_NAME)\n",
        "# Defining the model. We are using t5-base model and added a Language model layer on top for generation of Summary. \n",
        "# Further this model is sent to device (GPU/TPU) for using the hardware.\n",
        "model = T5ForConditionalGeneration.from_pretrained(PRETRAINED_MODEL_NAME)\n",
        "model = model.to(device)"
      ],
      "metadata": {
        "id": "j8dgmI7zq0g1",
        "colab": {
          "base_uri": "https://localhost:8080/",
          "height": 113,
          "referenced_widgets": [
            "cb63d8f05187400db53c08e3e041da2c",
            "5d50f5d2b6904baaaaf6ed73cfb017d8",
            "7c084cdfe34b4c46bc297211aee99776",
            "e32ea4cf384644b785f0c834fab75303",
            "e147c82d482646ed87b7264526dc365e",
            "a88282258bcd4104a7fdfe3643e1eb64",
            "421fa7393ad24d0b837e9c460d249380",
            "7c15dc9f32b44a07adc6982459fa5906",
            "c254b51ec4124377827717b988978125",
            "3c442403ee434409956abe159293c3e1",
            "b111a4ad9fb34f86a2fc55cb2fa4e5af",
            "2d6b8ffcae9e4870947ed0062006a765",
            "626351c51b214f37b2655a5729e02baa",
            "1ae2ef67f8ce4ebd86dbc05c52fbf65e",
            "a59916c021c943e1b95b7e172dce0f84",
            "af66f772ffc2404e989849661ae7fbe6",
            "06afa02a45454ce09b3ecd754f74a06b",
            "708f79fa12234117a871dbf1e1820513",
            "dfef4126c497444da882c34126772d7c",
            "f76622adefd347529e3704378f600a62",
            "15980bcac77e4143a717a06364bf9cbf",
            "8842eb15da1d404e8c1edf7846167221",
            "a197071566894189b7e6d1a4161304d5",
            "8dc197293e664b6f8a62ee518735d8c2",
            "a1b2f22044544a518d0110f167ff94a0",
            "ce075e0e923e4b55ad0e12e69408e865",
            "1494e7d6a71f4fc39668eb7db5659d0d",
            "f697d745cb7147ad950c30a3edc0905e",
            "7c614694cda24e8da243f9ae1403e656",
            "32d95374f5264626977c8901340f265f",
            "b0d4922621514d8895e28fe9c2747b19",
            "ed77065a66f149118bdf97229985c815",
            "47294903b3b140f68309ede4b8a08eb7"
          ]
        },
        "outputId": "a1b1cc15-2571-470d-efb2-50aa7c125768"
      },
      "execution_count": null,
      "outputs": [
        {
          "output_type": "display_data",
          "data": {
            "application/vnd.jupyter.widget-view+json": {
              "model_id": "cb63d8f05187400db53c08e3e041da2c",
              "version_minor": 0,
              "version_major": 2
            },
            "text/plain": [
              "Downloading:   0%|          | 0.00/773k [00:00<?, ?B/s]"
            ]
          },
          "metadata": {}
        },
        {
          "output_type": "display_data",
          "data": {
            "application/vnd.jupyter.widget-view+json": {
              "model_id": "2d6b8ffcae9e4870947ed0062006a765",
              "version_minor": 0,
              "version_major": 2
            },
            "text/plain": [
              "Downloading:   0%|          | 0.00/1.17k [00:00<?, ?B/s]"
            ]
          },
          "metadata": {}
        },
        {
          "output_type": "display_data",
          "data": {
            "application/vnd.jupyter.widget-view+json": {
              "model_id": "a197071566894189b7e6d1a4161304d5",
              "version_minor": 0,
              "version_major": 2
            },
            "text/plain": [
              "Downloading:   0%|          | 0.00/850M [00:00<?, ?B/s]"
            ]
          },
          "metadata": {}
        }
      ]
    },
    {
      "cell_type": "code",
      "source": [
        "# Defining the optimizer that will be used to tune the weights of the network in the training session. \n",
        "optimizer = torch.optim.Adam(params =  model.parameters(), lr=config.LEARNING_RATE)"
      ],
      "metadata": {
        "id": "Zw6FQ04JJV9h"
      },
      "execution_count": null,
      "outputs": []
    },
    {
      "cell_type": "markdown",
      "source": [
        "# 2. Load dataframe"
      ],
      "metadata": {
        "id": "4Mif3CnjnxYU"
      }
    },
    {
      "cell_type": "code",
      "source": [
        "#training df\n",
        "small_path = root + '/TimeTravel/cleaned_small_2.0.xlsx'\n",
        "small_df = pd.read_excel(small_path)\n",
        "#small_df.head()\n",
        "print(len(small_df))"
      ],
      "metadata": {
        "id": "zxasBdcGnvCf"
      },
      "execution_count": null,
      "outputs": []
    },
    {
      "cell_type": "code",
      "source": [
        "small_df.head(3)"
      ],
      "metadata": {
        "id": "PZtoL2YfoO9e"
      },
      "execution_count": null,
      "outputs": []
    },
    {
      "cell_type": "code",
      "source": [
        "#valid df\n",
        "large_path = root + '/TimeTravel/cleaned_large_2.0.xlsx'\n",
        "large_df = pd.read_excel(large_path)\n",
        "#large_df.head()\n",
        "print(len(large_df))"
      ],
      "metadata": {
        "id": "vAUXyCytp6ZD"
      },
      "execution_count": null,
      "outputs": []
    },
    {
      "cell_type": "code",
      "source": [
        "small_ids = []\n",
        "for i in range(len(small_df)):\n",
        "    small_ids.append(small_df.loc[i, 'story_id'])\n",
        "\n",
        "print(len(small_ids))"
      ],
      "metadata": {
        "id": "H5G4F6JZrq9Q"
      },
      "execution_count": null,
      "outputs": []
    },
    {
      "cell_type": "code",
      "source": [
        "large_df = large_df[~large_df.story_id.isin(small_ids)]\n",
        "large_df = large_df.reset_index(drop=True)   # must reset index after delete rows\n",
        "print(len(large_df))"
      ],
      "metadata": {
        "id": "3cnqSduyrWx4"
      },
      "execution_count": null,
      "outputs": []
    },
    {
      "cell_type": "code",
      "source": [
        "# select data not in training set\n",
        "part_large_cleaned_df = large_df[0:100]\n",
        "#part_large_cleaned_df = large_cleaned_df[0:1000]\n",
        "part_large_cleaned_df = part_large_cleaned_df.reset_index(drop=True)\n",
        "print(len(part_large_cleaned_df))"
      ],
      "metadata": {
        "id": "5hWewdbDG9oc"
      },
      "execution_count": null,
      "outputs": []
    },
    {
      "cell_type": "code",
      "source": [
        ""
      ],
      "metadata": {
        "id": "Coh28LFm0jWk"
      },
      "execution_count": null,
      "outputs": []
    },
    {
      "cell_type": "markdown",
      "source": [
        "# 3. Dataset and Dataloader"
      ],
      "metadata": {
        "id": "dcFsA1QQnpel"
      }
    },
    {
      "cell_type": "code",
      "source": [
        "# Creating a custom dataset for reading the dataframe and loading it into the dataloader to pass it to the neural network at a later stage for finetuning the model and to prepare it for predictions\n",
        "\n",
        "class CustomDataset(Dataset):\n",
        "\n",
        "    def __init__(self, dataframe, tokenizer, input_len, output_len):\n",
        "        self.tokenizer = tokenizer\n",
        "        self.data = dataframe\n",
        "        self.input_len = input_len\n",
        "        self.output_len = output_len\n",
        "        self.input = self.data.input1\n",
        "        self.output = self.data.output1\n",
        "        \n",
        "\n",
        "    def __len__(self):\n",
        "        return len(self.data)\n",
        "\n",
        "    def __getitem__(self, index):\n",
        "        input = str(self.input[index])\n",
        "        # input = ' '.join(input.split())\n",
        "\n",
        "        output = str(self.output[index])\n",
        "        # output = ' '.join(output.split())\n",
        "\n",
        "        source = self.tokenizer.encode_plus(input, max_length= self.input_len, padding='max_length', return_tensors='pt')\n",
        "        target = self.tokenizer.encode_plus(output, max_length= self.output_len, padding='max_length', return_tensors='pt')\n",
        "\n",
        "        source_ids = source['input_ids'].squeeze()\n",
        "        source_mask = source['attention_mask'].squeeze()\n",
        "        target_ids = target['input_ids'].squeeze()\n",
        "        target_mask = target['attention_mask'].squeeze()\n",
        "\n",
        "        return {\n",
        "            'source_ids': source_ids.to(dtype=torch.long), \n",
        "            'source_mask': source_mask.to(dtype=torch.long), \n",
        "            'target_ids': target_ids.to(dtype=torch.long),\n",
        "            'target_ids_y': target_ids.to(dtype=torch.long)\n",
        "        }"
      ],
      "metadata": {
        "id": "09xuAFkDnf9j"
      },
      "execution_count": null,
      "outputs": []
    },
    {
      "cell_type": "code",
      "source": [
        "train_df = small_df\n",
        "valid_df = part_large_cleaned_df\n",
        "\n",
        "trainingset = CustomDataset(dataframe=train_df, tokenizer=t5_tokenizer, input_len=config.SOURCE_LEN , output_len=config.TARGET_LEN )\n",
        "validset = CustomDataset(dataframe=valid_df, tokenizer=t5_tokenizer, input_len=config.SOURCE_LEN , output_len=config.TARGET_LEN )"
      ],
      "metadata": {
        "id": "ybW0gTCtse_G"
      },
      "execution_count": null,
      "outputs": []
    },
    {
      "cell_type": "code",
      "source": [
        "# max_sou_len = 0\n",
        "# max_tar_len = 0\n",
        "# for i in range(len(small_df)):\n",
        "#     input = small_df.loc[i, 'input1']\n",
        "#     output = small_df.loc[i, 'output1']\n",
        "#     source = t5_tokenizer.encode_plus(input, return_tensors='pt')['input_ids'].squeeze()\n",
        "#     target = t5_tokenizer.encode_plus(output, return_tensors='pt')['input_ids'].squeeze()\n",
        "#     max_sou_len = max(max_sou_len, len(source))\n",
        "#     max_tar_len = max(max_tar_len, len(target))\n",
        "\n",
        "\n",
        "# print(max_sou_len)\n",
        "# print(max_tar_len)"
      ],
      "metadata": {
        "id": "OGtgLgcg2Bes"
      },
      "execution_count": null,
      "outputs": []
    },
    {
      "cell_type": "code",
      "source": [
        "# max_sou_len = 0\n",
        "# max_tar_len = 0\n",
        "# for i in range(len(large_df)):\n",
        "#     input = large_df.loc[i, 'input1']\n",
        "#     output = large_df.loc[i, 'output1']\n",
        "#     source = t5_tokenizer.encode_plus(input, return_tensors='pt')['input_ids'].squeeze()\n",
        "#     target = t5_tokenizer.encode_plus(output, return_tensors='pt')['input_ids'].squeeze()\n",
        "#     max_sou_len = max(max_sou_len, len(source))\n",
        "#     max_tar_len = max(max_tar_len, len(target))\n",
        "\n",
        "\n",
        "# print(max_sou_len)\n",
        "# print(max_tar_len)"
      ],
      "metadata": {
        "id": "LC0W6k7z3SGh"
      },
      "execution_count": null,
      "outputs": []
    },
    {
      "cell_type": "code",
      "source": [
        "# pick up a data sample\n",
        "sample_idx = 4\n",
        "sample = trainingset[sample_idx]\n",
        "\n",
        "source_ids = sample[\"source_ids\"]\n",
        "source_mask = sample[\"source_mask\"]\n",
        "target_ids = sample[\"target_ids\"]\n",
        "target_ids_y = sample[\"target_ids_y\"]\n",
        "\n",
        "print(source_ids)"
      ],
      "metadata": {
        "id": "SeeGPPuitkTH"
      },
      "execution_count": null,
      "outputs": []
    },
    {
      "cell_type": "code",
      "source": [
        "print(train_df.loc[sample_idx, 'output1'])\n",
        "\n",
        "sen = t5_tokenizer.decode(target_ids, skip_special_tokens=False) # skip_special_tokens=True will be completely same.\n",
        "print(sen)\n",
        "sen = t5_tokenizer.decode(source_ids, skip_special_tokens=False) # skip_special_tokens=True will be completely same.\n",
        "print(sen)\n"
      ],
      "metadata": {
        "id": "ej_c-RkEtkb7"
      },
      "execution_count": null,
      "outputs": []
    },
    {
      "cell_type": "code",
      "source": [
        "# DataLoader\n",
        "\n",
        "train_params = {\n",
        "    'batch_size': config.TRAIN_BATCH_SIZE,\n",
        "    'shuffle': True,\n",
        "    'num_workers': 2\n",
        "    }\n",
        "\n",
        "val_params = {\n",
        "    'batch_size': config.VALID_BATCH_SIZE,\n",
        "    'shuffle': False,\n",
        "    'num_workers': 2\n",
        "    }\n",
        "\n",
        "training_loader = DataLoader(trainingset, **train_params)\n",
        "val_loader = DataLoader(validset, **val_params)\n",
        "print(len(training_loader))\n",
        "print(len(val_loader))"
      ],
      "metadata": {
        "id": "fY1CfrsuwgaQ"
      },
      "execution_count": null,
      "outputs": []
    },
    {
      "cell_type": "markdown",
      "source": [
        "# 4. Define train() and val()"
      ],
      "metadata": {
        "id": "sT0T9bEQxUE2"
      }
    },
    {
      "cell_type": "code",
      "source": [
        "def save_model(epoch, model, optimizer, loss, PATH):\n",
        "    torch.save({\n",
        "            'epoch': epoch,\n",
        "            'model_state_dict': model.state_dict(),\n",
        "            'optimizer_state_dict': optimizer.state_dict(),\n",
        "            'loss': loss\n",
        "            }, PATH)"
      ],
      "metadata": {
        "id": "hqzjlHq3os1R"
      },
      "execution_count": null,
      "outputs": []
    },
    {
      "cell_type": "code",
      "source": [
        "def load_model(PATH):\n",
        "    checkpoint = torch.load(PATH)\n",
        "    model.load_state_dict(checkpoint['model_state_dict'])\n",
        "    optimizer.load_state_dict(checkpoint['optimizer_state_dict'])\n",
        "    epoch = checkpoint['epoch']\n",
        "    loss = checkpoint['loss']\n",
        "    return model, optimizer, epoch, loss"
      ],
      "metadata": {
        "id": "_2W6n0YDovfS"
      },
      "execution_count": null,
      "outputs": []
    },
    {
      "cell_type": "code",
      "source": [
        "# Creating the training function. This will be called in the main function. It is run depending on the epoch value.\n",
        "# The model is put into train mode and then we wnumerate over the training loader and passed to the defined network \n",
        "\n",
        "def train(epoch, tokenizer, model, device, loader, optimizer):\n",
        "    model.train()\n",
        "    for i,data in enumerate(loader):\n",
        "        #len(loader)=10xx\n",
        "        ids = data['source_ids'].to(device, dtype = torch.long)\n",
        "        mask = data['source_mask'].to(device, dtype = torch.long)\n",
        "        y = data['target_ids'].to(device, dtype = torch.long)\n",
        "\n",
        "        # padded ids (pad=0) are set to -100, which means ignore for loss calculation\n",
        "        y[y[: ,:] == tokenizer.pad_token_id ] = -100\n",
        "        label_ids = y.to(device)\n",
        "\n",
        "        outputs = model(input_ids = ids, attention_mask = mask, labels=label_ids)\n",
        "        loss = outputs[0]\n",
        "        #logit = outputs[1]\n",
        "        \n",
        "        if i%50 == 0:\n",
        "            wandb.log({\"Training Loss\": loss.item()})\n",
        "\n",
        "        if i%600==0:\n",
        "            print(f'Epoch: {epoch}, Loss:  {loss.item()}')\n",
        "        \n",
        "        optimizer.zero_grad()\n",
        "        loss.backward()\n",
        "        optimizer.step()\n",
        "        \n",
        "        # xm.optimizer_step(optimizer)\n",
        "        # xm.mark_step()\n",
        "   \n",
        "    if (epoch % 5 == 0):\n",
        "        save_model(epoch, model, optimizer, loss.item(), config.SAVE_PATH)\n",
        " "
      ],
      "metadata": {
        "id": "yA6SQwTYxWaJ"
      },
      "execution_count": null,
      "outputs": []
    },
    {
      "cell_type": "code",
      "source": [
        "def validate(tokenizer, model, device, loader):\n",
        "    model.eval()\n",
        "    predictions = []\n",
        "    actuals = []\n",
        "    raws = []\n",
        "    final_loss = 0\n",
        "    with torch.no_grad():\n",
        "        for i, data in enumerate(loader):\n",
        "            y = data['target_ids'].to(device, dtype = torch.long)\n",
        "            ids = data['source_ids'].to(device, dtype = torch.long)\n",
        "            mask = data['source_mask'].to(device, dtype = torch.long)\n",
        "\n",
        "            '''\n",
        "            generated_ids = model.generate(\n",
        "                input_ids = ids,\n",
        "                attention_mask = mask, \n",
        "                num_beams=2,\n",
        "                max_length=config.TARGET_LEN, \n",
        "                repetition_penalty=2.5, \n",
        "                length_penalty=1.0, \n",
        "                early_stopping=True\n",
        "                )\n",
        "            '''\n",
        "            generated_ids = model.generate(\n",
        "                input_ids = ids,\n",
        "                attention_mask = mask, \n",
        "                num_beams=2,\n",
        "                max_length=config.TARGET_LEN, \n",
        "                repetition_penalty=2.5, \n",
        "                length_penalty=1.0, \n",
        "                early_stopping=True\n",
        "                )\n",
        "            loss = model(input_ids=ids, attention_mask=mask, labels=y).loss\n",
        "            final_loss += loss\n",
        "\n",
        "            raw = [tokenizer.decode(i, skip_special_tokens=False) for i in ids]\n",
        "            preds = [tokenizer.decode(i, skip_special_tokens=False) for i in generated_ids]\n",
        "            target = [tokenizer.decode(i, skip_special_tokens=False)for i in y]\n",
        "            if i%3==0:\n",
        "                print(f'valid Completed {(i+1)* config.VALID_BATCH_SIZE}')\n",
        "\n",
        "            raws.extend(raw)\n",
        "            predictions.extend(preds)\n",
        "            actuals.extend(target)\n",
        "    return raws, predictions, actuals, final_loss"
      ],
      "metadata": {
        "id": "kVLrtY7P6KHH"
      },
      "execution_count": null,
      "outputs": []
    },
    {
      "cell_type": "markdown",
      "source": [
        "# 5. main()"
      ],
      "metadata": {
        "id": "0WpWFy1wFrAM"
      }
    },
    {
      "cell_type": "code",
      "source": [
        "import time\n",
        "# Helper function to print time between epochs\n",
        "def epoch_time(start_time, end_time):\n",
        "    elapsed_time = end_time - start_time\n",
        "    elapsed_mins = int(elapsed_time / 60)\n",
        "    elapsed_secs = int(elapsed_time - (elapsed_mins * 60))\n",
        "    return elapsed_mins, elapsed_secs"
      ],
      "metadata": {
        "id": "rGfmTknmFt4w"
      },
      "execution_count": null,
      "outputs": []
    },
    {
      "cell_type": "code",
      "source": [
        "# if need, load model\n",
        "\n",
        "loss = 0\n",
        "if (load_version != None and load_version != \"\"):\n",
        "    model, optimizer, initial_epoch, loss = load_model(config.LOAD_PATH)\n",
        "print(loss)"
      ],
      "metadata": {
        "id": "vobsacCppo0g"
      },
      "execution_count": null,
      "outputs": []
    },
    {
      "cell_type": "code",
      "source": [
        "# Log metrics with wandb\n",
        "#wandb.watch(model, log=\"all\")\n",
        "\n",
        "# Training loop\n",
        "print('Initiating Fine-Tuning for the model on counterfactual dataset:')\n",
        "\n",
        "for epoch in range(initial_epoch, initial_epoch+config.TRAIN_EPOCHS):\n",
        "#for epoch in tqdm(range(config.TRAIN_EPOCHS)):\n",
        "    start_time = time.time()\n",
        "    train(epoch, t5_tokenizer, model, device, training_loader, optimizer)\n",
        "    end_time = time.time()\n",
        "    epoch_mins, epoch_secs = epoch_time(start_time, end_time)\n",
        "    print(f'Epoch: {epoch:02} | Epoch Time: {epoch_mins}m {epoch_secs}s')\n",
        "\n",
        "# Mark the run as finished\n",
        "wandb.finish()"
      ],
      "metadata": {
        "id": "fhOCd_QgIHMu"
      },
      "execution_count": null,
      "outputs": []
    },
    {
      "cell_type": "code",
      "source": [
        "# Load model\n",
        "# model = T5ForConditionalGeneration.from_pretrained(PRETRAINED_MODEL_NAME)\n",
        "# model = model.to(device)\n",
        "# optimizer = torch.optim.Adam(params =  model.parameters(), lr=config.LEARNING_RATE)\n",
        "\n",
        "# model, optimizer, epoch, loss = load_model(config.LOAD_PATH)"
      ],
      "metadata": {
        "id": "zylwN_UzqDzr"
      },
      "execution_count": null,
      "outputs": []
    },
    {
      "cell_type": "code",
      "source": [
        ""
      ],
      "metadata": {
        "id": "xOox9cG9qmOv"
      },
      "execution_count": null,
      "outputs": []
    },
    {
      "cell_type": "markdown",
      "source": [
        "# 6. Inference"
      ],
      "metadata": {
        "id": "poozHoB5HwgE"
      }
    },
    {
      "cell_type": "code",
      "source": [
        "# # load model\n",
        "# model, optimizer, initial_epoch, loss = load_model(config.LOAD_PATH)\n",
        "# print(loss)"
      ],
      "metadata": {
        "id": "ZCqxgDd2ZNcu"
      },
      "execution_count": null,
      "outputs": []
    },
    {
      "cell_type": "code",
      "source": [
        "# Validation loop and saving the resulting file with predictions and acutals in a dataframe.\n",
        "# Saving the dataframe as predictions.csv\n",
        "print('Now inferecing:')\n",
        "start_time = time.time()\n",
        "raws, predictions, actuals,final_loss = validate(t5_tokenizer, model, device, val_loader)\n",
        "end_time = time.time()\n",
        "epoch_mins, epoch_secs = epoch_time(start_time, end_time)\n",
        "print(f'Time: {epoch_mins}m {epoch_secs}s')\n",
        "\n",
        "final_df = pd.DataFrame({'input_text': raws, 'ground_truth': actuals, 'generated_text': predictions})\n",
        "#final_df.to_csv(root + 'results/' + 'output' + model_version + '.csv')\n",
        "final_df.to_excel(root + 'results/' + 'output' + model_version + '.xlsx')\n",
        "print('Output Files generated for review')\n",
        "print(f'Final Loss is: {final_loss:.5f}')"
      ],
      "metadata": {
        "id": "dP6Yf2qcKVed"
      },
      "execution_count": null,
      "outputs": []
    },
    {
      "cell_type": "code",
      "source": [
        "print(len(actuals))"
      ],
      "metadata": {
        "id": "f4_2T5_uZuj4"
      },
      "execution_count": null,
      "outputs": []
    },
    {
      "cell_type": "code",
      "source": [
        ""
      ],
      "metadata": {
        "id": "LJwDlZNfy4Bd"
      },
      "execution_count": null,
      "outputs": []
    },
    {
      "cell_type": "code",
      "source": [
        ""
      ],
      "metadata": {
        "id": "6H-7UpFRy4JP"
      },
      "execution_count": null,
      "outputs": []
    },
    {
      "cell_type": "code",
      "source": [
        ""
      ],
      "metadata": {
        "id": "fdH3KS3Ky4Lq"
      },
      "execution_count": null,
      "outputs": []
    },
    {
      "cell_type": "markdown",
      "source": [
        "# 7. check the samples with same original ending and edited ending"
      ],
      "metadata": {
        "id": "me4BBbvNqRlH"
      }
    },
    {
      "cell_type": "code",
      "source": [
        "# import pandas as pd\n",
        "# import regex as re\n",
        "\n",
        "result_df = pd.read_excel(root + 'results/' + 'output_beam1' + model_version + '.xlsx')\n",
        "result_df.head()\n",
        "print(len(result_df))"
      ],
      "metadata": {
        "colab": {
          "base_uri": "https://localhost:8080/"
        },
        "id": "HgyO4dK7qRET",
        "outputId": "9df7429c-cec1-46a0-99a2-d4d048e466a8"
      },
      "execution_count": null,
      "outputs": [
        {
          "output_type": "stream",
          "name": "stdout",
          "text": [
            "1000\n"
          ]
        }
      ]
    },
    {
      "cell_type": "code",
      "source": [
        "or_pat = re.compile(r'(original_ending: )(.*)$') \n",
        "ed_pat = re.compile(r'(edited_ending: )(.*)$') \n",
        "pipei = re.search(ed_pat, result_df.iloc[0].generated_text)\n",
        "# pipei = re.search(or_pat, result_df.iloc[0].raw_text)\n",
        "print(pipei.group(2))"
      ],
      "metadata": {
        "colab": {
          "base_uri": "https://localhost:8080/"
        },
        "id": "HRANrmBrqRG1",
        "outputId": "8a1e9c35-981c-4d8b-c04d-5e62733b75aa"
      },
      "execution_count": null,
      "outputs": [
        {
          "output_type": "stream",
          "name": "stdout",
          "text": [
            "Soon, they wanted to spend time with her. She reflected on why she was so nice. She decided she needed to be a more loving person.\n"
          ]
        }
      ]
    },
    {
      "cell_type": "code",
      "source": [
        "re_pat = re.compile(r'(original_ending: )(.*)$')  # regular expression, pick the  text after \"original_ending: \"\n",
        "#orig =  = re.search(re_pat, te).group(2)\n",
        "or_text = [] # or for original_ending\n",
        "ed_text = [] # ed for edited_ending\n",
        "\n",
        "for i in range(len(result_df)):\n",
        "    or_text.append(re.search(or_pat, result_df.loc[i, \"raw_text\"]).group(2))\n",
        "    ed_text.append(re.search(ed_pat, result_df.loc[i, \"generated_text\"]).group(2))\n",
        "print(len(or_text))\n",
        "print(len(ed_text))"
      ],
      "metadata": {
        "colab": {
          "base_uri": "https://localhost:8080/"
        },
        "id": "4jrrpDgtqovK",
        "outputId": "89214eff-cb33-4a6d-ba79-6568d573bdab"
      },
      "execution_count": null,
      "outputs": [
        {
          "output_type": "stream",
          "name": "stdout",
          "text": [
            "1000\n",
            "1000\n"
          ]
        }
      ]
    },
    {
      "cell_type": "code",
      "source": [
        "comparison = [i==j for i, j in zip(or_text, ed_text)]\n",
        "print(comparison)"
      ],
      "metadata": {
        "colab": {
          "base_uri": "https://localhost:8080/"
        },
        "id": "hrihgGDpqoxS",
        "outputId": "fedc522b-dbc3-4bd3-84d7-ee8f9b13bde7"
      },
      "execution_count": null,
      "outputs": [
        {
          "output_type": "stream",
          "name": "stdout",
          "text": [
            "[False, False, False, False, False, True, False, False, False, True, False, False, False, False, False, False, False, False, False, True, True, False, True, False, True, False, False, False, True, False, False, True, False, False, False, False, True, True, False, False, False, False, False, False, False, False, True, True, False, False, True, False, True, True, True, False, False, False, True, True, False, False, True, True, False, True, False, False, True, True, True, False, True, True, False, False, True, False, False, False, False, False, False, True, False, True, True, False, False, True, False, False, False, False, False, False, False, True, False, True, False, True, False, False, False, False, False, False, True, False, False, True, True, False, False, False, False, False, False, False, False, True, False, True, True, True, True, False, False, False, True, False, False, False, False, False, False, False, False, False, False, False, False, False, True, True, False, False, False, False, False, False, False, True, False, False, True, False, False, True, False, True, True, False, True, True, False, False, False, False, True, False, True, False, False, False, False, True, False, False, False, True, True, False, False, False, False, True, False, False, False, False, False, True, False, False, True, False, False, False, False, False, False, True, True, True, False, True, False, True, False, False, True, False, False, True, True, True, False, False, False, False, False, False, True, False, False, True, False, True, False, True, True, True, False, True, False, False, False, True, True, False, True, False, False, False, False, False, False, True, False, True, False, False, False, False, True, True, False, False, False, False, False, False, True, True, False, False, False, False, False, False, False, True, False, False, True, False, False, False, False, False, True, False, True, False, False, False, False, False, True, True, False, False, False, True, False, False, False, False, True, False, False, False, False, False, False, False, False, False, False, False, True, True, False, False, False, True, True, False, False, False, False, True, False, True, False, False, False, False, False, True, False, False, True, False, False, False, False, True, False, True, True, False, False, True, False, True, False, False, True, True, True, False, False, True, False, True, False, False, True, True, False, False, True, True, False, False, True, False, False, False, True, False, False, False, False, False, False, False, True, False, False, False, True, False, True, True, True, False, False, True, True, False, False, False, True, True, False, False, False, False, False, False, False, False, False, False, False, False, True, True, False, True, False, False, True, False, False, False, True, False, False, True, True, True, False, False, False, False, False, True, True, False, False, False, False, False, False, False, False, False, False, False, True, False, False, False, False, False, False, False, True, False, True, True, False, False, False, False, True, True, True, False, False, True, False, True, False, False, False, False, True, False, False, False, False, False, True, False, True, False, False, False, True, True, False, True, False, False, True, False, True, False, False, False, False, True, False, False, True, False, True, False, False, False, True, True, False, True, False, True, False, True, False, True, True, True, True, False, False, False, True, False, True, False, True, False, True, True, False, True, False, False, True, False, False, False, False, False, False, False, False, True, True, False, False, True, True, False, False, False, False, False, False, False, False, False, False, False, False, False, True, True, False, False, False, True, False, True, False, False, True, False, False, False, False, True, False, True, False, True, True, False, False, False, True, False, False, False, True, False, False, False, False, True, False, True, False, False, False, False, False, False, False, False, False, False, False, False, False, True, False, False, False, False, False, False, False, False, True, False, False, False, False, False, False, True, False, False, True, False, True, False, False, True, True, False, False, False, False, False, True, False, False, True, False, True, False, False, True, False, True, True, True, False, False, True, False, False, False, False, False, False, True, False, False, False, False, False, True, False, False, False, False, True, False, False, True, False, True, False, False, True, True, False, False, False, True, True, False, True, False, True, False, False, False, False, True, False, False, False, True, False, False, True, False, False, False, True, False, False, False, True, True, False, True, False, False, True, True, False, False, False, True, True, False, False, True, False, True, True, False, False, False, True, False, False, False, False, True, True, True, True, False, False, True, False, True, True, False, True, False, False, False, False, False, False, False, True, False, False, True, False, False, False, True, False, False, True, False, True, True, False, False, False, False, False, True, False, True, False, False, False, True, True, False, True, False, True, True, False, False, False, False, False, True, False, False, False, False, True, False, False, False, False, False, False, False, False, False, False, False, False, True, False, False, False, True, False, True, True, False, True, False, True, False, False, False, False, True, False, False, True, False, False, False, False, False, False, True, False, False, False, True, False, False, True, True, False, False, False, False, False, False, True, False, True, True, False, True, False, False, False, True, False, False, False, False, False, False, True, False, True, True, True, False, False, True, True, True, True, False, False, False, True, True, True, False, False, False, True, True, False, False, True, True, True, False, True, False, True, False, False, False, False, False, True, True, False, False, False, False, False, False, True, False, True, False, True, False, True, False, True, False, True, True, True, False, False, False, True, False, False, False, False, True, False, True, False, False, True, True, False, False, False, True, True, True, False, True, True, False, False, False, False, False, True, False, False, True, False, False, True, False, True, False, True, True, True, True, False, False, False, False, False, False, False, False, False, False, False, True, False, False, False, False, True, False, False, False, False, False, True, True, True, True, False, False, False]\n"
          ]
        }
      ]
    },
    {
      "cell_type": "code",
      "source": [
        "count =  pd.value_counts(comparison)\n",
        "print(count)"
      ],
      "metadata": {
        "colab": {
          "base_uri": "https://localhost:8080/"
        },
        "id": "B5Abkp3Tqozb",
        "outputId": "42a4e4d8-1913-4975-f0f8-94eef2ca94a8"
      },
      "execution_count": null,
      "outputs": [
        {
          "output_type": "stream",
          "name": "stdout",
          "text": [
            "False    678\n",
            "True     322\n",
            "dtype: int64\n"
          ]
        }
      ]
    },
    {
      "cell_type": "code",
      "source": [
        "result_df[comparison].head(10)"
      ],
      "metadata": {
        "colab": {
          "base_uri": "https://localhost:8080/",
          "height": 363
        },
        "id": "2hOjgOnmqo2A",
        "outputId": "77a47242-2f68-45c8-b5d8-21538566fdb2"
      },
      "execution_count": null,
      "outputs": [
        {
          "output_type": "execute_result",
          "data": {
            "text/html": [
              "\n",
              "  <div id=\"df-716cf424-5b5e-4118-a4f8-e67856edb18d\">\n",
              "    <div class=\"colab-df-container\">\n",
              "      <div>\n",
              "<style scoped>\n",
              "    .dataframe tbody tr th:only-of-type {\n",
              "        vertical-align: middle;\n",
              "    }\n",
              "\n",
              "    .dataframe tbody tr th {\n",
              "        vertical-align: top;\n",
              "    }\n",
              "\n",
              "    .dataframe thead th {\n",
              "        text-align: right;\n",
              "    }\n",
              "</style>\n",
              "<table border=\"1\" class=\"dataframe\">\n",
              "  <thead>\n",
              "    <tr style=\"text-align: right;\">\n",
              "      <th></th>\n",
              "      <th>Unnamed: 0</th>\n",
              "      <th>raw_text</th>\n",
              "      <th>ground_truth</th>\n",
              "      <th>generated_text</th>\n",
              "    </tr>\n",
              "  </thead>\n",
              "  <tbody>\n",
              "    <tr>\n",
              "      <th>5</th>\n",
              "      <td>5</td>\n",
              "      <td>premise: Pam is married to her Husband Jeff. i...</td>\n",
              "      <td>edited_ending: Jeff then became distant and wa...</td>\n",
              "      <td>edited_ending: Jeff isn't the same person anym...</td>\n",
              "    </tr>\n",
              "    <tr>\n",
              "      <th>9</th>\n",
              "      <td>9</td>\n",
              "      <td>premise: I am supposed to take food to a party...</td>\n",
              "      <td>edited_ending: I will have to spend all day co...</td>\n",
              "      <td>edited_ending: I spent all day yesterday cooki...</td>\n",
              "    </tr>\n",
              "    <tr>\n",
              "      <th>19</th>\n",
              "      <td>19</td>\n",
              "      <td>premise: Eli was a rambunctious child. initial...</td>\n",
              "      <td>edited_ending: Eli's mother constantly tried t...</td>\n",
              "      <td>edited_ending: Eli's mother constantly tried t...</td>\n",
              "    </tr>\n",
              "    <tr>\n",
              "      <th>20</th>\n",
              "      <td>20</td>\n",
              "      <td>premise: Jane was on her way to work. initial:...</td>\n",
              "      <td>edited_ending: It was a normal day of work. Ja...</td>\n",
              "      <td>edited_ending: She called her roommate who ver...</td>\n",
              "    </tr>\n",
              "    <tr>\n",
              "      <th>22</th>\n",
              "      <td>22</td>\n",
              "      <td>premise: Madeline was doing some gardening. in...</td>\n",
              "      <td>edited_ending: A snake had struck her! Her han...</td>\n",
              "      <td>edited_ending: A bee had stung her! Her hand s...</td>\n",
              "    </tr>\n",
              "    <tr>\n",
              "      <th>24</th>\n",
              "      <td>24</td>\n",
              "      <td>premise: Jenny was driving to work. initial: S...</td>\n",
              "      <td>edited_ending: A car tried to park near hers, ...</td>\n",
              "      <td>edited_ending: A car on her right did not stop...</td>\n",
              "    </tr>\n",
              "    <tr>\n",
              "      <th>28</th>\n",
              "      <td>28</td>\n",
              "      <td>premise: Alex knew the solution to a problem. ...</td>\n",
              "      <td>edited_ending: People thought Alex was dumb. A...</td>\n",
              "      <td>edited_ending: The people thought Alex was sma...</td>\n",
              "    </tr>\n",
              "    <tr>\n",
              "      <th>31</th>\n",
              "      <td>31</td>\n",
              "      <td>premise: Tiffany was excited to go to college ...</td>\n",
              "      <td>edited_ending: The two of them became very clo...</td>\n",
              "      <td>edited_ending: The three of them became very c...</td>\n",
              "    </tr>\n",
              "    <tr>\n",
              "      <th>36</th>\n",
              "      <td>36</td>\n",
              "      <td>premise: Bob wanted to see how many stories he...</td>\n",
              "      <td>edited_ending: Bob couldn't believe he'd told ...</td>\n",
              "      <td>edited_ending: Instead of information he got a...</td>\n",
              "    </tr>\n",
              "    <tr>\n",
              "      <th>37</th>\n",
              "      <td>37</td>\n",
              "      <td>premise: Melissa rode her bike to school every...</td>\n",
              "      <td>edited_ending: She was carried away on a stret...</td>\n",
              "      <td>edited_ending: She was carried away on a stret...</td>\n",
              "    </tr>\n",
              "  </tbody>\n",
              "</table>\n",
              "</div>\n",
              "      <button class=\"colab-df-convert\" onclick=\"convertToInteractive('df-716cf424-5b5e-4118-a4f8-e67856edb18d')\"\n",
              "              title=\"Convert this dataframe to an interactive table.\"\n",
              "              style=\"display:none;\">\n",
              "        \n",
              "  <svg xmlns=\"http://www.w3.org/2000/svg\" height=\"24px\"viewBox=\"0 0 24 24\"\n",
              "       width=\"24px\">\n",
              "    <path d=\"M0 0h24v24H0V0z\" fill=\"none\"/>\n",
              "    <path d=\"M18.56 5.44l.94 2.06.94-2.06 2.06-.94-2.06-.94-.94-2.06-.94 2.06-2.06.94zm-11 1L8.5 8.5l.94-2.06 2.06-.94-2.06-.94L8.5 2.5l-.94 2.06-2.06.94zm10 10l.94 2.06.94-2.06 2.06-.94-2.06-.94-.94-2.06-.94 2.06-2.06.94z\"/><path d=\"M17.41 7.96l-1.37-1.37c-.4-.4-.92-.59-1.43-.59-.52 0-1.04.2-1.43.59L10.3 9.45l-7.72 7.72c-.78.78-.78 2.05 0 2.83L4 21.41c.39.39.9.59 1.41.59.51 0 1.02-.2 1.41-.59l7.78-7.78 2.81-2.81c.8-.78.8-2.07 0-2.86zM5.41 20L4 18.59l7.72-7.72 1.47 1.35L5.41 20z\"/>\n",
              "  </svg>\n",
              "      </button>\n",
              "      \n",
              "  <style>\n",
              "    .colab-df-container {\n",
              "      display:flex;\n",
              "      flex-wrap:wrap;\n",
              "      gap: 12px;\n",
              "    }\n",
              "\n",
              "    .colab-df-convert {\n",
              "      background-color: #E8F0FE;\n",
              "      border: none;\n",
              "      border-radius: 50%;\n",
              "      cursor: pointer;\n",
              "      display: none;\n",
              "      fill: #1967D2;\n",
              "      height: 32px;\n",
              "      padding: 0 0 0 0;\n",
              "      width: 32px;\n",
              "    }\n",
              "\n",
              "    .colab-df-convert:hover {\n",
              "      background-color: #E2EBFA;\n",
              "      box-shadow: 0px 1px 2px rgba(60, 64, 67, 0.3), 0px 1px 3px 1px rgba(60, 64, 67, 0.15);\n",
              "      fill: #174EA6;\n",
              "    }\n",
              "\n",
              "    [theme=dark] .colab-df-convert {\n",
              "      background-color: #3B4455;\n",
              "      fill: #D2E3FC;\n",
              "    }\n",
              "\n",
              "    [theme=dark] .colab-df-convert:hover {\n",
              "      background-color: #434B5C;\n",
              "      box-shadow: 0px 1px 3px 1px rgba(0, 0, 0, 0.15);\n",
              "      filter: drop-shadow(0px 1px 2px rgba(0, 0, 0, 0.3));\n",
              "      fill: #FFFFFF;\n",
              "    }\n",
              "  </style>\n",
              "\n",
              "      <script>\n",
              "        const buttonEl =\n",
              "          document.querySelector('#df-716cf424-5b5e-4118-a4f8-e67856edb18d button.colab-df-convert');\n",
              "        buttonEl.style.display =\n",
              "          google.colab.kernel.accessAllowed ? 'block' : 'none';\n",
              "\n",
              "        async function convertToInteractive(key) {\n",
              "          const element = document.querySelector('#df-716cf424-5b5e-4118-a4f8-e67856edb18d');\n",
              "          const dataTable =\n",
              "            await google.colab.kernel.invokeFunction('convertToInteractive',\n",
              "                                                     [key], {});\n",
              "          if (!dataTable) return;\n",
              "\n",
              "          const docLinkHtml = 'Like what you see? Visit the ' +\n",
              "            '<a target=\"_blank\" href=https://colab.research.google.com/notebooks/data_table.ipynb>data table notebook</a>'\n",
              "            + ' to learn more about interactive tables.';\n",
              "          element.innerHTML = '';\n",
              "          dataTable['output_type'] = 'display_data';\n",
              "          await google.colab.output.renderOutput(dataTable, element);\n",
              "          const docLink = document.createElement('div');\n",
              "          docLink.innerHTML = docLinkHtml;\n",
              "          element.appendChild(docLink);\n",
              "        }\n",
              "      </script>\n",
              "    </div>\n",
              "  </div>\n",
              "  "
            ],
            "text/plain": [
              "    Unnamed: 0  ...                                     generated_text\n",
              "5            5  ...  edited_ending: Jeff isn't the same person anym...\n",
              "9            9  ...  edited_ending: I spent all day yesterday cooki...\n",
              "19          19  ...  edited_ending: Eli's mother constantly tried t...\n",
              "20          20  ...  edited_ending: She called her roommate who ver...\n",
              "22          22  ...  edited_ending: A bee had stung her! Her hand s...\n",
              "24          24  ...  edited_ending: A car on her right did not stop...\n",
              "28          28  ...  edited_ending: The people thought Alex was sma...\n",
              "31          31  ...  edited_ending: The three of them became very c...\n",
              "36          36  ...  edited_ending: Instead of information he got a...\n",
              "37          37  ...  edited_ending: She was carried away on a stret...\n",
              "\n",
              "[10 rows x 4 columns]"
            ]
          },
          "metadata": {},
          "execution_count": 62
        }
      ]
    },
    {
      "cell_type": "code",
      "source": [
        "same_df = result_df[comparison]\n",
        "same_df.reset_index(drop=True)"
      ],
      "metadata": {
        "id": "mBciXb5NoGnw"
      },
      "execution_count": null,
      "outputs": []
    },
    {
      "cell_type": "code",
      "source": [
        "same_df.to_excel(root + 'results/' + 'output_same_b1' + model_version + '.xlsx')"
      ],
      "metadata": {
        "id": "mByWebeToK1y"
      },
      "execution_count": null,
      "outputs": []
    },
    {
      "cell_type": "markdown",
      "source": [
        "## pick some samples to test\n"
      ],
      "metadata": {
        "id": "TfIiYXrWpc6y"
      }
    },
    {
      "cell_type": "code",
      "source": [
        "model.eval()\n",
        "with torch.no_grad():\n",
        "    text = 'premise: I am supposed to take food to a party tomorrow. initial: I had bought all the ingredients for it last week. counterfactual: I need to buy all the ingredients for it after work today. original_ending: I spent all day yesterday cooking the food. Unfortunately, I burnt the food. I won\\'t be able to get new ingredients in time for tomorrow\\'s party.'\n",
        "\n",
        "    input_ids = tokenizer(text, return_tensors=\"pt\").input_ids.to(device)\n",
        "    outputs = model.generate(input_ids, max_length=config.TARGET_LEN, num_beams=2)\n",
        "    print(tokenizer.decode(outputs[0], skip_special_tokens=True))"
      ],
      "metadata": {
        "colab": {
          "base_uri": "https://localhost:8080/"
        },
        "id": "EAhN7qE8pfKC",
        "outputId": "348f1898-5392-4c58-c0a0-2aae2ea41fb2"
      },
      "execution_count": null,
      "outputs": [
        {
          "output_type": "stream",
          "name": "stdout",
          "text": [
            "edited_ending: I spent all day yesterday cooking the food. Unfortunately, I burnt the food. I won't be able to get new ingredients in time for tomorrow's party.\n"
          ]
        }
      ]
    },
    {
      "cell_type": "markdown",
      "source": [
        "# 8. Evalutation\n"
      ],
      "metadata": {
        "id": "EuQm4yApHjVN"
      }
    },
    {
      "cell_type": "markdown",
      "source": [
        "## 7.1 Blue score"
      ],
      "metadata": {
        "id": "FDMvjMMlHkxf"
      }
    },
    {
      "cell_type": "code",
      "source": [
        "# predicitions: y',  actuals: y\n",
        "from torchtext.data.metrics import bleu_score"
      ],
      "metadata": {
        "id": "Astekps9H1Ly"
      },
      "execution_count": null,
      "outputs": []
    },
    {
      "cell_type": "code",
      "source": [
        "pre_corpus = [i.split(\" \") for i in predictions]\n",
        "act_corpus = [i.split(\" \") for i in actuals]"
      ],
      "metadata": {
        "id": "tDCCxTFfIPlI"
      },
      "execution_count": null,
      "outputs": []
    },
    {
      "cell_type": "code",
      "source": [
        "print(act_corpus)"
      ],
      "metadata": {
        "colab": {
          "base_uri": "https://localhost:8080/"
        },
        "id": "zqbqZWTgJD7X",
        "outputId": "894be47e-938c-4b5e-ae87-a3b69eb54cdd"
      },
      "execution_count": null,
      "outputs": [
        {
          "output_type": "stream",
          "name": "stdout",
          "text": [
            "[['edited_ending:', 'Soon,everyone', 'wanted', 'to', 'spend', 'time', 'with', 'her.', 'She', 'reflected', 'on', 'if', 'she', 'could', 'be', 'nicer.', 'She', 'decided', 'she', 'needed', 'to', 'atleast', 'try', 'to', 'be', 'the', 'best', 'person', 'she', 'could', 'be.'], ['edited_ending:', 'Bill', 'congratulated', 'the', 'other', 'team.', 'He', 'also', 'went', 'into', 'the', 'locker', 'room', 'to', 'cry.', 'He', \"didn't\", 'tell', 'anyone', 'until', 'the', 'next', 'day.'], ['edited_ending:', 'She', 'jumped', 'over', 'the', 'fence', 'and', 'vanished.', 'Without', 'a', 'spare,', 'the', 'game', 'was', 'done.', 'They', 'were', 'forced', 'to', 'quit.'], ['edited_ending:', 'She', 'was', 'nervous', 'about', 'helping', 'the', 'people', 'and', 'making', 'them', 'feel', 'more', 'comfortable.', 'One', 'day', 'she', 'witnessed', 'something', 'that', 'she', 'could', 'never', 'forget.', 'She', 'decided', 'she', 'could', 'not', 'live', 'with', 'the', 'memories', 'and', 'quit', 'her', 'job.'], ['edited_ending:', 'I', 'tried', 'to', 'stay', 'quiet', 'and', 'busy.', 'I', 'knew', 'I', 'could', 'find', 'something', 'to', 'keep', 'myself', 'occupied.', 'I', 'kept', 'kept', 'to', 'myself', 'and', 'did', 'some', 'busy', 'work.'], ['edited_ending:', 'Jeff', 'then', 'became', 'distant', 'and', \"wasn't\", 'the', 'same', 'person', 'anymore.', 'Pam', 'decided', 'she', \"can't\", 'do', 'the', 'marriage', 'anymore', 'and', 'leaves.', 'Pam', 'and', 'Jeff', 'got', 'a', 'divorce', 'and', 'went', 'their', 'own', 'ways.'], ['edited_ending:', 'Then', 'the', 'salesman', 'took', 'my', 'measurements.', 'After', 'taking', 'my', 'measurements', 'I', 'picked', 'out', 'a', 'nice', 'green', 'suit.', 'I', 'paid', 'for', 'the', 'suit', 'and', 'now', 'I', \"can't\", 'wait', 'to', 'wear', 'it!'], ['edited_ending:', 'It', 'landed', 'on', 'a', \"pedestrian's\", 'foot.', 'The', 'pedestrian', 'thought', 'it', 'was', 'on', 'purpose.', 'He', 'punched', 'the', 'band', 'member.'], ['edited_ending:', 'She', 'felt', 'obliged,', 'but', 'she', 'chose', 'not', 'to', 'go.', 'All', 'of', 'the', 'sudden,', 'she', 'got', 'sick', 'when', 'she', 'woke', 'up', 'in', 'the', 'morning.', 'Kelley', 'would', 'have', 'been', 'very', 'embarrassed', 'if', 'that', 'had', 'happened', 'at', 'the', 'party.'], ['edited_ending:', 'I', 'will', 'have', 'to', 'spend', 'all', 'day', 'cooking', 'the', 'food.', 'I', 'hope', 'I', \"don't\", 'burn', 'the', 'food.', 'If', 'I', 'ruin', 'anything', 'I', \"won't\", 'have', 'time', 'to', 'get', 'new', 'ingredients', 'and', 'cook', 'anything', 'else', 'before', 'tomorrow.'], ['edited_ending:', 'On', 'this', 'day,', 'a', 'man', 'jumped', 'from', 'behind', 'the', 'trees', 'and', 'Ligeti', 'laughed', 'at', 'him.', 'The', 'boy', 'ran', 'all', 'the', 'way', 'home,', 'laughing.', 'The', 'boy', 'grew', 'up', 'to', 'be', 'ready', 'to', 'face', 'the', 'unknown.'], ['edited_ending:', 'All', 'of', 'a', 'sudden', 'she', 'freaked', 'out.', 'She', 'thought', 'her', 'earrings', 'were', 'lost.', 'It', 'took', 'Kate', 'one', 'hour', 'to', 'realized', 'she', 'had', 'already', 'taken', 'her', 'jewelry', 'off', 'before', 'swimming', 'and', 'they', 'were', 'in', 'her', 'purse.'], ['edited_ending:', 'The', 'day', 'of', 'prom,', 'Hannah', 'put', 'on', 'her', \"sister's\", 'old', 'dress.', 'When', 'she', 'arrived', 'to', 'prom,', 'she', 'saw', 'another', 'girl', 'had', 'the', 'same', 'dress!', 'Hannah', 'was', 'disappointed', 'and', 'wished', 'she', 'had', 'found', 'a', 'different', 'dress.'], ['edited_ending:', 'Liz', 'had', 'a', 'new', 'car', 'but', \"didn't\", 'want', 'Kate', 'to', 'get', 'sick', 'inside.', 'She', 'refused', 'to', 'take', 'her', 'car.', 'In', 'the', 'end', 'they', 'decided', 'to', 'take', \"Kate's\", 'car.'], ['edited_ending:', 'Calling', 'his', 'name,', 'he', \"didn't\", 'respond', 'to', 'his', 'mother', 'until', 'she', 'pulled', 'him', 'into', 'the', 'car.', 'They', 'were', 'off', 'to', 'see', 'the', 'the', 'doctor.', 'The', 'doctor', 'checked', 'his', 'ear', 'and', 'said', '\"You', 'have', 'a', 'lot', 'of', 'ear', 'wax!\"'], ['edited_ending:', 'Finally', 'Sam', 'saw', 'there', 'was', 'a', 'car', 'accident.', 'That', 'explained', 'why', 'the', 'traffic', 'was', 'so', 'heavy.', 'Once', 'Sam', 'bypassed', 'it,', 'she', 'was', 'in', 'her', 'way.'], ['edited_ending:', 'The', 'cat', 'sat', 'on', 'the', 'car.', 'Shanelle', 'knew', 'there', 'would', 'have', 'been', 'paw', 'prints', 'on', 'her', 'car', 'if', 'she', \"hadn't\", 'put', 'on', 'the', 'car', 'cover.', 'She', 'was', 'glad', 'the', 'cat', \"wasn't\", 'making', 'her', 'car', 'dirty.'], ['edited_ending:', 'He', 'loved', 'the', 'look', 'of', 'them.', 'Fred', 'wished', 'he', 'could', 'buy', 'one', 'for', 'himself.', 'A', 'juke', 'box', 'would', 'have', 'been', 'a', 'fitting', 'addition', 'to', 'his', 'home', 'theater', 'room.'], ['edited_ending:', 'It', 'was', 'a', 'big', 'job', 'so', 'he', 'hired', 'someone', 'to', 'do', 'it.', 'When', 'it', 'was', 'done,', 'his', 'car', 'looked', 'great.', 'John', 'was', 'glad', 'he', 'had', 'someone', 'clean', 'out', 'his', 'car.'], ['edited_ending:', \"Eli's\", 'mother', 'constantly', 'tried', 'to', 'get', 'him', 'to', 'stay', 'inside', 'but', 'he', 'refused.', 'One', 'day,', 'he', 'snuck', 'out', 'and', 'fell', 'off', 'a', 'tree', 'he', 'was', 'climbing.', 'Eli', 'broke', 'his', 'leg', 'and', 'had', 'to', 'get', 'a', 'cast', 'put', 'on.'], ['edited_ending:', 'It', 'was', 'a', 'normal', 'day', 'of', 'work.', 'Jane', 'left', 'her', 'badge', 'at', 'work.', 'She', 'forgot', 'where', 'it', 'was.'], ['edited_ending:', 'She', 'held', 'the', 'dog', 'to', 'make', 'sure', 'he', \"didn't\", 'move.', 'She', 'turned', 'around', 'and', 'began', 'walking', 'home.', 'Eventually', 'she', 'turned', 'to', 'see', 'the', \"dog's\", 'owner', 'was', 'following', 'not', 'far', 'behind.'], ['edited_ending:', 'A', 'snake', 'had', 'struck', 'her!', 'Her', 'hand', 'swelled', 'up', 'and', 'hurt.', 'She', 'stopped', 'gardening', 'and', 'iced', 'her', 'hand.'], ['edited_ending:', 'He', 'got', 'out', 'of', 'the', 'shower.', 'His', 'roommate', 'came', 'home.', 'His', 'roommate', 'could', 'not', 'take', 'a', 'shower.'], ['edited_ending:', 'A', 'car', 'tried', 'to', 'park', 'near', 'hers,', 'did', 'not', 'stop,', 'and', 'hit', 'her', 'car.', \"Jenny's\", 'car', 'was', 'taken', 'to', 'a', 'shop', 'by', 'a', 'tow', 'truck.', 'Luckily', 'the', 'car', 'only', 'had', 'a', 'few', 'minor', 'dents.'], ['edited_ending:', 'But', 'then', 'his', 'mom', 'got', 'sick', 'and', 'had', 'to', 'stay', 'in', 'the', 'hospital.', 'Adam', 'was', 'forced', 'to', 'study', 'and', 'write', 'on', 'his', 'own.', 'But', 'luckily', 'he', 'learned', 'quickly', 'and', 'improved', 'his', 'knowledge.'], ['edited_ending:', 'One', 'of', 'her', 'friends', 'bumped', 'into', 'her', 'elbow.', 'Lisa', 'spilled', 'water', 'all', 'over', 'her', 'new', 'white', 'dress.', 'Lisa', 'was', 'thankful', 'it', \"wouldn't\", 'stain', 'her', 'dress.'], ['edited_ending:', 'She', 'accidentally', 'tipped', 'the', 'plastic', 'cup', 'over,', 'wine', 'spilled', 'all', 'over.', 'Allison', 'sighed.', 'She', 'had', 'to', 'clean', 'it', 'up', 'quickly.'], ['edited_ending:', 'People', 'thought', 'Alex', 'was', 'dumb.', 'Alex', 'disagreed', 'with', 'them.', 'But', 'he', 'never', 'did', 'anything', 'to', 'demonstrate', 'he', 'was', 'smart.'], ['edited_ending:', 'The', 'hot', 'filling', 'overflowed', 'on', 'bottom', 'of', 'the', 'oven.', 'Gretchen', 'got', 'cleaning', 'supplies.', 'She', 'dropped', 'to', 'her', 'knees,', 'on', 'the', 'ground.'], ['edited_ending:', 'My', 'son', 'said', 'there', 'was', 'bone', 'in', 'his', 'burger', 'and', 'I', 'thought', 'it', 'was', 'a', 'little', 'gristle.', 'I', 'told', 'him', 'to', 'quit', 'whining', 'about', 'every', 'little', 'thing.', 'I', 'looked', 'at', 'the', 'bone.', 'It', 'was', 'a', 'half', 'inch', 'thick', 'and', 'two', 'inches', 'wide.'], ['edited_ending:', 'The', 'two', 'of', 'them', 'became', 'very', 'close', 'friends.', 'They', 'would', 'help', 'each', 'other', 'study,', 'eat', 'together,', 'and', 'hang', 'out', 'too.', 'Tiffany', 'missed', 'her', 'roommate', 'terribly', 'on', 'her', 'first', 'trip', 'home', 'for', 'winter', 'break.'], ['edited_ending:', 'Finally', 'the', 'day', 'came', 'when', 'Dave', 'closed', 'his', 'restaurant.', 'The', 'food', 'had', 'always', 'had', 'terrible', 'reviews.', 'Now', 'Dave', 'is', 'an', 'unknown', 'chef', 'without', 'his', 'own', 'dream', 'TV', 'show.'], ['edited_ending:', 'She', 'prepared', 'the', 'pan', 'for', 'cake', 'and', 'got', 'the', 'ingredients', 'ready.', 'She', 'layered', 'the', 'cherries', 'and', 'cake', 'mix,', 'but', 'forgot', 'the', 'butter.', 'The', 'cake', 'cooked', 'and', 'the', 'family', 'was', 'horrified', 'at', 'how', 'it', 'turned', 'out.'], ['edited_ending:', 'She', 'chased', 'them', 'around,', 'trying', 'to', 'catch', 'them.', 'She', 'snapped', 'the', 'lamp', 'shade', 'by', 'running', 'into', 'it.', 'I', 'fixed', 'it', 'and', 'luckily', 'my', 'dog', 'was', 'tired.'], ['edited_ending:', 'One', 'chapter', 'was', 'about', 'Christmas.', 'She', 'liked', 'that', 'kind', 'of', 'book,', 'but', 'not', 'at', 'this', 'time', 'of', 'year.', 'To', 'be', 'thinking', 'of', 'Christmas', 'in', 'July', 'made', 'her', 'feel', 'very', 'depressed.'], ['edited_ending:', 'Bob', \"couldn't\", 'believe', \"he'd\", 'told', 'so', 'many', 'stories.', 'Bob', 'really', 'hoped', 'his', 'friends', 'enjoyed', 'them.', 'He', 'made', 'a', 'mental', 'note', 'to', 'send', 'them', 'their', 'favorite', 'movies', 'for', 'Christmas.'], ['edited_ending:', 'She', 'was', 'carried', 'away', 'on', 'a', 'stretcher', 'to', 'the', \"coroner's\", 'vehicle.', 'Fortunately', 'the', 'driver', 'was', 'okay,', 'just', 'a', 'little', 'bruised.', 'Her', \"parents'\", 'were', 'very', 'upset', 'and', 'saddened', 'that', 'she', 'was', 'fatally', 'injured.'], ['edited_ending:', 'Omar', 'was', 'upset', 'because', 'he', 'just', 'wanted', 'to', 'know', 'the', 'weather', 'forecast', 'But', 'he', 'quickly', 'became', 'absorbed', 'with', 'the', 'fire.', 'He', 'celebrated', 'when', 'he', 'watched', 'a', 'fireman', 'rescue', 'someone.'], ['edited_ending:', 'She', 'keeps', 'up', 'with', 'all', 'gaming', 'news.', 'Priya', 'decided', 'to', 'use', 'her', 'time', 'for', 'something', 'more', 'fruitful.', 'Now', 'she', 'makes', 'money', 'working', 'for', 'a', 'fortune', '500', 'company.'], ['edited_ending:', 'He', \"couldn't\", 'pick', 'a', 'favorite', 'candidate.', 'When', 'the', 'election', 'was', 'done', 'one', 'of', 'the', 'candidates', 'won.', 'Elijah', \"couldn't\", 'have', 'cared', 'less.'], ['edited_ending:', 'The', 'line', 'was', 'empty.', 'After', '5', 'minutes,', 'I', 'got', 'through', 'security.', 'I', 'knew', 'I', 'would', 'always', 'go', 'back', 'to', 'this', 'airport.'], ['edited_ending:', 'The', 'apple', 'pie', 'turned', 'out', 'perfect.', 'She', 'used', 'just', 'the', 'right', 'amount', 'of', 'butter.', 'The', 'apple', 'pie', 'ended', 'up', 'being', 'delicious,', 'and', 'the', 'shell', 'held', 'very', 'well.'], ['edited_ending:', 'When', 'I', 'got', 'there', 'I', 'I', 'was', 'hesitant', 'about', 'eating.', 'I', 'ate', 'some', 'of', 'the', 'food.', 'It', 'made', 'me', 'feel', 'sick', 'the', 'rest', 'of', 'the', 'day.'], ['edited_ending:', 'He', 'decided', 'to', 'get', 'one', 'on', 'his', 'arm', 'insead.', 'Steve', 'kept', 'his', 'tattoo', 'hidden', 'from', 'his', 'parents.', \"Steve's\", 'parents', 'still', \"don't\", 'know.'], ['edited_ending:', 'It', 'was', 'a', 'hotly', 'contested', 'issue.', 'People', 'protested', 'until', 'they', 'were', 'able', 'to', 'change', 'the', 'pipeline', 'plans.', 'The', 'protest', 'took', 'hours', 'to', 'conclude.'], ['edited_ending:', 'She', 'quickly', 'turned', 'the', 'television', 'drama', 'back', 'on', 'as', 'it', 'was', 'reaching', 'the', 'climax', 'of', 'the', 'episode.', 'When', 'the', 'twist', 'was', 'revealed,', 'Martha', 'let', 'out', 'a', 'scream.', 'She', 'immediately', 'called', 'her', 'best', 'friend.'], ['edited_ending:', 'She', 'downloaded', 'her', 'music', 'through', 'a', 'different', 'app.', 'One', 'album', 'had', '13', 'songs,', 'but', 'only', '7', 'were', 'downloaded.', 'She', 'sent', 'an', 'email', 'to', 'tech', 'support.'], ['edited_ending:', 'She', 'was', 'long', 'and', 'pudgy,', 'and', 'loved', 'running', 'around', 'the', 'room.', 'She', 'begged', 'for', 'a', 'piece', 'of', 'pumpkin', 'pie', 'when', 'I', 'first', 'met', 'her.', 'Because', 'of', 'this,', 'I', 'named', 'her', 'Pumpkin.'], ['edited_ending:', 'Jean', 'bought', 'clothing', 'appropriate', 'for', 'the', 'weather', 'in', 'Namibia.', 'She', 'travelled', 'on', 'a', 'bus', 'and', 'stayed', 'for', 'one', 'week.', \"Jean's\", 'trip', 'to', 'Africa', 'was', 'better', 'than', 'she', 'had', 'hoped.'], ['edited_ending:', 'Finding', 'the', 'scenery', 'to', 'be', 'very', 'calming,', 'he', 'began', 'to', 'fall', 'asleep.', 'It', \"wasn't\", 'long', 'before', 'he', 'had', 'completely', 'passed', 'out.', 'He', 'was', 'awoken', 'later', 'by', 'his', 'boss,', 'who', 'was', 'angry', 'with', 'him.'], ['edited_ending:', 'After', 'researching,', 'Gary', 'saw', 'cheaper', 'alternatives.', 'Gary', 'saw', 'that', 'dental', 'work', 'in', 'Mexico', 'was', 'much', 'cheaper', 'than', 'the', 'U.S..', 'Gary', 'decided', 'he', 'was', 'happy', 'to', 'stay', 'with', 'his', 'dentist', 'and', 'not', 'go', 'to', 'Mexico', 'to', 'get', 'his', 'dental', 'work', 'done.'], ['edited_ending:', \"Denise's\", 'friend', 'Dan', 'knew', 'about', 'this,', 'and', 'decided', 'to', 'get', 'her', 'a', 'cake.', 'On', 'her', 'birthday,', 'Dan', 'surprised', 'Denise', 'with', 'her', 'usual', 'birthday', 'cake.', 'Denise', 'cried', 'tears', 'of', 'joy', 'that', 'Dan', 'remembered', 'her', 'birthday', 'tradition.'], ['edited_ending:', 'They', 'all', 'told', 'stories', 'about', 'when', 'I', 'was', 'growing', 'up.', 'Some', 'of', 'them', 'were', 'very', 'embarrassing.', 'I', 'do', 'not', 'really', 'like', 'those', 'stories.'], ['edited_ending:', 'On', 'top', 'of', 'that', 'my', 'nails', 'chipped', 'today.', 'I', 'was', 'relieved', 'at', 'the', 'opportunity', 'to', 'change', 'my', 'nail', 'color', 'Next', 'time', 'I', 'will', 'make', 'sure', 'to', 'clarify', 'what', 'color', 'I', 'want.'], ['edited_ending:', 'I', 'went', 'to', 'the', 'store', 'just', 'to', 'get', 'some', 'shampoo', 'and', 'conditioner.', 'I', 'got', 'the', 'shampoo', 'and', 'lathered', 'my', 'hair.', 'I', 'really', 'think', 'washing', 'my', 'hair', 'helped', 'me', 'get', 'a', 'job.'], ['edited_ending:', 'She', 'felt', 'like', 'she', 'was', 'going', 'to', 'be', 'happy.', 'There', 'was', 'no', 'turbulence.', 'Thankfully', 'she', 'drank', 'tea', 'and', 'felt', 'even', 'better.'], ['edited_ending:', 'The', 'kids', 'looked', 'at', 'all', 'the', 'paintings.', 'At', 'the', 'end', 'of', 'the', 'trip,', 'they', 'had', 'learned', 'a', 'lot.', 'The', 'kids', 'now', 'understood', 'a', 'lot', 'about', 'art!'], ['edited_ending:', 'He', 'gave', 'his', 'friend', 'the', 'present', 'on', 'his', 'birthday.', 'His', 'friend', 'complained', 'that', 'it', \"wasn't\", 'Christmas.', 'Zach', 'reminded', 'him', 'that', 'gifts', 'can', 'be', 'given', 'any', 'time', 'of', 'year.'], ['edited_ending:', 'As', 'expected,', 'something', 'bad', 'happened.', 'The', 'couch', 'fell', 'apart.', 'I', 'was', 'rather', 'upset', 'about', 'it.'], ['edited_ending:', 'She', 'got', 'scared', 'and', 'tried', 'to', 'swim', 'as', 'fast', 'as', 'she', 'can', 'to', 'the', 'shore.', 'Jenny', 'had', 'to', 'help', 'her', 'get', 'up', 'since', 'she', 'had', 'breathing', 'problems.', 'Terry', 'rose', 'from', 'the', 'water', 'and', 'ran.'], ['edited_ending:', 'She', 'wore', 'them', 'as', 'a', 'bracelet', 'instead,', 'classic', 'dress.', 'Whenever', 'she', 'wore', 'them', 'together,', 'she', 'felt', 'classy', 'and', 'pretty.', \"Emma's\", 'accessories', 'always', 'made', 'her', 'feel', 'put', 'together.'], ['edited_ending:', 'The', 'championship', 'game', 'was', 'next', 'month.', 'The', 'team', 'was', 'counting', 'on', 'Kareem', 'to', 'help', 'their', 'morale.', 'Kareem', 'broke', 'his', 'wrist', 'the', 'day', 'before', 'the', 'game', 'and', 'the', 'team', 'lost.'], ['edited_ending:', 'Hannah', 'desperately', 'wants', 'to', 'get', 'engaged.', 'Nate', 'does', 'not', 'want', 'to', 'get', 'married', 'to', 'her.', 'Hannah', 'breaks', 'up', 'with', 'Nate', 'because', 'he', \"didn't\", 'want', 'marriage.'], ['edited_ending:', 'He', 'had', 'trouble', 'getting', 'out', 'of', 'the', 'cab.', 'He', 'felt', 'that', 'the', 'day', 'was', 'never', 'going', 'to', 'end.', 'The', 'cabdriver', 'helped', 'him', 'with', 'the', 'door', 'and', \"Chet's\", 'day', 'got', 'better.'], ['edited_ending:', 'Her', 'family', 'told', 'her', 'that', 'she', 'was', 'making', 'too', 'many', 'swans.', 'They', 'said', 'that', 'she', 'would', 'have', 'nowhere', 'to', 'store', 'them', 'all.', 'Yoshiye', 'started', 'folding', 'some', 'paper', 'storage', 'boxes', 'for', 'her', 'swans.'], ['edited_ending:', 'When', 'an', 'acquaintance', 'asked', 'him', 'for', 'a', 'house,', 'he', 'pretended', 'he', \"didn't\", 'know', 'what', 'they', 'were', 'talking', 'about.', 'He', 'never', 'built', 'the', 'house.', 'His', 'acquaintance', 'was', 'speechless', 'as', 'he', 'knew', 'Jamie', 'was', 'lying.'], ['edited_ending:', 'He', 'started', 'putting', 'together', 'his', 'resume.', 'The', 'next', 'day', 'he', 'applied', 'to', 'all', 'the', 'jobs', 'he', 'could.', 'A', 'week', 'later', 'and', 'Scott', 'had', 'a', 'new', 'job.'], ['edited_ending:', 'He', 'was', 'charged', 'with', 'fixing', 'it', 'because', 'he', 'is', 'the', 'manager.', 'Ben', 'decided', 'to', 'sue', 'the', 'printer', 'maker', 'due', 'to', 'the', 'break.', 'Ben', 'won', 'because', 'of', 'a', 'lack', 'of', 'evidence.'], ['edited_ending:', 'However', 'when', 'she', 'arrived', 'she', 'had', 'a', 'flat', 'tire.', 'I', 'used', 'the', 'spare', 'tire', 'in', 'the', 'trunk', 'to', 'replace', 'the', 'bad', 'one.', 'The', 'girl', 'I', 'was', 'with', 'was', 'very', 'impressed', 'that', 'I', 'changed', 'the', 'tire.'], ['edited_ending:', 'The', 'deer', 'was', 'eating', 'and', 'moved', 'when', 'he', 'heard', 'their', 'voices.', 'The', 'deer', 'looked', 'at', 'Jack', 'and', 'Diane', 'for', 'a', 'moment', 'and', 'bolted.', 'Jack', 'and', 'Diane', 'tried', 'to', 'follow', 'it', 'but', 'they', 'were', 'not', 'able', 'to', 'find', 'him.'], ['edited_ending:', 'He', 'thought', 'for', 'two', 'minutes', 'before', 'each', 'move', 'when', 'she', 'moved', 'quickly.', 'And', 'he', 'took', 'more', 'pieces', 'than', 'her', 'to', 'win.', 'But', 'in', 'the', 'end,', 'with', 'experienced', 'he', 'won', 'and', 'cheered.'], ['edited_ending:', 'Cal', \"didn't\", 'understand', 'the', 'point', 'of', 'that.', 'Mike', 'said', 'he', 'already', 'had', 'everything', 'else.', 'Cal', 'sold', 'off', 'the', 'chainsaw', 'to', 'Mike.'], ['edited_ending:', 'His', 'boss', 'approached', 'John', 'and', 'told', 'him', 'to', 'go', 'home.', 'John', \"didn't\", 'get', 'to', 'work', 'on', 'any', 'new', 'assignments', 'at', 'all.', 'John', 'ended', 'up', 'only', 'working', '40', 'hours', 'that', 'week.'], ['edited_ending:', 'He', 'took', 'the', 'portable', 'system', 'to', 'the', 'nearest', 'trail.', 'He', 'had', 'a', 'lot', 'of', 'fun', 'walking', 'the', 'trail', 'while', 'playing.', 'Tom', 'knew', 'he', 'had', 'found', 'his', 'new', 'hobby.'], ['edited_ending:', 'Phil', 'practiced', 'with', 'his', 'piano', 'every', 'day', 'and', 'improved', 'his', 'skills.', 'Phil', 'decided', 'to', 'try', 'to', 'become', 'a', 'musician.', 'He', 'recently', 'performed', 'his', 'first', 'concert.'], ['edited_ending:', 'No', 'one', 'had,', 'so', 'I', 'put', 'up', 'posters', 'around', 'town', 'with', 'his', 'name', 'and', 'picture.', 'Someone', 'called', 'me', 'about', 'an', 'hour', 'later', 'to', 'say', 'he', 'was', 'in', 'her', 'yard.', 'When', 'I', 'went', 'to', 'pick', 'him', 'up,', 'it', \"wasn't\", 'my', 'dog', 'that', 'jumped', 'all', 'over', 'me', 'and', 'gave', 'me', 'doggy', 'kisses.'], ['edited_ending:', 'Tommy', 'wanted', 'to', 'explore.', 'Unfortunately,', 'during', 'his', 'exploring', 'he', 'would', 'have', 'got', 'lost.', 'He', 'was', 'rewarded', 'for', 'listening.'], ['edited_ending:', 'When', 'the', 'delivery', 'man', 'arrived', 'he', 'took', 'their', 'money', 'The', 'boys', 'knew', 'their', 'order', 'was', 'plain.', 'But', 'they', \"didn't\", 'care', '-', 'because', 'the', 'pie', 'was', 'delicious'], ['edited_ending:', 'So', 'he', 'read', 'every', 'letter', 'he', 'found.', 'No', 'one', 'caught', 'him', 'reading', 'the', 'mail.', 'Roy', 'felt', 'very', 'guilty', 'afterward.'], ['edited_ending:', 'In', 'my', 'excitement', 'I', 'opened', 'it', 'wide', 'and', 'stuck', 'my', 'head', 'out.', 'My', 'mother', 'came', 'in', 'yelling', 'at', 'me', 'to', 'shut', 'it', 'so', 'as', 'not', 'to', 'let', 'the', 'heat', 'in.', 'She', 'said', 'she', 'already', 'laid', 'out', 'my', 'summer', 'clothes', 'and', 'I', 'should', 'go', 'play.'], ['edited_ending:', 'Joey', 'went', 'home', 'feeling', 'giddy.', 'He', 'ate', 'a', 'whole', 'container', 'of', 'ice', 'cream.', 'He', 'went', 'to', 'bed', 'feeling', 'excited', 'for', 'the', 'future.'], ['edited_ending:', 'The', 'editors', 'told', 'me', 'to', 'just', 'try', 'my', 'best', 'since', 'they', \"didn't\", 'want', 'to', 'be', 'there', 'either.', 'I', 'sat', 'down', 'on', 'the', 'last', 'night', 'possible', 'and', 'wrote', 'as', 'much', 'as', 'I', 'could.', 'The', 'newspaper', 'turned', 'out', 'pretty', 'good', 'but', 'I', 'was', 'still', 'very', 'nervous.'], ['edited_ending:', 'She', 'then', 'bought', 'a', 'puppet', 'theater', 'at', 'a', 'new', 'store.', 'She', 'invited', 'her', 'parents', 'and', 'two', 'brothers', 'to', 'the', 'show.', 'Her', 'family', 'clapped', 'and', 'hollered', 'for', 'an', 'encore', 'after', 'the', 'show', 'was', 'over.'], ['edited_ending:', 'She', 'was', 'concerned', 'the', 'pregnancy', 'would', 'ruin', 'her', 'academic', 'career.', 'She', 'decided', 'not', 'to', 'have', 'the', 'baby', 'and', 'give', 'it', 'up', 'for', 'adoption.', 'Years', 'later,', 'Carey', 'felt', 'that', 'abortion', 'was', 'a', 'small', 'price', 'to', 'pay.'], ['edited_ending:', 'It', 'made', 'me', 'feel', 'great.', 'I', \"couldn't\", 'wait', 'to', 'get', 'more.', 'I', 'immediately', 'asked', 'my', 'doctor', 'for', 'ten', 'more', 'bottles.'], ['edited_ending:', 'Then', 'people', \"couldn't\", 'make', 'fun', 'of', 'his', 'antics', 'and', 'cause', 'him', 'pain.', 'He', \"didn't\", 'have', 'to', 'pay', 'so', 'much', 'attention', 'to', 'what', 'he', 'was', 'doing.', 'In', 'the', 'end,', 'it', 'was', 'easier', 'to', 'accept', 'who', 'he', 'was.'], ['edited_ending:', 'And', 'he', 'ran', 'out', 'with', 'a', 'bunch', 'of', 'the', \"library's\", 'computers', 'that', 'were', 'worth', 'quite', 'a', 'few', 'dollars.', 'He', 'tried', 'to', 'steal', 'from', 'the', 'library', 'again', 'a', 'week', 'later', 'but', 'was', 'caught.', 'And', 'he', 'realized', 'it', \"wasn't\", 'worth', 'the', 'money.'], ['edited_ending:', 'He', 'had', 'waited', 'for', 'hours,', 'and', 'nobody', 'else', 'had', 'yet', 'showed', 'up.', 'So', 'they', 'ended', 'eating', 'all', 'the', 'food', 'he', 'brought', 'by', 'themselves.', 'When', 'Joe', 'got', 'into', 'his', 'car,', 'he', 'saw', 'another', 'friend', 'arriving', 'but', 'left', 'anyway.'], ['edited_ending:', 'Finally,', 'he', 'decided', 'on', 'a', 'motel', 'within', 'his', 'price', 'range.', 'Days', 'later,', 'he', 'arrived', 'at', 'the', 'motel,', 'ready', 'to', 'start', 'his', 'vacation.', 'He', 'was', 'surprised', 'when', 'the', 'motel', 'room', 'was', 'even', 'worse', 'in', 'person.'], ['edited_ending:', 'Lars', 'decides', 'to', 'try', 'anyway', 'and', 'buys', 'avocado,', 'onion,', 'lime,', 'and', 'cilantro.', 'He', 'mixes', 'it', 'up', 'into', 'a', 'delicious', 'guacamole.', 'Lars', 'is', 'very', 'happy', 'that', 'he', 'decided', 'to', 'make', 'guacamole', 'at', 'home.'], ['edited_ending:', 'The', 'refused', 'to', 'offer', 'him', 'a', 'residence.', 'He', 'accepted', 'that', 'as', 'his', 'punishment.', 'Toby', 'kept', 'his', 'items', 'at', 'his', 'old', 'apartment.'], ['edited_ending:', 'She', 'was', 'scared', 'she', 'would', 'do', 'poorly.', 'But', 'the', 'next', 'day,', 'the', 'captain', 'gave', 'her', 'great', 'news.', 'Not', 'enough', 'girls', 'tried', 'out', 'for', 'the', 'team,', 'so', 'Anna', 'had', 'made', 'the', 'school', 'tennis', 'team', 'without', 'even', 'trying', 'out.'], ['edited_ending:', 'When', 'he', 'saw', 'it', 'he', 'jumped.', 'He', 'slipped', 'and', 'fell', 'into', 'the', 'stream.', 'He', 'had', 'to', 'walk', 'back', 'home', 'soaking', 'wet'], ['edited_ending:', 'The', 'people', 'around', 'her', 'talked', 'and', 'chatted', 'loudly.', 'They', 'even', 'excluded', 'her', 'from', 'the', 'conversation.', 'Janet', 'decided', 'she', 'would', 'ride', 'the', 'bus', 'again.'], ['edited_ending:', 'Jenny', 'never', 'wanted', 'to', 'trip', 'over', 'a', 'rock.', 'She', 'protected', 'her', 'elbows.', 'Jenny', 'wants', 'to', 'play', 'hopscotch', 'every', 'day.'], ['edited_ending:', 'He', 'decided', 'to', 'try', 'it', 'out', 'on', 'the', 'sidewalk', 'anyway.', 'The', 'boy', 'fell', 'and', 'broke', 'his', 'arm.', 'His', 'parents', 'felt', 'guilty', 'and', 'got', 'him', 'a', 'tablet.'], ['edited_ending:', 'She', 'slept', 'everyday', 'in', 'a', 'new', 'place.', 'The', 'day', 'finally', 'arrived', 'for', 'her', 'to', 'go', 'home.', 'All', 'her', 'kids', 'and', 'grandchildren', 'came', 'to', 'welcome', 'her.'], ['edited_ending:', 'The', 'chemotherapy', 'was', 'a', 'success', 'but', 'left', 'him', 'balding.', 'Derek', 'worried', 'his', 'classmate', 'would', 'make', 'fun', 'of', 'him.', 'So', 'he', 'dad', 'went', 'and', 'shaved', 'his', 'head', 'to', 'match', \"Derek's\", 'baldness.'], ['edited_ending:', 'The', 'revolver', 'went', 'off', 'when', 'it', 'hit', 'the', 'ground', 'and', 'made', 'a', 'deafening', 'roar', 'howled', 'through', 'the', 'canyon.', 'When', 'he', 'looked', 'at', 'the', 'target,', 'no', 'bullet', 'holes', 'were', 'there.', 'However,', 'his', 'trusted', 'donkey,', 'Fred,', 'was', 'dead.'], ['edited_ending:', 'However,', 'his', 'bottom', 'teeth', 'started', 'to', 'get', 'discolored.', 'He', 'decided', 'it', 'was', 'time', 'to', 'start', 'brushing.', 'He', 'brushed', 'his', 'teeth', 'and', 'set', 'up', 'an', 'appointment', 'with', 'a', 'dentist.'], ['edited_ending:', 'His', 'mom', 'yelled', 'at', 'him', 'to', 'take', 'better', 'care', 'of', 'his', 'things.', 'To', 'make', 'it', 'up', 'to', 'her', 'he', 'went', 'to', 'the', 'store', 'and', 'bought', 'a', 'new', 'shirt.', 'She', 'told', 'him', 'it', 'was', 'very', 'thoughtful.'], ['edited_ending:', 'He', 'hit', 'the', 'water', 'on', 'his', 'head.', 'The', 'lifeguard', 'watched.', 'The', 'lifeguard', 'jumped', 'into', 'the', 'pool', 'to', 'congratulate', 'Nathan.'], ['edited_ending:', 'He', 'worked', 'very', 'hard', 'every', 'day', 'to', 'save', 'money.', 'He', 'added', 'a', 'substantial', 'amount', 'of', 'money', 'to', 'a', 'vacation', 'fund.', 'He', 'eventually', 'took', 'the', 'vacation', 'of', 'his', 'dreams.'], ['edited_ending:', 'The', 'man', 'got', 'a', 'cone', 'with', 'chocolate', 'and', 'strawberry', 'ice', 'cream.', 'He', 'also', 'added', 'sprinkles', 'and', 'whipped', 'cream.', 'The', 'boy', \"couldn't\", 'even', 'look', 'at', 'the', 'ice', 'cream.'], ['edited_ending:', 'When', 'the', 'test', 'was', 'handed', 'out,', 'she', 'drew', 'a', 'deep', 'breath.', 'She', 'was', 'happy', 'to', 'see', 'she', 'knew', 'all', 'the', 'answers', 'anyway.', 'Annie', 'did', 'great', 'on', 'the', 'test.'], ['edited_ending:', 'I', 'handled', 'all', 'kinds', 'of', 'sensitive', 'information', 'on', 'my', 'computer', 'server.', 'When', 'I', 'ran', 'for', 'president,', 'many', 'questioned', 'my', 'use', 'of', 'the', 'server.', 'They', 'tried', 'to', 'indict', 'me', 'and', 'were', 'successful.'], ['edited_ending:', 'They', 'went', 'to', 'the', 'thrift', 'store', 'they', 'tried', 'multiple', 'pairs.', 'Tina', 'ended', 'up', 'liking', 'the', 'first', 'pair', 'that', 'fit.', 'Her', 'mother', 'bought', 'that', 'first', 'pair.'], ['edited_ending:', 'When', 'his', 'friends', 'proposed', 'to', 'meet', 'at', 'a', 'local', 'bar,', 'Cy', 'accepted.', 'He', 'could', 'handle', 'people', 'online', 'and', 'in', 'real', 'life.', 'He', 'accepted', 'the', 'offer', 'and', 'met', 'his', 'friends', 'at', 'the', 'bar.'], ['edited_ending:', 'I', 'was', 'very', 'skeptical', 'that', 'I', 'could', 'win.', 'I', 'was', 'so', 'nervous', 'about', 'winning', 'that', 'I', 'stopped', 'playing', 'as', 'well.', 'I', 'ended', 'up', 'losing', 'the', 'game.'], ['edited_ending:', 'We', 'went', 'to', 'our', 'seats', 'and', 'got', 'the', 'snacks', 'ready', 'to', 'eat.', 'We', 'started', 'to', 'watch', 'the', 'movie', 'and', 'the', 'kids', 'loved', 'it.', 'But', 'by', 'the', 'time', 'the', 'second', 'movie', 'started', 'they', 'were', 'asleep.'], ['edited_ending:', 'I', 'picked', 'a', 'steady', 'pace', 'to', 'start', 'with', 'at', 'which', 'I', 'felt', 'comfortable.', 'Near', 'the', 'end', 'I', 'tried', 'to', 'speed', 'up', 'to', 'beat', 'another', 'runner.', 'I', 'trailed', 'him', 'badly', 'and', 'threw', 'up.'], ['edited_ending:', 'I', 'drove', 'over', 'to', 'see', 'what', 'it', 'was', 'about.', 'The', 'line', 'was', 'incredibly', 'long.', 'I', 'still', 'waited', 'to', 'try', 'it.'], ['edited_ending:', 'One', 'of', 'the', 'friends', 'checked', 'his', 'phone', 'for', 'meal', 'ideas.', 'They', 'saw', 'new', 'pizza', 'recipe', 'that', 'looked', 'good.', 'Seeing', 'all', 'the', 'ingredients', 'in', 'their', 'kitchen,', 'the', 'group', 'got', 'to', 'work', 'cooking.'], ['edited_ending:', 'He', 'was', 'too', 'stubborn', 'to', 'ask', 'for', 'help', 'from', 'his', 'friends.', 'He', 'never', 'decided', 'to', 'ask', 'any', 'of', 'his', 'friends', 'for', 'help.', 'Without', 'his', \"friends'\", 'help,', 'he', 'moved', 'out', 'very', 'slowly.'], ['edited_ending:', 'She', 'answered', 'the', 'phone', 'and', 'heard', 'his', 'prank', 'call.', 'She', 'screamed', 'at', 'him', 'because', 'she', 'was', 'very', 'upset.', 'He', 'was', 'easily', 'found', 'out', 'and', 'got', 'into', 'a', 'lot', 'of', 'trouble.'], ['edited_ending:', 'Judy', 'worked', 'extra', 'hard', 'to', 'make', 'up', 'for', 'her', 'size.', 'She', 'managed', 'to', 'be', 'accepted', 'for', 'the', 'next', 'semester.', 'Now', 'Judy', 'is', 'one', 'of', 'the', 'best', 'cops'], ['edited_ending:', 'Thankfully,', 'he', 'allowed', 'me', 'to', 'do', 'it.', 'He', 'stroked', 'me', 'across', 'the', 'face.', 'I', 'decided', 'that', 'he', 'was', 'a', 'true', 'friend', 'so', 'I', 'hugged', 'him.'], ['edited_ending:', 'She', 'was', 'at', 'a', 'bar', 'one', 'night', 'and', 'met', 'a', 'woman', 'she', 'began', 'to', 'be', 'interested', 'in.', 'They', 'began', 'dating.', 'Nicole', 'just', 'got', 'engaged', 'to', 'be', 'married.'], ['edited_ending:', 'She', 'wanted', 'to', 'go', 'to', 'games', 'for', 'a', 'long', 'time', 'and', 'now', 'could', 'afford', 'tickets.', 'She', 'entered', 'a', 'radio', 'contest', 'for', 'more', 'baseball', 'tickets.', 'Allison', 'won', 'the', 'contest', 'and', 'invited', 'her', 'friends', 'to', 'her', 'favorite', \"team's\", 'game.'], ['edited_ending:', 'She', 'saw', 'a', 'cute', 'boy', 'walk', 'in.', 'Kathy', 'hoped', 'he', 'would', 'notice', 'her.', 'He', 'did', 'and', 'winked.'], ['edited_ending:', 'The', 'policeman', 'showed', 'us', 'his', 'gun', 'and', 'nightstick', 'menacingly.', 'Policemen', 'are', 'really', 'scary.', 'I', \"don't\", 'want', 'to', 'be', 'one', 'when', 'I', 'grow', 'up!'], ['edited_ending:', 'Then,', 'Anthony', 'learned', 'that', 'he', 'had', 'a', 'lot', 'in', 'common', 'with', 'women.', 'He', 'became', 'involved', 'in', 'a', 'brief', 'romance', 'with', 'his', 'female', 'coworker.', 'From', 'this', 'romance,', 'Anthony', 'gained', 'more', 'confident', 'with', 'women.'], ['edited_ending:', 'She', 'had', 'to', 'go', 'to', 'the', 'emergency', 'room.', 'After', 'that,', 'Amy', 'was', 'late', 'for', 'work!', 'Amy', 'felt', 'sad', 'and', 'angry', 'about', 'the', 'bad', 'things', 'in', 'her', 'day.'], ['edited_ending:', 'She', 'said', 'she', 'would', 'contact', 'me', 'if', 'the', 'old', 'work', 'group', 'went', 'out.', 'Her', 'last', 'Facebook', 'post', 'was', 'a', 'photo', 'of', 'the', 'old', 'group', 'at', 'dinner.', \"I'm\", 'sad', 'she', 'neglected', 'to', 'contact', 'me.'], ['edited_ending:', 'Joe', 'also', 'needed', 'to', 'dig', 'a', 'trench', 'for', 'the', 'sprinkler', 'system.', 'He', 'worked', 'tirelessly', 'from', 'dawn', 'to', 'dusk.', 'He', 'had', 'the', 'sprinklers', 'installed', 'the', 'next', 'day.'], ['edited_ending:', 'One', 'day,', 'he', 'started', 'working', 'for', 'the', 'government.', 'Rekindling', 'his', 'love', 'of', 'hacking,', 'he', 'leaked', 'secret', 'documents.', 'But', 'he', 'was', 'caught', 'and', 'spent', 'many', 'years', 'afterward', 'in', 'prison.'], ['edited_ending:', 'She', \"didn't\", 'fear', 'the', 'vines', 'would', 'die', 'before', 'they', 'could', 'grow.', 'She', 'planted', 'them', 'and', 'to', 'her', 'delight', 'they', 'climbed', 'easily!', 'Soon', 'her', 'whole', 'brick', 'wall', 'was', 'covered', 'with', 'lush', 'greenery!'], ['edited_ending:', 'She', 'had', 'chased', 'him', 'outside', 'with', 'a', 'cup', 'of', 'water.', 'My', 'dad', 'then', 'sat', 'down', 'and', 'held', 'his', 'nose.', 'My', 'sister', 'and', 'I', 'called', 'the', 'ambulance.'], ['edited_ending:', 'He', 'took', 'the', 'pizza', 'home.', 'His', 'wife', 'took', 'a', 'bite.', 'She', 'kept', 'eating', 'the', 'slice', 'as', 'normal.'], ['edited_ending:', 'Everybody', 'in', 'the', 'room', 'seemed', 'to', 'be', 'glaring', 'at', 'him.', 'The', 'man', 'set', 'the', 'ketchup', 'down', 'gently,', 'self-conscious', 'about', 'the', 'stares.', 'The', 'crowed', 'shouted', 'angrily.'], ['edited_ending:', 'While', 'at', 'lunch', 'they', 'brought', 'out', 'a', 'special', 'cake.', 'The', 'cake', 'was', 'decorated', 'with', 'baby', 'items.', 'They', 'announced', 'to', 'their', 'friends', 'they', 'were', 'pregnant.'], ['edited_ending:', 'While', 'I', 'was', 'standing', 'there,', 'I', 'saw', 'a', 'very', 'pretty', 'girl', 'cleaning', 'the', 'counter', 'in', 'the', 'coffee', 'shop.', 'I', 'tapped', 'on', 'the', 'door', 'and', 'asked', 'for', 'her', 'phone', 'number.', 'She', 'gave', 'it', 'to', 'me', 'and', 'we', 'talked', 'for', 'a', 'long', 'time!'], ['edited_ending:', 'Nancy', 'just', 'had', 'to', 'have', 'this', 'one.', 'Nancy', 'started', 'to', 'bid', 'but', 'was', 'quickly', 'outbid.', 'Nancy', 'decided', 'she', 'had', 'to', 'have', 'it', 'and', 'outbid', 'everyone', 'for', 'the', 'glass', 'bowl.'], ['edited_ending:', 'She', 'turned', '10', 'just', 'before', 'the', 'vet', 'told', 'us', 'she', 'was', 'sick.', 'The', 'last', 'thing', 'I', 'remember', 'was', 'her', 'looking', 'at', 'me', 'while', 'I', 'petted', 'her', 'head.', 'She', 'fell', 'over', 'sideways', 'just', 'before', 'she', 'closed', 'her', 'eyes', 'for', 'the', 'last', 'time.'], ['edited_ending:', 'She', 'mastered', 'her', 'song,', 'and', 'made', 'a', 'recording.', 'The', 'recording', 'did', 'not', 'play', 'correctly.', 'Cyrus', 'went', 'and', 'spent', 'three', 'hundred', 'dollars', 'for', 'new', 'recording', 'software.'], ['edited_ending:', 'Until', 'one', 'day', 'she', 'realized', 'she', 'missed', 'a', 'voice', 'mail.', 'A', 'day', 'later', 'she', 'called', 'back.', 'Tina', 'got', 'hired.'], ['edited_ending:', \"Dan's\", 'co-worker', 'told', 'him', 'he', 'needed', 'to', 'stop', 'this', 'habit.', 'He', 'locked', 'his', 'drawer', 'shut', 'to', 'make', 'it', 'harder', 'to', 'open.', 'Dan', 'was', 'dismayed', 'when', 'it', \"didn't\", 'help.'], ['edited_ending:', 'She', \"didn't\", 'even', 'realize', 'she', 'was', 'so', 'thirsty.', 'She', \"didn't\", 'drink', 'water.', 'Soon', 'she', 'got', 'a', 'headache', 'because', 'she', 'was', 'dehydrated.'], ['edited_ending:', \"She'd\", 'used', 'some', 'baking', 'soda', 'and', 'a', 'paper', 'towel', 'to', 'attempt', 'some', 'basic', 'hygiene.', 'Mandy', \"didn't\", 'think', 'it', 'was', 'enough.', 'She', 'knew', \"she'd\", 'be', 'humiliated', 'if', 'anyone', 'thought', 'she', 'was', 'classless.'], ['edited_ending:', 'His', 'daughter', 'was', 'happy', 'to', 'join', 'him', 'in', 'the', 'effort.', 'They', 'spent', 'weeks', 'putting', 'it', 'together', 'in', 'intricate', 'detail', 'because', 'it', 'was', 'too', 'intricate', 'to', 'finish', 'in', 'a', 'day.', 'They', 'were', 'both', 'very', 'proud', 'when', 'the', 'elaborate', 'set', 'up', 'was', 'all', 'done'], ['edited_ending:', 'He', 'was', 'sad', 'at', 'first,', 'since', 'he', 'loved', 'his', 'motorcycle.', 'He', 'called', 'the', 'motorcycle', 'dealership', 'and', 'inquired', 'about', 'their', 'bikes.', 'He', 'was', 'shocked', 'to', 'learn', 'how', 'cheap', 'they', 'were', 'compared', 'to', 'the', 'one', \"he'd\", 'just', 'sold.'], ['edited_ending:', 'Caleb', 'found', 'a', 'game', 'and', 'got', 'ready', 'to', 'play.', 'The', 'game', 'was', 'boring', 'and', 'not', 'entertaining', 'at', 'all.', 'Caleb', 'fell', 'asleep', 'in', 'the', 'arcade.'], ['edited_ending:', 'When', 'she', 'made', 'a', 'statement,', 'no', 'one', 'laughed.', 'Finally', 'she', 'laughed', 'awkwardly.', 'Tina', 'was', 'embarrassed.'], ['edited_ending:', 'After', 'it', 'was', 'released,', 'it', 'did', 'amazing.', 'He', 'was', 'driving', 'when', 'he', 'heard', 'it', 'come', 'on', 'the', 'radio.', 'He', 'pulled', 'over', 'and', 'started', 'dancing', 'to', 'it.'], ['edited_ending:', 'The', 'toy', 'came', 'with', 'a', 'tiny', 'stuffed', 'baby', 'in', 'her', 'arms.', 'The', 'baby', 'had', 'a', 'twig', 'of', 'purple', 'curly', 'hair.', 'The', 'two', 'came', 'as', 'a', 'pair,', 'and', 'are', 'very', 'cute.'], ['edited_ending:', 'Jess', 'never', 'laughed', 'at', \"Dara's\", 'jokes.', 'Dara', 'asked', 'if', 'they', 'could', 'go', 'on', 'another', 'date.', 'Jess', 'said', 'no', 'and', \"that's\", 'when', 'they', 'broke', 'up.'], ['edited_ending:', 'I', 'decided', 'to', 'throw', 'my', 'own,', 'but', 'could', 'not', 'find', 'a', 'good', 'costume', 'in', 'time.', 'I', 'decided', 'to', 'design', 'the', 'perfect', 'mask.', 'I', 'ended', 'up', 'having', 'the', 'best', 'disguise', 'at', 'the', 'party.'], ['edited_ending:', 'Instead,', 'at', 'night', 'they', 'gathered', 'for', 'a', 'talk', 'about', 'sea', 'lions.', 'The', 'ranger', 'got', 'a', 'call', 'about', 'a', 'sea', 'lion', 'on', 'the', 'beach.', 'They', 'all', 'raced', 'together', 'to', 'watch', 'the', 'sea', 'lion', 'give', 'birth', 'on', 'the', 'beach.'], ['edited_ending:', 'That', 'same', 'day', 'she', 'had', 'complained', 'of', 'chest', 'pain', 'and', 'wheezing.', 'She', 'had', 'just', 'found', 'out', 'she', 'had', 'asthma.', 'Thanks', 'to', 'her', 'new', 'inhaler', 'she', 'quit', 'coughing', 'and', 'now', 'feels', 'better.'], ['edited_ending:', 'The', 'couple', 'left', 'right', 'after', 'the', 'sermon.', 'They', 'looked', 'for', 'another', 'mass', 'during', 'the', 'week.', 'There', 'was', 'none.'], ['edited_ending:', 'Toby', 'tried', 'his', 'best', 'to', 'get', 'rid', 'of', 'bees', 'all', 'day', 'with', 'poison.', 'But', 'when', 'he', 'went', 'home', 'and', 'smelled', 'like', 'poison,', 'he', 'quit', 'the', 'job.', 'He', 'found', 'another', 'elsewhere', 'where', 'no', 'bees', 'or', 'poison', 'was', 'involved.'], ['edited_ending:', 'It', 'was', 'okay', 'but', 'she', 'was', 'really', 'strange.', 'He', 'always', 'had', 'to', 'pick', 'her', 'up', 'at', 'funerals.', 'He', 'ended', 'up', 'getting', 'married', 'to', 'her', 'at', 'the', 'first', 'attempt.'], ['edited_ending:', 'She', 'stopped', 'working', 'hard', 'at', 'it,', 'and', 'people', 'noticed.', 'One', 'day', 'she', 'upset', 'she', \"wasn't\", 'invited', 'to', 'attend', 'the', 'City', \"Taggers'\", 'Meeting.', 'Sky', 'was', 'disappointed', 'that', 'her', 'work', 'had', 'been', 'dismissed.'], ['edited_ending:', 'Suddenly', 'a', 'large', 'male', 'silverback', 'walked', 'out', 'of', 'an', 'entryway.', 'He', 'glared', 'angrily', 'at', 'me', 'the', 'entire', 'time', 'I', 'was', 'there.', 'I', 'felt', 'very', 'guilty,', 'like', 'I', \"shouldn't\", 'be', 'there', 'looking', 'at', 'him.'], ['edited_ending:', \"Vicky's\", 'family', 'tries', 'to', 'give', 'her', 'a', 'gun', 'and', 'lessons.', 'She', 'refuses', 'to', 'practice.', 'Vicky', 'never', 'goes', 'hunting', 'with', 'her', 'family.'], ['edited_ending:', 'His', 'ex-wife', 'heard', 'a', 'knock', 'on', 'the', 'door', 'one', 'day.', 'She', 'saw', 'a', 'large', 'bouquet', 'of', 'flowers', 'through', 'the', 'peep', 'hole.', 'She', 'threw', 'open', 'the', 'door', 'to', 'see', 'Grant', 'trying', 'to', 'win', 'her', 'back.'], ['edited_ending:', 'Geoffrey', 'had', 'considered', 'sneaking', 'his', 'calculator', 'into', 'the', 'exam.', 'Geoffrey', 'knew', 'he', 'might', 'get', 'caught', 'using', 'the', 'calculator', 'by', 'his', 'teacher.', 'Geoffrey', 'was', 'glad', 'to', 'have', 'more', 'time', 'to', 'study', 'for', 'the', 'test.'], ['edited_ending:', 'Suddenly,', 'the', 'wind', 'blew', 'it', 'out', 'of', 'her', 'hand.', 'She', 'tried', 'her', 'hardest', 'to', 'catch', 'it.', 'But', 'unfortunately', 'it', 'fell', 'in', 'the', 'mud.'], ['edited_ending:', 'Even', 'thought', 'it', 'was', 'a', 'school', 'night,', 'he', 'decided', 'to', 'steal', 'all', 'of', 'it.', 'He', 'crept', 'into', 'the', 'kitchen', 'quietly', 'and', 'opened', 'the', 'jar.', 'As', 'he', 'reached', 'in,', 'he', 'heard', 'his', 'mother', 'ask', 'him', 'what', 'he', 'was', 'doing.'], ['edited_ending:', 'The', 'store', 'only', 'had', 'red', 'peppers.', 'She', 'bought', 'them', 'anyway.', 'Her', 'salsa', 'was', 'still', 'good,', 'even', 'with', 'the', 'red', 'peppers.'], ['edited_ending:', 'Today', 'the', 'fish', 'died.', 'My', 'daughter', 'pretended', 'that', 'nothing', 'happened.', 'So', 'far,', 'her', 'daughter', 'thinks', 'the', 'fish', 'is', 'sleeping.'], ['edited_ending:', 'I', 'bought', 'her', 'dinner', 'and', 'a', 'small', 'chocolate', 'cake.', 'I', 'felt', 'bad', 'for', 'not', 'remembering', \"Mother's\", 'Day.', 'She', 'loved', 'the', 'company', 'and', 'cake', 'though!'], ['edited_ending:', 'He', 'had', 'a', 'very', 'important', 'food', 'magazine', 'coming', 'to', 'do', 'an', 'interview.', 'He', 'had', 'just', 'found', 'out', 'his', 'chef', 'had', 'an', 'std.', 'He', 'knew', 'the', 'right', 'thing', 'to', 'do', 'was', 'to', 'cancel', 'the', 'interview.'], ['edited_ending:', 'They', 'camped', 'next', 'to', 'the', 'rapid', 'river.', 'They', 'spent', 'the', 'whole', 'time', 'in', 'the', 'camper,', 'telling', 'stories.', 'Mike', 'still', 'had', 'a', 'great', 'time,', 'and', 'cherished', 'the', 'time', 'with', 'family.'], ['edited_ending:', 'They', 'never', 'tell', 'each', 'other', 'Happy', 'Anniversary.', 'Neither', 'of', 'them', 'seemed', 'to', 'think', 'it', 'was', 'a', 'special', 'day', 'to', 'acknowledge.', 'Now', \"they're\", 'both', 'anxious', 'to', 'get', 'the', 'divorce', 'process', 'started.'], ['edited_ending:', 'Jason', 'wanted', 'to', 'make', 'sure', 'they', 'did', 'something', 'all', 'three', 'of', 'them', 'would', 'like.', 'He', 'planned', 'a', 'hunting', 'trip.', 'Jason,', 'his', 'mom,', 'and', 'his', 'father', 'went', 'and', 'had', 'a', 'great', 'time', 'together.'], ['edited_ending:', 'Claire', 'drove', 'home', 'without', 'any', 'fruit.', 'She', 'used', 'canned', 'apples', 'to', 'cook', 'a', 'homemade', 'apple', 'pie.', 'Claire', \"couldn't\", 'believe', 'how', 'tasteless', 'her', 'pie', 'was.'], ['edited_ending:', 'Her', 'sister', 'told', 'her', 'that', 'she', 'once', 'cut', 'through', 'the', \"frog's\", 'chest', 'and', 'produced', 'its', 'still', 'beating', 'heart.', 'Her', 'teacher', 'was', 'annoyed,', 'because', 'the', \"frog's\", 'were', 'already', 'dead.', 'Miley', 'shrugged', 'and', 'told', 'everyone', 'that', 'she', 'cut', 'up', 'a', 'frog.'], ['edited_ending:', 'She', 'would', 'often', 'spend', 'her', 'entire', 'check', 'in', 'a', 'single', 'night.', 'She', 'forgot', 'to', 'pay', 'rent', 'one', 'day', 'and', 'was', 'evicted.', 'Terry', 'had', 'to', 'sell', 'herself', 'on', 'the', 'corner', 'for', 'some', 'cash.'], ['edited_ending:', 'The', 'message', 'said', 'to', 'make', 'a', 'donation', 'by', 'texting', 'a', 'number.', 'Jack', 'made', 'a', '$10', 'donation,', 'and', 'on', 'his', 'bill', '$10', 'was', 'charged.', 'Jack', 'decided', 'to', 'make', 'sure', 'to', 'continue', 'donating', 'to', 'this', 'charity.'], ['edited_ending:', 'One', 'day', 'she', 'let', 'the', 'rabbit', 'out', 'and', 'it', 'ran', 'off.', 'She', 'looked', 'everywhere.', 'Finally', 'she', 'found', 'it', 'in', 'the', 'cupboard.'], ['edited_ending:', 'By', 'the', 'time', 'he', 'climbed', 'out', 'again,', 'I', 'had', 'caught', 'a', 'big', 'fish.', 'When', 'he', 'saw', 'my', 'fish,', 'he', 'made', 'sure', 'he', 'was', 'not', 'distracted', 'anymore.', 'Soon', 'after,', 'he', 'too', 'caught', 'a', 'fish.'], ['edited_ending:', 'Then', 'they', 'ran', 'away', 'from', 'the', 'door,', 'breathing', 'heavily.', 'They', 'went', 'back', 'the', 'next', 'day,', 'and', 'both', 'reached', 'the', 'top,', 'but', 'it', 'was', 'hard!', 'They', 'agreed', 'that', 'they', 'both', 'needed', 'to', 'be', 'a', 'little', 'more', 'fit!'], ['edited_ending:', 'He', 'went', 'to', 'the', 'State', 'Prison', 'in', 'his', 'town.', 'Paris', 'was', 'able', 'to', 'receive', 'money', 'from', 'his', 'family.', 'This', 'allowed', 'him', 'to', 'have', 'a', 'better', 'life', 'in', 'prison.'], ['edited_ending:', 'They', 'ordered', 'champagne', 'and', 'caviar.', 'Paul', 'presented', 'Martha', 'with', 'a', 'beautiful', 'necklace.', 'It', 'was', 'a', 'special', 'trip', 'for', 'a', 'special', 'couple', 'and', 'it', 'showed', 'in', 'the', 'video!'], ['edited_ending:', 'The', 'cat', 'played', 'in', \"it's\", 'bed.', 'He', 'came', 'back', 'with', 'a', 'toy', 'mouse.', 'The', 'cat', 'gave', 'the', 'toy', 'mouse', 'to', 'the', 'owner.'], ['edited_ending:', 'Mitzi', 'eventually', 'snuggled', 'up', 'to', 'the', 'cat,', 'and', 'when', 'I', 'saw', 'her', 'later,', 'I', 'giggled', 'and', 'she', 'heard', 'me', 'and', 'woke', 'up.', 'She', 'jumped', 'up', 'and', 'snarled', 'at', 'the', 'cat', 'like', 'a', 'ferocious', 'cat-hater.', 'The', 'cat', 'yawned', 'and', 'went', 'back', 'to', 'sleep.'], ['edited_ending:', 'Dan', 'informed', 'the', 'guests', 'of', 'the', 'theme.', 'In', 'addition,', 'Dan', 'wanted', 'the', 'guest', 'to', 'wear', 'cute', 'rodeo', 'costumes.', 'Dan', 'could', 'not', 'wait', 'to', 'have', 'fun', 'with', 'his', 'guests', 'at', 'his', 'rodeo', 'party.'], ['edited_ending:', 'Miley', 'was', 'so', 'mad.', 'Miley', 'began', 'to', 'spend', 'much', 'more', 'time', 'on', 'her', 'studying', 'and', 'homework.', 'Her', 'grades', 'improved,', 'and', 'the', 'whole', 'family', 'was', 'pleased!'], ['edited_ending:', 'When', 'she', 'was', 'done,', 'the', 'audience', 'hated', 'her.', 'It', 'took', 'about', 'one', 'hour.', 'Kelley', 'was', 'asked', 'not', 'to', 'come', 'back.'], ['edited_ending:', 'I', 'needed', 'to', 'feel', 'inspired.', 'I', 'decided', 'to', 'search', 'for', 'new', 'music', 'online', 'that', 'was', 'similar', 'to', 'what', 'my', 'favorite', 'artist', 'played.', 'The', 'new', 'music', 'gave', 'me', 'the', 'refreshing', 'feel', 'I', 'needed.'], ['edited_ending:', 'He', \"doesn't\", 'like', 'working', 'at', 'home', 'as', 'a', 'job.', 'He', 'decides', 'to', 'get', 'a', 'normal', 'job.', 'Before', 'he', 'started,', 'he', 'went', 'and', 'talked', 'to', 'his', 'new', 'boss.'], ['edited_ending:', 'Over', 'the', 'weekend', 'she', 'went', 'to', 'the', 'animal', 'shelter.', 'She', 'fell', 'in', 'love', 'with', 'a', 'little', 'brown', 'terrier', 'and', 'named', 'him', 'Breadie.', 'She', 'took', 'the', 'puppy', 'home', 'and', 'he', 'is', 'now', 'part', 'of', 'the', 'family.'], ['edited_ending:', 'In', 'the', 'second', 'half,', 'the', 'blue', 'team', 'barely', 'tried', 'to', 'compete.', 'They', 'lost', 'the', 'game', 'by', '17', 'points.', 'The', 'red', 'team', 'was', 'so', 'proud!'], ['edited_ending:', 'He', 'would', 'often', 'go', 'visit', 'them', 'since', 'he', \"didn't\", 'have', 'to', 'leave', 'for', 'war', 'immediately.', 'Finally', 'it', 'was', 'time', 'for', 'him', 'to', 'go', 'to', 'war.', 'Eduardo', 'steps', 'on', 'the', 'plane', 'after', 'hugging', 'his', 'family.'], ['edited_ending:', 'They', 'had', 'to', 'walk', 'through', 'a', 'bad', 'part', 'of', 'town.', 'They', 'were', 'all', 'robbed', 'at', 'gunpoint.', 'Yanna', 'had', 'emotional', 'problems', 'and', 'depression', 'after', 'the', 'attack.'], ['edited_ending:', 'Because', 'the', 'engine', 'had', 'roared', 'loudly.', 'We', 'had', 'been', 'worried', 'the', 'axle', 'would', 'snap.', 'And', 'then', 'we', 'would', 'have', 'had', 'to', 'tow', 'it', 'out.'], ['edited_ending:', 'I', 'ended', 'up', 'having', 'to', 'walk', 'home.', 'The', 'walk', 'home', 'lasted', 'about', '2-3', 'hours', 'When', 'I', 'got', 'home', 'my', 'mom', 'was', 'upset', 'about', 'her', 'accident'], ['edited_ending:', 'He', 'created', 'a', 'taco', 'dinner', 'for', 'one.', 'Fred', 'was', 'pretty', 'into', 'it.', 'He', 'ended', 'up', 'doing', 'this', 'every', 'Tuesday.'], ['edited_ending:', 'He', 'liked', 'to', 'hang', 'out', 'with', 'a', 'lot', 'of', 'people.', 'He', 'started', 'hanging', 'out', 'with', 'my', 'boyfriend.', 'Sam', 'and', 'I', 'are', 'no', 'longer', 'friends.'], ['edited_ending:', 'I', 'did', 'every', 'homework', 'assignment,', 'even', 'the', 'difficult', 'ones', 'I', 'was', 'happy', 'to', 'be', 'in', 'the', 'class', 'and', 'liked', 'it', 'through', 'the', 'end.', \"I'm\", 'proud', 'of', 'my', 'grade'], ['edited_ending:', 'We', 'stooed', 'in', 'a', 'line', 'along', 'the', 'highway.', 'They', 'explained', 'that', 'help', 'was', 'on', 'the', 'way,', 'but', 'nobody', 'was', 'listening.', 'We', 'were', 'all', 'so', 'bored', 'by', 'the', 'waiting', 'that', 'we', \"didn't\", 'pay', 'attention.'], ['edited_ending:', 'She', 'loves', 'her', 'cat', 'so', 'she', 'hides', 'it', 'during', 'the', 'inspection.', 'Unfortunately', 'the', 'landlord', 'smells', 'the', 'cat', 'due', 'to', 'his', 'allergies.', 'She', 'is', 'having', 'a', 'hard', 'time', 'coping', 'with', 'having', 'to', 'give', 'away', 'her', 'cat.'], ['edited_ending:', 'One', 'night,', 'he', 'heard', 'his', 'garage', 'can', 'get', 'knocked', 'over.', 'And', 'he', 'looked', 'out', 'his', 'window', 'to', 'see', 'what', 'is', 'was.', 'He', 'snuggled', 'up', 'with', 'his', 'mom', 'so', 'he', \"wouldn't\", 'be', 'scared.'], ['edited_ending:', 'We', 'are', 'flying', 'out', 'in', 'a', 'few', 'hours.', 'He', 'is', 'taking', 'me', 'to', 'Disney', 'World', 'to', 'see', 'Mickey.', 'It', 'will', 'be', 'so', 'unpleasant', 'to', 'endure', 'the', 'Florida', 'sun!'], ['edited_ending:', 'Back', 'on', 'the', 'road', 'she', 'was', 'eating', 'her', 'nuts.', 'One', 'person', 'finished', 'all', 'his', 'snacks', 'and', 'kept', 'mooching', 'nuts', 'from', 'Kate.', 'Kate', 'was', 'fuming', 'over', 'having', 'to', 'share', 'all', 'over', 'again', 'with', 'the', 'greedy', 'moocher.'], ['edited_ending:', 'She', 'dumped', 'sand', 'on', 'the', 'floor', 'from', 'her', 'shoes.', 'An', 'hour', 'later', 'her', 'mother', 'called', 'her', 'to', 'the', 'living', 'room.', 'Amy', 'got', 'in', 'trouble', 'because', 'sand', 'had', 'been', 'tracked', 'through', 'the', 'house.'], ['edited_ending:', 'I', 'couldnt', 'even', 'look', 'at', 'the', 'sight', 'of', 'a', 'ham', 'and', 'cheese', 'sandwich.', 'I', 'bought', 'nothing.', 'A', 'week', 'later', 'I', 'was', 'starving.'], ['edited_ending:', 'He', 'went', 'into', 'the', 'bank', 'to', 'ask', 'for', 'an', 'application.', 'The', 'teller', 'finished', 'with', 'another', 'customer', 'before', 'giving', 'Boris', 'an', 'application.', 'Boris', 'is', 'now', 'waiting', 'to', 'hear', 'back', 'from', 'the', 'bank.'], ['edited_ending:', 'Surprised,', 'he', 'rushed', 'indoors.', 'He', 'researched', 'how', 'to', 'safely', 'dispose', 'of', 'the', 'nest.', 'Later', 'that', 'day', 'he', 'took', 'the', 'proper', 'measures', 'to', 'get', 'rid', 'of', 'it.'], ['edited_ending:', 'He', 'tries', 'on', 'a', 'pair', 'of', 'the', 'contacts.', 'Marco', 'loves', 'his', 'new', 'contacts.', 'He', 'is', 'happy', 'that', 'he', 'is', 'able', 'to', 'see', 'well', 'again', 'without', 'glasses.'], ['edited_ending:', 'She', 'was', 'thinking', 'about', 'moving', 'but', 'her', 'lease', \"wasn't\", 'over.', 'But', 'she', 'was', 'able', 'to', 'make', 'money', 'by', 'posting', 'her', 'apartment', 'on', 'Airbnb.', 'She', 'recently', 'signed', 'another', 'lease.'], ['edited_ending:', 'I', 'tried', 'to', 'take', 'the', 'new', 'batteries', 'out', 'to', 'keep', 'them,', 'but', 'the', 'screws', 'were', 'too', 'tight.', 'Finally', 'I', 'took', 'the', 'thing', 'to', 'an', 'electronics', 'store.', 'It', 'turns', 'out', 'I', 'had', 'put', 'the', 'batteries', 'in', 'backwards!'], ['edited_ending:', 'Now', 'that', \"it's\", 'under', 'control,', 'he', 'loves', 'riding', 'his', 'bike', 'on', 'long,', '2', 'or', 'three', 'hour', 'trips.', 'Yesterday', 'he', 'left', 'to', 'go', 'to', 'Toledo.', 'He', 'just', 'called', 'me', 'from', 'Detroit.'], ['edited_ending:', 'Before', 'they', 'left,', 'Alex', 'hit', 'an', 'incredible', 'shot', 'over', 'a', 'lake.', 'His', 'dad', 'praised', 'him', 'and', 'wished', 'he', 'was', 'still', 'young', 'After', 'they', 'left', 'the', 'golf', 'course,', 'Alex', 'and', 'his', 'dad', 'got', 'drunk', 'at', 'the', 'bar.'], ['edited_ending:', 'They', 'had', 'a', 'famous', 'ancient', 'fire', 'walk', 'every', 'weekend.', 'Still,', 'Liam', 'took', 'off', 'his', 'shoes', 'and', 'socks', 'and', 'walked', 'across', 'hot', 'coals.', 'He', 'feel', 'within', 'seconds', 'and', 'burned', 'his', 'elbows', 'and', 'knees.'], ['edited_ending:', 'She', 'would', 'stay', 'up', 'tonight', 'to', 'play', 'games,', 'but', 'she', 'is', 'too', 'tired', 'too.', 'Instead', 'she', 'will', 'just', 'go', 'to', 'bed', 'early', 'so', 'she', 'gets', 'a', 'good', 'grade.', 'Sally', 'is', 'so', 'very', 'responsible.'], ['edited_ending:', 'Amelia', \"didn't\", 'always', 'trust', 'her', 'mother,', 'and', \"didn't\", 'want', 'to', 'be', 'so', 'plump.', 'She', 'went', 'on', 'a', 'diet', 'and', 'lost', 'a', 'few', 'pounds.', 'But', 'when', 'she', \"didn't\", 'find', 'a', 'husband,', 'she', 'went', 'back', 'to', 'eating', 'normally.'], ['edited_ending:', 'I', 'would', 'never', 'put', 'my', 'cat', 'near', 'a', 'mouse.', 'I', 'took', 'my', 'cat', 'to', 'the', 'park', 'and', 'let', 'her', 'play.', 'Within', '10', 'minutes,', 'she', 'had', 'made', 'two', 'new', 'cat', 'friends.'], ['edited_ending:', 'Greg', 'gave', 'his', 'dog', 'a', 'bath.', 'Since', 'his', 'dog', 'stayed', 'inside', 'he', \"wouldn't\", 'need', 'a', 'bath', 'for', 'a', 'while.', 'Greg', 'loved', 'that', 'his', 'dog', 'stayed', 'clean'], ['edited_ending:', 'The', 'food', 'had', 'almost', 'started', 'to', 'burn.', 'But', 'the', 'smoke', 'alarm', \"didn't\", 'go', 'off.', 'Ani', 'turned', 'the', 'burner', 'off', 'and', 'enjoyed', 'her', 'dinner.'], ['edited_ending:', 'Eventually', 'they', 'were', 'able', 'to,', 'but', 'on', 'the', 'way', 'back', 'they', 'took', 'a', 'bend', 'too', 'fast', 'with', 'the', 'boat.', 'The', 'axle', 'missed', 'the', 'turn', 'and', 'broke', 'in', 'half.', 'The', 'trailer', 'and', 'boat', 'tipped', 'onto', 'the', 'road.'], ['edited_ending:', 'Jill', 'decided', 'to', 'find', 'a', 'part', 'time', 'job', 'to', 'make', 'up', 'for', 'the', 'money', 'she', 'spent.', 'She', 'started', 'working', 'as', 'a', 'waitress', 'to', 'save', 'up', 'again.', 'Jill', 'finally', 'was', 'able', 'to', 'get', 'back', 'to', 'her', 'old', 'balance.'], ['edited_ending:', 'Jack', 'leaned', 'back', 'and', 'gently', 'stretched', 'his', 'arm', 'overhead.', 'He', 'then', 'got', 'up', 'and', 'left', 'the', 'theater.', 'Within', 'minutes,', 'he', 'was', 'in', 'a', 'taxi', 'on', 'his', 'way', 'home', 'alone.'], ['edited_ending:', 'The', 'orders', 'never', 'came.', 'When', 'Matt', 'left', 'to', 'use', 'the', 'bathroom,', 'Derek', 'asked', 'the', 'waiter', 'about', 'the', 'food.', 'The', 'waiter', 'ignored', 'him', 'and', 'left', 'the', 'dining', 'room.'], ['edited_ending:', 'The', 'lemonade', 'seemed', 'rather', 'interesting.', 'I', 'wanted', 'to', 'see', 'what', 'it', 'tasted', 'like.', 'I', 'wish', 'I', 'could', 'have', 'bought', 'some.'], ['edited_ending:', 'He', 'realized', 'the', 'table', 'had', 'a', 'dip', 'in', 'it.', 'Dan', 'did', 'not', 'like', 'the', 'way', 'the', 'table', 'was', 'now.', 'He', 'sanded', 'the', 'rest', 'of', 'the', 'table', 'to', 'make', 'it', 'even.'], ['edited_ending:', 'They', 'got', 'to', 'the', 'park', 'and', 'started', 'flying', 'the', 'kite.', 'All', 'of', 'them', 'were', 'having', 'a', 'wonderful', 'time.', 'Afterwards', 'they', 'were', 'all', 'happy', 'they', 'went', 'to', 'the', 'park', 'that', 'day.'], ['edited_ending:', 'Gary', 'immediately', 'went', 'to', 'the', 'store', 'and', 'purchased', 'a', 'car', 'charger', 'for', 'his', 'laptop.', 'While', 'skeptical,', 'Gary', 'plugged', 'the', 'laptop', 'in,', 'and', 'then', 'his', 'phone.', 'Gary', 'was', 'amazed', 'to', 'see', 'that', 'his', 'cell', 'phone', 'was', 'charging!'], ['edited_ending:', 'He', 'bought', 'a', 'big', 'selection', 'of', 'paintings', 'with', 'some', 'of', 'his', 'money.', 'Beautiful', 'women', 'were', 'impressed', 'by', 'this', 'feat', 'and', 'married', 'him.', 'Donald', 'divorced', 'all', 'but', 'one', 'of', 'them.'], ['edited_ending:', 'Because', 'of', 'this,', 'Alan', 'was', 'a', 'very', 'poor', 'shot.', 'But', 'as', 'he', 'practiced,', 'his', 'aim', 'improved.', 'Soon', 'Alan', 'a', 'better', 'shot', 'than', 'even', 'his', 'dad!'], ['edited_ending:', 'One', 'day', 'he', 'accidentally', 'slammed', 'a', 'vase', 'on', 'the', 'fireplace.', 'His', 'dad,', 'furious,', 'came', 'in', 'yelling', 'and', 'told', 'him', 'wrestling', 'was', 'fake.', 'Mitt', 'was', 'so', 'crushed', 'that', 'he', 'could', 'never', 'watch', 'wrestling', 'again.'], ['edited_ending:', 'The', 'young', 'woman', 'said', 'she', 'wanted', 'a', 'balloon', 'animal.', 'Levon', 'made', 'the', 'young', 'woman', 'a', 'balloon', 'giraffe.', 'The', 'young', 'woman', 'left', 'the', 'park', 'overjoyed.'], ['edited_ending:', 'Tom', 'began', 'eating', 'onlyfruit', 'and', 'lean', 'protein.', 'Soon', 'he', 'lost', 'weight.', 'Tom', 'was', 'happy', 'that', 'he', 'was', 'dieting.'], ['edited_ending:', 'When', 'he', 'came', 'out', 'of', 'the', 'store', 'he', 'thought', 'his', 'bike', 'was', 'gone.', 'Devan', 'looked', 'around', 'frantically.', 'He', 'reported', 'his', 'bike', 'stolen', 'to', 'the', 'police', 'but', 'soon', 'realized', 'the', 'bike', 'was', 'right', 'behind', 'him,', 'locked', 'in', 'front', 'of', 'the', 'store.'], ['edited_ending:', 'His', 'neighbor', 'saw', 'Harold', 'throw', 'out', 'the', 'trash.', 'He', 'yelled', 'at', 'Harold', 'from', 'the', 'porch.', 'His', 'neighbor', 'was', 'really', 'upset.'], ['edited_ending:', 'The', 'next', 'night,', 'I', 'lost', 'track', 'of', 'time', 'again', 'and', 'I', 'forgot', 'to', 'sleep', 'completely.', 'The', 'next', 'day', 'I', 'was', 'too', 'tired', 'to', 'move.', \"I'll\", 'never', 'do', 'that', 'again.'], ['edited_ending:', 'She', 'also', 'bought', 'chicken', 'from', 'the', 'deli.', 'She', 'loved', 'the', 'chicken', 'and', 'pizza', 'from', 'the', 'first', 'bite.', 'She', 'knew', 'she', 'could', 'eat', 'this', 'everyday.'], ['edited_ending:', 'The', 'sauce', 'was', 'only', 'a', 'base', 'and', 'needed', 'an', 'extra', 'touch.', 'She', 'mixed', 'the', 'sauce', 'with', 'additional', 'herbs', 'and', 'spices.', \"Anna's\", 'family', 'all', 'complimented', 'her', 'delicious', 'homemade', 'sauce!'], ['edited_ending:', 'His', \"friend's\", 'boss', 'read', 'the', 'joke.', 'The', 'boss', 'chuckled', 'to', 'himself.', 'Gustaf', 'received', 'an', 'offer', 'to', 'tell', 'jokes', 'at', 'the', \"company's\", 'employee', 'appreciation', 'day.'], ['edited_ending:', 'He', 'needed', 'to', 'get', 'the', 'truck', 'packed', 'up', 'before', 'the', 'morning', 'was', 'over.', 'He', 'threw', 'his', 'smaller', 'bag', 'into', 'the', 'truck.', 'He', 'raced', 'to', 'make', 'it', 'to', 'the', 'bus', 'station', 'on', 'time.'], ['edited_ending:', 'Soon,', 'emergencies', 'mounted', 'up.', 'Stacey', 'needed', 'another', 'credit', 'card', 'just', 'to', 'deal', 'with', 'all', 'her', 'expenses.', 'Stacey', 'now', 'has', '$15,000', 'of', 'credit', 'card', 'debt.'], ['edited_ending:', 'When', 'I', 'woke', 'up', 'for', 'work,', 'the', 'sun', 'had', 'not', 'come', 'up.', 'I', 'wound', 'up', 'going', 'in', 'early', 'and', 'getting', 'overtime.', 'I', 'found', 'a', 'new', 'favorite', 'shift', 'between', 'and', 'noon,', 'now', 'I', 'have', 'a', 'new', 'shift!'], ['edited_ending:', 'The', 'ball', 'never', 'went', 'in.', 'He', 'tried', 'many', 'different', 'foot', 'techniques.', 'He', 'was', 'able', 'to', 'miss', '11', 'baskets', 'in', 'a', 'row', 'doing', 'this.f'], ['edited_ending:', 'The', 'power', 'then', 'went', 'out.', 'I', 'was', 'afraid', 'we', 'would', 'hurt.', 'Luckily', 'after', 'ten', 'minutes', 'it', 'stopped.'], ['edited_ending:', 'The', 'new', 'erasable', 'pens', 'were', 'a', 'big', 'hit.', 'He', 'made', 'a', 'lot', 'of', 'money', 'under', 'this', 'scheme.', 'To', 'celebrate', 'his', 'wealth', 'he', 'took', 'a', 'day', 'off', 'and', 'went', 'to', 'the', 'beach.'], ['edited_ending:', 'He', 'walked', 'into', 'the', 'gym', 'to', 'ask', 'the', 'drama', 'teacher', 'for', 'an', 'audition.', 'The', 'drama', 'teacher', 'agreed', 'to', 'let', 'Jake', 'try', 'out.', 'Jake', 'tried', 'out', 'and', 'actually', 'got', 'a', 'part.'], ['edited_ending:', 'The', 'day', 'of', 'the', 'test', 'arrived', 'and', 'I', 'was', 'sure', \"I'd\", 'do', 'well.', 'I', 'also', 'sat', 'next', 'to', 'the', 'smartest', 'person', 'in', 'class.', 'To', 'be', 'sure,', 'I', 'used', 'his', 'answers', 'to', 'double', 'check', 'mine.'], ['edited_ending:', 'His', 'dad', 'led', 'him', 'down', 'to', 'the', 'river.', 'His', 'dad', 'showed', 'him', 'how', 'to', 'cast', 'his', 'line.', 'His', 'dad', 'showed', 'him', 'how', 'to', 'cast', 'his', 'line.'], ['edited_ending:', 'Fred', 'decided', 'to', 'try', 'recreating', 'it', 'at', 'home.', 'He', 'found', 'recipes', 'online', 'for', 'homemade', 'dough', 'and', 'sauce.', 'It', 'was', 'the', 'best', 'pizza', 'Fred', 'had', 'ever', 'eaten!'], ['edited_ending:', 'He', 'began', 'to', 'try', 'to', 'find', 'his', 'way', 'home.', 'After', 'a', 'little', 'wandering,', 'Tommy', 'found', 'his', 'backyard.', 'It', 'turns', 'out', 'that', 'his', 'house', 'was', 'not', 'so', 'far', 'away!'], ['edited_ending:', 'He', 'started', 'by', 'visiting', 'all', 'the', 'ancient', 'Roman', 'buildings', 'still', 'standing.', 'He', 'also', 'made', 'sure', 'to', 'take', 'in', 'as', 'much', 'local', 'cuisine', 'as', 'he', 'could.', 'He', 'came', 'home', 'with', 'a', 'few', 'pictures', 'but', 'nothing', 'interesting.'], ['edited_ending:', 'The', 'next', 'day,', 'I', 'purchased', 'another', 'bottle', 'and', 'it', 'took', 'me', 'ten', 'minutes.', 'Afterwards', 'I', 'felt', 'very', 'content.', 'I', 'went', 'out', 'to', 'buy', 'some', 'more.'], ['edited_ending:', 'Unfortunately', 'they', \"couldn't\", 'fix', 'it', 'themselves', 'without', 'the', 'proper', 'tools.', 'Robert', 'asked', 'his', 'neighbor', 'for', 'some', 'help', 'and', 'he', 'accepted.', 'His', 'neighbor', 'was', 'able', 'to', 'fix', 'the', 'car', 'and', 'solve', 'his', \"friend's\", 'issue.'], ['edited_ending:', 'He', 'crashes', 'into', 'a', 'tree.', 'The', 'engine', 'is', 'smoking', 'very', 'badly.', 'His', 'car', 'engine', 'is', 'blown', 'up!'], ['edited_ending:', 'After', 'saving', 'for', 'months,', 'he', 'went', 'down', 'to', 'the', 'dealership', 'looking', 'for', 'a', 'new', 'car.', 'He', 'went', 'back', 'and', 'forth', 'but', 'finally', 'decided', 'on', 'a', 'Mustang.', 'Joe', 'was', 'so', 'happy', 'with', 'his', 'new', 'car', 'and', 'never', 'looked', 'back.'], ['edited_ending:', 'The', 'kitten', 'dreamed', 'about', 'something', 'brown', 'and', 'squishy.', 'The', 'kitten', 'was', 'content', 'in', 'her', 'sleep.', 'The', 'kitten', 'imagined', 'it', 'was', 'asleep', 'on', 'the', 'lab.'], ['edited_ending:', 'Lacys', 'boss', 'warned', 'her', 'it', 'was', 'a', 'dead', 'end', 'job.', 'Lacy', 'worked', 'even', 'harder.', 'In', 'the', 'end,', 'she', 'was', 'stuck.'], ['edited_ending:', 'I', 'instantly', 'fell', 'in', 'love', 'with', 'Suki.', 'I', 'asked', 'her', 'to', 'marry', 'me', 'and', 'stay', 'in', 'Spain.', 'Unbelievably,', 'she', 'said', 'yes!'], ['edited_ending:', 'She', 'looked', 'through', 'magazines', 'for', 'ideas.', 'She', 'went', 'to', 'her', 'hairstylist', 'with', 'a', 'picture', 'of', 'the', 'exact', 'shade', 'she', 'wanted.', 'Kim', 'now', 'has', 'long', 'brown', 'hair.'], ['edited_ending:', 'Jay', 'picked', 'his', 'favorite', 'flowers', 'from', 'the', 'store.', 'He', 'passed', 'the', 'flowers', 'off', 'to', 'Mary.', 'Mary', 'chuckled', 'and', 'told', 'Chris', 'those', 'was', 'her', 'favorite', 'flowers.'], ['edited_ending:', 'His', 'friend', \"didn't\", 'want', 'to', 'help', 'so', 'he', 'had', 'to', 'find', 'someone', 'else.', 'He', 'went', 'on', 'a', 'site', 'called', \"Angie's\", 'List.', 'They', 'gave', 'a', 'great', 'review', 'of', 'a', 'plumber', 'for', 'him', 'to', 'hire.'], ['edited_ending:', 'He', 'asked', 'her', 'out', 'online', 'and', 'she', 'said', 'no.', 'Fred', 'was', 'devastated.', 'He', 'lost', 'his', 'confidence.'], ['edited_ending:', 'Jeff', 'was', 'sad', 'because', 'the', 'rug', 'really', 'tied', 'the', 'room', 'together.', 'Jeff', 'asked', 'his', 'friends', 'why', 'they', \"didn't\", 'like', 'the', 'rug.', 'The', 'people', 'said', 'they', \"didn't\", 'like', 'the', 'colors.'], ['edited_ending:', 'He', 'told', 'his', 'wife', 'that', 'the', 'neighbors', 'were', 'moaning', 'really', 'loud.', 'His', 'wife', 'told', 'him', 'to', 'mind', 'his', 'own', 'business.', 'The', 'neighbor', 'turned', 'on', 'some', 'music', 'to', 'drown', 'out', 'the', 'noise.'], ['edited_ending:', 'She', 'got', 'distracted', 'with', 'work.', 'Mel', 'remembered', 'the', 'turtle', 'when', 'she', 'finished', 'working.', \"Mel's\", 'turtle', 'had', 'cooled', 'down', 'and', 'she', 'painted', 'it.'], ['edited_ending:', 'Although', 'sore,', 'she', 'was', 'determined', 'and', 'decided', 'to', 'keep', 'going.', 'But,', 'the', 'next', 'day', 'the', 'pain', 'was', 'so', 'bad', 'she', 'collapsed', 'in', 'the', 'gym.', 'At', 'the', 'hospital', 'they', 'told', 'her', 'since', 'she', 'kept', 'pushing', 'herself', 'and', 'now', 'had', 'a', 'bad', 'injury.'], ['edited_ending:', 'Marco', 'took', 'small', 'sips', 'until', 'the', 'coffee', 'was', 'done.', 'He', 'was', 'happy', 'to', 'have', 'coffee.', 'Marco', 'was', 'glad', 'that', 'he', 'was', 'no', 'longer', 'bored.'], ['edited_ending:', 'Donna', 'challenged', 'Lisa', 'to', 'a', 'friendly', 'match.', 'Donna', 'practiced', 'every', 'day', 'for', 'hours.', 'Donna', 'easily', 'beat', 'Lisa.'], ['edited_ending:', 'They', 'cleaned', 'it', 'up', 'and', 'took', 'it', 'home.', 'One', \"kid's\", 'dad', 'said', 'that', 'it', 'looked', 'like', 'a', 'rare', 'species.', 'They', 'took', 'it', 'to', 'their', 'biology', 'teacher', 'to', 'find', 'out.'], ['edited_ending:', 'He', 'never', 'had', 'any', 'luck', 'bay', 'fishing,', 'but', 'it', 'was', 'worth', 'a', 'try.', 'Almost', 'immediately,', 'he', 'felt', 'a', 'big', 'tug', 'on', 'his', 'small', 'hook.', 'He', 'pulled', 'up', 'the', 'biggest,', 'heaviest', 'fish', 'he', 'had', 'ever', 'caught.'], ['edited_ending:', 'After', 'checking,', 'Dan', 'noticed', 'that', 'there', 'were', 'no', 'more', 'bananas.', 'Dan', 'decided', 'to', 'make', 'more', 'but', 'he', 'was', 'without', 'bananas', 'now.', 'Dan', 'was', 'not', 'happy', 'with', 'the', 'consequence,', 'as', 'he', 'knew', 'he', 'needed', 'bananas.'], ['edited_ending:', 'Over', 'time,', 'we', 'starting', 'falling', 'for', 'each', 'other.', 'We', 'decided', 'to', 'move', 'in', 'together.', 'We', 'moved', 'across', 'two', 'states', 'to', 'be', 'together.'], ['edited_ending:', 'He', 'saw', 'a', 'beautiful', 'painting', 'of', 'a', 'tucan', 'in', 'the', 'trees.', 'He', 'took', 'dozens', 'of', 'photos', 'of', 'it.', 'Of', 'all', 'the', 'paintings', 'he', 'saw,', 'the', 'toucan', 'was', 'his', 'favorite!'], ['edited_ending:', 'She', 'did', 'everything', 'for', 'him', 'and', 'did', 'it', 'in', 'a', 'lackluster', 'manner.', 'Then', 'one', 'day', 'her', 'son', 'Randy', 'passed', 'away.', 'Dorothy', 'was', 'heartbroken', 'and', 'felt', 'guilty.'], ['edited_ending:', 'When', 'she', 'finally', 'got', 'to', 'work', 'she', 'bought', 'some', 'Gatorade.', 'She', 'drank', 'a', 'lot', 'of', 'it', 'up.', 'When', 'she', 'finished', 'it', 'up', 'she', 'was', 'sad', 'she', 'had', 'none', 'left.'], ['edited_ending:', 'She', 'has', 'used', 'public', 'transit', 'exclusively', 'for', 'over', 'a', 'year.', 'Fortunately,', 'this', 'has', 'not', 'caused', 'her', 'any', 'major', 'problems.', 'Jody', 'is', 'very', 'happy', 'with', 'her', 'new', 'bus', 'and', 'train', 'passes.'], ['edited_ending:', 'She', 'got', 'up', 'in', 'ten', 'minutes.', 'Lucy', 'missed', 'her', 'ride.', 'She', 'had', 'to', 'walk', 'to', 'school.'], ['edited_ending:', 'I', 'kept', 'my', 'eyes', 'opened', 'the', 'entire', 'time.', 'I', 'wanted', 'to', 'see', 'what', 'was', 'going', 'on.', 'When', 'it', 'was', 'done', 'I', 'wanted', 'to', 'do', 'it', 'again.'], ['edited_ending:', 'He', 'told', 'Toni', 'he', 'was', 'there', 'first.', 'Toni', 'was', 'very', 'upset.', 'She', 'ended', 'up', 'throwing', 'something', 'at', 'the', 'man.'], ['edited_ending:', 'There', 'was', 'an', 'important', 'race', 'coming', 'up', 'at', 'the', 'end', 'of', 'the', 'month.', 'Anthony', 'trained', 'diligently', 'every', 'day.', 'On', 'the', 'day', 'of', 'the', 'race,', 'Anthony', 'was', 'unable', 'to', 'set', 'a', 'new', 'course', 'record.'], ['edited_ending:', 'The', 'family', 'talked', 'about', 'adopting', 'another', 'kid.', 'Their', 'adopted', 'child', 'felt', 'nervous', 'about', 'that.', 'The', 'family', 'decided', 'not', 'to', 'adopt', 'another', 'kid.'], ['edited_ending:', 'In', 'addition,', 'he', 'was', 'working', 'so', 'much', 'he', 'barely', 'had', 'time', 'for', 'her.', 'Denise', 'decided', 'it', 'was', 'best', 'that', 'she', 'propose', 'to', 'him.', 'Denise', 'was', 'ecstatic', 'that', 'he', 'agreed', 'to', 'marry', 'her.'], ['edited_ending:', 'She', 'then', 'went', 'over', 'to', 'greet', 'them.', 'They', 'greeted', 'her', 'with', 'open', 'arms.', 'Kelley', 'was', 'happy', 'to', 'see', 'them.'], ['edited_ending:', 'After', 'two', \"Year's\", 'of', 'school', 'she', 'decided', 'to', 'switch', 'schools.', 'Now', 'she', 'has', 'the', 'debt', 'from', 'law', 'school', 'and', 'a', 'better', 'degree.', 'Now', 'Carla', 'is', 'glad', 'she', 'had', 'ever', 'wanted', 'to', 'be', 'a', 'lawyer.'], ['edited_ending:', 'She', 'aspired', 'to', 'be', 'a', 'model', 'but', 'knew', 'it', \"wasn't\", 'realistic.', 'Reva', 'got', 'an', 'office', 'job.', 'Reva', 'was', 'proud', 'to', 'be', 'the', 'way', 'she', 'was.'], ['edited_ending:', 'Barney', 'bought', 'a', 'new', 'costume', 'with', 'his', 'money.', 'Barney', 'danced', 'for', 'the', 'crowd', 'with', 'the', 'new', 'costume.', 'The', 'crowd', 'threw', 'even', 'more', 'money', 'into', \"Barney's\", 'hat.'], ['edited_ending:', 'One', 'day', 'he', 'met', 'a', 'wonderful', 'girl', 'that', 'seemed', 'to', 'like', 'him.', 'James', 'fell', 'in', 'love', 'with', 'her', 'and', 'proposed', 'to', 'her.', 'James', 'and', 'his', 'new', 'wife', 'became', 'a', 'family'], ['edited_ending:', 'At', 'two', 'months,', 'my', 'ears', 'started', 'to', 'swell.', 'I', 'began', 'to', 'get', 'nervous.', 'Unfortunately', 'I', 'got', 'an', 'infection', 'and', 'had', 'to', 'take', 'them', 'out.'], ['edited_ending:', 'Becky', 'went', 'to', 'her', 'computer.', 'Becky', 'calls', 'soon', 'came', 'in.', 'Becky', 'found', 'that', 'she', 'needed', 'help', 'to', 'understand', 'everything.'], ['edited_ending:', 'It', 'was', 'a', 'close', 'game', 'and', 'the', 'other', 'team', 'lost.', 'We', 'were', 'very', 'glad', 'that', 'they', 'won.', 'We', 'hope', 'that', \"they'll\", 'win', 'again', 'tonight.'], ['edited_ending:', 'She', 'found', 'lots', 'of', 'great', 'outfits', 'in', 'her', \"sister's\", 'closet.', 'When', 'school', 'began,', 'she', 'was', 'dressed', 'to', 'the', 'nines.', 'Zoe', 'felt', 'very', 'confident', 'in', 'her', \"sister's\", 'wardrobe.'], ['edited_ending:', 'a', 'friend', 'went', 'to', 'the', 'lot', 'for', 'me.', 'they', 'told', 'me', \"I'd\", 'like', 'it,', 'so', 'I', 'talked', 'to', 'the', 'salesperson', 'about', 'financing.', 'After', 'the', 'paperwork', 'was', 'done,', 'the', 'car', 'was', 'mine!'], ['edited_ending:', 'One', 'day,', 'Sharon', 'noticed', 'Tommy', \"wasn't\", 'picking', 'up', 'his', 'phone', 'when', 'she', 'was', 'trying', 'to', 'call', 'and', 'break', 'up.', 'Sharon', 'went', 'to', \"Tommy's\", 'House', 'to', 'do', 'it', 'in', 'person.', 'Found', 'him', 'with', 'another', 'Woman', 'and', 'dumped', 'him.'], ['edited_ending:', 'Her', 'friend', 'had', 'never', 'been', 'boating', 'before.', 'They', 'sped', 'around', 'the', 'lake', 'and', 'enjoyed', 'the', 'sunshine.', 'It', 'was', 'a', 'great', 'day', 'on', 'the', 'water!'], ['edited_ending:', 'We', 'begged', 'our', 'parents', 'to', 'take', 'us', 'back', 'the', 'next', 'day,', 'but', 'they', 'said', 'no.', 'Eventually,', 'we', 'wore', 'them', 'down', 'and', 'they', 'said', 'yes.', 'That', 'was', 'another', 'great', 'trip', 'to', 'the', 'candy', 'store.'], ['edited_ending:', 'He', 'moved', 'onto', 'his', 'land', 'with', 'his', 'dog.', 'Jake', 'laided', 'down', 'seeds', 'with', 'his', 'own', 'hands.', 'Jake', 'lived', 'on', 'the', 'land,', 'away', 'from', 'civilization.'], ['edited_ending:', 'On', 'the', 'first', 'day,', 'I', 'was', 'shy', 'but', 'I', 'did', 'say', 'hello', 'to', 'some', 'kids.', 'None', 'of', 'them', 'invited', 'me', 'to', 'sit', 'with', 'them', 'at', 'lunch.', 'Now,', '10', 'years', 'later,', 'I', 'still', \"don't\", 'have', 'any', 'friends.'], ['edited_ending:', 'I', 'borrowed', 'some', 'books', 'about', 'cameras', 'from', 'the', 'library.', 'Unfortunately', 'I', 'lost', 'one', 'of', 'them.', 'I', 'had', 'to', 'pay', 'the', 'school', 'for', 'the', 'book', 'I', 'lost.'], ['edited_ending:', 'Then', 'a', 'thaw', 'came', 'overnight.', 'In', 'the', 'morning', 'all', 'that', 'remained', 'was', 'a', 'carrot', 'nose.', 'They', 'were', 'very', 'disappointed', 'there', 'was', 'no', 'more', 'snow', 'to', 'build', 'another', 'snowman', 'today.'], ['edited_ending:', 'As', 'he', 'was', 'leaving', 'for', 'work,', 'he', 'realized', 'that', 'he', \"didn't\", 'have', 'his', 'keys.', 'He', 'had', 'to', 'look', 'for', 'them', 'to', 'no', 'avail.', 'Tom', 'was', 'late', 'to', 'work', 'because', 'he', 'had', 'to', 'walk', 'to', 'the', 'bus', 'station.'], ['edited_ending:', 'While', 'looking', 'for', 'a', 'job', 'in', 'the', 'newspaper', 'he', 'gets', 'a', 'call.', 'His', 'boss', 'told', 'him', 'he', 'was', 'fired.', 'Ken', 'was', 'now', 'desperate.'], ['edited_ending:', 'My', 'mom', 'began', 'to', 'choke', 'on', 'a', 'hair.', 'She', 'soothed', 'herself', 'by', 'swallowing', 'an', 'entire', 'glass', 'of', 'water.', 'The', 'hair', 'will', 'never', 'win.'], ['edited_ending:', 'I', 'got', 'angry', 'at', 'him', 'for', 'ruining', 'my', 'clothes.', 'I', 'shooed', 'him', 'away.', 'I', 'spent', 'all', 'day', 'cleaning', 'the', 'clothes', 'again.'], ['edited_ending:', 'Lucy', 'was', 'not', 'worried', 'she', 'would', 'mess', 'up.', 'When', 'she', 'got', 'up', 'on', 'stage', 'she', 'was', 'relaxed.', 'Thankfully', 'she', 'did', 'wonderful', 'like', 'she', 'knew', 'she', 'would.'], ['edited_ending:', 'I', 'calmed', 'down', 'and', 'the', 'two', 'of', 'us', 'developed', 'a', 'plan', 'for', 'her', 'to', 'beat', 'this.', 'Surgery', 'was', 'scheduled', 'for', 'the', 'next', 'week.', 'She', 'is', 'now', 'missing', 'a', 'breast,', 'but', 'she', 'is', 'also', 'cancer', 'free!'], ['edited_ending:', 'He', 'was', 'sitting', 'at', 'the', 'very', 'top', 'row', 'but', 'he', \"didn't\", 'care.', 'He', 'was', 'just', 'happy', 'to', 'be', 'there!', 'The', 'Patriots', 'won', 'and', 'Angelo', 'was', 'thrilled!'], ['edited_ending:', 'He', 'was', 'going', 'to', 'relax', 'on', 'the', 'beach.', 'When', 'he', 'arrived', 'at', 'the', 'airport,', 'his', 'flight', 'was', 'delayed.', 'He', 'waited', 'for', 'six', 'hours', 'before', 'his', 'flight', 'could', 'leave.'], ['edited_ending:', 'Today,', 'she', 'brought', 'a', 'large', 'loaf', 'of', 'bread.', 'She', 'can', 'feed', 'the', 'squirrels', 'all', 'day.', 'One', 'large', 'squirrel', 'tried', 'to', 'steal', 'the', 'whole', 'loaf.'], ['edited_ending:', 'She', 'decided', 'to', 'ask', 'him', 'out', 'on', 'a', 'date.', 'He', 'was', 'very', 'surprised', 'and', \"didn't\", 'agree', 'to', 'date', 'her.', 'Alyssa', 'and', 'Sam', 'are', 'now', 'friends.'], ['edited_ending:', 'She', 'was', 'texting', 'when', 'she', \"didn't\", 'see', 'her', 'teacher', 'coming', 'to', 'her', 'desk.', 'Her', 'teacher', 'yelled', 'at', 'her', 'in', 'front', 'of', 'everyone.', 'Today,', 'she', 'still', 'texts', 'her', 'friends', 'while', 'in', 'class,', 'but', 'looks', 'around', 'for', 'the', 'teacher.'], ['edited_ending:', 'We', 'showed', 'him', 'a', 'lot', 'of', 'love', 'and', 'affection', 'He', 'is', 'a', 'happy', 'dog', 'now.', 'He', 'is', 'no', 'longer', 'mean.'], ['edited_ending:', 'Jason', 'ran', 'for', 'city', 'councilman', 'in', 'the', 'new', 'city.', 'He', 'ran', 'a', 'good', 'campaign', 'and', 'told', 'people', 'he', 'really', 'wanted', 'to', 'help.', 'Jason', \"didn't\", 'win', 'the', 'election', 'because', 'they', 'found', 'out', 'he', 'abandoned', 'his', 'old', 'community.'], ['edited_ending:', 'After', 'six', 'months', 'he', 'cheated', 'on', 'her', 'and', 'stole', 'things.', 'Synthia', 'had', 'had', 'enough', 'and', 'called', 'the', 'police.', 'Synthia', 'was', 'able', 'to', 'live', 'happily', 'after', 'that', 'despite', 'losing', 'her', 'stuff.'], ['edited_ending:', 'He', 'flipped', 'the', 'burgers', 'at', 'the', 'perfect', 'time.', 'He', 'cooked', 'each', 'burger', 'for', 'the', 'perfect', 'amount', 'of', 'time.', 'The', 'burgers', 'were', 'perfect.'], ['edited_ending:', 'Martha', 'walked', 'to', 'work', 'under', 'dangerous', 'conditions.', 'She', 'dodged', 'hail', 'the', 'size', 'of', 'baseballs.', 'Luckily', 'she', 'made', 'it', 'to', 'work', 'without', 'getting', 'killed.'], ['edited_ending:', 'He', 'borrowed', 'some', 'money', 'from', 'his', 'brother', 'to', 'buy', 'his', 'ticket.', 'The', 'night', 'before', 'the', 'concert,', 'he', 'could', 'barely', 'sleep.', 'Finally', 'the', 'day', 'came', 'and', 'Ian', 'had', 'an', 'incredible', 'time!'], ['edited_ending:', 'There', 'were', 'no', 'more', 'nuts.', 'The', 'squirrel', 'chewed', 'on', 'some', 'grass.', 'The', 'squirrel', 'climbed', 'back', 'up', 'the', 'tree.'], ['edited_ending:', 'They', \"wouldn't\", 'wait', 'until', 'the', 'lease', 'was', 'over.', 'Unfortunately', 'it', 'was', 'expensive.', 'They', 'wound', 'up', 'paying', 'a', 'break', 'lease', 'fee.'], ['edited_ending:', 'It', 'was', 'slightly', 'shorter', 'than', 'the', 'other', 'tables.', 'Anna', 'was', 'able', 'to', 'secure', 'an', 'bottle', 'of', 'wood', 'finish', 'to', 'even', 'out', 'the', 'finish.', 'She', 'was', 'proud', 'of', 'her', 'handy', 'craftsmanship!'], ['edited_ending:', 'She', 'felt', 'totally', 'humiliated.', 'She', 'ended', 'up', 'having', 'to', 'wait', 'ten', 'minutes', 'for', 'her', 'bus', 'to', 'arrive.', 'It', 'was', 'so', 'embarrassing', 'for', 'her.'], ['edited_ending:', 'He', 'reached', 'the', 'nest', 'and', 'all', 'of', 'his', 'efforts', 'were', 'successful.', 'The', 'nest', 'stayed', 'up', 'and', 'all', 'of', 'the', 'eggs', 'stayed', 'whole.', 'He', 'was', 'very', 'happy', 'with', 'all', 'his', 'effort.'], ['edited_ending:', 'The', 'gradually', 'got', 'smaller.', 'Eventually', 'it', 'was', 'hardly', 'noticeable.', 'I', 'was', 'glad', 'that', 'I', 'took', 'it', 'easy.'], ['edited_ending:', 'Throughout', 'high', 'school,', 'Kevin', 'parents', \"didn't\", 'want', 'him', 'getting', 'into', 'sports', 'He', 'dreamed', 'of', 'receiving', 'a', 'scholarship', 'to', 'play', 'for', 'The', 'University', 'of', 'Kentucky.', 'Now,', 'Kevin', 'plays', 'in', 'a', 'neighborhood', 'ball', 'league', 'and', 'gets', 'to', 'somewhat', 'live', 'out', 'his', 'dream.'], ['edited_ending:', 'It', \"didn't\", 'look', 'the', 'same', 'at', 'all.', 'One', 'day', 'the', 'bear', 'was', 'gone.', 'She', 'searched', 'through', 'the', 'dump', 'for', 'hours', 'and', 'found', 'it', 'as', 'dirty', 'as', 'it', 'used', 'to', 'be.'], ['edited_ending:', 'Gary', 'immediately', 'rushed', 'to', 'the', 'store', 'to', 'buy', 'some', 'book.', 'They', 'were', 'having', 'a', 'big', 'clearance.', 'Gary', 'was', 'pleased', 'when', 'he', 'got', 'home', 'he', 'started', 'reading', 'one', 'of', 'the', 'books', 'he', 'bought.'], ['edited_ending:', 'He', 'tried', 'to', 'give', 'it', 'food', 'and', 'walk', 'it', 'outside', 'with', 'no', 'success.', 'He', 'went', 'to', 'bed', 'exhausted', 'and', 'the', 'dog', 'was', 'still', 'sleeping.', 'Only', 'when', 'he', 'fell', 'asleep', 'would', 'the', 'dog', 'decide', 'to', 'wake', 'up.'], ['edited_ending:', 'He', 'accepted', 'the', 'return', 'without', 'hesitation.', 'The', 'man', 'offered', 'him', 'a', 'full', 'refund.', 'The', 'customer', 'gladly', 'took', 'it.'], ['edited_ending:', 'He', 'broke', 'many', 'traffic', 'laws', 'during', 'his', 'test.', 'Afterwards,', 'he', 'sadly', 'turned', 'to', 'his', 'tester.', 'The', 'tester', 'told', 'him', 'he', 'had', 'failed', 'the', 'test.'], ['edited_ending:', 'She', 'went', 'to', 'the', 'doctor', 'complaining', 'of', 'a', 'stomach', 'ache.', 'The', 'doctor', 'told', 'her', 'to', 'eat', 'slower', 'and', 'masticate', 'her', 'food', 'so', 'it', 'would', 'digest', 'more', 'easily.', 'Nina', 'listened', 'to', 'the', 'doctor', 'and', 'ate', 'her', 'food', 'at', 'a', 'slower', 'pace.'], ['edited_ending:', 'Dan', 'was', 'about', 'to', 'purchase', 'a', 'lot', 'near', 'the', 'beach', 'in', 'Florida', 'to', 'build', 'his', 'house.', 'Dan', 'was', 'told', 'construction', 'would', 'begin', 'during', 'the', 'winter', 'season.', 'Now', 'Dan', 'will', 'have', 'to', 'start', 'over', 'in', 'his', 'goal', 'to', 'attain', 'home', 'ownership.'], ['edited_ending:', 'She', 'tried', 'to', 'make', 'this', 'relationship', 'last.', 'Luckily', \"Sam's\", 'new', 'boyfriend', 'was', 'very', 'compatible.', 'He', 'always', 'took', \"Sam's\", 'feelings', 'into', 'consideration.'], ['edited_ending:', 'Stan', 'tipped', 'her', 'fifty', 'dollars', 'one', 'day.', 'Debbie', \"didn't\", 'stop', 'Stan,', 'even', 'though', 'it', 'had', 'to', 'be', 'a', 'mistake.', 'Stan', 'came', 'in', 'later', 'looking', 'for', 'the', 'money,', 'but', 'Debbie', 'denied', 'it.'], ['edited_ending:', 'I', 'had', 'spilled', 'juice', 'all', 'over', 'the', 'old', 'one.', 'I', 'was', 'devastated.', 'I', 'budgeted', 'to', 'buy', 'another', 'one', 'later', 'in', 'the', 'month.'], ['edited_ending:', 'She', 'thought', 'she', 'looked', 'more', 'natural', 'that', 'way.', 'She', 'never', 'replaced', 'the', 'contacts.', 'She', 'thought', 'her', 'eyes', 'looked', 'better', 'blue', 'than', 'brown.'], ['edited_ending:', 'At', 'the', 'bus', 'stop', 'the', 'wind', 'blew', 'her', 'skirt', 'up.', 'She', 'was', 'embarrassed.', 'She', 'could', 'not', 'keep', 'it', 'down.'], ['edited_ending:', 'Kelly', \"didn't\", 'do', 'very', 'well', 'in', 'English', 'though.', 'Her', 'grade', 'point', 'average', 'was', 'going', 'to', 'drop', 'if', 'she', 'got', 'a', 'bad', 'grade.', 'Kelly', 'joined', 'the', 'poetry', 'team', 'to', 'make', 'up', 'for', 'a', 'C', 'in', 'English.'], ['edited_ending:', 'During', 'treatment,', 'he', 'went', 'to', 'stay', 'at', 'Ronald', 'McDonald', 'House', 'in', 'Memphis.', 'I', 'visited', 'him', 'all', 'day', 'long.', 'We', 'played', 'with', 'his', 'fire', 'truck.'], ['edited_ending:', 'I', 'placed', 'her', 'on', 'the', 'mantel', 'of', 'my', 'fireplace', 'to', 'be', 'polite.', 'When', 'people', 'come', 'over', 'they', 'often', 'comment', 'on', 'her', 'shiny', 'porcelain', 'skin.', 'She', 'sits', 'on', 'the', 'mantel', 'every', 'day', 'looking', 'ugly', 'and', 'never', 'being', 'moved', 'from', 'position.'], ['edited_ending:', 'She', 'went', 'back', 'home', 'to', 'get', 'it.', 'As', 'she', 'picked', 'it', 'up,', 'it', 'slipped', 'and', 'landed', 'on', 'the', 'ground.', 'When', 'Janny', 'picked', 'it', 'up,', 'the', 'screen', 'was', 'cracked.'], ['edited_ending:', 'He', 'was', 'scared,', 'but', 'decided', 'to', 'face', 'his', 'fear.', 'It', 'turned', 'out', 'that', 'the', 'bully', 'just', 'wanted', 'to', 'play,', 'and', 'Jack', 'changed', 'his', 'mind', 'about', 'never', 'being', 'friends', 'with', 'him.', 'He', 'and', 'Jack', 'became', 'best', 'friends.'], ['edited_ending:', 'On', 'her', 'birthday,', \"Gidget's\", 'dad', 'got', 'her', 'a', 'nice', 'camera', 'with', 'great', 'zooming', 'abilities.', 'Gidget', 'could', 'now', 'take', 'pictures', 'of', 'little', 'birds', 'who', 'roosted', 'in', 'high', 'trees.', 'Gidget', 'quickly', 'became', 'very', 'knowledgable', 'about', 'bird', 'habitats.'], ['edited_ending:', 'She', 'was', 'in', 'the', 'final', 'seconds', 'on', 'a', 'game', 'against', 'a', 'rival', 'school.', 'She', 'had', 'one', 'shot', 'to', 'get', 'the', 'ball', 'and', 'make', 'the', 'shot.', 'Amanda', 'shot', 'an', 'air', 'ball.'], ['edited_ending:', 'This', 'year', 'he', 'dressed', 'up', 'as', 'a', 'scary', 'hot', 'dog,', 'a', 'Halloweeny.', 'None', 'of', 'the', 'kids', 'thought', 'his', 'costume', 'was', 'scary.', 'It', 'turned', 'out', 'the', 'costume', 'was', 'not', 'as', 'scary', 'as', 'Rashad', 'expected.'], ['edited_ending:', 'She', 'decided', 'to', 'make', 'some', 'lasagna.', 'She', 'left', 'it', 'on', 'the', 'counter', 'while', 'she', 'ducked', 'outside.', 'The', 'dog', 'ran', 'in', 'and', 'gobbled', 'it', 'up.'], ['edited_ending:', 'When', 'she', 'checked', 'on', 'him,', 'she', 'saw', 'that', 'he', 'had', 'peas', 'in', 'his', 'nose.', 'She', 'and', 'her', 'husband', 'put', 'the', 'baby', 'in', 'the', 'shower.', 'Then', 'they', 'cleaned', 'him', 'and', 'his', 'nose', 'up.'], ['edited_ending:', 'She', 'was', 'glad', 'rashes', 'never', 'developed', 'on', 'her', 'skin.', 'Ellen', \"didn't\", 'need', 'to', 'see', 'her', 'doctor.', 'The', 'previous', 'doctor', 'determined', 'she', 'was', 'allergic', 'to', 'her', 'old', 'soap.'], ['edited_ending:', 'The', 'nest', 'made', 'too', 'much', 'noise.', 'The', 'predator', 'hunted', 'them', 'down.', 'It', 'was', 'a', 'nice', 'snack.'], ['edited_ending:', 'He', 'decided', 'to', 'teach', 'another', 'painting', 'class', 'in', 'school.', 'Shane', 'created', 'many', 'beautiful', 'paintings.', 'Now', 'Shane', 'is', 'able', 'to', 'sell', 'his', 'artwork.'], ['edited_ending:', 'Thinking', 'of', 'where', 'to', 'go', 'next,', 'she', 'scratched', 'her', 'head.', 'Her', 'brother', 'scratched', 'his', 'head,', 'too.', 'She', 'realized', 'they', 'should', 'go', 'see', 'the', 'cats!'], ['edited_ending:', 'He', 'said', 'I', 'could', 'no', 'longer', 'use', 'it', 'to', 'pay', 'for', 'anything.', 'I', 'got', 'really', 'mad', 'because', 'he', 'told', 'me', 'to', 'be', 'responsible.', 'I', 'hung', 'up', 'the', 'phone', 'on', 'him.'], ['edited_ending:', 'Heather', 'was', 'able', 'to', 'drive', 'to', 'work', 'even', 'though', 'her', 'daughter', 'offered', 'to', 'drive', 'her.', 'Heather', 'went', 'the', 'very', 'next', 'day', 'to', 'buy', 'a', 'new', 'case.', 'Heather', 'called', 'her', 'daughter', 'and', 'told', 'her', 'she', 'did', 'not', 'have', 'to', 'go', 'to', 'the', 'store', 'with', 'her.'], ['edited_ending:', 'He', 'watched', 'a', 'tv', 'program', 'on', 'the', 'Hebrides', 'islands.', 'He', 'found', 'them', 'even', 'more', 'remote', 'and', 'wonderful.', 'The', 'Hebrides', 'became', \"Neil's\", 'new', 'favorite', 'islands!'], ['edited_ending:', 'Today', 'would', 'be', 'his', 'first', 'egg', 'harvest', 'of', 'the', 'season.', 'Noah', 'picked', 'up', 'the', 'first', 'egg', 'he', 'saw.', 'After', 'one', 'look,', 'he', 'knew', 'this', 'was', 'the', 'best', 'egg', 'yet.'], ['edited_ending:', 'We', 'ended', 'up', 'breaking', 'up', 'after', 'that', 'year.', 'I', 'was', 'very', 'upset', 'at', 'first', 'but', 'eventually', 'got', 'over', 'it.', 'I', 'learned', 'a', 'lot', 'from', 'that', 'relationship', 'and', 'feel', 'better', 'because', 'of', 'it.'], ['edited_ending:', 'The', 'train', 'broken', 'down', 'and', 'I', 'had', 'to', 'stand', 'around', 'and', 'wait', 'an', 'extra', '15', 'minutes', 'for', 'the', 'next', 'one.', 'Eventually,', 'another', 'train', 'came', 'and', 'I', 'got', 'on', 'it.', 'I', 'was', 'very', 'late', 'for', 'work', 'and', 'my', 'boss', 'was', 'mad', 'at', 'me.'], ['edited_ending:', 'The', 'runner', 'kept', 'his', 'foot', 'firmly', 'on', 'the', 'base.', 'He', 'watched', 'the', 'catcher', 'in', 'front', 'of', 'home', 'plate.', 'The', 'catcher', 'threw', 'the', 'ball', 'to', 'the', 'pitcher.'], ['edited_ending:', 'Until', 'he', 'had', 'find', 'a', 'new', 'job,', 'where', 'despite', 'not', 'receiving', 'much,', 'he', 'still', 'managed', 'to', 'send', 'money', 'home.', 'His', 'struggles', 'were', 'noticed', 'by', 'his', 'new', 'employer.', 'His', 'new', 'employer', 'raised', 'his', 'wages', 'which', 'helped', 'his', 'living', 'conditions.'], ['edited_ending:', 'The', 'characters', 'looked', 'like', 'professional', 'dancers', 'and', 'were', 'very', 'good.', 'They', 'taught', 'me', 'everything', 'about', 'dancing.', 'It', 'made', 'me', 'better', 'and', 'now', 'I', 'am', 'also', 'a', 'really', 'good', 'dancer.'], ['edited_ending:', 'One', 'day,', 'she', 'saw', 'someone', 'sending', 'a', 'text', 'and', 'run', 'a', 'stop', 'light.', 'Rachel', 'was', 'ejected', 'from', 'their', 'car', 'after', 'the', 'other', 'vehicle', 'hit', 'her.', 'Rachel', 'lost', 'a', 'leg', 'as', 'a', 'result', 'and', 'gave', 'speeches', 'about', 'never', 'texting', 'while', 'driving.'], ['edited_ending:', 'One', 'day', 'some', 'bigger', 'kids', 'were', 'picking', 'on', 'Tim.', 'Tims', 'cousins', 'chased', 'them', 'away.', 'Tim', 'tried', 'not', 'to', 'dislike', 'his', 'cousins', 'anymore.'], ['edited_ending:', 'He', 'wrote', 'himself', 'a', 'note', 'to', 'remember', 'to', 'get', 'her', 'flowers', 'to', 'thank', 'her', 'for', 'the', 'favor.', 'He', 'saw', 'the', 'note', 'and', 'remembered', 'to', 'get', 'the', 'flowers.', \"Freddy's\", 'wife', 'was', 'happy', 'to', 'receive', 'them.'], ['edited_ending:', 'He', 'fell', 'asleep', 'in', 'the', 'trees.', 'Gun', 'fire', 'happened', 'during', 'his', 'sleep.', 'He', 'never', 'woke', 'up.'], ['edited_ending:', 'She', 'picked', 'out', 'a', 'stuffed', 'animal', 'She', 'chose', 'to', 'get', 'a', 'snake', 'Jan', 'loved', 'her', 'stuffed', 'animal', 'snake', 'very', 'much'], ['edited_ending:', 'The', 'radio', 'in', 'the', 'cab', 'played', \"Kate's\", 'favorite', 'song.', 'She', 'wanted', 'to', 'hold', 'the', \"guy's\", 'hand', 'for', 'just', 'this', 'one', 'song.', 'They', 'ended', 'up', 'spending', 'an', 'hour', 'holding', 'hands.'], ['edited_ending:', 'His', 'guests', \"weren't\", 'wowed', 'by', 'the', 'presentation.', 'After', 'the', 'dinner', 'party,', 'Norman', 'was', 'embarassed', 'of', 'his', 'hosting', 'skills.', 'Everyone', 'talked', 'about', 'what', 'a', 'boring', 'party', 'it', 'had', 'been.'], ['edited_ending:', 'She', 'was', 'excited', 'to', 'get', 'a', 'lot', 'of', 'work', 'done.', 'From', 'the', 'plane,', 'she', 'saw', 'the', 'Hollywood', 'Hills', 'and', 'lots', 'of', 'celebrity', 'homes.', 'Chelsea', 'was', 'happy', 'she', 'had', 'finally', 'gotten', 'to', 'fly', 'over', 'California', 'landmarks.'], ['edited_ending:', 'She', 'went', 'to', 'sleep', 'happy', 'and', 'hot.', 'At', '4', 'AM', 'she', 'was', 'awakened', 'by', 'the', 'sounds', 'of', 'rain', 'and', 'a', 'breeze.', 'She', 'was', 'sad', 'to', 'see', 'the', 'heat', 'had', 'finally', 'broke.'], ['edited_ending:', 'They', 'ignored', 'a', 'car', 'that', 'followed', 'them,', 'but', 'it', 'came', 'back', 'again.', 'This', 'time,', 'they', 'ran', 'away', 'and', 'called', 'the', 'police.', 'The', 'police', 'arrived', 'later', 'and', 'Tiffany', 'and', 'her', 'husband', 'went', 'home.'], ['edited_ending:', 'A', 'network', 'decided', 'it', 'was', 'time', 'for', 'him', 'to', 'get', 'his', 'own', 'show.', 'Conan', 'was', 'ready', 'to', 'take', 'on', 'the', 'role.', 'Conan', 'loved', 'his', 'new', 'job', 'and', 'show.'], ['edited_ending:', 'I', 'gave', 'him', 'a', 'ball', 'yesterday', 'and', 'he', 'tossed', 'it', 'back', 'to', 'me.', 'I', 'picked', 'it', 'up', 'and', 'he', 'opened', 'his', 'mouth', 'slightly.', 'I', 'tossed', 'it', 'into', 'his', 'mouth', 'and', 'he', 'threw', 'it', 'back,', 'happy.'], ['edited_ending:', 'Unfortunately', 'yesterday', 'she', 'started', 'feeling', 'irritated.', 'As', 'she', 'was', 'walking,', 'she', 'realized', 'her', 'shirt', 'gave', 'her', 'a', 'huge', 'rash.', 'Kelley', 'no', 'longer', 'wanted', 'to', 'wear', 'them.'], ['edited_ending:', 'But', 'one', 'day', 'he', 'was', 'finally', 'getting', 'to', 'leave', 'home', 'in', 'two', 'days.', 'When', 'he', 'arrived,', 'he', 'was', 'very', 'nervous.', 'When', 'Sam', 'stepped', 'out', 'the', 'airplane,', 'he', 'realized', 'it', 'was', 'the', 'first', 'time', 'he', 'was', 'without', 'his', 'family.'], ['edited_ending:', 'Nita', 'followed', 'the', 'directions', 'given', 'through', 'her', 'devices', 'GPS.', 'Nita', \"couldn't\", 'find', 'the', 'house.', 'Nita', 'had', 'to', 'call', 'her', 'friend', 'to', 'direct', 'her.'], ['edited_ending:', 'It', 'tasted', 'like', 'soggy', 'warm', 'bread.', 'Jill', 'ordered', 'pizza', 'delivered', 'from', 'a', 'different', 'pizzeria.', 'She', 'threw', 'out', 'the', 'pizza', 'that', 'tasted', 'like', 'soggy', 'bread.'], ['edited_ending:', 'They', 'were', 'so', 'excited.', 'Then', 'Tina', 'discovered', 'she', 'the', 'triplets', 'were', 'all', 'boys!', 'She', 'knew', 'she', 'had', 'a', 'lot', 'of', 'work', 'ahead', 'of', 'her!'], ['edited_ending:', 'Her', 'mother', 'told', 'her', 'to', 'put', 'the', 'tooth', 'under', 'her', 'pillow', 'when', 'she', 'was', 'younger.', 'Jill', 'did', 'as', 'her', 'mother', 'instructed.', 'The', 'next', 'day', 'Jill', 'found', 'five', 'dollars', 'under', 'her', 'pillow.'], ['edited_ending:', 'In', 'the', 'store', 'she', 'saw', 'RIT', 'dye', 'and', 'decided', 'to', 'die', 'her', 'jacket', 'that', 'was', 'starting', 'to', 'fade.', 'She', 'decided', 'she', 'would', 'dye', 'the', 'jacket', 'blue', 'again.', 'She', 'wondered', 'why', 'she', \"hadn't\", 'thought', 'of', 'it', 'sooner.'], ['edited_ending:', 'They', 'kept', 'awake', 'all', 'night', 'trying', 'to', 'find', 'their', 'way.', 'They', 'never', 'got', 'up', 'the', 'next', 'day', 'and', 'were', 'never', 'seen', 'again.', 'They', 'never', 'got', 'the', 'revenge', 'they', 'wanted', 'on', 'their', 'annoying', 'neighbors.'], ['edited_ending:', 'He', 'ignored', 'his', 'phone', 'when', 'the', 'principal', 'called.', 'The', 'school', 'sent', 'a', 'truant', 'officer', 'to', 'his', 'house.', 'Everybody', 'noticed', 'that', 'Bernie', 'was', 'late', 'for', 'class.'], ['edited_ending:', 'Denise', 'decided', 'to', 'try', 'waxing.', 'After', 'locating', 'a', 'clinic,', 'Denise', 'tried', 'the', 'facial', 'waxing.', 'Denise', 'was', 'so', 'satisfied', 'with', 'the', 'results', 'of', 'her', 'first', 'facial', 'waxing.'], ['edited_ending:', 'Someone', 'handed', 'him', 'a', 'bagged', 'lunch', 'for', 'his', 'meal!', 'He', 'was', 'very', 'grateful.', 'This', 'small', 'kind', 'act', 'really', 'improved', 'his', 'mood!'], ['edited_ending:', 'She', 'decided', 'to', 'get', 'a', 'buzz', 'cut.', 'When', 'she', 'went', 'to', 'get', 'it', 'done,', 'it', 'went', 'quickly.', 'When', 'it', 'was', 'done', 'it', 'looked', 'great.'], ['edited_ending:', 'When', 'they', 'returned', 'home,', 'Maya', 'had', 'hot', 'cocoa', 'ready!', 'The', 'three', 'males', 'eagerly', 'sipped', 'the', 'warm', 'drink.', 'As', 'Maya', 'had', 'suspected,', 'they', 'were', 'frozen', 'to', 'the', 'bone!'], ['edited_ending:', 'The', 'kids', 'had', 'put', 'on', 'their', 'swimsuits', 'and', 'were', 'ready', 'to', 'splash', 'in', 'the', 'water', 'all', 'evening!', 'Everyone', 'was', 'greatly', 'disappointed.', \"We'll\", 'have', 'to', 'be', 'coming', 'back', 'to', 'the', 'pool', 'this', 'Sunday.'], ['edited_ending:', 'When', 'a', 'starving', 'dog', 'came', 'to', 'her', 'door', 'and', 'barked,', 'she', 'froze.', 'She', \"didn't\", 'want', 'to', 'let', 'it', 'in.', 'But', 'in', 'the', 'end,', 'he', 'heart', 'melted,', 'she', 'fed', 'the', 'dog', 'and', 'kept', 'it', 'with', 'her.'], ['edited_ending:', 'When', 'he', 'stepped', 'over', 'it,', 'the', 'rubber', 'band', 'snagged', 'on', 'the', 'sole', 'of', 'his', 'shoe.', 'The', 'rubber', 'band', 'snapped', 'and', 'broke.', 'Steve', 'threw', 'the', 'remains', 'in', 'the', 'trash.'], ['edited_ending:', 'The', 'attendant', 'rang', 'up', 'her', 'groceries', 'and', 'asked', 'for', 'payment.', \"Sarah's\", 'wallet', 'was', 'lost', 'and', 'she', 'was', 'so', 'embarrassed.', 'The', 'person', 'behind', 'her', 'paid', 'for', 'her', 'groceries', 'and', 'Sarah', 'was', 'so', 'grateful.'], ['edited_ending:', 'He', 'was', 'not', 'worried', 'if', 'he', 'would', 'not', 'make', 'any', 'friends.', 'When', 'he', 'got', 'there', 'some', 'nice', 'kids', 'started', 'talking', 'to', 'him', 'anyway.', 'Fred', 'was', 'happy', 'he', 'made', 'some', 'friends', 'afterall.'], ['edited_ending:', 'He', 'served', 'a', 'different', 'version', 'to', 'his', 'family', 'at', 'his', 'party.', 'They', 'all', 'begged', 'for', 'the', 'recipe.', 'Miguel', 'was', 'proud', 'that', 'they', 'loved', 'it', 'so', 'much.'], ['edited_ending:', 'Suddenly', 'I', 'had', 'a', 'yank', 'on', 'my', 'line!', 'I', 'was', 'very', 'excited', 'except', 'the', 'fish', 'got', 'away.', 'We', 'went', 'home', 'disappointed', 'that', 'day.'], ['edited_ending:', 'He', 'never', 'applies', 'for', 'other', 'jobs.', 'He', 'gets', 'a', 'call', 'the', 'next', 'day', 'from', 'a', 'place', 'offering', 'a', 'better', 'job.', 'Jeff', 'takes', 'the', 'Job.'], ['edited_ending:', 'When', 'he', 'has', 'tried', 'all', 'of', 'them,', 'he', 'was', 'hungry', 'again.', 'He', 'bought', 'another', 'corn', 'dog', 'and', 'drank', 'a', 'soda.', 'Rodney', \"didn't\", 'think', 'twice', 'and', 'went', 'back', 'in', 'a', 'ride', 'and', 'was', 'sick.'], ['edited_ending:', 'He', 'had', 'begged', 'his', 'parents', 'constantly', 'for', 'the', 'camera.', 'Then', 'one', 'day', 'they', 'finally', 'gave', 'in', 'and', 'told', 'him', 'to', 'buy', 'it.', 'He', 'was', 'so', 'happy', 'that', 'he', 'accidentally', 'ended', 'up', 'breaking', 'it.'], ['edited_ending:', 'Cornelia', 'enjoys', 'a', 'weekend', 'of', 'sunbathing.', 'She', 'returns', 'home.', 'She', 'is', 'satisfied', 'that', 'she', 'got', 'out', 'of', 'her', 'house.'], ['edited_ending:', 'He', 'should', 'have', 'undergone', 'months', 'of', 'chemo,', 'but', 'he', 'stayed', 'positive.', 'Then', 'he', 'went', 'to', 'his', 'follow-up', 'appointment', 'for', 'the', 'news.', 'The', 'doctor', 'told', 'Bob', 'his', 'cancer', 'was', 'fully', 'stage', 'four.'], ['edited_ending:', 'She', 'tried', 'other', 'things', 'on', 'the', 'menu.', 'But', 'she', 'always', 'ended', 'up', 'returning', 'to', 'the', 'Rollitini.', 'She', 'was', 'hooked', 'and', 'ate', 'it', 'at', 'least', 'once', 'a', 'week', 'for', 'months.'], ['edited_ending:', 'Todd', 'could', 'not', 'wait', 'to', 'get', 'his', 'grade.', 'He', 'went', 'to', 'his', 'teacher', 'and', 'asked', 'how', 'it', 'was.', 'Todd', 'was', 'glad', 'to', 'get', 'an', 'A', 'later', 'that', 'afternoon.'], ['edited_ending:', 'At', 'the', 'proceedings', 'Gary', 'waited', 'for', 'his', 'wife.', 'After', 'the', 'proceedings,', 'Gary', 'called', 'his', 'wife', 'to', 'tell', 'her', 'they', 'were', 'divorced.', 'Gary', 'was', 'sad,', 'because', 'she', 'yelled', 'and', 'cried', 'on', 'the', 'phone.'], ['edited_ending:', 'His', \"boss's\", 'desk', 'caught', 'on', 'fire.', 'His', 'boss', 'watched', 'the', 'flames', 'dance', 'over', 'the', 'work.', 'His', 'boss', 'extinguished', 'it', 'before', 'it', 'got', 'too', 'big.'], ['edited_ending:', 'She', 'saw', 'it', \"wasn't\", 'her', 'glasses.', 'She', 'called', 'her', 'sister', 'for', 'help.', 'Her', 'sister', 'drove', 'over', 'to', 'help', 'her', 'look', 'that', 'afternoon.'], ['edited_ending:', 'In', 'his', 'bunk,', 'he', 'dreamt.', 'He', 'imagined', 'the', 'boat', 'breaking', 'apart', 'and', 'him', 'falling', 'into', 'the', 'sea.', 'As', 'he', 'woke', 'up', 'he', 'thought', 'at', 'least', 'he', \"isn't\", 'having', 'the', 'bad', 'dream', 'anymore.'], ['edited_ending:', 'Tim', 'decided', 'to', 'sing', 'in', 'a', 'busy', 'street', 'corner', 'for', 'some', 'cash.', 'A', 'talent', 'scout', 'noticed', \"Tim's\", 'horrible', 'singing', 'voice.', 'The', 'talent', 'scout', 'offered', 'Tim', 'some', 'money', 'to', 'be', 'quiet.'], ['edited_ending:', 'The', 'vet', 'rehabilitated', 'the', 'little', 'crow.', 'The', 'crow', 'comes', 'and', 'goes', 'as', 'it', 'pleases.', 'Every', 'time', 'it', 'returns,', 'the', 'crow', 'brings', 'the', 'vet', 'a', 'trinket.'], ['edited_ending:', 'I', 'used', 'other', \"friend's\", 'putter.', 'It', 'was', 'the', 'only', 'club', 'I', 'knew', 'how', 'to', 'use.', 'I', 'ended', 'up', 'losing', 'horribly.'], ['edited_ending:', 'He', 'had', 'always', 'thought', 'he', 'would', 'get', 'second', 'place', 'if', 'he', 'tried.', 'The', 'day', 'of', 'the', 'competition', 'he', 'nervously', 'competed.', 'John', 'ended', 'up', 'just', 'barely', 'getting', '1st', 'place,', 'he', 'was', 'so', 'proud!'], ['edited_ending:', 'They', 'told', 'him', 'he', 'still', 'had', 'to', 'improve,', 'though.', 'John', 'lifted', 'weights', 'every', 'day', 'at', 'the', 'school', 'gym.', 'Soon', 'he', 'had', 'improved', 'drastically', 'and', 'was', 'still', 'one', 'of', 'the', 'best', 'on', 'the', 'team!'], ['edited_ending:', 'Harland', 'and', 'his', 'boss', 'were', 'not', 'friends.', 'They', 'never', 'decided', 'to', 'start', 'a', 'business', 'together.', 'They', 'never', 'built', 'a', 'business', 'into', 'a', 'huge', 'success.'], ['edited_ending:', 'The', 'dog', 'walked', 'around', 'the', 'house', 'then', 'returned', 'to', 'the', 'door.', 'It', 'then', 'gave', 'up', 'and', 'walked', 'away.', 'The', 'dog', 'went', 'to', 'lie', 'down', 'in', 'his', 'bed.'], ['edited_ending:', 'George', 'graduated', 'high', 'school.', 'He', 'was', 'happy', 'he', 'made', 'the', 'decision', 'to', 'make', 'his', 'dream', 'come', 'true.', 'Later,', 'George', 'decided', 'to', 'join', 'a', 'wrestling', 'league', 'instead', 'to', 'see', 'what', 'he', 'was', 'made', 'of.'], ['edited_ending:', 'She', 'was', 'so', 'embarrassed', 'and', 'went', 'to', 'the', 'restroom.', 'Sara', 'vowed', 'to', 'go', 'on', 'buy', 'bigger', 'pants.', 'She', 'ended', 'up', 'buying', '5', 'pairs', 'that', 'fit', 'her', 'well', 'and', 'felt', 'great.'], ['edited_ending:', 'She', 'got', 'the', 'ingredients', 'together', 'for', 'pudding.', 'It', 'turned', 'out', 'great.', 'She', 'made', 'it', 'for', 'the', 'neighborhood', 'and', 'they', 'all', 'loved', 'it.'], ['edited_ending:', 'We', 'gave', 'her', 'soothing', 'aloe', 'vera', 'lotion.', 'After', 'half', 'an', 'hour', 'she', 'was', 'still', 'not', 'itchy.', 'I', 'am', 'glad', 'she', 'did', 'not', 'have', 'an', 'allergic', 'reaction', 'to', 'the', 'cake.'], ['edited_ending:', 'Eventually', 'he', 'settled', 'on', 'a', 'restaurant.', 'He', 'drove', 'to', 'the', 'restaurant.', 'He', 'was', 'satisfied', 'with', 'the', 'selection', 'of', 'pancakes'], ['edited_ending:', 'There', 'was', 'a', 'new', 'kid', 'in', 'the', 'school.', 'Tom', 'greeted', 'him', 'and', 'punched', 'him.', 'The', 'new', 'kid', 'beat', 'him.'], ['edited_ending:', 'A', 'neighbor', 'lady', 'made', 'fun', 'of', 't', 'his', 'legs.', 'Terry', 'stopped', 'to', 'talk', 'to', 'his', 'neighbor.', 'She', 'made', 'a', 'joke', 'at', 'his', 'expense.'], ['edited_ending:', 'After', 'forty', 'five', 'minutes,', 'he', 'was', 'told', 'to', 'wait', 'another', 'half', 'hour.', 'Joseph', 'was', 'starting', 'to', 'be', 'impatient', 'but', 'waited', 'anyway.', 'After', 'two', 'hours', 'his', 'car', 'was', 'repaired', 'and', 'he', 'could', 'go', 'home.'], ['edited_ending:', 'When', 'she', 'opened', 'the', 'gift', 'it', 'was', 'an', 'ugly', 'sweater.', 'Toni', 'love', 'it.', 'However', 'to', 'her', 'surprise,', 'her', 'parents', \"didn't!\"], ['edited_ending:', 'When', 'we', 'I', 'arrived,', 'he', 'got', 'us', 'a', 'cozy', 'table.', 'Mike', 'had', 'flowers', 'waiting', 'at', 'the', 'table.', 'I', 'could', 'not', 'go', 'wrong', 'dating', 'Mike.'], ['edited_ending:', 'When', 'her', 'friends', 'saw', 'it', 'was', 'healthy', 'food,', 'they', 'praised', 'her.', 'Joanna', 'blushed', 'deeply', 'but', 'ate', 'her', 'lunch', 'in', 'silence.', 'Only', 'when', 'her', 'friends', 'were', 'gone', 'did', 'she', 'call', 'her', 'mom', 'to', 'thank', 'her.'], ['edited_ending:', 'Once', 'Gary', 'caught', 'a', 'ground', 'squirrel', 'and', 'fed', 'it', 'some', 'of', 'his', 'snacks.', 'Gary', \"didn't\", 'know', 'the', 'squirrel', 'had', 'rabies.', 'Gary', 'had', 'to', 'get', 'rabies', 'shots', 'after', 'the', 'squirrel', 'bit', 'him.'], ['edited_ending:', 'While', 'in', 'the', 'mountains', 'my', 'brother', 'swallowed', 'a', 'large', 'bug.', 'He', 'felt', 'very', 'sick', 'after', 'eating', 'the', 'bug.', 'We', 'decided', 'that', 'we', 'will', 'not', 'go', 'to', 'the', 'mountains', 'next', 'year.'], ['edited_ending:', 'The', 'concert', 'proceeded', 'despite', 'concerns', 'about', 'rain.', 'Sue', 'ended', 'up', 'staying', 'late', 'to', 'talk', 'with', 'her', 'friends.', 'All', 'the', 'money', 'she', 'spent', 'was', 'spent', 'well.'], ['edited_ending:', 'But', 'then', 'his', 'mom', 'saw', 'that', 'he', 'had', 'spent', 'fifty', 'hours', 'on', 'the', 'app.', 'She', 'shut', \"Carl's\", 'phone', 'off', 'for', 'an', 'entire', 'month.', 'Carl', 'learned', 'his', 'lesson', 'during', 'that', 'miserable', 'month!'], ['edited_ending:', 'The', 'cat', 'had', 'never', 'seen', 'a', 'rat.', 'The', 'cat', 'got', 'down', 'and', 'swatted', 'the', 'rat.', 'The', 'cat', 'liked', 'playing', 'with', 'the', 'rat.'], ['edited_ending:', 'Gary', 'knew', 'he', 'was', 'much', 'healthier', 'than', 'before.', 'Gary', 'knew', 'he', 'had', 'to', 'continue', 'on', 'his', 'healthy', 'path.', 'Gary', 'was', 'glad', 'his', 'weight', 'loss', 'gave', 'him', 'a', 'new', 'attitude', 'on', 'life.'], ['edited_ending:', 'I', 'made', 'a', 'lot', 'of', 'songs', 'and', 'practiced', 'them', 'a', 'lot.', 'I', 'would', 'play', 'shows', 'at', 'houses', 'around', 'the', 'neighborhood.', 'All', 'my', 'friends', 'and', 'family', 'would', 'come', 'to', 'watch', 'me', 'play', 'music.'], ['edited_ending:', 'I', 'had', 'checked', 'my', 'pants', 'in', 'the', 'washing', 'machine.', 'I', 'found', 'my', 'pants', 'and', 'they', 'were', 'all', 'wet.', \"I'm\", 'glad', 'my', 'cellphone', \"wasn't\", 'in', 'there.'], ['edited_ending:', 'Three', 'of', 'the', 'students', 'had', 'refused', 'an', 'assignment', 'to', 'write', 'a', 'summary', 'about', 'Trump.', 'The', 'Professor', 'told', 'them', 'if', 'they', 'want', 'to', 'pass', 'they', 'must', 'do', 'the', 'work.', \"That's\", 'when', 'the', 'Dean', 'begrudgingly', 'stepped', 'in.'], ['edited_ending:', 'One', 'evening', 'after', 'eating', 'his', 'dinner', 'of', 'steak', 'and', 'potatoes.', 'Larry', 'went', 'for', 'a', 'run.', 'He', 'burned', 'off', 'the', 'calories', 'quick.'], ['edited_ending:', 'One', 'of', 'the', 'eggs', 'was', 'dropped', 'and', 'forgotten.', 'The', 'egg', 'rotted', 'for', 'two', 'months.', 'The', 'family', 'found', 'the', 'egg', 'from', 'the', 'smell.'], ['edited_ending:', 'The', 'man', 'dug', 'through', 'his', 'pockets', 'and', \"couldn't\", 'find', 'his', 'phone.', 'The', 'man', 'sighed', 'and', 'realized', 'he', 'forgot', 'it', 'in', 'the', 'car.', 'The', 'man', 'went', 'to', 'his', 'car', 'and', 'got', 'his', 'phone.'], ['edited_ending:', 'He', 'was', 'smelly', 'to', 'other', 'people.', 'Richard', 'decided', 'to', 'try', 'and', 'be', 'less', 'smelly.', 'He', 'showered', 'everyday', 'for', 'a', 'whole', 'week', 'and', 'received', 'compliments', 'from', 'his', 'coworkers.'], ['edited_ending:', 'so', 'he', 'sat', 'down', 'and', 'started', 'to', 'write', 'the', 'perfect', 'song', 'for', 'his', 'next', 'record', 'When', 'he', 'was', 'done', 'he', 'recorded', 'it.', 'The', 'song', 'became', 'his', 'second', 'huge', 'hit', 'in', 'a', 'short', 'period', 'of', 'time.'], ['edited_ending:', 'She', 'added', 'more', 'water', 'and', 'hoped', 'for', 'the', 'best.', 'The', 'kids', 'loved', 'it,', 'to', 'her', 'shock!', 'Anna', 'had', 'that', 'her', 'kids', \"weren't\", 'too', 'picky', 'when', 'it', 'came', 'to', 'drinks.'], ['edited_ending:', 'He', 'floated', 'over', 'a', 'current.', 'He', 'screamed', 'for', 'help.', 'Eventually', 'the', 'river', 'dumped', 'him', 'on', 'shore.'], ['edited_ending:', 'When', 'the', 'rain', 'stopped,', 'I', 'wanted', 'to', 'go', 'swimming', 'so', 'I', 'went', 'outside', 'and', 'realized', 'the', 'air', 'was', 'heavy', 'and', 'my', 'asthma', 'acted', 'up.', 'I', 'quickly', 'went', 'back', 'inside', 'to', 'decide', 'if', 'I', 'wanted', 'to', 'go', 'for', 'a', 'swim.', 'I', 'decided', 'not', 'to', 'go', 'swimming', 'and', 'watch', 'a', 'movie', 'in', 'the', 'a/c', 'instead.'], ['edited_ending:', 'Two', 'board', 'members', 'requested', 'a', 'report.', 'The', 'report', 'said', 'they', 'had', 'made', 'the', 'money', 'back.', 'The', 'report', 'suggested', 'other', 'companies', 'to', 'do', 'this.'], ['edited_ending:', 'He', 'waved', 'for', 'someone', 'to', 'stop.', 'A', 'big', 'truck', 'stopped', 'and', 'took', 'him', 'along.', 'He', 'had', 'the', 'car', 'towed', 'to', 'an', 'auto', 'shop', 'that', 'specialized', 'in', 'computer', 'malfunctions.'], ['edited_ending:', 'He', \"didn't\", 'need', 'to', 'get', 'to', 'the', 'store.', 'Gary', 'looked', 'on', 'a', 'recipe', 'app.', 'He', 'was', 'thrilled', 'to', 'see', 'a', 'real', 'Italian', 'dish', 'that', 'he', 'could', 'make.'], ['edited_ending:', 'A', 'trumpet', 'sounded', 'as', 'the', 'scout', 'rapidly', 'made', 'his', 'way', 'to', 'the', 'leader.', 'He', 'had', 'found', 'enough', 'water', 'for', 'everyone', 'and', 'it', 'was', 'very', 'close.', 'The', 'group', 'would', 'not', 'need', 'their', 'canteens', 'after', 'all.'], ['edited_ending:', 'Her', 'boyfriend', 'Sam', 'did', 'not', 'enjoy', 'when', 'Emilia', 'cried.', 'At', 'the', 'end', 'of', 'one', 'of', 'these', 'movies,', 'Sam', 'rolled', 'his', 'eyes', 'at', 'her', 'crying.', 'Emilia', 'got', 'mad', 'and', \"wouldn't\", 'speak', 'to', 'Sam', 'for', 'an', 'hour.'], ['edited_ending:', 'A', 'neighbor', 'in', 'the', 'building', 'worked', 'for', 'the', 'Italian', 'consulate.', 'She', 'arranged', 'for', 'him', 'to', 'get', 'amedal.', 'The', 'local', 'television', 'news', 'covered', 'the', 'ceremony.'], ['edited_ending:', 'She', 'was', 'offered', 'a', 'small', 'role', 'in', 'the', 'Nutcracker.', 'She', 'was', 'nervous', 'about', 'her', 'performance.', 'She', 'performed', 'adequately.'], ['edited_ending:', 'I', 'tried', 'to', 'plug', 'them', 'in', 'but', 'the', 'jack', 'would', 'not', 'fit.', 'I', 'downloaded', 'the', 'computer', 'manual', 'to', 'find', 'an', 'adapter.', 'I', 'found', 'out', 'I', 'was', 'putting', 'the', 'jack', 'into', 'the', 'wrong', 'hole!'], ['edited_ending:', 'She', 'had', 'searched', 'her', \"brother's\", 'room', 'first.', 'She', 'thought', 'she', 'would', 'find', 'the', 'doll', 'completely', 'destroyed.', 'She', 'was', 'relieved', 'and', 'she', \"didn't\", 'have', 'to', 'tell', 'her', 'mom', 'and', 'get', 'her', 'brother', 'in', 'big', 'trouble.'], ['edited_ending:', 'Towards', 'the', 'end', 'of', 'the', 'dance', 'I', 'started', 'to', 'get', 'fairly', 'hungry.', 'My', 'friends', 'and', 'I', 'decided', 'that', 'we', 'wanted', 'some', 'pizza,', 'hunger', 'was', 'taking', 'over', 'the', 'though', 'of', 'an', 'upset', 'stomach.', 'When', 'we', 'got', 'to', 'it', 'they', 'were', 'all', 'out', 'of', 'pizza', 'and', 'we', 'were', 'upset.'], ['edited_ending:', 'He', 'had', 'never', 'seen', 'them', 'before,', 'as', 'they', 'are', 'rare', 'in', 'the', 'Arctic.', 'There', 'were', '2', 'of', 'them,', 'sitting', 'near', 'the', 'rocks', 'behind', 'the', 'glass.', 'The', 'other', 'customers', \"didn't\", 'even', 'look', 'up', 'at', 'us', 'the', 'entire', 'time', 'we', 'were', 'there.'], ['edited_ending:', 'He', 'also', 'gave', 'her', 'a', 'pair', 'of', 'keys', 'and', 'told', 'her', 'to', 'look', 'at', 'the', 'parking', 'lot.', 'She', 'saw', 'a', 'new,', 'shiny', 'cars.', 'She', 'became', 'happy', 'and', 'gave', 'him', 'a', 'hug.'], ['edited_ending:', 'She', 'put', 'the', 'wallet', 'in', 'her', 'purse.', 'Her', 'bosses', 'checked', 'cameras', 'after', 'someone', 'reported', 'her.', 'Joy', 'was', 'arrested.'], ['edited_ending:', 'Once', 'the', 'pills', 'were', 'no', 'longer', 'effective', 'he', 'went', 'to', 'the', 'doctor.', 'The', 'doctor', 'said', 'Nick', 'needed', 'surgery', 'to', 'replace', 'his', 'old,', 'worn-out', 'hip.', 'They', 'scheduled', 'an', 'operation', 'for', 'the', 'next', 'month,', 'and', 'it', 'was', 'a', 'success.'], ['edited_ending:', 'After', 'much', 'deliberation,', 'we', 'pulled', 'out', 'our', 'fishing', 'sticks.', 'Almost', 'immediately,', 'Tom', 'caught', 'a', 'fish.', 'I', 'was', 'cheering', 'while', 'he', 'reeled', 'it', 'in.'], ['edited_ending:', 'He', 'wanted', 'to', 'be', 'able', 'to', 'help', 'the', 'president.', 'He', 'looks', 'in', 'the', 'mirror', 'and', 'is', 'proud', 'of', 'himself.', 'Joe', 'is', 'a', 'great', 'chief', 'of', 'staff'], ['edited_ending:', 'I', 'was', 'two', 'blocks', 'away', 'from', 'the', 'bus', 'stop', 'when', 'I', 'saw', 'the', 'bus', 'leave.', 'It', 'had', 'arrived', '10', 'minutes', 'early.', 'I', 'had', 'to', 'wait', 'thirty', 'minutes', 'for', 'the', 'next', 'bus.'], ['edited_ending:', 'She', 'went', 'to', 'her', 'teacher', 'and', 'told', 'him', \"she'd\", 'work', 'alone.', 'The', 'teacher', 'refused.', 'So', 'Silvia', 'hardly', 'had', 'to', 'do', 'any', 'work', 'to', 'pass', 'her', 'class.'], ['edited_ending:', 'He', 'bought', 'a', 'bunch', 'of', 'wine', 'grapes', 'to', 'do', 'so.', 'Leonardo', 'ate', 'all', 'the', 'grapes.', 'There', 'was', 'nothing', 'left', 'to', 'make', 'wine.'], ['edited_ending:', 'I', 'was', 'very', 'nervous', 'about', 'my', 'new', 'schedule.', 'When', 'my', 'new', 'schedule', 'started,', 'I', 'was', 'angry.', 'It', 'was', 'as', 'bad', 'as', 'I', 'had', 'thought.'], ['edited_ending:', 'All', 'of', 'sudden', 'a', 'girl', 'with', 'blonde', 'hair', 'and', 'ripped', 'jeans', 'stepped', 'out.', 'Allen', 'fell', 'in', 'love', 'with', 'her', 'jeans', 'instantly', 'as', 'she', 'walked', 'past.', 'He', 'was', 'so', 'shocked', 'he', 'went', 'to', 'say', 'hi', 'and', 'complimented', 'her', 'outfit', 'before', 'she', 'walked', 'away.'], ['edited_ending:', 'Emma', \"didn't\", 'have', 'to', 'ask', 'her', 'friends', 'and', 'family', 'to', 'babysit.', 'Emma', 'was', 'able', 'to', 'babysit', 'her', 'own', 'child.', 'Emma', \"didn't\", 'need', 'to', 'find', 'a', 'substitute', 'for', 'her', 'shift.'], ['edited_ending:', 'It', 'came', 'out', 'very', 'bad.', 'Charles', 'instead', 'now', 'enjoyed', 'drinking', 'tea.', 'He', 'decided', 'to', 'continue', 'to', 'make', 'tea', 'each', 'day.'], ['edited_ending:', 'They', 'had', 'settle', 'this', 'by', 'playing', 'a', 'game.', 'The', 'winner', 'had', 'gotten', 'to', 'choose', 'all', 'the', 'toppings.', 'The', 'winner', 'had', 'been', 'excited', 'to', 'get', 'the', 'honor', 'of', 'pizza', 'toppings,', 'but', 'decided', 'they', 'would', 'both', 'agree', 'upon', 'the', 'toppings', 'together.'], ['edited_ending:', 'Cam', 'got', 'a', 'job.', 'With', 'the', 'money', 'saved', 'from', 'the', 'job', 'he', 'was', 'able', 'to', 'pay', 'for', 'it.', 'Cam', 'had', 'really', 'straight', 'teeth.'], ['edited_ending:', 'Billy', 'had', 'done', 'great', 'in', 'school.', 'He', 'told', 'his', 'mother', 'he', 'needed', 'to', 'attend', 'summer', 'school.', 'Billy', 'loved', 'studying', 'in', 'his', 'room.'], ['edited_ending:', 'One', 'day', 'Billy', 'asked', 'her', 'a', 'question', 'about', 'class.', 'She', 'realized', 'he', 'needed', 'help,', 'and', 'offered', 'to', 'tutor', 'him.', 'Amanda', 'and', 'Billy', 'formed', 'a', 'stronger', 'relationship.'], ['edited_ending:', 'He', 'finished', 'in', 'a', 'few', 'minutes', 'and', 'confidently', 'turned', 'in', 'his', 'test.', 'And', 'he', 'was', 'in', 'a', 'good', 'mood', 'the', 'whole', 'day.', 'When', 'he', 'got', 'his', 'test', 'score', 'back,', 'he', 'was', 'ecstatic.'], ['edited_ending:', 'Jeff', 'looked', 'straight', 'ahead', 'in', 'concentration.', 'A', 'young', 'girl', 'caught', 'his', 'eye.', 'She', 'was', 'diligently', 'taking', 'notes', 'and', 'appeared', 'captured', 'by', 'the', 'lesson.'], ['edited_ending:', 'Dan', 'was', 'interested', 'because', 'he', 'never', 'encountered', 'an', 'inflatable', 'tube', 'before.', 'Dan', 'wondered', 'whether', 'he', 'should', 'stay', 'and', 'play', 'with', 'the', 'inflatable', 'tube', 'or', 'drag', 'it', 'to', 'shore.', 'Dan', 'chose', 'to', 'drag', 'it', 'to', 'shore.'], ['edited_ending:', 'Her', 'blog', 'started', 'to', 'become', 'popular.', 'Eventually', 'she', 'wished', 'she', \"hadn't\", 'revealed', 'her', 'identity.', 'Rachel', 'is', 'now', 'famous', 'because', 'of', 'her', 'blog.'], ['edited_ending:', 'Unfortunately', 'however', 'there', 'was', 'a', 'big', 'fight', 'about', 'it.', 'Penelope', 'had', 'to', 'ask', 'everyone', 'to', 'never', 'contact', 'her.', 'She', 'realized', 'she', \"couldn't\", 'have', 'friends', 'any', 'more.'], ['edited_ending:', 'I', 'thought', 'I', 'was', 'taking', 'pictures', 'but', 'I', 'was', 'drunk.', 'I', 'had', 'been', 'taking', 'pictures', 'with', 'a', 'fake', 'camera.', 'That', 'was', 'a', 'very', 'embarrassing', 'realization.'], ['edited_ending:', 'She', 'still', 'kept', 'a', 'box', 'of', 'chocolates', 'under', 'her', 'bed', 'to', 'nibble', 'on', 'at', 'night.', 'After', 'a', 'week,', 'she', 'came', 'to', 'the', 'conclusion', 'that', 'diets', \"weren't\", 'for', 'her.', 'Now', 'Karen', 'goes', 'out', 'and', \"doesn't\", 'worry', 'about', 'what', 'she', 'orders.'], ['edited_ending:', 'They', 'tried', 'to', 'climb', 'the', 'great', 'wall', 'quickly.', 'But', \"David's\", 'girlfriend', 'wanted', 'to', 'stop', 'to', 'rest', 'after', '20', 'minutes.', 'They', 'ended', 'up', 'leaving.'], ['edited_ending:', 'She', 'was', 'happy,', 'because', 'she', \"didn't\", 'like', 'to', 'use', 'her', 'air', 'conditioner.', 'it', 'was', 'the', 'perfect', 'temperature', 'to', 'just', 'use', 'just', 'the', 'fans.', 'She', 'decided', 'to', 'run', 'the', 'fans', 'on', 'high', 'and', 'not', 'use', 'her', 'AC.'], ['edited_ending:', 'She', 'knew', 'she', 'was', 'probably', 'going', 'to', 'the', 'vet', 'and', \"didn't\", 'really', 'have', 'a', 'choice', 'about', 'it.', 'When', 'she', 'saw', 'the', \"vet's\", 'office,', 'she', 'knew', 'it', 'was', 'going', 'to', 'be', 'a', 'bad', 'day.', 'The', 'vet', \"wasn't\", 'as', 'bad', 'as', 'she', 'thought,', 'and', 'they', 'went', 'to', 'the', 'park', 'after.'], ['edited_ending:', 'She', \"wasn't\", 'popular', 'and', 'her', 'grandparents', 'talking', 'to', 'her', 'made', 'her', 'happy.', 'She', 'told', 'her', 'friends', 'they', 'could', 'come', 'over', 'if', 'they', 'kept', 'it', 'calm', 'and', 'quiet.', 'Within', 'hours', 'her', 'friends', 'were', 'there', 'and', 'her', 'grandparents', 'were', 'glad', 'to', 'see', 'them.'], ['edited_ending:', 'Lauren', 'told', 'her', 'mom', 'he', 'was', 'ignoring', 'her.', 'Her', 'mom', 'grounded', 'her', 'brother.', 'Her', 'brother', 'felt', 'indignant', 'at', 'being', 'grounded.'], ['edited_ending:', 'Anna', 'opened', 'the', 'refrigerator.', 'She', 'took', 'out', 'the', 'milk.', 'She', 'poured', 'milk', 'into', 'a', 'bowl', 'of', 'cereal.'], ['edited_ending:', 'Lebowski', 'asked', 'Jeff', 'to', 'deliver', 'the', 'contract', 'money.', 'Jeff', 'said', 'no', 'at', 'first,', 'but', 'Lebowski', 'offered', 'to', 'pay', 'him.', 'Jeff', 'agreed', 'to', 'deliver', 'the', 'money', 'to', 'the', 'hitmen.'], ['edited_ending:', 'I', 'looked', 'in', 'several', 'stores', 'online.', 'I', 'finally', 'settled', 'for', 'one', 'that', 'was', 'solid', 'blue.', 'I', 'purchased', 'it', 'and', 'am', 'waiting', 'for', 'it', 'to', 'arrive.'], ['edited_ending:', 'Carlos', 'was', 'never', 'pulled', 'over', 'for', 'speeding.', 'The', 'officer', 'never', 'got', 'the', 'chance', 'to', 'write', 'up', 'a', 'speeding', 'ticket.', 'Carlos', 'never', 'had', 'to', 'go', 'to', 'court.'], ['edited_ending:', 'Every', 'day', 'for', 'the', 'previous', 'year,', 'Casey', 'had', 'asked', 'about', 'having', 'a', 'puppy.', 'Finally', 'Christmas', 'day', 'came.', 'That', 'morning,', 'Casey', 'cried', 'when', 'her', 'gift', 'was', 'a', 'new', 'puppy!'], ['edited_ending:', 'When', 'he', 'went', 'to', 'lunch', 'he', 'would', 'walk', 'around', 'talking', 'to', 'everyone.', 'Many', 'kids', 'would', 'come', 'up', 'and', 'introduce', 'themselves.', 'Joe', 'had', 'many', 'friends', 'because', 'he', 'talked', 'to', 'everyone.'], ['edited_ending:', 'After', 'almost', 'tripping,', 'it', 'was', 'just', 'my', 'luck', 'and', 'I', 'stepped', 'in', 'a', 'pothole', 'and', 'fell', 'and', 'hurt', 'my', 'ankle', 'very', 'badly.', 'It', 'so', 'bad', 'I', \"couldn't\", 'walk', 'and', 'called', 'my', 'friend', 'to', 'come', 'get', 'me.', 'My', 'friend', 'picked', 'me', 'up', 'and', 'brought', 'me', 'back', 'home!'], ['edited_ending:', 'At', 'first', 'she', 'had', 'trouble', 'fitting', 'in,', 'but', 'then', 'she', 'started', 'making', 'friends.', 'By', 'the', 'fifth', 'week,', 'she', 'had', 'lots', 'of', 'new', 'friends.', 'Isabelle', 'is', 'one', 'of', 'the', 'most', 'popular', 'people', 'in', 'her', 'club', 'now.'], ['edited_ending:', 'She', 'fed', 'it', 'a', 'carrot.', 'The', 'duck', 'swam', 'away.', 'She', 'looked', 'for', 'it', 'every', 'day', 'but', 'never', 'saw', 'it', 'again.'], ['edited_ending:', 'Someone', 'ordered', 'beef', 'tongue,', 'and', 'I', 'was', 'very', 'nervous.', 'I', 'tried', 'it.', 'It', 'was', 'surprisingly', 'disgusting!'], ['edited_ending:', 'So', 'the', 'pie', 'turned', 'out', 'horrible.', 'She', 'figured', 'out', 'she', 'used', 'salt', 'when', 'she', 'went', 'to', 'taste', 'it', 'and', 'it', 'tasted', 'terrible.', 'Tina', 'had', 'to', 'throw', 'it', 'out.'], ['edited_ending:', 'Matt', 'looked', 'for', 'his', 'cat.', 'He', 'put', 'posters', 'up', 'to', 'find', 'his', 'cat.', 'Someone', 'called', 'him', 'to', 'tell', 'him', 'his', 'cat', 'was', 'stuck', 'outside', 'the', 'window.'], ['edited_ending:', 'He', 'was', 'lassoing', 'things,', 'and', 'next', 'thing', 'I', 'knew,', 'I', 'felt', 'a', 'tug.', 'My', 'friend', 'had', 'lassoed', 'me!', 'I', 'had', 'rope', 'burns', 'for', 'months', 'after', 'that!'], ['edited_ending:', 'Jerome', 'decided', 'to', 'buy', 'a', 'video', 'game', 'system', 'in', 'his', 'honor', 'He', 'would', 'play', 'video', 'games', 'online', 'with', \"Jerome's\", 'friends.', 'He', 'formed', 'a', 'team', 'with', \"Jerome's\", 'friends', 'and', 'named', 'it', 'after', 'him.'], ['edited_ending:', 'When', 'they', 'sat', 'at', 'their', 'seats,', 'they', 'were', 'harassed.', 'Disgusted', 'by', 'this,', 'the', 'usher', 'told', 'the', 'manager.', 'Justin', 'and', 'Josh', 'got', 'to', 'enjoy', 'their', 'anniversary', 'the', 'rest', 'of', 'the', 'night.'], ['edited_ending:', 'After', 'the', 'track', 'meet', 'Kaleb', 'found', 'a', 'rerun', 'of', 'the', 'show', 'at', '11:30pm.', 'He', 'did', 'everything', 'in', 'his', 'power', 'to', 'stay', 'up', 'to', 'watch', 'the', 'show.', 'After', 'finally', 'watching', 'the', 'show,', 'he', 'felt', 'amazed', 'that', 'he', 'could', 'stay', 'up.'], ['edited_ending:', 'Nothing', 'seemed', 'quite', 'suitable', 'at', 'the', 'mall.', 'Then', 'she', 'asked', 'her', 'mom', 'if', 'she', 'could', 'borrow', 'a', 'necklace.', \"Cay's\", 'mom', 'lent', 'her', 'a', 'perfect', 'diamond', 'necklace!'], ['edited_ending:', 'It', 'took', 'me', 'a', 'short', 'time', 'to', 'accept', 'the', 'fact', 'that', 'she', 'died.', 'When', 'I', 'did', 'accept', 'her', 'death,', 'a', 'weight', 'was', 'lifted', 'off', 'my', 'shoulders.', 'I', 'am', 'glad', 'that', 'I', 'have', 'come', 'to', 'terms', 'with', 'her', 'dying.'], ['edited_ending:', 'I', 'had', 'been', 'careful', 'with', 'the', 'cable', 'running', 'to', 'my', 'house.', 'The', 'cable', 'turned', 'out', 'to', 'be', 'my', 'internet', 'connection.', 'I', 'was', 'glad', 'I', \"didn't\", 'have', 'to', 'go', 'without', 'internet', 'because', 'I', 'had', 'been', 'careful.'], ['edited_ending:', 'I', 'accepted', 'the', 'challenged', 'and', 'he', 'laid', 'out', 'the', 'pies.', 'When', 'he', 'won,', 'he', 'ended', 'up', 'breaking', 'his', 'chair.', 'His', 'back', 'landed', 'on', 'the', 'floor', 'first.'], ['edited_ending:', 'She', 'asked', 'her', 'dad', 'to', 'drive', 'me', 'to', 'the', 'ER', 'at', '3', 'in', 'the', 'morning', 'when', 'I', 'threw', 'up.', 'He', 'did,', 'and', 'it', 'turned', 'out', 'I', 'had', 'pneumonia.', 'They', 'sent', 'me', 'home', 'after', 'around', '13', 'hours', 'with', 'medication.'], ['edited_ending:', 'Peter', \"couldn't\", 'find', 'Sally', 'and', 'he', 'had', 'looked', 'everywhere', 'Peter', 'remembered', 'that', 'Sally', 'was', 'out', 'of', 'town', 'all', 'weekend', 'Peter', 'was', 'patient', 'and', 'decided', 'he', 'could', 'wait', 'and', 'show', 'Sally', 'on', 'Monday'], ['edited_ending:', 'One', 'night', 'Jimmy', 'was', 'racing', 'and', 'had', 'almost', 'won.', 'A', 'bicycle', 'rolled', 'out', 'onto', 'the', 'road', 'in', 'front', 'of', 'him.', 'Jimmy', 'slammed', 'into', 'the', 'bicycle', 'and', 'flew', 'from', 'his', 'car', 'and', 'hit', 'the', 'pavement.'], ['edited_ending:', 'Carlos', 'noticed', 'a', 'kid', 'pick', 'up', 'an', 'apple', 'and', 'pocketed', 'it.', 'As', 'the', 'kid', 'walked', 'away,', 'Carlos', 'ignored', 'him.', 'The', 'kid', 'just', 'kept', 'walking.'], ['edited_ending:', 'And', 'his', 'car', 'was', 'gone!', 'He', 'called', 'the', 'police', 'in', 'a', 'panic.', 'The', 'police', 'came', 'out', 'to', 'stop', 'the', 'burglar.'], ['edited_ending:', 'Then', 'during', 'the', 'test', 'I', 'accidentally', 'side-swiped', 'an', 'old', 'car', 'while', 'parking.', 'My', 'tester', 'got', 'very', 'mad', 'at', 'me', 'and', 'we', 'had', 'to', 'stop.', 'He', 'told', 'me', 'I', 'failed', 'my', 'test,', \"I'd\", 'have', 'to', 'go', 'home', 'and', 'try', 'again', 'later.'], ['edited_ending:', 'He', 'was', 'having', 'a', 'lot', 'of', 'fun.', 'A', 'cop', 'pulled', 'him', 'over', 'for', 'speeding.', 'Jerry', 'drove', 'more', 'carefully', 'the', 'rest', 'of', 'the', 'way.'], ['edited_ending:', 'We', 'heard', 'that', 'others', 'were', 'stunned', 'by', 'how', 'awesome', 'it', 'was.', 'I', \"can't\", 'wait', 'until', 'I', 'am', 'older', 'and', 'can', 'fly', 'one.', 'Since', 'we', 'missed', 'it', 'I', 'am', 'going', 'to', 'fly', 'in', 'an', 'air', 'show', 'for', 'my', 'dad', 'one', 'day.'], ['edited_ending:', 'One', 'day', 'it', 'rained', 'and', 'Colin', 'forgot', 'his', 'shovel', 'outside.', 'The', 'shovel', 'became', 'buried', 'under', 'mud', 'and', 'Colin', \"couldn't\", 'find', 'it.', 'Colin', 'cried', 'until', 'his', 'mother', 'bought', 'him', 'a', 'new', 'shovel.'], ['edited_ending:', 'Joe', 'read', 'a', 'magazine', 'while', 'he', 'waited', 'at', 'the', 'barber.', 'Joe', 'took', 'his', 'turn', 'to', 'get', 'his', 'hair', 'cut.', 'He', 'loved', 'his', 'new', 'cut.'], ['edited_ending:', 'One', 'family', 'was', 'interested', 'in', 'helping', 'him.', 'The', 'family', 'joined', 'Don', 'in', 'cleaning', 'up', 'the', 'car.', 'Don', 'reported', 'the', 'crime', 'to', 'the', 'local', 'police', 'station.'], ['edited_ending:', 'Henry', 'chose', 'to', 'eat', 'a', 'burger', 'during', 'lunch.', 'He', 'spilled', 'ketchup', 'on', 'his', 'suit.', 'Henry', 'vowed', 'never', 'to', 'eat', 'messy', 'food', 'at', 'a', 'company', 'event', 'again'], ['edited_ending:', 'One', 'day', 'she', 'made', 'them', 'some', 'new', 'snacks', 'she', 'had', 'never', 'tried', 'before.', 'She', 'fed', 'them', 'to', 'her', 'dogs.', 'The', 'treats', 'were', 'no', 'good', 'and', 'none', 'of', 'the', 'dogs', 'would', 'eat', 'them.'], ['edited_ending:', 'When', 'she', 'finally', 'ended', 'up', 'walking', 'to', 'her', 'car,', 'she', 'tried', 'to', 'keep', 'her', 'head', 'down.', 'Just', 'then', 'the', 'wind', 'swept', 'a', 'gust', 'of', 'sand', 'into', \"Kim's\", 'face.', 'She', 'stood', 'on', 'the', 'sidewalk', 'coughing', 'out', 'the', 'sand.'], ['edited_ending:', 'I', \"didn't\", 'have', 'a', 'job', 'but', 'I', 'wanted', 'to', 'be', 'out', 'on', 'my', 'own.', 'I', 'tried', 'to', 'look', 'for', 'a', 'job', 'but', 'my', 'luck', 'was', 'down.', 'I', 'ended', 'up', 'homeless.'], ['edited_ending:', 'It', 'was', 'a', 'new', 'grill!', 'He', 'assembled', 'it', 'and', 'started', 'grilling.', 'Dennis', 'cooked', 'for', 'his', 'family', 'every', 'night', 'on', 'his', 'new', 'grill.'], ['edited_ending:', 'She', 'worried', 'that', 'none', 'of', 'her', 'friends', 'would', 'show', 'up.', 'Maybe', 'they', 'were', 'worrying', 'the', 'same', 'thing?', 'She', 'decided', 'it', 'really', \"didn't\", 'matter.'], ['edited_ending:', 'Nate', 'decided', 'to', 'go', 'back', 'in', 'and', 'cheat', 'to', 'improve', 'his', 'grade.', 'But', 'Nate', 'just', \"couldn't\", 'bring', 'himself', 'to', 'cheat', 'off', 'another', 'student.', 'He', 'turned', 'in', 'his', 'exam,', 'knowing', 'he', 'would', 'fail', 'but', 'did', 'the', 'right', 'thing.'], ['edited_ending:', 'He', 'found', 'a', 'letter', 'under', 'it', 'that', 'was', 'dated', '60', 'years', 'ago', 'to', 'an', 'address', 'that', 'no', 'longer', 'existed.', 'He', 'opened', 'the', 'letter', 'and', 'read', 'it.', 'It', 'was', 'a', 'confession', 'from', 'one', 'friend', 'to', 'another.'], ['edited_ending:', 'Tony', 'met', 'an', 'old', 'girlfriend', 'at', 'the', 'grocery', 'store', 'right', 'after', 'the', 'wedding.', 'She', 'asked', 'how', 'the', 'wedding', 'was.', 'Tony', 'and', 'his', 'ex', 'had', 'a', 'nice', 'chat.'], ['edited_ending:', 'He', 'had', 'looked', 'every', 'where', 'for', 'a', 'cheap', 'saxophone.', 'One', 'day', 'he', 'had', 'finally', 'found', 'one', 'he', 'could', 'afford.', 'He', 'became', 'a', 'great', 'player.'], ['edited_ending:', 'Her', 'daughter', 'was', 'wondering', 'what', 'happened', 'to', 'the', 'books.', 'She', 'had', 'used', 'them', 'as', 'a', 'secret', 'diary.', 'All', 'of', 'her', 'thoughts', 'were', 'lost.'], ['edited_ending:', 'She', \"didn't\", 'believe', 'her', 'and', 'wanted', 'a', 'horse', 'with', 'a', 'pretty', 'horn', 'on', 'its', 'head', 'She', 'begged', 'her', 'mom', 'all', 'day', 'before', 'Christmas', 'Sasha', 'woke', 'up', 'to', 'her', 'horse', 'having', 'a', 'horn', 'taped', 'to', 'its', 'temple'], ['edited_ending:', 'His', 'sister', 'is', 'packing', 'the', 'tent', 'in', 'the', 'truck.', 'Lew', 'is', 'helping', 'her.', 'Soon', 'they', 'arrive', 'at', 'the', 'campsite.'], ['edited_ending:', 'Trying', 'to', 'get', 'his', 'luck', 'going,', 'Mel', 'made', 'another', 'bet.', 'He', 'held', 'the', 'dice', 'and', 'let', 'his', 'companion', 'blow', 'on', 'them.', 'He', 'let', 'the', 'dice', 'fly', 'one', 'more', 'time,', 'hoping', 'for', 'a', 'big', 'payout.'], ['edited_ending:', 'When', 'his', 'mother', 'died,', 'she', 'left', 'her', 'house', 'to', 'him.', 'Charles', 'wanted', 'to', 'live', 'in', 'the', 'house', 'with', 'his', 'sister.', 'But', 'the', 'will', 'stated', 'not', 'to', 'let', 'his', 'Sister', 'in', 'because', 'she', 'hated', 'his', 'dad.'], ['edited_ending:', 'His', 'teacher', 'took', 'his', 'temperature.', 'She', 'told', 'him', 'that', 'he', 'could', 'not', 'stay', 'at', 'school', 'today', 'because', 'you', 'are', 'sick.', 'When', 'he', 'went', 'home,', 'his', 'mom', 'gave', 'him', 'some', 'medicine', 'and', 'by', 'morning', 'he', 'was', 'well', 'again.'], ['edited_ending:', 'He', 'was', 'her', 'only', 'child.', 'Alex', 'made', 'arrangements', 'to', 'bury', 'him.', 'She', 'was', 'going', 'to', 'miss', 'her', 'son', 'so', 'badly.'], ['edited_ending:', 'She', 'considered', 'waiting', 'for', 'her', 'family,', 'but', \"couldn't\", 'help', 'herself.', 'She', 'searched', 'the', 'house', 'for', 'a', 'gift', 'with', 'her', 'name', 'on', 'it.', 'By', 'the', 'time', 'her', 'family', 'woke', 'up,', 'there', 'still', 'were', 'no', 'gifts.'], ['edited_ending:', 'He', 'closed', 'his', 'eyes', 'to', 'imagine', 'himself', 'running.', 'An', 'hour', 'had', 'passed', 'when', 'he', 'next', 'opened', 'them.', 'Bob', 'was', 'even', 'more', 'anxious', 'now.'], ['edited_ending:', 'He', 'ordered', 'a', 'drink', 'from', 'the', 'bartender', 'while', 'he', 'waited.', 'The', 'man', 'took', 'a', 'sip', 'and', 'spat', 'it', 'out.', 'He', 'threatened', 'to', 'call', 'the', 'police', 'on', 'the', 'bartender.'], ['edited_ending:', 'Tina', 'was', 'terrified.', 'She', 'started', 'crying.', 'Then', 'she', 'realized', 'she', 'was', 'unhurt.'], ['edited_ending:', 'He', 'worked', 'harder', 'at', 'his', 'job', 'help', 'support', 'his', 'dream.', 'After', 'hours', 'and', 'hours', 'of', 'work', 'he', 'finally', 'had', 'his', 'money.', 'He', 'quit', 'his', 'job', 'and', 'went', 'on', 'his', 'way', 'happier', 'than', 'ever.'], ['edited_ending:', 'It', 'had', 'seemed', 'so', 'great', 'and', 'so', 'she', 'bought', 'it!', 'She', 'got', 'home', 'and', 'took', 'the', 'tags', 'off', 'to', 'try', 'it', 'on', 'one', 'more', 'time.', 'She', 'tried', 'it', 'on', 'and', 'was', 'very', 'disappointed', 'that', 'it', \"didn't\", 'fit', 'her.'], ['edited_ending:', 'When', 'we', 'finally', 'got', 'to', 'the', 'zoo', 'it', 'was', 'hot', 'and', 'crowded', 'with', 'families.', 'We', 'walked', 'around', 'for', 'a', 'bit', 'and', 'she', 'got', 'to', 'ride', 'the', 'elephant!', 'When', 'we', 'were', 'leaving', 'the', 'zoo', 'she', 'said', 'she', 'had', 'a', 'great', 'time!'], ['edited_ending:', 'Alex', \"wasn't\", 'sure', 'what', 'it', 'was', 'because', 'she', 'had', 'been', 'sound', 'asleep.', 'He', 'noticed', 'a', 'dog', 'that', 'kept', 'licking.', 'His', 'face', 'was', 'soaked', 'when', 'he', 'got', 'up', 'from', 'his', 'nap.'], ['edited_ending:', 'Thomas', 'got', 'some', 'firewood', 'from', 'outside.', 'He', 'put', 'it', 'in', 'the', 'fireplace', 'and', 'they', 'all', 'sat', 'around', 'it', 'together.', 'After', 'hours', 'he', 'spent', 'with', 'his', 'family,', 'he', 'was', 'truly', 'thankful.'], ['edited_ending:', 'The', 'encouragement', 'from', 'the', 'doctors', 'and', 'her', 'husband', 'also', 'helped.', 'Finally,', 'the', 'baby', 'was', 'born.', 'It', 'was', 'a', 'girl.'], ['edited_ending:', 'Her', 'husband', 'decided', 'to', 'use', 'good', 'manners.', 'He', 'went', 'to', 'an', 'etiquette', 'class', 'Now', 'he', 'drinks', 'tea', 'with', 'his', 'pinky', 'out', 'like', 'a', 'gentleman', 'but', 'Wilma', \"won't\", 'take', 'him', 'back'], ['edited_ending:', 'Then', 'she', 'saw', 'Tom', 'at', 'a', 'store.', 'He', 'was', 'with', 'another', 'girl.', 'Lucy', 'immediately', 'went', 'up', 'to', 'him', 'and', 'screamed', 'at', 'him.'], ['edited_ending:', 'It', 'was', 'the', 'most', 'beautiful', 'thing', 'Eric', 'had', 'ever', 'seen.', 'When', 'it', 'was', 'over', 'he', 'headed', 'back', 'to', 'bed.', 'It', 'was', 'late', 'at', 'night,', 'but', 'it', 'was', 'worth', 'it.'], ['edited_ending:', 'Without', 'warning,', 'a', 'storm', 'came', 'in', 'and', 'Martin', 'scampered', 'to', 'a', 'nearby', 'tree', 'to', 'take', 'cover.', 'He', 'began', 'to', 'beg', 'God', 'to', 'preserve', 'his', 'life.', 'Just', 'at', 'that', 'moment,', 'the', 'clouds', 'parted', 'and', 'Martin', 'felt', 'relieved!'], ['edited_ending:', 'She', 'was', 'about', 'to', 'leave', 'when', 'she', 'saw', 'a', 'bird', 'on', 'the', 'ground.', 'She', 'took', 'a', 'picture', 'and', 'it', 'turned', 'out', 'to', 'be', 'the', 'best', 'one.', 'Barbara', 'delivered', 'it', 'to', 'the', 'local', 'museum', 'and', 'they', 'loved', 'this', 'one', 'above', 'all.'], ['edited_ending:', 'Fortunately,', 'after', 'a', 'few', 'days', 'it', 'stopped', 'hurting', 'so', 'bad.', 'I', 'will', 'be', 'able', 'to', 'play', 'again', 'soon.', 'That', 'is', 'a', 'really', 'lucky', 'turn', 'of', 'events.'], ['edited_ending:', 'He', 'found', 'the', 'mouse', 'was', 'dead.', 'Cody', 'threw', 'the', 'dead', 'mouse', 'in', 'the', 'trash', 'His', 'cat', 'dug', 'the', 'mouse', 'out', 'of', 'the', 'trash', 'can'], ['edited_ending:', 'I', 'was', 'so', 'nervous', 'before', 'the', 'scrimmage.', 'I', 'was', 'so', 'nervous', 'that', 'I', \"couldn't\", 'sleep.', 'I', \"don't\", 'know', 'why', 'I', 'was', 'nervous', 'because', 'we', 'ended', 'up', 'winning', 'the', 'scrimmage.'], ['edited_ending:', 'He', \"couldn't\", 'even', 'do', 'five', 'push', 'ups', 'a', 'week.', 'He', 'was', 'furious', 'that', 'he', \"hadn't\", 'lost', 'a', 'pound.', 'He', 'then', 'decided', 'that', 'his', 'body', 'was', 'fine', 'the', 'way', 'it', 'was.'], ['edited_ending:', 'Somebody', 'suggested', 'that', 'Chuck', 'stop', 'beating', 'his', 'dog.', 'That', 'turned', 'out', 'to', 'be', 'an', 'excellent', 'idea.', 'The', 'dog', 'now', 'responds', 'when', 'told', 'to', 'come,', 'sit,', 'stay', 'and', 'lie', 'down.'], ['edited_ending:', 'His', 'daughter', 'refused', 'the', 'sandwich.', 'The', 'man', 'ate', 'it', 'instead.', 'The', 'man', 'gave', 'his', 'daughter', 'an', 'apple.'], ['edited_ending:', 'During', 'the', 'test', 'I', 'knew', 'if', 'I', 'cheated', 'I', 'would', 'make', 'a', 'good', 'grade.', 'I', 'decided', 'to', 'cheat.', 'Even', 'though', 'it', \"wasn't\", 'ethical,', \"I'm\", 'happy', 'with', 'my', 'choice.'], ['edited_ending:', 'I', 'asked', 'the', 'neighbors', 'about', 'the', 'source', 'of', 'the', 'noise.', 'They', 'said', 'it', 'seemed', 'to', 'be', 'coming', 'from', 'the', 'AC.', 'They', 'opened', 'the', 'blinds', 'to', 'see', 'a', 'group', 'of', 'birds', 'hopping', 'around', 'on', 'the', 'AC.'], ['edited_ending:', 'After', 'half', 'an', 'hour', 'my', 'neighbor', \"didn't\", 'open', 'her', 'door.', 'As', 'the', 'dog', 'was', 'still', 'screaming', 'for', 'help,', 'I', 'went', 'downstairs.', 'My', 'neighbor', 'opened', 'the', 'door,', 'she', 'screamed', 'at', 'me,', 'and', 'left', 'the', 'dog', 'out.'], ['edited_ending:', 'She', 'looked', 'in', 'the', 'refrigerator.', 'She', 'took', 'some', 'cheese', 'out', 'of', 'the', 'refrigerator.', 'Hannah', 'ate', 'the', 'cheese', 'while', 'she', 'waited.'], ['edited_ending:', 'I', 'called', 'the', 'stores', 'in', 'my', 'area', 'and', 'they', 'did', 'not', 'carry', 'it', 'any', 'more.', 'One', 'clerk', 'thought', 'I', 'wanted', 'a', 'Red', 'Sorghum', 'mix.', 'I', 'said', 'she', 'was', 'totally', 'off', 'base.'], ['edited_ending:', 'When', 'I', 'was', 'hungry', 'I', 'had', 'a', 'salad', 'It', 'tasted', 'amazing.', 'The', 'salad', 'was', 'the', 'winner', 'of', 'the', 'night.'], ['edited_ending:', 'When', 'she', 'was', 'done', 'she', 'cleaned', 'up', 'the', 'paint.', 'There', 'was', 'paint', 'all', 'over', 'the', 'floor.', 'Kate', 'knew', 'she', 'was', 'in', 'a', 'lot', 'of', 'trouble'], ['edited_ending:', 'One', 'day', 'we', 'had', 'to', 'practice', 'kissing', 'in', 'front', 'of', 'the', 'director.', 'My', 'boyfriend', 'slipped', 'me', 'the', 'tongue!', 'I', 'was', 'embarrassed', 'but', 'I', 'slipped', 'mine', 'in', 'as', 'well.'], ['edited_ending:', 'He', 'frowned', 'and', 'kept', 'away.', 'She', 'looked', 'sad', 'and', 'walked', 'away.', 'It', 'hurt', 'her', 'feelings', 'and', 'he', 'walked', 'away', 'with', 'guilt.'], ['edited_ending:', 'She', 'got', 'her', 'friends', 'together', 'to', 'have', 'a', 'party.', 'They', 'got', 'the', 'soda', 'and', 'chips', 'out.', 'It', 'was', 'the', 'party', 'of', 'the', 'year.'], ['edited_ending:', 'He', 'felt', 'something', 'pull', 'his', 'fishing', 'rod', 'strongly.', 'And', 'it', 'was', 'a', 'fish', 'with', 'three', 'eyes.', 'Fred', 'was', 'did', 'not', 'worry', 'about', 'it', 'and', 'threw', 'it', 'back', 'and', 'continued', 'you', 'fishing', 'immediately.'], ['edited_ending:', 'They', 'were', 'going', 'swimming', 'at', 'the', 'pool.', 'All', 'of', 'his', 'friends', 'came', 'and', 'brought', 'no', 'gifts.', 'When', 'the', 'party', 'was', 'over,', 'he', 'handed', 'out', 'goodie', 'bags.'], ['edited_ending:', 'She', 'told', 'me', 'she', 'loved', 'water.', 'I', 'told', 'her', 'it', 'was', 'ok.', 'I', 'put', 'on', 'my', 'swim', 'trunks', 'and', 'dove', 'in.'], ['edited_ending:', 'There', 'has', 'been', 'a', 'marked', 'lack', 'of', 'warmth.', 'The', 'only', 'warmth', 'the', 'plants', 'have', 'gotten', 'is', 'when', 'one', 'day', 'it', 'broke', '50', 'degrees.', 'We', 'have', 'now', 'mostly', 'given', 'up', 'on', 'getting', 'much', 'produce.'], ['edited_ending:', 'The', 'year', 'of', 'my', '12th', 'birthday', 'she', 'sent', 'a', 'fruitcake.', 'unfortunately,', 'my', 'dad', 'made', 'me', 'eat', 'the', 'entire', 'cake', 'on', 'my', 'own.', 'When', 'Aunt', 'Irma', 'found', 'out', 'she', 'graciously', 'sent', 'another', 'for', 'Xmas!'], ['edited_ending:', 'The', 'man', 'tried', 'to', 'back', 'away', 'from', 'it', 'but', 'it', 'saw', 'him.', 'He', 'picked', 'up', 'a', 'rock', 'and', 'tossed', 'it', 'over.', 'The', 'rock', 'hit', 'the', 'ground', 'and', 'the', 'mountain', 'lion', 'growled.'], ['edited_ending:', 'She', 'had', 'created', 'a', 'recipe', 'for', 'banana', 'flan.', 'After', 'her', 'family', 'tasted', 'it,', 'they', 'gave', 'her', 'a', 'round', 'of', 'applause.', 'Barb', 'was', 'so', 'proud!'], ['edited_ending:', 'He', 'started', 'talking', 'to', 'me', 'and', 'I', 'had', 'a', 'great', 'time.', 'We', 'eventually', 'parted', 'ways', 'but', 'not', 'before', 'I', 'was', 'able', 'to', 'hug', 'him.', 'He', 'started', 'laughing', 'and', 'has', 'since', 'kept', 'being', 'nice', 'to', 'anyone', 'that', \"I'm\", 'aware', 'of.'], ['edited_ending:', 'He', 'made', 'a', 'elaborate', 'demonstration', 'of', 'how', 'fun', 'they', 'were', 'to', 'use.', 'The', 'only', 'person', 'watching', 'him', 'was', 'hypnotized', 'by', 'his', 'enthusiasm.', 'The', 'an', 'gave', 'his', 'product', 'for', 'free', 'to', 'his', 'single', 'fan', 'before', 'the', 'fair', 'was', 'over.'], ['edited_ending:', 'He', 'hopped', 'in', 'their', 'tubes', 'and', 'started', 'floating.', 'He', 'went', 'several', 'miles,', 'having', 'a', 'good', 'time', 'all', 'the', 'while.', 'It', 'was', 'a', 'great', 'trip', 'down', 'the', 'river,', 'he', 'thought', 'to', 'himself.'], ['edited_ending:', 'There', \"wasn't\", 'enough', 'chicken', 'in', 'my', 'house', 'so', 'I', 'used', 'tofu.', 'I', 'ate', 'the', 'tofu', 'bowl', 'quickly.', 'My', 'new', 'food', 'invention', 'satisfied', 'my', 'hunger.'], ['edited_ending:', 'She', 'would', 'make', 'one', 'every', 'week.', 'Last', 'week', 'she', 'added', 'fresh', 'vegetables.', 'Everyone', 'said', 'they', 'could', 'taste', 'the', 'difference!'], ['edited_ending:', 'The', 'mom', 'thought', 'her', 'daughter', 'was', 'trustworthy.', 'Her', 'daughter', 'knew', 'she', \"wasn't\", 'going', 'to', 'be', 'caught.', 'She', 'never', 'returned', 'the', 'money', 'to', 'her', 'mom.'], ['edited_ending:', 'Kate', 'played', 'with', 'and', 'sang', 'to', 'the', 'baby.', 'Kate', 'loved', 'when', 'her', 'cousin', 'came', 'visiting.', 'Today', 'her', 'cousin', 'won', 'over', 'the', 'baby', 'with', 'her', 'singing', 'and', 'smile.'], ['edited_ending:', 'The', \"Smith's\", 'house', 'was', 'the', 'perfect', 'place.', 'All', 'of', 'the', 'kids', 'gathered', 'there', 'and', 'played', 'video', 'games.', 'It', 'was', 'a', 'wonderful', 'first', 'day', 'of', 'summer', 'break.'], ['edited_ending:', 'Joey', 'skipped', 'practicing', 'his', 'pitch', 'and', 'went', 'clubbing', 'instead.', 'The', 'client', 'arrived', 'early', 'to', 'the', 'meeting.', 'Joey', 'was', 'so', 'tired', 'he', 'failed', 'to', 'sign', 'the', 'client.'], ['edited_ending:', 'Eventually', 'his', 'youthful', 'foolishness', 'got', 'the', 'better', 'of', 'him.', 'He', 'decided', 'to', 'race', 'and', 'lost', 'control', 'of', 'the', 'car', 'and', 'landed', 'in', 'a', 'ditch.', 'Everyone', 'was', 'okay,', 'but', 'he', \"doesn't\", 'have', 'a', 'car', 'to', 'race', 'in', 'now.'], ['edited_ending:', 'It', 'was', 'the', 'day', 'of', 'the', 'party', 'and', 'she', \"couldn't\", 'wait', 'for', 'the', 'surprise.', \"That's\", 'when', 'her', 'parents', 'showed', 'her', 'a', 'beautiful', 'puppy', 'in', 'the', 'yard.', 'She', 'played', 'with', 'it', 'for', 'the', 'whole', 'day.'], ['edited_ending:', 'During', 'this', 'ride', 'I', 'listened', 'to', 'a', 'lot', 'of', 'music', 'and', 'got', 'some', 'food', 'I', 'took', 'my', 'time', 'on', 'the', 'highway', 'and', 'enjoyed', 'the', 'scenery', 'When', 'I', 'was', 'on', 'my', 'way', 'home', 'I', 'stopped', 'and', 'got', 'food', 'for', 'my', 'mom'], ['edited_ending:', 'The', 'list', 'started', 'small', 'but', 'grew', 'as', 'he', 'remembered', 'more', 'people', 'for', 'his', 'list.', 'Harry', 'realized', 'that', 'he', 'could', 'no', 'longer', 'have', 'a', 'small', 'party.', 'He', 'decided', 'to', 'change', 'the', 'venue', 'to', 'a', 'bigger', 'place', 'to', 'hold', 'his', 'friends.'], ['edited_ending:', 'She', 'worked', 'hard', 'to', 'memorize', 'her', 'lines', 'for', 'the', 'play', 'anyway.', 'When', 'the', 'show', 'opened,', 'she', 'stood', 'in', 'the', 'audience', 'and', 'took', 'it', 'all', 'in.', 'She', 'missed', 'the', 'feeling', 'of', 'performing.'], ['edited_ending:', 'The', 'guest', 'reconsidered', 'his', 'order', 'and', 'asked', 'for', 'more', 'time.', 'The', 'guest', 'asked', 'about', 'the', 'specials', 'again.', 'The', 'waiter', 'sighed', 'loudly.'], ['edited_ending:', 'She', 'was', 'so', 'tall', 'that', 'we', 'played', 'with', 'her', 'in', 'silly', 'ways.', 'We', 'put', 'a', 'large', 'trash', 'bag', 'over', 'her', 'and', 'spun', 'her', 'around.', 'We', 'could', 'hear', 'her', 'laughing', 'inside', 'the', 'bag.'], ['edited_ending:', 'His', 'girlfriend', 'fussed', 'because', 'she', 'knew', 'his', 'shoes', 'were', 'too', 'expensive.', 'Danny', 'denied', 'the', 'price', 'of', 'the', 'shoes', 'but', \"Danny's\", 'girlfriend', 'called', 'the', 'bank.', 'He', 'returned', 'the', 'shoes', 'but', 'said', 'he', \"didn't\", 'overpay.'], ['edited_ending:', 'It', 'was', 'an', 'extremely', 'hot', 'day.', 'Mike', 'went', 'to', 'a', 'festival.', 'Mike', \"didn't\", 'think', 'it', 'was', 'worth', 'coming.'], ['edited_ending:', 'He', 'was', 'more', 'excited', 'to', 'be', 'visiting', 'the', 'Flaming', 'Cliffs', 'while', 'there.', 'In', 'addition,', 'he', 'could', 'not', 'wait', 'to', 'go', 'to', 'the', 'monasteries', 'as', 'well.', 'Gary', 'was', 'in', 'high', 'anticipation', 'for', 'his', 'annual', 'summer', 'vacation', 'trip.'], ['edited_ending:', 'He', 'recognized', 'the', 'special', 'seal', 'on', 'it.', 'Nervously', 'he', 'opened', 'the', 'package.', 'He', 'got', 'accepted', 'into', 'college.'], ['edited_ending:', 'Most', 'of', 'her', 'family', 'could', 'always', 'make', 'it', 'to', 'her', 'recitals.', 'Her', 'mom', 'said', 'she', 'would', 'come', 'and', 'was', 'in', 'the', 'front', 'row.', 'Stacy', 'felt', 'ecstatic.'], ['edited_ending:', 'It', 'wasn’t', 'as', 'good', 'as', 'the', 'ones', 'my', 'friends', 'made.', 'I', 'asked', 'my', 'friends', 'to', 'make', 'them', 'for', 'me,', 'I', 'bought', 'all', 'the', 'things', 'I', 'needed', 'to', 'make', 'a', 'lot', 'of', 'sandwiches.', 'It', 'turns', 'out', 'that', 'my', 'friends', 'make', 'a', 'great', 'grilled', 'cheese.'], ['edited_ending:', 'So', 'she', 'was', 'unable', 'to', 'follow', 'the', 'steps', 'exactly.', 'She', \"didn't\", 'like', 'the', 'situation.', 'The', 'lady', 'looked', 'for', 'the', 'English', 'manual', 'again.'], ['edited_ending:', 'Tom', 'and', 'his', 'friends', 'overindulged', 'in', 'driks.', 'Slowly', 'Tom', 'started', 'to', 'feel', 'bad.', 'He', 'realized', 'he', 'drink', 'too', 'much'], ['edited_ending:', 'Anna', 'thought', 'this', 'was', 'a', 'good', 'way', 'to', 'make', 'her', 'hobby', 'useful,', 'as', 'a', 'career.', 'After', 'she', 'finished', 'school', 'she', 'got', 'a', 'job', 'as', 'a', 'movie', 'director.', 'That', 'made', 'Anna', 'and', 'her', 'parents', 'both', 'very', 'happy!'], ['edited_ending:', 'So', 'instead', 'of', 'arguing,', 'they', 'decided', 'on', 'Italian', 'food.', 'They', 'decided', 'to', 'play', 'rock,', 'paper,', 'scissors.', 'Jennifer', 'won', 'rock', 'over', 'scissors,', 'and', 'got', 'a', 'free', 'meal.'], ['edited_ending:', 'As', 'I', 'was', 'opening', 'the', 'door', 'I', 'stepped', 'on', 'a', 'cicada', 'who', 'began', 'to', 'screech.', 'I', 'instantly', 'ran', 'inside.', 'To', 'this', 'day', 'I', 'hate', 'cicadas!'], ['edited_ending:', 'I', 'was', 'very', 'nervous', 'about', 'playing', 'with', 'my', 'cast.', 'Everyone', 'told', 'me', 'not', 'to', 'worry', 'about', 'it.', 'We', 'ended', 'up', 'losing', 'the', 'game.'], ['edited_ending:', 'His', 'daughter', 'praised', 'his', 'outfits.', 'She', 'asked', 'him', 'to', 'help', 'her', 'shop', 'for', 'some', 'new', 'clothes.', 'Hank', 'was', 'happy', 'to', 'help', 'his', 'daughter', 'look', 'for', 'new', 'clothes.'], ['edited_ending:', 'He', 'pulls', 'over', 'to', 'check', 'out', 'the', 'problem.', 'He', 'crouches', 'down', 'and', 'looks', 'at', 'the', 'tire.', 'He', 'calls', 'a', 'tow', 'truck', 'and', 'waits', 'for', 'help.'], ['edited_ending:', 'She', 'placed', 'the', 'big', 'white', 'pot', 'on', 'her', 'front', 'porch.', 'Her', 'house', 'looked', 'very', 'modern.', 'She', 'liked', 'the', 'new', 'addition', 'to', 'her', 'front', 'porch.'], ['edited_ending:', 'She', 'studied', 'interest', 'rates,', 'fees,', 'and', 'benefits.', 'He', 'had', 'a', 'card', 'that', 'was', 'perfect', 'for', 'her.', 'Francine', 'is', 'happy', 'that', 'she', 'has', 'such', 'good', 'credit.'], ['edited_ending:', 'Then', 'Natalie', 'went', 'to', 'the', 'pet', 'store', 'that', 'was', 'closest', 'to', 'her', 'home.', 'At', 'the', 'store', 'she', 'chose', 'several', 'fish', 'and', 'hired', 'someone', 'to', 'set', 'up', 'a', 'tank.', 'Natalie', 'then', 'went', 'home', 'with', 'the', 'man', 'so', 'he', 'could', 'set', 'up', 'the', 'tank', 'with', 'her', 'fish.'], ['edited_ending:', 'Their', 'oldest', 'child', 'was', 'scheduled', 'to', 'marry', 'in', 'November.', 'Ginger', 'demanded', 'they', 'renew', 'their', 'vows', 'before', 'their', 'child', 'gives', 'birth.', 'John', 'finally', 'proposed', 'and', 'they', 'got', 'remarried', 'in', 'June.'], ['edited_ending:', 'Finally', 'I', 'found', 'one', 'in', 'red.', 'I', 'was', 'thankful', 'that', 'I', 'did.', 'I', 'ended', 'up', 'carrying', 'around', 'with', 'me', 'everywhere.'], ['edited_ending:', 'He', 'wondered', 'one', 'day', 'what', 'would', 'have', 'happend', 'if', 'he', 'had,', 'acted', 'on', 'that', 'crazy', 'idea', 'and', 'ran', 'for', 'President.', 'He', 'dreamed', 'that', 'he', 'would', 'have', 'had', 'a', 'good', 'turnout', 'and', 'became', 'the', 'Republican', 'Nominee.', 'Donald', 'started', 'to', 'regret', 'his', 'decision,', 'and', 'believed', 'he', 'would', 'have', 'went', 'on', 'to', 'become', 'The', 'President', 'of', 'the', 'United', 'States', 'of', 'America.'], ['edited_ending:', 'Rachel', 'and', 'her', 'dog', 'got', 'caught', 'in', 'the', 'snow.', 'It', 'was', 'snowing', 'very', 'hard', 'so', 'they', 'had', 'to', 'take', 'cover.', 'They', 'went', 'to', 'a', 'local', 'shop', 'and', 'stayed', 'until', 'it', 'stopped', 'snowing.'], ['edited_ending:', 'But', 'the', 'neighbor', 'always', 'smiles.', 'One', 'day', 'Rene', 'worked', 'up', 'the', 'nerve', 'to', 'ask', 'her', 'why', 'she', 'smiles', 'like', 'that.', 'The', 'neighbor', 'just', 'gave', 'her', 'a', 'weird', 'look', 'and', 'walked', 'away.'], ['edited_ending:', 'She', 'thought', 'a', 'fish', 'swam', 'into', 'her', 'mouth', 'but', 'it', 'was', 'seaweed.', 'She', 'spit', 'it', 'out', 'and', 'screeched.', 'She', 'never', 'wanted', 'to', 'swim', 'again.'], ['edited_ending:', 'One', 'day', 'they', 'decided', 'to', 'have', 'a', 'race.', 'Timmy', 'and', 'Jason', 'both', 'lined', 'up', 'their', 'bikes', 'and', 'sped', 'off', 'They', 'both', 'ended', 'up', 'riding', 'slow', 'and', 'crossed', 'the', 'line', 'at', 'the', 'same', 'time.'], ['edited_ending:', 'Kate', 'was', 'not', 'fond', 'of', 'doing', 'accounting.', 'Kate', 'was', 'hesitant', 'to', 'help.', 'But', 'she', 'agreed', 'to', 'help', 'since', 'he', 'was', 'family.'], ['edited_ending:', 'There', 'were', 'silly', 'noises', 'everywhere.', 'I', 'was', 'too', 'bored', 'to', 'be', 'scared.', 'I', 'would', 'never', 'ever', 'do', 'that', 'again.'], ['edited_ending:', 'He', 'ate', 'the', 'salad.', 'The', 'next', 'week', 'he', 'went', 'back', 'to', 'the', 'garden.', 'The', 'weeds', 'were', 'dried', 'and', 'brown.'], ['edited_ending:', 'One', 'day', 'while', 'her', 'mom', 'was', 'gone,', 'Sara', 'decided', 'to', 'clean.', 'She', 'was', 'cautious', 'not', 'to', 'find', 'her', 'presents.', 'She', 'avoided', 'her', \"mom's\", 'room', 'and', \"didn't\", 'find', 'anything.'], ['edited_ending:', 'Tim', 'asked', 'his', 'parents', 'for', 'help.', 'They', 'recommended', 'he', 'start', 'a', 'career', 'in', 'the', 'military.', 'Tim', 'just', 'finished', 'basic', 'training', 'for', 'the', 'Army.'], ['edited_ending:', 'Olly', 'was', 'practicing', 'a', 'jump', 'on', 'the', 'track.', 'The', 'bike', 'went', 'high', 'in', 'the', 'air', 'and', 'Ollie', 'skillfully', 'stayed', 'on.', 'Ollie', 'landed', 'safely', 'and', 'kept', 'riding', 'successfully', 'for', 'months.'], ['edited_ending:', 'She', 'also', 'had', 'solar', 'panels', 'installed', 'on', 'her', 'new', 'house.', 'Her', 'electricity', 'bill', 'became', 'nonexistent.', 'Martha', 'was', 'extremely', 'happy', 'with', 'her', 'purchases.'], ['edited_ending:', 'I', \"couldn't\", 'stop', 'sweating,', 'so', 'I', 'went', 'to', 'the', 'bathroom', 'to', 'cool', 'down.', 'I', 'ran', 'cold', 'water', 'on', 'my', 'hands,', 'turning', 'them', 'cool', 'white.', 'When', 'I', 'came', 'out,', 'he', 'yelled', 'at', 'me', 'for', 'missing', 'the', 'game.'], ['edited_ending:', 'I', 'had', 'to', 'climb', 'up', 'and', 'down', 'the', 'ladder', 'while', 'carrying', 'bags', 'of', 'cherries.', 'Eventually,', 'I', 'made', 'only', 'about', '$15', 'an', 'hour', 'since', 'I', 'was', 'so', 'slow.', 'The', 'only', 'thing', 'I', 'liked', 'about', 'it', 'were', 'the', 'free', 'cherries', 'I', 'received.'], ['edited_ending:', 'She', 'walked', 'across', 'the', 'stage', 'and', 'got', 'her', 'diploma.', 'She', \"didn't\", 'feel', 'a', 'huge', 'sense', 'of', 'accomplishment.', 'She', 'hung', 'the', 'diploma', 'on', 'her', 'wall', 'and', 'sighed.'], ['edited_ending:', 'He', 'tried', 'to', 'remove', 'the', 'bug', 'but', 'could', 'not,', 'so', 'the', 'man', 'called', 'the', 'doctor', 'office', 'to', 'make', 'an', 'appointment.', 'The', 'man', 'went', 'into', 'his', 'appointment', 'with', 'the', 'doctor.', 'The', 'doctor', 'removed', 'the', 'bug', 'and', 'gave', 'him', 'a', 'prescription.'], ['edited_ending:', 'He', 'had', 'bounced', 'up', 'and', 'down', 'in', 'the', 'car', 'the', 'entire', 'way', 'there.', 'He', 'was', 'finally', 'going', 'to', 'meet', 'Santa.', 'As', 'they', 'met', 'the', 'elves,', 'he', 'recited', 'to', 'himself', 'the', 'list', 'one', 'last', 'time.'], ['edited_ending:', 'Ben', 'spent', 'all', 'his', 'money', 'at', 'the', 'casino.', 'With', 'his', 'last', 'dollar', 'he', 'hit', 'the', 'jackpot!', 'Ben', 'forgot', 'all', 'about', 'basketball.'], ['edited_ending:', 'He', 'arrived', 'at', 'his', 'other', 'friends', 'door', 'just', 'as', 'they', 'were', 'walking', 'out.', 'Both', 'ready,', 'they', 'started', 'toward', 'to', 'their', 'destination', 'of', 'foot.', 'The', 'air', 'was', 'balmy,', 'and', 'they', 'remarked', 'on', 'it', 'upon', 'arriving', 'at', 'the', 'boat.'], ['edited_ending:', 'He', 'has', 'to', 'take', 'a', 'taxis', 'to', 'get', 'to', 'the', 'park', 'with', 'the', 'benches.', 'I', 'asked', 'him', 'why', 'he', \"didn't\", 'take', 'the', 'bus,', 'He', 'said', \"it's\", 'dangerous', 'and', 'he', \"doesn't\", 'feel', 'safe.'], ['edited_ending:', 'When', 'she', 'finally', 'saved', 'up', 'enough', 'money', 'she', 'ordered', 'a', 'protective', 'case', 'for', 'it.', 'It', 'came', 'to', 'her', 'house', 'and', 'she', 'opened', 'the', 'box', 'and', 'put', 'her', 'new', 'phone', 'in', 'the', 'case.', 'To', \"Sue's\", 'surprise,', 'she', 'dropped', 'it', 'and', 'the', 'new', 'phone', 'was', 'shattered.'], ['edited_ending:', 'Everyday,', 'she', 'took', 'care', 'of', 'children', 'inside', 'a', 'daycare.', 'And', 'they', 'developed', 'a', 'close', 'relationship.', 'Cindy', 'was', 'glad', 'she', 'chose', 'such', 'a', 'rewarding', 'job.'], ['edited_ending:', 'But', 'she', 'did', 'have', 'a', 'waffle', 'iron!', 'Nora', 'had', 'to', 'drive', 'four', 'miles', 'to', 'the', 'store', 'for', 'waffle', 'mix.', 'There,', 'she', 'finally', 'made', 'the', 'cone', 'she', 'craved!'], ['edited_ending:', 'I', 'love', 'modern', 'more', 'unique', 'homes.', 'I', 'am', 'hoping', 'I', 'can', 'find', 'one', 'of', 'those', 'in', 'my', 'price', 'range.', 'When', 'we', 'finally', 'decide', 'on', 'a', 'place', 'I', \"can't\", 'wait', 'to', 'build', 'it!'], ['edited_ending:', 'As', 'he', 'hiked,', 'Cody', 'spotted', 'some', 'wolves', 'in', 'the', 'distance.', 'If', 'it', \"weren't\", 'for', 'his', 'sharp', 'senses,', 'Cody', 'would', 'have', 'missed', 'the', 'pack.', 'He', 'reluctantly', 'told', 'Adam', 'he', 'wished', 'he', 'had', 'come', 'along', 'when', 'he', 'got', 'home.'], ['edited_ending:', 'He', 'was', 'a', 'member', 'of', 'their', 'political', 'party,', 'but', 'they', \"didn't\", 'support', 'him.', 'Jim', 'made', 'some', 'rather', 'stupid', 'decisions', 'that', 'election', 'year.', 'People', 'could', 'not', 'deal', 'with', 'those', 'decisions', 'and', 'voted', 'him', 'out.'], ['edited_ending:', 'Billy', 'was', 'very', 'upset.', 'The', 'class', 'arrived', 'at', 'the', 'firehouse.', 'Billy', 'had', 'an', 'awful', 'time', 'that', 'day', 'at', 'home', 'while', 'seeing', 'pictures', 'of', 'his', 'friends', 'at', 'the', 'firehouse.'], ['edited_ending:', 'She', 'read', 'his', 'favorite', 'poem.', \"Megan's\", 'phone', 'lost', \"it's\", 'connection.', 'They', 'talked', 'later.'], ['edited_ending:', 'Alex', 'loved', 'looking', 'at', 'the', 'old', 'games', 'on', 'display.', 'She', 'tried', 'on', 'an', 'old', 'retro', 'gaming', 'glove.', 'She', 'purchased', 'it', 'and', 'wore', 'it', 'out', 'of', 'the', 'store.'], ['edited_ending:', 'Unfortunately', 'I', 'made', 'an', 'enemy', 'and', 'they', 'hated', 'me.', 'They', 'reported', 'me', 'and', 'had', 'false', 'evidence', 'against', 'me.', 'I', 'am', 'now', 'serving', 'time', 'in', 'prison.'], ['edited_ending:', 'Suddenly', 'it', 'opened', 'with', 'a', 'loud', 'BANG', 'and', 'she', 'fell', 'to', 'the', 'floor', 'with', 'the', 'food', 'on', 'top', 'of', 'her.', 'The', 'avalanche', 'had', 'fallen', 'out', 'and', 'broken', 'her', 'foot!', 'Liz', 'had', 'ice', 'cream', 'for', 'dinner', 'at', 'the', 'hospital', 'instead.'], ['edited_ending:', 'During', 'the', 'weather', 'report', 'on', 'the', 'news', 'he', 'gave', 'a', 'great', 'forecast.', 'The', 'weatherman', 'said', 'it', 'would', 'snow', 'on', 'Christmas.', 'Many', 'happy', 'viewers', 'called', 'into', 'the', 'station.'], ['edited_ending:', 'His', 'family', 'was', 'angry', 'but', 'there', 'was', 'nothing', 'they', 'could', 'do.', 'He', 'made', 'a', 'satisfied', 'smile.', 'And', 'died', 'leaving', 'a', 'whole', 'mess', 'behind.'], ['edited_ending:', 'Once', 'we', 'got', 'there', 'we', 'decided', 'to', 'buy', 'her', 'a', 'mini', 'dinosaur.', 'She', 'spent', 'the', 'rest', 'of', 'the', 'trip', 'playing', 'with', 'it.', 'It', 'was', 'one', 'of', 'the', 'most', 'fun', 'vacations', 'we', 'have', 'ever', 'been', 'on.'], ['edited_ending:', 'I', 'had', 'a', 'boring', 'time.', 'Im', 'not', 'sure', 'why', 'I', 'even', 'went', 'to', 'Florida.', 'it', 'wasnt', 'a', 'vacation', 'at', 'all'], ['edited_ending:', 'He', 'was', 'expecting', 'a', 'small', 'yacht,', 'but', 'the', 'boat', 'was', 'actually', 'quite', 'big.', 'Jack', 'was', 'too', 'busy', 'looking', 'at', 'everything', 'on', 'the', 'boat', 'to', 'even', 'fish.', 'Jack', 'decided', 'he', 'wanted', 'to', 'buy', 'a', 'boat', 'when', 'he', 'got', 'older.'], ['edited_ending:', 'The', 'repairman', 'tried', 'fix', 'it', 'himself.', 'After', 'hours', 'of', 'frustration,', 'the', 'faucet', \"wasn't\", 'fixed.', \"Andy's\", 'repairman', 'called', 'another', 'repairman.'], ['edited_ending:', 'She', 'decides', 'to', 'get', 'out', 'of', 'the', 'house.', 'She', 'goes', 'out', 'to', 'dance.', 'Vicky', 'really', 'enjoys', 'her', 'time', 'out', 'on', 'the', 'dance', 'floor.'], ['edited_ending:', 'He', 'saw', 'a', 'black', 'car', 'with', 'tinted', 'windows', 'driving', 'along', 'side', 'them.', 'And', 'the', 'person', 'yelled', 'and', 'asked', 'for', 'directions.', 'Kevin', 'decided', 'to', 'grab', 'Kelly’s', 'hand', 'and', 'run', 'away.'], ['edited_ending:', 'Even', 'as', 'an', 'adult,', 'I', 'long', 'to', 'have', 'childlike', 'excitement.', 'I', 'want', 'to', 'open', 'presents', 'and', 'eat', 'too', 'much', 'food.', 'Then', 'maybe', 'watch', 'old', 'Christmas', 'movies', 'and', 'nap.'], ['edited_ending:', 'She', 'also', 'took', 'up', 'cooking', 'lessons', 'but', 'she', 'was', 'not', 'satisfied.', 'She', 'took', 'up', 'yoga', 'but', 'that', 'was', 'not', 'for', 'her.', 'She', 'took', 'up', 'karate,', 'and', 'realized', 'she', 'was', 'also', 'that', 'kind', 'of', 'person.'], ['edited_ending:', 'He', 'would', 'often', 'get', 'creepy', 'messages', 'from', 'him.', 'Jimmy', 'got', 'bothered', 'when', 'the', 'man', 'discovered', 'his', 'home', 'address.', 'He', 'told', 'his', 'parents', 'and', 'they', 'called', 'the', 'cops,', 'the', 'man', 'was', 'never', 'heard', 'from', 'again.'], ['edited_ending:', 'One', 'day', 'Tina', 'found', 'it', 'at', 'CVS.', 'It', 'was', 'a', 'godsend.', 'Now', 'Tina', 'could', 'have', 'all', 'the', 'yogurt', 'she', 'wanted.'], ['edited_ending:', 'Darren', 'called', 'for', 'help.', \"Darren's\", 'son', 'drove', 'him', 'to', 'the', 'hospital.', 'His', 'son', 'bought', 'a', 'gallon', 'of', 'milk', 'from', 'the', 'store.'], ['edited_ending:', 'The', 'babysitter', 'is', 'a', 'friend', 'to', 'the', 'family', 'and', 'they', 'love', 'her.', 'After', 'her', 'lunch', 'was', 'fed', 'to', 'her', 'Zoe', 'fell', 'asleep.', 'She', 'would', 'not', 'wake', 'up', 'from', 'her', 'nap', 'and', 'went', 'home', 'still', 'sleeping.'], ['edited_ending:', 'The', 'price', 'of', 'the', 'model', 'he', 'bought', 'fell', 'and', 'it', 'seemed', 'like', 'he', 'made', 'the', 'wrong', 'decision.', 'Carl', 'was', 'patient', 'and', 'the', 'price', 'of', 'his', 'car', 'went', 'up', 'again.', 'Carl', 'now', 'looks', 'like', 'he', 'made', 'a', 'smart', 'decision.'], ['edited_ending:', 'Carrie', 'tried', 'anyway', 'and', 'brought', 'a', 'list', 'of', 'reasons', 'to', 'her', 'parents.', 'Her', 'parents', 'read', 'the', 'entire', 'list,', 'impressed.', 'They', 'agreed', 'that', 'a', 'dog', 'would', 'be', 'great', 'for', 'Carrie.'], ['edited_ending:', 'Eventually,', 'I', 'began', 'getting', 'poorer', 'grades', 'because', 'I', \"wasn't\", 'studying.', 'Then,', 'I', 'decided', 'to', 'study', 'every', 'time', 'I', 'went', 'to', 'school.', 'On', 'my', 'next', 'report', 'card', 'my', 'grades', 'went', 'up', 'significantly!'], ['edited_ending:', 'Her', 'older', 'brother', 'plays', 'violin.', 'Tanya', 'borrows', 'his', 'violin', 'every', 'other', 'day.', 'Tanya', 'continues', 'to', 'practice', 'diligently.'], ['edited_ending:', 'She', 'got', 'on', 'her', 'surfboard', 'and', 'immediately', 'fell', 'hard', 'on', 'her', 'tushy.', 'Laura', \"couldn't\", 'believe', 'how', 'hard', 'it', 'was.', 'She', 'could', 'not', 'wait', 'to', 'go', 'home.'], ['edited_ending:', 'Andy', 'tried', 'to', 'tell', 'the', 'joke', 'to', 'Bob.', 'Bob', 'was', 'confused', 'about', 'the', 'joke.', 'He', \"didn't\", 'laugh.'], ['edited_ending:', 'I', 'named', 'the', 'kitten', 'Spot', 'and', 'took', 'him', 'home', 'I', 'nursed', 'Spot', 'back', 'to', 'health.', 'Now', 'Spot', 'and', 'I', 'are', 'best', 'friends'], ['edited_ending:', 'As', 'Lydia', 'was', 'vain,', 'she', 'liked', 'the', 'attention', 'very', 'much.', 'Until', 'someone', 'came', 'along', 'and', 'unsuccessfully', 'tried', 'to', 'snatch', 'the', 'purse', 'and', 'run', 'away.', 'Lydia', 'since', 'then', 'buys', 'simple', 'purses', 'and', 'no', 'one', 'notices', 'them.'], ['edited_ending:', 'They', 'stood', 'on', 'chairs', 'to', 'see', 'the', 'stage', 'even', 'better', 'The', 'ushers', 'told', 'them', 'to', 'get', 'down.', 'Sara', 'understood', 'that', 'others', 'could', 'not', 'see', 'the', 'stage.'], ['edited_ending:', 'They', 'rented', 'bikes', 'and', 'rode', 'through', 'the', 'town', 'until', 'they', 'got', 'to', 'a', 'steep', 'road.', 'The', 'small', 'bikes', 'would', 'not', 'go', 'up', 'the', 'hill', 'so', 'they', 'backed', 'down.', 'They', 'returned', 'the', 'bikes', 'to', 'the', 'agency', 'and', 'took', 'the', 'cab', 'to', 'the', 'beach.'], ['edited_ending:', 'Justin', 'started', 'to', 'smile.', 'Abby', 'hugged', 'him.', 'Abby', 'put', 'his', 'hand', 'in', 'hers.'], ['edited_ending:', 'I', 'had', 'never', 'ridden', 'before', 'but', 'I', 'was', 'excited.', 'That', 'day,', 'Jen', 'was', 'so', 'happy,', 'up', 'on', 'her', 'horse.', 'I', 'smiled', 'as', 'I', 'rode', 'next', 'to', 'her.'], ['edited_ending:', 'Hidden', 'in', 'the', 'branches', 'was', 'a', 'large', 'beehive.', 'The', 'beehive', 'crashed', 'onto', 'the', 'ground.', 'Suddenly', 'hundreds', 'of', 'bees', 'flew', 'out', 'and', 'stung', 'him', 'all', 'over', 'his', 'body!'], ['edited_ending:', 'Suddenly', 'a', 'flock', 'of', 'birds', 'flew', 'over', 'his', 'house.', 'Luckily,', 'the', 'hamburgers', 'were', 'safe', 'from', 'bird', 'droppings.', 'Fred,', 'vindicated,', 'grilled', 'hamburgers', 'for', 'everyone.'], ['edited_ending:', 'He', 'trained', 'and', 'trained', 'and', 'passed', 'all', 'of', 'his', 'tests', 'to', 'be', 'a', 'firefighter.', 'He', 'was', 'extremely', 'nervous', 'the', 'entire', 'time.', 'When', 'he', 'graduated', 'he', 'was', 'very', 'proud', 'of', 'himself', 'and', 'his', 'family', 'was', 'too.'], ['edited_ending:', 'The', 'supplies', 'stayed', 'fresh.', 'The', 'next', 'owner', 'found', 'them.', 'The', 'next', 'owner', 'kept', 'it.'], ['edited_ending:', 'The', 'boss', 'was', 'annoyed', 'with', 'his', 'lack', 'of', 'progress.', 'The', 'boss', 'requested', 'a', 'pay', 'decrease', 'for', 'the', 'man.', 'The', 'pay', 'decrease', 'request', 'was', 'denied.'], ['edited_ending:', 'So', 'he', 'stole', 'the', 'paint', 'and', 'brushes', 'and', 'started', 'to', 'draw', 'paintings', 'of', 'still', 'life.', 'He', 'eventually', 'became', 'good', 'at', 'painting.', 'He', 'sold', 'his', 'work', 'for', 'thousands', 'of', 'dollars.'], ['edited_ending:', 'She', 'figured', 'then', 'it', 'would', 'be', 'best', 'to', 'ask', 'her', 'doctor.', 'Her', 'doctor', 'told', 'her', 'it', 'could', 'be', 'signs', 'of', 'depression', 'or', 'anxiety.', 'Kathy', 'decided', 'to', 'seek', 'therapy', 'and', 'began', 'to', 'sleep', 'at', 'night', 'again.'], ['edited_ending:', 'Susan', 'was', 'several', 'years', 'older', 'than', 'Robbie.', 'She', 'always', 'flirted', 'with', 'strange', 'men.', 'Robbie', 'was', 'crushed', 'when', 'Susan', 'admitted', 'that', 'she', 'found', 'him', 'ugly.'], ['edited_ending:', 'When', 'she', 'woke', 'up,', 'it', 'was', 'raining', 'so', 'Marjorie', 'put', 'on', 'her', 'hat', 'after', 'straightening', 'her', 'hair.', 'As', 'soon', 'as', 'she', 'arrived', 'at', 'work,', 'she', 'took', 'her', 'hat', 'off.', 'She', 'went', 'to', 'the', 'bathroom', 'to', 'try', 'to', 'straighten', 'her', 'hair', 'again.'], ['edited_ending:', 'The', 'police', 'takes', 'a', 'look', 'at', 'his', 'truck.', 'There', 'is', 'a', 'flat', 'tire.', 'They', 'call', 'a', 'towing', 'service', 'to', 'come', 'get', 'the', 'truck.'], ['edited_ending:', 'He', 'tried', 'to', 'buy', 'a', 'house', 'at', 'auction', 'for', 'half', 'its', 'value.', 'Randy', 'lost', 'the', 'bid.', 'He', 'heard', 'the', 'house', 'was', 'sold', 'for', 'a', 'huge', 'profit.'], ['edited_ending:', 'A', 'man', 'came', 'to', 'her', 'door', 'and', 'pointed', 'to', 'her', 'earphones', 'which', 'had', 'fallen', 'on', 'the', 'ground', 'in', 'front', 'of', 'her', 'house.', 'She', 'bent', 'down', 'to', 'retrieve', 'them', 'but', 'hit', 'her', 'head', 'on', 'the', \"man's\", 'head.', 'When', 'she', 'looked', 'up,', 'she', 'felt', 'her', 'heartbeat', 'and', 'smiled', 'to', 'him.'], ['edited_ending:', 'I', 'tried', 'to', 'teach', 'him', 'my', 'name.', 'I', 'hope', 'someday', 'he', 'would', 'say', 'my', 'name', 'when', 'I', 'walked', 'in.', 'I', 'would', 'say', 'hello,', 'and', 'he', \"wouldn't\", 'say', 'anything.'], ['edited_ending:', 'He', 'paid', 'for', 'it', 'and', 'drove', 'to', 'pick', 'it', 'up', 'right', 'away.', 'He', 'paid', 'for', 'it', 'and', 'drove', 'to', 'pick', 'it', 'up', 'right', 'away.', 'Jimmy', 'rushed', 'it', 'back', 'and', 'exchanged', 'the', 'camera', 'locally.'], ['edited_ending:', 'A', 'store', 'clerk', 'gave', 'me', 'some', 'cash', 'and', 'let', 'me', 'sit', 'outside.', 'The', 'clerk', 'emptied', 'the', 'cash', 'drawer', 'into', 'my', 'bag.', 'I', 'was', 'able', 'to', 'pay', 'my', 'rent', 'but', 'the', 'store', 'clerk', 'was', 'fired.'], ['edited_ending:', 'He', 'was', 'very', 'happy', 'with', 'my', 'decision.', 'I', 'went', 'ahead', 'and', 'converted', 'to', 'his', 'religion.', 'We', 'study', 'this', 'religion', 'every', 'chance', 'we', 'get.'], ['edited_ending:', 'Irene', 'took', 'the', 'class', 'before', 'and', 'did', 'not', 'like', 'the', 'class', 'at', 'all!', 'She', 'decided', 'it', 'was', 'okay', 'to', 'be', 'different', 'than', 'Cammy.', 'Cammy', 'could', 'be', 'the', 'family', 'dancer', '-', 'not', 'Irene!'], ['edited_ending:', 'She', 'played', 'a', 'practice', 'game', 'with', 'the', 'other', 'tryout', 'people.', 'Her', 'team', 'lost', 'the', 'game.', 'Julie', 'is', 'off', 'the', 'basketball', 'team', 'now.'], ['edited_ending:', 'It', 'was', 'very', 'difficult', 'at', 'first.', 'Carlos', 'eventually', 'learned', 'more', 'and', 'more', 'words', 'in', 'Spanish.', 'He', 'was', 'happy', 'to', 'be', 'learning', 'a', 'new', 'language.'], ['edited_ending:', 'Luke', 'noticed', 'a', 'man', 'in', 'the', 'building', 'had', 'attacked', 'someone.', 'Luke', \"didn't\", 'like', 'that', 'so', 'he', 'knocked', 'the', 'man', 'down.', 'He', 'noticed', 'his', 'friend', 'come', 'out', 'of', 'the', 'building', 'and', 'told', 'him', 'to', 'call', 'the', 'police.'], ['edited_ending:', 'They', 'thought', 'it', 'would', 'be', 'fun', 'to', 'see', 'how', 'much', 'popcorn', 'they', 'could', 'eat.', 'They', 'spent', 'the', 'whole', 'movie', 'drinking', 'soda', 'and', 'eating', 'popcorn.', 'The', 'next', 'morning', 'they', 'had', 'terrible', 'stomach', 'aches.'], ['edited_ending:', 'Shari', 'tried', 'to', 'take', 'the', 'children', 'to', 'fun', 'events', 'with', 'Jay.', 'But', 'Jay', 'was', 'one', 'step', 'ahead', 'of', 'her', 'and', 'already', 'brought', 'them', 'to', 'a', 'movie.', 'They', 'went', 'to', 'the', 'park', 'and', 'Jay', 'won', 'a', 'football', 'game', 'against', 'both', 'children.'], ['edited_ending:', 'So', 'he', 'calls', 'everyone', 'he', 'knows', 'to', 'see', 'if', 'anyone', 'wants', 'to', 'play.', 'Most', 'times', 'no', 'one', 'wants', 'to', 'play', 'with', 'him.', 'But', 'that', \"doesn't\", 'stop', 'Zyah', 'from', 'calling', 'every', '30', 'minutes'], ['edited_ending:', 'The', 'surgeon', 'smiled', 'and', 'said', 'he', \"wouldn't\", 'do', 'a', 'lot.', 'But', 'Fiona', 'was', 'firm', 'and', 'hold', 'her', 'ground.', 'After', 'the', 'surgery,', 'she', 'looked', 'different,', 'but', 'she', 'liked', 'it.'], ['edited_ending:', 'Mia', 'joined', 'him', 'and', 'smiled', 'while', 'gently', 'touching', 'his', 'muscle.', 'Their', 'weekly', 'challenge', 'would', 'have', 'to', 'wait,', 'he', 'thought,', 'as', 'she', 'helped', 'him', 'to', 'the', 'locker', 'room.', 'He', 'dressed', 'and', 'Mia', 'took', 'him', 'to', 'the', 'doctor.'], ['edited_ending:', 'Her', 'mother', 'felt', 'sorry', 'for', 'her.', 'One', 'day,', 'her', 'mom', 'noticed', 'her', 'shoelaces', 'were', 'untied.', 'She', 'quickly', 'tied', 'her', 'shoes', 'so', 'it', \"wouldn't\", 'cause', 'any', 'danger.'], ['edited_ending:', 'His', 'phone', 'stayed', 'quiet', 'as', 'they', 'talked.', 'Jim', 'found', 'it', 'incredibly', 'awkward.', 'He', 'made', 'an', 'effort', 'to', 'get', 'off', 'the', 'phone', 'as', 'quickly', 'as', 'possible.'], ['edited_ending:', 'She', 'practiced', 'everyday', 'for', 'hours', 'after', 'school', 'Eventually', 'she', 'realized', 'it', \"wasn't\", 'helping', 'and', \"she'd\", 'never', 'be', 'good.', 'Jill', 'gave', 'up', 'on', 'her', 'music', 'dream'], ['edited_ending:', 'She', 'always', 'wanted', 'a', 'sweet', 'sixteen', 'party', 'like', 'the', 'celebrities', 'have.', 'She', 'felt', 'the', 'ship', 'had', 'sailed,', 'but', 'she', \"didn't\", 'care', 'much.', 'Her', 'friends', 'threw', 'her', 'a', 'surprise', 'sweet', '16', 'themed', 'party.'], ['edited_ending:', 'Misty', 'took', 'her', 'time', 'making', 'the', 'drink', 'beautiful.', 'The', 'customer', 'appreciated', 'the', 'extra', 'care', 'taken.', 'The', 'customer', 'tipped', 'Misty', 'dollars.'], ['edited_ending:', 'A', 'couple', 'of', 'months', 'later,', 'I', 'read', 'that', 'it', 'was', 'a', 'Ponzi', 'scheme.', 'I', 'was', 'glad', 'I', \"hadn't\", 'invest', 'money', 'in', 'it.', 'The', 'person', 'running', 'the', 'company', 'went', 'to', 'prison.'], ['edited_ending:', 'He', 'bought', 'a', 'pocket', 'protector,', 'hair', 'grease,', 'and', 'a', 'pack', 'of', 'MTG', 'cards.', 'Steffan', 'decided', 'he', 'was', 'going', 'to', 'become', 'a', 'dungeon', 'master.', 'First', 'campaign', 'made', 'him', 'quickly', 'realize', 'he', 'was', 'bad', 'being', 'a', 'dungeon', 'master.'], ['edited_ending:', 'I', 'tried', 'to', 'take', 'a', 'photo', 'in', 'the', 'photobooth.', 'I', 'tried', 'so', 'many', 'times', 'but', 'I', 'never', 'did', 'get', 'a', 'photo.', 'I', 'hope', 'I', 'can', 'get', 'a', 'photo', 'the', 'next', 'time', 'I', 'go.'], ['edited_ending:', 'A', 'rescue', 'group', 'tried', 'to', 'help', 'her', 'but', 'she', 'ran', 'away.', 'If', 'they', 'could', 'have', 'caught', 'her,', 'they', 'might', 'have', 'made', 'her', 'better.', 'Maybe', 'she', 'would', 'have', 'had', 'a', 'haircut', 'and', 'a', 'new', 'home.'], ['edited_ending:', 'The', 'store', 'was', 'out', 'of', 'cakes', 'so', 'she', 'gathered', 'all', 'of', 'the', 'ingredients', 'on', 'the', 'counter.', 'Then', 'she', 'realized', 'she', 'had', 'no', 'idea', 'how', 'to', 'make', 'a', 'cake', 'from', 'scratch.', 'She', 'decided', 'to', 'go', 'online', 'to', 'find', 'a', 'recipe.'], ['edited_ending:', 'Katie', 'was', 'going', 'to', 'pick', 'out', 'which', 'park', 'to', 'go', 'to.', 'She', 'decided', 'to', 'go', 'to', 'Smith', 'Park,', 'looking', 'for', 'the', 'basketball', 'hoop.', 'Katie', 'brought', 'a', 'basketball', 'and', 'had', 'a', 'great', 'birthday!'], ['edited_ending:', 'He', 'was', 'really', 'nervous', 'about', 'playing.', 'He', 'made', 'sure', 'to', 'get', 'a', 'good', \"night's\", 'sleep', 'before', 'the', 'game.', 'Peter', 'was', 'surprised', 'and', 'played', 'well', 'in', 'the', 'game.'], ['edited_ending:', \"Linda's\", 'first', 'assignment', 'was', 'to', 'photograph', 'a', 'local', 'celebrity.', 'She', 'took', 'his', 'picture', 'by', 'bushes,', 'standing', 'in', 'concrete', 'and', 'off', 'the', 'curb.', 'Linda', 'was', 'shocked', 'and', 'when', 'the', 'editor', 'fired', 'her,', 'and', \"didn't\", 'like', 'her', 'photos.'], ['edited_ending:', 'He', 'had', 'heard', 'a', 'loud', 'crack', 'and', 'had', 'looked', 'up.', 'There', 'it', 'was', 'now,', 'coming', 'right', 'at', 'him.', 'He', 'held', 'his', 'arm', 'up', 'high', 'and', 'caught', 'it!'], ['edited_ending:', 'Suddenly,', 'Ellie', 'heard', 'a', 'loud', 'ringing', 'noise.', 'Ellie', 'had', 'won', 'five', 'thousand', 'dollars!', 'Ellie', 'was', 'excited', 'to', 'tell', 'Joe', 'as', 'he', 'returned.'], ['edited_ending:', 'He', 'finds', 'a', 'new', 'job', 'to', 'help', 'him', 'earn', 'money.', 'After', 'a', 'few', 'months', 'of', 'working,', 'Ben', 'saves', 'enough', 'for', 'the', 'perfect', 'home.', 'Bes', 'is', 'able', 'to', 'buy', 'his', 'dream', 'home.'], ['edited_ending:', 'While', 'waiting,', 'they', 'saw', 'a', 'rat.', 'Reece', 'screamed.', 'She', 'was', 'terrified.'], ['edited_ending:', 'Chris', 'was', 'trying', 'to', 'find', 'higher', 'end', 'boots.', 'After', 'hours,', 'he', \"couldn't\", 'find', 'a', 'thing', 'they', 'wanted.', 'He', 'decided', 'to', 'go', 'home', 'to', 'shop', 'online.'], ['edited_ending:', 'He', \"didn't\", 'dare', 'turn', 'on', 'the', 'television', 'and', 'the', 'air', 'conditioner.', 'He', 'knew', 'if', 'he', 'did,', 'a', 'fuse', 'would', 'blow', 'out', 'in', 'the', 'generator.', 'And', 'he', 'would', 'have', 'to', 'sit', 'in', 'the', 'silence', 'without', 'a', 'working', 'fridge.'], ['edited_ending:', 'Ida', 'called', 'her', 'husband.', \"Ida's\", 'husband', 'was', 'proud', 'of', 'her', 'hard', 'work,', \"Ida's\", 'husband', 'presented', 'Ida', 'with', 'a', 'beautiful', 'bouquet', 'of', 'flowers', 'two', 'hours', 'later.'], ['edited_ending:', 'She', 'asked', 'her', 'friend', 'to', 'switch', 'work', 'shifts', 'with', 'her.', 'This', 'gave', 'Sally', 'time', 'to', 'study.', 'To', 'her', 'surprise,', 'Sally', 'ended', 'up', 'passing', 'the', 'test', 'and', 'even', 'got', 'an', 'A.'], ['edited_ending:', 'She', 'called', 'the', 'dogs', 'back', 'inside', 'before', 'they', 'killed', 'each', 'other.', 'Once', 'inside,', 'the', 'dogs', 'saw', 'a', 'groundhog', 'and', 'started', 'barking.', 'The', 'little', 'groundhog', 'ran', 'under', 'the', 'fence', 'to', 'the', \"neighbor's\", 'yard.'], ['edited_ending:', 'Finally', 'she', 'screamed', 'for', 'help.', 'All', 'of', 'the', 'sudden,', 'it', 'broke', 'off.', 'They', 'had', 'to', 'wait', 'an', 'hour', 'to', 'be', 'rescued.'], ['edited_ending:', \"That's\", 'why', 'he', \"didn't\", 'like', 'his', \"neighbor's\", 'dog', 'who', 'peed', 'on', 'the', 'fence.', 'He', 'booed', 'him', 'away', 'and', \"didn't\", 'often', 'succeed', 'Until', 'he', 'gave', 'him', 'food', 'and', 'kept', 'him', 'at', 'bay'], ['edited_ending:', 'I', 'stayed', 'and', 'studied', 'even', 'though', 'I', 'really', 'wanted', 'to', 'go', 'with', 'them', 'instead.', 'I', 'got', 'a', 'perfect', 'grade', 'on', 'my', 'test.', \"I'm\", 'glad', 'I', 'stayed', 'in', 'and', 'studied.'], ['edited_ending:', 'He', 'discovered', 'his', 'PC', \"couldn't\", 'handle', 'the', \"game's\", 'advanced', 'graphics.', 'He', 'decided', 'he', \"didn't\", 'need', 'a', 'new', 'graphics', 'card', 'for', 'a', 'game', 'that', \"wasn't\", 'that', 'good.', 'He', 'installed', 'another', 'new', 'game', 'instead', 'that', 'played', 'beautifully.'], ['edited_ending:', 'Last', 'Sunday', 'Elisa', 'dressed', 'up', 'in', 'a', 'pretty', 'sundress,', 'gloves', 'and', 'a', 'elegant', 'hat.', 'One', 'guy', 'stared', 'at', 'her', 'while', 'they', 'were', 'singing', 'choir', 'songs.', \"Elisa's\", 'lyrics', 'pages', 'were', 'torn', 'and', 'the', 'guy', 'brought', 'her', 'another', 'one.'], ['edited_ending:', 'Sara', 'really', 'wanted', 'a', 'thermos', 'instead.', 'Therefore,', 'she', 'bought', 'an', 'inexpensive', 'one.', 'Her', 'drink', 'stayed', 'cold', 'all', 'day', 'long', 'like', 'everyone', \"else's.\"], ['edited_ending:', 'He', 'told', 'Stef', 'how', 'to', 'spot', 'a', 'fake', 'check.', 'Stef', \"didn't\", 'know', 'what', 'to', 'do', 'but', 'she', 'awkwardly', 'thanked', 'him.', 'She', 'left', 'and', 'went', 'straight', 'home', 'to', 'cry.'], ['edited_ending:', 'Dan', 'listened', 'with', 'his', 'daughter,', 'and', 'she', 'loved', 'it.', 'She', 'loved', 'the', 'audiobook', 'so', 'much,', 'Dan', 'listened', 'to', 'the', 'audiobook', 'another', 'two', 'times.', 'Dan', 'loved', 'the', 'fact', 'that', 'his', 'daughter', 'loved', 'the', 'audiobook', 'he', 'bought.'], ['edited_ending:', 'One', 'day', 'she', 'lost', 'the', 'safebox.', 'Laura', 'cried', 'and', 'cried', 'when', 'she', 'realized', 'it', 'was', 'not', 'in', 'her', 'room.', 'The', 'next', 'day,', 'the', 'safebox', 'was', 'found', 'and', 'returned', 'safely', 'to', 'her.'], ['edited_ending:', 'They', 'sent', 'her', 'to', 'culinary', 'camp', 'at', 'age', 'eleven.', 'There,', 'Anna', 'learned', 'all', 'kinds', 'of', 'cooking', 'techniques.', 'She', 'came', 'home', 'with', 'more', 'skills', 'than', 'they', 'expected', 'and', 'they', 'were', 'impressed.'], ['edited_ending:', 'He', 'never', 'got', 'up', 'and', 'hit', 'on', 'them', 'like', 'he', 'used', 'to.', 'Eventually', 'he', 'got', 'drunk', 'with', 'his', 'friends.', 'He', 'avoided', 'the', 'girls', 'as', 'planned', 'and', 'still', 'had', 'fun.'], ['edited_ending:', 'Jason', 'sits', 'on', 'the', 'sand', 'and', 'enjoys', 'the', 'sea', 'breeze.', 'Afterwards', 'he', 'feels', 'less', 'bored.', 'Jason', 'is', 'glad', 'he', 'went', 'to', 'the', 'beach.'], ['edited_ending:', 'She', 'worked', 'every', 'and', 'was', 'too', 'busy', 'to', 'attend.', 'Julia', 'bought', 'a', 'new', 'party', 'dress', 'for', 'herself,', 'instead.', 'Wherever', 'she', 'went', 'in', 'it,', 'she', 'was', 'a', 'knockout,', 'and', 'turned', 'many', 'heads.'], ['edited_ending:', 'I', 'spent', 'the', 'weekends', 'catching', 'fly', 'balls', 'with', 'my', 'dad.', 'All', 'that', 'practice', 'really', 'helped', 'me', 'out.', 'I', 'feel', 'like', 'I', 'had', 'developed', 'into', 'a', 'great', 'right', 'fielder.'], ['edited_ending:', 'He', 'decided', 'to', 'work', 'with', 'his', 'physical', 'therapist.', 'He', 'ended', 'up', 'healing', 'in', 'time', 'to', 'win', 'the', 'competition.', 'Unfortunately,', 'his', 'doctor', 'told', 'him', 'he', 'should', 'never', 'play', 'again.'], ['edited_ending:', 'It', 'filled', 'the', 'buckets', 'for', 'us', 'to', 'feed', 'to', 'the', 'animals.', 'We', 'drove', 'through', 'the', 'safari', 'feeding', 'all', 'of', 'the', 'exotic', 'animals.', 'The', 'ostriches', 'snapped', 'and', 'bit', 'my', 'fingers.'], ['edited_ending:', 'He', 'was', 'shocked', 'it', 'was', 'ready', 'so', 'quickly.', 'He', 'handed', 'her', 'the', 'payment.', 'He', 'ate', 'his', 'ice', 'cream.'], ['edited_ending:', 'He', 'went', 'to', 'a', 'new', 'salon.', 'The', 'stylist', 'made', 'a', 'mistake', 'and', 'cut', 'his', 'hair', 'much', 'too', 'short.', 'He', 'sighed', 'and', 'asked', 'for', 'his', 'money', 'back.'], ['edited_ending:', 'Jane', 'searches', 'on', 'the', 'dealership', 'site', 'to', 'see', 'what', 'they', 'have.', 'Jane', 'has', 'an', 'online', 'chat', 'with', 'a', 'very', 'nice', 'salesman.', 'He', 'sells', 'Jane', 'a', 'brand', 'new', 'Car', 'and', 'Jane', 'totally', 'loves', 'it.'], ['edited_ending:', 'On', 'the', 'way', 'to', 'the', 'house', 'she', 'dropped', 'the', 'peppers.', 'She', 'made', 'a', 'salad', 'with', 'no', 'peppers.', 'Her', 'guests', \"didn't\", 'suspect', 'a', 'thing.'], ['edited_ending:', 'After', 'he', 'saw', 'the', 'price,', 'he', 'was', 'so', 'annoyed.', 'Then,', 'Tim', 'got', 'into', 'a', 'huge', 'car', 'crash.', 'Tim', 'was', 'so', 'glad', 'he', 'had', 'insurance.'], ['edited_ending:', 'And', 'he', 'always', 'got', 'in', 'trouble', 'in', 'school.', 'He', 'was', 'told', 'by', 'the', 'school', 'that', 'bad', 'kids', \"don't\", 'get', 'presents.', \"Mike's\", 'parents', 'did', 'get', 'him', 'presents', 'that', 'year.'], ['edited_ending:', 'This', 'time,', 'his', 'girlfriend', 'decided', 'to', 'make', 'them', 'herself.', 'She', 'was', 'trying', 'to', 'shape', 'them', 'but', 'they', \"wouldn't\", 'stay', 'together.', 'Alex', 'gave', 'her', 'some', 'tips.'], ['edited_ending:', 'He', 'gets', 'to', 'the', 'airport', 'and', 'through', 'security', 'rather', 'quickly.', 'He', 'strolls', 'to', 'the', 'gate', 'and', 'is', 'very', 'early.', 'John', 'relaxes', 'for', 'an', 'hour', 'before', 'it', 'is', 'time', 'to', 'board', 'his', 'plane.'], ['edited_ending:', 'The', 'move', 'had', 'exstinguished', 'her', 'smile.', 'She', 'opened', 'the', 'door', 'to', 'see', 'her', 'old,', 'tiny,', 'overpriced', 'apartment.', 'She', 'wondered', 'if', 'it', 'was', 'worth', 'it.'], ['edited_ending:', 'Her', 'yard', 'was', 'covered', 'in', 'mud.', 'Kelley', 'walked', 'through', 'it', 'on', 'her', 'way', 'back', 'from', 'the', 'mailbox.', 'She', 'got', 'stuck.'], ['edited_ending:', 'That', 'one', 'had', 'a', 'clue', 'to', 'the', 'kitchen', 'so', 'they', 'went', 'there.', 'The', 'parents', 'said', 'that', 'was', 'it', 'so', 'they', 'ended', 'the', 'egg', 'hunt.', 'They', 'gave', 'the', 'kids', 'their', 'basket', 'of', 'candy', 'for', 'Easter.'], ['edited_ending:', 'He', 'decided', 'to', 'attend', 'culinary', 'school', 'after', 'high', 'school.', 'Ethan', 'graduated', 'at', 'the', 'top', 'of', 'his', 'class', 'at', 'his', \"mother's\", 'surprise.', 'He', 'is', 'now', 'the', 'chef', 'at', 'a', 'popular', 'restaurant', 'in', 'the', 'city.'], ['edited_ending:', 'People', 'were', 'standing', 'around', 'it', 'They', 'were', 'talking', 'about', 'how', 'creative', 'and', 'big', 'it', 'was.before', 'it', 'fell.', 'Joy', 'and', 'Robbie', 'felt', 'very', 'sad', 'about', 'their', 'creation.'], ['edited_ending:', 'She', 'decided', 'to', 'brush', 'up', 'on', 'her', 'political', 'knowledge', 'online.', 'She', 'read', 'many', 'news', 'articles', 'after', 'she', 'missed', 'the', 'election.', 'She', 'voted', 'on', 'the', 'next', 'election', 'day', 'and', 'felt', 'good', 'about', 'her', 'choice.'], ['edited_ending:', 'Dogs', 'were', 'expensive', 'so', 'he', 'decided', 'to', 'rescue', 'one.', 'Oswald', 'was', 'happy', 'to', 'get', 'his', 'new', 'puppy', 'Oswald', 'decided', 'you', 'should', 'never', 'buy', 'a', 'dog.'], ['edited_ending:', 'But', 'Dan', 'knew', 'he', 'was', 'expected', 'to', 'speak,', 'and', 'he', 'prepared', 'a', 'speech', 'about', 'his', 'experience', 'with', 'the', 'company.', 'In', 'addition,', 'Dan', 'talked', 'about', 'his', 'relationship', 'with', 'his', 'co', 'workers.', 'After', 'writing,', 'Dan', 'felt', 'confident', 'about', 'his', 'acceptance', 'speech.'], ['edited_ending:', 'Not', 'paying', 'attention,', 'five', 'minutes', 'later', 'he', 'did', 'cut', 'his', 'finger', 'and', 'the', 'manager', 'sent', 'Peter', 'to', 'get', 'medical', 'help.', 'Peter', 'saw', 'a', 'doctor', 'who', 'tended', 'to', \"Peter's\", 'wound.', 'Peter', 'was', 'back', 'to', 'work', 'within', 'a', 'few', 'days.'], ['edited_ending:', 'His', 'son', 'grew', 'up', 'to', 'be', 'much', 'slower', 'than', 'him.', 'When', 'he', 'finally', 'raced', 'his', 'son,', 'he', 'easily', 'won.', 'He', 'felt', 'awful', 'in', 'the', 'end.'], ['edited_ending:', 'He', 'snored', 'into', 'his', 'pillow', 'and', 'got', 'snot', 'all', 'over', 'it.', 'He', 'cuddled', 'his', 'pillow', 'close,', 'wanting', 'lots', 'of', 'attention.', 'He', 'also', 'tried', 'to', 'wake', 'me', 'up', 'the', 'next', 'morning.'], ['edited_ending:', 'Irene', 'could', 'not', 'sit', 'still', 'for', 'the', 'lecture.', 'The', 'doctor', 'was', 'patient.', 'Eventually', 'the', 'doctor', 'made', 'her', 'understand', 'what', 'she', 'needed.'], ['edited_ending:', 'Denise', 'asked', 'if', 'ducks', 'were', 'birds.', \"Denise's\", 'boyfriend', 'could', 'not', 'believe', 'she', 'had', 'asked', 'that', 'question.', 'Denise', 'immediately', 'knew', 'she', 'was', 'having', 'a', 'blonde', 'moment.'], ['edited_ending:', 'She', 'sold', 'copies', 'to', 'her', 'classmates.', 'The', 'notes', 'helped', 'everybody', 'learned.', 'The', 'whole', 'class', 'got', 'good', 'grades.'], ['edited_ending:', 'He', 'wished', 'he', 'had', 'practiced', 'the', 'harp', 'to', 'be', 'good', 'at', 'it.', 'There', 'was', 'a', 'harp', 'audition', 'for', 'the', 'local', 'symphony.', 'The', 'judges', 'might', 'have', 'been', 'very', 'impressed', 'if', 'Quincy', 'had', 'tried.'], ['edited_ending:', 'It', \"didn't\", 'change', 'when', 'they', 'went', 'on', 'their', 'overnight', 'camping', 'trip.', 'Harper', 'explained', 'he', 'needed', 'no', 'compass', 'and', 'hiked', 'alone', 'without', 'it.', 'They', 'found', 'him', 'hours', 'later,', 'crying', 'and', 'embarrassed', 'under', 'a', 'tree.'], ['edited_ending:', 'He', 'realized', 'all', 'the', 'time', 'spent', 'working', 'out,', 'he', \"wasn't\", 'eating.', 'He', 'was', 'also', 'up', 'running', 'around', 'when', 'he', 'exercised.', 'He', 'lost', 'thirty', 'pounds', 'by', 'following', 'his', 'own', 'diet.'], ['edited_ending:', 'They', 'sold', 'wine', 'and', 'fruit', 'cakes', 'locally,', 'so', 'I', 'purchased', 'a', 'cake', 'because', 'I', 'felt', 'bad', 'for', 'not', 'fixing', 'the', 'computer.', 'It', 'was', 'the', 'most', 'delicious', 'cake', \"I'd\", 'ever', 'had,', 'and', 'I', 'hate', 'fruit', 'cake.', 'I', 'realized', 'that', 'day', 'that', 'commercial', 'fruit', 'cakes', 'are', 'not', 'the', 'real', 'thing.'], ['edited_ending:', 'After', 'pondering', 'for', 'a', 'few', 'days', 'she', 'chose', 'the', 'banjo', 'but', 'at', 'first', 'it', 'was', 'difficult.', 'Over', 'time', 'she', 'improved.', 'Freda', 'was', 'happy', 'that', 'she', 'was', 'playing', 'a', 'musical', 'instrument.'], ['edited_ending:', 'Suddenly,', 'he', 'heard', 'a', 'noise.', 'It', 'was', 'someone', 'whistling', 'and', 'they', 'were', 'getting', 'closer.', 'Jack', 'ran', 'to', 'see', 'who', 'it', 'was.'], ['edited_ending:', 'He', 'had', 'wanted', 'the', 'debut', 'to', 'be', 'perfect.', 'When', 'it', 'was', 'time', 'for', 'the', 'showing,', 'Daniel', 'was', 'not', 'there', 'to', 'introduce', 'the', 'movie.', 'After', 'it', \"didn't\", 'show,', 'the', 'audience', 'had', 'a', 'lot', 'of', 'questions', 'about', 'it.'], ['edited_ending:', 'When', 'I', 'woke', 'up,', 'I', 'became', 'very', 'sick,', 'vomiting', 'and', 'staying', 'in', 'bed', 'for', 'days.', 'It', 'took', 'over', 'a', 'week', 'to', 'feel', 'better.', 'By', 'the', 'time', 'it', 'was', 'over,', 'I', 'could', 'no', 'longer', 'stand', 'the', 'sight', 'of', 'pizza.'], ['edited_ending:', 'She', 'went', 'to', 'watch', 'nature', 'while', 'there.', 'She', 'watched', 'a', 'deer', 'for', 'a', 'long', 'time.', 'After', 'a', 'while', 'she', 'went', 'inside', 'because', 'she', 'was', 'hungry.'], ['edited_ending:', 'I', 'worked', 'right', 'through', 'my', 'lunch', 'break.', 'When', 'I', 'realized', 'that,', 'I', 'was', 'so', 'hungry', 'I', 'thought', 'I', \"couldn't\", 'work', 'anymore.', 'But', 'when', 'my', 'boss', 'asked', 'me', 'to', 'take', 'a', 'break', 'and', 'I', 'said', 'no.'], ['edited_ending:', 'Emily', 'went', 'to', 'the', 'kitchen.', 'She', 'got', 'a', 'mug.', 'She', 'filled', 'the', 'mug', 'with', 'coffee.'], ['edited_ending:', 'Her', 'neighbor,', 'who', 'knew', 'this,', 'liked', 'to', 'tease', 'her.', 'He', 'shined', 'a', 'flashlight', 'outside', 'her', 'window', 'in', 'the', 'middle', 'of', 'the', 'night.', 'And', 'every', 'time', 'Suzanne', 'would', 'scream', 'and', 'be', 'afraid', 'even', 'more.'], ['edited_ending:', 'She', 'got', 'on', 'Apple', 'chat', 'tech', 'support', 'when', 'her', 'iPad', \"wasn't\", 'getting', 'the', 'photos.', 'They', 'were', 'unable', 'to', 'help', 'her.', 'We', 'finally', 'found', 'out', 'that', 'it', 'was', 'our', 'internet', 'that', 'was', 'not', 'working', 'well.'], ['edited_ending:', 'He', 'decided', 'he', 'could', 'play', 'better', 'than', 'them,', 'and', 'learned', 'to', 'play', 'the', 'drums.', 'He', 'took', 'lessons', 'and', 'practiced', 'often.', 'He', 'soon', 'became', 'a', 'drummer', 'in', 'a', 'local', 'band.'], ['edited_ending:', 'To', 'her', 'surprise', 'however,', 'on', \"Tamar's\", 'turn', 'the', 'machine', 'was', 'broken.', 'She', 'looked', 'down', 'and', \"couldn't\", 'see', 'the', 'words', 'to', 'the', 'song.', 'Tamar', 'quickly', 'had', 'to', 'leave', 'the', 'stage.'], ['edited_ending:', 'She', 'got', 'home', 'from', 'work', 'and', 'notice', 'a', 'particularly', 'horrible', 'odor.', 'She', 'could', 'not', 'figure', 'out', 'what', 'it', 'was.', 'The', 'dumpster', 'had', 'not', 'been', 'emptied', 'for', 'a', 'whole', 'month.'], ['edited_ending:', 'The', 'regular', 'customers', 'loved', 'the', 'changes.', 'They', 'always', 'wanted', 'a', 'local', 'bar.', 'Business', 'was', 'better', 'than', 'ever'], ['edited_ending:', 'Near', 'a', 'boat,', 'we', 'saw', 'jellyfish.', 'It', 'was', 'amazing.', 'I', 'made', 'sure', 'to', 'take', 'a', 'photo.'], ['edited_ending:', 'She', 'poured', 'all', 'the', 'ingredients', 'in', 'the', 'blender.', 'She', 'pushed', 'the', 'button', 'and', 'waited.', 'As', 'she', \"didn't\", 'use', 'a', 'recipe,', 'she', 'used', 'too', 'much', 'milk.'], ['edited_ending:', 'Lana', 'looked', 'for', 'the', 'chicken.', 'She', 'was', 'frustrated', 'she', 'had', 'thrown', 'the', 'money', 'away.', 'She', 'resolved', 'her', 'dog', 'had', 'eaten', 'the', 'chicken.'], ['edited_ending:', 'Ronald', 'patiently', 'explained', 'things', 'to', 'each', 'person', 'until', 'they', 'were', 'pleased.', 'The', 'next', 'day,', 'his', 'boss', 'called', 'him', 'into', 'his', 'office.', 'His', 'boss', 'praised', 'him', 'for', 'the', 'things', 'he', 'said', 'on', 'Twitter.'], ['edited_ending:', 'So', 'they', 'called', 'an', 'exterminator', 'and', 'he', 'came', 'out', 'to', 'take', 'a', 'look', 'at', 'the', 'nest.', 'It', 'ends', 'up', 'being', 'their', 'was', 'a', 'nest', 'and', 'they', 'had', 'hibernated.', 'The', 'exterminators', 'were', 'able', 'to', 'take', 'care', 'of', 'the', 'nest', 'immediately.'], ['edited_ending:', 'We', 'also', 'watch', 'the', 'big', 'sports', 'game', 'on', 'TV.', 'We', 'all', 'root', 'for', 'opposite', 'teams', 'though.', 'We', 'usually', 'get', 'into', 'a', 'big', 'argument', 'about', 'who', 'was', 'the', 'better', 'team.'], ['edited_ending:', 'My', 'mom', 'got', 'angry', 'with', 'me', 'She', 'looked', 'over', 'my', 'room', 'and', 'was', 'unhappy', 'with', 'the', 'work', 'I', 'did.', 'I', 'was', 'punished', 'from', 'being', 'able', 'to', 'go', 'outside', 'and', 'play', 'with', 'my', 'friends.'], ['edited_ending:', 'She', 'was', 'also', 'upset', 'by', 'the', 'expensive', 'prices.', 'She', \"didn't\", 'think', 'the', 'chocolate', 'there', 'would', 'be', 'worth', 'it.', 'She', 'bought', 'a', 'salad', 'for', '$11', 'and', 'instantly', 'felt', 'better.'], ['edited_ending:', 'He', 'got', 'a', 'temp', 'job', 'for', 'the', 'day.', 'Max', 'did', 'a', 'good', 'job', 'The', 'temp', 'agency', 'asked', 'Max', 'to', 'work', 'the', 'next', 'day', 'as', 'well'], ['edited_ending:', 'The', 'alarm', 'system', 'failed', 'to', 'detect', 'the', 'smoke.', 'It', 'was', 'supposed', 'to', 'trigger', 'a', 'response', 'to', 'release', 'the', 'sprinklers.', 'The', 'smoke', 'and', 'fire', 'would', 'then', 'be', 'eliminated.'], ['edited_ending:', 'I', 'bought', 'a', 'really', 'intense', 'energy', 'drink.', 'I', 'drank', 'it', 'all', 'and', 'end', 'up', 'not', 'sleeping', 'for', 'two', 'days', 'straight.', 'I', 'still', \"didn't\", 'get', 'all', 'of', 'the', 'work', 'done.'], ['edited_ending:', 'They', \"didn't\", 'have', 'a', 'lot', 'of', 'turkey', 'and', 'stuffing.', 'He', 'only', 'ate', '1', 'plate.', 'He', 'was', 'glad', 'he', \"didn't\", 'end', 'up', 'with', 'a', 'stomach', 'ache.'], ['edited_ending:', 'He', 'was', 'diagnosed', 'with', 'a', 'brain', 'injury', 'and', 'became', 'very', 'ill.', 'Deb', 'was', 'worried', 'and', 'knew', 'that', 'she', 'would', 'have', 'to', 'take', 'care', 'of', 'him.', 'Still,', 'she', 'would', 'never', 'leave', 'her', 'husband', 'because', 'of', 'the', 'stress', 'of', 'the', 'accident.'], ['edited_ending:', 'As', 'she', 'was', 'walking', 'off', 'the', 'court,', 'she', 'fainted.', 'Sandy', 'was', 'rushed', 'to', 'the', 'ER.', 'Sandy', 'was', 'extremely', 'dehydrated.'], ['edited_ending:', 'She', 'got', 'all', 'the', 'stuff', 'ready', 'to', 'be', 'shipped.', 'Many', 'people', 'bought', 'the', 'items.', 'She', 'made', 'a', 'thousand', 'at', 'the', 'end', 'of', 'the', 'week.'], ['edited_ending:', 'Kay', 'was', 'working', 'on', 'a', 'piece', 'to', 'perform', 'at', 'the', 'annual', 'recital.', 'She', 'learned', 'nothing', 'from', 'her', 'teacher.', 'She', 'was', 'totally', 'unprepared!'], ['edited_ending:', 'Ellie', \"didn't\", 'take', 'the', 'day', 'off', 'and', 'go', 'to', 'the', 'doctor.', 'The', 'doctor', 'would', 'have', 'told', 'Ellie', 'she', 'had', 'the', 'beginning', 'of', 'the', 'flu.', 'Ellie', 'would', 'have', 'had', 'to', 'miss', 'the', 'next', 'few', 'days', 'of', 'work.'], ['edited_ending:', 'He', 'carefully', 'planned', 'the', 'salad.', 'His', 'patrons', 'loved', 'the', 'new', 'dish.', 'The', 'fresh', 'salad', 'had', 'made', 'all', 'the', 'difference!'], ['edited_ending:', 'Joe', 'grew', 'up', 'helping', 'his', 'mothers', 'best', 'friend', 'work', 'there.', 'One', 'day', 'Joe', 'went', 'to', 'the', 'restaurant', 'and', 'found', 'out', 'it', 'was', 'on', 'fire.', 'Joe', 'and', 'his', 'mothers', 'friends', 'family', 'have', 'now', 'lost', 'their', \"life's\", 'work.'], ['edited_ending:', 'I', 'thought', 'about', 'different', 'colors', 'for', 'the', 'car.', 'When', 'I', 'woke', 'up,', 'there', 'was', 'a', 'horse', 'outside.', 'I', 'wanted', 'a', 'car.'], ['edited_ending:', 'Abby', 'told', 'her', 'that', 'Claire', 'was', 'taking', 'a', 'tap', 'dancing', 'class', 'Susie', 'was', 'amused.', 'She', 'immediately', 'made', 'fun', 'of', 'Claire.'], ['edited_ending:', 'One', 'morning,', 'she', 'looked', 'in', 'her', 'purse', 'and', \"couldn't\", 'find', 'them.', 'Her', 'husband', 'had', 'taken', 'them', 'out', 'and', \"didn't\", 'put', 'them', 'back', 'in.', 'They', \"weren't\", 'diamonds', 'but', 'it', 'still', 'scared', 'her', 'when', 'she', 'thought', 'she', 'lost', 'them.'], ['edited_ending:', 'Dave', 'was', 'now', 'very', 'fit', 'for', 'a', 'grandfather.', 'He', 'even', 'could', 'keep', 'up', 'with', 'his', 'grandchildren.', 'Dave', 'felt', 'like', 'he', 'was', 'young', 'again.'], ['edited_ending:', 'His', 'doctor', 'prescribed', 'a', 'migraine', 'medication.', 'Adam', 'felt', 'better', 'very', 'soon.', 'He', 'was', 'thrilled', 'to', 'finally', 'have', 'some', 'relief,', 'even', 'after', 'he', 'claimed', 'he', 'would', 'never', 'feel', 'better.'], ['edited_ending:', 'I', 'usually', 'brew', 'my', 'first', 'cup', 'in', 'my', 'machine', 'at', '5', 'AM.', 'As', 'soon', 'as', 'that', 'black', 'gold', 'touches', 'my', 'lips', 'I', 'come', 'alive.', 'I', 'am', 'in', 'a', 'happy', 'mood', 'and', 'ready', 'to', 'start', 'the', 'day.'], ['edited_ending:', 'She', 'met', 'a', 'man', 'at', 'the', 'show.', 'They', 'flirted', 'all', 'night', 'and', 'she', 'ignored', 'her', 'friends.', 'Gwen', 'went', 'home', 'with', 'the', 'man', 'after', 'the', 'show.'], ['edited_ending:', 'It', 'ignored', 'all', 'the', 'fish', 'that', 'were', 'swimming', 'around', 'it', 'a', 'small', 'pond.', 'Then', 'the', \"bird's\", 'head', 'peeked', 'out', 'from', 'under', 'its', 'wing.', 'It', 'had', 'been', 'sleeping', 'with', 'its', 'head', 'tucked', 'under', 'its', 'wing.'], ['edited_ending:', 'A', 'student', 'was', 'screaming', 'and', 'Earl', 'told', 'them', 'to', 'be', 'quiet.', 'The', 'student', 'refused', 'and', 'continued', 'to', 'scream', 'loudly', 'Earl', 'decided', 'it', 'was', 'best', 'to', 'leave', 'the', 'library,', 'and', 'study', 'elsewhere'], ['edited_ending:', 'I', 'decided', 'to', 'give', 'it', 'another', 'try,', 'and', 'I', 'practiced', 'dancing', 'in', 'my', 'room', 'for', 'years', 'and', 'years.', 'I', 'even', 'took', 'lessons', 'from', 'a', 'professional.', 'Now', 'I', 'am', 'a', 'very', 'good', 'dancer.'], ['edited_ending:', 'He', 'has', 'a', 'lot', 'of', 'other', 'obligations', 'right', 'now.', 'Mike', 'decided', 'to', 'put', 'his', 'dream', 'aside', 'for', 'now', 'and', 'focus', 'on', 'other', 'things.', 'Mike', 'is', 'a', 'bit', 'uncertain', 'about', 'his', 'future', 'as', 'a', 'guitar', 'teacher.'], ['edited_ending:', 'It', 'went', 'drift', 'behind', 'her', 'and', 'she', 'almost', 'lost', 'it.', 'Luckily,', 'the', 'wind', 'stopped', 'and', 'she', 'regained', 'her', 'grip.', 'Tia', 'was', 'thankful', 'that', 'she', \"didn't\", 'have', 'to', 'chase', 'her', 'umbrella.'], ['edited_ending:', 'I', 'handed', 'her', 'the', 'yo-yo', 'and', 'she', 'giggled', 'again', 'loudly', 'with', 'joy.', 'She', 'kissed', 'the', 'yo-yo', 'on', 'the', 'and', 'left', 'the', 'room', 'hugging', 'the', 'it.', 'I', 'was', 'happy', 'knowing', 'that', 'the', 'yo-yo', 'was', 'going', 'to', 'be', 'played', 'with', 'again.'], ['edited_ending:', 'All', 'of', 'a', 'sudden', 'the', 'gardener', 'quit!', 'Brian', 'quickly', 'got', 'out', 'his', 'own', 'lawnmower', 'to', 'do', 'the', 'work.', 'Brian', 'finished', 'his', 'lawn', 'work', 'and', 'was', 'rewarded', 'with', 'twenty', 'dollars', 'by', 'his', 'parents.'], ['edited_ending:', 'His', 'old', 'boss', 'asked', 'him', 'to', 'come', 'back.', 'He', 'offered', 'him', 'a', 'different', 'position', 'with', 'less', 'hours.', 'The', 'man', 'accepted', 'the', 'new', 'job.'], ['edited_ending:', 'The', 'road', 'was', 'of', 'course', 'covered', 'in', 'potholes', 'but', 'he', 'dodged', 'them.', 'He', 'hit', 'a', 'giant', 'hole', 'causing', 'him', 'to', 'lose', 'control', 'and', 'go', 'off', 'the', 'road.', 'Craig', 'would', 'have', 'panicked', 'but', 'he', 'noticed', 'he', 'was', 'uninjured', 'and', 'the', 'car', 'was', 'okay.'], ['edited_ending:', 'When', 'the', 'earnings', 'were', 'out', 'they', 'were', 'awful.', 'Tina', 'thought', 'she', 'would', 'make', 'money.', 'Unfortunately', 'she', 'lost', 'big', 'time.'], ['edited_ending:', 'Kim', 'hated', 'cheese,', 'but', 'knew', 'it', 'would', 'be', 'rude', 'to', 'not', 'eat.', 'She', 'tried', 'some', 'cheese', 'dishes', 'at', 'home,', 'but', 'still', 'hated', 'them', 'all.', 'At', 'the', 'party,', 'she', 'told', \"Jim's\", 'mom', 'she', 'was', 'allergic', 'and', 'all', 'was', 'fine.'], ['edited_ending:', 'It', 'was', 'not', 'salty', 'enough', 'for', 'him.', 'He', 'added', 'a', 'whole', 'lot', 'of', 'salt.', 'It', 'still', 'tasted', 'too', 'bland.'], ['edited_ending:', 'Mindy', 'decided', 'to', 'hire', 'a', 'personal', 'trainer', 'and', 'not', 'try', 'to', 'lose', 'weight.', 'This', 'has', 'been', 'a', 'superb', 'decision', 'on', \"Mindy's\", 'part.', 'She', \"hasn't\", 'lost', 'the', 'extra', 'weight,', 'but', 'she', 'feels', 'better', 'and', 'enjoys', 'the', 'sessions.'], ['edited_ending:', 'He', \"didn't\", 'have', 'to', 'apply', 'an', 'ice', 'pack', 'and', 'compression', 'bandage', 'to', 'his', 'knee', 'this', 'time.', 'He', \"didn't\", 'even', 'need', 'to', 'elevate', 'it.', \"Hydro's\", 'knee', 'felt', 'great.'], ['edited_ending:', 'He', 'danced', 'to', 'his', 'favorite', 'song', 'first.', 'Then', 'he', 'danced', 'to', 'his', \"fiance's\", 'favorite', 'song.', 'The', 'audience', 'applauded', 'loudly', 'as', 'he', 'left', 'the', 'stage.'], ['edited_ending:', 'It', 'took', 'us', 'just', 'ten', 'minutes.', 'When', 'we', 'got', 'there', 'we', 'were', 'excited.', 'It', 'was', 'worth', 'it.'], ['edited_ending:', 'Donald', 'ran', 'into', 'the', 'room', 'and', 'saw', 'her', 'dancing', 'and', 'singing.', 'He', 'quickly', 'grabbed', 'a', 'broom', 'and', 'started', 'dancing.', 'Now', 'Donald', 'no', 'longer', 'fears', 'performing!'], ['edited_ending:', 'When', 'he', 'decided', 'to', 'leave,', 'the', 'man', 'had', 'a', 'thought.', 'As', 'he', 'walked', 'down,', 'he', 'remembered', 'rolling', 'down', 'hills', 'as', 'a', 'child.', 'The', 'man', 'felt', 'old', 'as', 'he', 'decided', 'not', 'to', 'roll', 'down.'], ['edited_ending:', 'The', 'chair', \"wasn't\", 'sturdy', 'at', 'all,', 'but', 'was', 'actually', 'a', 'little', 'wobbly.', 'I', 'put', 'the', 'computer', 'underneath,', 'and', 'sat', 'on', 'the', 'chair.', 'Now', 'I', 'have', 'a', 'work', 'station,', 'even', 'though', 'it', \"isn't\", 'a', 'very', 'good', 'one.'], ['edited_ending:', 'Once', 'he', 'was', 'dressed,', 'he', 'walked', 'out', 'of', 'the', 'closet.', 'When', 'he', 'walked', 'out,', 'he', 'shut', 'the', 'closet', 'door.', 'The', 'knob,', 'however,', 'was', 'broken', 'and', 'now', 'the', 'door', \"won't\", 'open.'], ['edited_ending:', 'The', 'boss', 'tells', 'Steve', 'it', \"won't\", 'rain.', '30', 'minutes', 'after', 'he', 'said', 'that', 'it', 'starts', 'to', 'rain.', 'Steve', 'is', 'stuck', 'working', 'in', 'the', 'rain.'], ['edited_ending:', 'On', 'the', 'way,', 'she', 'decided', 'to', 'listen', 'to', 'some', 'music.', 'She', 'got', 'preoccupied', 'trying', 'to', 'put', 'a', 'cd', 'in', 'the', 'stereo.', 'She', 'missed', 'the', 'red', 'light', 'and', 'ran', 'straight', 'into', 'another', 'car,', 'killing', 'her.'], ['edited_ending:', 'She', 'opened', 'it', 'intending', 'to', 'close', 'it', 'hard.', 'But', 'the', 'gravity', 'began', 'to', 'pull', 'her', 'out', 'of', 'the', 'car.', 'Finally', 'her', 'mom', 'turned', 'and', 'the', 'door', 'closed', 'and', 'pushed', 'Kate', 'in', 'the', 'car.'], ['edited_ending:', 'Max', 'had', 'to', 'give', 'the', 'puppy', 'a', 'bath', 'first.', 'Max', 'fed', 'him', 'and', 'gave', 'him', 'to', 'his', 'new', 'owners.', 'Max', 'was', 'happy', 'he', 'helped', 'the', 'puppy.'], ['edited_ending:', 'The', 'pedicurist', 'carefully', 'clips', 'each', 'toenail.', 'Finally', 'they', 'are', 'perfect.', 'She', 'is', 'happy', 'that', 'she', 'finally', 'has', 'clipped', 'toenails.'], ['edited_ending:', 'His', 'dad', 'told', 'him', 'igloos', 'had', 'to', 'be', 'made', 'from', 'snow.', \"Tom's\", 'igloo', 'was', 'made', 'from', 'ice.', 'Tom', 'happily', 'decided', 'it', 'would', 'now', 'be', 'called', 'an', 'ice', 'hut.'], ['edited_ending:', 'The', 'tunnel', 'kept', 'the', 'man', 'shielded', 'from', 'debris.', 'The', 'storm', 'passed.', 'The', 'man', 'continued', 'on', 'his', 'adventure.'], ['edited_ending:', 'He', 'held', 'onto', 'his', 'briefcase', 'as', 'he', 'walked.', 'Suddenly', 'he', 'ran', 'into', 'a', 'woman,', 'both', 'of', 'them', 'falling', 'to', 'the', 'ground.', 'Luckily', 'since', 'his', 'paperwork', 'was', 'secured,', 'his', 'stayed', 'inside', 'the', 'briefcase.'], ['edited_ending:', 'Keith', 'is', 'the', 'first', 'in', 'his', 'family', 'to', 'be', 'an', 'apprentice.', 'His', 'parents', 'are', 'so', 'proud!', 'Keith', 'hopes', 'he', 'does', 'well', 'at', 'the', 'apprenticeship', 'and', 'is', 'successful.'], ['edited_ending:', 'After', 'listening', 'to', 'the', 'concert,', 'he', 'got', 'on', 'one', 'knee', 'and', 'proposed', 'to', 'her!', 'Kyla', 'was', 'ecstatic', 'and', 'agreed', 'at', 'once!', 'She', 'and', 'Ron', 'were', 'both', 'so', 'happy,', 'they', 'almost', 'cried!'], ['edited_ending:', 'He', 'took', 'an', 'uber', 'but', 'they', 'got', 'lost.', 'Eventually', 'he', 'made', 'it', 'to', 'the', 'front', 'desk', 'and', 'got', 'the', 'room.', 'When', 'he', 'opened', 'the', 'door', 'to', 'the', 'room', 'no', 'one', 'was', 'there.'], ['edited_ending:', 'I', 'walked', 'to', 'my', 'favorite', 'place', 'to', 'eat', 'fried', 'chicken.', 'I', 'stayed', 'there', 'for', 'hours', 'eating', 'and', 'reading.', 'I', 'had', 'a', 'great', 'time', 'by', 'myself.'], ['edited_ending:', 'I', 'bought', 'the', 'pool', 'supplies', 'and', 'some', 'floating', 'chairs.', 'I', 'worked', 'on', 'the', 'pool', 'for', 'a', 'weekend.', 'When', 'I', 'was', 'done,', 'I', 'had', 'a', 'nice', 'swim.'], ['edited_ending:', 'She', 'found', 'a', 'house', 'she', 'really', 'likes', 'in', 'Coos', 'Bay,', 'Oregon.', 'She', 'was', 'sad', 'she', \"couldn't\", 'afford', 'it.', 'Turns', 'out', 'the', 'house', 'was', 'in', 'much', 'worse', 'shape', 'than', 'shown.'], ['edited_ending:', 'I', 'checked', 'in', 'my', 'basement.', 'When', 'I', 'looked', 'down', 'there', 'I', 'got', 'very', 'spooked.', 'My', 'friend', 'had', 'been', 'hiding', 'down', 'there', 'the', 'whole', 'time.'], ['edited_ending:', 'Wendy', 'rushed', 'home', 'to', 'tend', 'to', 'her.', 'It', 'looked', 'way', 'worse', 'than', 'it', 'was,', 'with', 'lots', 'of', 'blood.', 'Wendy', 'breathed', 'a', 'sign', 'of', 'grief', 'for', 'her', 'girls', 'foot.'], ['edited_ending:', 'I', 'was', 'asked', 'to', 'take', 'the', 'last', 'shot.', 'I', 'went', 'got', 'the', 'ball', 'and', 'took', 'the', 'shot.', 'I', \"didn't\", 'make', 'it', 'and', 'we', 'lost.'], ['edited_ending:', 'She', 'planted', 'her', 'own', 'raspberries', 'in', 'her', 'garden.', 'As', 'a', 'result', 'she', 'started', 'picking', 'the', 'garden', 'every', 'day.', 'Susie', 'decided', 'to', 'then', 'sell', 'the', 'berries', 'to', 'her', \"neighbor's.\"], ['edited_ending:', 'She', 'and', 'her', 'friends', 'worked', 'on', 'cleaning', 'the', 'shorelines.', 'They', 'set', 'up', 'recycling', 'stations', 'in', 'the', 'along', 'the', 'beach.', 'Bea', 'was', 'so', 'happy', 'to', 'help', 'out', 'by', 'starting', 'the', 'clean', 'up', 'effort', 'on', 'the', 'shorelines.'], ['edited_ending:', 'The', 'kids', 'would', 'glare', 'when', 'she', 'would', 'walk', 'by.', 'Nicolette', 'felt', 'bad', 'and', 'wanted', 'to', 'try', 'and', 'win', 'them', 'over.', 'She', 'delivered', 'cookies', 'to', 'all', 'of', 'the', 'kids.'], ['edited_ending:', 'Harris', 'said', 'he', 'liked', 'her.', 'They', 'talked', 'during', 'the', 'entire', 'ride.', 'Now', \"they're\", 'a', 'couple.'], ['edited_ending:', 'The', 'man', 'was', 'strict', 'but', 'fair', 'and', 'treated', 'Annie', 'well.', 'One', 'day', 'Annie', 'offered', 'the', 'old', 'man', 'an', 'extra', 'job', 'to', 'make', 'more', 'money', 'The', 'old', 'man', 'took', 'the', 'job', 'and', 'became', 'richer', 'than', 'Annie'], ['edited_ending:', 'He', \"didn't\", 'need', 'to', 'go', 'to', 'the', 'store.', 'So', 'he', 'searched', 'his', 'pantry', 'and', 'found', 'cereal.', 'Ricky', 'made', 'and', 'ate', 'cereal.'], ['edited_ending:', 'John', \"didn't\", 'want', 'to', 'lose', 'weight', 'prior', 'to', 'the', 'reunion,', 'to', 'look', 'good.', 'He', \"didn't\", 'want', 'to', 'diet', 'and', 'work', 'out.', 'John', \"wouldn't\", 'have', 'looked', 'good', 'at', 'the', 'reunion', 'and', 'would', 'have', 'tuned', 'heads', 'for', 'the', 'wrong', 'reason.'], ['edited_ending:', 'Desperately,', 'she', 'asked', 'her', 'best', 'friend', 'to', 'borrow', 'a', 'tampon.', 'Her', 'friend', 'rummaged', 'through', 'her', 'backpack', 'and', 'produced', 'a', 'tampon.', 'Kelly', 'gratefully', 'thanked', 'her', 'friend!'], ['edited_ending:', 'Kyle', 'had', 'put', 'hot', 'sauce', 'in', 'his', 'soda.', 'Wes', 'reached', 'over', 'and', 'took', 'a', 'sip.', 'Wes', 'ran', 'and', 'spit', 'his', 'drink', 'into', 'the', 'sink.'], ['edited_ending:', 'He', 'put', 'out', 'posters', 'and', 'flyers', 'seeking', 'out', 'a', 'new', 'puppy.', 'One', 'of', 'his', 'neighbors', 'found', 'him', 'a', 'new', 'dog.', \"Johnny's\", 'neighbor', 'gave', 'him', 'his', 'new', 'puppy.'], ['edited_ending:', \"It's\", 'been', 'two', 'years', 'and', 'we', \"haven't\", 'even', 'gotten', 'into', 'it.', 'I', 'show', 'him', 'an', 'asana', 'when', 'he', 'was', 'healed', 'and', 'he', 'just', \"can't\", 'move', 'that', 'way.', 'It', 'will', 'be', 'awhile', 'before', 'his', 'body', 'loosens', 'up', 'enough.'], ['edited_ending:', 'He', 'talked', 'to', 'a', 'psychologist', 'but', 'it', \"didn't\", 'help', 'him', 'much.', 'Joseph', 'moved', 'to', 'a', 'new', 'town', 'to', 'start', 'fresh.', 'With', 'their', 'love', 'and', 'understanding,', 'he', 'left.'], ['edited_ending:', 'Her', 'doctor', 'warned', 'her', 'she', 'needed', 'to', 'cut', 'back.', 'She', 'started', 'eating', 'more', 'fruit.', 'Kelley', 'lost', '20', 'pounds', 'in', 'a', 'year.'], ['edited_ending:', 'He', 'planned', 'to', 'go', 'behind', 'her', 'back', 'and', 'started', 'getting', 'really', 'nervous', 'about', 'it.', 'He', 'woke', 'up', 'ready', 'to', 'fight', 'but', 'decided', 'he', 'really', \"didn't\", 'want', 'to.', 'He', 'asked', 'his', 'friend', 'and', 'they', 'decided', 'not', 'to', 'fight.'], ['edited_ending:', 'My', 'hair', 'was', 'all', 'slimy', 'and', 'greasy.', 'It', 'was', 'horrible.', 'I', 'had', 'to', 'reapply', 'it', 'immediately.'], ['edited_ending:', 'Hector', 'was', 'running', 'next', 'to', 'him', 'cheering', 'him', 'along.', 'When', 'the', 'kid', 'tripped', 'on', 'a', 'shell,', 'the', 'kite', 'fell', 'down.', 'So', 'Hector', 'took', 'over', 'and', 'made', 'the', 'kite', 'fly', 'high', 'again.'], ['edited_ending:', 'Donna', 'stayed', 'behind', 'to', 'look', 'for', 'the', 'frisbee', 'that', 'was', 'thrown', 'deep', 'into', 'the', 'woods.', 'Donna', 'went', 'in', 'after', 'it', 'but', 'the', 'foliage', 'was', 'very', 'thick.', 'After', 'searching', 'for', 'awhile,', 'she', 'finally', 'left', 'without', 'their', 'frisbee.'], ['edited_ending:', 'There', 'was', 'a', 'wallet', 'in', 'the', 'puddle.', 'which', 'she', 'immediately', 'picked', 'it', 'up', 'and', 'looked', 'inside.', 'As', 'soon', 'as', 'she', 'found', 'who', 'it', 'was,', 'she', 'took', 'it', 'into', 'the', 'store.', 'She', 'hoped', 'the', 'store', 'would', 'help', 'find', 'the', 'owner.'], ['edited_ending:', 'She', 'ended', 'up', 'sleeping', '10', 'hours.', 'She', 'was', 'so', 'tired.', 'It', 'ended', 'up', 'being', 'a', 'peaceful', 'night.'], ['edited_ending:', 'He', 'bought', 'bigger', 'kibble', 'and', 'put', 'the', 'bowl', 'on', 'a', 'mat.', 'The', 'dog', \"didn't\", 'make', 'a', 'mess', 'anymore!', 'Max', 'was', 'happy', 'he', \"didn't\", 'have', 'to', 'clean', 'up', 'spills', 'anymore.'], ['edited_ending:', 'He', 'seemed', 'injured.', 'Mike', \"didn't\", 'want', 'to', 'call', 'a', 'wildlife', 'rescue', 'group.', 'Mike', 'checked', 'out', 'the', 'internet', 'on', 'how', 'to', 'give', 'the', 'duck', 'some', 'help.'], ['edited_ending:', 'Everyone', 'else', 'played', 'a', 'lot', 'of', 'games', 'that', 'night.', 'They', 'was', 'a', 'lot', 'of', 'food', 'to', 'eat.', 'I', \"don't\", 'know', 'why', 'I', \"didn't\", 'have', 'a', 'good', 'time.'], ['edited_ending:', 'His', 'brother', 'set', 'him', 'up', 'on', 'a', 'blind', 'date', 'and', 'they', 'made', 'plans', 'to', 'have', 'dinner', 'on', 'Saturday', 'at', 'a', 'fancy', 'restaurant.', \"Ron's\", 'paycheck', 'was', 'typed', 'incorrectly', 'and', \"didn't\", 'clear', 'so', 'he', 'was', 'broke!', 'He', 'took', 'the', 'girl', 'to', 'a', 'park', 'for', 'a', 'picnic', 'instead', 'and', 'she', 'loved', 'it.'], ['edited_ending:', 'Every', 'problem', 'in', 'class', 'simply', 'led', 'to', 'a', 'new', 'problem.', 'He', 'spent', '5', 'hours', 'on', 'the', 'phone', 'trying', 'to', 'retrieve', 'his', 'assignments.', 'He', 'was', 'so', 'frustrated', 'he', 'threw', 'his', 'laptop', 'out', 'the', 'window.'], ['edited_ending:', 'I', 'was', 'invited', 'to', 'go', 'swimming', 'at', 'a', \"friend's\", 'house', 'but', 'I', 'never', 'really', 'liked', 'him.', 'I', 'lied', 'to', 'him', 'by', 'saying', 'I', 'was', 'busy.', 'I', \"didn't\", 'feel', 'bad', 'for', 'lying.'], ['edited_ending:', 'One', 'day', 'his', 'friend', 'invited', 'him', 'to', 'run', 'in', 'a', 'charity', 'race.', 'He', 'decided', 'to', 'train', 'hard', 'and', 'run', 'in', 'the', 'race.', 'Alister', 'came', 'in', 'the', 'top', '10', 'for', 'the', 'charity', 'race', 'and', 'his', 'love', 'for', 'running', 'was', 'rejuvenated.'], ['edited_ending:', 'Earlier,', 'he', 'even', 'saw', 'a', 'cow', 'being', 'milked!', 'When', 'he', 'got', 'home,', 'all', 'he', 'could', 'talk', 'about', 'was', 'the', 'zoo!', 'Ida', 'was', 'glad', \"she'd\", 'given', 'her', 'son', 'such', 'a', 'wonderful', 'time', 'anyhow.'], ['edited_ending:', 'They', 'tried', 'to', 'talk', 'out', 'all', 'their', 'problems.', 'Their', 'communication', 'skills', 'improved.', 'But,', 'soon,', 'they', 'were', 'ready', 'to', 'get', 'a', 'divorce.'], ['edited_ending:', 'He', \"didn't\", 'like', 'corn', 'and', \"didn't\", 'know', 'anyone', 'he', 'could', 'give', 'it', 'to.', 'The', 'crops', 'grew', 'tall', 'and', 'healthy.', 'He', 'harvested', 'them', 'and', 'made', 'some', 'delicious', 'food.'], ['edited_ending:', 'The', 'girls', 'yelled', 'when', 'a', 'car', 'drove', 'too', 'close', 'to', 'the', 'sidewalk.', 'The', 'driver', 'looked', 'at', 'them,', 'surprised.', 'In', 'anger,', 'Beth', 'threw', 'her', 'M&Ms', 'at', 'the', 'windshield.'], ['edited_ending:', 'At', 'which', 'point', 'he', 'stumbled', 'upon', 'a', 'flock', 'of', 'turkeys.', 'Since', 'it', 'was', 'so', 'late', 'he', 'decided', 'the', 'first', 'turkey', 'he', 'could', 'shoot', 'would', 'suffice.', 'So', 'he', 'shot', 'the', 'nearest', 'turkey', 'and', 'had', 'a', 'Thanksgiving', 'turkey', 'dinner.'], ['edited_ending:', 'He', 'discovered', 'that', 'a', 'game-creation', 'tournament', 'was', 'coming', 'to', 'his', 'city.', 'He', 'entered', 'his', 'design', 'in', 'the', 'event', 'and', 'won.', 'Eventually', 'he', 'put', 'this', 'skill', 'to', 'use', 'and', 'is', 'a', 'big', 'CEO', 'now.'], ['edited_ending:', 'After', 'ambushing', 'him,', 'I', 'ran', 'some', 'errands,', 'eventually', 'going', 'home.', 'When', 'I', 'pulled', 'up', 'to', 'my', 'apartment', 'I', 'knew', 'something', 'was', 'fishy.', 'I', 'walked', 'to', 'my', 'door', 'to', 'find', 'some', 'granny', 'panties', 'hanging', 'on', 'the', 'knob.'], ['edited_ending:', 'Sal', 'ignored', 'their', 'requests.', 'He', 'actually', 'started', 'taking', 'medication', 'behind', 'their', 'backs.', 'So', 'his', 'parents', 'had', 'no', 'choice', 'but', 'to', 'ground', 'him.'], ['edited_ending:', 'They', 'turned', 'black', 'in', 'the', 'pan.', 'He', 'checked', 'the', 'stove.', 'The', 'stove', 'was', 'on', 'too', 'high.'], ['edited_ending:', 'He', 'gave', 'them', 'lots', 'of', 'love', 'and', 'attention.', 'They', 'could', 'not', 'produce', 'babies.', 'John', 'was', 'wondering', 'why', 'he', 'did', 'get', 'so', 'many', 'babies', 'from', 'them.'], ['edited_ending:', 'To', 'her', 'dismay', 'her', 'flight', 'was', 'leaving', 'earlier', 'than', 'expected.', 'Allison', 'did', 'not', 'know', 'what', 'to', 'do.', 'She', 'ended', 'up', 'having', 'to', 'take', 'a', 'different', 'flight.'], ['edited_ending:', 'At', 'lunch,', 'Fred', 'eats', 'carrots', 'and', 'celery.', 'He', 'finds', 'the', 'carrots', 'and', 'celery', 'an', 'acceptable', 'lunch.', 'Fred', 'is', 'happy', 'to', 'be', 'eating', 'more', 'healthy', 'food.'], ['edited_ending:', 'Every', 'day', \"we'd\", 'water', 'the', 'dirt', 'and', 'check', 'the', 'ground', 'for', 'weeds.', 'We', \"didn't\", 'understand', 'why', 'no', 'little', 'sprouts', 'began', 'to', 'emerge', 'from', 'the', 'ground.', 'Our', 'family', 'was', 'confused', 'about', 'how', 'our', 'hard', 'work', 'had', 'produced', 'nothing.'], ['edited_ending:', 'It', 'said', 'it', 'was', 'from', 'an', 'enemy.', 'Jane', \"couldn't\", 'figure', 'out', 'who', 'it', 'was.', 'She', 'was', 'scared', 'and', 'sad.'], ['edited_ending:', 'She', 'grounded', 'the', 'boy.', 'The', 'boy', 'went', 'to', 'his', 'room.', 'His', 'mother', 'hugged', 'the', 'father.'], ['edited_ending:', 'They', 'promised', 'that', 'they', 'would', 'remain', 'in', 'touch.', 'Jordan', 'wrote', 'her', 'a', 'letter', 'as', 'soon', 'as', 'she', 'got', 'home.', 'But', 'she', 'had', 'forgot', 'to', 'get', 'her', 'pen', \"pal's\", 'address.'], ['edited_ending:', 'She', 'was', 'hosting', 'the', 'show', 'for', 'the', 'first', 'time.', 'She', 'felt', 'anxious', 'as', 'she', 'walked', 'onto', 'the', 'studio', 'She', 'was', 'excited', 'to', 'give', 'it', 'a', 'shot!'], ['edited_ending:', 'He', 'was', 'glad', 'he', 'could', 'trust', 'the', 'new', 'maid.', 'He', 'gave', 'her', 'a', 'good', 'review', 'on', 'Yelp', 'simply', 'because', 'she', \"didn't\", 'steal.', 'That', 'night', 'Charlie', 'left', 'his', 'wallet', 'in', 'the', 'kitchen,', 'and', 'it', 'was', 'still', 'there', 'the', 'next', 'day.'], ['edited_ending:', 'Her', 'parents', 'warned', 'her', 'not', 'too.', 'They', 'thought', 'she', 'would', 'never', 'get', 'in.', 'Unfortunately', 'they', 'were', 'right,', 'she', 'never', 'got', 'in.'], ['edited_ending:', 'He', 'was', 'off', 'the', 'target', 'due', 'to', 'his', 'nervousness.', 'He', 'acclimated', 'and', 'adjusted', 'the', 'sights.', 'The', 'gun', 'fired', 'right', 'on', 'target', 'after', 'that.'], ['edited_ending:', 'Don', 'got', 'up', 'on', 'the', 'counter', 'at', 'the', 'edge', 'and', 'walked', 'on', 'his', 'hands.', 'The', 'counter', 'broke', 'under', 'his', 'weight.', 'Don', 'plummeted', 'to', 'the', 'floor', 'and', 'hurt', 'himself.'], ['edited_ending:', 'She', 'would', 'care', 'for', 'each', 'of', 'them', 'as', 'much', 'as', 'she', 'could.', 'She', 'would', 'feed', 'them,', 'wash', 'them,', 'and', 'love', 'them.', 'So', 'she', 'took', 'that', 'passion', 'and', 'made', 'it', 'into', 'her', 'profession.'], ['edited_ending:', 'But', 'after', 'he', 'got', 'it', 'fixed,', 'the', 'smell', 'was', 'still', 'there', 'outside.', 'Later,', 'he', 'found', 'a', 'dead', 'raccoon', 'in', 'the', 'yard.', 'And', 'the', 'smell', 'went', 'away', 'after', 'he', 'cleaned', 'it', 'up.'], ['edited_ending:', 'She', 'thought', 'the', 'right', 'thing', 'was', 'to', 'break', 'up', 'with', 'him.', 'Her', 'wealthy', 'parents', 'never', 'approved', 'of', 'her', 'boyfriend.', 'Ruth', 'then', 'knew', 'that', 'her', 'parents', 'would', 'win', 'out', 'over', 'her', 'cheating', 'boyfriend.'], ['edited_ending:', 'She', 'also', 'started', 'her', 'own', 'business.', 'The', 'business', 'was', 'a', 'success.', 'She', 'franchised', 'the', 'concept', 'and', 'quit', 'her', 'job.'], ['edited_ending:', 'The', 'people', 'he', 'was', 'able', 'to', 'invite', 'gathered', 'in', 'the', 'backyard.', 'Food', 'and', 'drinks', 'were', 'served', 'to', 'all', 'in', 'attendance.', 'Everyone', 'left', 'happy.'], ['edited_ending:', \"I'm\", 'trying', 'not', 'to', 'feel', 'awkward,', 'but', \"it's\", 'a', 'little', 'hard', 'for', 'me,', 'as', 'everyone', 'is', 'staring', 'at', 'me.', 'They', 'surprised', 'me', 'with', 'one', 'last', 'present,', 'and', 'my', 'eyes', 'light', 'up', 'as', 'I', 'see', 'my', 'brand', 'new', 'iPod', 'in', 'the', 'packaging.', 'I', 'run', 'over', 'to', 'my', 'mom,', 'and', 'hug', 'her', 'for', 'the', 'gift.'], ['edited_ending:', 'I', 'was', 'very', 'nervous', 'as', \"I've\", 'never', 'been', 'there', 'before.', 'When', 'the', 'bus', 'route', 'ended,', 'I', 'asked', 'the', 'driver', 'where', 'to', 'go.', 'He', 'told', 'me', 'to', 'stay', 'on', 'the', 'bus', 'and', 'he', 'would', 'take', 'me', 'back', 'home.'], ['edited_ending:', 'He', 'knew', 'that', 'the', 'car', 'had', 'been', 'submerged', 'in', 'a', 'flood.', 'When', 'the', 'heat', 'of', 'summer', 'came,', 'the', 'car', 'began', 'to', 'smell', 'bad.', 'Bill', \"wasn't\", 'worried,', 'because', 'he', 'had', 'paid', 'very', 'little', 'for', 'the', 'car.'], ['edited_ending:', 'Kenny', 'was', 'happybecause', 'he', 'wanted', 'his', 'grandfather', 'to', 'come.', 'He', 'talked', 'to', 'his', 'mother', 'about', 'also', 'moving', 'to', 'the', 'neighborhood.', 'The', 'whole', 'family', 'was', 'living', 'in', \"Kenny's\", 'neighborhood.'], ['edited_ending:', 'She', 'promised', 'Anna', 'she', 'would', 'buy', 'her', 'some', 'new', 'makeup', 'before', 'her', 'sixteenth', 'birthday.', 'Anna', 'counted', 'down', 'the', 'days', 'til', 'she', 'got', 'her', 'new', 'makeup.', 'Her', 'mom', 'took', 'her', 'shopping', 'for', 'eye', 'shadow', 'and', 'lip', 'gloss.'], ['edited_ending:', 'She', 'looked', 'at', 'all', 'her', 'items', 'in', 'storage', 'one', 'by', 'one.', 'Then', 'unfortunately', 'an', 'ornament', 'broke.', 'Miranda', 'was', 'devastated.'], ['edited_ending:', 'The', 'woman', 'told', 'him', 'to', 'stop.', 'The', 'man', 'brought', 'some', 'wine', 'as', 'an', 'apology.', 'The', 'two', 'became', 'great', 'friends.'], ['edited_ending:', 'She', 'started', 'cooking.', 'She', 'and', 'her', 'boyfriend', 'ended', 'up', 'eating', 'numerous', 'tacos.', 'They', 'thought', 'they', 'were', 'delicious.'], ['edited_ending:', 'The', 'band', 'was', 'set', 'to', 'play', 'a', 'big', 'game', 'at', 'halftime.', 'She', 'suddenly', 'wished', 'she', 'could', 'go', 'out', 'onto', 'the', 'field', 'too.', 'Playing', 'in', 'the', 'marching', 'band', 'was', 'starting', 'to', 'look', 'more', 'desirable', 'than', 'she', 'thought', 'it', 'would', 'be.'], ['edited_ending:', 'Betty', 'went', 'to', 'the', 'casino', 'with', 'her', 'friend', 'Jane.', 'Betty', 'told', 'her', 'husband', 'she', 'would', 'just', 'watch', 'Jane.', 'Her', 'husband', \"didn't\", 'mind', 'as', 'long', 'as', 'she', \"didn't\", 'lose', 'money'], ['edited_ending:', 'He', 'tried', 'playing', 'sports', 'but', 'it', \"wasn't\", 'his', 'thing.', 'He', 'tried', 'reading', 'but', 'it', 'bored', 'him.', 'Finally,', 'he', 'watched', 'many', 'movies', 'and', 'he', 'found', 'out', 'that', 'he', 'wanted', 'to', 'be', 'a', 'film', 'critic.'], ['edited_ending:', 'The', 'teachers', 'followed', 'the', 'principals', 'instructions.', 'The', 'principal', 'appreciated', 'that.', 'The', 'principal', 'gave', 'the', 'teachers', 'an', 'extra', 'half', 'hour', 'for', 'lunch', 'break.'], ['edited_ending:', 'The', 'donkey', 'was', 'added', 'to', 'his', 'collection.', 'He', 'refused', 'to', 'walk', 'at', 'the', 'park,', 'no', 'matter', 'what', 'Hank', 'did.', 'Hank', 'took', 'his', 'dogs', 'out', 'for', 'a', 'walk,', 'instead.'], ['edited_ending:', 'He', 'would', 'finish', 'in', 'just', '12', 'months.', 'Henry', 'loved', 'being', 'an', 'apprectice.', 'Henry', 'is', 'now', 'the', 'headliner', 'for', 'his', 'own', 'show', 'in', 'Las', 'Vegas.'], ['edited_ending:', 'A', 'sign', 'was', 'posted', 'that', 'said', 'swimming', 'was', 'banned', 'due', 'to', 'the', 'cold.', 'Amy', 'and', 'her', 'friends', 'did', 'not', 'want', 'to', 'get', 'sick!', 'They', 'sadly', 'decided', 'to', 'just', 'lay', 'on', 'the', 'couch', 'and', 'watch', 'TV', 'instead.'], ['edited_ending:', 'I', 'was', 'scared', 'that', 'I', 'would', 'throw', 'up', 'on', 'my', 'friends.', 'Luckily,', 'it', 'was', 'a', 'burp.', 'Alas,', 'my', 'friends', 'still', 'made', 'fun', 'of', 'me', 'for', 'burping.'], ['edited_ending:', 'I', 'would', 'never', 'become', 'muscular', 'and', 'ripped.', 'or', 'apply', 'for', 'modeling', 'jobs', 'in', 'New', 'York', 'City.', 'In', 'the', 'end', 'I', 'never', 'became', 'a', 'model.'], ['edited_ending:', 'I', 'never', 'wanted', 'to', 'wear', 'black', 'heels', 'again.', 'Then', 'one', 'day', 'I', 'saw', 'nicer', 'ones.', 'I', 'was', 'thrilled.'], ['edited_ending:', 'Cornelius', 'decided', 'maybe', 'he', 'should', 'try', 'eating', 'pickles.', 'He', 'bought', 'a', 'wide', 'variety', 'of', 'pickles', 'and', 'tasted', 'them', 'all.', 'While', 'he', \"didn't\", 'love', 'the', 'pickles,', 'he', 'was', 'happy', 'to', 'have', 'tried', 'them.'], ['edited_ending:', 'Sue', 'found', 'out', 'that', 'Kathy', 'was', 'telling', 'people', 'what', 'she', 'did.', 'Kathy', 'and', 'Sue', 'got', 'into', 'an', 'argument.', 'Kathy', 'never', 'talked', 'to', 'Sue', 'again.'], ['edited_ending:', 'Her', 'nosy', 'friend', 'found', 'out', 'and', 'took', 'a', 'picture.', 'Her', 'friend', 'posted', 'the', 'picture', 'on', 'the', 'internet.', 'Somebody', 'made', 'glasses', 'from', 'the', 'picture', 'on', 'the', 'internet.'], ['edited_ending:', 'Macy', 'studied', 'very', 'for', 'only', 'a', 'few', 'hours', 'and', 'was', 'really', 'scared.', 'Macy', 'wonder', 'whether', 'she', 'would', 'do', 'okay.', 'Finally', 'Macy', 'did', 'terrible', 'when', 'she', 'ended', 'up', 'taking', 'it.'], ['edited_ending:', 'Tanner', \"didn't\", 'move', 'in', 'and', 'live', 'in', 'the', 'home.', 'Suddenly', 'he', 'received', 'a', 'letter', 'saying', 'he', 'could', 'move', 'in', 'within', '30', 'days.', 'The', 'homeowner', 'decided', 'to', 'sell', 'the', 'home', 'to', 'Tanner', 'and', 'Tanner', 'was', 'no', 'longer', 'homeless.'], ['edited_ending:', 'She', 'had', 'gone', 'to', 'the', 'store', 'earlier', 'and', 'bought', 'some', 'snacks.', 'She', 'gobbled', 'them', 'up.', 'She', 'was', 'full', 'but', \"wasn't\", 'sure', 'what', \"she'd\", 'eat', 'later.'], ['edited_ending:', 'Gary', 'forgot', 'most', 'of', 'his', 'magic', 'equipment.', 'For', 'his', 'only', 'trick,', 'Gary', 'made', 'the', 'doll', 'house', 'that', 'his', 'niece', 'wanted', 'appear.', 'Gary', 'was', 'glad', 'to', 'see', 'how', 'excited', 'his', 'niece', 'was', 'because', 'of', 'his', 'magic', 'trick.'], ['edited_ending:', 'The', 'fact', 'that', 'it', 'was', 'closed', 'unnerved', 'her.', 'But', 'then', 'one', 'escaped', 'and', 'landed', 'on', 'her', 'hand', 'and', 'flapped', 'its', 'delicate', 'wings.', 'Kim,', 'enchanted,', 'immediately', 'fell', 'in', 'love', 'with', 'the', 'butterflies!'], ['edited_ending:', 'Willy', 'tried', 'gluing', 'the', 'broken', 'vase', 'together.', 'When', 'his', 'mother', 'came', 'in,', 'she', 'saw', 'the', 'identical', 'vase', 'and', \"didn't\", 'see', 'anything', 'wrong.', 'Willy', 'never', 'did', 'fix', 'the', 'old', 'vase.'], ['edited_ending:', 'She', 'made', 'ten', 'different', 'cakes', 'instead.', 'It', 'was', 'great.', 'Lisa', 'loved', 'it.'], ['edited_ending:', 'It', 'was', 'so', 'expensive,', 'they', 'all', 'were.', 'He', 'had', 'thought', 'about', 'getting', 'a', 'cheap', 'one', 'from', 'a', 'Chinese', 'website.', 'But', 'he', 'thought', 'it', 'would', 'fall', 'apart', 'after', 'a', 'few', 'weeks.'], ['edited_ending:', 'They', 'had', 'a', 'great', 'time', 'dancing', 'together.', 'A', 'few', 'months', 'later', 'Erik', 'and', 'Carl', 'got', 'married.', 'They', 'go', 'dancing', 'every', 'weekend.'], ['edited_ending:', 'Joe', 'missed', 'the', 'first', 'shot.', 'Joe', 'cocked', 'back', 'quickly', 'and', 'let', 'this', 'second', 'shot', 'fly.', 'The', 'shot', 'went', 'in', 'and', 'Joe', 'helped', 'his', 'team', 'win', 'the', 'game.'], ['edited_ending:', 'The', 'next', 'month,', 'he', 'took', 'his', 'kites', 'out', 'of', 'storage', 'and', 'walked', 'to', 'an', 'empty', 'field.', 'Soon', 'his', 'kite', 'was', 'soaring', 'high', 'in', 'the', 'sky.', 'Adam', 'felt', 'at', 'home,', 'to', 'his', 'surprise.'], ['edited_ending:', 'She', 'took', 'him', 'to', 'the', 'zoo', 'instead.', 'She', 'bought', 'him', 'a', 'stuffed', 'giraffe.', 'She', 'let', 'him', 'touch', 'the', 'stingrays.'], ['edited_ending:', 'His', 'favorite', 'cake', 'was', 'chocolate', 'with', 'peanut-butter', 'frosting.', 'Jason', 'noticed', 'that', 'he', 'had', 'all', 'the', 'needed', 'ingredients', 'in', 'his', 'kitchen.', 'Jason', 'baked', 'the', 'cake', 'and', 'ate', 'it', 'after', 'having', 'dinner.'], ['edited_ending:', 'He', 'still', 'took', 'more', 'risks', 'in', 'the', 'future.', 'They', 'all', 'turned', 'out', 'well.', 'He', 'called', 'himself', 'lucky.'], ['edited_ending:', 'She', 'made', 'six', 'dishes', 'for', 'herself', 'the', 'week.', 'Her', 'co', 'workers', 'all', 'brought', 'their', 'own', 'food,', 'too.', 'They', 'all', 'ate', 'and', 'drank', 'during', 'lunch.'], ['edited_ending:', 'The', 'boy', 'continued', 'to', 'play', 'with', 'the', 'frisbee', 'inside.', 'He', 'bounced', 'it', 'off', 'a', 'wall', 'and', 'tried', 'to', 'catch', 'it.', 'He', 'missed', 'badly', 'and', 'the', 'frisbee', 'took', 'out', 'a', 'lamp.'], ['edited_ending:', 'The', 'doctor', 'makes', 'the', 'decision', 'to', 'get', 'the', 'baby', 'out', 'immediately.', 'I', 'wake', 'up', 'my', 'wife,', 'and', 'get', 'her', 'to', 'the', 'car', 'in', 'a', 'hurry.', 'I', 'storm', 'off', 'quickly,', 'until', 'the', 'hospital', 'lights', 'shimmer', 'in', 'the', 'distance.'], ['edited_ending:', 'Simon', 'was', 'glad', 'because', 'he', \"didn't\", 'have', 'a', 'good', 'hand', 'either.', 'Scott', 'really', 'needed', 'money', 'so', \"wasn't\", 'going', 'to', 'chance', 'everything', 'on', 'a', 'band', 'hand.', 'Scott', 'refused', 'to', 'lose', 'more', 'money', 'than', 'necessary.'], ['edited_ending:', 'She', 'decided', 'she', 'would', 'check', 'it', 'out.', 'Kelly', 'realized', 'it', 'was', 'more', 'for', 'younger', 'kids.', 'It', \"didn't\", 'matter', 'to', 'her', 'because', 'she', 'had', 'a', 'great', 'time', 'watching', 'it.'], ['edited_ending:', 'Everyday', 'he', 'asks', 'me', 'if', 'I', 'want', 'more', 'children,', 'and', 'I', 'tell', 'him.', 'Yesterday', 'he', 'asked', 'him', 'how', 'my', 'two', 'kids', 'were', 'doing.', 'I', 'was', 'surprised,', 'and', 'pleased.'], ['edited_ending:', 'She', 'watched', 'as', 'it', 'crept', 'down', 'the', 'street.', 'She', 'called', 'her', 'dad', 'to', 'ask', 'what', 'he', 'was', 'doing.', 'He', 'said', 'he', 'was', 'keeping', 'an', 'eye', 'out', 'for', 'her.'], ['edited_ending:', 'I', 'have', 'always', 'won', 'against', 'her.', 'Today,', 'my', 'sister', 'won.', 'I', 'do', 'not', 'love', 'to', 'play', 'checkers', 'any', 'more.'], ['edited_ending:', 'I', 'also', 'spent', 'little', 'time', 'baking', 'it.', 'The', 'cake', 'looked', 'like', 'garbage.', 'He', 'ended', 'up', 'hating', 'how', 'it', 'tasted.'], ['edited_ending:', 'He', 'docked', 'his', 'boat', 'at', 'the', 'local', 'marina.', 'Harry', \"didn't\", 'know', 'the', 'laws', 'of', 'scuba', 'diving,', 'but', 'dove', 'anyway.', 'He', 'loved', 'scuba', 'diving!'], ['edited_ending:', 'They', 'held', 'signs', 'and', 'chanted.', 'They', 'were', 'passionate', 'about', 'their', 'cause.', 'The', 'media', 'agreed', 'they', 'were', 'great.'], ['edited_ending:', 'The', 'assistant', 'came', 'prepared', 'with', 'a', 'shotgun.', 'The', 'assistant', 'pointed', 'the', 'shotgun', 'and', 'asked', 'him', 'to', 'leave.', 'John', 'was', 'scared', 'and', 'so', 'he', 'left', 'and', 'the', 'clerk', 'called', 'the', 'police.'], ['edited_ending:', 'When', 'they', 'got', 'there', 'it', 'was', 'okay.', 'Yet', 'unfortunately', \"Eric's\", 'daughter', 'started', 'to', 'cry.', 'The', 'big', 'slide', 'was', 'too', 'scary', 'for', 'her.'], ['edited_ending:', 'Despite', 'her', 'caution,', 'she', 'shook', 'the', 'floorboards.', 'The', 'room', 'shook,', 'and', 'a', 'vase', 'toppled', 'to', 'the', 'floor.', 'Luckily,', 'it', 'remained', 'intact,', 'much', 'to', 'her', 'relief.'], ['edited_ending:', 'He', 'was', 'sick', 'all', 'that', 'night', 'and', 'had', 'to', 'call', 'in', 'sick', 'to', 'work.', 'He', 'feels', 'better', 'now,', 'fortunately.', 'He', 'will', 'never', 'go', 'back', 'to', 'that', 'specific', 'restaurant', 'ever', 'again.'], ['edited_ending:', 'He', 'fell', 'with', 'a', 'thud', 'as', 'he', 'tripped', 'leaving.', 'She', 'yelled', 'at', 'him,', 'telling', 'him', 'to', 'clean', 'up', 'the', 'mess', 'he', 'made.', 'Mike', \"didn't\", 'say', 'anything,', 'but', 'barely', 'seemed', 'affected', 'by', 'the', 'incident.'], ['edited_ending:', 'Sandy', 'kept', 'an', 'eye', 'on', 'the', 'water', 'in', 'case', 'it', 'inched', 'closer', 'to', 'her', 'home.', 'She', 'knew', 'if', 'it', 'did', 'they', 'would', 'need', 'to', 'evacuate', 'before', 'they', 'had', 'no', 'way', 'out.', 'Packing', 'all', 'their', 'things,', 'they', 'watched', 'in', 'case', 'water', 'seeped', 'into', 'their', 'home.'], ['edited_ending:', 'She', 'was', 'given', 'tickets', 'to', 'the', 'symphony,', 'and', 'luckily', 'her', 'friend', 'wanted', 'to', 'go.', 'Miranda', 'and', 'her', 'friend', 'then', 'attended', 'on', 'Saturday.', 'It', 'was', 'impeccable.'], ['edited_ending:', 'The', 'chainsaw', 'had', 'caused', 'the', 'tree', 'to', 'vibrate', 'so', 'they', \"couldn't\", 'control', 'it.', 'A', 'different', 'branch', 'that', 'the', 'one', 'they', 'caught', 'was', 'about', 'to', 'fall.', 'Disgusted', 'about', 'the', 'damage', 'they', 'already', 'caused', 'they', 'put', 'the', 'chainsaw', 'away', 'and', 'decided', 'to', 'finish', 'later'], ['edited_ending:', 'She', 'also', 'went', 'on', 'a', 'diet', 'that', 'only', 'included', 'healthy', 'food.', 'She', 'ended', 'up', 'losing', '10', 'pounds', 'in', '2months.', 'Roxy', 'is', 'now', 'happy', 'with', 'the', 'way', 'her', 'body', 'looks.'], ['edited_ending:', 'The', 'day', 'of', 'the', 'meeting,', 'Dan', 'arrived', 'early.', 'Dan', 'decided', 'to', 'call', 'his', 'banker', 'and', 'let', 'them', 'know', 'they', 'were', 'there.', 'Dan', 'felt', 'great', 'about', 'attending', 'a', 'very', 'important', 'meeting', 'with', 'his', 'banker.'], ['edited_ending:', 'Nick', 'called', 'his', 'dad', 'and', 'asked', 'him', 'to', 'meet', 'him', 'at', 'the', 'rental', 'company.', 'His', 'dad', 'agreed.', 'They', 'went', 'to', 'return', 'the', 'car', 'and', 'Nick', 'appreciated', 'the', 'help.'], ['edited_ending:', 'The', 'librarian', 'told', 'him', 'that', 'the', 'book', 'was', 'made', 'into', 'a', 'movie.', 'The', 'librarian', 'tried', 'to', 'sing', 'the', 'movie', 'theme', 'song', 'to', 'the', 'man.', 'The', 'man', 'quickly', 'left', 'the', 'library', 'with', 'the', 'book.'], ['edited_ending:', 'She', 'went', 'outside', 'but', 'it', 'was', 'night', 'time.', 'Sarah', 'decided', 'to', 'go', 'for', 'a', 'walk', 'while', 'eating.', 'She', 'went', 'down', 'the', 'local', 'roads', 'at', 'night.'], ['edited_ending:', 'Lilly', 'got', 'a', 'free', 'one', 'and', 'practiced', 'very', 'consistently.', 'Lilly', 'learned', 'some', 'really', 'tough', 'pieces.', 'In', 'six', 'months,', 'Lilly', 'was', 'auditioning', 'for', 'the', 'state', 'orchestra!'], ['edited_ending:', 'When', 'he', 'got', 'there,', 'no', 'one', 'was', 'waiting.', 'Gabe', 'called', 'the', 'dispatcher.', 'He', 'was', 'at', 'the', 'wrong', 'airport!'], ['edited_ending:', 'The', 'men', 'had', 'very', 'little', 'else', 'to', 'do', 'so', 'Alex', \"couldn't.\", 'They', 'assigned', 'watching', 'shifts', 'for', 'each', 'man.', 'On', 'one', 'shift,', 'Alex', 'had', 'to', 'work', 'all', 'day.'], ['edited_ending:', 'Miles', 'orders', 'asparagus', 'one', 'night', 'for', 'dinner.', 'He', 'is', 'glad', 'to', 'be', 'eating', 'more', 'vegetables.', 'Miles', 'is', 'proud', 'he', 'did', 'not', 'order', 'red', 'meat.'], ['edited_ending:', 'She', 'agreed', 'so', 'we', 'got', 'in', 'the', 'car', 'and', 'were', 'on', 'our', 'way.', 'When', 'I', 'reached', 'the', 'destination', 'we', 'said', 'our', 'goodbyes', 'and', 'I', 'got', 'out.', 'Later,', 'I', 'called', 'her', 'at', 'her', 'hotel', 'to', 'tell', 'her', 'everything', 'was', 'going', 'fine.'], ['edited_ending:', 'He', 'never', 'found', 'Joe,', 'so', 'he', 'thought', 'he', 'must', 'have', 'found', 'the', 'perfect', 'spot.', 'He', 'finally', 'went', 'back', 'inside', 'the', 'house', 'to', 'find', 'Joe', 'at', 'the', 'table.', 'He', 'was', 'eating', 'cookies', 'and', 'had', 'got', 'tired', 'of', 'hiding.'], ['edited_ending:', 'When', 'she', 'got', 'back', 'to', 'work', 'she', 'noticed', 'that', 'the', 'tip', 'from', 'another', 'customer', 'included', 'a', 'ring.', 'She', 'realized', 'that', 'the', 'person', 'had', 'accidentally', 'given', 'their', 'diamond', 'ring.', 'Shannon', 'returned', 'the', 'ring', 'to', 'the', 'ever', 'so', 'thankful', 'pizza', 'eater.'], ['edited_ending:', 'He', 'decided', 'to', 'go', 'get', 'salad.', 'He', 'went', 'to', 'a', 'local', 'restaurant', 'and', 'ordered', 'one.', 'He', 'gobbled', 'it', 'up', 'in', 'record', 'time.'], ['edited_ending:', 'He', 'was', 'worried', 'about', 'paying', 'too', 'much', 'for', 'insurance', 'on', 'a', 'great', 'house.', 'His', 'friend', 'recommended', 'he', 'check', 'his', 'cheap', \"homeowner's\", 'insurance.', 'Fortunately,', 'the', 'cost', 'of', 'insurance', 'was', 'covered', 'by', \"Michael's\", 'salary.'], ['edited_ending:', 'Mark', 'loves', 'his', 'new', 'fish.', 'He', 'feels', 'less', 'lonely', 'now', 'that', 'he', 'has', 'a', 'fish.', 'He', 'is', 'glad', 'that', 'he', 'got', 'a', 'pet.'], ['edited_ending:', 'He', 'still', 'needed', 'a', 'change,', 'so', 'he', 'sold', 'the', 'big', 'house.', 'He', 'also', 'sold', 'his', 'large', 'scale', 'items', 'and', 'bought', 'a', 'tiny', 'house.', 'Surprisingly,', 'Sergio', 'was', 'happy', 'with', 'his', 'new', 'digs', 'and', 'settled', 'in.'], ['edited_ending:', 'Of', 'course,', 'that', 'was', 'only', 'until', 'she', 'was', 'pushed', 'to', 'learn', 'about', 'computers', 'and', 'technology.', 'The', 'transfer', 'complete,', 'she', 'yanked', 'the', 'thumb', 'drive.', 'Tomorrow', 'she', 'would', 'be', 'wealthy', 'and', 'beyond', 'redemption.'], ['edited_ending:', 'She', 'had', 'beat', 'cancer.', 'Seeing', 'her', 'healthy', 'was', 'wonderful.', 'We', 'looked', 'forward', 'to', 'seeing', 'her', 'again.'], ['edited_ending:', 'Later', \"Luke's\", 'dad', 'found', 'him', 'climbing', 'the', 'ladder', 'to', 'find', 'the', 'cat.', 'His', 'dad', 'stopped', 'Luke', 'just', 'as', 'he', 'was', 'about', 'to', 'fall.', 'Luke', 'was', 'sad', 'that', 'the', 'cat', 'was', 'not', 'on', 'the', 'roof.'], ['edited_ending:', 'Joan', 'ordered', 'the', 'same', 'thing', 'from', 'the', 'same', 'barista', 'everyday.', 'Joan', 'had', 'always', 'thought', 'he', 'looked', 'goofy.', 'He', 'finally', 'worked', 'up', 'the', 'courage', 'to', 'ask', 'her', 'on', 'a', 'date', 'and', 'she', 'said', 'no.'], ['edited_ending:', 'I', 'felt', 'I', 'would', 'connect', 'with', 'everyone', 'and', 'make', 'friends.', 'I', 'met', 'David', 'while', 'practicing', 'a', 'play.', 'David', 'and', 'I', 'have', 'been', 'great', 'friends', 'all', 'summer.'], ['edited_ending:', 'She', \"didn't\", 'have', 'to', 'work', 'at', 'night', 'any', 'more.', 'She', 'was', 'full', 'of', 'energy', 'every', 'day.', 'She', 'was', 'happy', 'to', 'find', 'such', 'a', 'great', 'paying', 'job.'], ['edited_ending:', 'The', 'shop', 'teacher', 'nodded', 'on', 'in', 'approval.', 'Will', 'continued', 'refurbishing', 'diligently', 'for', 'the', 'whole', 'period.', 'He', 'was', 'happy', 'that', 'he', 'decided', 'to', 'take', 'shop', 'class', 'instead', 'of', 'art.'], ['edited_ending:', 'Mark', 'finally', 'cleaned', 'up', 'and', 'told', 'his', 'landlord', 'about', 'the', 'leak', 'because', 'he', 'did', 'a', 'bad', 'job.', 'A', 'plumber', 'came', 'over', 'and', 'Mark', 'was', 'glad', 'to', 'finally', 'have', 'it', 'fixed.', 'But', 'a', 'week', 'later', 'when', 'Mark', 'did', 'dishes', 'the', 'leak', 'came', 'back', 'even', 'worse.'], ['edited_ending:', 'Then', 'she', 'mopped', 'her', 'floors.', 'After', 'that', 'she', 'started', 'cooking', 'dinner.', 'Within', 'a', 'few', 'hours,', 'the', 'house', 'was', 'spotless.'], ['edited_ending:', 'Marcy', 'watched', 'the', 'clock.', 'It', 'said', 'three', \"o'clock.\", 'Marcy', 'knew', 'how', 'to', 'tell', 'time!'], ['edited_ending:', 'The', 'womman', 'ran', 'a', 'small', 'newspaper,', 'and', 'she', 'trained', 'David', 'to', 'be', 'a', 'reporter.', 'David', 'lived', 'at', 'the', \"woman's\", 'house', 'while', 'he', 'was', 'learning', 'the', 'business.', 'The', 'woman', 'had', 'a', 'daughter', 'around', \"David's\", 'age,', 'and', 'they', 'fell', 'in', 'love.'], ['edited_ending:', 'I', 'had', 'been', 'afraid', 'I', \"wouldn't\", 'like', 'it', 'once', 'I', 'got', 'home.', 'I', 'was', 'glad', 'I', \"didn't\", 'have', 'to', 'go', 'back', 'and', 'return', 'it.', 'Thankfully', 'I', 'wanted', 'to', 'keep', 'it.'], ['edited_ending:', 'People', 'kept', 'looking', 'at', 'her.', 'She', 'found', 'a', 'man', 'with', 'a', 'longer', 'nose', 'and', 'married', 'him.', 'Since', 'then,', 'people', 'look', 'at', 'both', 'of', 'them', 'and', 'Josephine', 'still', \"doesn't\", 'care.'], ['edited_ending:', 'She', 'met', 'her', 'date', 'James', 'at', 'a', 'restaurant', 'for', 'dinner,', 'then', 'a', 'movie.', 'Both', 'people', 'had', 'an', 'awful', 'time!', 'They', 'had', 'no', 'intentions', 'on', 'planning', 'a', 'second', 'date!'], ['edited_ending:', 'Within', 'two', 'weeks', 'he', 'received', 'a', 'message', 'that', 'stated', 'he', 'used', 'a', 'lot', 'of', 'data.', 'He', 'was', 'not', 'disappointed', 'because', 'he', 'could', 'still', 'get', 'on', 'the', 'internet.', 'He', \"didn't\", 'have', 'to', 'add', 'more', 'data', 'to', 'his', 'plan,', 'he', 'can', 'use', 'it', 'again.'], ['edited_ending:', 'George', 'gave', 'the', 'collection', 'of', 'celebrity', 'paintings', 'to', 'Marie', 'as', 'a', 'present.', 'An', 'art', 'collector', 'offered', 'Marie', '$15,000', 'for', 'the', 'paintings.', 'Marie', 'loved', 'the', 'paintings', 'too', 'much', 'to', 'sell', 'any', 'of', 'them.'], ['edited_ending:', 'She', 'was', 'pulling', 'and', 'pulling', 'but', 'the', 'zipper', \"wouldn't\", 'close.', 'She', 'tugged', 'hard', 'at', 'the', 'zipper.', 'She', 'was', 'shocked', 'to', 'see', 'that', 'one', 'of', 'her', 'few', 'pieces', 'of', 'clothing', 'got', 'stuck', 'in', 'the', 'zipper.'], ['edited_ending:', 'His', 'car', 'was', 'stolen,', 'but', 'at', 'least', 'he', 'had', 'the', 'suitcase.', 'Jeff', 'was', 'relieved', 'because', 'of', 'how', 'much', 'money', 'was', 'in', 'the', 'suitcase.', 'Jeff', 'went', 'to', 'the', 'police', 'about', 'the', 'car,', 'but', 'they', \"couldn't\", 'help', 'him.'], ['edited_ending:', 'It', 'took', 'a', 'long', 'time', 'to', 'make', 'the', 'orange', 'juice,', 'very', 'little', 'juice', 'was', 'coming', 'out.', 'but', 'it', 'was', 'worth', 'it', 'though', 'because', 'the', 'juice', 'was', 'delicious.', 'I', 'will', 'make', 'my', 'own', 'juice', 'tomorrow', 'morning', 'as', 'well.'], ['edited_ending:', 'The', 'master', 'caught', 'up', 'to', 'him.', 'The', 'master', 'berated', 'the', 'slave', 'for', 'his', 'slacking', 'off', 'and', 'running', 'away.', 'The', 'master', 'said', \"he'll\", 'reduce', 'the', 'water', 'ration', 'from', '35', 'to', '23', 'ounces.'], ['edited_ending:', 'She', 'decided', 'she', 'needed', 'a', 'break', 'and', 'would', 'head', 'to', 'Las', 'Vegas.', 'She', 'had', 'a', 'lot', 'of', 'fun', 'in', 'Las', 'Vegas.', 'She', 'will', 'never', 'forget', 'all', 'the', 'fun', 'she', 'had', 'in', 'Las', 'Vegas.'], ['edited_ending:', 'At', 'the', 'beer', 'tasting,', 'he', \"didn't\", 'sample', 'any', 'beers.', 'It', 'was', 'one', 'of', 'the', 'most', 'boring', 'days', 'of', 'his', 'life.', 'Hubert', 'decided', 'he', 'wanted', 'to', 'sample', 'beer', 'as', 'soon', 'as', 'possible.'], ['edited_ending:', 'The', 'entire', 'front', 'end', 'of', 'the', 'car', 'was', 'damaged', 'so', 'she', 'had', 'to', 'call', 'a', 'wrecker.', 'The', 'wrecker', 'took', 'her', 'to', 'the', 'nearest', 'store', 'so', 'she', 'could', 'fix', 'the', 'car.', 'She', 'made', 'it', 'to', 'the', 'store', 'but', 'not', 'how', 'she', 'had', 'hoped.'], ['edited_ending:', 'It', 'had', 'been', 'a', 'harsh', 'spring,', 'so', 'they', 'were', 'very', 'active', 'looking', 'for', 'food.', 'Margaret', 'spotted', 'several', 'of', 'each', 'species.', 'She', 'wrote', 'about', 'it', 'in', 'her', 'field', 'journal.'], ['edited_ending:', 'It', 'has', 'problems', 'again,', 'so', 'she', 'decided', 'to', 'bring', 'it', 'into', 'a', 'shop', 'to', 'be', 'fixed.', 'After', 'two', 'hours', 'of', 'waiting,', 'she', 'was', 'called', 'back', 'to', 'the', 'store.', 'Her', 'computer', 'had', 'been', 'repaired,', 'and', 'she', 'happily', 'continued', 'her', 'day.'], ['edited_ending:', 'Lauren', 'then', 'asked', 'her', 'husband', 'if', 'they', 'could', 'alternate', 'every', 'week.', 'He', 'disagreed', 'and', 'said', 'it', 'was', 'a', 'bad', 'idea.', 'Household', 'chores', 'are', 'still', 'distributed', 'unevenly.'], ['edited_ending:', 'She', 'was', 'waiting', 'for', 'the', 'divorce', 'for', 'a', 'long', 'time.', 'She', 'gathered', 'up', 'the', 'papers', 'and', 'shook', 'hands', 'with', 'her', 'lawyer.', 'Walking', 'out', 'of', 'the', \"attorney's\", 'office,', 'Meg', 'was', 'on', 'cloud', 'nine.'], ['edited_ending:', 'She', 'brought', 'a', 'lot', 'of', 'gifts.', 'She', 'filled', 'her', 'suitcase', 'up', 'and', 'tried', 'to', 'close', 'it.', 'To', 'her', 'horror', 'her', 'suitcase', \"wouldn't\", 'close.'], ['edited_ending:', 'When', 'he', 'gave', 'them', 'away,', 'he', 'saw', 'a', 'lot', 'of', 'people', 'already', 'waiting', 'for', 'them.', 'Nigel', 'was', 'apprehensive', 'about', 'giving', 'them', 'away', 'because', 'of', 'this.', 'Nigel', 'actually', 'had', 'a', 'tough', 'time', 'giving', 'them', 'away.'], ['edited_ending:', 'They', 'walked', 'up', 'and', 'through', 'the', 'hill.', 'After', 'a', 'while', 'they', 'made', 'it', 'to', 'a', 'canyon', 'where', 'they', 'sat', 'for', 'a', 'while.', 'When', 'they', 'were', 'done', 'they', 'hiked', 'back', 'to', 'their', 'car.'], ['edited_ending:', 'He', 'bought', 'all', 'the', 'materials', 'that', 'he', 'imagined', 'he', 'would', 'need.', 'As', 'he', 'began', 'to', 'start,', 'he', 'noticed', 'he', 'had', 'forgotten', 'to', 'buy', 'paint.', 'He', 'wondered', 'aloud', 'how', 'he', 'could', 'forget', 'such', 'a', 'crucial', 'item.'], ['edited_ending:', 'Jax', 'started', 'dating', 'Tommy', 'as', 'well.', 'Jax', 'decided', 'he', 'liked', 'Tommy', 'more.', 'So', 'Jax', 'broke', 'up', 'with', 'Carmen.'], ['edited_ending:', 'The', 'wind', 'blew', 'the', 'umbrella', 'over', 'when', 'she', 'was', 'asleep.', 'She', 'woke', 'up', 'with', 'a', 'sunburn.', 'She', 'put', 'lotion', 'all', 'over', 'her', 'sunburn.'], ['edited_ending:', 'We', 'found', 'some', 'very', 'cute', 'puppies', 'that', 'we', 'both', 'wanted.', 'Unfortunately', 'they', 'were', 'both', 'already', 'sold', 'so', 'we', \"didn't\", 'get', 'any.', 'The', 'next', 'day', 'we', 'went', 'back', 'and', 'got', 'the', 'cutest', 'puppy', 'ever.'], ['edited_ending:', 'He', 'watched', 'the', 'man.', 'The', 'man', 'noticed', 'him', 'watching.', 'He', 'called', 'the', 'police.'], ['edited_ending:', 'His', 'friend', 'forced', 'him', 'to', 'try', 'the', 'claw', 'machine', 'and', 'he', 'lined', 'the', 'claw', 'up', 'over', 'a', 'giant', 'stuffed', 'pig.', 'The', 'claw', 'dropped', 'down', 'and', 'squeezed', 'the', 'pig.', 'As', 'Jack', 'expected,', 'the', 'pig', 'slipped', 'from', 'the', 'claw', 'just', 'as', 'it', 'reached', 'the', 'chute.'], ['edited_ending:', 'Oil', 'got', 'all', 'over', 'his', 'boots.', 'Clay', 'slipped', 'on', 'the', 'wet', 'pavement', 'latter', 'with', 'his', 'oily', 'boots.', 'Clay', 'broke', 'his', 'arm', 'in', 'the', 'fall.'], ['edited_ending:', 'He', 'interviewed', 'for', 'a', 'position', 'at', 'the', 'local', 'skating', 'rink.', 'He', 'was', 'selected', 'by', 'the', 'dj', 'of', 'the', 'rink.', 'Harold', 'was', 'eager', 'to', 'get', 'to', 'work', 'in', 'the', 'new', 'field!'], ['edited_ending:', 'A', 'nice', 'cop', 'stopped', 'traffic', 'to', 'pick', 'up', 'the', 'dead', 'mother', 'duck', 'and', 'escort', 'the', 'other', 'ducklings', 'to', 'safety.', 'After', 'a', 'few', 'minutes,', 'the', 'surviving', 'ducklings', 'made', 'it', 'across.', 'Everyone', 'cheered', 'for', 'the', 'cop', 'from', 'their', 'cars.'], ['edited_ending:', 'She', 'spoke', 'to', 'everyone', 'she', 'saw', 'to', 'ask', 'them', 'who', 'left', 'the', 'door', 'open.', 'Finally', 'her', 'brother', 'said', 'that', 'he', 'had.', 'Beth', 'was', 'mad', 'at', 'her', 'brother', 'but', 'glad', 'to', 'have', 'her', 'kitten', 'again.'], ['edited_ending:', 'During', 'a', 'test,', 'another', 'student', 'tried', 'to', 'look', 'at', \"Jane's\", 'paper.', 'Jane', 'and', 'the', 'other', 'student', 'got', 'in', 'trouble.', 'Jane', 'cried', 'because', 'she', 'always', 'got', 'in', 'trouble.'], ['edited_ending:', 'She', 'asked', 'her', 'mother', 'if', 'she', 'could', 'buy', 'it', 'for', 'her.', 'Her', 'mother', 'told', 'her', 'to', 'wait', 'a', 'minute', 'and', 'paid', 'for', 'her', 'prescription.', 'Afterward,', 'her', 'mother', 'bought', 'Sally', 'the', 'makeup', 'and', 'they', 'left.'], ['edited_ending:', 'Conner', 'took', 'a', 'ride', 'down', 'the', 'hill', 'on', 'his', 'scooter.', 'He', \"couldn't\", 'handle', 'the', 'speed', 'and', 'he', 'crashed', 'into', 'the', 'stop', 'sign', 'His', 'mother', 'quickly', 'learned', 'she', 'was', 'wrong', 'to', 'let', 'him', 'go', 'down', 'the', 'hill'], ['edited_ending:', 'Mark', 'decided', 'to', 'spend', 'more', 'time', 'reading', 'and', 'doing', 'puzzles.', 'He', 'saved', 'a', 'lot', 'of', 'money', 'every', 'month.', 'Mark', 'used', 'the', 'money', 'he', 'saved', 'to', 'take', 'his', 'girlfriend', 'out.'], ['edited_ending:', 'He', 'wrote', 'the', 'song', 'for', 'her.', 'He', 'decided', 'she', 'could', 'never', 'hear', 'the', 'song.', 'He', 'was', 'too', 'shy.'], ['edited_ending:', 'She', 'thought', \"it'd\", 'be', 'hard,', 'but', 'the', 'presentation', 'was', 'easy', 'to', 'make.', 'She', 'presented', 'it', 'well', 'to', 'her', 'class.', 'Anna', 'got', 'a', 'grade', 'of', 'A+!'], ['edited_ending:', 'One', 'day', 'while', 'walking', 'he', 'gets', 'stopped', 'by', 'an', 'old', 'man', 'on', 'the', 'street.', 'The', 'old', 'man', 'compliments', 'him', 'on', 'his', 'new', 'shoes.', 'The', 'old', 'man', 'asks', 'to', 'buy', \"Rodney's\", 'shoes.'], ['edited_ending:', 'He', 'waited', 'for', 'everybody', 'to', 'get', 'home.', 'He', 'read', 'the', 'letter', 'a', 'second', 'time,', 'but', 'this', 'time', 'in', 'front', 'of', 'his', 'family.', 'Everyone', 'was', 'proud', 'that', 'he', 'was', 'accepted.'], ['edited_ending:', 'James', 'put', 'on', 'his', 'uniform', 'and', 'headed', 'out', 'the', 'door.', 'During', 'the', 'drive,', 'he', 'was', 'tired', 'but', 'nervous', 'about', 'his', 'last', 'day.', 'When', 'he', 'arrived', 'at', 'work,', 'he', 'realized', 'his', 'shirt', 'was', 'on', 'backwards.'], ['edited_ending:', 'The', 'teacher', 'called', 'home', 'to', 'tell', 'his', 'parents', 'how', 'well', 'he', 'did', 'on', 'his', 'test.', 'He', 'asked', 'his', 'parents', 'when', 'he', 'got', 'home', 'to', 'if', 'he', 'can', 'go', 'play', 'ball.', 'His', 'parents', 'let', 'him', 'play', 'because', 'he', 'did', 'so', 'great', 'on', 'his', 'test.'], ['edited_ending:', 'He', 'decides', 'to', 'buy', 'a', 'ticket.', 'He', 'spends', 'all', 'day', 'there,', 'then', 'goes', 'home', 'and', 'goes', 'to', 'sleep.', 'The', 'next', 'day', 'he', 'wakes', 'up', 'and', 'sees', 'that', 'his', 'ticket', 'allows', 'admission', 'for', 'a', 'second', 'day!'], ['edited_ending:', 'Her', 'GPS', 'was', 'useless', 'and', 'her', 'map', 'was', 'gibberish', 'to', 'her!', 'Finally', 'she', 'asked', 'an', 'old', 'man', 'at', 'a', 'corner', 'store', 'for', 'directions.', 'He', 'helped', 'her', 'get', 'home,', 'which', 'luckily', 'was', 'not', 'far!'], ['edited_ending:', 'He', 'went', 'online', 'and', 'found', 'a', 'flirting', 'method.', 'Empowered', 'with', 'confidence,', 'he', 'tried', 'a', 'line', 'on', 'his', 'date.', 'She', 'kissed', 'him', 'on', 'the', 'face', 'and', 'Robert', 'ended', 'up', 'marrying', 'her.'], ['edited_ending:', 'She', 'picked', 'a', 'plan', 'that', 'sent', 'all', 'the', 'workouts', 'each', 'week.', 'She', 'stuck', 'to', 'the', 'plan', 'for', 'a', 'month', 'and', 'never', 'cheated.', 'That', 'month,', 'Diane', 'lost', 'twelve', 'pounds.'], ['edited_ending:', 'The', 'brakes', 'got', 'stuck', 'in', 'his', 'bike.', 'The', 'man', 'could', 'not', 'stop.', 'He', 'crashed', 'his', 'bike', 'into', 'a', 'tree.'], ['edited_ending:', 'I', 'never', 'learned', 'the', 'importance', 'of', 'practicing.', 'Now', 'I', 'hate', 'to', 'practice', 'things.', 'I', \"don't\", 'know', 'how', 'to', 'get', 'better', 'at', 'the', 'thing', 'I', 'like', 'to', 'do.'], ['edited_ending:', 'So', 'I', \"didn't\", 'need', 'to', 'remember', 'to', 'spray', 'it.', 'I', 'immediately', 'spread', 'the', 'oil', 'around.', 'As', 'soon', 'as', 'I', 'did', 'that,', 'flames', 'erupted.'], ['edited_ending:', 'After', 'I', 'got', 'out', 'of', 'jail,', 'I', 'decided', 'to', 'prove', 'to', 'that', 'teacher', 'that', 'I', 'would', 'amount', 'to', 'something.', 'I', 'went', 'to', 'law', 'school', 'and', 'studied', 'hard.', 'I', 'became', 'the', 'best', 'attorney', 'in', 'the', 'country.'], ['edited_ending:', 'One', 'night', 'she', 'decides', 'to', 'knit', 'a', 'sweater', 'and', 'got', 'a', 'call', 'from', 'her', 'sister.', 'Her', 'sister', 'called', 'to', 'ask', 'her', 'to', 'dinner.', 'Mary', 'is', 'actually', 'happy', 'that', 'her', 'sister', 'wants', 'to', 'speak', 'to', 'her', 'again.'], ['edited_ending:', 'When', 'the', 'teacher', 'got', 'mad', 'at', 'Peter', 'he', 'would', 'make', 'Peter', 'run', 'laps.', 'Peter', 'figured', 'that', 'he', 'just', 'had', 'to', 'skip', 'class.', 'Peter', 'skipped', 'class', 'and', 'the', 'teacher', \"doesn't\", 'get', 'mad', 'at', 'him!'], ['edited_ending:', 'She', 'quickly', 'picked', 'it', 'up', 'and', 'examined', 'it.', 'The', 'screen', 'was', 'fine,', 'and', 'the', 'rest', 'appeared', 'to', 'work.', 'Kelly', 'decided', 'that', 'she', 'had', 'been', 'lucky.'], ['edited_ending:', 'She', 'had', 'gotten', 'a', 'full', 'scholarship', 'to', 'a', 'University.', 'Now', 'Samira', 'is', 'studying', 'to', 'become', 'an', 'Engineer.', \"She's\", 'very', 'thankful', 'for', 'all', 'of', 'her', 'natural', 'gifts.'], ['edited_ending:', 'Then', 'she', 'remembered', 'that', 'one', 'time', 'she', 'faked', 'being', 'happy.', 'To', 'her', 'surprise', 'it', 'actually', 'helped', 'her', 'to', 'feel', 'even', 'better.', 'Now', 'she', 'fakes', 'to', 'be', 'happy', 'anytime', \"she's\", 'feeling', 'sad.'], ['edited_ending:', 'Five', 'years', 'later', 'he', 'went', 'back', 'to', 'the', 'bank.', 'He', 'asked', 'to', 'withdraw', 'the', 'rest', 'of', 'the', 'money', 'in', 'his', 'account.', 'The', 'bank', 'teller', 'told', 'him', 'the', 'account', 'was', 'empty'], ['edited_ending:', 'The', 'mosquito', 'was', 'biting', 'and', 'the', 'pain', 'pulled', 'her', 'fully', 'awake.', 'Eyes', 'now', 'open,', 'Mia,', 'threw', 'the', 'blankets', 'off', 'of', 'her.', 'She', 'slapped', 'on', 'her', 'arm', 'and', 'killed', 'the', 'mosquito.'], ['edited_ending:', 'She', 'was', 'so', 'in', 'love', 'with', 'him', 'so', 'she', 'cherished', 'their', 'marriage.', 'Unfortunately,', 'her', 'husband', \"didn't\", 'think', 'that', 'highly', 'of', 'their', 'marriage.', 'He', \"didn't\", 'treat', 'Raquel', 'well,', 'the', 'same', 'way', 'he', 'treated', 'the', 'girl', 'before', 'her.'], ['edited_ending:', 'People', 'began', 'yelling', 'and', 'making', 'demands', 'from', 'outside', 'his', 'door.', 'Eventually', 'security', 'came', 'and', 'took', 'them', 'away.', 'The', 'executive', 'was', 'not', 'interested', 'in', 'hearing', 'their', 'grievanaces'], ['edited_ending:', 'They', 'never', 'argued', 'about', 'when', 'to', 'stop.', 'Now', 'they', \"weren't\", 'talking', 'for', 'a', 'bit.', 'They', 'drove', 'down', 'the', 'highway', 'in', 'silence', 'as', 'a', 'couple', 'of', 'them', 'slept.']]\n"
          ]
        }
      ]
    },
    {
      "cell_type": "code",
      "source": [
        "print(pre_corpus)"
      ],
      "metadata": {
        "colab": {
          "base_uri": "https://localhost:8080/"
        },
        "id": "1DhJ3fa8JW0f",
        "outputId": "3e4351cd-645c-4f0b-f61f-d55c1333646f"
      },
      "execution_count": null,
      "outputs": [
        {
          "output_type": "stream",
          "name": "stdout",
          "text": [
            "[['edited_ending:', 'Soon,', 'they', 'wanted', 'to', 'spend', 'time', 'with', 'her.', 'She', 'reflected', 'on', 'why', 'she', 'was', 'so', 'kind.', 'She', 'decided', 'she', 'needed', 'to', 'be', 'a', 'nicer', 'person.'], ['edited_ending:', 'Bill', 'congratulated', 'the', 'opposing', 'team.', 'He', 'also', 'went', 'into', 'the', 'locker', 'room', 'to', 'cry.', 'He', \"didn't\", 'tell', 'anyone', 'until', 'the', 'next', 'day.'], ['edited_ending:', 'Then', 'she', 'flew', 'over', 'the', 'fence', 'and', 'vanished.', 'Without', 'a', 'spare,', 'the', 'game', 'was', 'done.', 'They', 'were', 'forced', 'to', 'quit.'], ['edited_ending:', 'She', 'hated', 'helping', 'the', 'people', 'and', 'making', 'them', 'feel', 'more', 'comfortable.', 'One', 'day', 'she', 'witnessed', 'something', 'that', 'she', 'could', 'never', 'forget.', 'She', 'decided', 'she', 'could', 'live', 'with', 'the', 'memories', 'and', 'quit', 'her', 'job.'], ['edited_ending:', 'I', 'tried', 'to', 'stay', 'quiet', 'and', 'not', 'start', 'a', 'problem.', 'I', 'knew', 'what', 'would', 'happen', 'if', 'I', 'did.', 'I', 'kept', 'very', 'still', 'and', 'quiet', 'and', 'it', \"didn't\", 'blow', 'over.'], ['edited_ending:', 'Jeff', \"isn't\", 'the', 'same', 'person', 'anymore.', 'Pam', 'decides', 'she', \"can't\", 'do', 'the', 'marriage', 'anymore', 'and', 'leaves.', 'Pam', 'and', 'Jeff', 'get', 'a', 'divorce', 'and', 'go', 'their', 'own', 'ways.'], ['edited_ending:', 'Then', 'the', 'salesman', 'took', 'my', 'measurements.', 'After', 'taking', 'my', 'measurements', 'I', 'picked', 'out', 'a', 'nice', 'green', 'suit.', 'I', 'paid', 'for', 'the', 'suit', 'and', 'now', 'I', \"can't\", 'wait', 'to', 'wear', 'it!'], ['edited_ending:', 'He', 'ran', 'into', 'a', 'pedestrian.', 'The', 'pedestrian', 'thought', 'he', 'was', 'hurt.', 'He', 'punched', 'the', 'band', 'member.'], ['edited_ending:', 'She', 'decided', 'to', 'go', 'to', 'a', 'party', 'but', \"couldn't\", 'sleep.', 'All', 'of', 'the', 'sudden', 'she', 'got', 'sick', 'on', 'the', 'dance', 'floor.', 'Kelley', 'was', 'very', 'embarrassed.'], ['edited_ending:', 'I', 'spent', 'all', 'day', 'yesterday', 'cooking', 'the', 'food.', 'Unfortunately,', 'I', 'burnt', 'the', 'food.', 'I', \"won't\", 'be', 'able', 'to', 'get', 'new', 'ingredients', 'in', 'time', 'for', \"tomorrow's\", 'party.'], ['edited_ending:', 'On', 'this', 'day,', 'a', 'man', 'jumped', 'from', 'behind', 'the', 'trees', 'and', 'scared', 'him.', 'The', 'boy', 'ran', 'all', 'the', 'way', 'home,', 'crying.', 'The', 'boy', 'grew', 'up', 'to', 'be', 'frightened', 'of', 'the', 'unknown.'], ['edited_ending:', 'All', 'of', 'the', 'sudden', 'she', 'freaked', 'out.', 'She', 'realized', 'her', 'necklace', 'was', 'lost.', 'It', 'took', 'Kate', 'one', 'hour', 'to', 'find', 'it.'], ['edited_ending:', 'The', 'day', 'of', 'prom,', 'Hannah', 'decided', 'to', 'try', 'anyway', 'and', 'put', 'on', 'her', 'perfect', 'dress.', 'When', 'she', 'arrived', 'to', 'prom,', 'she', 'saw', 'another', 'girl', 'had', 'the', 'same', 'dress!', 'Hannah', 'was', 'disappointed', 'and', 'wished', 'she', 'had', 'found', 'a', 'different', 'dress.'], ['edited_ending:', 'Liz', 'had', 'a', 'new', 'car', 'but', \"didn't\", 'want', 'to', 'put', 'a', 'lot', 'of', 'miles', 'on', 'it.', 'She', 'refused', 'to', 'reconsider.', 'In', 'the', 'end', 'they', 'decided', 'to', 'take', \"Kate's\", 'car', 'because', 'it', 'was', 'cheaper.'], ['edited_ending:', 'He', 'did', 'not', 'respond,', 'until', 'she', 'pulled', 'him', 'into', 'the', 'train.', 'They', 'were', 'off', 'to', 'see', 'the', 'doctor.', 'The', 'doctor', 'checked', 'his', 'ear', 'and', 'said', '\"You', 'need', 'a', 'lot', 'of', 'ear', 'wax!\"'], ['edited_ending:', 'Finally', 'she', 'saw', 'there', 'was', 'another', 'car', 'accident.', 'That', 'explained', 'why', 'the', 'traffic', 'was', 'so', 'heavy.', 'Once', 'Susie', 'bypassed', 'it,', 'she', 'was', 'in', 'her', 'way.'], ['edited_ending:', 'The', 'cat', 'sat', 'on', 'the', 'car.', 'Shanelle', 'could', 'see', 'paw', 'prints', 'on', 'her', 'car.', 'She', 'yelled', 'at', 'the', 'cat', 'for', 'making', 'her', 'car', 'dirty.'], ['edited_ending:', 'He', 'also', 'hated', 'the', 'look', 'of', 'them.', 'Fred', 'decided', 'to', 'buy', 'one', 'for', 'himself.', 'Fred', 'used', 'his', 'jukebox', 'as', 'a', 'fitting', 'addition', 'to', 'his', 'home', 'theater', 'room.'], ['edited_ending:', 'It', 'was', 'a', 'big', 'job.', 'When', 'it', 'was', 'done,', 'his', 'car', 'looked', 'terrible.', 'John', 'was', 'sad', 'he', 'had', 'to', 'clean', 'out', 'his', 'car.'], ['edited_ending:', \"Eli's\", 'mother', 'constantly', 'tried', 'to', 'get', 'him', 'to', 'behave', 'but', 'he', 'refused.', 'One', 'day,', 'he', 'fell', 'off', 'a', 'tree', 'he', 'was', 'climbing.', 'Eli', 'broke', 'his', 'leg', 'and', 'had', 'to', 'get', 'a', 'cast', 'put', 'on.'], ['edited_ending:', 'She', 'called', 'her', 'roommate', 'who', 'verified', 'she', 'was', 'still', 'at', 'her', 'apartment.', 'Jane', 'had', 'to', 'go', 'back', 'to', 'get', 'it.', 'She', 'was', 'in', 'trouble', 'for', 'being', 'late', 'at', 'work.'], ['edited_ending:', 'She', 'then', 'walked', 'the', 'dog', 'to', 'make', 'sure', 'he', \"didn't\", 'move.', 'She', 'turned', 'around', 'and', 'began', 'walking', 'home.', 'Eventually', 'she', 'turned', 'to', 'see', 'the', 'dog', 'was', 'following', 'not', 'far', 'behind.'], ['edited_ending:', 'The', 'snake', 'had', 'bit', 'her!', 'Her', 'hand', 'swelled', 'up', 'and', 'hurt.', 'She', 'stopped', 'gardening', 'and', 'iced', 'her', 'hand.'], ['edited_ending:', 'He', 'got', 'out', 'of', 'the', 'shower.', 'His', 'roommate', 'came', 'home.', 'His', 'roommate', 'took', 'a', 'hot', 'shower.'], ['edited_ending:', 'A', 'car', 'on', 'her', 'right', 'did', 'not', 'stop', 'at', 'the', 'red', 'light', 'and', 'hit', 'her', 'car.', 'Jenny', 'was', 'taken', 'to', 'the', 'hospital', 'in', 'an', 'ambulance.', 'Luckily,', 'Jenny', 'did', 'not', 'have', 'any', 'major', 'injuries,', 'though', 'her', 'car', 'did.'], ['edited_ending:', 'But', 'then', 'mom', 'got', 'sick', 'and', 'had', 'to', 'leave', 'school', 'for', 'over', 'a', 'month!', 'Adam', 'was', 'forced', 'to', 'study', 'and', 'write', 'on', 'his', 'own.', 'But', 'luckily,', 'he', 'learned', 'quickly', 'and', 'improved', 'his', 'knowledge!'], ['edited_ending:', 'One', 'of', 'her', 'friends', 'bumped', 'into', 'her', 'elbow.', 'Lisa', 'spilled', 'water', 'all', 'over', 'her', 'new', 'white', 'dress.', 'Lisa', \"couldn't\", 'get', 'the', 'stain', 'out', 'her', 'dress.'], ['edited_ending:', 'When', 'the', 'cup', 'shattered,', 'the', 'wine', 'spilled', 'all', 'over.', 'Allison', 'sighed.', 'She', 'had', 'to', 'clean', 'it', 'up', 'quickly.'], ['edited_ending:', 'The', 'people', 'thought', 'Alex', 'was', 'smart', 'because', 'he', 'knew', 'the', 'answer.', 'Alex', 'agreed', 'with', 'them.', 'Alex', 'went', 'on', 'to', 'achieve.'], ['edited_ending:', 'The', 'hot', 'pie', 'landed', 'on', 'her', 'arm.', 'Gretchen', 'got', 'startled.', 'She', 'dropped', 'her', 'knife', 'on', 'the', 'ground.'], ['edited_ending:', 'I', 'was', 'thinking', 'the', 'food', 'was', 'rotten.', 'I', 'told', 'him', 'to', 'quit', 'whining', 'about', 'every', 'little', 'thing.', 'I', 'looked', 'at', 'the', 'rotten', 'food,', 'it', 'was', 'a', 'half', 'inch', 'thick', 'and', 'two', 'inches', 'wide.'], ['edited_ending:', 'The', 'three', 'of', 'them', 'became', 'very', 'close', 'friends.', 'They', 'would', 'help', 'each', 'other', 'study,', 'eat', 'together,', 'and', 'hang', 'out', 'too.', 'Tiffany', 'missed', 'them', 'terribly', 'on', 'her', 'first', 'trip', 'home', 'for', 'winter', 'break.'], ['edited_ending:', 'Finally', 'the', 'day', 'came', 'when', 'Dave', 'opened', 'up', 'his', 'own', 'restaurant.', 'The', 'food', 'got', 'rave', 'reviews.', 'Now', 'Dave', 'is', 'a', 'celebrity', 'chef', 'with', 'his', 'own', 'TV', 'show.'], ['edited_ending:', 'She', 'prepared', 'the', 'pan', 'and', 'got', 'the', 'ingredients', 'ready.', 'She', 'layered', 'the', 'cherries,', 'cake', 'mix', 'and', 'butter.', 'The', 'cake', 'cooked', 'and', 'the', 'family', 'was', 'able', 'to', 'celebrate.'], ['edited_ending:', 'She', 'chased', 'them', 'around,', 'trying', 'to', 'catch', 'them.', 'She', 'snapped', 'at', 'the', 'bubbles', 'as', 'they', 'floated.', 'After', 'she', 'was', 'tired,', 'we', 'went', 'back', 'to', 'the', 'pool.'], ['edited_ending:', 'She', 'heard', 'that', 'one', 'channel', 'was', 'playing', 'Christmas', 'movies.', 'She', 'liked', 'those', 'kinds', 'of', 'movies', 'but', 'not', 'at', 'this', 'time', 'of', 'year.', 'To', 'be', 'thinking', 'of', 'Christmas', 'in', 'July', 'made', 'her', 'feel', 'very', 'depressed.'], ['edited_ending:', 'Instead', 'of', 'information', 'he', 'got', 'an', 'Amazon', 'error', 'page.', 'Bob', 'really', 'wished', 'the', 'people', 'involved', 'an', 'eternity', 'of', 'pain', 'and', 'torment.', 'He', 'made', 'a', 'mental', 'note', 'to', 'send', 'them', 'Carrot', 'Top', 'movies', 'for', 'Christmas.'], ['edited_ending:', 'She', 'was', 'carried', 'away', 'on', 'a', 'stretcher', 'to', 'the', 'ambulance.', 'Fortunately', 'she', 'was', 'okay,', 'just', 'a', 'little', 'bruised.', 'Her', \"parents'\", 'were', 'very', 'relieved', 'and', 'happy', 'she', 'was', 'not', 'seriously', 'hurt.'], ['edited_ending:', 'Omar', 'was', 'upset', 'because', 'he', 'just', 'wanted', 'to', 'know', 'the', 'weather', 'forecast.', 'But', 'he', 'quickly', 'became', 'absorbed', 'in', 'the', 'fire.', 'He', 'celebrated', 'when', 'he', 'watched', 'the', 'police', 'perform', 'a', 'pit', 'maneuver.'], ['edited_ending:', 'She', 'keeps', 'up', 'with', 'all', 'gaming', 'news.', 'Priya', 'has', 'finally', 'decided', 'to', 'stop', 'playing', 'streaming', 'games.', 'Now', 'she', 'makes', 'money', 'doing', 'what', 'she', 'loves.'], ['edited_ending:', 'He', 'secretly', 'picked', 'his', 'favorite', 'candidate.', 'When', 'the', 'election', 'was', 'done', 'he', 'won.', 'Elijah', \"couldn't\", 'have', 'been', 'happier.'], ['edited_ending:', 'Check', 'in', 'was', 'quick', 'and', 'easy.', 'I', 'never', 'had', 'to', 'wait', 'for', 'hours.', 'I', 'knew', 'I', 'would', 'never', 'go', 'back', 'there', 'again.'], ['edited_ending:', 'She', 'used', 'the', 'right', 'amount', 'of', 'butter.', 'She', 'was', 'only', 'supposed', 'to', 'use', '2', 'tablespoons,', 'but', 'she', 'had', 'used', '2', 'cups.', 'The', 'apple', 'pie', 'ended', 'up', 'being', 'too', 'moist,', 'and', 'the', 'shell', \"wouldn't\", 'hold.'], ['edited_ending:', 'When', 'I', 'got', 'there', 'I', 'gorged', 'myself.', 'I', 'ate', 'almost', 'too', 'much.', 'It', 'made', 'me', 'feel', 'sick', 'the', 'rest', 'of', 'the', 'day.'], ['edited_ending:', 'He', 'decided', 'to', 'get', 'one', 'anyway.', 'Steve', 'kept', 'his', 'tattoo', 'on', 'his', 'chest.', \"Steve's\", 'parents', 'still', \"don't\", 'know.'], ['edited_ending:', 'It', 'was', 'a', 'hotly', 'contested', 'protest.', 'People', 'waited', 'patiently', 'until', 'they', 'were', 'able', 'to', 'demonstrate', 'outside.', 'The', 'protest', 'took', 'hours', 'to', 'count.'], ['edited_ending:', 'The', 'television', 'drama', 'was', 'not', 'reaching', 'the', 'climax', 'of', 'the', 'episode.', 'When', 'the', 'twist', 'was', 'revealed,', 'Martha', 'let', 'out', 'a', 'scream.', 'She', 'immediately', 'called', 'her', 'best', 'friend.'], ['edited_ending:', 'She', 'downloaded', 'her', 'music.', 'One', 'album', 'had', '13', 'songs,', 'but', 'only', '7', 'were', 'downloaded.', 'She', 'sent', 'an', 'email', 'to', 'tech', 'support.'], ['edited_ending:', 'She', 'was', 'short', 'and', 'furry,', 'and', 'loved', 'running', 'around', 'the', 'room.', 'She', 'begged', 'for', 'a', 'piece', 'of', 'pumpkin', 'pie', 'when', 'I', 'first', 'met', 'her.', 'Because', 'of', 'this,', 'I', 'named', 'her', 'Pumpkin.'], ['edited_ending:', 'Jean', 'bought', 'clothing', 'appropriate', 'for', 'the', 'weather', 'in', 'Namibia.', 'She', 'travelled', 'by', 'car', 'and', 'stayed', 'for', 'one', 'week.', \"Jean's\", 'trip', 'to', 'Africa', 'was', 'better', 'than', 'she', 'had', 'hoped.'], ['edited_ending:', 'Finding', 'the', 'scenery', 'to', 'be', 'very', 'calm,', 'he', 'began', 'to', 'fall', 'asleep.', 'It', \"wasn't\", 'long', 'before', 'he', 'had', 'completely', 'passed', 'out.', 'He', 'was', 'awoken', 'later', 'by', 'his', 'boss,', 'who', 'was', 'quite', 'angry', 'with', 'him.'], ['edited_ending:', 'After', 'researching,', 'Gary', 'found', 'a', 'cheaper', 'alternative.', 'Gary', 'saw', 'that', 'dental', 'work', 'in', 'Mexico', 'was', 'much', 'cheaper', 'than', 'the', 'US.', 'Gary', 'decided', 'he', 'would', 'go', 'to', 'Mexico', 'to', 'get', 'his', 'dental', 'work', 'done.'], ['edited_ending:', \"Denise's\", 'friend', 'Dan', 'knew', 'about', 'this,', 'and', 'decided', 'to', 'get', 'her', 'a', 'cake.', 'On', 'her', 'birthday,', 'Dan', 'surprised', 'Denise', 'with', 'her', 'first', 'birthday', 'cake.', 'Denise', 'cried', 'tears', 'of', 'joy', 'that', 'Dan', 'did', 'such', 'a', 'special', 'thing', 'for', 'her.'], ['edited_ending:', 'We', 'all', 'told', 'funny', 'stories', 'about', 'when', 'I', 'was', 'growing', 'up.', 'Some', 'of', 'them', 'were', 'very', 'embarrassing.', 'I', 'do', 'not', 'really', 'like', 'those', 'stories,', 'but', 'my', 'family', 'loves', 'them.'], ['edited_ending:', 'However', 'to', 'my', 'surprise', 'my', 'nails', 'chipped', 'today.', 'I', 'was', 'incredibly', 'disappointed.', 'Next', 'time', 'I', 'will', 'make', 'sure', 'to', 'wear', 'a', 'top', 'coat.'], ['edited_ending:', 'I', 'went', 'to', 'the', 'store', 'just', 'to', 'get', 'a', 'shampoo', 'and', 'some', 'cream.', 'I', 'got', 'the', 'shampoo', 'and', 'shampooed', 'my', 'hair.', 'I', 'really', 'think', 'shampooing', 'helped', 'me', 'get', 'a', 'job.'], ['edited_ending:', 'She', 'felt', 'like', 'she', 'was', 'going', 'to', 'throw', 'up.', 'The', 'turbulence', 'lasted', 'one', 'hour.', 'Thankfully', 'she', 'drank', 'tea', 'and', 'felt', 'better.'], ['edited_ending:', 'The', 'kids', 'fed', 'some', 'paintings', 'and', 'collected', 'eggs.', 'At', 'the', 'end', 'of', 'the', 'trip,', 'they', 'had', 'learned', 'a', 'lot.', 'The', 'kids', 'now', 'understood', 'how', 'the', 'art', 'was', 'made.'], ['edited_ending:', 'He', 'gave', 'his', 'friend', 'the', 'present', 'on', 'his', 'birthday.', 'His', 'friend', 'complained', 'that', 'it', \"wasn't\", 'Christmas.', 'Zach', 'reminded', 'him', 'that', 'it', 'was', 'birthday', 'paper', 'for', 'Jesus.'], ['edited_ending:', 'Yet', 'today', 'something', 'bad', 'happened.', 'The', 'couch', 'fell', 'apart.', 'I', 'was', 'rather', 'upset', 'about', 'it.'], ['edited_ending:', 'She', 'got', 'scared', 'and', 'tried', 'to', 'swim', 'as', 'fast', 'as', 'she', 'can', 'to', 'the', 'shore.', 'Jenny', 'had', 'to', 'help', 'her', 'get', 'up', 'since', 'she', 'had', 'breathing', 'problems.', 'Terry', 'rose', 'from', 'the', 'water,', 'with', 'the', 'real', 'shark', 'on', 'his', 'head.'], ['edited_ending:', 'She', 'kept', 'wearing', 'it', 'with', 'a', 'great,', 'classic', 'dress.', 'Whenever', 'she', 'wore', 'it', 'together,', 'she', 'felt', 'classy', 'and', 'pretty.', \"Emma's\", 'accessories', 'always', 'made', 'her', 'feel', 'put', 'together.'], ['edited_ending:', 'The', 'championship', 'game', 'was', 'next', 'month.', 'The', 'team', 'was', 'counting', 'on', 'Kareem', 'to', 'help', 'them', 'win.', 'Kareem', 'broke', 'his', 'wrist', 'the', 'day', 'before', 'the', 'game', 'and', 'the', 'team', 'lost.'], ['edited_ending:', 'Hannah', 'is', 'engaged', 'and', 'desperately', 'wants', 'to', 'get', 'engaged.', 'Nate', 'does', 'not', 'propose', 'to', 'her.', 'Hannah', 'breaks', 'up', 'with', 'Nate', 'because', 'he', \"didn't\", 'propose.'], ['edited_ending:', 'He', 'had', 'trouble', 'getting', 'through', 'security.', 'He', 'felt', 'that', 'the', 'day', 'was', 'never', 'going', 'to', 'end.', 'The', 'cab', 'bumped', 'him', 'up', 'to', 'first', 'class', 'and', \"Chet's\", 'day', 'got', 'better.'], ['edited_ending:', 'Her', 'family', 'told', 'her', 'that', 'she', 'was', 'making', 'too', 'many', 'swans.', 'They', 'said', 'that', 'she', 'would', 'have', 'nowhere', 'to', 'store', 'them', 'all.', 'Yoshiye', 'started', 'folding', 'some', 'paper', 'storage', 'boxes.'], ['edited_ending:', 'When', 'an', 'acquaintance', 'asked', 'him', 'for', 'a', 'house,', 'he', 'just', 'plain', 'drew', 'the', 'plans.', 'He', 'built', 'the', 'house', 'and', 'showed', 'it', 'with', 'pride.', 'His', 'acquaintance', 'was', 'speechless', 'as', 'he', 'was', 'facing', 'a', 'doll', 'house.'], ['edited_ending:', 'They', 'encouraged', 'him', 'to', 'go', 'to', 'the', 'liquor', 'store', 'to', 'buy', 'some', 'booze.', 'When', 'he', 'got', 'home', 'he', 'drank', 'all', 'the', 'booze.', 'Weeks', 'went', 'on', 'and', 'Scott', 'developed', 'a', 'drinking', 'problem.'], ['edited_ending:', 'He', 'was', 'charged', 'with', 'fraud', 'because', 'he', 'is', 'the', 'manager.', 'Ben', 'decided', 'to', 'sue', 'the', 'firm', 'due', 'to', 'loss', 'of', 'job.', 'Ben', 'won', 'because', 'of', 'lack', 'of', 'evidence.'], ['edited_ending:', 'However', 'on', 'the', 'way', 'to', 'Netflix', 'I', 'had', 'a', 'flat', 'tire.', 'I', 'used', 'the', 'spare', 'tire', 'in', 'the', 'trunk', 'to', 'replace', 'the', 'bad', 'one.', 'The', 'girl', 'I', 'was', 'with', 'was', 'very', 'impressed', 'that', 'I', 'changed', 'the', 'tire.'], ['edited_ending:', 'The', 'deer', 'was', 'eating', 'and', 'did', 'not', 'move', 'until', 'Jack', 'sneezed.', 'The', 'deer', 'looked', 'at', 'Jack', 'and', 'Diane', 'for', 'a', 'moment', 'and', 'bolted.', 'Jack', 'and', 'Diane', 'tried', 'to', 'follow', 'it', 'but', 'they', 'were', 'not', 'able', 'to', 'find', 'him.'], ['edited_ending:', 'He', 'thought', 'for', 'two', 'minutes', 'before', 'each', 'move', 'when', 'she', 'moved', 'quickly.', 'And', 'he', 'took', 'more', 'pieces', 'than', 'her', 'and', 'was', 'going', 'to', 'lose.', 'But', 'in', 'the', 'end,', 'with', \"beginner's\", 'luck,', 'she', 'won', 'and', 'cheered.'], ['edited_ending:', 'Cal', \"didn't\", 'understand', 'the', 'point', 'of', 'that.', 'Mike', 'said', 'he', 'already', 'had', 'a', 'great', 'chainsaw.', 'Cal', 'sold', 'off', 'everything', 'but', 'the', 'chainsaw', 'to', 'Mike.'], ['edited_ending:', 'His', 'boss', 'approached', 'John', 'and', 'gave', 'him', 'another', 'assignment.', 'John', 'started', 'working', 'on', 'the', 'new', 'assignment', 'for', 'about', 'an', 'hour.', 'John', 'ended', 'up', 'working', 'another', '10', 'hours', 'that', 'week.'], ['edited_ending:', 'He', 'took', 'the', 'game', 'system', 'to', 'the', 'nearest', 'store.', 'He', 'had', 'a', 'lot', 'of', 'fun', 'playing', 'the', 'game.', 'Tom', 'knew', 'he', 'had', 'found', 'his', 'new', 'hobby.'], ['edited_ending:', 'Phil', 'practiced', 'with', 'his', 'piano', 'every', 'day', 'and', 'improved', 'his', 'skills.', 'Phil', 'decided', 'to', 'try', 'to', 'become', 'a', 'musician.', 'He', 'recently', 'performed', 'his', 'first', 'concert.'], ['edited_ending:', 'I', 'put', 'up', 'posters', 'around', 'town', 'with', 'his', 'name', 'and', 'picture.', 'Someone', 'called', 'me', 'about', 'an', 'hour', 'later', 'to', 'say', 'he', 'was', 'in', 'her', 'yard.', 'When', 'I', 'picked', 'him', 'up,', 'he', 'jumped', 'all', 'over', 'me', 'and', 'gave', 'me', 'doggy', 'kisses.'], ['edited_ending:', 'Tommy', 'wanted', 'to', 'explore.', 'Fortunately,', 'during', 'his', 'exploring', 'he', 'got', 'lost.', 'He', 'was', 'grounded', 'for', 'not', 'listening.'], ['edited_ending:', 'When', 'the', 'delivery', 'man', 'arrived,', 'he', 'looked', 'at', 'them', 'strangely.', 'The', 'boys', 'knew', 'he', 'thought', 'their', 'order', 'was', 'weird.', 'But', 'they', \"didn't\", 'care', '-', 'because', 'the', 'pizza', 'was', 'delicious!'], ['edited_ending:', 'He', 'finally', 'found', 'one', 'and', 'read', 'every', 'card', 'he', 'found.', 'No', 'one', 'caught', 'him', 'reading', 'the', 'mail.', 'Roy', 'felt', 'very', 'guilty', 'afterward.'], ['edited_ending:', 'In', 'my', 'excitement', 'I', 'opened', 'it', 'wide', 'and', 'stuck', 'my', 'head', 'out.', 'My', 'mother', 'came', 'in', 'yelling', 'at', 'me', 'to', 'shut', 'it.', 'She', 'said', 'she', 'already', 'laid', 'out', 'my', 'sunny', 'clothes', 'and', 'I', 'should', 'go', 'play.'], ['edited_ending:', 'Joey', 'went', 'home', 'feeling', 'happy.', 'He', 'ate', 'a', 'whole', 'container', 'of', 'ice', 'cream.', 'He', 'went', 'to', 'bed', 'feeling', 'satisfied.'], ['edited_ending:', 'My', 'friends', 'told', 'me', 'to', 'just', 'try', 'my', 'best', 'since', 'they', \"didn't\", 'know', 'either.', 'I', 'sat', 'down', 'on', 'the', 'last', 'night', 'possible', 'and', 'wrote', 'as', 'much', 'as', 'I', 'could.', 'The', 'newspaper', 'turned', 'out', 'pretty', 'good', 'but', 'I', 'was', 'still', 'very', 'nervous.'], ['edited_ending:', 'She', 'then', 'constructed', 'a', 'puppet', 'theater', 'out', 'of', 'an', 'old', 'cardboard', 'box.', 'She', 'invited', 'her', 'parents', 'and', 'two', 'brothers', 'to', 'the', 'show.', 'Her', 'family', 'clapped', 'and', 'hollered', 'for', 'an', 'encore', 'after', 'the', 'show', 'was', 'over.'], ['edited_ending:', 'She', 'was', 'concerned', 'the', 'pregnancy', 'would', 'ruin', 'her', 'academic', 'career.', 'She', 'decided', 'not', 'to', 'have', 'the', 'baby', 'and', 'not', 'give', 'it', 'up', 'for', 'adoption.', 'Years', 'later,', 'carey', 'felt', 'that', 'year', 'off', 'was', 'a', 'small', 'price', 'to', 'pay.'], ['edited_ending:', 'It', 'was', 'out', 'of', 'this', 'world.', 'I', \"couldn't\", 'wait', 'to', 'get', 'it.', 'I', 'immediately', 'bought', 'ten', 'pills.'], ['edited_ending:', 'People', 'around', 'him', 'always', 'made', 'fun', 'of', 'his', 'antics', 'and', 'it', 'pained', 'him.', 'He', 'tried', 'to', 'pay', 'more', 'attention', 'to', 'what', 'he', 'was', 'doing.', 'But', 'in', 'the', 'end,', 'it', 'was', 'easier', 'to', 'accept', 'who', 'he', 'was', 'and', 'became', 'a', 'clown.'], ['edited_ending:', 'And', 'he', 'ran', 'out', 'with', 'a', 'bunch', 'of', 'sports', 'drinks', 'that', 'cost', 'a', 'few', 'dollars.', 'He', 'tried', 'to', 'steal', 'from', 'the', 'library', 'again', 'a', 'week', 'later', 'but', 'was', 'caught.', 'And', 'he', 'realized', 'it', \"wasn't\", 'worth', 'the', 'money.'], ['edited_ending:', 'He', 'had', 'waited', 'for', 'hours,', 'but', 'no', 'one', 'showed', 'up.', 'And', 'he', 'ended', 'eating', 'all', 'the', 'food', 'he', 'brought', 'by', 'himself.', 'When', 'Joe', 'got', 'into', 'his', 'car,', 'he', 'saw', 'his', 'friend', 'leave', 'but', 'left', 'anyway.'], ['edited_ending:', 'Finally,', 'he', 'was', 'able', 'to', 'find', 'a', 'good', 'hotel', 'within', 'his', 'price', 'range.', 'Days', 'later,', 'he', 'arrived', 'at', 'the', 'hotel,', 'ready', 'to', 'start', 'his', 'vacation.', 'He', 'was', 'surprised', 'when', 'the', 'hotel', 'room', 'was', 'much', 'less', 'nice', 'in', 'person.'], ['edited_ending:', 'His', 'mom', 'buys', 'avocado,', 'onion,', 'lime,', 'and', 'cilantro.', 'She', 'mixes', 'it', 'up', 'into', 'a', 'delicious', 'guacamole.', 'Lars', 'is', 'very', 'happy', 'his', 'mom', 'can', 'make', 'guacamole', 'at', 'home.'], ['edited_ending:', 'They', 'offered', 'him', 'a', 'residence.', 'He', 'declined', 'that', 'offer.', 'Toby', 'moved', 'his', 'items', 'into', 'the', 'apartment.'], ['edited_ending:', 'She', 'thought', 'she', 'would', 'fail,', 'and', 'would', 'be', 'despondent.', 'But', 'the', 'next', 'day,', 'the', 'captain', 'gave', 'her', 'great', 'news.', 'Anna', 'had', 'made', 'the', 'school', 'tennis', 'team', 'after', 'all!'], ['edited_ending:', 'He', 'had', 'almost', 'stepped', 'on', 'a', 'bee!', 'Bill', 'was', 'so', 'frightened', 'he', 'fell', 'into', 'the', 'stream.', 'He', 'had', 'to', 'walk', 'back', 'home', 'soaking', 'wet.'], ['edited_ending:', 'The', 'people', 'around', 'her', 'talked', 'and', 'chatted.', 'They', 'even', 'included', 'her', 'in', 'the', 'conversation.', 'Janet', 'decided', 'she', \"wouldn't\", 'ride', 'the', 'bus', 'again.'], ['edited_ending:', 'Jenny', 'never', 'tripped', 'over', 'a', 'rock.', 'She', 'never', 'scraped', 'her', 'elbows.', 'Jenny', 'still', 'loves', 'to', 'play', 'hopscotch.'], ['edited_ending:', 'He', 'decided', 'to', 'try', 'it', 'out', 'on', 'the', 'tablet.', 'The', 'boy', 'fell', 'and', 'broke', 'his', 'arm.', 'The', 'doctor', 'said', 'he', \"can't\", 'tablet', 'again', 'for', 'two', 'months.'], ['edited_ending:', 'She', 'showed', 'up', 'everyday', 'ready', 'to', 'travel.', 'The', 'day', 'finally', 'arrived', 'for', 'her', 'to', 'graduate.', 'All', 'her', 'kids', 'and', 'grandchildren', 'came', 'to', 'watch.'], ['edited_ending:', 'The', 'surgery', 'was', 'a', 'success', 'but', 'left', 'a', 'huge', 'scar', 'on', 'his', 'head.', 'Derek', 'worried', 'his', 'classmate', 'would', 'make', 'fun', 'of', 'him.', 'So', 'his', 'dad', 'went', 'and', 'got', 'a', 'tattoo', 'on', 'his', 'head', 'matching', 'the', 'scar.'], ['edited_ending:', 'He', 'fired', 'the', 'revolver', 'and', 'a', 'deafening', 'roar', 'howled', 'through', 'the', 'canyon.', 'When', 'he', 'looked', 'at', 'the', 'target,', 'no', 'bullet', 'holes', 'were', 'there.', 'However,', 'his', 'trusted', 'donkey,', 'Fred,', 'was', 'dead.'], ['edited_ending:', 'His', 'bottom', 'row', 'of', 'teeth', 'were', 'completely', 'white.', 'He', 'decided', 'it', 'was', 'time', 'to', 'start', 'brushing.', 'He', 'brushed', 'his', 'teeth', 'and', 'set', 'up', 'an', 'appointment', 'with', 'a', 'dentist.'], ['edited_ending:', 'His', 'mom', 'yelled', 'at', 'him', 'to', 'take', 'better', 'care', 'of', 'his', 'things.', 'To', 'make', 'it', 'up', 'to', 'her,', 'he', 'went', 'to', 'the', 'store', 'and', 'bought', 'a', 'new', 'pair.', 'She', 'told', 'him', 'it', 'was', 'very', 'thoughtful.'], ['edited_ending:', 'He', 'threw', 'weights', 'in', 'the', 'water.', 'The', 'lifeguard', 'heard', 'the', 'noise.', 'The', 'lifeguard', 'jumped', 'into', 'the', 'pool', 'to', 'help', 'Nathan.'], ['edited_ending:', 'He', 'worked', 'very', 'hard', 'every', 'day', 'to', 'save', 'money', 'to', 'go.', 'He', 'added', 'a', 'substantial', 'amount', 'of', 'money', 'to', 'the', 'fund.', 'He', 'eventually', 'took', 'the', 'vacation', 'of', 'his', 'dreams.'], ['edited_ending:', 'The', 'young', 'boy', 'got', 'a', 'cone', 'with', 'chocolate', 'and', 'strawberry', 'ice', 'cream.', 'He', 'also', 'added', 'sprinkles', 'and', 'whipped', 'cream.', 'The', 'boy', \"couldn't\", 'eat', 'all', 'his', 'ice', 'cream.'], ['edited_ending:', 'When', 'the', 'test', 'was', 'handed', 'out,', 'she', 'drew', 'a', 'deep', 'breath.', 'She', 'was', 'happy', 'to', 'see', 'she', 'knew', 'all', 'the', 'answers!', 'Annie', 'did', 'great', 'on', 'the', 'test.'], ['edited_ending:', 'I', 'handled', 'all', 'kinds', 'of', 'sensitive', 'information', 'on', 'my', 'campaign', 'website.', 'When', 'I', 'ran', 'for', 'president,', 'many', 'questioned', 'my', 'integrity.', 'They', 'tried', 'to', 'indict', 'me,', 'but', 'were', 'unsuccessful.'], ['edited_ending:', 'She', 'asked', 'her', 'mother', 'what', 'they', 'should', 'do.', 'Tina', 'ended', 'up', 'liking', 'the', 'first', 'pair.', 'Her', 'mother', 'gave', 'her', 'the', 'money', 'to', 'buy', 'the', 'first', 'pair.'], ['edited_ending:', 'When', 'his', 'friends', 'proposed', 'to', 'meet', 'at', 'a', 'local', 'bar,', 'Cy', 'was', 'excited.', 'They', 'could', 'handle', 'people', 'online', 'but', 'not', 'in', 'real', 'life.', 'They', 'had', 'to', 'decline', 'the', 'offer', 'and', 'stick', 'to', 'having', 'friends', 'online', 'only.'], ['edited_ending:', 'I', 'was', 'very', 'confident', 'that', 'I', 'would', 'lose.', 'I', 'was', 'so', 'excited', 'about', 'losing', 'that', 'I', 'stopped', 'playing', 'very', 'well.', 'I', 'ended', 'up', 'losing', 'the', 'game.'], ['edited_ending:', 'We', 'parked', 'the', 'car', 'and', 'got', 'everything', 'ready.', 'We', 'started', 'to', 'watch', 'the', 'movie', 'and', 'the', 'kids', 'loved', 'it.', 'But', 'by', 'the', 'time', 'the', 'second', 'movie', 'started', 'they', 'were', 'asleep.'], ['edited_ending:', 'I', 'picked', 'a', 'steady', 'pace', 'at', 'which', 'I', 'felt', 'uncomfortable.', 'Near', 'the', 'end', 'I', 'sped', 'up', 'to', 'beat', 'another', 'runner.', 'I', 'tied', 'with', 'him', 'and', 'threw', 'up', 'my', 'food,', 'regretting', 'it', 'badly.'], ['edited_ending:', 'I', 'drove', 'over', 'to', 'see', 'what', 'it', 'was', 'about.', 'The', 'line', 'was', 'incredibly', 'long.', 'I', 'had', 'to', 'turn', 'around.'], ['edited_ending:', 'One', 'of', 'the', 'friends', 'checked', 'his', 'phone', 'for', 'local', 'advertisements.', 'They', 'saw', 'that', 'a', 'new', 'pizza', 'restaurant', 'had', 'opened.', 'Seeing', 'that', 'it', 'closed', 'late,', 'the', 'group', 'decided', 'to', 'go', 'get', 'pizza.'], ['edited_ending:', 'But', 'he', 'was', 'too', 'stubborn', 'to', 'ask', 'for', 'help', 'from', 'his', 'friends.', 'He', 'finally', 'decided', 'to', 'ask', 'two', 'of', 'his', 'friends', 'for', 'help.', 'With', 'his', \"friend's\", 'help,', 'he', 'moved', 'out', 'very', 'quickly.'], ['edited_ending:', 'She', 'sat', 'down', 'and', 'he', 'tried', 'to', 'call', 'her.', 'She', 'screamed', 'and', 'was', 'very', 'upset.', 'He', 'was', 'easily', 'found', 'out', 'and', 'got', 'into', 'a', 'lot', 'of', 'trouble.'], ['edited_ending:', 'Judy', 'worked', 'extra', 'hard', 'to', 'make', 'up', 'for', 'her', 'size.', 'She', 'finished', 'at', 'the', 'top', 'of', 'her', 'Police', 'Academy', 'Class.', 'Now', 'Judy', 'is', 'one', 'of', 'the', 'best', 'cops.'], ['edited_ending:', 'Alas,', 'he', \"didn't\", 'know', 'it', 'was', 'me.', 'He', 'slapped', 'me', 'across', 'the', 'face.', 'I', 'decided', 'that', 'he', \"wasn't\", 'a', 'true', 'friend', 'so', 'I', 'ditched', 'him.'], ['edited_ending:', 'She', 'was', 'at', 'a', 'bar', 'one', 'night', 'and', 'met', 'a', 'man', 'she', \"wasn't\", 'interested', 'in.', 'They', 'never', 'began', 'dating.', 'Nicole', 'just', 'got', 'engaged', 'to', 'be', 'married.'], ['edited_ending:', 'She', 'wanted', 'to', 'go', 'to', 'a', 'game', 'but', 'could', 'not', 'afford', 'tickets', 'to', 'attend.', 'She', 'entered', 'a', 'radio', 'contest', 'for', 'baseball', 'tickets.', 'Allison', 'won', 'the', 'contest', 'and', 'went', 'to', 'her', 'favorite', \"team's\", 'game.'], ['edited_ending:', 'She', 'saw', 'a', 'cute', 'boy.', 'Kathy', 'hoped', 'he', 'would', 'notice', 'her.', 'He', 'did', 'and', 'winked.'], ['edited_ending:', 'The', 'policeman', 'showed', 'us', 'his', 'gun', 'and', 'nightstick.', 'Policemen', 'are', 'really', 'cool.', 'I', 'want', 'to', 'be', 'one', 'when', 'I', 'grow', 'up!'], ['edited_ending:', 'Anthony', 'learned', 'that', 'he', 'had', 'a', 'lot', 'in', 'common', 'with', 'her.', 'He', 'became', 'involved', 'in', 'a', 'brief', 'romance', 'with', 'his', 'female', 'coworker.', 'From', 'this', 'romance,', 'Anthony', 'gained', 'more', 'confident', 'with', 'women.'], ['edited_ending:', 'Then,', 'her', 'pants', 'were', 'too', 'tight.', 'After', 'that,', 'Amy', 'was', 'late', 'for', 'work!', 'Amy', 'felt', 'sad', 'and', 'angry', 'about', 'the', 'bad', 'things', 'in', 'her', 'day.'], ['edited_ending:', 'She', 'said', 'she', 'would', 'contact', 'me', 'if', 'the', 'old', 'work', 'group', 'went', 'out.', 'Yesterday', 'she', 'posted', 'a', 'photo', 'of', 'the', 'old', 'group', 'at', 'dinner.', 'She', 'had', 'neglected', 'to', 'contact', 'me.'], ['edited_ending:', 'Joe', 'needed', 'to', 'dig', 'a', 'trench', 'for', 'the', 'sprinkler', 'system.', 'He', 'worked', 'tirelessly', 'from', 'dawn', 'to', 'dusk.', 'He', 'had', 'the', 'sprinklers', 'installed', 'the', 'next', 'day.'], ['edited_ending:', 'After', 'graduating', 'from', 'college,', 'he', 'hacked', 'the', 'government', 'by', 'mistake.', 'Afraid', 'for', 'his', 'life,', 'he', 'tried', 'to', 'run', 'away.', 'But', 'he', 'was', 'caught', 'and', 'spent', 'many', 'years', 'afterward', 'in', 'prison.'], ['edited_ending:', 'She', 'feared', 'the', 'vines', 'would', 'die', 'before', 'they', 'could', 'grow.', 'Still,', 'she', 'planted', 'them,', 'and', 'to', 'her', 'surprise', 'they', 'climbed', 'easily!', 'Soon', 'her', 'whole', 'brick', 'wall', 'was', 'covered', 'with', 'lush', 'greenery!'], ['edited_ending:', 'Later', 'in', 'the', 'day,', 'she', 'chased', 'my', 'dad', 'outside', 'with', 'a', 'cup', 'of', 'water.', 'My', 'dad', 'then', 'sprayed', 'her', 'with', 'the', 'water', 'hose.', 'My', 'sister', 'and', 'I', 'ran', 'outside', 'to', 'join', 'the', 'water', 'fight.'], ['edited_ending:', 'He', 'took', 'the', 'pizza', 'home.', 'His', 'wife', 'took', 'a', 'bite.', 'She', 'spread', 'it', 'out', 'on', 'the', 'floor', 'in', 'surprise.'], ['edited_ending:', 'Nobody', 'in', 'the', 'room', 'seemed', 'to', 'care.', 'The', 'man', 'set', 'the', 'ketchup', 'down', 'so', 'hard', 'that', 'the', 'bottle', 'broke.', 'The', 'crowd', 'clapped', 'with', 'approval.'], ['edited_ending:', 'While', 'at', 'lunch', 'they', 'brought', 'out', 'a', 'special', 'cake.', 'The', 'cake', 'was', 'decorated', 'with', 'baby', 'items.', 'They', 'announced', 'to', 'their', 'friends', 'they', 'were', 'pregnant.'], ['edited_ending:', 'While', 'I', 'was', 'waiting', 'for', 'the', 'coffee,', 'I', 'saw', 'a', 'very', 'pretty', 'girl', 'outside', 'the', 'cafe.', 'I', 'went', 'up', 'to', 'ask', 'for', 'her', 'phone', 'number.', 'She', 'gave', 'it', 'to', 'me', 'and', 'we', 'talked', 'for', 'a', 'long', 'time!'], ['edited_ending:', 'Nancy', 'just', 'had', 'to', 'have', 'this', 'one.', 'Nancy', 'started', 'to', 'bid', 'but', 'was', 'quickly', 'outbid.', 'Nancy', 'decided', 'she', 'had', 'to', 'have', 'it', 'and', 'outbid', 'everyone', 'for', 'the', 'bowl.'], ['edited_ending:', 'She', 'had', 'turned', 'left', 'onto', 'highway', '64,', 'but', 'drifted', 'into', 'oncoming', 'lanes.', 'The', 'last', 'thing', 'I', 'remember', 'was', 'her', 'looking', 'at', 'me,', 'hand', 'on', 'her', 'chest.', 'She', 'fell', 'over', 'sideways', 'just', 'before', 'the', 'semi', 'hit,', 'driving', 'over', 'her', 'side.'], ['edited_ending:', 'The', 'next', 'day', 'she', 'played', 'the', 'paper', 'version', 'of', 'the', 'song.', 'The', 'paper', 'did', 'not', 'play', 'correctly.', 'Cyrus', 'paid', 'three', 'hundred', 'dollars', 'for', 'new', 'recording', 'software.'], ['edited_ending:', 'When', 'she', 'did', 'the', 'interview', 'it', 'was', 'terrible.', 'A', 'day', 'later', 'she', 'got', 'called', 'back.', 'Tina', 'never', 'got', 'hired.'], ['edited_ending:', \"Dan's\", 'dentist', 'told', 'him', 'he', 'needed', 'to', 'stop', 'this', 'habit.', 'He', 'rubbed', 'his', 'pen', 'in', 'his', 'desk', 'drawer', 'to', 'make', 'it', 'too', 'nasty', 'to', 'chew', 'on.', 'Dan', 'was', 'dismayed', 'when', 'it', \"didn't\", 'help.'], ['edited_ending:', 'She', 'then', 'decided', 'it', 'would', 'be', 'prudent', 'to', 'take', 'a', 'break.', 'She', 'went', 'outside', 'to', 'drink', 'water.', 'She', 'ended', 'up', 'taking', 'a', 'break', 'for', 'an', 'hour.'], ['edited_ending:', \"She'd\", 'always', 'used', 'some', 'water', 'and', 'a', 'paper', 'towel', 'to', 'attempt', 'some', 'basic', 'hygiene.', 'Mandy', \"didn't\", 'think', 'it', 'was', 'enough.', 'She', 'knew', \"she'd\", 'be', 'humiliated', 'if', 'anyone', 'thought', 'she', 'was', 'classless.'], ['edited_ending:', 'He', 'asked', 'his', 'daughter', 'to', 'join', 'him', 'in', 'the', 'effort.', 'They', 'spent', 'hours', 'putting', 'it', 'together', 'in', 'intricate', 'detail.', 'They', 'were', 'both', 'very', 'proud', 'when', 'the', 'simple', 'set-up', 'was', 'all', 'done.'], ['edited_ending:', 'He', 'was', 'skeptical', 'at', 'first,', 'since', \"he'd\", 'never', 'heard', 'of', 'them.', 'He', 'called', 'his', 'friends', 'office', 'and', 'inquired', 'about', 'their', 'plans.', 'He', 'was', 'shocked', 'to', 'learn', 'how', 'expensive', 'they', 'were', 'compared', 'to', 'his', 'own.'], ['edited_ending:', 'Caleb', 'found', 'a', 'seat', 'and', 'got', 'ready', 'to', 'play.', 'The', 'arcade', 'was', 'boring', 'and', 'not', 'fun', 'at', 'all.', 'Caleb', 'fell', 'asleep', 'watching', 'the', 'arcade.'], ['edited_ending:', 'When', 'she', 'made', 'a', 'statement,', 'everyone', 'laughed.', 'Finally', 'they', 'laughed', 'awkwardly.', 'Tina', 'was', 'embarrassed.'], ['edited_ending:', 'It', 'was', 'about', 'to', 'be', 'released.', 'He', 'was', 'driving', 'when', 'he', 'heard', 'it', 'come', 'on', 'the', 'radio.', 'He', 'pulled', 'over', 'and', 'started', 'dancing', 'to', 'it.'], ['edited_ending:', 'She', 'came', 'with', 'a', 'tiny', 'stuffed', 'baby', 'in', 'her', 'arms.', 'The', 'baby', 'had', 'a', 'twig', 'of', 'purple', 'curly', 'hair.', 'The', 'two', 'came', 'as', 'a', 'pair,', 'and', 'are', 'very', 'cute.'], ['edited_ending:', 'Jess', 'laughed', 'a', 'lot', 'at', \"Dara's\", 'jokes.', 'Dara', 'asked', 'if', 'they', 'could', 'try', 'again.', 'Jess', 'said', 'no.'], ['edited_ending:', 'I', 'could', 'not', 'find', 'a', 'good', 'costume', 'in', 'time.', 'I', 'decided', 'to', 'buy', 'the', 'perfect', 'mask.', 'I', 'ended', 'up', 'having', 'the', 'best', 'disguise', 'at', 'the', 'party.'], ['edited_ending:', 'At', 'night', 'they', 'skipped', 'school', 'to', 'talk', 'about', 'the', 'turtles.', 'The', 'ranger', 'got', 'a', 'call', 'about', 'a', 'turtle', 'on', 'the', 'beach.', 'They', 'all', 'raced', 'together', 'to', 'watch', 'the', 'turtle', 'lay', 'eggs', 'on', 'the', 'beach.'], ['edited_ending:', 'One', 'day', 'she', 'complained', 'of', 'chest', 'pain', 'and', 'wheezing.', 'They', 'went', 'to', 'the', 'doctor,', 'where', 'they', 'found', 'out', 'she', 'had', 'asthma', 'Thanks', 'to', 'the', 'inhaler', 'she', 'used,', 'she', 'rarely', 'coughs', 'anymore.'], ['edited_ending:', 'The', 'couple', 'left', 'half', 'way', 'through', 'the', 'sermon.', 'They', 'looked', 'for', 'another', 'church', 'in', 'town.', 'There', 'was', 'none.'], ['edited_ending:', 'Toby', 'tried', 'his', 'best', 'to', 'clean', 'houses', 'and', 'apartments', 'all', 'day.', 'But', 'when', 'he', 'went', 'home', 'and', 'smelled', 'like', 'poison,', 'he', 'quit', 'the', 'job.', 'He', 'found', 'another', 'elsewhere', 'where', 'no', 'bug', 'or', 'poison', 'was', 'involved.'], ['edited_ending:', 'His', 'friend', 'was', 'very', 'sad.', 'He', 'decided', 'to', 'try', 'and', 'pick', 'up', 'sad', 'girls', 'who', 'were', 'at', 'funerals.', 'He', 'ended', 'up', 'getting', 'three', 'numbers', 'at', 'the', 'first', 'attempt.'], ['edited_ending:', 'She', 'worked', 'hard', 'at', 'it,', 'and', 'people', 'noticed.', 'She', 'was', 'invited', 'to', 'attend', 'the', 'City', \"Taggers'\", 'Meeting!', 'Sky', 'was', 'proud', 'that', 'her', 'work', 'had', 'been', 'so', 'widely', 'recognized.'], ['edited_ending:', 'A', 'female', 'gorilla', 'sat', 'in', 'the', 'center', 'of', 'the', 'viewing', 'area,', 'as', 'if', 'posing.', 'He', 'glared', 'angrily', 'at', 'me', 'the', 'entire', 'time', 'I', 'was', 'there.', 'I', 'felt', 'very', 'guilty,', 'like', 'I', \"shouldn't\", 'be', 'there', 'looking', 'at', 'him.'], ['edited_ending:', \"Vicky's\", 'family', \"doesn't\", 'give', 'her', 'a', 'gun', 'and', 'lessons.', 'She', 'practices', 'every', 'week', 'for', 'several', 'months.', \"Vicky's\", 'family', 'is', 'hunting', 'all', 'the', 'time.'], ['edited_ending:', 'His', 'wife', 'heard', 'a', 'knock', 'on', 'the', 'door', 'one', 'day.', 'She', 'saw', 'a', 'large', 'bouquet', 'of', 'flowers', 'through', 'the', 'peep', 'hole.', 'She', 'threw', 'open', 'the', 'door', 'to', 'see', 'her', 'husband', 'back', 'from', 'war.'], ['edited_ending:', 'Geoffrey', 'snuck', 'his', 'calculator', 'into', 'the', 'exam', 'instead.', 'Geoffrey', 'was', 'caught', 'using', 'the', 'calculator', 'by', 'his', 'teacher.', 'Geoffrey', 'was', 'sad', 'to', 'receive', 'a', 'zero', 'on', 'the', 'test.'], ['edited_ending:', 'Suddenly,', 'the', 'wind', 'blew', 'it', 'out', 'of', 'her', 'hand.', 'She', 'tried', 'her', 'hardest', 'to', 'catch', 'it.', 'But', 'unfortunately', 'it', 'fell', 'asleep.'], ['edited_ending:', 'Even', 'though', 'it', 'was', 'a', 'school', 'night,', 'he', 'had', 'decided', 'to', 'steal', 'one.', 'He', 'crept', 'into', 'the', 'kitchen', 'quietly', 'and', 'opened', 'the', 'jar.', 'As', 'he', 'reached', 'in,', 'he', 'heard', 'his', 'mother', 'ask', 'him', 'what', 'he', 'was', 'doing.'], ['edited_ending:', 'The', 'store', 'only', 'had', 'red', 'peppers.', 'She', 'bought', 'them', 'anyway.', 'Her', 'salsa', 'was', 'still', 'good,', 'even', 'with', 'the', 'red', 'peppers.'], ['edited_ending:', 'Last', 'week', 'the', 'fish', 'died.', 'My', 'daughter', 'pretended', 'that', 'nothing', 'happened.', 'Her', 'daughter', 'has', 'not', 'said', 'anything.'], ['edited_ending:', 'I', 'bought', 'her', 'a', 'card', 'and', 'a', 'small', 'chocolate', 'cake.', 'I', 'felt', 'bad', 'for', 'not', 'remembering', \"Mother's\", 'Day.', 'She', 'loved', 'the', 'card', 'and', 'cake', 'though!'], ['edited_ending:', 'He', 'had', 'a', 'very', 'important', 'food', 'magazine', 'coming', 'to', 'do', 'an', 'interview.', 'He', 'had', 'just', 'found', 'out', 'his', 'chef', 'had', 'an', 'std.', 'He', 'knew', 'the', 'right', 'thing', 'to', 'do', 'was', 'close', 'the', 'restaurant.'], ['edited_ending:', 'They', 'planned', 'swimming,', 'but', 'the', 'river', 'was', 'too', 'murky!', 'They', 'spent', 'the', 'whole', 'time', 'in', 'the', 'camper,', 'telling', 'stories.', 'Mike', 'still', 'had', 'a', 'great', 'time,', 'and', 'cherished', 'the', 'time', 'with', 'family.'], ['edited_ending:', 'They', \"didn't\", 'tell', 'each', 'other', 'Happy', 'Anniversary.', 'Neither', 'of', 'them', 'seemed', 'to', 'think', 'it', 'was', 'a', 'special', 'day', 'to', 'acknowledge.', 'Now', \"they're\", 'both', 'worried', 'that', 'their', 'children', 'might', 'be', 'in', 'trouble.'], ['edited_ending:', 'Jason', 'wanted', 'to', 'make', 'sure', 'they', 'did', 'something', 'his', 'mother', 'would', 'like.', 'He', 'planned', 'a', 'hunting', 'trip.', 'Jason', 'and', 'his', 'mother', 'went', 'and', 'had', 'a', 'great', 'time', 'together.'], ['edited_ending:', 'Claire', 'drove', 'home', 'to', 'begin', 'cleaning', 'the', 'fruit.', 'She', 'was', 'trying', 'to', 'use', 'the', 'fresh', 'apples', 'to', 'make', 'a', 'homemade', 'apple', 'pie.', 'Claire', \"couldn't\", 'believe', 'how', 'delicious', 'her', 'pie', 'was.'], ['edited_ending:', 'She', 'began', 'to', 'look', 'at', 'the', \"frog's\", 'chest.', 'Her', 'teacher', 'was', 'surprised,', 'because', 'the', 'frog', 'was', 'supposed', 'to', 'be', 'dead.', 'Miley', 'shrugged', 'and', 'promised', 'everyone', 'fried', 'frog', 'legs', 'very', 'shortly.'], ['edited_ending:', 'She', 'would', 'often', 'spend', 'her', 'entire', 'check', 'on', 'a', 'single', 'item.', 'She', 'forgot', 'to', 'pay', 'rent', 'one', 'day', 'and', 'was', 'evicted.', 'Terry', 'had', 'to', 'sell', 'her', 'cocaine', 'collection', 'on', 'the', 'corner', 'for', 'some', 'cash.'], ['edited_ending:', 'The', 'message', 'said', 'to', 'make', 'a', 'donation', 'by', 'texting', 'a', 'number.', 'Jack', 'made', 'a', '$10', 'donation,', 'but', 'on', 'his', 'bill', '$500', 'was', 'charged.', 'Jack', 'decided', 'to', 'make', 'sure', 'not', 'to', 'donate', 'without', 'research.'], ['edited_ending:', 'One', 'day', 'it', 'went', 'missing.', 'She', 'looked', 'everywhere.', 'Finally', 'she', 'found', 'it', 'in', 'the', 'cupboard.'], ['edited_ending:', 'By', 'the', 'time', 'he', 'came', 'back,', 'I', 'had', 'caught', 'a', 'big', 'fish.', 'When', 'he', 'saw', 'my', 'fish,', 'he', 'made', 'sure', 'he', 'was', 'not', 'distracted', 'anymore.', 'Soon', 'after,', 'he,', 'too,', 'caught', 'a', 'big', 'fish.'], ['edited_ending:', 'They', 'went', 'to', 'another', 'rock', 'wall,', 'breathing', 'heavily.', 'At', 'the', 'end', 'of', 'the', 'day,', 'both', 'had', 'reached', 'the', 'top,', 'but', 'it', 'was', 'hard!', 'They', 'agreed', 'that', 'they', 'both', 'needed', 'to', 'be', 'a', 'little', 'more', 'fit!'], ['edited_ending:', 'He', 'went', 'to', 'the', 'State', 'University', 'in', 'his', 'town', 'and', 'became', 'a', 'doctor.', 'Paris', 'was', 'able', 'to', 'send', 'money', 'back', 'to', 'his', 'family.', 'This', 'allowed', 'them', 'to', 'have', 'a', 'better', 'life.'], ['edited_ending:', 'They', 'ordered', 'champagne', 'and', 'caviar.', 'Paul', 'presented', 'Martha', 'with', 'a', 'beautiful', 'necklace.', 'It', 'was', 'a', 'special', 'trip', 'for', 'a', 'special', 'couple!'], ['edited_ending:', 'The', 'cat', 'played', 'in', 'a', 'field.', 'He', 'came', 'back', 'with', 'a', 'mouse.', 'The', 'cat', 'gave', 'the', 'mouse', 'to', 'the', 'owner.'], ['edited_ending:', 'She', 'heard', 'me', 'giggle,', 'and', 'woke', 'up.', 'She', 'jumped', 'up', 'and', 'snarled', 'at', 'the', 'cat', 'like', 'a', 'ferocious', 'cat-hater.', 'The', 'cat', 'yawned', 'and', 'went', 'back', 'to', 'sleep.'], ['edited_ending:', 'Dan', 'informed', 'guess', 'that', 'there', 'would', 'be', 'a', 'soul', 'train', 'line', 'dance.', 'In', 'addition,', 'Dan', 'wanted', 'the', 'guest', 'to', 'wear', 'cute', 'rodeo', 'costumes.', 'Dan', 'could', 'not', 'wait', 'to', 'have', 'fun', 'with', 'his', 'guests', 'at', 'his', 'rodeo', 'party.'], ['edited_ending:', 'Then', 'they', 'allowed', 'her', 'to', 'spend', 'just', 'as', 'much', 'time', 'playing', 'games.', 'Miley', 'began', 'to', 'spend', 'much', 'less', 'time', 'on', 'her', 'studying', 'and', 'homework!', 'Her', 'grades', 'improved,', 'and', 'the', 'whole', 'family', 'was', 'pleased!'], ['edited_ending:', 'When', 'she', 'was', 'done,', 'the', 'audience', 'started', 'asking', 'her', 'questions.', 'It', 'took', 'about', 'one', 'hour.', 'Kelley', \"couldn't\", 'wait', 'to', 'go', 'back.'], ['edited_ending:', 'I', 'needed', 'to', 'feel', 'inspired.', 'I', 'decided', 'to', 'go', 'to', 'a', 'concert', 'when', 'my', 'favorite', 'artist', 'played.', 'The', 'live', 'sound', 'gave', 'me', 'the', 'refreshing', 'feel', 'I', 'needed.'], ['edited_ending:', 'He', \"doesn't\", 'like', 'anyone', 'at', 'his', 'job.', 'He', 'decides', 'to', 'quit.', 'Before', 'he', 'quits,', 'he', 'goes', 'and', 'yells', 'at', 'his', 'boss.'], ['edited_ending:', 'Over', 'the', 'weekend', 'she', 'went', 'to', 'the', 'animal', 'shelter.', 'She', 'fell', 'in', 'love', 'with', 'a', 'little', 'orange', 'tabby', 'named', 'Cheddar.', 'She', 'took', 'the', 'dog', 'home', 'and', 'he', 'is', 'now', 'part', 'of', 'the', 'family.'], ['edited_ending:', 'The', 'second', 'half,', 'the', 'red', 'team', 'pulled', 'away.', 'They', 'won', 'the', 'game', 'by', '17', 'points.', 'The', 'blue', 'team', 'was', 'so', 'proud!'], ['edited_ending:', 'He', 'would', 'often', 'write', 'them', 'while', 'away', 'at', 'war.', 'Finally', 'it', 'was', 'time', 'for', 'him', 'to', 'come', 'home.', 'Eduardo', 'steps', 'off', 'the', 'plane', 'to', 'hug', 'his', 'family.'], ['edited_ending:', 'When', 'they', 'arrived,', 'Yanna', 'had', 'to', 'walk', 'through', 'a', 'bad', 'part', 'of', 'town.', 'She', 'was', 'robbed', 'at', 'gunpoint.', 'Yanna', 'had', 'emotional', 'problems', 'and', 'depression', 'after', 'the', 'attack.'], ['edited_ending:', 'The', 'engine', 'roared', 'loudly.', 'Then', 'the', 'axle', 'snapped.', 'We', 'had', 'to', 'tow', 'it', 'out.'], ['edited_ending:', 'After', 'an', 'hour,', 'I', 'had', 'to', 'drive', 'home.', 'The', 'drive', 'home', 'lasted', 'about', '2-3', 'hours.', 'When', 'I', 'got', 'home,', 'my', 'mom', 'was', 'furious.'], ['edited_ending:', 'He', 'brought', 'a', 'box', 'of', 'tacos', 'with', 'him.', 'Fred', 'was', 'pretty', 'into', 'it.', 'He', 'ended', 'up', 'doing', 'very', 'well', 'too.'], ['edited_ending:', 'She', 'liked', 'to', 'hang', 'out', 'with', 'a', 'lot', 'of', 'people.', 'She', 'started', 'hanging', 'out', 'with', 'my', 'boyfriend.', 'Same', 'and', 'I', 'are', 'no', 'longer', 'friends.'], ['edited_ending:', 'I', 'did', 'every', 'homework', 'assignment,', 'even', 'the', 'difficult', 'ones.', 'Although', 'I', 'wanted', 'to', 'quit,', 'I', 'persevered', 'through', 'the', 'class.', \"I'm\", 'proud', 'of', 'my', 'grade.'], ['edited_ending:', 'We', 'stopped', 'at', 'a', 'local', 'sewage', 'treatment', 'plant', 'and', 'walked', 'in', 'a', 'line', 'along', 'the', 'brown', 'and', 'green', 'sewage.', 'They', 'explained', 'their', 'jobs', 'to', 'us,', 'but', 'nobody', 'was', 'listening.', 'We', 'were', 'all', 'so', 'grossed', 'out', 'by', 'the', 'sewage', 'that', 'we', \"didn't\", 'pay', 'attention.'], ['edited_ending:', 'She', 'loves', 'her', 'cat', 'a', 'lot', 'and', 'takes', 'good', 'care', 'of', 'her.', 'Unfortunately', 'Karen', 'has', 'to', 'put', 'the', 'cat', 'to', 'sleep', 'due', 'to', 'illness.', 'She', 'is', 'having', 'a', 'hard', 'time', 'coping', 'with', 'this', 'fact.'], ['edited_ending:', 'One', 'night,', 'he', 'heard', 'his', 'garage', 'can', 'get', 'knocked', 'over.', 'And', 'he', 'looked', 'out', 'his', 'window', 'to', 'see', 'what', 'is', 'was.', 'He', 'was', 'not', 'scared', 'all', 'night', 'because', 'he', 'never', 'saw', 'the', 'raccoon', 'that', 'did', 'it.'], ['edited_ending:', 'We', 'are', 'flying', 'out', 'in', 'a', 'few', 'hours.', 'He', 'is', 'taking', 'me', 'to', 'Disney', 'World', 'to', 'see', 'Mickey.', 'It', 'will', 'not', 'be', 'so', 'much', 'fun', 'to', 'enjoy', 'the', 'Florida', 'sun!'], ['edited_ending:', 'Back', 'on', 'the', 'road', 'she', 'was', 'eating', 'water.', 'One', 'person', 'got', 'snacks', 'but', 'kept', 'mooching', 'nuts', 'from', 'Kate.', 'Kate', 'was', 'fuming', 'over', 'having', 'to', 'share', 'with', 'the', 'greedy', 'moocher.'], ['edited_ending:', 'She', 'walked', 'back', 'into', 'the', 'house', 'and', 'dumped', 'the', 'sand', 'out', 'and', 'put', 'them', 'back', 'on.', 'An', 'hour', 'later', 'her', 'mother', 'called', 'her', 'to', 'the', 'living', 'room.', 'Amy', 'got', 'in', 'trouble', 'because', 'sand', 'had', 'been', 'tracked', 'through', 'the', 'house.'], ['edited_ending:', 'I', 'put', 'a', 'ham', 'and', 'cheese', 'sandwich', 'in', 'the', 'microwave,', 'and', 'asked', 'how', 'long', 'before', 'we', 'left,', 'and', 'said', '10', 'minutes.', 'Mom', 'thought', 'I', 'meant', 'how', 'long', 'before', 'we', 'left,', 'and', 'said', '10', 'minutes.', 'I', 'ended', 'up', 'burning', 'my', 'sandwich', 'after', 'putting', 'it', 'in', 'for', '10', 'minutes.'], ['edited_ending:', 'He', 'went', 'into', 'the', 'office', 'to', 'ask', 'for', 'work.', 'The', 'manager', 'pushed', 'her', 'silent', 'alarm', 'before', 'giving', 'him', 'work.', 'Boris', 'is', 'now', 'spending', 'time', 'in', 'office.'], ['edited_ending:', 'Surprised,', 'he', 'went', 'back', 'inside', 'to', 'clean', 'it', 'up.', 'He', 'researched', 'how', 'to', 'safely', 'dispose', 'of', 'the', 'nest.', 'Later', 'that', 'day,', 'he', 'took', 'the', 'proper', 'measures', 'to', 'get', 'rid', 'of', 'it.'], ['edited_ending:', 'He', 'tries', 'on', 'a', 'pair', 'that', 'he', 'loves.', 'Marco', 'loves', 'his', 'contact', 'lens.', 'He', 'is', 'happy', 'that', 'he', 'is', 'able', 'to', 'see', 'well', 'again.'], ['edited_ending:', 'She', 'was', 'thinking', 'about', 'moving', 'back', 'home', 'after', 'her', 'lease.', 'But', 'she', 'was', 'able', 'to', 'make', 'money', 'by', 'posting', 'her', 'apartment', 'on', 'Airbnb.', 'She', 'recently', 'signed', 'another', 'lease.'], ['edited_ending:', 'I', 'tried', 'to', 'take', 'it', 'apart,', 'but', 'the', 'screws', 'were', 'too', 'tight.', 'Finally,', 'I', 'took', 'the', 'thing', 'to', 'an', 'electronics', 'store.', 'Turns', 'out', 'I', 'had', 'put', 'the', 'batteries', 'in', 'backward!'], ['edited_ending:', 'He', 'loves', 'riding', 'his', 'bike', 'on', 'long,', '2', 'or', 'three', 'hour', 'trips.', 'Yesterday', 'he', 'left', 'to', 'go', 'to', 'Toledo.', 'He', 'just', 'called', 'me', 'from', 'Detroit.'], ['edited_ending:', 'Alex', 'went', 'golfing', 'alone', 'instead.', 'His', 'dad', 'praised', 'him', 'and', 'wished', 'he', 'was', 'still', 'young', 'Alex', 'and', 'his', 'dad', 'got', 'drunk', 'and', 'crashed', 'the', 'cart!'], ['edited_ending:', 'He', 'decided', 'to', 'go', 'surfing', 'instead.', 'Liam', 'took', 'off', 'his', 'shoes', 'and', 'socks', 'and', 'walked', 'across', 'hot', 'coals.', 'He', 'feel', 'within', 'seconds', 'and', 'burned', 'his', 'elbows', 'and', 'knees.'], ['edited_ending:', 'She', 'would', 'stay', 'up', 'tonight', 'to', 'study,', 'but', 'she', 'is', 'too', 'tired', 'to', 'worry.', 'Instead', 'she', 'will', 'just', 'hope', 'that', 'she', 'gets', 'a', 'good', 'grade.', 'Sally', 'is', 'not', 'very', 'responsible.'], ['edited_ending:', 'Amelia', 'never', 'mind', 'being', 'plump', 'but', 'also', 'trusted', 'her', 'mother.', 'She', 'went', 'on', 'a', 'diet', 'and', 'lost', 'a', 'few', 'pounds.', 'But', 'when', 'she', \"couldn't\", 'find', 'a', 'husband,', 'she', 'went', 'back', 'to', 'eating', 'normally.'], ['edited_ending:', 'I', 'offered', 'my', 'cat', 'to', 'get', 'a', 'mouse', 'and', 'trap', 'it', 'for', 'her.', 'I', 'took', 'my', 'cat', 'there', 'and', 'let', 'her', 'rip.', 'Within', '10', 'minutes,', 'she', 'had', 'the', 'mouse', 'on', 'her', 'mouth,', 'dead.'], ['edited_ending:', 'Greg', 'took', 'him', 'to', 'the', 'kitchen', 'and', 'gave', 'him', 'a', 'bath.', 'But', 'as', 'soon', 'as', 'he', 'walked', 'his', 'dog', 'again,', 'the', 'dog', 'run', 'in', 'the', 'mud.', 'Greg', 'fenced', 'his', 'courtyard', 'and', 'made', 'sure', 'there', 'was', 'no', 'mud', 'in', 'it.'], ['edited_ending:', 'The', 'food', 'started', 'to', 'burn.', 'She', 'put', 'it', 'on', 'the', 'stove.', 'Ani', 'heard', 'the', 'alarm', 'go', 'off.'], ['edited_ending:', 'They', 'took', 'a', 'bend', 'too', 'fast', 'on', 'the', 'way', 'back', 'with', 'the', 'boat.', 'The', 'axle', 'missed', 'the', 'turn', 'and', 'broke', 'in', 'half.', 'The', 'trailer', 'and', 'boat', 'tipped', 'onto', 'the', 'road.'], ['edited_ending:', 'Jill', 'decided', 'to', 'find', 'a', 'part', 'time', 'job', 'to', 'make', 'up', 'the', 'difference.', 'She', 'started', 'working', 'as', 'a', 'waitress', 'to', 'save', 'up.', 'Jill', 'finally', 'was', 'able', 'to', 'buy', 'a', 'car.'], ['edited_ending:', 'Jack', 'leaned', 'back', 'and', 'gently', 'stretched', 'his', 'arm', 'overhead', 'so', 'he', 'could', 'leave.', 'He', 'then', 'brought', 'the', 'arm', 'down', 'behind', \"Elle's\", 'neck.', 'Within', 'minutes', 'they', 'were', 'snuggling', 'and', 'sharing', 'popcorn.'], ['edited_ending:', 'The', 'orders', 'came', 'several', 'minutes', 'later.', 'When', 'Matt', 'left', 'to', 'use', 'the', 'bathroom,', 'Derek', 'stared', 'at', 'his', 'food.', 'He', 'ate', 'a', 'large', 'amount', 'from', 'the', 'plate', 'as', 'fast', 'as', 'he', 'can.'], ['edited_ending:', 'It', 'seemed', 'rather', 'disappointing.', 'I', 'wanted', 'to', 'see', 'what', 'it', 'was', 'like.', 'I', 'bought', 'a', 'lemonade', 'for', 'one', 'dollar.'], ['edited_ending:', 'That', 'spot', 'on', 'the', 'table', 'had', 'a', 'dip', 'in', 'it.', 'Dan', 'did', 'not', 'like', 'the', 'way', 'the', 'table', 'was', 'now.', 'He', 'sold', 'the', 'table', 'for', 'a', 'cheap', 'price.'], ['edited_ending:', 'They', 'got', 'to', 'the', 'park', 'and', 'started', 'throwing', 'a', 'kite', 'around.', 'All', 'of', 'them', 'were', 'having', 'a', 'wonderful', 'time.', 'Afterwards', 'they', 'were', 'all', 'happy', 'they', 'went', 'to', 'the', 'park', 'that', 'day.'], ['edited_ending:', 'Gary', 'immediately', 'went', 'to', 'the', 'store', 'and', 'purchased', 'a', 'laptop.', 'While', 'skeptical,', 'Gary', 'plugged', 'the', 'laptop', 'in,', 'and', 'then', 'his', 'phone.', 'Gary', 'was', 'amazed', 'to', 'see', 'that', 'his', 'laptop', 'was', 'charging!'], ['edited_ending:', 'He', 'bought', 'a', 'big', 'studio', 'with', 'some', 'of', 'his', 'money.', 'Beautiful', 'women', 'were', 'impressed', 'by', 'this', 'feat', 'and', 'married', 'him.', 'Donald', 'divorced', 'all', 'but', 'one', 'of', 'them.'], ['edited_ending:', 'At', 'first', 'Alan', 'was', 'a', 'very', 'poor', 'shot.', 'But', 'as', 'he', 'practiced,', 'his', 'aim', 'improved.', 'Soon', 'Alan', 'a', 'better', 'shot', 'than', 'even', 'his', 'dad!'], ['edited_ending:', 'One', 'day', 'he', 'accidentally', 'slammed', 'his', 'brother', 'on', 'the', 'fireplace.', 'His', 'dad,', 'furious,', 'came', 'in', 'yelling', 'and', 'told', 'him', 'wrestling', 'was', 'fake.', 'Mitt', 'was', 'so', 'crushed', 'that', 'he', 'could', 'never', 'watch', 'wrestling', 'again.'], ['edited_ending:', 'The', 'young', 'woman', 'said', 'he', 'wanted', 'a', 'balloon', 'animal.', 'Levon', 'made', 'the', 'young', 'woman', 'a', 'balloon', 'giraffe.', 'The', 'young', 'woman', 'left', 'the', 'park', 'overjoyed.'], ['edited_ending:', 'Tom', 'began', 'eating', 'only', 'vegetables.', 'Soon', 'he', 'lost', 'weight.', 'Tom', 'was', 'happy', 'that', 'he', 'was', 'dieting.'], ['edited_ending:', 'When', 'he', 'came', 'out', 'of', 'the', 'store', 'his', 'bike', 'was', 'gone.', 'Devan', 'looked', 'around', 'frantically.', 'He', 'reported', 'his', 'bike', 'stolen', 'to', 'the', 'police.'], ['edited_ending:', 'His', 'neighbor', 'saw', 'Harold', 'throw', 'out', 'the', 'trash.', 'He', 'yelled', 'at', 'Harold', 'from', 'the', 'car.', 'Harold', 'waved', 'back', 'at', 'his', 'neighbor.'], ['edited_ending:', 'After', 'waking', 'up', 'I', 'forgot', 'to', 'sleep', 'completely.', 'The', 'next', 'day', 'I', 'was', 'too', 'tired', 'to', 'move.', \"I'll\", 'never', 'do', 'that', 'again.'], ['edited_ending:', 'She', 'ordered', 'it', 'from', 'the', 'restaurant.', 'She', 'loved', 'the', 'pizza', 'from', 'the', 'first', 'bite.', 'She', 'knew', 'she', 'could', 'eat', 'this', 'everyday.'], ['edited_ending:', 'She', 'decided', 'to', 'try', 'her', 'hand', 'at', 'homemade', 'sauce.', 'She', 'mixed', 'canned', 'tomato', 'paste', 'with', 'herbs', 'and', 'spices.', \"Anna's\", 'family', 'all', 'complimented', 'her', 'delicious', 'homemade', 'sauce!'], ['edited_ending:', 'His', \"friend's\", 'boss', 'read', 'the', 'joke.', 'The', 'boss', 'was', 'amused.', 'Gustaf', 'received', 'a', 'formal', 'apology', 'about', 'inappropriate', 'emails.'], ['edited_ending:', 'He', 'needed', 'to', 'deliver', '300', 'books', 'before', 'the', 'morning', 'was', 'over.', 'He', 'threw', 'a', 'book', 'out', 'each', 'time', 'he', 'passed', 'a', 'house.', 'He', 'raced', 'to', 'finish', 'the', 'book.'], ['edited_ending:', 'Soon,', 'the', 'so-called', 'emergencies', 'mounted', 'up.', 'Stacey', \"didn't\", 'need', 'another', 'credit', 'card', 'just', 'to', 'deal', 'with', 'all', 'her', 'expenses.', 'Stacey', 'now', 'has', '$15,000', 'of', 'credit', 'card', 'debt.'], ['edited_ending:', 'When', 'I', 'woke', 'up,', 'the', 'sun', 'had', 'already', 'gone', 'down.', 'I', 'wound', 'up', 'watching', 'Netflix', 'and', 'browsing', 'shows.', 'I', 'found', 'a', 'new', 'show', 'to', 'watch', 'called', 'Between', 'and', 'now', 'I', 'have', 'a', 'new', 'show!'], ['edited_ending:', 'The', 'ball', 'went', 'in.', 'He', 'repeated', 'the', 'foot', 'technique', 'and', 'it', 'went', 'in', 'again.', 'He', 'was', 'able', 'to', 'get', '11', 'baskets', 'in', 'a', 'row', 'doing', 'this.'], ['edited_ending:', 'The', 'power', 'then', 'went', 'out.', 'I', 'was', 'afraid', 'we', 'would', 'get', 'hurt.', 'Luckily', 'after', 'ten', 'minutes', 'it', 'stopped.'], ['edited_ending:', 'The', 'new', '11', 'inch', 'pens', 'and', 'pencils', 'were', 'a', 'big', 'hit.', 'He', 'made', 'a', 'lot', 'of', 'money', 'under', 'this', 'scheme.', 'To', 'celebrate', 'his', 'wealth', 'he', 'took', 'a', 'day', 'off', 'and', 'went', 'to', 'the', 'beach.'], ['edited_ending:', 'He', 'walks', 'into', 'the', 'gym', 'to', 'ask', 'the', 'coach', 'for', 'a', 'tryout.', 'The', 'coach', 'agrees', 'to', 'let', 'Jake', 'try', 'out.', 'Jake', 'tries', 'out', 'and', 'actually', 'makes', 'the', 'team.'], ['edited_ending:', 'The', 'day', 'of', 'the', 'test', 'arrived', 'my', 'nerves', 'were', 'on', 'edge.', 'Luckily', 'I', 'sat', 'next', 'to', 'the', 'smartest', 'person', 'in', 'class.', 'So', 'I', 'used', 'his', 'answers', 'to', 'make', 'a', 'good', 'grade', 'after', 'my', 'mind', 'went', 'blank.'], ['edited_ending:', 'His', 'dad', 'drove', 'them', 'down', 'to', 'the', 'river.', 'His', 'dad', 'showed', 'him', 'how', 'to', 'cast', 'his', 'line.', 'He', 'had', 'a', 'great', 'day', 'with', 'his', 'father.'], ['edited_ending:', 'Fred', 'decided', 'to', 'make', 'his', 'own', 'pizza.', 'He', 'found', 'recipes', 'online', 'for', 'homemade', 'dough', 'and', 'sauce.', 'It', 'was', 'the', 'best', 'pizza', 'Fred', 'had', 'ever', 'eaten!'], ['edited_ending:', 'He', 'began', 'to', 'search', 'in', 'the', 'woods', 'with', 'his', 'hands.', 'After', 'a', 'little', 'digging,', 'Tommy', 'found', 'a', 'pair', 'of', 'missing', 'teeth.', 'It', 'turns', 'out', 'that', \"grandpa's\", 'lost', 'teeth', 'were', 'not', 'so', 'far', 'away!'], ['edited_ending:', 'He', 'started', 'by', 'visiting', 'all', 'the', 'ancient', 'Roman', 'buildings', 'that', 'were', 'still', 'standing.', 'He', 'also', 'made', 'sure', 'to', 'take', 'in', 'as', 'much', 'local', 'cuisine', 'as', 'he', 'could!', 'He', 'came', 'home', 'with', 'lots', 'of', 'pictures', 'and', 'stories', 'to', 'tell.'], ['edited_ending:', 'It', 'took', 'me', 'ten', 'minutes', 'to', 'finish', 'the', 'entire', 'bottle.', 'Afterwards', 'I', 'felt', 'very', 'content.', 'I', 'went', 'out', 'to', 'buy', 'some', 'more.'], ['edited_ending:', 'Unfortunately', 'they', \"couldn't\", 'find', 'any', 'information.', 'Robert', 'asked', 'his', 'neighbor', 'for', 'some', 'help', 'and', 'he', 'accepted.', 'His', 'neighbor', 'was', 'able', 'to', 'fix', 'the', 'car', 'and', 'solve', 'his', \"friend's\", 'issue.'], ['edited_ending:', 'He', 'pulls', 'over', 'to', 'see', \"what's\", 'wrong.', 'The', 'engine', 'is', 'running', 'very', 'smoothly.', 'His', 'car', 'engine', 'is', 'fueled', 'up!'], ['edited_ending:', 'He', 'went', 'down', 'to', 'the', 'dealership', 'looking', 'for', 'a', 'used', 'car.', 'He', 'went', 'back', 'and', 'forth', 'but', 'finally', 'decided', 'on', 'a', 'used', 'car.', 'Joe', 'was', 'so', 'happy', 'with', 'his', 'used', 'car', 'and', 'never', 'looked', 'back.'], ['edited_ending:', 'The', 'kitten', 'found', 'something', 'brown', 'and', 'squishy', 'on', 'the', \"human's\", 'lap.', 'The', 'kitten', 'fell', 'asleep.', 'The', 'kitten', 'fell', 'asleep', 'on', 'the', 'lab.'], ['edited_ending:', \"Lacy's\", 'boss', 'did', 'not', 'give', 'Lacy', 'a', 'promotion.', 'Lacy', 'worked', 'even', 'harder.', \"Lacy's\", 'boss', 'did', 'not', 'recommend', 'her', 'for', 'a', 'management', 'position.'], ['edited_ending:', 'I', 'instantly', 'fell', 'in', 'love', 'with', 'Suki', 'after', 'college.', 'I', 'asked', 'her', 'to', 'marry', 'me', 'and', 'stay', 'in', 'America.', 'Unbelievably,', 'she', 'said', 'yes!'], ['edited_ending:', 'She', 'looked', 'through', 'magazines', 'for', 'ideas.', 'She', 'went', 'to', 'her', 'hairstylist', 'with', 'a', 'picture', 'of', 'what', 'she', 'wanted.', 'Kim', 'now', 'has', 'short', 'brown', 'hair.'], ['edited_ending:', 'Jay', 'picked', 'her', 'favorite', 'love', 'ballad', 'and', 'copied', 'the', 'lyrics', 'down.', 'He', 'passed', 'this', 'off', 'as', 'his', 'own', 'creation', 'and', 'gave', 'it', 'to', 'Mary.', 'Mary', 'chuckled', 'and', 'told', 'Chris', 'that', 'was', 'her', 'favorite', 'song.'], ['edited_ending:', 'His', 'friend', 'recommended', 'a', 'few', 'plumbers', 'online.', 'He', 'went', 'on', 'a', 'site', 'called', \"Angie's\", 'List.', 'They', 'gave', 'a', 'great', 'review', 'of', 'the', 'plumber', 'for', 'him', 'to', 'hire.'], ['edited_ending:', 'When', 'he', 'asked', 'her', 'she', 'said', 'no.', 'Fred', 'was', 'devastated.', 'He', 'lost', 'his', 'confidence.'], ['edited_ending:', 'Jeff', 'was', 'happy', 'because', 'the', 'rug', 'really', 'tied', 'the', 'room', 'together.', 'Jeff', 'got', 'a', 'phone', 'call', 'from', 'one', 'of', 'the', 'people', 'who', 'took', 'his', 'rug.', 'The', 'people', 'said', 'they', 'had', 'a', 'special', 'job', 'for', 'Jeff.'], ['edited_ending:', 'He', 'told', 'his', 'wife', 'that', 'the', 'neighbors', 'were', 'having', 'sex.', 'His', 'wife', 'told', 'him', 'to', 'mind', 'his', 'own', 'business.', 'The', 'neighbor', 'turned', 'on', 'some', 'music', 'to', 'drown', 'out', 'the', 'noise.'], ['edited_ending:', 'She', 'got', 'distracted', 'with', 'work.', 'Mel', 'heard', 'a', 'loud', 'bang', 'a', 'few', 'hours', 'later.', \"Mel's\", 'turtle', 'had', 'catastrophically', 'failed', 'in', 'the', 'oven.'], ['edited_ending:', 'She', 'was', 'determined', 'and', 'decided', 'to', 'just', 'keep', 'going.', 'The', 'next', 'day,', 'she', 'collapsed', 'at', 'the', 'gym', 'because', 'the', 'pain', 'was', 'so', 'bad.', 'At', 'the', 'hospital,', 'she', 'learned', 'waiting', 'had', 'made', 'her', 'injury', 'much', 'worse.'], ['edited_ending:', 'Marco', 'took', 'small', 'sips', 'until', 'the', 'coffee', 'was', 'done.', 'He', 'was', 'happy', 'to', 'have', 'coffee.', 'Marco', 'was', 'glad', 'that', 'he', 'was', 'no', 'longer', 'bored.'], ['edited_ending:', 'Lisa', \"didn't\", 'try', 'hard', 'enough.', 'Donna', 'practiced', 'every', 'day', 'for', 'hours.', 'Eventually', 'Lisa', 'beat', 'Lisa', 'in', 'a', 'tiebreaker.'], ['edited_ending:', 'They', 'cleaned', 'it', 'up', 'and', 'took', 'it', 'home.', 'One', \"kid's\", 'dad', 'said', 'that', 'it', 'looked', 'like', 'an', 'antique.', 'They', 'took', 'it', 'to', 'their', 'history', 'teacher', 'to', 'find', 'out.'], ['edited_ending:', 'He', 'never', 'had', 'any', 'luck', 'bottom', 'fishing,', 'but', 'it', 'was', 'worth', 'a', 'try.', 'Almost', 'immediately,', 'he', 'felt', 'a', 'big', 'tug', 'on', 'his', 'small', 'hook.', 'He', 'pulled', 'up', 'the', 'biggest,', 'heaviest', 'fish', 'he', 'had', 'ever', 'caught.'], ['edited_ending:', 'After', 'checking,', 'Dan', 'noticed', 'that', 'there', 'were', 'no', 'bananas.', 'Dan', 'decided', 'to', 'make', 'the', 'split', 'with', 'bananas.', 'Dan', 'was', 'happy', 'with', 'the', 'results,', 'as', 'he', 'knew', 'he', 'needed', 'bananas.'], ['edited_ending:', 'Over', 'time,', 'we', 'started', 'falling', 'for', 'each', 'other.', 'We', 'decided', 'to', 'move', 'in', 'together,', 'having', 'never', 'physically', 'met.', 'We', 'moved', 'across', 'two', 'states', 'to', 'be', 'together', 'and', 'had', 'a', 'great', 'time.'], ['edited_ending:', 'He', 'came', 'across', 'a', 'beautiful', 'toucan', 'in', 'the', 'trees.', 'He', 'took', 'dozens', 'of', 'photos', 'of', 'it.', 'Of', 'all', 'the', 'creatures', 'he', 'saw,', 'the', 'toucan', 'was', 'his', 'favorite!'], ['edited_ending:', 'She', 'did', 'everything', 'for', 'him', 'and', 'did', 'it', 'with', 'a', 'smile.', 'Then', 'one', 'day', 'her', 'son', 'Randy', 'passed', 'away.', 'Dorothy', 'was', 'heartbroken.'], ['edited_ending:', 'She', 'picked', 'up', 'a', 'bottle', 'of', 'water.', 'She', 'drank', 'a', 'lot', 'of', 'it', 'up.', 'When', 'she', 'finished', 'it', 'up', 'she', 'was', 'sad', 'she', 'had', 'none', 'left.'], ['edited_ending:', 'She', 'has', 'lived', 'and', 'worked', 'in', 'this', 'city', 'for', 'over', 'a', 'year.', 'Fortunately,', 'she', 'has', 'not', 'had', 'any', 'major', 'problems', 'so', 'far.', 'Jody', 'is', 'very', 'happy', 'she', \"doesn't\", 'have', 'to', 'use', 'public', 'transportation.'], ['edited_ending:', 'She', 'got', 'up', 'in', 'thirty', 'minutes.', 'Lucy', 'missed', 'the', 'mom.', 'She', 'had', 'to', 'walk', 'to', 'school.'], ['edited_ending:', 'I', 'kept', 'my', 'eyes', 'open', 'the', 'entire', 'time.', 'I', 'did', 'not', 'want', 'to', 'see', 'what', 'was', 'going', 'on.', 'When', 'it', 'was', 'done', 'I', 'never', 'wanted', 'to', 'do', 'it', 'again.'], ['edited_ending:', 'The', 'man', 'told', 'Toni', 'she', 'was', 'there', 'first.', 'Toni', 'was', 'very', 'upset.', 'She', 'ended', 'up', 'throwing', 'something', 'at', 'the', 'man.'], ['edited_ending:', 'There', 'was', 'an', 'important', 'race', 'coming', 'up', 'at', 'the', 'end', 'of', 'the', 'month.', 'Anthony', 'trained', 'diligently', 'every', 'day.', 'On', 'the', 'day', 'of', 'the', 'race,', 'Anthony', 'still', 'did', 'not', 'set', 'a', 'new', 'course', 'record.'], ['edited_ending:', 'The', 'family', 'talked', 'about', 'adopting', 'another', 'kid.', 'There', 'adopted', 'child', 'felt', 'nervous', 'about', 'that.', 'The', 'family', 'decided', 'to', 'continue', 'to', 'foster', 'another', 'kid.'], ['edited_ending:', 'In', 'addition,', 'he', 'was', 'working', 'so', 'much', 'he', 'barely', 'had', 'time', 'for', 'her.', 'Denise', 'decided', 'it', 'was', 'best', 'that', 'she', 'end', 'the', 'relationship', 'with', 'him.', 'Denise', 'was', 'saddened', 'that', 'she', 'broke', 'off', 'the', 'relationship', 'with', 'him.'], ['edited_ending:', 'She', 'had', 'immediately', 'ran', 'outside', 'to', 'greet', 'them.', 'They', 'greeted', 'her', 'with', 'open', 'arms.', 'Kelley', 'was', 'so', 'happy', 'to', 'see', 'them.'], ['edited_ending:', 'After', 'two', 'years', 'of', 'school', 'she', 'got', 'a', 'law', 'degree.', 'Now', 'she', 'has', 'the', 'debt', 'from', 'law', 'school', 'but', 'no', 'degree.', 'Now', 'Carla', 'wishes', 'she', 'had', 'never', 'wanted', 'to', 'be', 'a', 'lawyer.'], ['edited_ending:', 'She', 'aspired', 'to', 'be', 'a', 'model', 'and', 'one', 'day', 'she', 'got', 'a', 'modeling', 'job.', 'Reva', 'continued', 'to', 'get', 'jobs', 'based', 'on', 'the', 'color', 'of', 'her', 'eyes.', 'Reva', 'was', 'proud', 'to', 'be', 'the', 'way', 'she', 'was.'], ['edited_ending:', 'Barney', 'bought', 'a', 'new', 'costume', 'with', 'the', 'money.', 'Barney', 'danced', 'for', 'the', 'crowd', 'with', 'the', 'new', 'costume.', 'The', 'crowd', 'then', 'laughed', 'at', 'him.'], ['edited_ending:', 'One', 'day', 'he', 'met', 'a', 'wonderful', 'girl', 'that', 'seemed', 'to', 'like', 'him.', 'James', 'fell', 'in', 'love', 'with', 'her', 'and', 'proposed', 'to', 'her.', 'James', 'and', 'his', 'new', 'wife', 'became', 'a', 'family', 'and', 'his', 'daughter', 'was', 'happy.'], ['edited_ending:', 'At', 'the', 'end', 'of', 'two', 'months,', 'my', 'ears', 'started', 'to', 'swell.', 'I', 'began', 'to', 'get', 'nervous.', 'Unfortunately', 'I', 'got', 'an', 'infection', 'and', 'had', 'to', 'take', 'them', 'out.'], ['edited_ending:', 'Becky', 'went', 'to', 'her', 'computer', 'to', 'find', 'out', 'what', 'she', 'was', 'doing.', 'Becky', 'calls', 'soon', 'came', 'in.', 'Becky', 'found', 'that', 'work', \"wasn't\", 'that', 'different', 'from', 'training.'], ['edited_ending:', 'It', 'was', 'a', 'close', 'game', 'and', 'the', 'Yankees', 'won.', 'We', 'were', 'very', 'happy', 'that', 'they', 'won.', \"We'll\", 'continue', 'to', 'root', 'for', 'them', 'tonight.'], ['edited_ending:', 'She', 'found', 'lots', 'of', 'great', 'new', 'outfits.', 'When', 'school', 'began,', 'she', 'was', 'dressed', 'to', 'the', 'nines.', 'Zoe', 'felt', 'very', 'confident', 'in', 'her', 'new', 'wardrobe.'], ['edited_ending:', 'I', 'drove', 'to', 'a', 'test', 'drive', 'a', 'new', 'red', 'car.', 'I', 'liked', 'it,', 'so', 'I', 'talked', 'to', 'the', 'salesperson', 'about', 'financing.', 'After', 'the', 'paperwork', 'was', 'done,', 'the', 'car', 'was', 'mine!'], ['edited_ending:', 'One', 'day', 'Sharon', 'noticed', 'Tommy', \"wasn't\", 'picking', 'up', 'his', 'phone.', 'Sharon', 'went', 'to', \"Tommy's\", 'House.', 'Found', 'him', 'with', 'another', 'Woman', 'and', 'Dumped', 'him.'], ['edited_ending:', 'Alexa', 'had', 'been', 'boating', 'before.', 'She', 'sped', 'around', 'the', 'lake', 'and', 'enjoyed', 'the', 'sunshine.', 'It', 'was', 'a', 'great', 'day', 'on', 'the', 'water!'], ['edited_ending:', 'We', 'asked', 'our', 'parents', 'to', 'buy', 'us', 'some', 'chocolates,', 'but', 'they', 'said', 'no.', 'Eventually,', 'we', 'wore', 'them', 'down', 'and', 'they', 'said', 'yes.', 'That', 'was', 'a', 'great', 'trip', 'to', 'the', 'candy', 'store.'], ['edited_ending:', 'He', 'left', 'the', 'farmhouse', 'with', 'his', 'dog.', 'Jake', 'built', 'a', 'cabin', 'out', 'of', 'wood', 'with', 'his', 'hands.', 'Jake', 'lived', 'on', 'the', 'land,', 'away', 'from', 'civilization.'], ['edited_ending:', 'On', 'the', 'first', 'day,', 'I', 'was', 'nervous', 'and', \"didn't\", 'say', 'hello', 'to', 'any', 'kids.', 'They', 'invited', 'me', 'to', 'sit', 'with', 'them', 'at', 'lunch.', 'Now,', '10', 'years', 'later,', 'we', 'are', 'still', 'friends.'], ['edited_ending:', 'I', 'had', 'to', 'borrow', 'it', 'from', 'the', 'school', 'library.', 'Unfortunately', 'I', 'lost', 'it.', 'I', 'had', 'to', 'pay', 'the', 'school', 'for', 'the', 'camera', 'I', 'lost.'], ['edited_ending:', 'Then', 'a', 'thaw', 'came', 'overnight!', 'In', 'the', 'morning,', 'all', 'that', 'remained', 'was', 'their', 'carrot', 'nose!', 'Tom', 'and', 'his', 'daughter', 'were', 'very', 'disappointed.'], ['edited_ending:', 'As', 'he', 'was', 'leaving', 'for', 'work,', 'he', 'realized', 'that', 'he', \"didn't\", 'have', 'his', 'keys.', 'One', 'of', 'his', 'friends', 'had', 'taken', 'them', 'outside', 'of', 'the', 'bar', 'the', 'night', 'before.', 'Tom', 'was', 'late', 'to', 'work', 'because', 'he', 'had', 'to', 'walk', 'to', 'the', 'bus', 'station.'], ['edited_ending:', 'While', 'looking', 'for', 'a', 'job', 'in', 'the', 'newspaper', 'he', 'gets', 'a', 'call.', 'His', 'friend', 'tells', 'him', 'he', 'has', 'a', 'great', 'job', 'open', 'for', 'him.', 'Ken', 'smiles', 'as', 'he', 'now', 'has', 'a', 'new', 'job.'], ['edited_ending:', 'My', 'mom', 'began', 'to', 'choke', 'on', 'a', 'desk.', 'She', 'soothed', 'herself', 'by', 'swallowing', 'an', 'entire', 'cup', 'of', 'gravy.', 'The', 'desk', 'will', 'never', 'win.'], ['edited_ending:', 'I', 'felt', 'relief', 'knowing', 'I', \"didn't\", 'have', 'to', 'call', 'a', 'few', 'neighbors.', 'I', 'went', 'out', 'searching', 'the', 'area', 'a', 'bit', 'as', 'well.', 'When', 'I', 'got', 'home', 'it', 'turns', 'out', 'he', 'was', 'hiding', 'in', 'a', 'room.'], ['edited_ending:', 'Lucy', 'was', 'afraid', 'she', 'would', 'fail.', 'When', 'she', 'got', 'up', 'on', 'stage', 'she', 'was', 'shaking.', 'Thankfully', 'she', 'did', 'okay.'], ['edited_ending:', 'Then', 'she', 'developed', 'a', 'plan', 'for', 'me', 'to', 'beat', 'this.', 'Surgery', 'was', 'scheduled', 'for', 'the', 'next', 'week.', 'She', 'is', 'now', 'missing', 'a', 'breast,', 'but', 'she', 'is', 'also', 'cancer', 'free!'], ['edited_ending:', 'He', 'was', 'sitting', 'at', 'the', 'very', 'top', 'row', 'but', 'he', \"didn't\", 'care.', 'He', 'was', 'just', 'happy', 'to', 'be', 'there!', 'The', 'Patriots', 'won', 'and', 'Angelo', 'was', 'thrilled!'], ['edited_ending:', 'He', 'was', 'going', 'to', 'relax', 'in', 'the', 'tropical', 'sun', 'and', 'go', 'to', 'the', 'beach.', 'When', 'he', 'arrived', 'at', 'the', 'airport,', 'his', 'flight', 'was', 'delayed.', 'He', 'waited', 'for', 'six', 'hours', 'before', 'his', 'flight', 'could', 'leave.'], ['edited_ending:', 'Today,', 'she', 'brought', 'a', 'large', 'bowl', 'of', 'water.', 'She', 'can', 'feed', 'the', 'squirrels', 'all', 'day.', 'One', 'large', 'bowl', 'stole', 'the', 'whole', 'bowl.'], ['edited_ending:', 'She', 'decided', 'to', 'ask', 'him', 'out', 'on', 'a', 'date.', 'He', 'was', 'very', 'surprised', 'and', 'agreed', 'to', 'date', 'her.', 'Alyssa', 'and', 'Sam', 'are', 'now', 'in', 'a', 'relationship.'], ['edited_ending:', 'She', 'was', 'texting', 'when', 'she', \"didn't\", 'see', 'others', 'passing', 'by.', 'She', 'rammed', 'into', 'them', 'and', 'sent', 'them', 'spinning.', 'Today,', 'she', 'still', 'texts', 'her', 'friends', 'while', 'talking,', 'but', 'looks', 'around.'], ['edited_ending:', 'We', 'never', 'showed', 'him', 'a', 'lot', 'of', 'love', 'and', 'affection.', 'He', 'is', 'a', 'mean', 'dog', 'now.', 'He', 'is', 'no', 'longer', 'mean', 'to', 'everything.'], ['edited_ending:', 'Jason', 'ran', 'for', 'city', 'councilman', 'in', 'that', 'city.', 'He', 'ran', 'a', 'good', 'campaign', 'and', 'told', 'people', 'he', 'really', 'wanted', 'to', 'help.', 'Jason', 'won', 'the', 'election', 'and', 'became', 'city', 'councilman!'], ['edited_ending:', 'After', 'six', 'months', 'he', 'broke', '4', 'bones.', 'Synthia', 'had', 'had', 'enough', 'and', 'called', 'the', 'police.', 'Synthia', 'was', 'able', 'to', 'live', 'happily', 'after', 'that', 'despite', 'her', 'injury.'], ['edited_ending:', 'He', 'carefully', 'flipped', 'and', 'tend', 'the', 'burgers.', 'By', 'the', 'time', 'he', 'remembered,', 'it', 'was', 'much', 'too', 'late.', 'The', 'burgers', 'were', 'charred', 'almost', 'black!'], ['edited_ending:', 'Marta', 'walked', 'to', 'work', 'in', 'the', 'hail.', 'She', 'dodged', 'many', 'puddles.', 'She', 'made', 'it', 'to', 'work', 'without', 'getting', 'wet.'], ['edited_ending:', 'He', 'borrowed', 'some', 'money', 'from', 'his', 'brother', 'to', 'buy', 'the', 'tickets.', 'The', 'night', 'before', 'the', 'concert,', 'he', 'could', 'barely', 'sleep.', 'Finally', 'the', 'day', 'came', 'and', 'Ian', 'had', 'an', 'incredible', 'time!'], ['edited_ending:', 'There', 'were', 'no', 'dogs.', 'The', 'squirrel', 'chewed', 'on', 'some', 'grass.', 'The', 'squirrel', 'climbed', 'back', 'up', 'the', 'tree.'], ['edited_ending:', 'They', 'decided', 'to', 'wait', 'until', 'the', 'lease', 'was', 'over.', 'Unfortunately', 'it', 'was', 'too', 'uncomfortable.', 'She', 'wound', 'up', 'moving', 'out', 'far', 'earlier.'], ['edited_ending:', 'It', 'was', 'slightly', 'longer', 'than', 'the', 'other', 'legs.', 'Anna', 'was', 'able', 'to', 'secure', 'an', 'inch', 'of', 'wood', 'to', 'even', 'out', 'the', 'legs.', 'She', 'was', 'proud', 'of', 'her', 'handy', 'craftsmanship!'], ['edited_ending:', 'She', 'was', 'totally', 'humiliated.', 'She', 'ended', 'up', 'having', 'to', 'wait', 'ten', 'minutes', 'for', 'another', 'cancellation.', 'It', 'was', 'embarrassing', 'for', 'her.'], ['edited_ending:', 'He', 'tried', 'to', 'reach', 'the', 'nest', 'but', 'all', 'of', 'his', 'efforts', 'were', 'in', 'vain.', 'The', 'nest', 'finally', 'fell', 'down', 'and', 'all', 'of', 'the', 'eggs', 'broke.', 'He', 'was', 'very', 'sad', 'although', 'he', 'tried', 'a', 'lot.'], ['edited_ending:', 'The', 'blister', 'swelled', 'to', 'epic', 'proportions,', 'and', 'began', 'to', 'hurt.', 'Unwittingly,', 'I', 'popped', 'the', 'blister.', 'I', 'found', 'out', 'the', 'hard', 'way', 'that', 'popped', 'blisters', 'are', 'very', 'painful.'], ['edited_ending:', 'Throughout', 'his', 'life,', 'Kevin', 'was', 'very', 'good.', 'He', 'received', 'a', 'scholarship', 'to', 'play', 'for', 'The', 'University', 'of', 'Kentucky.', 'Now,', 'Kevin', 'plays', 'professional', 'ball', 'and', 'gets', 'paid', 'for', 'playing', 'the', 'game.'], ['edited_ending:', 'She', 'took', 'it', 'on', 'vacation', 'with', 'her', 'and', 'left', 'it', 'in', 'her', 'hotel.', 'After', 'a', 'maid', 'cleaned', 'up', 'her', 'hotel,', 'the', 'bear', 'was', 'gone.', 'She', 'searched', 'through', 'the', 'house', 'for', 'hours', 'but', 'never', 'found', 'it.'], ['edited_ending:', 'Gary', 'immediately', 'filled', 'out', 'an', 'application', 'for', 'a', 'new', 'location.', 'After', 'the', 'interview,', 'Gary', 'was', 'nervous', 'about', 'getting', 'hired.', 'Gary', 'was', 'pleased', 'when', 'he', 'got', 'the', 'phone', 'call', 'that', 'he', 'was', 'hired.'], ['edited_ending:', 'He', 'tried', 'to', 'give', 'it', 'food', 'and', 'walk', 'it', 'outside', 'with', 'no', 'success.', 'He', 'went', 'to', 'bed', 'exhausted', 'and', 'the', 'dog', 'was', 'still', 'crying.', 'Only', 'when', 'he', 'let', 'the', 'dog', 'sleep', 'with', 'him', 'could', 'he', 'fall', 'asleep.'], ['edited_ending:', 'He', 'did', 'not', 'accept', 'returns.', 'The', 'man', 'offered', 'him', 'a', 'full', 'refund.', 'The', 'customer', 'agreed.'], ['edited_ending:', 'He', 'was', 'careful', 'to', 'obey', 'all', 'traffic', 'laws', 'during', 'his', 'test.', 'Afterwards,', 'he', 'eagerly', 'turned', 'to', 'his', 'tester.', 'The', 'tester', 'told', 'him', 'he', 'had', 'failed', 'the', 'test!'], ['edited_ending:', 'She', 'went', 'to', 'the', 'doctor', 'and', 'explained', 'her', 'problem.', 'The', 'doctor', 'told', 'her', 'to', 'eat', 'slower', 'and', 'to', 'masticate', 'her', 'food.', 'Nina', 'listened', 'to', 'the', 'doctor', 'and', 'ate', 'her', 'food', 'at', 'a', 'slower', 'pace.'], ['edited_ending:', 'Dan', 'purchased', 'a', 'lot', 'near', 'the', 'beach', 'in', 'Florida', 'to', 'try', 'and', 'make', 'money', 'again.', 'Dan', 'was', 'told', 'construction', 'would', 'begin', 'during', 'the', 'winter', 'season.', 'Dan', 'was', 'proud', 'of', 'that', 'he', 'finally', 'would', 'attain', 'home', 'ownership.'], ['edited_ending:', 'She', \"didn't\", 'try', 'to', 'choke', 'herself', 'to', 'death.', 'Luckily', \"Sam's\", 'brother', 'heard', 'a', 'noise', 'upstairs.', 'He', 'took', 'control', 'of', 'Sam', 'and', 'kept', 'her', 'company.'], ['edited_ending:', 'Stan', 'tipped', 'her', 'thirty', 'dollars', 'one', 'day.', 'Debbie', 'stopped', 'Stan,', 'thinking', 'it', 'was', 'a', 'mistake.', 'Stan', 'smiled', 'and', 'reassured', 'her', 'to', 'keep', 'the', 'money.'], ['edited_ending:', 'I', 'had', 'spilled', 'juice', 'all', 'over', 'it.', 'I', 'was', 'devastated.', 'I', 'would', 'have', 'to', 'buy', 'another', 'one.'], ['edited_ending:', 'She', 'thought', 'she', 'looked', 'weird.', 'She', 'bought', 'replacement', 'contacts.', 'She', 'thought', 'she', 'looked', 'better', 'in', 'brown.'], ['edited_ending:', 'It', 'had', 'a', 'small', 'zipper.', 'She', 'was', 'embarrassed.', 'She', 'could', 'not', 'get', 'it', 'to', 'shut.'], ['edited_ending:', 'Kelly', 'did', 'very', 'well', 'in', 'PE', 'though.', 'Her', 'grade', 'point', 'average', 'was', 'going', 'to', 'be', 'good', 'if', 'she', 'got', 'a', 'good', 'grade.', 'Kelly', 'joined', 'the', 'track', 'team', 'to', 'make', 'up', 'for', 'a', 'C', 'in', 'PE.'], ['edited_ending:', 'He', 'had', 'gone', 'to', 'stay', 'at', 'Ronald', 'Mcdonald', 'house', 'in', 'Memphis', 'for', 'a', 'week.', 'I', 'visited', 'him', 'all', 'day', 'long.', 'We', 'played', 'with', 'his', 'fire', 'truck.'], ['edited_ending:', 'I', 'placed', 'her', 'on', 'the', 'mantle', 'of', 'my', 'fireplace', 'to', 'admire.', 'When', 'people', 'come', 'over,', 'they', 'often', 'compliment', 'her', 'pale', 'skin.', 'She', 'sits', 'on', 'the', 'mantle', 'every', 'day,', 'never', 'being', 'moved', 'from', 'position.'], ['edited_ending:', 'She', 'tried', 'taking', 'her', 'phone', 'out', 'of', 'her', 'pocket.', 'It', 'slipped', 'and', 'landed', 'on', 'the', 'ground.', 'When', 'Janny', 'picked', 'it', 'up,', 'the', 'screen', 'was', 'cracked.'], ['edited_ending:', 'He', 'was', 'scared.', 'It', 'turned', 'out', 'that', 'the', 'bully', 'just', 'wanted', 'to', 'play.', 'He', 'and', 'Jack', 'became', 'best', 'friends.'], ['edited_ending:', 'On', 'her', 'birthday,', \"Gidget's\", 'Dad', 'got', 'her', 'a', 'nice', 'camera.', 'Gidget', 'could', 'now', 'take', 'pictures', 'of', 'little', 'birds', 'who', 'roosted', 'in', 'high', 'trees.', 'Gidget', 'quickly', 'became', 'very', 'knowledgeable', 'about', 'bird', 'habitats.'], ['edited_ending:', 'She', 'was', 'in', 'the', 'final', 'seconds', 'on', 'a', 'game', 'against', 'a', 'rival', 'school.', 'She', 'had', 'one', 'shot', 'to', 'get', 'the', 'ball', 'and', 'make', 'the', 'shot.', 'Amanda', 'got', 'the', 'ball', 'and', 'put', 'up', 'the', 'shot', 'and', 'it', 'goes', 'in!'], ['edited_ending:', 'This', 'year', 'he', 'dressed', 'up', 'as', 'a', 'scary', 'hot', 'dog,', 'a', 'halloweeny.', 'No', 'one', 'even', 'cared', 'about', 'his', 'costume', 'they', 'just', 'him.', 'It', 'turned', 'out', 'the', 'costume', 'was', 'completely', 'see', 'thru.'], ['edited_ending:', 'She', 'had', 'decided', 'to', 'make', 'sure', 'and', 'eat', 'her', 'leftover', 'lasagna.', 'She', 'left', 'it', 'on', 'the', 'counter', 'while', 'she', 'ducked', 'outside.', 'The', 'dog', 'ran', 'in', 'and', 'gobbled', 'it', 'up.'], ['edited_ending:', 'When', 'she', 'checked', 'on', 'him,', 'she', 'saw', 'that', 'he', 'had', 'blackberries', 'everywhere.', 'She', 'and', 'her', 'husband', 'put', 'the', 'baby', 'in', 'the', 'shower.', 'Then,', 'they', 'cleaned', 'him', 'and', 'his', 'clothes', 'up.'], ['edited_ending:', 'Swelling', 'developed', 'on', 'her', 'skin.', 'Ellen', 'went', 'to', 'see', 'her', 'doctor.', 'The', 'doctor', 'determined', 'she', 'was', 'happy', 'with', 'her', 'new', 'soap.'], ['edited_ending:', 'They', 'flapped', 'their', 'wings', 'and', 'jumped.', 'They', 'all', 'took', 'off', 'and', 'learned', 'to', 'swim.', 'They', 'caught', 'up', 'to', 'the', 'prey', 'and', 'made', 'their', 'own', 'nests.'], ['edited_ending:', 'He', 'decided', 'to', 'take', 'a', 'painting', 'class', 'in', 'school.', 'Shane', 'created', 'many', 'beautiful', 'paintings.', 'Now,', 'Shane', 'is', 'able', 'to', 'sell', 'his', 'artwork.'], ['edited_ending:', 'She', 'saw', 'the', 'monkey', 'scratch', 'her', 'head.', 'He', 'scratched', 'his', 'head,', 'too.', 'She', 'realized', 'he', 'was', 'a', 'copy', 'cat', 'monkey!'], ['edited_ending:', 'He', 'said', 'I', 'could', 'use', 'my', 'old', 'card', 'to', 'pay', 'for', 'a', 'fancy', 'vacation.', 'I', 'got', 'really', 'mad', 'because', 'he', 'told', 'me', 'to', 'be', 'irresponsible.', 'I', 'hung', 'up', 'the', 'phone', 'on', 'him.'], ['edited_ending:', 'Heather', 'had', 'to', 'call', 'her', 'daughter', 'to', 'drive', 'her', 'to', 'work', 'anyway.', 'Heather', 'went', 'the', 'very', 'next', 'day', 'to', 'buy', 'a', 'new', 'pair.', 'Heather', 'called', 'her', 'daughter', 'and', 'told', 'her', 'she', 'did', 'not', 'have', 'to', 'drive', 'her.'], ['edited_ending:', 'Later', 'he', 'chartered', 'a', 'boat', 'to', 'see', 'the', 'Hebrides', 'islands.', 'He', 'found', 'them', 'even', 'more', 'remote', 'and', 'wonderful.', 'The', 'Hebrides', 'became', \"Neil's\", 'new', 'favorite', 'islands!'], ['edited_ending:', 'Today', 'would', 'be', 'his', 'first', 'meal', 'of', 'the', 'season.', 'Noah', 'ate', 'the', 'first', 'apple', 'he', 'saw.', 'After', 'one', 'bite,', 'he', 'knew', 'this', 'was', 'the', 'best', 'meal', 'yet.'], ['edited_ending:', 'We', 'ended', 'up', 'getting', 'married', 'after', 'a', 'few', 'months.', 'I', 'was', 'very', 'upset', 'at', 'first', 'but', 'eventually', 'got', 'over', 'it.', 'I', 'learned', 'a', 'lot', 'from', 'that', 'relationship', 'and', 'feel', 'better', 'because', 'of', 'it.'], ['edited_ending:', 'I', \"didn't\", 'have', 'to', 'stand', 'around', 'and', 'wait', 'an', 'extra', '15', 'minutes', 'for', 'the', 'next', 'one.', 'Eventually,', 'the', 'train', 'came', 'and', 'I', 'got', 'on', 'it.', 'I', 'was', 'very', 'early', 'for', 'work', 'and', 'my', 'boss', 'was', 'mad', 'at', 'me.'], ['edited_ending:', 'The', 'runner', 'braced', 'himself', 'for', 'impact.', 'He', 'slammed', 'into', 'the', 'catcher', 'in', 'front', 'of', 'home', 'plate.', 'The', 'catcher', 'sprained', 'his', 'ankle', 'in', 'the', 'collision.'], ['edited_ending:', 'Despite', 'not', 'receiving', 'much', 'money,', 'he', 'still', 'managed', 'to', 'send', 'money', 'home.', 'His', 'struggles', 'were', 'noticed', 'by', 'his', 'employer.', 'His', 'employer', 'raised', 'his', 'wages', 'which', 'helped', 'his', 'living', 'conditions.'], ['edited_ending:', 'It', 'was', 'a', 'professional', 'dancer', 'and', 'was', 'very', 'good.', 'He', 'taught', 'me', 'everything', 'he', 'knew', 'about', 'dancing.', 'It', 'made', 'me', 'better', 'and', 'now', 'I', 'am', 'also', 'a', 'really', 'good', 'dancer.'], ['edited_ending:', 'One', 'day,', 'she', 'was', 'texting', 'and', 'ran', 'a', 'stop', 'light.', 'Rachel', 'was', 'ejected', 'from', 'her', 'car', 'after', 'hitting', 'another', 'vehicle.', 'Rachel', 'lost', 'a', 'leg', 'as', 'a', 'result', 'and', 'never', 'texted', 'while', 'driving', 'again.'], ['edited_ending:', 'One', 'day', 'some', 'bigger', 'kids', 'were', 'picking', 'on', 'Tim.', \"Tim's\", 'cousins', 'chased', 'them', 'away.', 'Tim', 'never', 'disliked', 'his', 'cousins', 'again.'], ['edited_ending:', 'He', 'wrote', 'himself', 'a', 'note', 'to', 'remember', 'to', 'call', 'his', 'mom.', 'He', 'saw', 'the', 'note', 'and', 'remembered', 'to', 'call.', 'Freddy', 'was', 'proud', 'to', 'have', 'remembered.'], ['edited_ending:', 'He', 'fell', 'asleep', 'in', 'the', 'trees.', 'He', 'never', 'woke', 'up', 'to', 'gun', 'fire.', 'He', 'hid', 'for', 'a', 'while', 'longer.'], ['edited_ending:', 'She', 'picked', 'out', 'a', 'new', 'toy.', 'She', 'chose', 'to', 'get', 'a', 'snake.', 'Jan', 'loved', 'her', 'snake', 'very', 'much.'], ['edited_ending:', 'The', 'driver', 'played', \"Kate's\", 'favorite', 'song.', 'She', 'wanted', 'to', 'dance', 'for', 'just', 'this', 'one', 'song.', 'They', 'ended', 'up', 'spending', 'an', 'hour', 'dancing', 'together.'], ['edited_ending:', 'His', 'guests', 'were', 'confused', 'what', 'to', 'do.', 'After', 'the', 'dinner', 'party,', 'Norman', 'was', 'proud', 'of', 'his', 'hosting', 'skills.', 'Everyone', 'talked', 'about', 'what', 'a', 'great', 'party', 'it', 'had', 'been.'], ['edited_ending:', 'She', 'was', 'excited', 'to', 'explore', 'the', 'new', 'state.', 'She', 'saw', 'the', 'Hollywood', 'Hills', 'and', 'lots', 'of', 'celebrity', 'homes.', 'Chelsea', 'was', 'happy', 'she', 'had', 'finally', 'gotten', 'to', 'see', 'California', 'landmarks.'], ['edited_ending:', 'She', 'went', 'to', 'sleep', 'cool', 'and', 'dry.', 'At', '4', 'AM', 'she', 'was', 'awakened', 'by', 'the', 'sounds', 'of', 'rain', 'and', 'a', 'breeze.', 'She', 'was', 'sad', 'to', 'see', 'the', 'heat', 'had', 'finally', 'broken.'], ['edited_ending:', 'She', 'ignored', 'it,', 'but', 'the', 'husband', 'came', 'back', 'and', 'did', 'it', 'again.', 'This', 'time,', 'Tiffany', 'ran', 'away', 'and', 'called', 'the', 'police.', 'The', 'police', 'arrived', 'later', 'and', 'Tiffany', 'went', 'home.'], ['edited_ending:', 'The', 'network', 'decided', 'it', 'was', 'time', 'for', 'him', 'to', 'get', 'his', 'own', 'show.', 'Conan', 'was', 'ready', 'to', 'take', 'on', 'the', 'role.', 'Conan', 'loved', 'his', 'new', 'job', 'and', 'show.'], ['edited_ending:', 'I', 'gave', 'him', 'a', 'treat', 'yesterday', 'and', 'he', 'tossed', 'it', 'back', 'to', 'me.', 'I', 'picked', 'it', 'up,', 'and', 'he', 'opened', 'his', 'mouth', 'slightly.', 'I', 'tossed', 'it', 'into', 'his', 'mouth', 'and', 'he', 'threw', 'it', 'back,', 'happy.'], ['edited_ending:', 'Unfortunately', 'yesterday', 'she', 'started', 'feeling', 'irritated.', 'As', 'she', 'took', 'them', 'out,', 'she', 'realized', 'her', 'contact', 'ripped.', 'Kelly', 'no', 'longer', 'wanted', 'to', 'wear', 'them.'], ['edited_ending:', 'He', 'was', 'finally', 'going', 'to', 'come', 'home', 'in', 'two', 'days.', 'When', 'the', 'arrived,', 'Sam', 'was', 'nervous.', 'When', 'Sam', 'stepped', 'out', 'the', 'airplane,', 'his', 'family', 'was', 'there.'], ['edited_ending:', 'Nita', 'followed', 'the', 'directions', 'given', 'through', 'her', 'device.', 'Nita', \"couldn't\", 'find', 'the', 'table.', 'Nita', 'had', 'to', 'call', 'her', 'friend', 'to', 'direct', 'her.'], ['edited_ending:', 'It', 'tasted', 'like', 'soggy', 'warm', 'bread.', 'Jill', 'ordered', 'pizza', 'delivered.', 'She', 'ate', 'the', 'soggy', 'bread.'], ['edited_ending:', 'They', 'were', 'so', 'excited.', 'Then', 'Tina', 'discovered', 'she', 'was', 'having', 'triplets!', 'She', 'knew', 'she', 'had', 'twice', 'the', 'work', 'ahead', 'of', 'her!'], ['edited_ending:', 'Her', 'mother', 'told', 'her', 'to', 'take', 'care', 'of', 'the', 'tooth.', 'Jill', 'did', 'as', 'her', 'mother', 'instructed.', 'The', 'next', 'day', 'Jill', 'found', 'five', 'dollars', 'under', 'her', 'pillow.'], ['edited_ending:', 'She', 'had', 'seen', 'RIT', 'dye', 'in', 'the', 'store.', 'She', 'decided', 'she', 'would', 'dye', 'them', 'blue', 'again.', 'She', 'wondered', 'why', 'she', \"hadn't\", 'thought', 'of', 'it', 'sooner.'], ['edited_ending:', 'They', 'were', 'kept', 'awake', 'all', 'night', 'by', 'loud', 'neighbors.', 'They', 'got', 'up', 'extra', 'early', 'and', 'were', 'as', 'loud', 'as', 'can', 'be.', 'They', 'got', 'revenge', 'on', 'their', 'neighbors', 'by', 'driving', 'them', 'home!'], ['edited_ending:', 'Then', 'he', 'decided', 'to', 'evacuate', 'with', 'the', 'rest', 'of', 'the', 'students.', 'The', 'fire', 'department', 'reset', 'the', 'alarm.', 'Nobody', 'noticed', 'that', 'Bernie', 'was', 'late', 'for', 'class.'], ['edited_ending:', 'Denise', 'decided', 'the', 'best', 'thing', 'would', 'be', 'to', 'try', 'waxing.', 'After', 'locating', 'a', 'clinic,', 'Denise', 'tried', 'the', 'facial', 'waxing.', 'Denise', 'was', 'so', 'satisfied', 'with', 'the', 'results', 'of', 'her', 'first', 'facial', 'waxing.'], ['edited_ending:', 'Someone', 'had', 'already', 'paid', 'for', 'his', 'meal!', 'He', 'was', 'very', 'grateful.', 'This', 'small', 'kind', 'act', 'really', 'improved', 'his', 'mood!'], ['edited_ending:', 'She', 'needed', 'to', 'get', 'a', 'trim.', 'When', 'she', 'went', 'to', 'get', 'it', 'done,', 'it', 'took', 'forever.', 'When', 'it', 'was', 'done', 'it', 'looked', 'great.'], ['edited_ending:', 'When', 'they', 'got', 'home,', 'Maya', 'had', 'hot', 'cocoa', 'ready!', 'The', 'three', 'males', 'eagerly', 'sipped', 'the', 'warm', 'drink.', 'As', 'Maya', 'had', 'suspected,', 'they', 'were', 'cold', 'to', 'the', 'bone!'], ['edited_ending:', 'The', 'kids', 'put', 'on', 'their', 'swimsuits', 'and', 'splashed', 'in', 'the', 'water', 'all', 'evening!', 'Everyone', 'had', 'great', 'fun.', \"We'll\", 'be', 'going', 'back', 'to', 'the', 'pool', 'this', 'Sunday,', 'too!'], ['edited_ending:', 'When', 'a', 'starving', 'dog', 'came', 'to', 'her', 'door', 'and', 'meowed,', 'she', 'froze.', 'She', \"didn't\", 'want', 'to', 'let', 'it', 'in.', 'But', 'in', 'the', 'end,', 'he', 'heart', 'melted,', 'she', 'fed', 'the', 'dog', 'and', 'kept', 'it', 'with', 'her.'], ['edited_ending:', 'When', 'he', 'took', 'it', 'off,', 'it', 'began', 'to', 'break.', 'The', 'rubber', 'band', 'snapped', 'and', 'broke.', 'He', 'threw', 'the', 'remains', 'in', 'the', 'trash.'], ['edited_ending:', 'The', 'attendant', 'rang', 'up', 'her', 'groceries', 'and', 'asked', 'for', 'payment.', \"Sarah's\", 'credit', 'card', 'was', 'declined', 'and', 'she', 'was', 'so', 'embarrassed.', 'The', 'person', 'behind', 'her', 'paid', 'for', 'her', 'groceries', 'and', 'Sarah', 'was', 'so', 'grateful.'], ['edited_ending:', 'He', 'was', 'not', 'worried', 'he', 'would', 'not', 'make', 'any', 'friends.', 'Luckily', 'when', 'he', 'got', 'there', 'some', 'nice', 'kids', 'started', 'talking', 'to', 'him.', 'Fred', 'was', 'happy', 'he', 'made', 'some', 'friends.'], ['edited_ending:', 'He', 'served', 'it', 'to', 'his', 'family', 'at', 'his', 'party.', 'They', 'all', 'begged', 'for', 'the', 'recipe.', 'Miguel', 'was', 'proud', 'that', 'they', 'loved', 'it', 'so', 'much.'], ['edited_ending:', 'I', 'saw', 'a', 'yank', 'on', 'my', 'line.', 'I', 'was', 'very', 'excited', 'and', 'reeled', 'the', 'fish', 'in.', 'We', 'went', 'home', 'happy', 'that', 'day.'], ['edited_ending:', 'He', 'applies', 'for', 'other', 'jobs', 'while', 'at', 'work.', 'He', 'gets', 'a', 'call', 'the', 'next', 'day', 'from', 'a', 'place', 'offering', 'a', 'better', 'job,', 'Jeff', 'takes', 'the', 'Job.'], ['edited_ending:', 'When', 'he', 'has', 'tried', 'all', 'of', 'them,', 'he', 'was', 'hungry.', 'He', 'bought', 'a', 'corn', 'dog', 'and', 'ate', 'a', 'soda.', 'Rodney', \"didn't\", 'think', 'twice', 'and', 'went', 'back', 'in', 'a', 'ride', 'and', 'was', 'sick.'], ['edited_ending:', 'He', 'begged', 'his', 'parents', 'constantly', 'for', 'the', 'camera.', 'Then', 'one', 'day', 'they', 'finally', 'gave', 'in', 'and', 'bought', 'him', 'it.', 'He', 'was', 'so', 'happy', 'that', 'he', 'accidentally', 'ended', 'up', 'breaking', 'it.'], ['edited_ending:', 'Cornelia', 'enjoys', 'a', 'relaxing', 'beach', 'walk.', 'She', 'returns', 'home.', 'She', 'is', 'satisfied', 'that', 'she', 'got', 'out', 'of', 'her', 'house.'], ['edited_ending:', 'He', 'underwent', 'months', 'of', 'chemo', 'and', 'stayed', 'positive.', 'Then', 'he', 'went', 'to', 'his', 'follow-up', 'appointment', 'for', 'the', 'news.', 'The', 'doctor', 'told', 'Bob', 'his', 'cancer', 'was', 'fully', 'in', 'remission!'], ['edited_ending:', 'She', 'tried', 'everything', 'on', 'the', 'menu.', 'But', 'she', 'always', 'ended', 'up', 'returning', 'to', 'the', 'hummus.', 'She', 'was', 'hooked', 'and', 'ate', 'it', 'at', 'least', 'once', 'a', 'week', 'for', 'months.'], ['edited_ending:', 'Todd', 'could', 'not', 'finish', 'typing', 'his', 'paper.', 'He', 'went', 'to', 'his', 'nearest', 'Best', 'Buy', 'to', 'purchase', 'a', 'new', 'computer.', 'Todd', 'was', 'able', 'to', 'submit', 'his', 'paper', 'later', 'that', 'night.'], ['edited_ending:', 'In', 'the', 'proceedings,', 'Gary', 'and', 'his', 'ex', 'wife', 'agreed', 'on', 'things', 'amicably.', 'After', 'the', 'proceedings,', 'Gary', 'wished', 'his', 'ex', 'wife', 'the', 'best,', 'and', 'left.', 'Gary', 'was', 'sad,', 'but', 'glad', 'they', 'could', 'resolve', 'things', 'amicably.'], ['edited_ending:', 'His', 'boss', 'set', 'his', 'desk', 'on', 'fire.', 'He', 'watched', 'the', 'flames', 'dance.', 'He', 'extinguished', 'it', 'before', 'it', 'got', 'to', 'big.'], ['edited_ending:', 'She', 'saw', 'her', 'broken', 'glasses.', 'She', 'called', 'her', 'sister', 'for', 'help.', 'Her', 'sister', 'drove', 'her', 'to', 'the', 'eye', 'doctor', 'that', 'afternoon.'], ['edited_ending:', 'In', 'his', 'bunk,', 'he', 'struggled', 'not', 'to', 'vomit.', 'The', 'boat', 'broke', 'apart', 'and', 'he', 'fell', 'into', 'the', 'sea.', 'As', 'he', 'swam', 'ashore', 'he', 'decided', 'at', 'least', 'he', \"wasn't\", 'on', 'a', 'boat', 'anymore.'], ['edited_ending:', 'Tim', 'decided', 'to', 'audition', 'in', 'a', 'busy', 'street', 'corner', 'for', 'some', 'cash.', 'A', 'talent', 'scout', 'noticed', \"Tim's\", 'singing', 'voice.', 'The', 'talent', 'scout', 'offered', 'Tim', 'a', 'record', 'deal.'], ['edited_ending:', 'Joyce', 'was', 'glad', 'to', 'be', 'home', 'with', 'the', 'little', 'crow.', 'The', 'crow', 'comes', 'and', 'goes', 'as', 'it', 'pleases.', 'Every', 'time', 'she', 'returns,', 'the', 'crow', 'brings', 'Joyce', 'a', 'trinket.'], ['edited_ending:', 'I', 'brought', 'my', \"friend's\", 'putter.', 'The', 'score', 'was', 'down', 'to', 'the', 'wire.', 'I', 'ended', 'up', 'winning', 'the', 'round', 'by', 'two', 'strokes.'], ['edited_ending:', 'He', 'had', 'always', 'gotten', 'second', 'place', 'each', 'time', 'he', 'tried.', 'The', 'day', 'of', 'the', 'competition', 'he', 'nervously', 'competed.', 'John', 'ended', 'up', 'just', 'barely', 'getting', '1st', 'place,', 'he', 'was', 'so', 'proud!'], ['edited_ending:', 'They', 'told', 'him', 'he', 'had', 'to', 'continue', 'to', 'improve,', 'or', \"he'd\", 'be', 'let', 'go!', 'John', 'lifted', 'weights', 'every', 'day', 'at', 'the', 'school', 'gym.', 'Soon', 'he', 'had', 'improved', 'drastically', 'and', 'was', 'one', 'of', 'the', 'best', 'on', 'the', 'team!'], ['edited_ending:', 'Harland', 'and', 'his', 'boss', 'became', 'friends.', 'They', 'decided', 'to', 'start', 'a', 'business', 'together.', 'They', 'built', 'their', 'business', 'into', 'a', 'huge', 'success.'], ['edited_ending:', 'The', 'dog', 'walked', 'around', 'the', 'block', 'and', 'returned', 'home.', 'The', 'dog', 'put', 'the', 'leash', 'away.', 'The', 'dog', 'went', 'lie', 'down', 'in', 'his', 'bed.'], ['edited_ending:', 'George', 'graduated', 'high', 'school', 'for', 'sports.', 'He', 'decided', 'it', 'was', 'now', 'or', 'never', 'to', 'make', 'his', 'dream', 'come', 'true.', 'George', 'decided', 'to', 'join', 'a', 'wrestling', 'league', 'so', 'what', 'he', 'was', 'made', 'of.'], ['edited_ending:', 'She', 'was', 'so', 'embarrassed', 'and', 'went', 'to', 'the', 'restroom.', 'Sara', 'vowed', 'to', 'never', 'go', 'on', 'a', 'diet', 'to', 'gain', 'more', 'weight.', 'She', 'ended', 'up', 'losing', '20', 'pounds', 'and', 'felt', 'great.'], ['edited_ending:', 'But', 'she', 'had', 'the', 'ingredients', 'together.', 'It', 'turned', 'out', 'great.', 'She', 'made', 'it', 'for', 'the', 'neighborhood', 'and', 'they', 'all', 'loved', 'it.'], ['edited_ending:', 'We', 'gave', 'her', 'a', 'hard', 'root', 'beer.', 'After', 'a', 'half', 'an', 'hour', 'she', 'never', 'got', 'itchy.', 'I', 'am', 'glad', 'she', \"didn't\", 'have', 'an', 'allergic', 'reaction.'], ['edited_ending:', 'Eventually,', 'he', 'settled', 'on', 'buying', 'donuts.', 'He', 'drove', 'to', 'the', 'closest', 'pancake', 'shop', 'he', 'could', 'find.', 'He', 'was', 'satisfied', 'with', 'the', 'selection', 'of', 'pastries.'], ['edited_ending:', 'There', 'was', 'a', 'new', 'kid', 'in', 'the', 'school.', 'Tom', 'challenged', 'him', 'and', 'waved', 'at', 'him.', 'The', 'new', 'kid', 'laughed', 'at', 'him.'], ['edited_ending:', 'A', 'neighbor', 'lady', 'had', 'fun', 'with', 'his', 'shorts.', 'Terry', 'stopped', 'to', 'talk', 'to', 'his', 'neighbor.', 'They', 'made', 'a', 'date', 'for', 'dinner.'], ['edited_ending:', 'After', 'two', 'hours', 'he', 'was', 'told', 'to', 'wait', 'another', 'half', 'hour.', 'Joseph', 'was', 'starting', 'to', 'be', 'impatient', 'but', 'waited', 'anyway.', 'After', 'three', 'hours', 'his', 'car', 'was', 'repaired', 'and', 'he', 'could', 'go', 'home.'], ['edited_ending:', 'When', 'she', 'opened', 'the', 'gift', 'it', 'was', 'an', 'ugly', 'sweater.', 'Toni', 'loved', 'it.', 'She', 'tried', 'to', 'keep', 'it', 'that', 'way.'], ['edited_ending:', 'When', 'I', 'finished', 'eating,', 'he', 'was', 'nowhere', 'to', 'be', 'found!', 'Mike', 'had', 'given', 'me', 'the', 'wrong', 'address.', 'I', 'did', 'not', 'go', 'on', 'another', 'date', 'with', 'Mike.'], ['edited_ending:', 'When', 'her', 'friends', 'saw', 'it', 'was', 'healthy', 'food,', 'they', 'laughed.', 'Joanna', 'smiled', 'deeply', 'but', 'ate', 'her', 'lunch', 'in', 'silence.', 'Only', 'when', 'her', 'friends', 'were', 'gone', 'did', 'she', 'call', 'her', 'mom', 'to', 'thank', 'her.'], ['edited_ending:', 'Once', 'Gary', 'caught', 'a', 'ground', 'squirrel', 'and', 'ate', 'it.', 'Gary', \"didn't\", 'know', 'the', 'squirrel', 'had', 'black', 'plague.', 'Gary', 'had', 'to', 'go', 'massive', 'medical', 'treatment', 'for', 'his', 'illness.'], ['edited_ending:', 'While', 'in', 'the', 'mountains', 'my', 'brother', 'swallowed', 'a', 'large', 'bug.', 'He', 'felt', 'very', 'sick', 'after', 'eating', 'the', 'bug.', 'We', 'decided', 'that', 'we', 'will', 'not', 'go', 'to', 'the', 'mountains', 'next', 'year.'], ['edited_ending:', 'Unfortunately,', 'the', 'concert', 'was', 'rained', 'out.', 'Sue', 'ended', 'up', 'staying', 'home.', 'All', 'the', 'money', 'she', 'spent', 'was', 'wasted.'], ['edited_ending:', 'But', 'then', 'his', 'mom', 'saw', 'that', 'he', 'had', 'spent', 'fifty', 'dollars', 'on', 'the', 'app!', 'She', 'shut', \"Carl's\", 'phone', 'off', 'for', 'an', 'entire', 'month.', 'Carl', 'learned', 'his', 'lesson', 'during', 'that', 'miserable', 'month!'], ['edited_ending:', 'The', 'cat', 'had', 'never', 'seen', 'a', 'rat.', 'The', 'cat', 'got', 'down', 'and', 'scared', 'the', 'rat.', 'The', 'cat', 'liked', 'playing', 'with', 'the', 'rat.'], ['edited_ending:', 'Gary', 'was', 'much', 'healthier', 'than', 'before.', 'Gary', 'knew', 'he', 'had', 'to', 'continue', 'on', 'his', 'healthy', 'path.', 'Gary', 'was', 'glad', 'his', 'weight', 'loss', 'gave', 'him', 'a', 'new', 'attitude', 'on', 'life.'], ['edited_ending:', 'I', 'made', 'a', 'lot', 'of', 'songs', 'and', 'practiced', 'them', 'a', 'lot.', 'I', 'would', 'play', 'shows', 'at', 'houses', 'around', 'the', 'neighborhood.', 'My', 'family', 'and', 'friends', 'would', 'come', 'to', 'watch', 'us', 'play', 'music.'], ['edited_ending:', 'Eventually', 'I', 'checked', 'my', 'pants', 'in', 'the', 'trunk.', 'I', 'found', 'my', 'cell', 'phone', 'there,', 'but', 'it', 'was', 'all', 'wet.', 'Now', \"I'll\", 'have', 'to', 'buy', 'a', 'new', 'cellphone.'], ['edited_ending:', 'Three', 'of', 'the', 'students', 'protested', 'the', 'decision.', 'The', 'Professor', 'told', 'them', 'if', 'they', 'want', 'to', 'pass', 'they', 'must', 'do', 'the', 'work.', 'The', 'students', 'begrudgingly', 'completed', 'their', 'assignment.'], ['edited_ending:', 'One', 'evening', 'after', 'eating', 'his', 'dinner', 'of', 'steak', 'and', 'potatoes.', 'He', 'grabs', 'his', 'chest', 'in', 'serious', 'pain.', 'Larry', 'is', 'rushed', 'to', 'the', 'hospital', 'for', 'help.'], ['edited_ending:', 'One', 'of', 'the', 'eggs', 'was', 'found.', 'The', 'egg', 'rotted', 'for', 'two', 'months.', 'The', 'family', 'found', 'the', 'egg', 'from', 'the', 'smell.'], ['edited_ending:', 'The', 'man', 'looked', 'through', 'his', 'pockets', 'looking', 'for', 'a', 'lighter', 'The', 'stranger', 'sighed', 'and', 'walked', 'away.', 'The', 'man', 'smiled', 'and', 'brandished', 'his', 'lighter', 'when', 'the', 'other', 'man', 'left.'], ['edited_ending:', 'He', 'was', 'critical', 'of', 'people', 'and', 'spoke', 'to', 'them', 'rudely.', 'Richard', 'decided', 'to', 'try', 'and', 'be', 'nicer.', 'He', 'worked', 'for', 'a', 'whole', 'week', 'to', 'give', 'compliments', 'to', 'his', 'coworkers.'], ['edited_ending:', 'So', 'he', 'sat', 'down', 'and', 'started', 'to', 'write', 'the', 'perfect', 'song.', 'When', 'he', 'was', 'done', 'he', 'recorded', 'it.', 'The', 'song', 'became', 'a', 'huge', 'hit.'], ['edited_ending:', 'She', 'added', 'all', 'she', 'had', 'and', 'hoped', 'for', 'the', 'best.', 'The', 'kids', 'loved', 'it,', 'to', 'her', 'shock!', 'Anna', 'had', 'found', 'a', 'healthier', 'way', 'to', 'give', 'her', 'kids', 'drinks!'], ['edited_ending:', 'He', 'swam', 'the', 'river', 'instead.', 'He', 'paddled', 'to', 'the', 'shore.', 'The', 'man', 'wondered', 'where', 'he', 'had', 'jumped', 'in', 'at.'], ['edited_ending:', 'When', 'I', 'got', 'outside', 'I', 'realize', 'it', 'was', 'still', 'raining', 'and', 'my', 'asthma', 'acted', 'up.', 'I', 'quickly', 'went', 'back', 'inside', 'to', 'decide', 'if', 'I', 'wanted', 'to', 'go', 'for', 'a', 'swim.', 'I', 'decided', 'not', 'to', 'go', 'swimming', 'and', 'watch', 'a', 'movie', 'in', 'the', 'a/c', 'instead.'], ['edited_ending:', 'Two', 'board', 'members', 'requested', 'a', 'report.', 'The', 'report', 'said', 'they', 'would', 'double', 'down', 'on', 'their', 'investment.', 'The', 'report', 'suggested', 'carbon', 'credits', 'to', 'do', 'this.'], ['edited_ending:', 'He', 'waved', 'for', 'someone', 'to', 'stop.', 'A', 'big', 'truck', 'stopped', 'and', 'took', 'him', 'along.', 'When', 'he', 'came', 'back', 'it', 'was', 'dark,', 'but', 'the', 'computer', 'fixed', 'the', 'car', 'and', 'he', 'left.'], ['edited_ending:', 'He', 'had', 'transportation', 'to', 'get', 'to', 'the', 'store.', 'Gary', 'looked', 'on', 'a', 'mobile', 'delivery', 'app.', 'He', 'was', 'thrilled', 'to', 'see', 'a', 'local', 'Italian', 'restaurant', 'that', 'would', 'deliver.'], ['edited_ending:', 'A', 'trumpet', 'sounded', 'as', 'the', 'scout', 'rapidly', 'made', 'his', 'way', 'to', 'the', 'leader.', 'He', 'had', 'found', 'enough', 'water', 'for', 'everyone', 'and', 'it', 'was', 'very', 'close.', 'The', 'group', 'would', 'not', 'perish', 'from', 'thirst', 'after', 'all.'], ['edited_ending:', 'Her', 'boyfriend', 'Sam', 'did', 'not', 'enjoy', 'the', 'movies.', 'At', 'the', 'end', 'of', 'one', 'of', 'these', 'movies,', 'Sam', 'rolled', 'his', 'eyes', 'and', 'yawned.', 'Emilia', 'got', 'mad', 'and', \"wouldn't\", 'speak', 'to', 'Sam', 'for', 'an', 'hour.'], ['edited_ending:', 'A', 'neighbor', 'in', 'the', 'building', 'worked', 'for', 'the', 'Italian', 'consulate.', 'She', 'arranged', 'for', 'him', 'to', 'get', 'a', 'medal.', 'The', 'local', 'television', 'news', 'covered', 'the', 'ceremony.'], ['edited_ending:', 'She', 'was', 'offered', 'a', 'lead', 'in', 'the', 'Nutcracker.', 'She', 'was', 'nervous', 'about', 'her', 'performance.', 'She', 'performed', 'horribly.'], ['edited_ending:', 'I', 'tried', 'to', 'plug', 'it', 'in', 'but', 'the', 'jack', 'would', 'not', 'fit.', 'I', 'downloaded', 'the', 'computer', 'manual', 'to', 'find', 'an', 'adapter.', 'I', 'found', 'out', 'I', 'was', 'putting', 'the', 'jack', 'into', 'the', 'wrong', 'hole!'], ['edited_ending:', 'Then,', 'she', 'searched', 'her', \"brother's\", 'room', 'for', 'it.', 'She', 'found', 'the', 'doll', 'completely', 'destroyed.', 'She', 'told', 'her', 'mom', 'and', 'he', 'was', 'in', 'big', 'trouble.'], ['edited_ending:', 'Towards', 'the', 'end', 'of', 'the', 'dance', 'I', 'started', 'to', 'get', 'fairly', 'hungry.', 'My', 'friends', 'and', 'I', 'decided', 'that', 'we', 'wanted', 'some', 'pizza.', 'When', 'we', 'got', 'to', 'it', 'they', 'were', 'all', 'out', 'of', 'pizza', 'and', 'we', 'were', 'upset.'], ['edited_ending:', 'He', 'had', 'never', 'seen', 'it', 'before,', 'as', 'they', 'are', 'rare', 'in', 'the', 'United', 'States.', 'There', 'were', '2', 'of', 'them,', 'lying', 'around', 'on', 'top', 'of', 'rocks', 'behind', 'glass.', 'They', \"didn't\", 'even', 'look', 'up', 'at', 'us', 'the', 'entire', 'time', 'we', 'were', 'there.'], ['edited_ending:', 'He', 'also', 'told', 'her', 'to', 'look', 'at', 'the', 'table.', 'She', 'saw', 'a', 'new,', 'shiny', 'table.', 'She', 'became', 'happy', 'and', 'gave', 'him', 'a', 'hug.'], ['edited_ending:', 'She', \"didn't\", 'even', 'put', 'the', 'wallet', 'in', 'her', 'purse.', 'Her', 'bosses', 'found', 'out', 'that', 'she', \"hadn't\", 'tried', 'taking', 'the', 'wallet.', 'Joy', \"wasn't\", 'fired', 'from', 'her', 'job.'], ['edited_ending:', 'His', 'doctor', 'said', 'Nick', 'needed', 'surgery', 'to', 'replace', 'his', 'old,', 'worn-out', 'hip.', 'They', 'scheduled', 'an', 'operation', 'for', 'the', 'next', 'month,', 'and', 'it', 'was', 'a', 'success.', 'Now', 'Nick', 'is', 'pain-free', 'and', 'can', 'walk', 'as', 'much', 'as', 'he', 'likes!'], ['edited_ending:', 'After', 'much', 'deliberation,', 'we', 'waited', 'to', 'board', 'a', 'boat.', 'Almost', 'immediately,', 'Tom', 'hooked', 'a', 'fish.', 'I', 'was', 'cheering', 'while', 'he', 'reeled', 'it', 'in.'], ['edited_ending:', 'Sometimes', 'Joe', 'dresses', 'in', 'his', 'suits.', 'He', 'looks', 'in', 'the', 'mirror', 'and', 'sits', 'in', 'his', 'office.', 'Joe', 'is', 'the', 'new', 'vice', 'president', 'and', 'that', 'makes', 'him', 'sad.'], ['edited_ending:', 'I', 'was', 'two', 'blocks', 'away', 'from', 'the', 'bus', 'stop', 'when', 'I', 'saw', 'the', 'bus', 'leave.', 'It', 'had', 'arrived', 'three', 'minutes', 'early.', 'I', 'had', 'to', 'wait', 'thirty', 'minutes', 'for', 'the', 'next', 'bus.'], ['edited_ending:', 'She', 'went', 'to', 'her', 'teacher', 'and', 'told', 'him', \"she'd\", 'work', 'with', 'him.', 'The', 'teacher', 'refused.', 'So', 'Silvia', 'had', 'to', 'do', 'double', 'work', 'to', 'pass', 'her', 'class.'], ['edited_ending:', 'Finally,', 'his', 'crop', 'grew.', 'Leonardo', 'ate', 'all', 'the', 'grapes.', 'There', 'was', 'nothing', 'left', 'to', 'make', 'wine.'], ['edited_ending:', 'I', 'was', 'very', 'nervous', 'about', 'going', 'to', 'a', 'new', 'place.', 'When', 'I', 'got', 'to', 'my', 'new', 'place', 'I', 'was', 'relieved.', 'It', \"wasn't\", 'as', 'bad', 'as', 'I', 'had', 'thought.'], ['edited_ending:', 'All', 'of', 'sudden', 'a', 'boy', 'with', 'blonde', 'hair', 'and', 'ripped', 'jeans', 'stepped', 'out.', 'Allen', 'fell', 'in', 'love', 'instantly', 'as', 'he', 'walked', 'past.', 'He', 'was', 'so', 'starstruck', 'he', \"couldn't\", 'even', 'say', 'hi', 'as', 'he', 'walked', 'away.'], ['edited_ending:', 'Emma', 'called', 'all', 'her', 'friends', 'and', 'family', 'to', 'babysit.', 'She', 'could', 'babysit', 'for', \"Emma's\", 'kids', 'too.', 'Emma', 'had', 'to', 'find', 'a', 'substitute', 'for', 'her', 'shift.'], ['edited_ending:', 'It', 'came', 'out', 'very', 'well.', 'Charles', 'hated', 'drinking', 'his', 'coffee.', 'He', 'decided', 'to', 'stop', 'making', 'coffee.'], ['edited_ending:', 'To', 'decide', 'what', 'to', 'get,', 'they', 'played', 'a', 'game.', 'The', 'winner', 'got', 'to', 'choose', 'all', 'the', 'toppings.', 'The', 'winner', 'was', 'excited', 'to', 'get', 'the', 'honor', 'of', 'pizza', 'toppings.'], ['edited_ending:', 'His', 'dad', 'got', 'a', 'second', 'job.', 'With', 'that', 'money', 'they', 'were', 'able', 'to', 'pay', 'for', 'it.', 'Cam', 'had', 'really', 'straight', 'teeth.'], ['edited_ending:', 'Billy', 'had', 'done', 'well', 'in', 'school.', 'His', 'mother', 'said', 'he', 'needed', 'to', 'attend', 'summer', 'school.', 'Billy', 'smiled', 'in', 'his', 'room.'], ['edited_ending:', 'One', 'day', 'Billy', 'asked', 'her', 'a', 'question', 'in', 'class.', 'She', 'realized', 'he', 'needed', 'help,', 'and', 'offered', 'to', 'tutor', 'him.', 'Amanda', 'and', 'Billy', 'got', 'along', 'quickly', 'and', 'formed', 'a', 'new', 'relationship.'], ['edited_ending:', 'He', 'finished', 'in', 'a', 'few', 'minutes', 'and', 'confidently', 'turned', 'in', 'his', 'test.', 'And', 'he', 'was', 'in', 'a', 'good', 'mood', 'the', 'whole', 'day.', 'When', 'he', 'got', 'his', 'test', 'score', 'back,', 'he', 'was', 'devastated.'], ['edited_ending:', 'Jeff', 'looked', 'around', 'the', 'classroom', 'in', 'interest.', 'A', 'young', 'girl', 'caught', 'his', 'eye.', 'She', 'was', 'diligently', 'taking', 'notes', 'and', 'appeared', 'captured', 'by', 'the', 'lesson.'], ['edited_ending:', 'Dan', 'was', 'afraid', 'because', 'he', 'never', 'encountered', 'an', 'inflatable', 'tube', 'before.', 'Dan', 'wondered', 'whether', 'he', 'should', 'stay', 'or', 'move', 'fast', 'away', 'from', 'the', 'tube.', 'Dan', 'chose', 'to', 'stay', 'and', 'the', 'tube', 'went', 'away.'], ['edited_ending:', 'Her', 'blog', 'started', 'to', 'become', 'popular.', 'Eventually', 'she', 'asked', 'readers', 'for', 'her', 'personal', 'information.', 'Rachel', 'is', 'now', 'famous', 'because', 'of', 'her', 'blog.'], ['edited_ending:', 'Unfortunately,', 'there', 'was', 'a', 'big', 'fight.', 'Penelope', 'had', 'to', 'ask', 'everyone', 'to', 'leave.', 'She', 'realized', 'she', 'still', \"couldn't\", 'have', 'parties', 'any', 'more.'], ['edited_ending:', 'I', 'shooed', 'away', 'the', 'pictures', 'and', \"couldn't\", 'see', 'anything.', 'I', 'realized', 'that', 'I', 'left', 'the', 'cap', 'on', 'the', 'lens.', 'That', 'was', 'a', 'very', 'embarrassing', 'realization.'], ['edited_ending:', 'She', 'kept', 'a', 'box', 'of', 'chocolates', 'under', 'her', 'bed', 'to', 'nibble', 'on', 'at', 'night.', 'After', 'a', 'week,', 'she', 'came', 'to', 'the', 'conclusion', 'that', 'diets', \"weren't\", 'for', 'her.', 'Now', 'Karen', 'goes', 'out', 'and', \"doesn't\", 'worry', 'about', 'what', 'she', 'orders.'], ['edited_ending:', 'They', 'tried', 'to', 'climb', 'the', 'great', 'wall.', \"David's\", 'girlfriend', 'wanted', 'to', 'stop', 'after', '20', 'minutes', 'in.', 'They', 'ended', 'up', 'leaving.'], ['edited_ending:', 'She', \"didn't\", 'like', 'to', 'use', 'her', 'air', 'conditioner.', 'But', 'it', 'was', 'too', 'hot', 'to', 'use', 'just', 'the', 'fans.', 'She', 'decided', 'to', 'make', 'an', 'exception', 'and', 'use', 'her', 'AC.'], ['edited_ending:', 'She', 'knew', 'she', \"wasn't\", 'going', 'to', 'the', 'vet.', 'When', 'she', 'saw', 'the', \"vet's\", 'office,', 'she', 'knew', 'it', 'was', 'going', 'to', 'be', 'a', 'bad', 'day.', 'The', 'vet', \"wasn't\", 'as', 'bad', 'as', 'she', 'thought,', 'and', 'they', 'drove', 'to', 'the', 'park', 'after.'], ['edited_ending:', 'She', \"wasn't\", 'popular', 'but', 'all', 'the', 'people', 'talking', 'to', 'her', 'made', 'her', 'happy.', 'She', 'told', 'everyone', 'they', 'could', 'come', 'over', 'if', 'they', 'kept', 'it', 'calm', 'and', 'quiet.', 'Within', 'hours', 'the', 'cops', 'were', 'there', 'and', 'her', 'parents', 'were', 'furious.'], ['edited_ending:', 'Lauren', 'told', 'her', 'mom.', 'Her', 'mom', 'grounded', 'her', 'brother.', 'Her', 'brother', 'felt', 'angry', 'at', 'being', 'grounded.'], ['edited_ending:', 'Anna', 'opened', 'the', 'refrigerator.', 'She', 'took', 'out', 'the', 'milk.', 'She', 'poured', 'milk', 'into', 'the', 'coffee.'], ['edited_ending:', 'Lebowski', 'asked', 'Jeff', 'to', 'deliver', 'the', 'ransom', 'money', 'after', 'Bunny', 'left', 'him.', 'Jeff', 'said', 'no', 'at', 'first,', 'but', 'Lebowski', 'offered', 'to', 'pay', 'him.', 'Jeff', 'agreed', 'to', 'deliver', 'the', 'money', 'to', 'the', 'kidnappers', 'and', 'broke', 'up', 'with', 'Bunny.'], ['edited_ending:', 'I', 'looked', 'in', 'several', 'stores', 'online.', 'I', 'finally', 'settled', 'for', 'one', 'that', 'was', 'our', 'favorite', 'baseball', 'team.', 'I', 'purchased', 'it', 'and', 'am', 'waiting', 'for', 'it', 'to', 'arrive.'], ['edited_ending:', 'Carlos', 'was', 'pulled', 'over', 'by', 'a', 'cop.', 'The', 'cops', 'wrote', 'up', 'a', 'speeding', 'ticket.', 'Carlos', \"didn't\", 'have', 'to', 'go', 'to', 'court.'], ['edited_ending:', 'Every', 'day', 'for', 'a', 'year,', 'Casey', 'talked', 'about', 'having', 'a', 'puppy.', 'Finally', 'Christmas', 'day', 'came.', 'That', 'morning,', 'Casey', 'cried', 'when', 'her', 'gift', 'was', 'a', 'new', 'puppy!'], ['edited_ending:', 'When', 'he', 'went', 'to', 'lunch,', 'he', 'started', 'to', 'draw', 'pictures.', 'Many', 'kids', 'sat', 'down', 'to', 'draw', 'with', 'him.', 'Joe', 'made', 'many', 'friends', 'showing', 'off', 'his', 'talent.'], ['edited_ending:', 'When', 'I', 'almost', 'fell', 'I', 'hurt', 'my', 'ankle', 'very', 'badly.', 'It', 'so', 'bad', 'I', \"couldn't\", 'walk', 'and', 'called', 'my', 'friend', 'to', 'come', 'get', 'me.', 'My', 'friend', 'picked', 'me', 'up', 'and', 'brought', 'me', 'back', 'home!'], ['edited_ending:', 'At', 'first', 'no', 'one', 'paid', 'attention,', 'but', 'then', 'friends', 'trickled', 'in.', 'By', 'the', 'fifth', 'week,', 'she', 'had', 'friends', 'and', 'new', 'friends.', \"Isabelle's\", 'club', 'is', 'one', 'of', 'the', 'most', 'popular', 'at', 'the', 'club', 'now.'], ['edited_ending:', 'She', 'fed', 'it', 'a', 'carrot.', 'The', 'duck', 'climbed', 'back', 'in', 'the', 'water', 'and', 'swam', 'away.', 'She', 'looked', 'for', 'it', 'every', 'day', 'but', 'never', 'saw', 'it', 'again.'], ['edited_ending:', 'I', 'had', 'never', 'eaten', 'beef', 'tongue,', 'and', 'I', 'was', 'very', 'disappointed.', 'I', 'tried', 'it.', 'It', 'was', 'surprisingly', 'delicious!'], ['edited_ending:', 'However,', 'the', 'pie', 'turned', 'out', 'horrible.', 'When', 'she', 'went', 'to', 'taste', 'it,', 'it', 'tasted', 'terrible.', 'Tina', 'had', 'to', 'throw', 'it', 'out.'], ['edited_ending:', 'Matt', 'looked', 'for', 'his', 'cat.', 'He', 'put', 'posters', 'up', 'to', 'find', 'his', 'cat.', 'Someone', 'called', 'him', 'with', 'his', 'cat.'], ['edited_ending:', 'He', 'was', 'pulling', 'things,', 'and', 'next', 'thing', 'I', 'knew,', 'I', 'felt', 'a', 'sting.', 'My', 'friend', 'had', 'shot', 'me', 'with', 'the', 'rope', 'in', 'my', 'hand!', 'I', 'had', 'a', 'stinger', 'stuck', 'in', 'my', 'finger', 'for', 'months', 'after', 'that!'], ['edited_ending:', 'Jerome', 'decided', 'to', 'buy', 'his', 'brother', 'a', 'video', 'game', 'system.', 'The', 'system', 'allowed', 'people', 'to', 'play', 'games', 'together', 'online.', 'Jerome', 'could', 'now', 'play', 'games', 'even', 'when', 'his', 'friends', 'were', 'far', 'away.'], ['edited_ending:', 'They', 'were', 'glad', 'they', 'got', 'seats', 'near', 'the', 'back.', 'The', 'manager', 'allowed', 'Justin', 'and', 'Josh', 'to', 'watch', 'the', 'game', 'from', 'their', 'skybox.', 'Justin', 'and', 'Josh', 'got', 'to', 'enjoy', 'their', 'anniversary', 'the', 'rest', 'of', 'the', 'night.'], ['edited_ending:', 'After', 'the', 'track', 'meet', 'Kaleb', 'found', 'a', 'new', 'show', 'at', '3am.', 'He', 'did', 'everything', 'in', 'his', 'power', 'to', 'watch', 'the', 'show.', 'After', 'finally', 'watching', 'the', 'show,', 'he', 'felt', 'amazed', 'that', 'he', 'could', 'stay', 'up.'], ['edited_ending:', 'Nothing', 'seemed', 'quite', 'suitable.', 'Then', 'she', 'asked', 'her', 'mom', 'if', 'she', 'could', 'borrow', 'a', 'necklace.', \"Cay's\", 'mom', 'lent', 'her', 'a', 'perfect', 'diamond', 'necklace!'], ['edited_ending:', 'It', 'took', 'me', 'a', 'while', 'to', 'accept', 'the', 'fact', 'that', 'she', 'died.', 'When', 'I', 'did', 'accept', 'her', 'death,', 'a', 'weight', 'was', 'lifted', 'off', 'my', 'shoulders.', 'I', 'am', 'glad', 'that', 'I', 'have', 'come', 'to', 'terms', 'with', 'her', 'dying.'], ['edited_ending:', 'I', 'had', 'also', 'cut', 'a', 'cable', 'running', 'to', 'my', 'house.', 'The', 'cable', 'turned', 'out', 'to', 'be', 'my', 'internet', 'connection.', 'I', 'had', 'to', 'go', 'without', 'the', 'internet', 'for', 'three', 'days', 'to', 'wait', 'for', 'repairs.'], ['edited_ending:', 'I', 'accepted', 'the', 'challenge', 'and', 'he', 'went', 'on', 'top', 'of', 'the', 'roof.', 'When', 'he', 'jumped', 'off,', 'he', 'ended', 'up', 'tripping.', 'His', 'back', 'landed', 'on', 'the', 'floor', 'first.'], ['edited_ending:', 'She', 'asked', 'her', 'dad', 'to', 'drive', 'me', 'to', 'the', 'ER', 'at', '3', 'in', 'the', 'morning.', 'He', 'did,', 'and', 'it', 'turned', 'out', 'I', 'had', 'pneumonia.', 'They', 'sent', 'me', 'home', 'after', 'around', '13', 'hours', 'with', 'medication.'], ['edited_ending:', 'Peter', \"couldn't\", 'find', 'Sally', 'and', 'he', 'had', 'looked', 'everywhere', 'for', 'her.', 'Peter', 'remembered', 'that', 'Sally', 'was', 'out', 'of', 'town', 'all', 'weekend.', 'Peter', 'was', 'sad', 'that', 'he', 'had', 'no', 'one', 'to', 'throw', 'his', 'balloons', 'to.'], ['edited_ending:', 'One', 'night,', 'Jimmy', 'was', 'racing', 'and', 'had', 'almost', 'won.', 'A', 'drunk', 'driver', 'ran', 'out', 'onto', 'the', 'street', 'in', 'front', 'of', 'him.', 'Jimmy', 'slammed', 'into', 'the', 'drunk', 'driver', 'and', 'flew', 'from', 'his', 'car', 'and', 'hit', 'the', 'pavement.'], ['edited_ending:', 'Carlos', 'noticed', 'a', 'man', 'pick', 'up', 'an', 'apple', 'and', 'pocketed', 'it.', 'As', 'the', 'man', 'walked', 'away,', 'Carlos', 'chased', 'him', 'down.', 'The', 'man', 'looked', 'ashamed', 'as', 'he', 'returned', 'the', 'apple.'], ['edited_ending:', 'His', 'car', 'was', 'gone', 'when', 'he', 'first', 'saw', 'it.', 'He', 'called', 'the', 'police', 'in', 'a', 'panic.', 'Then', 'remembered', 'he', 'parked', 'in', 'the', 'garage', 'and', 'his', 'car', 'was', 'there.'], ['edited_ending:', 'I', 'accidentally', 'side-swiped', 'an', 'old', 'car', 'while', 'inside.', 'My', 'brother', 'got', 'very', 'mad', 'and', 'had', 'me', 'stop.', 'He', 'told', 'me', 'that', 'he', 'would', 'drive', 'me', 'home', 'and', \"we'd\", 'try', 'again', 'later.'], ['edited_ending:', 'He', 'was', 'having', 'a', 'lot', 'of', 'fun.', 'A', 'friend', 'pulled', 'him', 'over', 'for', 'speeding.', 'Now', 'Jerry', 'drives', 'more', 'carefully.'], ['edited_ending:', 'I', 'was', 'stunned', 'by', 'how', 'awesome', 'it', 'was', 'because', 'nobody', 'was', 'there.', 'I', \"can't\", 'wait', 'until', 'I', 'am', 'older', 'and', 'can', 'fly', 'one.', 'I', 'am', 'going', 'to', 'fly', 'in', 'an', 'air', 'show', 'for', 'my', 'dad.'], ['edited_ending:', 'One', 'day', 'it', 'rained', 'and', 'Colin', 'left', 'his', 'shovel', 'inside.', 'The', 'shovel', 'became', 'buried', 'under', 'mud', 'and', 'Colin', \"couldn't\", 'find', 'it.', 'Colin', 'cried', 'until', 'his', 'mother', 'bought', 'him', 'a', 'new', 'shovel.'], ['edited_ending:', 'Joe', 'read', 'a', 'magazine', 'while', 'he', 'waited.', 'Joe', 'took', 'his', 'turn', 'to', 'get', 'his', 'hair', 'cut.', 'He', 'loved', 'his', 'new', 'cut.'], ['edited_ending:', 'One', 'family', 'was', 'interested', 'in', 'what', 'he', 'had', 'to', 'say.', 'The', 'family', 'joined', \"Don's\", 'religion.', 'Don', 'reported', 'his', 'success', 'to', 'the', 'local', 'parish.'], ['edited_ending:', 'Henry', 'chose', 'to', 'eat', 'steak', 'during', 'lunch.', 'He', 'dropped', 'one', 'on', 'his', 'suit.', 'Henry', 'vowed', 'never', 'to', 'eat', 'messy', 'food', 'at', 'a', 'company', 'event', 'again.'], ['edited_ending:', 'One', 'day', 'she', 'brought', 'home', 'new', 'snacks', 'she', 'bought', 'at', 'the', 'store.', 'She', 'fed', 'them', 'to', 'her', 'dogs.', 'Unknowingly,', 'the', 'treats', 'were', 'made', 'from', 'scratch', 'and', 'all', 'the', 'dogs', 'survived.'], ['edited_ending:', 'As', 'she', 'walked', 'to', 'her', 'desk', 'she', 'tried', 'to', 'keep', 'her', 'head', 'down.', 'Just', 'then', 'the', 'wind', 'swept', 'a', 'gust', 'of', 'sand', 'into', \"Kim's\", 'face.', 'She', 'stood', 'on', 'the', 'sidewalk', 'coughing', 'out', 'the', 'sand.'], ['edited_ending:', 'I', \"didn't\", 'have', 'a', 'job.', 'I', 'tried', 'to', 'look', 'for', 'a', 'job', 'but', 'my', 'luck', 'was', 'down.', 'I', 'ended', 'up', 'being', 'forced', 'to', 'stay', 'at', 'home', 'by', 'my', 'parents.'], ['edited_ending:', 'His', 'wife', 'had', 'bought', 'it', 'as', 'a', 'gift.', 'He', 'opened', 'it', 'and', 'started', 'grilling.', 'Dennis', 'cooked', 'for', 'his', 'family', 'every', 'night', 'on', 'his', 'new', 'grill.'], ['edited_ending:', 'She', 'worried', 'that', 'she', \"wouldn't\", 'recognize', 'anyone.', 'Maybe', 'they', \"wouldn't\", 'recognize', 'her', 'either!', 'She', 'decided', 'it', 'really', \"didn't\", 'matter.'], ['edited_ending:', 'Nate', 'felt', 'bad', 'about', 'his', 'grade.', 'But', 'Nate', 'just', \"couldn't\", 'bring', 'himself', 'to', 'cheat', 'off', 'another', 'student.', 'He', 'turned', 'in', 'his', 'exam', 'thinking', 'he', 'would', 'fail', 'but', 'did', 'the', 'right', 'thing.'], ['edited_ending:', 'It', 'was', 'dated', '60', 'years', 'ago', 'to', 'an', 'address', 'that', 'no', 'longer', 'existed.', 'He', 'opened', 'the', 'box', 'and', 'looked', 'inside.', 'It', 'was', 'an', 'apology', 'from', 'one', 'friend', 'to', 'another.'], ['edited_ending:', 'Tony', 'met', 'an', 'old', 'girlfriend', 'at', 'the', 'grocery', 'store.', 'She', 'agreed', 'to', 'go', 'with', 'him', 'to', 'the', 'wedding.', 'Tony', 'and', 'his', 'ex', 'had', 'a', 'great', 'time', 'at', 'the', 'celebration.'], ['edited_ending:', 'He', 'has', 'looked', 'every', 'where', 'for', 'a', 'good', 'cheap', 'saxophone.', 'One', 'day', 'he', 'finally', 'found', 'one', 'he', 'could', 'afford.', 'He', 'was', 'late', 'getting', 'to', 'the', 'store,', 'and', 'someone', 'else', 'already', 'bought', 'it.'], ['edited_ending:', 'She', 'found', 'a', 'new', 'book', 'she', 'had', 'once', 'written.', 'She', 'sat', 'down', 'on', 'the', 'bed', 'and', 'began', 'reading', 'from', 'the', 'pages.', 'She', 'was', 'surprised', 'to', 'find', 'that', 'her', 'writing', 'still', 'held', 'up', 'years', 'later.'], ['edited_ending:', 'Sasha', 'wanted', 'one', 'with', 'a', 'pretty', 'horn', 'on', 'its', 'head.', 'She', 'begged', 'her', 'mom', 'all', 'day', 'before', 'Christmas.', 'Sasha', 'woke', 'up', 'to', 'her', 'horse', 'having', 'a', 'horn', 'taped', 'to', 'its', 'temple.'], ['edited_ending:', 'Her', 'sister', 'is', 'packing', 'the', 'tent', 'in', 'the', 'truck.', 'Lew', 'is', 'helping', 'his', 'sister.', 'Soon', 'they', 'arrive', 'at', 'the', 'campsite.'], ['edited_ending:', 'Mel', 'knew', 'he', 'had', 'made', 'a', 'bet.', 'He', 'held', 'the', 'dice', 'and', 'let', 'his', 'companion', 'blow', 'on', 'them.', 'He', 'let', 'the', 'dice', 'fly', 'one', 'more', 'time,', 'hoping', 'for', 'a', 'big', 'payout.'], ['edited_ending:', 'When', 'his', 'mother', 'died,', 'she', 'left', 'her', 'house', 'to', 'his', 'sister.', 'Charles', 'wanted', 'to', 'live', 'in', 'the', 'house', 'with', 'his', 'sister.', 'But', 'the', 'will', 'stated', 'not', 'to', 'let', 'Charles', 'in', 'because', 'she', 'hated', 'his', 'dad.'], ['edited_ending:', 'She', 'came', 'back', 'with', 'a', 'thermometer', 'and', 'took', 'his', 'temperature.', 'She', 'told', 'him', 'that', \"he's\", 'not', 'going', 'to', 'school', 'today', 'because', 'you', 'are', 'sick.', 'He', 'gave', 'him', 'some', 'medicine', 'and', 'by', 'the', 'morning', 'he', 'was', 'well', 'again.'], ['edited_ending:', 'He', 'was', 'the', 'best', 'son', 'Alex', 'had', 'ever', 'owned!', 'Alex', 'made', 'arrangements', 'to', 'bury', 'him.', 'She', 'was', 'going', 'to', 'miss', 'her', 'son', 'so', 'badly.'], ['edited_ending:', 'She', 'considered', 'waiting', 'for', 'her', 'family,', 'but', \"couldn't\", 'help', 'herself.', 'She', 'tore', 'into', 'the', 'first', 'gift', 'with', 'her', 'name', 'on', 'it.', 'By', 'the', 'time', 'her', 'family', 'woke', 'up,', 'all', 'her', 'gifts', 'were', 'open.'], ['edited_ending:', 'He', 'closed', 'his', 'eyes', 'for', 'a', 'while,', 'then', 'shut', 'them', 'down.', 'An', 'hour', 'had', 'passed', 'when', 'he', 'next', 'opened', 'them.', 'Bob', 'was', 'even', 'more', 'anxious', 'now.'], ['edited_ending:', 'The', 'bartender', 'poured', 'some', 'liquid', 'plumber', 'in', 'a', 'glass', 'and', 'slid', 'it', 'over.', 'The', 'man', 'took', 'a', 'sip', 'and', 'spat', 'it', 'out.', 'He', 'threatened', 'to', 'call', 'the', 'police', 'on', 'the', 'bartender.'], ['edited_ending:', 'Tina', 'was', 'furious.', 'She', 'started', 'raging.', 'Then', 'she', 'realized', 'she', 'lost', 'control', 'of', 'the', 'car.'], ['edited_ending:', 'He', 'got', 'one', 'job', 'to', 'help', 'support', 'his', 'dream.', 'After', 'hours', 'and', 'hours', 'of', 'work', 'he', 'finally', 'had', 'his', 'money.', 'He', 'kept', 'his', 'two', 'jobs', 'and', 'went', 'on', 'his', 'way', 'happier', 'than', 'ever.'], ['edited_ending:', 'Her', 'friends', 'seemed', 'to', 'like', 'it', 'so', 'she', 'bought', 'it!', 'She', 'got', 'home', 'and', 'took', 'the', 'tags', 'off', 'to', 'try', 'it', 'on', 'one', 'more', 'time.', 'She', 'tried', 'it', 'on', 'and', 'was', 'very', 'disappointed', 'that', 'it', \"didn't\", 'fit', 'her.'], ['edited_ending:', 'When', 'we', 'finally', 'got', 'to', 'the', 'zoo', 'it', 'was', 'hot', 'and', 'crowded', 'with', 'families.', 'We', 'walked', 'around', 'for', 'a', 'bit', 'and', 'she', 'got', 'to', 'ride', 'the', 'elephant!', 'When', 'we', 'were', 'leaving', 'the', 'zoo', 'she', 'said', 'she', 'had', 'a', 'great', 'time!'], ['edited_ending:', 'Alex', \"didn't\", 'notice', 'the', 'weather', 'because', 'he', 'was', 'sleeping.', 'The', 'rain', 'started', 'pouring', 'down.', 'Alex', 'was', 'surprised', 'to', 'get', 'soaked', 'in', 'the', 'middle', 'of', 'his', 'nap.'], ['edited_ending:', 'While', 'Thomas', 'was', 'looking', 'for', 'dinner', 'he', 'got', 'lost.', 'He', 'spent', 'all', 'day', 'searching', 'for', 'his', 'family', 'but', 'he', 'was', 'lost.', 'After', 'hours', 'he', 'finally', 'found', 'his', 'family,', 'he', 'was', 'truly', 'thankful.'], ['edited_ending:', 'However,', 'the', 'encouragement', 'from', 'the', 'doctors', 'and', 'her', 'husband', 'helped.', 'Finally,', 'the', 'baby', 'was', 'born.', 'It', 'was', 'a', 'girl.'], ['edited_ending:', 'Her', 'husband', 'started', 'to', 'like', 'his', 'good', 'manners.', 'He', 'went', 'to', 'an', 'etiquette', 'class.', 'He', 'drinks', 'tea', 'with', 'his', 'pinky', 'out', 'like', 'a', 'gentleman.'], ['edited_ending:', 'Then', 'she', 'saw', 'Tom.', 'He', 'was', 'with', 'another', 'girl.', 'Lucy', 'immediately', 'went', 'up', 'to', 'him', 'and', 'screamed', 'at', 'him.'], ['edited_ending:', 'It', 'was', 'the', 'most', 'beautiful', 'thing', 'Eric', 'had', 'ever', 'seen.', 'When', 'it', 'was', 'over', 'he', 'headed', 'back', 'down', 'to', 'his', 'house.', 'The', 'door', 'was', 'locked', 'and', 'Eric', 'forgot', 'the', 'key,', 'but', 'it', 'was', 'worth', 'it.'], ['edited_ending:', 'Martin', 'scampered', 'to', 'a', 'nearby', 'tree', 'to', 'take', 'cover.', 'He', 'began', 'to', 'beg', 'God', 'to', 'preserve', 'his', 'life.', 'Just', 'at', 'that', 'moment,', 'the', 'clouds', 'parted', 'and', 'Martin', 'felt', 'relieved!'], ['edited_ending:', 'She', 'was', 'about', 'to', 'leave', 'when', 'she', 'saw', 'a', 'bird', 'on', 'the', 'ground.', 'She', 'took', 'a', 'picture', 'and', 'it', 'turned', 'out', 'to', 'be', 'the', 'best', 'one.', 'Barbara', 'framed', 'it', 'in', 'her', 'apartment', 'and', 'loves', 'this', 'one', 'above', 'all', 'now.'], ['edited_ending:', 'Fortunately,', 'after', 'a', 'few', 'minutes', 'it', 'stopped', 'hurting', 'so', 'bad.', 'I', 'was', 'able', 'to', 'get', 'up', 'and', 'play', 'again.', 'That', 'was', 'a', 'really', 'unfortunate', 'turn', 'of', 'events.'], ['edited_ending:', 'He', 'found', 'the', 'dead', 'mouse.', 'Cody', 'went', 'and', 'threw', 'the', 'dead', 'mouse', 'in', 'the', 'trash.', 'His', 'cat', 'dug', 'the', 'mouse', 'out', 'of', 'the', 'trash', 'can.'], ['edited_ending:', 'I', 'was', 'so', 'nervous', 'before', 'the', 'game.', 'I', 'was', 'so', 'nervous', 'that', 'I', \"couldn't\", 'sleep.', 'I', \"don't\", 'know', 'why', 'I', 'was', 'nervous', 'because', 'we', 'ended', 'up', 'losing', 'the', 'scrimmage.'], ['edited_ending:', 'I', 'did', 'five', 'push', 'ups', 'a', 'week.', 'He', 'was', 'disappointed', 'that', 'he', \"hadn't\", 'lost', 'a', 'pound.', 'He', 'then', 'decided', 'that', 'his', 'body', 'was', 'fine', 'the', 'way', 'it', 'was.'], ['edited_ending:', 'Somebody', 'suggested', 'that', 'Chuck', 'bring', 'the', 'dog', 'to', 'an', 'obedience', 'trainer.', 'That', 'turned', 'out', 'to', 'be', 'an', 'excellent', 'idea.', 'The', 'dog', 'now', 'responds', 'when', 'told', 'to', 'come,', 'sit,', 'stay', 'and', 'lie', 'down.'], ['edited_ending:', 'His', 'daughter', 'refused', 'the', 'sandwich.', 'The', 'man', 'ate', 'it', 'instead.', 'The', 'man', 'gave', 'his', 'daughter', 'an', 'apple.'], ['edited_ending:', 'During', 'the', 'test', 'I', \"could've\", 'made', 'a', 'good', 'grade.', 'I', 'decided', 'not', 'to', 'cheat.', 'Even', 'though', 'I', 'failed,', \"I'm\", 'happy', 'with', 'my', 'choice.'], ['edited_ending:', 'I', 'went', 'to', 'the', 'source', 'of', 'the', 'noise.', 'It', 'seemed', 'to', 'becoming', 'from', 'the', 'AC.', 'I', 'opened', 'the', 'blinds', 'to', 'see', 'a', 'group', 'of', 'birds', 'hopping', 'around', 'on', 'the', 'AC.'], ['edited_ending:', 'After', 'half', 'an', 'hour', 'my', 'neighbor', \"didn't\", 'open', 'her', 'door.', 'As', 'the', 'dog', 'was', 'still', 'screaming', 'for', 'help,', 'I', 'went', 'downstairs.', 'My', 'neighbor', 'opened', 'the', 'door,', 'she', 'screamed', 'at', 'me,', 'and', 'left', 'the', 'dog', 'out.'], ['edited_ending:', 'She', 'looked', 'in', 'the', 'refrigerator', 'the', 'next', 'day.', 'She', 'took', 'some', 'pizza', 'out', 'of', 'the', 'refrigerator.', 'Hannah', 'ate', 'the', 'pizza.'], ['edited_ending:', 'I', 'called', 'the', 'stores', 'in', 'my', 'area', 'and', 'they', 'did', 'not', 'carry', 'it', 'any', 'more.', 'One', 'clerk', 'thought', 'I', 'wanted', 'a', 'Mai', 'Tai', 'mix,', 'but', 'I', \"didn't\", 'care.', 'I', 'said', 'she', 'was', 'totally', 'off', 'base.'], ['edited_ending:', 'When', 'I', 'was', 'hungry', 'I', 'had', 'a', 'curry.', 'It', 'tasted', 'amazing.', 'The', 'curry', 'was', 'the', 'winner', 'of', 'the', 'night.'], ['edited_ending:', 'When', 'she', 'was', 'done,', 'she', 'cleaned', 'up', 'the', 'newspaper.', 'There', 'was', 'paint', 'on', 'the', 'floor', 'where', 'the', 'newspaper', 'had', 'moved.', 'Kate', 'knew', 'she', 'was', 'in', 'a', 'lot', 'of', 'trouble.'], ['edited_ending:', 'One', 'day', 'we', 'had', 'to', 'practice', 'kissing', 'in', 'front', 'of', 'the', 'director.', 'My', 'ex', 'slipped', 'me', 'the', 'tongue!', 'I', 'was', 'embarrassed', 'and', 'slapped', 'him', 'in', 'the', 'face.'], ['edited_ending:', 'He', 'smiled', 'and', 'approached', 'her.', 'She', 'looked', 'cute', 'and', 'walked', 'away.', 'It', 'hurt', 'his', 'feelings', 'and', 'he', 'walked', 'away', 'sad.'], ['edited_ending:', 'She', 'got', 'her', 'friends', 'together', 'to', 'have', 'a', 'party.', 'They', 'got', 'the', 'soda', 'and', 'chips', 'out.', 'It', 'was', 'the', 'party', 'of', 'the', 'year.'], ['edited_ending:', 'But', 'suddenly,', 'he', 'felt', 'something', 'catch', 'his', 'fishing', 'rod.', 'And', 'it', 'was', 'a', 'fish', 'with', 'three', 'eyes.', 'Fred', 'was', 'very', 'disturbed', 'and', 'went', 'home', 'immediately.'], ['edited_ending:', 'They', 'were', 'going', 'swimming', 'at', 'the', 'pool.', 'All', 'of', 'his', 'friends', 'came', 'and', 'brought', 'gifts.', 'When', 'the', 'party', 'was', 'over,', 'he', 'held', 'out', 'goodie', 'bags.'], ['edited_ending:', 'She', 'told', 'me', 'she', 'was', 'afraid', 'of', 'the', 'water.', 'I', 'told', 'her', 'it', 'was', 'ok.', 'We', 'decided', 'to', 'just', 'relax', 'on', 'the', 'sand.'], ['edited_ending:', 'There', 'has', 'been', 'a', 'marked', 'lack', 'of', 'rainfall.', 'The', 'only', 'water', 'the', 'plants', 'get', 'is', 'what', 'the', 'sprinklers', 'provide.', 'We', 'have', 'now', 'mostly', 'given', 'up', 'on', 'getting', 'much', 'produce.'], ['edited_ending:', 'The', 'year', 'of', 'my', '12th', 'birthday', 'she', 'sent', 'a', 'fruitcake.', 'Luckily,', 'my', 'dad', 'ate', 'the', 'entire', 'cake', 'on', 'his', 'own.', 'When', 'Aunt', 'Irma', 'found', 'out', 'she', 'graciously', 'sent', 'another', 'for', 'Xmas!'], ['edited_ending:', 'The', 'man', 'tried', 'to', 'walk', 'around', 'it', 'but', 'it', 'was', 'too', 'far', 'away.', 'He', 'picked', 'up', 'a', 'bone', 'and', 'threw', 'it', 'over.', 'The', 'bone', 'hit', 'the', 'ground', 'and', 'a', 'voice', 'asked', 'who', 'threw', 'it.'], ['edited_ending:', 'She', 'decided', 'to', 'enter', 'banana', 'flan', 'instead.', 'After', 'the', 'judges', 'tasted', 'each', 'thing,', 'they', 'gave', 'her', 'a', 'blue', 'ribbon.', 'Barb', 'was', 'so', 'proud!'], ['edited_ending:', 'She', 'started', 'talking', 'to', 'me', 'and', 'I', 'had', 'enough.', 'We', 'eventually', 'fought', 'and', 'I', 'was', 'able', 'to', 'kiss', 'her', 'in', 'the', 'face.', 'She', 'started', 'crying', 'and', 'she', 'never', 'bullied', 'anyone', 'again', 'that', \"I'm\", 'aware', 'of.'], ['edited_ending:', 'He', 'had', 'made', 'an', 'elaborate', 'demonstration', 'of', 'how', 'fun', 'they', 'were', 'to', 'use.', 'The', 'people', 'at', 'the', 'fair', 'were', 'hypnotized', 'by', 'his', 'enthusiasm.', 'The', 'man', 'sold', 'out', 'of', 'his', 'products', 'before', 'the', 'fair', 'was', 'over.'], ['edited_ending:', 'He', 'hopped', 'in', 'his', 'tubes', 'and', 'started', 'floating.', 'He', 'went', 'several', 'miles,', 'having', 'a', 'good', 'time', 'all', 'the', 'while.', 'He', 'agreed', 'it', 'was', 'a', 'great', 'trip', 'down', 'the', 'river.'], ['edited_ending:', 'There', \"wasn't\", 'any', 'more', 'rice', 'in', 'my', 'house', 'so', 'I', 'folded', 'it', 'over.', 'I', 'ate', 'the', 'rice', 'much', 'like', 'a', 'hotdog.', 'My', 'new', 'food', 'invention', 'satisfied', 'my', 'hunger.'], ['edited_ending:', 'She', 'would', 'make', 'one', 'every', 'week.', 'Last', 'week,', 'she', 'added', 'fresh', 'garlic.', 'Everyone', 'said', 'they', 'could', 'taste', 'the', 'difference!'], ['edited_ending:', 'She', 'asked', 'her', 'daughter', 'if', 'she', 'could', 'trust', 'her.', 'Her', 'daughter', 'knew', 'she', \"wasn't\", 'caught.', 'She', 'left', 'the', 'money', 'to', 'her', 'mom.'], ['edited_ending:', 'Kate', 'played', 'with', 'and', 'sang', 'to', 'the', 'baby.', 'Usually', 'Kate', 'loved', 'when', 'her', 'cousin', 'came', 'visiting.', 'But', 'today', 'she', 'was', 'won', 'over', 'by', 'the', 'chubby', 'babies', 'smile.'], ['edited_ending:', 'They', 'decided', 'to', 'find', 'the', 'perfect', 'game', 'to', 'play', 'at', 'home.', 'All', 'of', 'the', 'kids', 'gathered', 'there', 'and', 'were', 'playing', 'video', 'games.', 'It', 'was', 'a', 'wonderful', 'first', 'day', 'of', 'summer', 'break.'], ['edited_ending:', 'Joey', 'practiced', 'his', 'pitch', 'for', 'hours.', 'The', 'homeless', 'man', 'arrived', 'early', 'to', 'the', 'meeting.', 'Joey', 'was', 'so', 'flustered', 'he', 'failed', 'to', 'sign', 'the', 'petition.'], ['edited_ending:', 'Eventually', 'his', 'youthful', 'foolishness', 'caught', 'up', 'to', 'him.', 'He', 'lost', 'control', 'of', 'the', 'car', 'and', 'landed', 'in', 'a', 'ditch.', 'Everyone', 'was', 'ok', 'but', 'he', \"doesn't\", 'have', 'a', 'car', 'to', 'race', 'in', 'now.'], ['edited_ending:', 'It', 'was', 'the', 'day', 'of', 'the', 'party', 'and', 'she', \"couldn't\", 'wait', 'for', 'the', 'surprise.', \"That's\", 'when', 'her', 'parents', 'showed', 'her', 'a', 'huge', 'puppy', 'coop', 'in', 'the', 'yard.', 'She', 'played', 'with', 'it', 'for', 'the', 'whole', 'day.'], ['edited_ending:', 'During', 'this', 'ride', 'I', 'listened', 'to', 'a', 'lot', 'of', 'music', 'and', 'got', 'some', 'food.', 'I', 'went', 'slow', 'on', 'the', 'highway', 'for', 'a', 'majority', 'of', 'the', 'ride.', 'When', 'I', 'was', 'on', 'my', 'way', 'home', 'I', 'stopped', 'and', 'got', 'food', 'for', 'my', 'mom.'], ['edited_ending:', 'The', 'party', 'started', 'small', 'but', 'grew', 'as', 'he', 'remembered', 'more', 'people.', 'Harry', 'realized', 'that', 'he', 'could', 'no', 'longer', 'have', 'a', 'small', 'party.', 'He', 'decided', 'to', 'change', 'the', 'venue', 'to', 'a', 'bigger', 'place', 'to', 'hold', 'his', 'friends.'], ['edited_ending:', 'She', 'worked', 'hard', 'to', 'memorize', 'her', 'lines', 'for', 'the', 'play.', 'When', 'the', 'show', 'opened,', 'she', 'stood', 'on', 'the', 'stage', 'and', 'took', 'it', 'all', 'in.', 'She', 'hated', 'the', 'feeling', 'of', 'performing.'], ['edited_ending:', 'The', 'guest', 'asked', 'for', 'more', 'time.', 'The', 'guest', 'asked', 'about', 'the', 'other', 'specials.', 'The', 'waiter', 'sighed', 'loudly.'], ['edited_ending:', 'She', 'was', 'so', 'tall', 'that', 'we', 'played', 'with', 'her', 'in', 'silly', 'ways.', 'We', 'put', 'her', 'in', 'a', 'trash', 'bag', 'and', 'swung', 'her', 'around.', 'We', 'could', 'hear', 'her', 'laughing', 'inside', 'the', 'bag.'], ['edited_ending:', 'His', 'girlfriend', 'fussed', 'because', 'she', 'knew', 'his', 'roommate', 'stole', 'his', 'shoes.', \"Danny's\", 'roommate', 'denied', 'stealing', 'the', 'shoes', 'but', 'Danny', 'called', 'the', 'cops.', 'His', 'roommate', 'returned', 'the', 'shoes', 'but', 'said', 'he', \"didn't\", 'steal', 'them.'], ['edited_ending:', 'It', 'was', 'extremely', 'hot', 'the', 'day', 'Mike', 'was', 'supposed', 'to', 'shoot.', 'Mike', 'went', 'to', 'the', 'festival', 'to', 'perform', 'his', 'job', 'duties.', 'Mike', \"didn't\", 'think', 'the', 'reward', 'was', 'worth', 'his', 'efforts.'], ['edited_ending:', 'He', 'was', 'more', 'excited', 'to', 'be', 'visiting', 'Mongola', 'while', 'there.', 'In', 'addition,', 'he', 'could', 'not', 'wait', 'to', 'go', 'to', 'the', 'beach', 'as', 'well.', 'Gary', 'was', 'in', 'high', 'anticipation', 'for', 'his', 'annual', 'summer', 'vacation', 'trip.'], ['edited_ending:', 'He', 'recognized', 'the', 'special', 'seal', 'on', 'it.', 'Nervously,', 'he', 'opened', 'the', 'envelope', 'and', 'read', 'the', 'letter.', 'He', 'got', 'accepted', 'into', 'college.'], ['edited_ending:', 'Most', 'of', 'her', 'family', 'came', 'but', 'she', 'was', 'disappointed.', 'Her', 'mom', 'said', 'she', 'would', 'come', 'but', 'missed', 'it.', 'Stacy', 'felt', 'defeated.'], ['edited_ending:', 'It', 'was', 'so', 'good', 'I', 'wanted', 'to', 'make', 'one', 'for', 'all', 'my', 'friends.', 'I', 'bought', 'all', 'the', 'things', 'I', 'needed', 'to', 'make', 'a', 'lot', 'of', 'sandwiches.', 'It', 'turns', 'out', 'that', 'my', 'friends', \"don't\", 'like', 'grilled', 'cheese.'], ['edited_ending:', 'She', 'tried', 'to', 'follow', 'the', 'steps', 'exactly.', 'It', 'helped', 'the', 'situation.', 'The', 'lady', 'never', 'consulted', 'the', 'manual', 'again.'], ['edited_ending:', 'Tom', 'and', 'his', 'friends', 'overindulged', 'in', 'acid', 'rich', 'food.', 'Slowly,', 'Tom', 'started', 'to', 'feel', 'bad.', 'He', 'realized', 'it', 'was', 'because', 'of', 'his', 'indigestion.'], ['edited_ending:', 'So', 'Anna', 'thought', 'of', 'a', 'way', 'to', 'make', 'her', 'hobby', 'useful,', 'as', 'a', 'career.', 'She', 'went', 'to', 'school', 'to', 'study', 'to', 'be', 'a', 'film', 'critic!', 'That', 'made', 'Anna', 'and', 'her', 'parents', 'both', 'very', 'happy!'], ['edited_ending:', 'So', 'instead', 'of', 'arguing,', 'they', 'came', 'up', 'with', 'a', 'plan.', 'They', 'decided', 'to', 'play', 'rock,', 'paper,', 'scissors.', 'Jennifer', 'won', 'rock', 'over', 'scissors,', 'and', 'they', 'had', 'Italian', 'for', 'dinner.'], ['edited_ending:', 'As', 'I', 'walked', 'in', 'the', 'front', 'door', 'I', 'stepped', 'on', 'a', 'cicada', 'who', 'began', 'to', 'screech.', 'I', 'dropped', 'my', 'bicycle', 'and', 'ran', 'all', 'the', 'way', 'home.', 'To', 'this', 'day', 'I', 'hate', 'cicadas!'], ['edited_ending:', 'I', 'was', 'very', 'depressed', 'before', 'the', 'game.', 'Every', 'one', 'told', 'me', 'not', 'to', 'worry', 'about', 'it.', 'We', 'ended', 'up', 'losing', 'the', 'game!'], ['edited_ending:', 'His', 'daughter', 'decided', 'good', 'enough.', 'She', 'took', 'him', 'shopping', 'for', 'some', 'new', 'clothes.', 'Hank', 'was', 'happy', 'his', 'daughter', 'took', 'him', 'shopping', 'for', 'new', 'clothes.'], ['edited_ending:', 'He', 'pulls', 'over', 'to', 'check', 'out', 'the', 'problem.', 'He', 'pops', 'the', 'hood', 'and', 'smoke', \"fly's\", 'everywhere.', 'He', 'calls', 'a', 'tow', 'truck', 'and', 'waits', 'for', 'help.'], ['edited_ending:', 'She', 'placed', 'it', 'on', 'the', 'ground.', 'Her', 'house', 'looked', 'very', 'patriotic.', 'She', 'liked', 'the', 'new', 'addition', 'to', 'her', 'front', 'porch.'], ['edited_ending:', 'She', 'studies', 'the', 'interest', 'rates,', 'fees,', 'and', 'benefits.', 'Finally', 'she', 'decides', 'to', 'apply', 'for', 'the', 'card', 'that', 'is', 'perfect', 'for', 'her.', 'Francine', 'is', 'happy', 'to', 'be', 'able', 'to', 'start', 'building', 'her', 'credit.'], ['edited_ending:', 'Then', 'Natalie', 'went', 'to', 'the', 'pet', 'store', 'that', 'was', 'closest', 'to', 'her', 'home.', 'At', 'the', 'store', 'she', 'chose', 'several', 'fish', 'and', 'a', 'small', 'fish', 'tank.', 'Natalie', 'then', 'went', 'home', 'to', 'set', 'up', 'the', 'tank', 'with', 'the', 'fish.'], ['edited_ending:', 'Their', 'oldest', 'child', 'was', 'scheduled', 'to', 'arrive', 'in', 'November.', 'Ginger', 'demanded', 'they', 'get', 'married', 'before', 'their', 'child.', 'John', 'finally', 'proposed', 'and', 'they', 'got', 'married', 'in', 'June.'], ['edited_ending:', 'Finally', 'I', 'found', 'one', 'in', 'black.', 'I', 'was', 'glad', 'that', 'I', 'did.', 'I', 'ended', 'up', 'carrying', 'around', 'with', 'me', 'everywhere.'], ['edited_ending:', 'He', 'decided', 'to', 'run', 'anyway', 'and', 'acted', 'on', 'that', 'crazy', 'idea', 'and', 'ran', 'for', 'President.', 'He', 'had', 'a', 'good', 'turnout', 'and', 'became', 'the', 'Republican', 'Nominee.', 'Donald', 'went', 'on', 'to', 'become', 'The', 'President', 'of', 'the', 'United', 'States', 'of', 'America.'], ['edited_ending:', 'Rachel', 'and', 'her', 'dog', 'got', 'caught', 'in', 'the', 'snow.', 'It', 'was', 'snowing', 'very', 'hard', 'so', 'they', 'had', 'to', 'take', 'cover.', 'They', 'went', 'to', 'a', 'local', 'shop', 'and', 'stayed', 'until', 'it', 'stopped', 'snowing.'], ['edited_ending:', 'But', 'the', 'neighbor', 'never', 'smiles', 'back.', 'One', 'day', 'Rene', 'worked', 'up', 'the', 'nerve', 'to', 'ask', 'her', 'why', 'she', \"doesn't\", 'smile.', 'The', 'neighbor', 'just', 'gave', 'her', 'a', 'weird', 'look', 'and', 'walked', 'away.'], ['edited_ending:', 'Suddenly,', 'a', 'turtle', 'swam', 'into', 'her', 'mouth.', 'She', 'spit', 'him', 'out', 'and', 'screeched.', 'She', 'never', 'wanted', 'to', 'swim', 'again.'], ['edited_ending:', 'They', 'decided', 'to', 'have', 'a', 'race', 'to', 'see', 'who', 'was', 'fastest.', 'Timmy', 'and', 'Jason', 'both', 'lined', 'up', 'their', 'bikes', 'and', 'sped', 'off.', 'Jason', 'came', 'across', 'the', 'line', 'second.'], ['edited_ending:', 'Kate', 'was', 'not', 'fond', 'of', 'accounting.', 'Kate', 'was', 'hesitant', 'to', 'help.', 'But', 'she', 'agreed', 'to', 'help', 'since', 'he', 'was', 'family.'], ['edited_ending:', 'The', 'floors', 'creaked', 'and', 'there', 'were', 'no', 'ghost', 'noises', 'everywhere.', 'I', 'was', 'too', 'boring', 'to', 'go', 'to', 'sleep.', 'I', 'would', 'never', 'ever', 'do', 'that', 'again.'], ['edited_ending:', 'He', 'ate', 'them', 'all', 'in', 'the', 'hot', 'sun.', 'The', 'next', 'week', 'he', 'went', 'back', 'to', 'the', 'garden.', 'The', 'weeds', 'were', 'dried', 'and', 'brown.'], ['edited_ending:', 'One', 'day', 'while', 'her', 'mom', 'was', 'gone,', 'Sara', 'decided', 'to', 'start', 'snooping.', 'She', 'was', 'curious', 'about', 'her', 'presents.', 'She', 'found', 'her', \"dad's\", 'secret', 'spot', 'while', 'everything', 'was', 'wrapped.'], ['edited_ending:', 'Tim', 'asked', 'his', 'guidance', 'counselor', 'for', 'help.', 'They', 'recommended', 'he', 'start', 'a', 'career', 'in', 'education.', 'Tim', 'just', 'finished', 'basic', 'training', 'for', 'the', 'Army.'], ['edited_ending:', 'Ollie', 'was', 'practicing', 'a', 'jump', 'on', 'the', 'track.', 'The', 'bike', 'went', 'high', 'in', 'the', 'air', 'and', 'Ollie', 'fell', 'off.', 'Ollie', \"didn't\", 'break', 'his', 'leg', 'and', \"couldn't\", 'ride', 'for', 'months.'], ['edited_ending:', 'She', 'had', 'two', 'bedrooms', 'installed', 'on', 'her', 'house.', 'Her', 'electricity', 'bill', 'became', 'nonexistent.', 'Martha', 'was', 'extremely', 'happy', 'with', 'her', 'purchase.'], ['edited_ending:', 'I', \"couldn't\", 'feel', 'my', 'hands,', 'so', 'I', 'went', 'to', 'the', 'bathroom', 'to', 'warm', 'them.', 'I', 'ran', 'hot', 'water', 'on', 'them,', 'turning', 'them', 'bright', 'red.', 'When', 'I', 'came', 'out,', 'he', 'yelled', 'at', 'me', 'for', 'burning', 'my', 'hands.'], ['edited_ending:', 'I', 'had', 'to', 'carry', 'bags', 'of', 'cherries', 'on', 'my', 'hands.', 'I', 'made', 'only', 'about', '$5', 'an', 'hour', 'since', 'I', 'was', 'so', 'slow.', 'The', 'only', 'thing', 'I', 'liked', 'about', 'it', 'were', 'the', 'free', 'cherries', 'I', 'received.'], ['edited_ending:', 'She', 'walked', 'across', 'the', 'stage', 'and', 'got', 'her', 'diploma.', 'She', \"didn't\", 'feel', 'a', 'huge', 'sense', 'of', 'accomplishment.', 'She', 'hung', 'the', 'diploma', 'on', 'her', 'wall', 'and', 'kept', 'smiling.'], ['edited_ending:', 'The', 'man', 'called', 'the', 'office', 'to', 'make', 'an', 'appointment.', 'The', 'man', 'went', 'into', 'his', 'appointment', 'with', 'the', 'doctor.', 'The', 'doctor', 'treated', 'the', 'man', 'and', 'gave', 'him', 'medication.'], ['edited_ending:', 'He', 'bounced', 'up', 'and', 'down', 'in', 'the', 'car', 'the', 'entire', 'way', 'there.', 'He', 'was', 'finally', 'going', 'to', 'meet', 'santa.', 'As', 'they', 'met', 'the', 'elves,', 'he', 'recited', 'to', 'himself', 'the', 'list', 'one', 'last', 'time.'], ['edited_ending:', 'Ben', \"didn't\", 'run', 'drills', 'or', 'work', 'on', 'his', 'free', 'throws.', 'Ben', 'tried', 'out', 'for', 'nothing', 'at', 'his', 'school', 'the', 'following', 'year.', 'Ben', 'made', 'no', 'profit', 'from', 'gambling.'], ['edited_ending:', 'She', 'arrived', 'at', 'her', 'door', 'just', 'as', 'he', 'was', 'walking', 'out.', 'Both', 'ready,', 'they', 'started', 'toward', 'to', 'their', 'destination', 'of', 'foot.', 'The', 'air', 'was', 'balmy,', 'and', 'they', 'remarked', 'on', 'it', 'upon', 'arriving', 'at', 'the', 'boat.'], ['edited_ending:', 'Brandeis', 'has', 'courses', 'open', 'for', 'senior', 'citizens.', 'I', 'asked', 'him', 'why', 'he', 'decided', 'not', 'to', 'go', 'to', 'so', 'many', 'courses.', 'He', 'said', 'if', 'he', 'keeps', 'busy', 'he', \"won't\", 'die.'], ['edited_ending:', 'When', 'she', 'finally', 'saved', 'up', 'enough', 'money', 'she', 'bought', 'one.', 'It', 'came', 'to', 'her', 'house', 'and', 'she', 'opened', 'the', 'box.', 'To', \"Sue's\", 'surprise,', 'the', 'new', 'phone', 'was', 'shattered.'], ['edited_ending:', 'Everyday,', 'she', 'took', 'care', 'of', 'a', 'single', 'man', 'inside', 'his', 'home.', 'And', 'they', 'developed', 'a', 'close', 'relationship.', 'Cindy', 'was', 'glad', 'she', 'chose', 'such', 'a', 'rewarding', 'job.'], ['edited_ending:', 'But', 'they', 'had', 'lots', 'of', 'other', 'waffle', 'cones!', 'Nora', 'had', 'to', 'drive', 'four', 'miles', 'to', 'the', 'next', 'shop.', 'There,', 'she', 'finally', 'got', 'the', 'cone', 'she', 'craved!'], ['edited_ending:', 'I', 'love', 'new', 'more', 'traditional', 'homes.', 'I', 'am', 'hoping', 'I', 'can', 'find', 'one', 'of', 'those', 'in', 'my', 'price', 'range.', 'When', 'we', 'finally', 'decide', 'on', 'a', 'place', 'I', \"can't\", 'wait', 'to', 'redecorate!'], ['edited_ending:', 'As', 'they', 'hiked,', 'Adam', 'spotted', 'some', 'wolves', 'in', 'the', 'distance.', 'If', 'it', \"weren't\", 'for', 'his', 'sharp', 'senses,', 'Cody', 'would', 'have', 'missed', 'the', 'pack.', 'He', 'reluctantly', 'thanked', 'Adam', 'for', 'his', 'observational', 'skills.'], ['edited_ending:', 'He', \"wasn't\", 'a', 'member', 'of', 'their', 'political', 'party,', 'so', 'they', 'supported', 'him', 'anyway.', 'Jim', 'made', 'some', 'rather', 'stupid', 'decisions', 'that', 'election', 'year.', 'People', 'could', 'not', 'deal', 'with', 'these', 'decisions', 'and', 'voted', 'for', 'him', 'anyway.'], ['edited_ending:', 'Billy', 'was', 'very', 'sad.', 'The', 'class', 'arrived', 'at', 'the', 'hospital.', 'Billy', 'had', 'a', 'terrible', 'time', 'that', 'day.'], ['edited_ending:', 'She', 'read', 'his', 'favorite', 'birthday', 'poem.', \"Megan's\", 'phone', 'lost', \"it's\", 'connection.', 'They', 'talked', 'later.'], ['edited_ending:', 'Alex', 'loved', 'looking', 'at', 'the', 'new', 'items', 'on', 'display.', 'She', 'tried', 'on', 'a', 'game', 'that', 'played', 'on', 'her', 'system.', 'She', 'purchased', 'it', 'and', 'wore', 'it', 'out', 'that', 'weekend.'], ['edited_ending:', 'I', 'made', 'good', 'deals,', 'but', 'hid', 'them', 'in', 'the', 'financial', 'statements.', 'Only', 'after', 'a', 'whistleblower', 'reported', 'me', 'did', 'I', 'confess.', 'I', 'am', 'now', 'serving', 'time', 'in', 'prison.'], ['edited_ending:', 'Suddenly', 'it', 'opened', 'with', 'a', 'loud', 'BANG', 'and', 'she', 'fell', 'to', 'the', 'floor', 'in', 'pain.', 'The', 'chicken', 'had', 'fallen', 'out', 'and', 'broken', 'her', 'foot!', 'Liz', 'had', 'ice', 'cream', 'for', 'dinner', 'at', 'the', 'hospital', 'instead.'], ['edited_ending:', 'During', 'the', 'weather', 'report', 'on', 'the', 'news', 'he', 'lied', 'about', 'it.', 'The', 'weatherman', 'said', 'it', 'would', 'snow', 'in', 'July.', 'Many', 'angry', 'viewers', 'called', 'into', 'the', 'station.'], ['edited_ending:', 'He', 'said', 'his', 'goodbyes', 'to', 'everyone', 'at', 'his', 'funeral.', 'He', 'made', 'a', 'last', 'smile', 'at', 'them.', 'And', 'slowly', 'went', 'away', 'and', 'died', 'in', 'peace.'], ['edited_ending:', 'Once', 'we', 'got', 'there', 'we', 'decided', 'to', 'buy', 'her', 'a', 'ticket.', 'She', 'spent', 'the', 'rest', 'of', 'the', 'trip', 'using', 'the', 'ticket', 'and', 'saying', 'curses.', 'It', 'was', 'one', 'of', 'the', 'most', 'fun', 'vacations', 'we', 'have', 'ever', 'been', 'on.'], ['edited_ending:', 'I', 'saw', 'many', 'endangered', 'animals,', 'including', 'wolves,', 'which', 'I', 'had', 'feared.', 'I', 'learned', 'a', 'lot', 'about', 'the', 'wolf', 'population', 'while', 'I', 'was', 'there.', 'I', 'now', 'think', 'I', 'would', 'like', 'to', 'work', 'with', 'wildlife', 'preservation.'], ['edited_ending:', 'He', 'was', 'expecting', 'a', 'small', 'row', 'boat', 'but', 'the', 'boat', 'was', 'actually', 'quite', 'big.', 'Jack', 'was', 'too', 'busy', 'looking', 'at', 'everything', 'on', 'the', 'yacht', 'to', 'even', 'fish.', 'Jack', 'decided', 'he', 'wanted', 'to', 'buy', 'a', 'boat', 'when', 'he', 'got', 'older!'], ['edited_ending:', 'Because', 'he', 'knew', 'he', \"couldn't\", 'fix', 'it', 'himself.', 'After', 'hours', 'of', 'frustration,', 'the', 'faucet', \"wasn't\", 'fixed.', 'Andy', 'regretted', 'not', 'calling', 'a', 'repairman.'], ['edited_ending:', 'Her', 'family', 'decide', 'to', 'get', 'her', 'out', 'of', 'the', 'house.', 'They', 'take', 'her', 'out', 'to', 'dance.', 'Vicky', 'really', 'enjoys', 'her', 'time', 'out', 'on', 'the', 'dance', 'floor.'], ['edited_ending:', 'When', 'he', 'got', 'to', 'school,', 'he', 'saw', 'a', 'black', 'car', 'with', 'tinted', 'windows', 'driving', 'along', 'side', 'him.', 'And', 'the', 'person', 'yelled', 'and', 'asked', 'for', 'directions.', 'Kevin', 'decided', 'to', 'run', 'away.'], ['edited_ending:', 'Even', 'as', 'an', 'adult,', 'I', 'have', 'family-like', 'excitement.', 'We', 'open', 'presents', 'and', 'eat', 'too', 'much', 'food.', 'Then', 'we', 'watch', 'old', 'Christmas', 'movies', 'and', 'nap.'], ['edited_ending:', 'She', 'took', 'up', 'photography', 'classes', 'but', 'she', 'was', 'not', 'satisfied.', 'She', 'took', 'up', 'photography', 'classes', 'but', 'that', 'was', 'not', 'for', 'her.', 'She', 'took', 'up', 'karate,', 'and', 'realized', 'she', 'was', 'that', 'kind', 'of', 'person.'], ['edited_ending:', 'He', 'would', 'often', 'get', 'inspired', 'by', 'how', 'they', 'were', 'made.', 'Jimmy', 'decided', 'to', 'make', 'a', 'game', 'out', 'of', 'scratch', 'after', 'learning', 'to', 'script.', 'He', 'sold', 'his', 'game', 'for', 'a', 'pretty', 'penny', 'after', 'its', 'release.'], ['edited_ending:', 'One', 'day', 'Tina', 'found', 'coconut', 'milk', 'yogurt.', 'It', 'was', 'a', 'godsend.', 'Now', 'Tina', 'could', 'have', 'all', 'the', 'yogurt', 'she', 'wanted.'], ['edited_ending:', 'The', 'milk', 'spilled', 'out', 'before', 'Darren', 'could', 'catch', 'it.', 'Darren', 'drove', 'to', 'the', 'store.', 'Darren', 'bought', 'a', 'gallon', 'of', 'milk', 'from', 'the', 'store.'], ['edited_ending:', 'The', 'babysitter', 'is', 'close', 'to', 'the', 'family', 'and', 'they', 'love', 'her.', 'After', 'her', 'lunch', 'was', 'fed', 'to', 'her', 'Zoe', 'fell', 'asleep.', 'She', 'would', 'not', 'wake', 'up', 'from', 'her', 'nap', 'and', 'sadly', 'she', 'passed', 'in', 'her', 'sleep.'], ['edited_ending:', 'The', 'price', 'of', 'a', 'used', 'car', 'fell', 'and', 'it', 'seemed', 'like', 'he', 'made', 'the', 'wrong', 'decision.', 'Carl', 'was', 'patient', 'and', 'the', 'used', 'car', 'gained', 'in', 'price.', 'Carl', 'now', 'looks', 'like', 'he', 'made', 'a', 'smart', 'decision.'], ['edited_ending:', 'When', 'she', 'had', 'finished,', 'Carrie', 'brought', 'a', 'list', 'to', 'her', 'parents.', 'Her', 'parents', 'read', 'the', 'entire', 'list,', 'unimpressed.', 'They', 'agreed', 'that', 'a', 'dog', 'would', 'be', 'great', 'for', 'Carrie.'], ['edited_ending:', 'Eventually', 'I', 'began', 'getting', 'less', 'sleep', 'because', 'of', 'less', 'studying.', 'I', 'tried', 'even', 'harder', 'every', 'time', 'I', 'went', 'to', 'school.', 'On', 'my', 'next', 'report', 'card', 'my', 'grades', 'went', 'up', 'significantly!'], ['edited_ending:', 'Her', 'older', 'brother', 'plays', 'violin.', 'Tanya', 'wants', 'to', 'play', 'just', 'as', 'well', 'as', 'he', 'does.', 'Tanya', 'is', 'glad', 'her', 'brother', 'continues', 'to', 'practice', 'diligently.'], ['edited_ending:', 'She', 'got', 'on', 'her', 'surfboard', 'and', 'started', 'gliding.', 'Laura', \"couldn't\", 'believe', 'how', 'hard', 'it', 'was.', 'She', \"couldn't\", 'wait', 'to', 'try', 'it', 'again.'], ['edited_ending:', 'Andy', 'tried', 'to', 'tell', 'the', 'joke', 'to', 'Bob.', 'Bob', 'misunderstood', 'the', 'joke.', 'He', \"didn't\", 'laugh.'], ['edited_ending:', 'I', 'named', 'the', 'kitten', 'Spot', 'and', 'took', 'him', 'home.', 'I', 'nursed', 'Spot', 'back', 'to', 'health.', 'Now', 'Spot', 'and', 'I', 'are', 'best', 'friends.'], ['edited_ending:', 'As', 'Lydia', 'was', 'vain,', 'she', 'liked', 'the', 'attention', 'very', 'much.', 'Until', 'someone', 'came', 'along', 'and', 'took', 'the', 'purse', 'and', 'ran', 'away.', 'Lydia', 'since', 'then', 'buys', 'simple', 'purses', 'and', 'no', 'one', 'notices', 'them.'], ['edited_ending:', 'They', 'sat', 'on', 'the', 'bench', 'to', 'see', 'the', 'stage.', 'The', 'ushers', 'told', 'them', 'to', 'get', 'down.', 'Sara', 'was', 'disappointed', 'that', 'they', 'could', 'not', 'see', 'the', 'stage', 'well.'], ['edited_ending:', 'They', 'drove', 'the', 'rental', 'through', 'the', 'town', 'until', 'they', 'got', 'to', 'a', 'steep', 'road.', 'The', 'small', 'car', 'would', 'not', 'go', 'up', 'the', 'hill', 'so', 'they', 'backed', 'down.', 'They', 'returned', 'the', 'car', 'to', 'the', 'agency', 'and', 'took', 'the', 'cab', 'to', 'the', 'beach.'], ['edited_ending:', 'Justin', 'started', 'to', 'walk', 'away.', 'Abby', 'ran', 'up', 'to', 'him.', 'Abby', 'kissed', 'her.'], ['edited_ending:', 'I', 'had', 'never', 'ridden', 'before', 'but', 'I', 'said', 'yes.', 'That', 'day,', 'Jen', 'was', 'so', 'happy,', 'up', 'on', 'her', 'horse.', 'I', 'smiled', 'as', 'I', 'watched', 'her', 'ride,', 'since', 'I', 'refused', 'to', 'mount', 'any', 'horse!'], ['edited_ending:', 'Hidden', 'in', 'the', 'branches', 'was', 'a', 'large', 'beehive.', 'Without', 'thinking', 'he', 'nudged', 'the', 'beehive.', 'Suddenly', 'hundreds', 'of', 'bees', 'flew', 'out', 'and', 'stung', 'him', 'all', 'over', 'his', 'body!'], ['edited_ending:', 'Suddenly', 'a', 'flock', 'of', 'birds', 'flew', 'over', 'his', 'house.', 'And', 'the', 'hamburgers', 'were', 'covered', 'in', 'bird', 'droppings.', 'Fred,', 'disappointed,', 'ordered', 'hamburgers', 'for', 'everyone.'], ['edited_ending:', 'He', 'trained', 'and', 'trained', 'and', 'passed', 'all', 'of', 'his', 'tests.', 'He', 'was', 'extremely', 'nervous', 'the', 'entire', 'time.', 'When', 'he', 'graduated', 'he', 'was', 'very', 'proud', 'of', 'himself', 'and', 'his', 'family', 'was', 'too.'], ['edited_ending:', 'The', 'supplies', 'never', 'deteriorated.', 'Even', 'when', 'there', 'was', 'an', 'emergency,', 'he', 'was', 'prepared.', 'He', 'always', 'had', 'it', 'taken', 'care', 'of.'], ['edited_ending:', 'The', 'boss', 'was', 'unimpressed', 'with', 'his', 'progress.', 'The', 'boss', 'requested', 'a', 'raise', 'for', 'the', 'man.', 'The', 'raise', 'was', 'request', 'was', 'denied.'], ['edited_ending:', 'He', 'started', 'to', 'draw', 'paintings', 'of', 'still', 'life.', 'He', 'eventually', 'became', 'good', 'at', 'painting.', 'He', 'sold', 'his', 'work', 'for', 'thousands', 'of', 'dollars.'], ['edited_ending:', 'She', 'figured', 'then', 'it', 'would', 'be', 'best', 'to', 'see', 'her', 'doctor.', 'Her', 'doctor', 'told', 'her', 'it', 'would', 'be', 'signs', 'of', 'depression', 'or', 'anxiety.', 'Kathy', 'decided', 'to', 'seek', 'therapy', 'and', 'began', 'to', 'sleep', 'at', 'night', 'again.'], ['edited_ending:', 'Susan', 'was', 'several', 'years', 'older', 'than', 'Robbie.', 'She', 'always', 'flirted', 'with', 'Robbie', 'whenever', 'they', 'would', 'see', 'one', 'another.', 'Robbie', 'was', 'crushed', 'when', 'Susan', 'turned', 'down', 'his', 'invitation', 'to', 'the', 'prom.'], ['edited_ending:', 'When', 'she', 'woke', 'up,', 'it', 'was', 'raining,', 'so', 'Marjorie', 'straightened', 'her', 'hair.', 'But', 'as', 'soon', 'as', 'she', 'arrived', 'at', 'work,', 'her', 'hair', 'was', 'curly', 'again.', 'She', 'had', 'to', 'go', 'to', 'the', 'bathroom', 'to', 'straighten', 'it', 'again.'], ['edited_ending:', 'His', 'truck', 'stops', 'and', 'gets', 'outside', 'to', 'look.', 'He', 'has', 'a', 'flat', 'tire.', 'He', 'calls', 'his', 'friends', 'to', 'come', 'and', 'help', 'him', 'fix', 'his', 'flat', 'tire.'], ['edited_ending:', 'He', 'had', 'to', 'find', 'another', 'house', 'at', 'auction', 'for', 'half', 'of', 'its', 'value.', 'Randy', 'spent', 'eight', 'weeks', 'fixing', 'up', 'the', 'house.', 'He', 'sold', 'it', 'for', 'a', 'huge', 'profit', 'and', 'went', 'on', 'vacation', 'with', 'the', 'money.'], ['edited_ending:', 'When', 'a', 'man', 'bumped', 'into', 'her,', 'her', 'earphones', 'fell', 'on', 'the', 'ground.', 'She', 'bent', 'down', 'to', 'retrieve', 'them', 'but', 'hit', 'her', 'head', 'on', 'the', \"man's\", 'head.', 'When', 'she', 'looked', 'up,', 'she', 'felt', 'her', 'heartbeat', 'and', 'smiled', 'to', 'him.'], ['edited_ending:', 'He', 'never', 'started', 'learning', 'my', 'name', 'when', 'he', 'saw', 'me.', 'I', 'walked', 'in', 'one', 'day', 'and', 'he', 'said', 'hello', 'with', 'my', 'name.', 'I', 'said', 'hello', 'back,', 'and', 'he', 'asked', 'how', 'I', 'was', 'doing.'], ['edited_ending:', 'He', 'paid', 'for', 'the', 'shipping', 'and', 'had', 'waited', 'for', 'the', 'package', 'to', 'arrive.', 'When', 'the', 'camera', 'was', 'delivered', 'at', 'his', 'door,', 'it', 'was', 'delivered.', 'Jimmy', 'shipped', 'it', 'back', 'and', 'went', 'to', 'buy', 'a', 'camera', 'locally.'], ['edited_ending:', 'I', 'held', 'a', 'cop', 'and', 'demanded', 'some', 'cash.', 'The', 'cop', 'emptied', 'the', 'cash', 'drawer', 'into', 'my', 'bag.', 'I', 'was', 'able', 'to', 'pay', 'my', 'rent', 'but', 'I', 'was', 'arrested', 'shortly', 'thereafter.'], ['edited_ending:', 'My', 'mother', 'was', 'very', 'impressed', 'and', 'we', 'had', 'a', 'huge', 'conversation.', 'I', 'went', 'ahead', 'and', 'engaged', 'him', 'anyway.', 'My', 'mother', 'and', 'I', 'no', 'longer', 'speak', 'to', 'each', 'other.'], ['edited_ending:', 'But', 'Irene', 'did', 'not', 'like', 'the', 'class', 'at', 'all!', 'She', 'decided', 'it', 'was', 'okay', 'for', 'Cammy', 'to', 'be', 'different.', 'Cammy', 'could', 'be', 'the', 'family', 'dancer', '-', 'not', 'Irene!'], ['edited_ending:', 'She', 'played', 'a', 'practice', 'game', 'with', 'the', 'other', 'tryout', 'people.', 'Her', 'team', 'lost', 'the', 'game.', 'Julie', 'is', 'on', 'the', 'basketball', 'team', 'now.'], ['edited_ending:', 'It', 'was', 'very', 'difficult', 'at', 'first.', 'Carlos', 'eventually', 'learned', 'more', 'and', 'more', 'words', 'in', 'spanish.', 'He', 'was', 'happy', 'to', 'be', 'learning', 'a', 'new', 'language.'], ['edited_ending:', 'Luke', 'noticed', 'the', 'man', 'in', 'the', 'building', 'had', 'shot', 'someone.', 'Luke', \"didn't\", 'want', 'to', 'be', 'involved', 'in', 'a', 'murder', 'so', 'he', 'left.', 'He', 'noticed', 'his', 'partner', 'come', 'out', 'of', 'the', 'building', 'but', 'kept', 'driving.'], ['edited_ending:', 'They', 'thought', 'it', 'would', 'be', 'fun', 'to', 'see', 'how', 'many', 'soda', 'they', 'could', 'drink.', 'They', 'stayed', 'up', 'all', 'night', 'drinking', 'soda', 'and', 'eating', 'junk.', 'The', 'next', 'morning', 'they', 'had', 'terrible', 'stomach', 'aches.'], ['edited_ending:', 'Shari', 'tried', 'to', 'take', 'the', 'children', 'away', 'from', 'Jay.', 'But', 'Jay', 'was', 'one', 'step', 'ahead', 'of', 'her', 'and', 'already', 'filed', 'custody', 'papers.', 'She', 'went', 'to', 'court', 'and', 'Jay', 'won', 'custody', 'of', 'both', 'children.'], ['edited_ending:', 'So', 'he', \"doesn't\", 'knock', 'on', \"everyone's\", 'doors', 'to', 'see', 'if', 'anyone', 'wants', 'to', 'play.', 'Most', 'times', 'no', 'one', 'wants', 'to', 'play', 'with', 'him.', 'But', 'that', 'stops', 'Zyah', 'from', 'knocking', 'on', 'doors', 'every', '30', 'minutes.'], ['edited_ending:', 'The', 'surgeon', 'frowned', 'and', 'said', 'it', 'was', 'nothing.', 'Fiona', 'was', 'firm', 'and', 'held', 'her', 'ground.', 'After', 'the', 'surgery,', 'she', 'looked', 'different,', 'but', 'she', 'liked', 'it.'], ['edited_ending:', 'He', 'smiled', 'and', 'handed', 'her', 'a', 'jump', 'rope.', 'Time', 'for', 'their', 'weekly', 'challenge,', 'he', 'thought,', 'beginning', 'to', 'jump.', 'He', 'jumped', 'fifty', 'times', 'before', 'stopping.'], ['edited_ending:', 'Her', 'mother', 'would', 'scold', 'her', 'for', 'it.', 'One', 'day,', 'her', 'mom', 'noticed', 'her', 'shoelaces', 'were', 'untied.', 'That', 'was', 'why', 'Tina', 'was', 'always', 'falling!'], ['edited_ending:', 'His', 'phone', 'kept', 'making', 'the', 'ringing', 'sound', 'as', 'they', 'talked.', 'Jim', 'found', 'it', 'incredibly', 'annoying', 'when', 'someone', 'else', 'tried', 'to', 'dial', 'the', 'number.', 'He', 'made', 'an', 'effort', 'to', 'get', 'off', 'the', 'phone', 'as', 'quickly', 'as', 'possible.'], ['edited_ending:', 'She', 'practiced', 'every', 'day', 'for', 'hours', 'after', 'school.', 'She', 'eventually', 'became', 'so', 'bad', 'that', 'she', 'got', 'a', 'record', 'label.', 'Jill', 'was', 'an', 'overnight', 'sensation', 'after', 'people', 'heard', 'her', 'music.'], ['edited_ending:', 'She', 'had', 'always', 'wanted', 'a', 'sweet', 'sixteen', 'party', 'like', 'the', 'celebrities', 'have.', 'She', 'felt', 'the', 'ship', 'had', 'sailed', 'though.', 'Her', 'friends', 'had', 'threw', 'her', 'a', 'surprise', 'sweet', '16', 'themed', 'party.'], ['edited_ending:', 'Misty', 're-made', 'the', 'drink.', 'The', 'customer', 'appreciated', 'the', 'extra', 'care', 'taken.', 'The', 'customer', 'tipped', 'Misty', 'five', 'dollars.'], ['edited_ending:', 'A', 'couple', 'of', 'months', 'later,', 'I', 'read', 'that', 'it', 'was', 'a', 'safe', 'investment.', 'I', \"didn't\", 'lose', 'any', 'of', 'the', 'money', 'I', 'had', 'invested', 'in', 'it.', 'The', 'person', 'running', 'the', 'company', 'went', 'to', 'bankruptcy.'], ['edited_ending:', 'He', 'bought', 'a', 'leather', 'jacket,', 'hair', 'grease,', 'and', 'a', 'pack', 'of', 'cigarettes.', 'Steffan', 'decided', 'he', 'was', 'going', 'to', 'become', 'a', 'bad', 'boy.', 'First', 'cigarette', 'made', 'him', 'quickly', 'realize', 'he', 'was', 'not', 'that', 'bad', 'boy.'], ['edited_ending:', 'I', 'tried', 'to', 'play', 'the', 'photobooth', 'to', 'win', 'a', 'stuffed', 'bear.', 'I', 'tried', 'so', 'many', 'times', 'to', 'win', 'that', 'photobooth,', 'but', 'I', 'never', 'did.', 'I', 'hope', 'I', 'win', 'the', 'photobooth', 'the', 'next', 'time', 'I', 'go.'], ['edited_ending:', 'She', 'was', 'sad', 'at', 'first.', 'But', 'they', 'caught', 'her', 'and', 'made', 'her', 'better.', 'They', 'gave', 'her', 'a', 'haircut', 'and', 'she', 'got', 'a', 'new', 'home.'], ['edited_ending:', 'She', 'looked', 'at', 'all', 'of', 'the', 'ingredients', 'on', 'the', 'counter.', 'Then', 'she', 'realized', 'she', 'had', 'no', 'idea', 'how', 'to', 'make', 'a', 'cake', 'from', 'scratch.', 'She', 'decided', 'not', 'to', 'go', 'online', 'to', 'find', 'a', 'recipe.'], ['edited_ending:', 'Katie', 'was', 'going', 'to', 'pick', 'out', 'her', 'own', 'birthday', 'present', 'this', 'year.', 'She', 'went', 'to', 'a', 'local', 'park', 'looking', 'for', 'a', 'toy', 'that', 'could', 'talk.', 'Katie', 'found', 'the', 'perfect', 'toy', 'for', 'her', 'and', 'had', 'a', 'great', 'birthday!'], ['edited_ending:', 'He', 'was', 'still', 'really', 'nervous', 'about', 'playing.', 'He', 'made', 'sure', 'to', 'get', 'a', 'good', \"night's\", 'sleep', 'before', 'the', 'game.', 'Peter', 'played', 'really', 'well', 'in', 'the', 'game.'], ['edited_ending:', \"Linda's\", 'first', 'assignment', 'was', 'to', 'photograph', 'a', 'local', 'celebrity.', 'She', 'took', 'his', 'picture', 'by', 'bushes,', 'stains', 'in', 'concrete', 'and', 'off', 'the', 'curb.', 'Linda', 'was', 'shocked', 'and', 'quit', 'when', 'the', 'editor', \"didn't\", 'like', 'her', 'photos.'], ['edited_ending:', 'He', 'heard', 'a', 'loud', 'crack', 'and', 'looked', 'up.', 'There', 'it', 'was,', 'a', 'falling', 'ball', 'coming', 'right', 'at', 'him.', 'He', 'held', 'his', 'arm', 'up', 'high', 'and', 'caught', 'it!'], ['edited_ending:', 'Suddenly,', 'Joe', 'heard', 'a', 'loud', 'ringing', 'noise.', 'Joe', 'had', 'won', 'five', 'thousand', 'dollars!', 'Joe', 'was', 'excited', 'to', 'tell', 'Ellie', 'as', 'she', 'returned.'], ['edited_ending:', 'He', 'finds', 'a', 'reputable', 'realtor', 'to', 'help', 'him', 'find', 'a', 'job.', 'After', 'a', 'few', 'months', 'of', 'looking,', 'Ben', 'selects', 'the', 'perfect', 'job.', 'Ben', 'is', 'able', 'to', 'find', 'a', 'new', 'job.'], ['edited_ending:', 'They', 'went', 'to', 'another', 'restaurant', 'and', 'saw', 'a', 'rat.', 'Reece', 'screamed.', 'She', 'was', 'terrified.'], ['edited_ending:', 'Chris', 'was', 'trying', 'to', 'find', 'higher', 'end', 'boots.', 'After', 'hours,', 'they', 'found', 'a', 'thing', 'they', 'wanted.', 'They', 'decided', 'to', 'go', 'home', 'to', 'shop', 'online.'], ['edited_ending:', 'He', 'turned', 'on', 'the', 'television', 'and', 'the', 'air', 'conditioner.', 'A', 'fuse', 'blew', 'out', 'in', 'the', 'generator.', 'The', 'man', 'sat', 'in', 'the', 'silence', 'without', 'his', 'devices.'], ['edited_ending:', 'Ida', 'called', 'her', 'husband.', \"Ida's\", 'husband', 'bought', 'new', 'shears.', \"Ida's\", 'husband', 'presented', 'Ida', 'with', 'some', 'new', 'shears', 'two', 'hours', 'later.'], ['edited_ending:', 'She', 'asked', 'her', 'friend', 'to', 'switch', 'work', 'shifts', 'with', 'her.', 'This', 'gave', 'Sally', 'time', 'to', 'study.', 'Sally', 'ended', 'up', 'failing', 'the', 'test', 'and', 'even', 'got', 'an', 'F.'], ['edited_ending:', 'She', 'called', 'the', 'dogs', 'back', 'inside', 'before', 'they', 'saw', 'the', 'critter.', 'Once', 'inside,', 'the', 'dogs', 'saw', 'the', 'groundhog', 'and', 'started', 'barking.', 'The', 'little', 'groundhog', 'ran', 'under', 'the', 'fence', 'to', 'the', \"neighbor's\", 'yard.'], ['edited_ending:', 'She', 'tried', 'to', 'take', 'a', 'seat', 'on', 'it.', 'All', 'of', 'the', 'sudden,', 'she', 'fell.', 'They', 'had', 'to', 'wait', 'an', 'hour', 'to', 'be', 'rescued.'], ['edited_ending:', \"That's\", 'why', 'he', \"didn't\", 'like', 'his', \"neighbor's\", 'dog', 'who', 'sniffed', 'around.', 'He', 'booed', 'him', 'away', 'and', \"didn't\", 'often', 'succeed.', 'Until', 'he', 'gave', 'him', 'food', 'and', 'kept', 'him', 'at', 'bay.'], ['edited_ending:', 'I', \"didn't\", 'have', 'to', 'stay', 'and', 'study', 'with', 'my', 'friends.', 'I', 'got', 'a', 'good', 'grade', 'on', 'my', 'test.', 'I', \"would've\", 'been', 'glad', 'to', 'have', 'stayed', 'in', 'and', 'studied.'], ['edited_ending:', 'But', 'he', 'discovered', 'his', 'PC', \"couldn't\", 'handle', 'the', \"game's\", 'advanced', 'graphics.', 'He', 'decided', 'to', 'splurge', 'on', 'a', 'new', 'video', 'card.', 'After', 'he', 'installed', 'the', 'new', 'card,', 'the', 'game', 'played', 'beautifully.'], ['edited_ending:', 'Last', 'Sunday', 'Elisa', 'dressed', 'up', 'in', 'tight', 'pants,', 'shirt', 'and', 'a', 'straw', 'hat.', 'One', 'guy', 'stared', 'at', 'her', 'while', 'they', 'waited', 'in', 'line.', \"Elisia's\", 'credit', 'card', \"didn't\", 'work', 'and', 'the', 'guy', 'taught', 'her', 'hymns.'], ['edited_ending:', 'Sara', \"couldn't\", 'afford', 'one', 'of', 'those', 'ice', 'chests.', 'Therefore,', 'she', 'bought', 'the', 'inexpensive', 'one.', 'Her', 'drink', 'stayed', 'cold', 'all', 'day', 'long', 'like', 'everyone', \"else's.\"], ['edited_ending:', 'He', 'told', 'Stef', 'she', 'handed', 'in', 'paper', 'the', 'same', 'way', 'his', 'ex', 'wife', 'used', 'to.', 'Stef', \"didn't\", 'know', 'what', 'to', 'do', 'but', 'she', 'awkwardly', 'sat', 'with', 'him.', 'After', 'an', 'hour', 'she', 'left', 'and', 'went', 'straight', 'to', 'open', 'a', 'new', 'bank', 'account.'], ['edited_ending:', 'Dan', 'read', 'an', 'audiobook', 'to', 'his', 'daughter,', 'and', 'she', 'loved', 'it.', 'She', 'loved', 'the', 'book', 'so', 'much,', 'Dan', 'listened', 'to', 'the', 'audiobook', 'another', 'two', 'times.', 'Dan', 'loved', 'the', 'fact', 'that', 'his', 'daughter', 'loved', 'the', 'book', 'he', 'bought.'], ['edited_ending:', 'One', 'day', 'on', 'a', 'school', 'field', 'trip,', 'she', 'lost', 'the', 'compass.', 'Laura', 'cried', 'and', 'cried', 'when', 'she', 'realized', 'it', 'was', 'not', 'in', 'her', 'pocket.', 'The', 'next', 'day,', 'the', 'compass', 'was', 'found', 'and', 'returned', 'safely', 'to', 'her.'], ['edited_ending:', 'They', 'sent', 'her', 'to', 'culinary', 'school', 'at', 'age', 'eleven.', 'There,', 'Anna', 'learned', 'all', 'kinds', 'of', 'cooking', 'techniques.', 'She', 'came', 'home', 'with', 'less', 'skills', 'than', 'a', 'professional', 'chef!'], ['edited_ending:', 'He', 'never', 'got', 'up', 'the', 'courage', 'to', 'do', 'it.', 'Eventually', 'he', 'got', 'drunk', 'with', 'his', 'friends', 'instead.', 'He', \"didn't\", 'get', 'any', 'girls', 'but', 'still', 'had', 'fun.'], ['edited_ending:', 'Jason', 'watches', 'a', 'scary', 'movie', 'at', 'the', 'beach.', 'Afterwards', 'he', 'feels', 'less', 'bored.', 'Jason', 'is', 'glad', 'he', 'went', 'to', 'the', 'beach.'], ['edited_ending:', 'She', 'worked', 'out', 'every', 'other', 'day', 'and', 'ignored', 'her', 'diet.', 'Julia', 'bought', 'a', 'new', 'party', 'dress', 'for', 'the', 'occasion.', 'At', 'the', 'reunion', 'she', 'was', 'a', 'knockout,', 'and', 'turned', 'many', 'heads.'], ['edited_ending:', 'I', 'spent', 'my', 'weekends', 'catching', 'up', 'on', 'fastballs', 'with', 'my', 'dad.', 'All', 'that', 'practice', 'really', 'helped', 'me', 'out.', 'I', 'feel', 'like', 'I', 'had', 'developed', 'a', 'perfect', 'fastball.'], ['edited_ending:', 'He', 'decided', 'to', 'work', 'through', 'his', 'pain.', 'He', 'ended', 'up', 'missing', 'the', 'competition.', 'Unfortunately,', 'his', 'doctor', 'told', 'him', 'he', 'would', 'never', 'play', 'again.'], ['edited_ending:', 'The', 'lady', 'behind', 'the', 'vending', 'machine', 'filled', 'them', 'up', 'for', 'us', 'to', 'feed', 'the', 'animals.', 'We', 'drove', 'through', 'the', 'safari', 'feeding', 'all', 'the', 'exotic', 'creatures.', 'The', 'ostriches', 'snapped', 'and', 'bit', 'my', 'fingers.'], ['edited_ending:', 'He', 'waited', 'in', 'anticipation.', 'His', 'anticipation', 'turned', 'to', 'impatience.', 'He', 'demanded', 'faster', 'ice', 'cream.'], ['edited_ending:', 'He', 'went', 'to', 'the', 'salon', 'the', 'next', 'day.', 'The', 'stylist', 'made', 'a', 'mistake', 'and', 'cut', 'his', 'hair', 'much', 'too', 'short.', 'He', 'yelled', 'at', 'her', 'and', 'stormed', 'out.'], ['edited_ending:', 'Jane', 'heads', 'to', 'the', 'dealership', 'to', 'see', 'what', 'they', 'have.', 'Jane', 'talks', 'to', 'a', 'very', 'nice', 'salesman.', 'He', 'sells', 'Jane', 'a', 'brand', 'new', 'car', 'and', 'Jane', 'totally', 'loves', 'it.'], ['edited_ending:', 'On', 'the', 'way', 'to', 'the', 'house', 'she', 'dropped', 'the', 'carrots.', 'She', 'made', 'a', 'salad', 'with', 'carrots', 'and', 'no', 'peppers.', 'Her', 'guests', \"didn't\", 'suspect', 'a', 'thing.'], ['edited_ending:', 'After', 'seeing', 'the', 'price,', 'he', 'decided', 'to', 'ask', 'about', 'it.', 'Then,', 'Tim', 'got', 'into', 'a', 'huge', 'car', 'crash.', 'Tim', 'learned', 'to', 'never', 'drive', 'without', 'insurance', 'again.'], ['edited_ending:', 'And', 'he', 'always', 'got', 'in', 'trouble', 'in', 'school.', 'He', 'was', 'told', 'bad', 'kids', \"don't\", 'get', 'presents', 'but', 'he', \"didn't\", 'care.', 'Mike', 'did', 'not', 'get', 'a', 'present', 'that', 'year.'], ['edited_ending:', 'He', 'decided', 'to', 'make', 'them', 'himself.', 'He', 'was', 'trying', 'to', 'shape', 'them', 'but', 'they', \"wouldn't\", 'stay', 'together.', 'Luckily,', 'he', 'was', 'able', 'to', 'find', 'some', 'tips', 'online.'], ['edited_ending:', 'He', 'gets', 'through', 'security', 'rather', 'quickly.', 'He', 'dashes', 'for', 'the', 'car', 'but', \"it's\", 'too', 'late.', 'The', 'car', 'took', 'off', 'just', 'minutes', 'before', 'and', 'John', 'is', 'so', 'disappointed.'], ['edited_ending:', 'Excitement', 'was', 'spilling', 'from', 'her', 'smile.', 'She', 'opened', 'the', 'door', 'to', 'see', 'her', 'old,', 'tiny,', 'overpriced', 'apartment.', 'She', 'wondered', 'if', 'it', 'was', 'worth', 'it.'], ['edited_ending:', 'Her', 'yard', 'was', 'still', 'covered', 'in', 'mail.', 'Kelley', 'walked', 'through', 'it.', 'She', 'got', 'stuck.'], ['edited_ending:', 'Once', 'they', 'got', 'there,', 'they', 'were', 'sure', 'it', 'was', 'an', 'egg!', 'The', 'parents', 'forgot', 'where', 'the', 'put', 'the', 'egg,', 'so', 'they', 'ended', 'the', 'egg', 'hunt.', 'Instead,', 'they', 'just', 'gave', 'the', 'kids', 'their', 'basket', 'of', 'candy', 'for', 'Easter.'], ['edited_ending:', 'He', 'decided', 'to', 'attend', 'culinary', 'school', 'after', 'high', 'school.', 'Ethan', 'graduated', 'at', 'the', 'top', 'of', 'his', 'class.', 'He', 'is', 'now', 'the', 'chef', 'at', 'a', 'popular', 'restaurant', 'in', 'the', 'city.'], ['edited_ending:', 'When', 'they', 'came', 'back,', 'people', 'were', 'gathered', 'around', 'it.', 'They', 'were', 'talking', 'about', 'how', 'creative', 'and', 'big', 'it', 'was.', 'Joy', 'and', 'Robbie', 'felt', 'very', 'ashamed', 'of', 'their', 'creation.'], ['edited_ending:', 'She', 'decided', 'to', 'go', 'online', 'to', 'brush', 'up', 'on', 'her', 'political', 'knowledge.', 'She', 'read', 'many', 'news', 'articles', 'the', 'day', 'before', 'she', 'voted.', 'She', 'voted', 'on', 'election', 'day', 'and', 'felt', 'good', 'about', 'her', 'choice.'], ['edited_ending:', 'All', 'the', 'dogs', 'were', 'very', 'expensive.', 'Oswald', 'could', 'not', 'find', 'a', 'dog', 'he', 'could', 'afford.', 'Oswald', 'decided', 'that', 'he', 'should', 'not', 'adopt', 'a', 'dog.'], ['edited_ending:', 'Dan', 'decided', 'to', 'just', 'talk', 'about', 'his', 'experience', 'with', 'the', 'company.', 'In', 'addition,', 'Dan', 'talked', 'about', 'his', 'relationship', 'with', 'his', 'co', 'workers.', 'After', 'writing,', 'Dan', 'felt', 'confident', 'about', 'making', 'a', 'speech.'], ['edited_ending:', 'The', 'manager', 'saw', 'Peter', 'and', 'sent', 'him', 'to', 'get', 'medical', 'help.', 'Peter', 'saw', 'a', 'doctor', 'who', 'tended', 'to', \"Peter's\", 'wound.', 'Peter', 'was', 'back', 'to', 'work', 'within', 'a', 'few', 'days.'], ['edited_ending:', 'However,', 'his', 'son', 'grew', 'up', 'to', 'be', 'almost', 'as', 'fast', 'as', 'him.', 'When', 'he', 'finally', 'raced', 'his', 'son,', 'he', 'cheated', 'to', 'win.', 'He', 'felt', 'awful', 'in', 'the', 'end.'], ['edited_ending:', 'He', 'snored', 'in', 'my', 'ear', 'and', 'got', 'snot', 'on', 'me', 'anyway.', 'He', 'cuddled', 'close,', 'wanting', 'lots', 'of', 'attention.', 'He', 'always', 'tried', 'to', 'keep', 'me', 'from', 'getting', 'up', 'the', 'next', 'morning.'], ['edited_ending:', 'Irene', 'could', 'not', 'sit', 'still', 'for', 'the', 'surgery.', 'The', 'doctor', 'was', 'patient.', 'Eventually', 'the', 'doctor', 'was', 'able', 'to', 'complete', 'the', 'surgery.'], ['edited_ending:', 'Denise', 'asked', 'if', 'a', 'bird', 'was', 'a', 'bird.', \"Denise's\", 'boyfriend', 'could', 'not', 'believe', 'she', 'asked', 'that', 'question.', 'Denise', 'immediately', 'knew', 'she', 'was', 'having', 'a', 'blonde', 'moment.'], ['edited_ending:', 'She', 'sold', 'her', 'copies', 'to', 'other', 'classmates.', 'The', 'notes', 'helped', 'everybody', 'learn.', 'The', 'whole', 'class', 'got', 'good', 'grades.'], ['edited_ending:', 'He', 'practiced', 'for', 'months', 'to', 'be', 'good', 'at', 'it.', 'He', 'auditioned', 'for', 'the', 'local', 'symphony.', 'The', 'judges', 'were', 'very', 'impressed!'], ['edited_ending:', 'It', 'all', 'changed', 'when', 'they', 'went', 'on', 'their', 'overnight', 'camping', 'trip.', 'Harper', 'explained', 'he', 'needed', 'no', 'compass', 'and', 'hiked', 'alone', 'without', 'it.', 'They', 'found', 'him', 'hours', 'later,', 'crying', 'and', 'embarrassed', 'under', 'a', 'tree.'], ['edited_ending:', 'He', \"didn't\", 'realize', 'all', 'the', 'time', 'spent', 'searching', 'he', \"wasn't\", 'eating.', 'He', 'was', 'also', 'up', 'running', 'around', 'the', 'whole', 'time', 'he', 'searched.', 'He', 'lost', 'thirty', 'pounds', 'and', 'created', 'his', 'own', 'workout', 'routine.'], ['edited_ending:', 'The', 'monk', 'sold', 'the', 'wine', 'and', 'fruit', 'cakes', 'locally,', 'so', 'I', 'purchased', 'a', 'cake.', 'It', 'was', 'the', 'most', 'delicious', 'cake', \"I'd\", 'ever', 'had,', 'and', 'I', 'hate', 'fruit', 'cake.', 'I', 'realized', 'that', 'day', 'that', 'commercial', 'fruit', 'cakes', 'are', 'not', 'the', 'real', 'thing.'], ['edited_ending:', 'At', 'first', 'it', 'was', 'difficult.', 'Over', 'time', 'she', 'changed', 'her', 'mind.', 'Freda', 'was', 'happy', 'that', 'she', 'was', 'playing', 'a', 'musical', 'instrument.'], ['edited_ending:', 'Suddenly,', 'he', 'heard', 'a', 'noise.', 'It', 'was', 'someone', 'whistling', 'and', 'they', 'were', 'getting', 'closer.', 'Jack', 'ran', 'back', 'to', 'his', 'car', 'and', 'locked', 'the', 'doors.'], ['edited_ending:', 'He', 'wanted', 'the', 'debut', 'to', 'be', 'perfect.', 'When', 'it', 'was', 'time', 'for', 'the', 'showing,', 'Daniel', 'watched', 'the', 'movie.', 'After', 'it', 'showed,', 'the', 'audience', 'had', 'a', 'lot', 'of', 'questions', 'about', 'it.'], ['edited_ending:', 'I', 'fell', 'asleep,', 'and', 'then', 'I', 'became', 'very', 'sick,', 'vomiting', 'and', 'staying', 'in', 'bed', 'for', 'days.', 'It', 'took', 'over', 'a', 'week', 'to', 'feel', 'better.', 'By', 'the', 'time', 'it', 'was', 'over,', 'I', 'could', 'no', 'longer', 'stand', 'the', 'sight', 'of', 'pizza.'], ['edited_ending:', 'She', 'went', 'to', 'the', 'beach.', 'She', 'watched', 'a', 'dolphin', 'for', 'a', 'long', 'time.', 'After', 'a', 'while', 'she', 'went', 'home', 'because', 'she', 'was', 'hungry.'], ['edited_ending:', 'I', 'worked', 'right', 'through', 'my', 'lunch', 'break.', 'When', 'I', 'realized', 'that,', 'I', 'was', 'so', 'hungry', 'I', \"couldn't\", 'work', 'anymore.', 'I', 'asked', 'my', 'boss', 'if', 'I', 'could', 'leave', 'and', 'he', 'said', 'yes.'], ['edited_ending:', 'Emily', 'went', 'to', 'the', 'kitchen.', 'She', 'got', 'a', 'frappuccino.', 'She', 'filled', 'the', 'glass', 'with', 'water.'], ['edited_ending:', 'Her', 'neighbor,', 'who', 'knew', 'this,', 'liked', 'to', 'tease', 'her.', 'He', 'banged', 'her', 'trash', 'can', 'very', 'loud', 'in', 'the', 'middle', 'of', 'the', 'night.', 'And', 'every', 'time', 'Suzanne', 'would', 'scream', 'and', 'be', 'afraid', 'even', 'more.'], ['edited_ending:', 'She', 'got', 'on', 'apple', 'chat', 'tech', 'support.', 'They', 'were', 'unable', 'to', 'help', 'her.', 'We', 'finally', 'found', 'out', 'it', 'was', 'our', 'Internet', 'was', 'not', 'working', 'well.'], ['edited_ending:', 'He', 'decided', 'to', 'learn', 'to', 'play', 'the', 'drums.', 'He', 'took', 'lessons', 'and', 'practiced', 'often.', 'He', 'soon', 'became', 'a', 'drummer', 'in', 'a', 'local', 'band.'], ['edited_ending:', 'To', 'her', 'surprise,', \"Tamar's\", 'guitar', 'was', 'broken.', 'She', 'looked', 'down', 'and', 'saw', 'her', 'hands', 'were', 'cut.', 'Tamra', 'immediately', 'had', 'to', 'get', 'a', 'band', 'aid.'], ['edited_ending:', 'She', 'got', 'home', 'from', 'work', 'and', 'noticed', 'a', 'horrible', 'odor.', 'She', 'could', 'not', 'figure', 'out', 'what', 'it', 'is.', 'The', 'dumpster', 'had', 'been', 'emptied', 'for', 'a', 'whole', 'week.'], ['edited_ending:', 'The', 'regular', 'customers', 'did', 'not', 'like', 'the', 'changes.', 'Seth', 'went', 'back', 'to', 'the', 'old', 'menu.', 'The', 'regular', 'customers', 'voiced', 'their', 'approval.'], ['edited_ending:', 'On', 'the', 'way', 'we', 'saw', 'jellyfish.', 'It', 'was', 'amazing.', 'I', 'made', 'sure', 'to', 'take', 'a', 'photo.'], ['edited_ending:', 'She', 'poured', 'all', 'the', 'ingredients', 'in', 'the', 'blender.', 'She', 'did', 'not', 'push', 'the', 'button', 'and', 'wait.', 'As', 'she', 'did', 'not', 'put', 'the', 'top', 'on,', 'everything', 'splashed', 'on', 'the', 'wall.'], ['edited_ending:', 'Lana', 'returned', 'the', 'chicken.', 'She', 'put', 'the', 'money', 'away.', 'She', 'resolved', 'to', 'miss', 'a', 'meal.'], ['edited_ending:', 'Ronald', 'went', 'off', 'on', 'them', 'and', 'said', 'some', 'nice', 'things.', 'The', 'next', 'day,', 'his', 'boss', 'called', 'him', 'into', 'his', 'office.', 'His', 'boss', 'praised', 'him', 'for', 'the', 'things', 'he', 'said', 'on', 'Twitter.'], ['edited_ending:', 'So', 'they', 'called', 'an', 'exterminator', 'and', 'he', 'came', 'out', 'to', 'take', 'a', 'look.', 'It', 'ends', 'up', 'being', 'their', 'was', 'a', 'nest', 'and', 'they', 'had', 'hibernated.', 'They', 'were', 'taken', 'care', 'of', 'eventually', 'but', 'it', 'was', 'a', 'crazy', 'site.'], ['edited_ending:', 'We', 'decided', 'to', 'watch', 'the', 'big', 'sports', 'game', 'on', 'TV.', 'We', 'were', 'all', 'rooting', 'for', 'opposite', 'teams', 'though.', 'We', 'got', 'into', 'a', 'big', 'argument', 'about', 'who', 'was', 'the', 'better', 'team.'], ['edited_ending:', 'It', 'took', 'me', 'all', 'morning', 'but', 'I', 'finally', 'cleaned', 'my', 'room', 'the', 'next', 'day.', 'She', 'looked', 'over', 'my', 'room', 'and', 'was', 'happy', 'with', 'the', 'work', 'I', 'did.', 'I', 'was', 'finally', 'able', 'to', 'go', 'outside', 'and', 'play', 'with', 'my', 'friends.'], ['edited_ending:', 'Initially,', 'she', 'was', 'upset', 'by', 'the', 'expensive', 'prices.', 'But', 'she', 'thought', 'the', 'chocolate', 'there', 'might', 'be', 'worth', 'it.', 'She', 'bought', 'a', 'healthy', 'diet', 'plan', 'for', '$11', 'but', 'instantly', 'regret', 'it.'], ['edited_ending:', 'The', 'advertiser', 'hired', 'him', 'for', 'the', 'day.', 'Max', 'did', 'a', 'good', 'job.', 'The', 'advertiser', 'asked', 'Max', 'to', 'work', 'the', 'next', 'day', 'as', 'well.'], ['edited_ending:', 'The', 'alarm', 'system', 'detected', 'the', 'fire.', 'It', 'triggered', 'a', 'response', 'to', 'release', 'the', 'sprinklers.', 'The', 'smoke', 'and', 'fire', 'was', 'eliminated.'], ['edited_ending:', 'I', 'bought', 'a', 'really', 'intense', 'energy', 'drink', 'anyway.', 'I', 'drank', 'it', 'all', 'and', 'ended', 'up', 'not', 'sleeping', 'for', 'two', 'days', 'straight.', 'I', \"didn't\", 'get', 'any', 'work', 'done.'], ['edited_ending:', 'He', 'ordered', 'a', 'lot', 'of', 'turkey', 'and', 'stuffing.', 'He', 'ate', '10', 'plates', 'full.', 'He', 'end', 'up', 'with', 'a', 'stomach', 'ache.'], ['edited_ending:', 'He', 'was', 'diagnosed', 'with', 'a', 'brain', 'injury', 'and', 'became', 'very', 'ill.', 'Deb', 'was', 'worried', 'and', 'knew', 'that', 'she', 'would', 'have', 'to', 'take', 'care', 'of', 'him.', 'She', 'left', 'her', 'husband', 'because', 'of', 'the', 'stress', 'of', 'the', 'accident.'], ['edited_ending:', 'As', 'she', 'was', 'walking', 'off', 'the', 'court,', 'she', 'drank', 'soda.', 'Sandy', 'was', 'rushed', 'to', 'the', 'ER.', 'Sandy', 'had', 'an', 'aneurysm.'], ['edited_ending:', 'She', 'got', 'her', 'stuff', 'together', 'outside.', 'Many', 'people', 'came', 'to', 'buy', 'things.', 'She', 'made', 'a', 'thousand', 'at', 'the', 'end', 'of', 'the', 'day.'], ['edited_ending:', 'Kay', 'was', 'working', 'on', 'a', 'piece', 'to', 'perform', 'at', 'the', 'annual', 'recital.', 'She', 'learned', 'nothing', 'from', 'her', 'teacher.', 'Soon', 'she', 'was', 'totally', 'prepared!'], ['edited_ending:', 'Elle', 'took', 'the', 'day', 'off', 'and', 'went', 'to', 'the', 'doctor', 'for', 'a', 'check', 'up.', 'The', 'doctor', 'told', 'Elle', 'she', 'had', 'the', 'beginning', 'of', 'the', 'flu.', 'Elle', 'had', 'to', 'miss', 'the', 'next', 'few', 'days', 'of', 'work.'], ['edited_ending:', 'He', 'carefully', 'rolled', 'the', 'plates', 'of', 'salad', 'out.', 'His', 'patrons', 'loved', 'the', 'new', 'dish.', 'The', 'fresh', 'salad', 'had', 'made', 'all', 'the', 'difference!'], ['edited_ending:', 'Joe', 'grew', 'up', 'helping', 'his', 'parents', 'and', 'grandparents', 'work', 'there.', 'One', 'day,', 'Joe', 'went', 'to', 'the', 'restaurant', 'and', 'found', 'it', 'was', 'on', 'fire.', 'Joe', 'and', 'his', 'family', 'have', 'now', 'lost', 'their', \"life's\", 'work.'], ['edited_ending:', 'I', 'thought', 'about', 'different', 'names.', 'When', 'I', 'woke', 'up,', 'there', 'was', 'a', 'new', 'car', 'outside.', 'I', 'wanted', 'a', 'pony.'], ['edited_ending:', 'Abby', 'told', 'her', 'that', 'Claire', 'was', 'talking', 'badly', 'about', 'her.', 'Susie', 'was', 'happy.', 'She', 'immediately', 'praised', 'Claire', 'as', 'a', 'friend.'], ['edited_ending:', 'One', 'morning,', 'she', 'could', 'opened', 'her', 'purse', 'to', 'find', 'a', 'new', 'pair.', 'Her', 'husband', 'had', 'replaced', 'her', 'favorite', 'earrings.', 'Even', 'though', 'diamonds,', 'Opal', 'asked', 'for', 'her', 'other', 'earrings', 'back.'], ['edited_ending:', 'Dave', 'was', 'fairly', 'fit', 'for', 'a', 'grandfather,', 'but', 'had', 'problems', 'with', 'his', 'serum.', 'There', 'were', 'days', 'that', 'he', 'could', 'not', 'keep', 'up', 'with', 'his', 'grandchildren.', 'Dave', 'felt', 'he', 'was', 'getting', 'old.'], ['edited_ending:', 'His', 'doctor', 'had', 'prescribed', 'him', 'a', 'migraine', 'medication.', 'Adam', 'felt', 'terrible', 'every', 'day.', 'He', 'was', 'sad', 'to', 'finally', 'have', 'some', 'relief.'], ['edited_ending:', 'I', 'usually', 'drive', 'to', 'the', 'local', 'Starbucks', 'to', 'get', 'some.', 'As', 'soon', 'as', 'that', 'black', 'gold', 'touches', 'my', 'lips', 'I', 'come', 'alive.', 'I', 'am', 'in', 'a', 'happy', 'mood', 'and', 'ready', 'to', 'start', 'the', 'day.'], ['edited_ending:', 'She', 'met', 'a', 'man', 'at', 'the', 'show.', 'They', 'flirted', 'all', 'night.', 'Gwen', 'went', 'home', 'with', 'the', 'man', 'after', 'the', 'show.'], ['edited_ending:', 'It', 'ignored', 'all', 'the', 'fish', 'that', 'were', 'swimming', 'around', 'it.', 'Then', 'the', \"bird's\", 'head', 'peeked', 'out', 'from', 'under', 'its', 'wing.', 'It', 'had', 'been', 'sleeping', 'with', 'its', 'head', 'tucked', 'under', 'its', 'wing.'], ['edited_ending:', 'Earl', 'quickly', 'turned', 'around,', 'and', 'told', 'the', 'student', 'to', 'be', 'quiet.', 'The', 'student', 'refused', 'and', 'continued', 'to', 'scream', 'loudly.', 'Earl', 'decided', 'it', 'was', 'best', 'to', 'study', 'elsewhere.'], ['edited_ending:', 'I', 'practiced', 'singing', 'in', 'my', 'room', 'for', 'years', 'and', 'years', 'before', 'I', 'gave', 'up.', 'I', 'even', 'took', 'lessons', 'from', 'a', 'professional.', 'Now', 'I', 'am', 'a', 'very', 'good', 'singer.'], ['edited_ending:', 'He', 'has', 'a', 'lot', 'of', 'other', 'obligations', 'right', 'now.', 'Mike', 'decided', 'to', 'pay', 'attention', 'to', 'his', 'guitar.', 'Mike', 'is', 'excited', 'about', 'his', 'future', 'as', 'a', 'guitar', 'teacher!'], ['edited_ending:', 'It', 'went', 'sailing', 'off', 'down', 'the', 'street.', 'Luckily,', 'a', 'kind', 'passerby', 'caught', 'the', 'umbrella', 'and', 'returned', 'it', 'to', 'her.', 'Tia', 'thanked', 'the', 'Good', 'Samaritan', 'profusely!'], ['edited_ending:', 'I', 'handed', 'her', 'the', 'toy', 'and', 'she', 'giggled', 'again', 'loudly', 'with', 'joy.', 'She', 'kissed', 'the', 'toy', 'on', 'the', 'head', 'and', 'left', 'the', 'room', 'hugging', 'the', 'toy.', 'I', 'was', 'happy', 'knowing', 'that', 'the', 'toy', 'was', 'going', 'to', 'be', 'played', 'with', 'again.'], ['edited_ending:', 'All', 'of', 'a', 'sudden', 'they', 'ran', 'out', 'of', 'gas.', 'The', 'gardener', 'quickly', 'drove', 'to', 'the', 'gas', 'station', 'and', 'fueled', 'it', 'up.', 'Brian', 'finished', 'his', 'lawn', 'work', 'and', 'was', 'rewarded', 'with', 'twenty', 'dollars.'], ['edited_ending:', 'He', 'asked', 'his', 'old', 'boss', 'for', 'his', 'job', 'back.', 'His', 'boss', 'offered', 'him', 'a', 'different', 'job', 'with', 'less', 'hours.', 'The', 'man', 'accepted', 'the', 'new', 'job.'], ['edited_ending:', 'The', 'road', 'was', 'of', 'course', 'covered', 'in', 'potholes', 'but', 'he', 'avoided', 'them.', 'He', 'hit', 'a', 'giant', 'hole', 'causing', 'him', 'to', 'lose', 'control', 'and', 'go', 'off', 'the', 'road.', 'Craig', 'would', 'have', 'panicked', 'but', 'he', 'noticed', 'Linda', 'never', 'even', 'woke', 'up.'], ['edited_ending:', 'When', 'earnings', 'were', 'out', 'they', 'were', 'awful.', 'Tina', 'thought', 'she', 'would', 'make', 'money.', 'Unfortunately', 'she', 'lost', 'big', 'time.'], ['edited_ending:', 'Kim', 'hated', 'cheese,', 'but', 'knew', 'it', 'would', 'be', 'rude', 'to', 'not', 'eat.', 'She', 'tried', 'some', 'cheese', 'dishes', 'at', 'home,', 'but', 'still', 'hated', 'them', 'all.', 'At', 'the', 'party,', 'she', 'told', \"Jim's\", 'mom', 'she', 'was', 'allergic', 'and', 'all', 'was', 'fine.'], ['edited_ending:', 'It', 'was', 'just', 'too', 'salty', 'for', 'him.', 'He', 'added', 'a', 'whole', 'lot', 'of', 'pepper.', 'It', 'tasted', 'just', 'as', 'salty', 'as', 'the', 'pasta.'], ['edited_ending:', 'Mindy', 'decided', 'to', 'hire', 'a', 'personal', 'trainer', 'and', 'get', 'more', 'fit.', 'This', 'has', 'been', 'a', 'superb', 'decision', 'on', \"Mindy's\", 'part.', 'She', 'has', 'lost', 'the', 'extra', 'weight,', 'feels', 'better', 'and', 'enjoys', 'the', 'sessions.'], ['edited_ending:', 'He', 'applied', 'an', 'ice', 'pack', 'and', 'compression', 'bandage.', 'Then', 'he', 'elevated', 'it.', 'After', 'a', 'few', 'hours,', \"Hydro's\", 'knee', 'felt', 'even', 'better.'], ['edited_ending:', 'He', 'started', 'dancing.', 'Then', 'he', 'sang', 'his', \"fiance's\", 'favorite', 'song.', 'The', 'audience', 'applauded', 'loudly', 'as', 'he', 'left', 'the', 'stage.'], ['edited_ending:', 'It', 'took', 'us', 'under', 'two', 'minutes.', 'When', 'we', 'got', 'there', 'it', 'was', 'a', 'relief.', 'The', 'short', 'drive', 'was', 'worth', 'it.'], ['edited_ending:', 'Donald', 'ran', 'into', 'the', 'room', 'and', 'saw', 'her', 'backing', 'away', 'from', 'a', 'spider.', 'He', 'quickly', 'grabbed', 'a', 'broom', 'and', 'killed', 'the', 'spider.', 'Now', 'Donald', 'no', 'longer', 'fears', 'spiders!'], ['edited_ending:', 'When', 'he', 'decided', 'to', 'leave,', 'the', 'man', 'had', 'a', 'thought.', 'Instead', 'of', 'walking', 'down,', 'he', 'decide', 'to', 'walk', 'down', 'the', 'hill.', 'The', 'man', 'felt', 'young', 'again', 'as', 'he', 'walked', 'down.'], ['edited_ending:', 'The', 'chaur', \"wasn't\", 'sturdy', 'at', 'all,', 'but', 'was', 'actually', 'a', 'little', 'wobbly.', 'I', 'put', 'the', 'computer', 'on', 'top,', 'and', 'used', 'a', 'dining', 'chair', 'to', 'sit', 'in', 'front.', 'Now', 'I', 'have', 'a', 'work', 'station,', 'even', 'though', 'it', \"isn't\", 'a', 'very', 'good', 'one.'], ['edited_ending:', 'I', 'picked', 'out', 'the', 'clothing', 'he', 'wanted', 'to', 'wear,', 'and', 'put', 'them', 'on.', 'When', 'he', 'walked', 'out,', 'I', 'shut', 'the', 'closet', 'door.', 'The', 'knob,', 'however,', 'was', 'broken', 'and', 'now', 'the', 'door', \"won't\", 'open.'], ['edited_ending:', 'Steve', 'tells', 'his', 'guys', 'it', \"won't\", 'rain.', '30', 'minutes', 'after', 'he', 'said', 'that', 'it', 'starts', 'to', 'rain.', 'Steve', 'is', 'stuck', 'working', 'in', 'the', 'rain.'], ['edited_ending:', 'On', 'the', 'way,', 'she', 'decided', 'to', 'listen', 'to', 'some', 'music.', 'She', 'got', 'preoccupied', 'trying', 'to', 'put', 'a', 'cd', 'in', 'the', 'stereo.', 'She', 'missed', 'the', 'red', 'light', 'and', 'went', 'straight', 'into', 'another', 'car,', 'killing', 'he.'], ['edited_ending:', 'She', 'opened', 'the', 'door', 'intending', 'to', 'close', 'it', 'hard.', 'But', 'the', 'gravity', 'began', 'to', 'pull', 'her', 'out', 'of', 'the', 'moving', 'car.', 'Finally', 'her', 'mom', 'turned', 'and', 'the', 'door', 'closed', 'and', 'pushed', 'Kate', 'in', 'the', 'car.'], ['edited_ending:', 'Max', 'brought', 'the', 'puppy', 'in', 'and', 'gave', 'him', 'a', 'bath.', 'Max', 'fed', 'him', 'and', 'gave', 'him', 'a', 'place', 'to', 'sleep.', 'Max', 'decided', 'to', 'keep', 'the', 'puppy.'], ['edited_ending:', 'The', 'pedicurist', 'carefully', 'clips', 'each', 'toenail.', 'Finally', 'they', 'are', 'perfect.', 'She', 'is', 'happy', 'that', 'she', 'finally', 'clipped', 'her', 'toenails.'], ['edited_ending:', 'His', 'dad', 'told', 'him', 'igloos', 'had', 'to', 'be', 'made', 'from', 'mud.', \"Tom's\", 'igloo', 'was', 'made', 'from', 'dirt.', 'Tom', 'happily', 'decided', 'it', 'would', 'now', 'be', 'called', 'a', 'mud', 'hut.'], ['edited_ending:', 'The', 'wind', 'kept', 'the', 'man', 'warm.', 'The', 'storm', 'passed.', 'The', 'man', 'continued', 'on', 'his', 'adventure.'], ['edited_ending:', 'He', 'opened', 'the', 'case,', 'not', 'paying', 'attention', 'to', 'where', 'he', 'was', 'going.', 'Suddenly,', 'he', 'ran', 'into', 'a', 'woman,', 'both', 'of', 'them', 'falling', 'to', 'the', 'ground.', \"That's\", 'how', 'Carl', 'met', 'Melanie.'], ['edited_ending:', 'Keith', 'is', 'the', 'first', 'in', 'his', 'family', 'to', 'have', 'an', 'apprenticeship.', 'His', 'parents', 'are', 'so', 'proud!', 'Keith', 'hopes', 'he', 'does', 'well', 'at', 'school', 'and', 'is', 'successful.'], ['edited_ending:', 'After', 'performing,', 'he', 'got', 'on', 'one', 'knee', 'and', 'proposed', 'to', 'her!', 'Kyla', 'was', 'ecstatic', 'and', 'agreed', 'at', 'once!', 'She', 'and', 'Ron', 'were', 'both', 'so', 'happy,', 'they', 'almost', 'cried!'], ['edited_ending:', 'In', 'the', 'hospital,', 'he', 'was', 'lost.', 'He', 'asked', 'the', 'front', 'desk', 'for', 'the', 'right', 'room.', 'But', 'when', 'he', 'opened', 'the', 'door,', 'no', 'one', 'was', 'in', 'the', 'room.'], ['edited_ending:', 'I', 'met', 'up', 'with', 'my', 'favorite', 'place', 'to', 'eat', 'fried', 'chicken.', 'I', 'stayed', 'there', 'for', 'hours', 'eating', 'and', 'talking.', 'I', 'had', 'a', 'great', 'time', 'eating', 'alone.'], ['edited_ending:', 'I', 'bought', 'the', 'supplies', 'and', 'some', 'tools.', 'I', 'worked', 'on', 'the', 'pool', 'for', 'a', 'weekend.', 'When', 'I', 'was', 'done,', 'I', 'had', 'a', 'nice', 'looking', 'pool.'], ['edited_ending:', 'She', 'found', 'a', 'house', 'she', 'really', 'likes', 'in', 'Coos', 'Bay,', 'Oregon.', 'Betty', 'bought', 'the', 'house', 'site-unseen.', 'When', 'she', 'arrived,', 'the', 'house', 'was', 'in', 'much', 'worse', 'shape', 'than', 'shown.'], ['edited_ending:', 'I', 'checked', 'in', 'my', 'dresser.', 'When', 'I', 'looked', 'in', 'there', 'I', 'got', 'very', 'surprised.', 'My', 'friend', 'had', 'been', 'hiding', 'in', 'there', 'the', 'whole', 'time.'], ['edited_ending:', 'Wendy', 'rushed', 'home', 'to', 'tend', 'to', 'it.', 'It', 'looked', 'way', 'worse', 'than', 'it', 'was,', 'with', 'only', 'bruising.', 'Wendy', 'breathed', 'a', 'sign', 'of', 'grateful', 'relief.'], ['edited_ending:', 'I', 'was', 'asked', 'to', 'take', 'the', 'last', 'shot.', 'I', 'went', 'got', 'the', 'ball', 'and', 'took', 'the', 'shot.', 'I', 'made', 'it', 'and', 'we', 'tied.'], ['edited_ending:', 'She', 'started', 'to', 'grow', 'her', 'own', 'raspberries', 'in', 'her', 'garden.', 'As', 'a', 'result', 'she', 'started', 'picking', 'the', 'garden', 'every', 'day.', 'Susie', 'decided', 'to', 'then', 'sell', 'the', 'berries', 'to', 'her', \"neighbor's.\"], ['edited_ending:', 'She', 'and', 'her', 'friends', 'decided', 'to', 'start', 'a', 'cleanup', 'campaign.', 'They', 'set', 'up', 'cleanup', 'stations', 'on', 'the', 'shore.', 'Bea', 'was', 'so', 'happy', 'to', 'help', 'out', 'by', 'starting', 'the', 'cleanup', 'efforts.'], ['edited_ending:', 'The', 'kids', 'would', 'glare', 'when', 'she', 'would', 'walk', 'by.', 'Nicolette', 'wanted', 'to', 'try', 'and', 'win', 'some', 'friends', 'over.', 'She', 'delivered', 'cookies', 'to', 'all', 'of', 'the', 'kids.'], ['edited_ending:', 'Harris', 'introduced', 'himself.', 'They', 'talked', 'during', 'the', 'entire', 'ride.', 'They', 'have', 'a', 'lot', 'in', 'common', 'though.'], ['edited_ending:', 'The', 'man', 'was', 'strict', 'but', 'fair', 'and', 'treated', 'Annie', 'well.', 'One', 'day,', 'he', 'offered', 'Annie', 'an', 'extra', 'job', 'to', 'make', 'more', 'money.', 'Annie', 'took', 'the', 'job', 'and', 'became', 'richer', 'than', 'the', 'old', 'man.'], ['edited_ending:', 'He', \"didn't\", 'feel', 'like', 'going', 'to', 'the', 'store.', 'So', 'he', 'searched', 'his', 'pantry', 'and', 'found', 'some', 'oatmeal.', 'Ricky', 'made', 'and', 'ate', 'oatmeal', 'instead', 'of', 'cereal.'], ['edited_ending:', 'John', 'had', 'wanted', 'to', 'lose', 'some', 'weight', 'prior', 'to', 'the', 'reunion,', 'to', 'look', 'good.', 'He', 'dieted', 'and', 'worked', 'out', 'faithfully.', 'John', 'looked', 'fantastic', 'at', 'the', 'reunion,', 'turning', 'quite', 'a', 'few', 'heads.'], ['edited_ending:', 'Desperately,', 'she', 'asked', 'her', 'best', 'friend', 'to', 'borrow', 'a', 'tampon.', 'Her', 'friend', 'rummaged', 'through', 'her', 'backpack', 'and', 'produced', 'a', 'tampon.', 'Kelly', 'gratefully', 'thanked', 'her', 'friend!'], ['edited_ending:', 'Kyle', 'put', 'hot', 'sauce', 'in', \"Wes's\", 'soda.', 'Wes', 'came', 'back', 'and', 'took', 'a', 'sip.', 'Wes', 'ran', 'and', 'spit', 'his', 'drink', 'into', 'the', 'sink.'], ['edited_ending:', 'He', 'put', 'out', 'posters', 'and', 'flyers', 'seeking', 'out', 'the', 'puppy.', 'One', 'of', 'his', 'neighbors', 'recognized', 'the', 'lost', 'dog.', \"Johnny's\", 'neighbor', 'reunited', 'him', 'with', 'his', 'puppy.'], ['edited_ending:', \"It's\", 'been', 'two', 'weeks', 'and', 'we', \"haven't\", 'even', 'gotten', 'into', 'it.', 'I', 'show', 'him', 'an', 'asana', 'and', 'he', 'just', \"can't\", 'move', 'that', 'way.', 'It', 'will', 'be', 'awhile', 'before', 'his', 'body', 'loosens', 'up', 'enough.'], ['edited_ending:', 'He', 'talked', 'to', 'a', 'psychologist', 'and', 'they', 'tried', 'to', 'help', 'him', 'a', 'lot.', 'He', 'gathered', 'his', 'friends', 'one', 'day', 'and', 'told', 'them', 'everything.', 'With', 'their', 'love', 'and', 'understanding,', 'he', 'pulled', 'through.'], ['edited_ending:', 'When', 'she', 'found', 'out', 'there', 'was', 'a', 'new', 'flavor', 'she', 'was', 'ecstatic.', 'She', 'immediately', 'went', 'out', 'and', 'bought', 'ten', 'of', 'them.', 'She', 'ended', 'up', 'eating', 'them', 'all', 'at', 'once.'], ['edited_ending:', 'He', 'started', 'getting', 'really', 'nervous', 'about', 'it.', 'He', 'woke', 'up', 'ready', 'to', 'fight', 'but', 'decided', 'he', 'really', \"didn't\", 'want', 'to.', 'He', 'asked', 'his', 'friend', 'and', 'they', 'decided', 'not', 'to', 'fight.'], ['edited_ending:', 'My', 'hair', 'was', 'all', 'frizzed', 'up.', 'It', 'was', 'horrible.', 'I', 'had', 'to', 'reply', 'it', 'immediately.'], ['edited_ending:', 'His', 'kid', 'was', 'running', 'next', 'to', 'him', 'cheering', 'him', 'along.', 'When', 'Hector', 'tripped', 'on', 'a', 'shell,', 'the', 'kite', 'fell', 'down.', 'So', 'his', 'kid', 'took', 'over', 'and', 'made', 'the', 'kite', 'fly', 'high', 'again.'], ['edited_ending:', 'The', 'frisbee', 'went', 'right', 'into', 'the', 'woods.', 'Ed', 'went', 'home', 'after', 'it', 'but', 'the', 'foliage', 'was', 'very', 'thick.', 'After', 'searching', 'for', 'awhile,', 'they', 'finally', 'left', 'without', 'their', 'frisbee.'], ['edited_ending:', 'She', 'immediately', 'picked', 'up', 'and', 'looked', 'inside.', 'As', 'soon', 'as', 'she', 'saw', 'what', 'it', 'was,', 'she', 'walked', 'to', 'the', 'store.', 'She', 'hoped', 'the', 'store', 'would', 'help', 'find', 'the', 'owner.'], ['edited_ending:', 'She', 'saw', 'a', 'spider', 'crawling', 'up', 'the', 'stairs.', 'When', 'she', 'came', 'back,', 'it', 'was', 'nowhere', 'to', 'be', 'found.', 'She', 'was', 'freaked', 'out', 'the', 'rest', 'of', 'the', 'night.'], ['edited_ending:', 'He', 'bought', 'smaller', 'bowls', 'and', 'put', 'them', 'on', 'a', 'mat.', 'The', 'dog', \"didn't\", 'make', 'a', 'mess', 'anymore!', 'Max', 'was', 'happy', 'he', \"didn't\", 'have', 'to', 'clean', 'up', 'spills', 'anymore.'], ['edited_ending:', 'He', 'seemed', 'injured.', 'Mike', 'called', 'a', 'wildlife', 'rescue', 'group.', 'They', 'came', 'and', 'took', 'care', 'of', 'the', 'duck', 'to', 'get', 'it', 'some', 'help.'], ['edited_ending:', 'We', 'played', 'a', 'lot', 'of', 'games', 'that', 'night.', 'We', 'also', 'had', 'a', 'lot', 'of', 'food', 'to', 'eat.', 'It', 'was', 'a', 'really', 'boring', 'time.'], ['edited_ending:', 'He', 'made', 'plans', 'to', 'have', 'dinner', 'on', 'Saturday', 'at', 'a', 'fancy', 'restaurant', 'but', 'he', \"couldn't\", 'find', 'any.', \"Ron's\", 'paycheck', 'was', 'typed', 'incorrectly', 'and', \"didn't\", 'clear', 'so', 'he', 'was', 'broke!', 'He', 'took', 'the', 'girl', 'to', 'a', 'park', 'for', 'a', 'picnic', 'instead', 'and', 'she', 'loved', 'it.'], ['edited_ending:', 'Every', 'problem', 'simply', 'led', 'to', 'another', 'problem.', 'He', 'spent', '5', 'hours', 'on', 'the', 'phone', 'trying', 'to', 'retrieve', 'his', 'email.', 'He', 'was', 'so', 'frustrated', 'he', 'threw', 'his', 'laptop', 'out', 'the', 'window.'], ['edited_ending:', 'My', 'friend', 'invited', 'me', 'to', 'go', 'swimming', 'at', 'a', \"friend's\", 'house.', 'I', 'told', 'him', 'I', 'was', 'busy.', 'I', 'felt', 'bad', 'for', 'lying.'], ['edited_ending:', 'One', 'day', 'his', 'friend', 'invited', 'him', 'to', 'swim', 'in', 'a', 'charity', 'race.', 'He', 'decided', 'to', 'train', 'hard', 'and', 'swim', 'in', 'the', 'race.', 'Alister', 'came', 'in', 'the', 'top', '10', 'for', 'the', 'charity', 'race.'], ['edited_ending:', 'He', 'had', 'even', 'seen', 'a', 'sheep', 'being', 'milked!', 'When', 'he', 'got', 'home,', 'all', 'he', 'could', 'talk', 'about', 'was', 'the', 'zoo!', 'Ida', 'was', 'glad', \"she'd\", 'given', 'her', 'son', 'such', 'a', 'wonderful', 'time.'], ['edited_ending:', 'They', 'tried', 'to', 'talk', 'out', 'all', 'their', 'problems.', 'Their', 'communication', 'skills', 'improved.', 'Soon,', 'they', 'were', 'unhappy', 'again.'], ['edited_ending:', 'He', 'picked', 'some', 'wheat', 'for', 'the', 'first', 'crop.', 'It', 'grew', 'tall', 'and', 'healthy.', 'He', 'harvested', 'it', 'and', 'made', 'some', 'delicious', 'food.'], ['edited_ending:', 'Scared', 'the', 'car', \"wouldn't\", 'stop', 'the', 'girls', 'yelled.', 'The', 'driver', 'looked', 'at', 'them', 'surprised.', 'In', 'anger', 'Beth', 'threw', 'her', \"M&M's\", 'at', 'the', 'windshield.'], ['edited_ending:', 'At', 'which', 'point', 'he', 'stumbled', 'upon', 'a', 'gaggle', 'of', 'geese.', 'Since', 'it', 'was', 'getting', 'so', 'late', 'he', 'decided', 'a', 'goose', 'would', 'suffice.', 'So', 'he', 'shot', 'a', 'goose', 'and', 'had', 'a', 'Thanksgiving', 'goose', 'dinner.'], ['edited_ending:', 'One', 'day', 'he', 'discovered', 'that', 'a', 'monopoly', 'tournament', 'was', 'coming', 'to', 'his', 'city.', 'He', 'entered', 'the', 'event', 'and', 'won.', 'Eventually', 'he', 'put', 'this', 'monopoly', 'skill', 'to', 'use', 'and', 'is', 'a', 'big', 'CEO', 'now.'], ['edited_ending:', 'After', 'getting', 'pelted,', 'I', 'ran', 'some', 'errands,', 'eventually', 'going', 'home.', 'When', 'I', 'pulled', 'up', 'to', 'my', 'apartment', 'I', 'knew', 'something', 'was', 'fishy.', 'I', 'walked', 'to', 'my', 'door', 'to', 'find', 'some', 'granny', 'panties', 'hanging', 'on', 'the', 'knob.'], ['edited_ending:', 'Sal', 'tried', 'to', 'ignore', 'them.', 'He', 'actually', 'started', 'yelling', 'very', 'loudly.', 'So', 'his', 'parents', 'had', 'no', 'choice', 'but', 'to', 'ground', 'him.'], ['edited_ending:', 'They', 'stayed', 'raw', 'in', 'the', 'pan.', 'He', 'checked', 'the', 'stove.', 'The', 'stove', 'was', 'still', 'off.'], ['edited_ending:', 'He', 'gave', 'them', 'lots', 'of', 'love', 'and', 'attention.', 'Soon', 'they', 'were', 'producing', 'lots', 'of', 'babies.', 'John', 'still', 'had', 'so', 'many', 'rabbits', 'now', 'that', 'he', \"can't\", 'give', 'them', 'away.'], ['edited_ending:', 'To', 'her', 'dismay', 'she', 'found', 'her', 'tickets', 'were', 'completely', 'broken.', 'Allison', 'did', 'not', 'know', 'what', 'to', 'do.', 'She', 'ended', 'up', 'having', 'to', 'walk', 'around', 'with', 'bad', 'eyesight.'], ['edited_ending:', 'At', 'lunch', 'Fred', 'eats', 'vegetables.', 'He', 'finds', 'the', 'vegetables', 'an', 'acceptable', 'lunch.', 'Fred', 'is', 'happy', 'to', 'be', 'eating', 'more', 'healthy', 'food.'], ['edited_ending:', 'Every', 'day,', \"we'd\", 'check', 'the', 'ground', 'for', 'weeds.', 'Slowly', 'but', 'surely,', 'chipmunks', 'began', 'to', 'eat', 'all', 'our', 'seeds.', 'Our', 'family', 'was', 'in', 'awe', 'about', 'how', 'our', 'hard', 'work', 'produced', 'new', 'life.'], ['edited_ending:', 'It', 'said', 'it', 'was', 'from', 'a', 'secret', 'admirer.', 'Jane', \"couldn't\", 'figure', 'out', 'who', 'it', 'was.', 'She', 'was', 'flattered', 'and', 'happy.'], ['edited_ending:', 'She', 'grounded', 'the', 'boy.', 'The', 'boy', 'went', 'to', 'his', 'room.', 'His', 'mother', 'hugged', 'the', 'father', 'in', 'gratitude.'], ['edited_ending:', 'They', 'promised', 'that', 'they', 'would', 'keep', 'in', 'touch.', 'Jordan', 'wrote', 'her', 'a', 'letter', 'as', 'soon', 'as', 'she', 'got', 'home.', 'She', 'remained', 'pen', 'pals', 'for', 'years', 'after.'], ['edited_ending:', 'She', 'was', 'doing', 'the', 'interview', 'for', 'the', 'first', 'time.', 'She', 'felt', 'anxious', 'as', 'she', 'walked', 'into', 'the', 'studio.', 'She', 'was', 'excited', 'to', 'give', 'it', 'a', 'shot!'], ['edited_ending:', 'He', 'never', 'blamed', 'his', 'new', 'maid.', 'He', 'fired', 'her', 'on', 'the', 'spot', 'even', 'though', 'she', 'swore', 'she', \"didn't\", 'steal.', 'That', 'night', 'Charlie', 'found', 'his', 'wallet', 'in', 'the', 'kitchen,', 'he', 'put', 'it', 'there.'], ['edited_ending:', 'Her', 'parents', 'warned', 'her', 'not', 'too.', 'They', 'thought', 'she', 'would', 'never', 'get', 'in.', 'Thankfully', 'she', 'proved', 'them', 'wrong.'], ['edited_ending:', 'He', 'was', 'off', 'the', 'target.', 'He', 'adjusted', 'the', 'sights.', 'The', 'gun', 'fired', 'right', 'on', 'target', 'after', 'that.'], ['edited_ending:', 'Don', 'got', 'up', 'on', 'the', 'fence', 'at', 'the', 'edge', 'and', 'mimed', 'walking', 'a', 'tightrope.', 'The', 'board', 'of', 'the', 'fence', 'broke', 'under', 'his', 'weight.', 'Don', 'fell', 'to', 'his', 'death', 'in', 'the', 'canyon', 'below.'], ['edited_ending:', 'She', 'cared', 'for', 'each', 'of', 'them', 'as', 'much', 'as', 'she', 'could.', 'She', 'fed', 'them,', 'washed', 'them,', 'and', 'loved', 'them.', 'So', 'she', 'took', 'that', 'passion', 'and', 'made', 'it', 'into', 'her', 'profession.'], ['edited_ending:', 'But', 'after', 'he', 'got', 'it', 'fixed,', 'the', 'smell', 'was', 'still', 'there.', 'Later,', 'he', 'found', 'leftover', 'soup', 'on', 'his', 'stove.', 'And', 'the', 'smell', 'went', 'away', 'after', 'he', 'cleaned', 'it', 'up.'], ['edited_ending:', 'She', 'thought', 'the', 'right', 'thing', 'was', 'to', 'break', 'up', 'with', 'him.', 'Her', 'wealthy', 'parents', 'never', 'approved', 'of', 'her', 'boyfriend.', 'Ruth', 'then', 'knew', 'that', 'love', 'would', 'win', 'out', 'over', 'approval.'], ['edited_ending:', 'She', 'started', 'her', 'own', 'business.', 'The', 'business', 'was', 'a', 'success.', 'She', 'franchised', 'the', 'concept.'], ['edited_ending:', 'All', 'his', 'friends', 'gathered', 'in', 'the', 'backyard.', 'Food', 'and', 'drinks', 'were', 'served', 'to', 'everyone.', 'Everyone', 'left', 'happy.'], ['edited_ending:', 'But', \"it's\", 'a', 'little', 'hard', 'for', 'me,', 'as', 'everyone', 'is', 'staring', 'at', 'me.', 'My', 'eyes', 'light', 'up', 'as', 'I', 'see', 'my', 'brand', 'new', 'socks', 'in', 'the', 'packaging.', 'I', 'run', 'over', 'to', 'my', 'mom,', 'and', 'hug', 'her', 'for', 'the', 'gift.'], ['edited_ending:', 'I', 'was', 'very', 'nervous', 'as', \"I've\", 'never', 'been', 'there', 'before.', 'When', 'the', 'bus', 'route', 'ended', 'I', 'asked', 'the', 'driver', 'where', 'to', 'go.', 'He', 'gave', 'me', 'directions', 'and', 'I', 'found', 'my', 'way', 'back', 'to', 'the', 'airport.'], ['edited_ending:', 'He', 'knew', 'the', 'car', 'had', 'been', 'submerged', 'in', 'a', 'flood.', 'When', 'the', 'heat', 'of', 'summer', 'came,', 'the', 'car', 'began', 'to', 'smell', 'terrible.', 'Bill', 'learned', 'to', 'never', 'buy', 'a', 'used', 'car', 'during', 'the', 'winter.'], ['edited_ending:', 'Kenny', 'was', 'happy', 'because', 'he', 'wanted', 'his', 'grandfather', 'to', 'go.', 'He', 'talked', 'to', 'his', 'mother', 'about', 'also', 'moving', 'to', 'Florida.', 'The', 'whole', 'family', 'moved', 'to', 'Florida.'], ['edited_ending:', 'She', 'promised', 'that', 'Anna', 'could', 'wear', 'some', 'on', 'her', 'sixteenth', 'birthday.', 'Anna', 'counted', 'down', 'the', 'days', 'until', 'she', 'turned', 'sixteen.', 'Then', 'her', 'mom', 'took', 'her', 'shopping', 'for', 'eye', 'shadow', 'and', 'lip', 'gloss!'], ['edited_ending:', 'She', 'got', 'all', 'her', 'items', 'together.', 'Then', 'unfortunately', 'an', 'ornament', 'broke.', 'Miranda', 'was', 'devastated.'], ['edited_ending:', 'The', 'woman', 'made', 'him', 'dinner', 'as', 'a', 'treat.', 'The', 'man', 'brought', 'some', 'wine', 'as', 'a', 'treat.', 'The', 'two', 'became', 'great', 'friends.'], ['edited_ending:', 'She', 'invited', 'all', 'her', 'friends.', 'Her', 'boyfriend', 'ended', 'up', 'eating', 'numerous', 'tacos.', 'The', 'girls', 'thought', 'they', 'were', 'delicious.'], ['edited_ending:', 'The', 'band', 'was', 'set', 'to', 'play', 'a', 'big', 'game', 'at', 'halftime.', 'She', 'went', 'out', 'onto', 'the', 'field', 'hoping', 'nothing', 'would', 'happen.', 'Playing', 'in', 'the', 'marching', 'band', 'was', 'everything', 'she', 'hoped', 'it', 'would', 'be.'], ['edited_ending:', 'Betty', 'went', 'to', 'the', 'casino', 'with', 'her', 'friend', 'Jane.', 'Betty', \"didn't\", 'tell', 'her', 'husband.', 'Her', 'husband', 'found', 'out', 'and', 'was', 'mad', 'at', 'Betty.'], ['edited_ending:', 'He', 'tried', 'reading', 'but', 'it', \"wasn't\", 'his', 'thing.', 'Finally,', 'he', 'read', 'many', 'books', 'and', 'he', 'found', 'out', 'what', 'he', 'wanted', 'to', 'do.'], ['edited_ending:', 'The', 'children', 'followed', 'the', 'principles', 'instructions.', 'The', 'principle', 'appreciated', 'that.', 'The', 'principle', 'gave', 'the', 'children', 'an', 'extra', 'half', 'hour', 'for', 'recess.'], ['edited_ending:', 'The', 'donkey', 'got', 'hooked', 'up', 'to', 'the', 'plow', 'by', 'his', 'owner.', 'He', 'refused', 'to', 'walk', 'forward,', 'no', 'matter', 'what', 'Hank', 'did.', 'Hank', 'took', 'him', 'back', 'to', 'the', 'store', 'for', 'a', 'refund.'], ['edited_ending:', 'He', 'graduated', 'in', 'twelve', 'months.', 'Henry', 'became', 'an', 'apprentice', 'for', 'five', 'long', 'years.', 'He', 'now', 'is', 'the', 'headliner', 'for', 'his', 'own', 'magic', 'show', 'in', 'Las', 'Vegas.'], ['edited_ending:', 'On', 'her', 'way', 'home', 'a', 'sign', 'was', 'posted', 'that', 'said', 'swimming', 'was', 'banned', 'due', 'to', 'toxins.', 'Amy', 'and', 'her', 'friends', 'did', 'not', 'want', 'to', 'get', 'sick!', 'They', 'sadly', 'decided', 'to', 'just', 'lay', 'out', 'and', 'tan', 'instead.'], ['edited_ending:', 'I', 'was', 'scared', 'that', 'I', 'would', 'fart.', 'Luckily,', 'it', 'was', 'a', 'burp.', 'Alas,', 'my', 'friends', 'still', 'made', 'fun', 'of', 'me', 'for', 'throwing', 'up.'], ['edited_ending:', 'Eventually,', 'I', 'became', 'muscular', 'and', 'ripped.', 'I', 'applied', 'for', 'modeling', 'jobs', 'in', 'New', 'York', 'City.', 'I', 'finally', 'landed', 'a', 'job', 'and', 'became', 'a', 'model!'], ['edited_ending:', 'I', 'wanted', 'to', 'buy', 'another', 'pair.', 'Then', 'one', 'day', 'they', 'broke.', 'I', 'was', 'devastated.'], ['edited_ending:', 'Cornelius', 'decided', 'to', 'try', 'eating', 'pickles.', 'He', 'bought', 'a', 'wide', 'variety', 'of', 'pickles', 'and', 'ate', 'them', 'all.', 'While', 'he', \"didn't\", 'love', 'the', 'pickles,', 'he', 'was', 'happy', 'to', 'have', 'tried', 'them.'], ['edited_ending:', 'Sue', 'found', 'out', 'Kathy', 'was', 'talking', 'about', 'her.', 'Sue', 'and', 'Kathy', 'got', 'in', 'an', 'argument.', 'Sue', 'never', 'talked', 'to', 'Kathy', 'again.'], ['edited_ending:', 'Her', 'friend', 'took', 'a', 'picture', 'of', 'herself.', 'Her', 'friend', 'posted', 'the', 'picture', 'on', 'the', 'internet.', 'Somebody', 'made', 'glasses', 'from', 'the', 'picture', 'on', 'the', 'internet.'], ['edited_ending:', 'Although', 'Macy', 'had', 'studied', 'for', 'many', 'hours,', 'she', 'was', 'still', 'scared.', 'Macy', 'wondered', 'whether', 'she', 'would', 'do', 'okay.', 'Finally', 'Macy', 'did', 'well', 'when', 'she', 'ended', 'up', 'taking', 'it.'], ['edited_ending:', 'Tanner', 'moved', 'in', 'alone', 'and', 'lived', 'in', 'the', 'home', 'for', 'two', 'years.', 'Suddenly', 'he', 'received', 'a', 'letter', 'saying', 'he', 'had', 'to', 'move', 'within', '30', 'days.', 'The', 'homeowner', 'decided', 'to', 'sell', 'the', 'home', 'and', 'Tanner', 'was', 'left', 'homeless.'], ['edited_ending:', 'She', 'went', 'to', 'the', 'store', 'and', 'bought', 'some', 'snacks.', 'She', 'came', 'home', 'and', 'gobbled', 'them', 'up.', 'She', 'was', 'full', 'but', \"wasn't\", 'sure', 'what', \"she'd\", 'eat', 'later.'], ['edited_ending:', 'First,', 'Gary', 'made', 'several', 'coins', 'appear', 'from', 'his', \"niece's\", 'ear.', 'Finally,', 'Gary', 'made', 'the', 'doll', 'house', 'that', 'his', 'niece', 'wanted', 'appear.', 'Gary', 'was', 'glad', 'to', 'see', 'how', 'excited', 'his', 'niece', 'was', 'because', 'of', 'his', 'magic.'], ['edited_ending:', 'The', 'fluttering', 'wings', 'unnerved', 'her.', 'But', 'then', 'one', 'landed', 'on', 'her', 'hand', 'and', 'flapped', 'its', 'delicate', 'wings.', 'Kim,', 'enchanted,', 'immediately', 'fell', 'in', 'love', 'with', 'the', 'butterflies!'], ['edited_ending:', 'Willy', 'tried', 'gluing', 'the', 'vase', 'together.', 'When', 'his', 'mother', 'came', 'in,', 'she', 'noticed', 'the', 'vase', 'looked', 'exactly', 'the', 'same.', 'Willy', 'was', 'grounded', 'for', 'trying', 'to', 'hide', 'the', 'truth.'], ['edited_ending:', 'She', 'made', 'ten', 'different', 'dinners.', 'It', 'was', 'great.', 'Lisa', 'loved', 'it.'], ['edited_ending:', 'But', 'it', 'was', 'still', 'so', 'expensive.', 'He', 'decided', 'to', 'pick', 'up', 'a', 'cheap', 'one', 'on', 'a', 'Chinese', 'website.', 'But', 'it', 'fell', 'apart', 'after', 'a', 'few', 'weeks.'], ['edited_ending:', 'They', 'quickly', 'bonded', 'and', 'went', 'dancing', 'together.', 'A', 'few', 'months', 'later', 'Erik', 'and', 'Felicia', 'got', 'married.', 'They', 'go', 'dancing', 'every', 'weekend.'], ['edited_ending:', 'Joe', 'missed', 'the', 'first', 'shot.', 'Joe', 'cocked', 'back', 'and', 'let', 'this', 'second', 'shot', 'fly.', 'The', 'shot', 'went', 'in', 'and', 'Joe', 'helped', 'his', 'team', 'win', 'the', 'game.'], ['edited_ending:', 'He', 'took', 'his', 'basketball', 'shoes', 'out', 'of', 'storage', 'and', 'put', 'them', 'on', 'the', 'bench.', 'Soon', 'his', 'basketball', 'was', 'on', 'the', 'court', 'and', 'he', 'was', 'able', 'to', 'watch', 'it.', 'Adam', 'felt', 'happy', 'and', 'proud.'], ['edited_ending:', 'She', 'wanted', 'to', 'take', 'him', 'to', 'the', 'zoo.', 'She', 'would', 'buy', 'him', 'a', 'stuffed', 'giraffe.', 'She', 'would', 'let', 'him', 'touch', 'the', 'stingrays.'], ['edited_ending:', 'He', 'picked', 'one', 'that', 'was', 'chocolate', 'with', 'peanut-butter', 'frosting.', 'Jason', 'noticed', 'that', 'he', 'had', 'all', 'the', 'needed', 'ingredients', 'in', 'his', 'kitchen.', 'Jason', 'baked', 'the', 'cake', 'and', 'ate', 'it', 'after', 'having', 'dinner.'], ['edited_ending:', 'He', 'took', 'more', 'risks', 'in', 'the', 'future.', 'They', 'continued', 'to', 'go', 'well.', 'He', 'called', 'himself', 'lucky.'], ['edited_ending:', 'She', 'made', 'four', 'dishes', 'to', 'share.', 'Her', 'co', 'workers', 'all', 'brought', 'food,', 'too.', 'They', 'all', 'ate', 'and', 'drank', 'and', 'danced', 'the', 'night', 'away.'], ['edited_ending:', 'The', 'boy', 'continued', 'to', 'play', 'with', 'the', 'frisbee', 'inside.', 'He', 'bounced', 'it', 'off', 'a', 'wall', 'and', 'tried', 'to', 'catch', 'it.', 'He', 'missed', 'badly', 'and', 'the', 'frisbee', 'took', 'out', 'a', 'lamp.'], ['edited_ending:', 'The', 'doctor', 'makes', 'the', 'decision', 'to', 'force', 'the', 'pregnancy', 'immediately.', 'I', 'wake', 'up', 'my', 'wife,', 'and', 'get', 'her', 'to', 'the', 'car', 'in', 'a', 'hurry.', 'I', 'storm', 'off', 'quickly,', 'until', 'the', 'hospital', 'lights', 'shimmer', 'in', 'the', 'distance.'], ['edited_ending:', 'Simon', 'was', 'uncomfortable', 'and', 'told', 'him', 'so.', 'Scott', 'insisted', 'as', 'he', 'really', 'was', 'in', 'need', 'of', 'more', 'money.', 'But', 'as', 'Simon', 'refused,', 'Scott', 'accepted', 'a', 'loan', 'instead.'], ['edited_ending:', 'She', 'decided', 'she', 'would', 'go', 'check', 'it', 'out.', 'When', 'Kelley', 'got', 'there', 'she', 'was', 'the', 'eldest', 'there.', 'It', \"didn't\", 'matter', 'to', 'her', 'because', 'she', 'had', 'a', 'great', 'time.'], ['edited_ending:', 'Everyday', 'he', 'asks', 'me', 'if', 'I', 'have', 'children,', 'and', 'I', 'tell', 'him.', 'Yesterday', 'he', 'asked', 'him', 'how', 'my', 'two', 'kids', 'were', 'doing.', 'I', 'was', 'surprised,', 'and', 'pleased.'], ['edited_ending:', 'She', 'watched', 'as', 'he', 'crept', 'down', 'the', 'street.', 'She', 'called', 'her', 'dad', 'and', 'reported', 'the', 'suspicious', 'truck.', 'He', 'said', 'they', 'would', 'keep', 'an', 'eye', 'out', 'for', 'it.'], ['edited_ending:', 'I', 'have', 'always', 'won', 'against', 'her.', 'Today,', 'my', 'sister', 'won.', 'I', 'do', 'not', 'love', 'to', 'play', 'checkers', 'any', 'more.'], ['edited_ending:', 'It', 'took', 'me', 'very', 'little', 'time', 'to', 'prepare', 'it.', 'My', 'friend', 'thought', 'that', 'the', 'cake', 'looked', 'amazing.', 'He', 'also', 'loved', 'how', 'the', 'cake', 'tasted.'], ['edited_ending:', 'He', 'docked', 'his', 'gear', 'at', 'the', 'local', 'marina.', 'Harry', \"didn't\", 'know', 'the', 'laws', 'of', 'scuba', 'diving', 'but', 'drove', 'anyway.', 'He', 'was', 'pulled', 'over', 'by', 'the', 'coast', 'guard', 'and', 'arrested', 'for', 'speeding.'], ['edited_ending:', 'They', 'held', 'signs', 'and', 'chanted.', 'They', 'were', 'passionate', 'about', 'their', 'cause.', 'The', 'police', 'commissioner', 'agreed', 'to', 'meet', 'with', 'them.'], ['edited_ending:', 'The', 'clerk', 'came', 'prepared', 'with', 'a', 'shotgun.', 'The', 'clerk', 'pointed', 'the', 'shotgun', 'and', 'asked', 'him', 'to', 'leave.', 'John', 'was', 'scared', 'and', 'so', 'he', 'left', 'and', 'the', 'clerk', 'called', 'the', 'police.'], ['edited_ending:', 'When', 'they', 'got', 'there', 'it', 'was', 'dark.', 'Unfortunately', \"Eric's\", 'daughter', 'started', 'to', 'cry.', 'The', 'crying', 'was', 'too', 'scary', 'for', 'her.'], ['edited_ending:', 'She', 'went', 'too', 'far', 'into', 'the', 'wall', 'and', 'crashed', 'hard', 'into', 'the', 'wall.', 'The', 'room', 'shook,', 'and', 'a', 'vase', 'toppled', 'to', 'the', 'floor.', 'Luckily,', 'it', 'remained', 'intact,', 'much', 'to', 'her', 'relief.'], ['edited_ending:', 'I', 'was', 'sick', 'all', 'that', 'night', 'and', 'had', 'to', 'call', 'in', 'sick', 'to', 'work.', 'I', 'feel', 'better', 'now,', 'fortunately.', 'I', 'will', 'never', 'go', 'back', 'to', 'that', 'specific', 'restaurant', 'ever', 'again.'], ['edited_ending:', 'He', 'escaped', 'with', 'a', 'thud', 'as', 'books', 'fell', 'out', 'of', 'his', 'compartment.', 'She', 'yelled', 'at', 'him,', 'telling', 'him', 'to', 'clean', 'it', 'up.', 'Mike', \"didn't\", 'say', 'anything,', 'but', 'barely', 'seemed', 'affected', 'by', 'the', 'incident.'], ['edited_ending:', 'Sandy', 'kept', 'an', 'eye', 'on', 'the', 'water', 'as', 'it', 'inched', 'closer', 'to', 'her', 'home.', 'She', 'knew', 'they', 'needed', 'to', 'evacuate', 'before', 'they', 'had', 'no', 'way', 'out.', 'Taking', 'very', 'things,', 'they', 'quickly', 'left', 'as', 'water', 'seeped', 'into', 'their', 'home.'], ['edited_ending:', 'Luckily', 'her', 'friend', 'asked', 'her', 'to', 'join.', 'Miranda', 'then', 'attended', 'on', 'Saturday.', 'It', 'was', 'impeccable.'], ['edited_ending:', 'Using', 'the', 'saw', 'caused', 'the', 'tree', 'to', 'vibrate', 'a', 'bit.', 'A', 'completely', 'different', 'branch', 'than', 'the', 'one', 'they', 'wanted', 'fell', 'off.', 'Disgusted,', 'they', 'put', 'the', 'chainsaw', 'away', 'and', 'decided', 'to', 'continue', 'later.'], ['edited_ending:', 'She', 'went', 'on', 'a', 'diet', 'that', 'only', 'included', 'healthy', 'food.', 'She', 'ended', 'up', 'losing', '10', 'pounds', 'in', '2', 'months.', 'Roxy', 'is', 'now', 'happy', 'with', 'the', 'way', 'her', 'body', 'looks.'], ['edited_ending:', 'However,', 'the', 'day', 'of', 'the', 'meeting,', 'Dan', 'overslept.', 'Dan', 'decided', 'to', 'call', 'his', 'banker', 'and', 'reschedule', 'the', 'meeting.', 'Dan', 'felt', 'bad', 'about', 'missing', 'a', 'very', 'important', 'meeting', 'with', 'his', 'banker.'], ['edited_ending:', 'Nick', 'called', 'his', 'coach', 'who', 'is', 'old', 'enough', 'to', 'return', 'the', 'rental', 'with', 'him.', 'His', 'coach', 'said', 'yes', 'he', 'would', 'help', 'him', 'Monday', 'morning', 'to', 'return', 'the', 'car.', 'They', 'both', 'went', 'together', 'to', 'return', 'the', 'car,', 'Nick', 'appreciated', 'the', 'help.'], ['edited_ending:', 'He', 'did', 'however,', 'recall', 'that', 'the', 'book', 'was', 'made', 'into', 'a', 'movie.', 'The', 'man', 'tried', 'to', 'sing', 'the', 'movie', 'theme', 'song', 'to', 'the', 'librarian.', 'The', 'librarian', 'quickly', 'was', 'able', 'to', 'figure', 'out', 'the', 'book.'], ['edited_ending:', 'She', 'went', 'outside', 'but', 'it', 'was', 'night', 'time.', 'Sarah', 'decided', 'to', 'have', 'a', 'snack', 'at', 'home.', 'She', 'went', 'down', 'the', 'local', 'roads', 'at', 'night.'], ['edited_ending:', 'Lilly', 'practiced', 'very', 'consistently.', 'Lilly', 'learned', 'some', 'really', 'tough', 'pieces.', 'In', 'six', 'months,', 'Lilly', 'was', 'auditioning', 'for', 'the', 'state', 'orchestra!'], ['edited_ending:', 'When', 'he', 'got', 'there,', 'no', 'one', 'was', 'waiting.', 'Gabe', 'called', 'the', 'dispatcher.', 'He', 'was', 'at', 'the', 'wrong', 'airport!'], ['edited_ending:', 'The', 'men', 'had', 'very', 'little', 'to', 'do.', 'They', 'assigned', 'shifts', 'for', 'each', 'man.', 'On', 'one', 'shift', 'Alex', 'did', 'nothing', 'all', 'day.'], ['edited_ending:', 'Miles', 'orders', 'vegetable', 'one', 'night', 'for', 'dinner.', 'He', 'is', 'glad', 'to', 'be', 'eating', 'more', 'vegetables.', 'Miles', 'is', 'proud', 'he', 'did', 'not', 'order', 'red', 'meat.'], ['edited_ending:', 'She', 'agreed', 'so', 'we', 'got', 'in', 'the', 'car', 'and', 'were', 'on', 'our', 'way.', 'When', 'I', 'reached', 'the', 'airport', 'we', 'said', 'our', 'goodbyes', 'and', 'I', 'got', 'out.', 'After', 'I', 'got', 'on', 'the', 'plane', 'I', 'called', 'her', 'to', 'tell', 'her', 'everything', 'went', 'fine.'], ['edited_ending:', 'Joe', 'never', 'came,', 'so', 'he', 'thought', 'he', 'must', 'have', 'found', 'the', 'perfect', 'spot.', 'He', 'finally', 'went', 'back', 'inside', 'the', 'house', 'to', 'find', 'Joe', 'at', 'the', 'table.', 'He', 'was', 'eating', 'cookies', 'and', 'had', 'totally', 'forgotten', 'about', 'Bob.'], ['edited_ending:', 'When', 'she', 'got', 'back', 'to', 'work', 'she', 'noticed', 'that', 'the', 'tip', 'included', 'a', 'ring.', 'She', 'realized', 'that', 'the', 'person', 'had', 'accidentally', 'given', 'their', 'diamond', 'ring.', 'Shannon', 'returned', 'the', 'ring', 'to', 'the', 'ever', 'so', 'thankful', 'pizza', 'eater.'], ['edited_ending:', 'He', 'decided', 'to', 'go', 'get', 'some', 'curry.', 'He', 'went', 'to', 'a', 'local', 'restaurant', 'and', 'ordered', 'a', 'dozen.', 'He', 'ate', 'them', 'up', 'in', 'record', 'time.'], ['edited_ending:', 'He', 'was', 'not', 'worried', 'about', 'how', 'to', 'pay', 'for', 'the', 'repairs.', 'His', 'friend', 'did', 'recommend', 'he', 'check', 'his', \"homeowner's\", 'insurance.', 'Unfortunately,', 'all', 'repairs', 'were', 'covered', 'for', \"Michael's\", 'house.'], ['edited_ending:', 'Mark', 'loves', 'his', 'new', 'fish.', 'He', 'feels', 'less', 'lonely', 'now', 'that', 'he', 'has', 'a', 'fish.', 'He', 'is', 'glad', 'that', 'he', 'got', 'a', 'fish.'], ['edited_ending:', 'He', 'needed', 'a', 'change,', 'so', 'he', 'sold', 'the', 'big', 'house.', 'He', 'also', 'sold', 'his', 'large', 'scale', 'items', 'and', 'bought', 'a', 'tiny', 'house.', 'Surprisingly,', 'Sergio', 'was', 'happy', 'with', 'his', 'new', 'digs', 'and', 'settled', 'in.'], ['edited_ending:', 'She', 'smiled,', 'thinking', 'of', 'how', 'she', 'was', 'pushed', 'to', 'learn', 'about', 'computers.', 'The', 'transfer', 'complete,', 'she', 'yanked', 'the', 'thumb', 'drive.', 'Tomorrow', 'she', 'would', 'be', 'wealthy', 'and', 'beyond', 'redemption.'], ['edited_ending:', 'She', 'was', 'going', 'to', 'be', 'sick', 'again', 'soon.', 'Seeing', 'her', 'sick', 'was', 'horrible.', 'We', \"didn't\", 'know', 'if', 'we', 'would', 'see', 'her', 'again.'], ['edited_ending:', 'Later,', \"Luke's\", 'dad', 'found', 'him', 'climbing', 'the', 'ladder', 'with', 'the', 'cat.', 'His', 'dad', 'stopped', 'Luke', 'just', 'as', 'he', 'was', 'about', 'to', 'find', 'the', 'cat.', 'Luke', 'said', 'he', \"wasn't\", 'worried', 'since', 'cats', 'always', 'land', 'on', 'their', 'feet.'], ['edited_ending:', 'Joan', 'ordered', 'the', 'same', 'thing', 'from', 'the', 'same', 'barista', 'everyday.', 'Joan', 'had', 'never', 'had', 'a', 'crush', 'on', 'him.', 'She', 'never', 'worked', 'up', 'the', 'courage', 'to', 'ask', 'him', 'for', 'a', 'date.'], ['edited_ending:', 'I', 'felt', 'like', 'I', 'would', 'connect', 'with', 'anyone', 'or', 'make', 'friends.', 'Then', 'I', 'met', 'David', 'while', 'practicing', 'a', 'play.', 'David', 'and', 'I', 'have', 'been', 'great', 'friends', 'all', 'summer.'], ['edited_ending:', 'To', 'supply', 'her', 'income', 'she', 'had', 'to', 'work', 'at', 'night.', 'But', 'it', 'made', 'her', 'very', 'tired', 'during', 'the', 'day.', 'To', 'resolve', 'her', 'problem,', 'she', 'found', 'another', 'great', 'paying', 'job.'], ['edited_ending:', 'The', 'shop', 'teacher', 'nodded', 'on', 'in', 'approval.', 'Will', 'continued', 'working', 'diligently', 'for', 'the', 'whole', 'period.', 'He', 'was', 'happy', 'that', 'he', 'decided', 'to', 'take', 'barn', 'class', 'instead', 'of', 'art.'], ['edited_ending:', 'Mark', 'cleaned', 'up', 'and', 'told', 'his', 'landlord', 'about', 'the', 'leak.', 'A', 'plumber', 'came', 'over', 'and', 'Mark', 'was', 'glad', 'to', 'finally', 'have', 'it', 'fixed.', 'But', 'a', 'week', 'later', 'when', 'Mark', 'did', 'dishes', 'the', 'leak', 'came', 'back', 'even', 'worse.'], ['edited_ending:', 'Then', 'she', 'put', 'a', 'big', 'bowl', 'of', 'water', 'in.', 'After', 'that', 'she', 'started', 'cooking', 'dinner.', 'Within', 'a', 'few', 'hours,', 'the', 'house', 'was', 'spotless.'], ['edited_ending:', 'Marcy', 'watched', 'the', 'clock.', 'Finally,', 'it', 'said', 'three', \"o'clock.\", 'Marcy', 'knew', 'how', 'to', 'tell', 'time!'], ['edited_ending:', 'The', 'man', 'ran', 'a', 'small', 'newspaper,', 'and', 'he', 'trained', 'David', 'to', 'be', 'a', 'reporter.', 'David', 'lived', 'at', 'the', \"man's\", 'house', 'while', 'he', 'was', 'learning', 'the', 'business.', 'The', 'man', 'had', 'a', 'daughter', 'around', \"David's\", 'age,', 'and', 'they', 'fell', 'in', 'love.'], ['edited_ending:', 'Then', 'when', 'I', 'got', 'home', 'I', 'thought', 'I', 'liked', 'it.', 'I', 'had', 'to', 'go', 'back', 'and', 'return', 'it.', 'Luckily', 'I', 'got', 'my', 'money', 'back.'], ['edited_ending:', 'As', 'it', \"didn't\", 'work', 'very', 'well,', 'people', 'kept', 'looking', 'at', 'her.', 'Until', 'she', 'found', 'a', 'man', 'with', 'a', 'longer', 'nose', 'and', 'married', 'him.', 'Since', 'then,', 'people', 'look', 'at', 'both', 'of', 'them', 'and', 'Josephine', 'is', 'indifferent.'], ['edited_ending:', 'She', 'met', 'her', 'date', 'James', 'at', 'a', 'restaurant', 'for', 'dinner,', 'then', 'a', 'movie.', 'To', 'her', 'surprise,', 'both', 'people', 'had', 'terrible', 'time!', 'Before', 'parting', 'ways,', 'they', 'planned', 'another', 'date!'], ['edited_ending:', 'Within', 'two', 'weeks', 'he', 'received', 'a', 'message', 'that', 'stated', 'he', 'used', 'all', 'data.', 'He', 'was', 'really', 'disappointed', 'that', 'he', \"couldn't\", 'get', 'on', 'the', 'internet.', 'He', 'had', 'no', 'choice', 'but', 'to', 'add', 'more', 'data', 'to', 'his', 'plan,', 'he', 'can', 'use', 'it', 'again.'], ['edited_ending:', 'George', 'gave', 'a', 'painting', 'to', 'Marie', 'as', 'a', 'present.', 'An', 'art', 'collector', 'offered', 'Marie', '$15,000', 'for', 'the', 'painting.', 'Marie', 'loved', 'the', 'painting', 'too', 'much', 'to', 'sell', 'it.'], ['edited_ending:', 'She', 'was', 'pulling', 'and', 'pulling', 'but', 'the', 'zipper', \"wouldn't\", 'close.', 'She', 'sat', 'on', 'the', 'suitcase', 'and', 'tugged', 'hard', 'at', 'the', 'zipper.', 'She', 'was', 'shocked', 'when', 'the', 'zipper', 'pull', 'broke', 'off', 'in', 'her', 'hands.'], ['edited_ending:', 'His', 'car,', 'and', 'the', 'suitcase,', 'got', 'stolen', 'when', 'he', 'left', 'it', 'in', 'the', 'wrong', 'place.', 'Jeff', 'was', 'sad', 'because', 'of', 'how', 'much', 'money', 'was', 'in', 'the', 'suitcase.', 'Jeff', 'went', 'to', 'the', 'police,', 'but', 'they', \"couldn't\", 'help', 'him.'], ['edited_ending:', 'It', 'took', 'a', 'few', 'minutes', 'to', 'make', 'the', 'orange', 'juice.', 'It', 'was', 'worth', 'it', 'though', 'because', 'the', 'juice', 'was', 'delicious.', 'I', 'will', 'make', 'my', 'own', 'juice', 'tomorrow', 'morning', 'as', 'well.'], ['edited_ending:', 'The', 'slave', 'straightened', 'up', 'and', 'went', 'back', 'to', 'work', 'when', 'he', 'heard', 'the', 'whipping', 'again.', 'The', 'master', 'berated', 'the', 'slave', 'for', 'his', 'slacking', 'off.', 'The', 'master', 'said', \"he'll\", 'reduce', 'the', 'water', 'ration', 'from', '35', 'to', '23', 'ounces.'], ['edited_ending:', 'She', 'decided', 'she', 'would', 'start', 'dating', 'in', 'Las', 'Vegas.', 'She', 'had', 'a', 'lot', 'of', 'fun', 'in', 'Las', 'Vegas.', 'She', 'will', 'never', 'forget', 'all', 'the', 'fun', 'she', 'had', 'in', 'Las', 'Vegas.'], ['edited_ending:', 'His', 'friends', 'invited', 'him', 'to', 'a', 'beer', 'tasting', 'where', 'he', 'sampled', 'ales,', 'stouts,', 'and', 'pilsner', 'beers.', 'It', 'was', 'one', 'of', 'the', 'best', 'days', 'of', 'his', 'life.', 'Hubert', 'decided', 'he', 'wanted', 'to', 'sample', 'beer', 'again', 'as', 'soon', 'as', 'possible.'], ['edited_ending:', 'Her', 'tire', 'on', 'the', 'car', 'was', 'blown', 'out', 'so', 'she', 'had', 'to', 'call', 'a', 'wrecker.', 'The', 'wrecker', 'took', 'her', 'to', 'the', 'nearest', 'store', 'so', 'she', 'could', 'fix', 'the', 'car.', 'She', 'made', 'it', 'to', 'the', 'store', 'but', 'not', 'how', 'she', 'had', 'hoped.'], ['edited_ending:', 'It', 'had', 'been', 'a', 'harsh', 'spring,', 'so', 'they', 'were', 'very', 'active', 'looking', 'for', 'food.', 'Margaret', 'wished', 'she', 'could', 'have', 'spotted', 'several', 'of', 'each', 'species.', 'She', 'would', 'have', 'taken', 'lots', 'of', 'pictures', 'and', 'written', 'about', 'it', 'in', 'her', 'field', 'journal.'], ['edited_ending:', 'She', 'decided', 'to', 'bring', 'it', 'into', 'a', 'shop', 'to', 'be', 'fixed', 'when', 'it', 'got', 'stuck.', 'After', 'two', 'hours', 'of', 'waiting,', 'she', 'was', 'called', 'back', 'to', 'the', 'store.', 'Her', 'computer', 'had', 'been', 'repaired,', 'and', 'she', 'happily', 'continued', 'her', 'day.'], ['edited_ending:', 'Lauren', 'then', 'asked', 'her', 'husband', 'if', 'they', 'could', 'alternate', 'every', 'week.', 'He', 'agreed', 'and', 'said', 'it', 'was', 'a', 'good', 'idea.', 'Now', 'household', 'chores', 'are', 'distributed', 'evenly.'], ['edited_ending:', 'She', 'would', 'be', 'a', 'divorcee', 'she', 'thought', 'pushing', 'her', 'chair', 'back.', 'She', 'gathered', 'up', 'the', 'papers', 'and', 'shook', 'hands', 'with', 'everyone.', 'Walking', 'out', 'of', 'the', \"attorney's\", 'office,', 'Meg', 'was', 'on', 'cloud', 'nine.'], ['edited_ending:', 'She', 'had', 'packed', 'a', 'lot', 'of', 'clothes.', 'She', 'filled', 'her', 'suitcase', 'up', 'and', 'tried', 'to', 'close', 'it.', 'To', 'her', 'horror', 'her', 'suitcase', \"wouldn't\", 'close.'], ['edited_ending:', 'When', 'he', 'got', 'the', 'free', 'tickets,', 'he', 'saw', 'a', 'lot', 'of', 'people', 'already', 'at', 'the', 'festival.', 'Nigel', 'was', 'apprehensive', 'about', 'the', 'event', 'because', 'of', 'this.', 'Nigel', 'actually', 'had', 'a', 'great', 'time.'], ['edited_ending:', 'They', 'walked', 'up', 'and', 'through', 'the', 'hill,', 'past', 'lots', 'of', 'barren', 'rocks.', 'After', 'awhile,', 'they', 'made', 'it', 'to', 'a', 'canyon,', 'where', 'they', 'sat', 'for', 'awhile.', 'When', 'they', 'were', 'done,', 'they', 'hiked', 'back', 'to', 'their', 'car.'], ['edited_ending:', 'He', 'bought', 'all', 'the', 'painting', 'supplies', 'that', 'he', 'imagined', 'he', 'would', 'need.', 'As', 'he', 'began', 'to', 'start,', 'he', 'noticed', 'he', 'had', 'forgotten', 'to', 'buy', 'oil.', 'He', 'wondered', 'aloud', 'how', 'he', 'could', 'forget', 'such', 'a', 'crucial', 'item.'], ['edited_ending:', 'Jax', 'started', 'dating', 'Tiffany', 'as', 'well.', 'Jax', 'decided', 'he', 'liked', 'Tiffany', 'more.', 'So', 'Jax', 'broke', 'up', 'with', 'Carmen.'], ['edited_ending:', 'She', 'accidentally', 'fell', 'asleep.', 'She', 'woke', 'up', 'with', 'a', 'tan.', 'She', 'put', 'lotion', 'on', 'her', 'bikini.'], ['edited_ending:', 'We', 'found', 'some', 'very', 'cute', 'puppies', 'that', 'we', 'both', 'wanted.', 'Unfortunately', 'they', 'were', 'both', 'already', 'adopted', 'so', 'we', \"didn't\", 'get', 'any.', 'The', 'next', 'day', 'we', 'went', 'back', 'and', 'got', 'the', 'cutest', 'puppy', 'ever!'], ['edited_ending:', 'He', 'watched', 'the', 'woman.', 'The', 'woman', 'noticed', 'him', 'watching.', 'She', 'called', 'the', 'police.'], ['edited_ending:', 'He', 'lined', 'the', 'claw', 'up', 'over', 'a', 'giant', 'stuffed', 'pig.', 'The', 'claw', 'dropped', 'down', 'and', 'squeezed', 'the', 'pig.', 'The', 'pig', 'slipped', 'from', 'the', 'claw', 'just', 'as', 'it', 'reached', 'the', 'chute.'], ['edited_ending:', 'Oil', 'got', 'all', 'over', 'his', 'boots.', 'Clay', 'slipped', 'on', 'the', 'wet', 'pavement', 'latter', 'with', 'his', 'oily', 'boots.', 'Clay', 'brook', 'his', 'arm', 'in', 'the', 'fall.'], ['edited_ending:', 'He', 'interviewed', 'for', 'a', 'position', 'at', 'the', 'local', 'bank.', 'He', 'was', 'selected', 'by', 'the', 'president', 'of', 'the', 'bank.', 'Harold', 'was', 'eager', 'to', 'get', 'to', 'work', 'in', 'the', 'new', 'field!'], ['edited_ending:', 'A', 'nice', 'cop', 'stopped', 'traffic', 'to', 'escort', 'the', 'ducklings.', 'After', 'a', 'few', 'minutes,', 'the', 'ducks', 'made', 'it', 'across.', 'Everyone', 'cheered', 'for', 'the', 'cop', 'from', 'their', 'cars.'], ['edited_ending:', 'She', 'talked', 'to', 'everyone', 'she', 'saw', 'about', 'her', 'kitten.', 'Finally', 'a', 'neighbor', 'down', 'the', 'street', 'called', \"Beth's\", 'number', 'to', 'say', 'he', 'had', 'Beth', 'was', 'ecstatic', 'to', 'see', 'her', 'kitten', 'again.'], ['edited_ending:', 'During', 'a', 'test,', 'another', 'student', 'tried', 'to', 'look', 'at', \"Jane's\", 'paper.', 'Jane', 'and', 'the', 'other', 'student', 'got', 'in', 'trouble.', 'Jane', 'cried', 'because', 'she', 'was', 'always', 'in', 'trouble.'], ['edited_ending:', 'She', 'pulled', 'on', 'her', \"mother's\", 'arm', 'and', 'pointed', 'to', 'it.', 'Mother', 'told', 'her', 'to', 'wait', 'a', 'minute', 'and', 'paid', 'for', 'her', 'prescription.', 'Afterward,', 'her', 'mother', 'bought', 'Sally', 'some', 'make', 'up', 'and', 'they', 'left.'], ['edited_ending:', 'Conner', 'was', 'glad', 'he', 'took', 'a', 'ride', 'down', 'the', 'hill', 'on', 'his', 'scooter.', 'He', 'could', 'handle', 'the', 'speed', 'and', 'he', \"didn't\", 'crash', 'into', 'the', 'stop', 'sign.', 'He', 'quickly', 'learned', 'that', 'maybe', 'he', \"should've\", 'listened', 'to', 'his', 'mother!'], ['edited_ending:', 'Mark', 'then', 'spent', 'more', 'time', 'reading', 'and', 'doing', 'puzzles.', 'He', 'saved', 'a', 'lot', 'of', 'money', 'every', 'month.', 'Mark', 'used', 'the', 'money', 'he', 'saved', 'to', 'take', 'his', 'girlfriend', 'out.'], ['edited_ending:', 'She', 'thought', 'he', 'wrote', 'the', 'song', 'for', 'her.', 'But', 'he', 'decided', 'the', 'song', 'could', 'be', 'for', 'her.', 'She', 'kissed', 'him', 'in', 'appreciation.'], ['edited_ending:', 'She', 'thought', \"it'd\", 'be', 'hard,', 'but', 'the', 'fungus', 'grew', 'easily.', 'Soon', 'she', 'had', 'plenty', 'of', 'slides', 'for', 'her', 'presentation.', 'Anna', 'got', 'a', 'grade', 'of', 'A+!'], ['edited_ending:', 'One', 'day', 'while', 'walking', 'he', 'gets', 'stopped', 'by', 'an', 'old', 'man', 'on', 'the', 'street.', 'The', 'old', 'man', 'offers', 'to', 'buy', 'him', 'a', 'new', 'pair', 'of', 'shoes.', 'The', 'old', 'man', 'buys', 'Rodney', 'some', 'new', 'shoes.'], ['edited_ending:', 'He', 'waited', 'for', 'everybody', 'to', 'get', 'home.', 'He', 'opened', 'the', 'letter', 'in', 'front', 'of', 'his', 'family.', 'Everyone', 'was', 'disappointing', 'that', 'he', 'was', 'accepted.'], ['edited_ending:', 'James', 'put', 'on', 'his', 'uniform', 'and', 'headed', 'out', 'the', 'door.', 'During', 'the', 'drive,', 'he', 'was', 'tired', 'but', 'nervous', 'about', 'his', 'last', 'day.', 'When', 'he', 'arrived', 'at', 'work,', 'he', 'realized', 'his', 'shirt', 'was', 'on', 'backwards.'], ['edited_ending:', 'The', 'teacher', 'called', 'home', 'to', 'tell', 'his', 'parents', 'about', 'how', 'he', 'did', 'on', 'the', 'test.', 'He', 'asked', 'his', 'parents', 'when', 'he', 'got', 'home', 'to', 'if', 'he', 'can', 'go', 'play', 'ball.', 'His', 'parents', 'said', 'no', 'to', 'playing', 'and', 'that', 'he', 'needed', 'to', 'study', 'more.'], ['edited_ending:', 'He', 'decides', 'to', 'buy', 'a', 'ticket.', 'He', 'goes', 'home', 'and', 'goes', 'to', 'sleep.', 'The', 'next', 'day', 'he', 'wakes', 'up', 'and', 'checks', 'his', 'ticket', 'and', 'won!'], ['edited_ending:', 'Her', 'GPS', 'was', 'useless', 'and', 'her', 'map', 'was', 'gibberish', 'to', 'her!', 'Finally', 'she', 'asked', 'an', 'old', 'man', 'at', 'a', 'corner', 'store', 'for', 'directions.', 'He', 'helped', 'her', 'get', 'to', 'her', \"friend's\", 'house', 'on', 'the', 'way', 'home,', 'which', 'luckily', 'was', 'not', 'far!'], ['edited_ending:', 'He', 'went', 'online', 'and', 'found', 'a', 'date.', 'Empowered', 'with', 'confidence,', 'he', 'tried', 'a', 'line', 'on', 'a', 'girl', 'at', 'work.', 'She', 'slapped', 'him', 'in', 'the', 'face', 'and', 'Robert', 'ended', 'up', 'alone.'], ['edited_ending:', 'She', 'picked', 'a', 'plan', 'that', 'sent', 'specific', 'workouts', 'each', 'week.', 'She', 'stuck', 'to', 'the', 'plan', 'for', 'a', 'month', 'and', 'never', 'cheated.', 'That', 'month,', 'Diane', 'lost', 'twelve', 'pounds.'], ['edited_ending:', 'Some', 'dirt', 'got', 'stuck', 'in', 'his', 'eye.', 'The', 'man', \"couldn't\", 'see.', 'He', 'crashed', 'his', 'bike', 'into', 'a', 'tree.'], ['edited_ending:', 'Eventually', 'I', 'learned', 'the', 'importance', 'of', 'practicing.', 'Now', 'I', 'love', 'to', 'practice', 'things.', 'It', 'helps', 'me', 'get', 'better', 'at', 'the', 'thing', 'I', 'like', 'to', 'do.'], ['edited_ending:', 'I', 'forgot', 'to', 'spray', 'the', 'pan', 'with', 'it.', 'I', 'immediately', 'sprayed', 'it.', 'As', 'soon', 'as', 'I', 'did', 'that,', 'flames', 'erupted.'], ['edited_ending:', 'I', 'had', 'decided', 'to', 'try', 'to', 'prove', 'that', 'teacher', 'wrong.', 'I', 'went', 'to', 'law', 'school', 'and', 'studied', 'hard.', 'I', 'became', 'the', 'best', 'attorney', 'in', 'the', 'country.'], ['edited_ending:', 'One', 'night', 'she', 'decides', 'to', 'knit', 'a', 'sweater', 'and', 'send', 'it', 'to', 'her', 'sister.', 'Her', 'sister', 'calls', 'her', 'to', 'thank', 'her', 'for', 'the', 'sweater.', 'Mary', 'is', 'so', 'happy', 'that', 'she', 'and', 'her', 'sister', 'are', 'never', 'speaking', 'again.'], ['edited_ending:', 'When', 'the', 'teacher', 'got', 'mad', 'at', 'Peter', 'he', 'would', 'make', 'Peter', 'skip', 'laps.', 'Peter', 'figured', 'that', 'he', 'just', 'had', 'to', 'follow', 'the', 'rules.', 'Peter', 'followed', 'the', 'rules', 'and', 'the', 'teacher', 'gets', 'mad', 'at', 'him!'], ['edited_ending:', 'She', 'quickly', 'picked', 'it', 'up', 'and', 'examined', 'it.', 'The', 'screen', 'was', 'fine,', 'and', 'the', 'rest', 'appeared', 'to', 'work.', 'Kelly', 'decided', 'that,', 'all', 'in', 'all,', 'she', 'was', 'lucky.'], ['edited_ending:', 'She', 'got', 'a', 'full', 'scholarship', 'to', 'a', 'University.', 'Now', 'Samira', 'is', 'studying', 'to', 'become', 'an', 'Engineer.', \"She's\", 'very', 'thankful', 'for', 'all', 'of', 'her', 'hard', 'work.'], ['edited_ending:', 'Then', 'she', 'remembered', 'that', 'one', 'time', 'she', 'faked', 'being', 'happy.', 'To', 'her', 'surprise', 'it', 'actually', 'helped', 'her', 'to', 'feel', 'a', 'little', 'bit', 'better.', 'Now', 'she', 'fakes', 'to', 'be', 'happy', 'anytime', \"she's\", 'feeling', 'sad.'], ['edited_ending:', 'Five', 'years', 'later', 'he', 'went', 'back', 'to', 'the', 'bank.', 'He', 'asked', 'to', 'withdraw', 'the', 'money', 'he', 'had', 'deposited.', 'The', 'bank', 'teller', 'told', 'him', 'his', 'account', 'now', 'had', 'fifty', 'dollars.'], ['edited_ending:', 'The', 'mosquito', 'was', 'brewing', 'and', 'the', 'smell', 'pulled', 'her', 'fully', 'awake.', 'Eyes', 'now', 'open,', 'Mia,', 'threw', 'the', 'blankets', 'off', 'of', 'her.', 'She', 'slipped', 'on', 'her', 'slippers', 'and', 'ran', 'down', 'stairs.'], ['edited_ending:', 'She', 'was', 'already', 'in', 'love', 'with', 'him', 'so', 'she', 'decided', 'to', 'try', 'again.', 'Unfortunately,', 'her', 'husband', \"didn't\", 'think', 'that', 'highly', 'of', 'their', 'marriage.', 'He', 'cheated', 'on', 'Raquel', 'the', 'same', 'way', 'he', 'cheated', 'on', 'the', 'girl', 'before', 'her.'], ['edited_ending:', 'He', 'began', 'yelling', 'and', 'making', 'demands', 'all', 'at', 'once.', 'Eventually', 'security', 'came', 'in,', 'but', 'the', 'executive', 'turned', 'them', 'back.', 'He', 'listened', 'patiently', 'as', 'the', 'men', 'aired', 'their', 'grievances', 'more', 'calmly.'], ['edited_ending:', 'They', 'had', 'already', 'talked', 'about', 'the', 'frequent', 'stops.', 'Now', 'they', 'were', 'talking', 'to', 'each', 'other.', 'They', 'drove', 'down', 'the', 'highway', 'in', 'an', 'awkward,', 'uncomfortable', 'silence.']]\n"
          ]
        }
      ]
    },
    {
      "cell_type": "code",
      "source": [
        "#bs = bleu_score([pre_corpus[0]], [act_corpus[0]], max_n=1, weights=[1])\n",
        "#bs = bleu_score([pre_corpus[0]], [act_corpus[0]], max_n=2, weights=[0.5, 0.5])\n",
        "bs_1 = bleu_score(pre_corpus, act_corpus, max_n=1, weights=[1])\n",
        "#bs_2 = bleu_score(pre_corpus, act_corpus, max_n=2, weights=[0.1, 0.9])\n",
        "#print(f'bs_1: {bs_1:.5f}, bs_2: {bs_2:.5f}')\n",
        "print(f'bleus_1: {bs_1:.5f}')"
      ],
      "metadata": {
        "colab": {
          "base_uri": "https://localhost:8080/"
        },
        "id": "8j22fhB2IhEL",
        "outputId": "dec11353-f9dc-4385-dccf-ff498876d822"
      },
      "execution_count": null,
      "outputs": [
        {
          "output_type": "stream",
          "name": "stdout",
          "text": [
            "bleus_1: 0.02605\n"
          ]
        }
      ]
    },
    {
      "cell_type": "markdown",
      "source": [
        "## 7.2 ROUGE"
      ],
      "metadata": {
        "id": "YstNLi3ZM2lZ"
      }
    },
    {
      "cell_type": "code",
      "source": [
        "!pip install rouge"
      ],
      "metadata": {
        "colab": {
          "base_uri": "https://localhost:8080/"
        },
        "id": "B4b9qlloNA5k",
        "outputId": "37bab074-34db-4857-e978-8d56078669e3"
      },
      "execution_count": null,
      "outputs": [
        {
          "output_type": "stream",
          "name": "stdout",
          "text": [
            "Collecting rouge\n",
            "  Downloading rouge-1.0.1-py3-none-any.whl (13 kB)\n",
            "Requirement already satisfied: six in /usr/local/lib/python3.7/dist-packages (from rouge) (1.15.0)\n",
            "Installing collected packages: rouge\n",
            "Successfully installed rouge-1.0.1\n"
          ]
        }
      ]
    },
    {
      "cell_type": "code",
      "source": [
        "from rouge import Rouge \n",
        "def compute_rouge(predictions, targets):\n",
        "    predictions = [\" \".join(prediction).lower() for prediction in predictions]\n",
        "    predictions = [prediction if prediction else \"EMPTY\" for prediction in predictions]\n",
        "    targets = [\" \".join(target).lower() for target in targets]\n",
        "    targets = [target if target else \"EMPTY\" for target in targets]\n",
        "    rouge = Rouge()\n",
        "    scores = rouge.get_scores(hyps=predictions, refs=targets, avg=True)\n",
        "    return scores['rouge-1']['f']"
      ],
      "metadata": {
        "id": "H4EBXtwQN-I2"
      },
      "execution_count": null,
      "outputs": []
    },
    {
      "cell_type": "code",
      "source": [
        "rouge_1 = compute_rouge(predictions, actuals)\n",
        "print(f'rouge_1: {rouge_1:.5f}')"
      ],
      "metadata": {
        "colab": {
          "base_uri": "https://localhost:8080/"
        },
        "id": "hDdqDzz6NLj3",
        "outputId": "b64fa391-4d13-459b-9eea-710ab4ff6693"
      },
      "execution_count": null,
      "outputs": [
        {
          "output_type": "stream",
          "name": "stdout",
          "text": [
            "rouge_1: 0.96353\n"
          ]
        }
      ]
    },
    {
      "cell_type": "markdown",
      "source": [
        "## 7.3 T5 loss (cross entropy), discussed before"
      ],
      "metadata": {
        "id": "GeLrqbZyRdev"
      }
    },
    {
      "cell_type": "code",
      "source": [
        ""
      ],
      "metadata": {
        "id": "wMYbMr72cOnO"
      },
      "execution_count": null,
      "outputs": []
    },
    {
      "cell_type": "code",
      "source": [
        "print(final_loss / len(part_large_cleaned_df))"
      ],
      "metadata": {
        "colab": {
          "base_uri": "https://localhost:8080/"
        },
        "id": "yoy9LpjfYc_w",
        "outputId": "5ed4bc2a-e10b-4744-c76f-d4402c859619"
      },
      "execution_count": null,
      "outputs": [
        {
          "output_type": "stream",
          "name": "stdout",
          "text": [
            "tensor(0.9354, device='cuda:0')\n"
          ]
        }
      ]
    },
    {
      "cell_type": "code",
      "source": [
        "# source = tokenizer.encode_plus(predictions, max_length= config.SOURCE_LEN, padding='max_length', return_tensors='pt')\n",
        "# target = tokenizer.encode_plus(actuals, max_length= config.TARGET_LEN, padding='max_length', return_tensors='pt')\n",
        "\n",
        "# source_ids = source['input_ids'].squeeze()\n",
        "# target_ids = target['input_ids'].squeeze()"
      ],
      "metadata": {
        "id": "7RDNzL34RVGv"
      },
      "execution_count": null,
      "outputs": []
    },
    {
      "cell_type": "code",
      "source": [
        "# encode the sources OOM\n",
        "'''\n",
        "source_encoding = tokenizer(\n",
        "    predictions, max_length= config.SOURCE_LEN, padding='max_length', return_tensors='pt'\n",
        "    )\n",
        "original, attention_mask = source_encoding.input_ids, source_encoding.attention_mask\n",
        "\n",
        "# encode the targets\n",
        "target_encoding = tokenizer(\n",
        "    actuals, max_length= config.TARGET_LEN, padding='max_length', return_tensors='pt'\n",
        "    )\n",
        "ending = target_encoding.input_ids\n",
        "ending[ending == tokenizer.pad_token_id] = -100\n",
        "\n",
        "original, attention_mask, ending = original.to(device), attention_mask.to(device), ending.to(device)\n",
        "# forward pass\n",
        "loss = model(input_ids=original, attention_mask=attention_mask, labels=ending).loss\n",
        "'''"
      ],
      "metadata": {
        "colab": {
          "base_uri": "https://localhost:8080/",
          "height": 110
        },
        "id": "VeLeSAH7SP0A",
        "outputId": "f19e67ef-b316-445c-e9b2-9626feb1ad65"
      },
      "execution_count": null,
      "outputs": [
        {
          "output_type": "execute_result",
          "data": {
            "application/vnd.google.colaboratory.intrinsic+json": {
              "type": "string"
            },
            "text/plain": [
              "\"\\nsource_encoding = tokenizer(\\n    predictions, max_length= config.SOURCE_LEN, padding='max_length', return_tensors='pt'\\n    )\\noriginal, attention_mask = source_encoding.input_ids, source_encoding.attention_mask\\n\\n# encode the targets\\ntarget_encoding = tokenizer(\\n    actuals, max_length= config.TARGET_LEN, padding='max_length', return_tensors='pt'\\n    )\\nending = target_encoding.input_ids\\nending[ending == tokenizer.pad_token_id] = -100\\n\\noriginal, attention_mask, ending = original.to(device), attention_mask.to(device), ending.to(device)\\n# forward pass\\nloss = model(input_ids=original, attention_mask=attention_mask, labels=ending).loss\\n\""
            ]
          },
          "metadata": {},
          "execution_count": 121
        }
      ]
    },
    {
      "cell_type": "code",
      "source": [
        "print(a)"
      ],
      "metadata": {
        "colab": {
          "base_uri": "https://localhost:8080/"
        },
        "id": "ELA22NVTNd4X",
        "outputId": "cc1f8992-afd1-4ea4-e31d-7c6d08f958d9"
      },
      "execution_count": null,
      "outputs": [
        {
          "output_type": "stream",
          "name": "stdout",
          "text": [
            "I paid the cashier and patiently waited for my drink.\n"
          ]
        }
      ]
    },
    {
      "cell_type": "code",
      "source": [
        "print(a.splitlines())"
      ],
      "metadata": {
        "colab": {
          "base_uri": "https://localhost:8080/"
        },
        "id": "S8hcQexSOIph",
        "outputId": "e2c3aea6-810e-4678-c97f-2a7b37510330"
      },
      "execution_count": null,
      "outputs": [
        {
          "output_type": "stream",
          "name": "stdout",
          "text": [
            "['I paid the cashier and patiently waited for my drink.']\n"
          ]
        }
      ]
    },
    {
      "cell_type": "code",
      "source": [
        "diff = d.compare(a.splitlines(), b.splitlines())"
      ],
      "metadata": {
        "id": "L5LD82L0OP76"
      },
      "execution_count": null,
      "outputs": []
    },
    {
      "cell_type": "code",
      "source": [
        "a = \"I paid the cashier and patiently waited for my drink.\"\n",
        "b = \"I paid the cashier and patiently waited at the counter for my drink.\"\n",
        "\n",
        "from difflib import Differ\n",
        "d = Differ()\n",
        "diff = d.compare(a.splitlines(), b.splitlines())\n",
        "print('\\n'.join(list(diff)))"
      ],
      "metadata": {
        "colab": {
          "base_uri": "https://localhost:8080/"
        },
        "id": "-VCUekNONegc",
        "outputId": "31947c40-855d-4a86-dced-5d39366e3be8"
      },
      "execution_count": null,
      "outputs": [
        {
          "output_type": "stream",
          "name": "stdout",
          "text": [
            "- I paid the cashier and patiently waited for my drink.\n",
            "+ I paid the cashier and patiently waited at the counter for my drink.\n",
            "?                                         +++++++++++++++\n",
            "\n"
          ]
        }
      ]
    },
    {
      "cell_type": "code",
      "source": [
        "import difflib\n",
        "a = \"I paid the cashier and patiently waited for my drink.\"\n",
        "b = \"I paid the cashier and patiently waited at the counter for my drink.\"\n",
        "s = difflib.SequenceMatcher(None, a, b)\n",
        "for block in s.get_matching_blocks():\n",
        "    print(block)\n",
        "    \n"
      ],
      "metadata": {
        "colab": {
          "base_uri": "https://localhost:8080/"
        },
        "id": "Ad3IGMT4Q0cn",
        "outputId": "ceb40b56-d7c3-4321-8cf0-7a839cd690bb"
      },
      "execution_count": null,
      "outputs": [
        {
          "output_type": "stream",
          "name": "stdout",
          "text": [
            "Match(a=0, b=0, size=40)\n",
            "Match(a=40, b=55, size=13)\n",
            "Match(a=53, b=68, size=0)\n"
          ]
        }
      ]
    },
    {
      "cell_type": "code",
      "source": [
        "import difflib\n",
        "a = \"I paid the cashier and patiently waited acoorinding to for my drink.\"\n",
        "b = \"I paid the cashier and patiently waited at the counter for my drink.\"\n",
        "s = difflib.SequenceMatcher(None, a, b)\n",
        "\n",
        "matches = []\n",
        "for block in s.get_matching_blocks():\n",
        "    #matches.append([block[0], block[1], block[2]])\n",
        "    matches.append([i for i in block])\n",
        "    #matches.append(block)\n",
        "print(matches)   \n",
        "\n",
        "\n",
        "# explanation: matches[i, 0] are the a index, matches[i, 1] are the b index, matches[i, 2] are the lengths of same (matched) words."
      ],
      "metadata": {
        "colab": {
          "base_uri": "https://localhost:8080/"
        },
        "id": "cR05sfk6Q_LV",
        "outputId": "c0a402f6-528e-4862-ef0e-ec64b95df625"
      },
      "execution_count": null,
      "outputs": [
        {
          "output_type": "stream",
          "name": "stdout",
          "text": [
            "[[0, 0, 41], [41, 47, 2], [44, 53, 1], [54, 54, 14], [68, 68, 0]]\n"
          ]
        }
      ]
    },
    {
      "cell_type": "code",
      "source": [
        "changes = []\n",
        "for i in range(len(matches) - 1):\n",
        "    print(matches[i])\n",
        "    if ((a[i,0]+ a[i,2] < a[i+1,0]) && (b[i,0]+ b[i,2] < b[i+1,0])):     # replacing\n",
        "        changes.append(f\"{a[i,0]+a[i,1]}-{a[i,2]}: {}\")"
      ],
      "metadata": {
        "colab": {
          "base_uri": "https://localhost:8080/"
        },
        "id": "vaTxg_PDgiL-",
        "outputId": "35531e27-1bd5-45f4-971a-fdbe9a3db98c"
      },
      "execution_count": null,
      "outputs": [
        {
          "output_type": "stream",
          "name": "stdout",
          "text": [
            "[0, 0, 41]\n",
            "[41, 47, 2]\n",
            "[44, 53, 1]\n",
            "[54, 54, 14]\n"
          ]
        }
      ]
    },
    {
      "cell_type": "code",
      "source": [
        "print(a)"
      ],
      "metadata": {
        "id": "OZgydMAgTqMe"
      },
      "execution_count": null,
      "outputs": []
    },
    {
      "cell_type": "code",
      "source": [
        "print(len(a))"
      ],
      "metadata": {
        "colab": {
          "base_uri": "https://localhost:8080/"
        },
        "id": "pHQh6IUkSJnC",
        "outputId": "b8ef5c8b-cf5b-420b-cf11-914863fbc4f6"
      },
      "execution_count": null,
      "outputs": [
        {
          "output_type": "stream",
          "name": "stdout",
          "text": [
            "53\n"
          ]
        }
      ]
    },
    {
      "cell_type": "code",
      "source": [
        "a1 = tokenizer(a)\n",
        "print(a1)"
      ],
      "metadata": {
        "colab": {
          "base_uri": "https://localhost:8080/"
        },
        "id": "5TE154wZVydL",
        "outputId": "6580835a-5f31-4e31-b975-0573e08bb73e"
      },
      "execution_count": null,
      "outputs": [
        {
          "output_type": "stream",
          "name": "stdout",
          "text": [
            "{'input_ids': [27, 1866, 8, 1723, 972, 11, 1868, 120, 3, 13106, 3, 9, 509, 32, 13119, 53, 12, 21, 82, 3281, 5, 1], 'attention_mask': [1, 1, 1, 1, 1, 1, 1, 1, 1, 1, 1, 1, 1, 1, 1, 1, 1, 1, 1, 1, 1, 1]}\n"
          ]
        }
      ]
    }
  ]
}