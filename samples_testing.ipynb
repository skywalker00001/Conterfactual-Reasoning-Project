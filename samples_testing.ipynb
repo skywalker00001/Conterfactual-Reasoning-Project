{
  "nbformat": 4,
  "nbformat_minor": 0,
  "metadata": {
    "colab": {
      "name": "data_cleaning_5.0.ipynb",
      "provenance": [],
      "collapsed_sections": [],
      "authorship_tag": "ABX9TyPIegZIfAfLe51rx4jR1Zxi",
      "include_colab_link": true
    },
    "kernelspec": {
      "name": "python3",
      "display_name": "Python 3"
    },
    "language_info": {
      "name": "python"
    }
  },
  "cells": [
    {
      "cell_type": "markdown",
      "metadata": {
        "id": "view-in-github",
        "colab_type": "text"
      },
      "source": [
        "<a href=\"https://colab.research.google.com/github/skywalker00001/Conterfactual-Reasoning-Project/blob/main/samples_testing.ipynb\" target=\"_parent\"><img src=\"https://colab.research.google.com/assets/colab-badge.svg\" alt=\"Open In Colab\"/></a>"
      ]
    },
    {
      "cell_type": "markdown",
      "source": [
        "# how to find out the different or changed blocks in sentence b compared to the sentence a (base)"
      ],
      "metadata": {
        "id": "Q2aKroRZLmfj"
      }
    },
    {
      "cell_type": "code",
      "source": [
        "from google.colab import drive\n",
        "drive.mount('/content/drive')\n",
        "root = 'drive/MyDrive/LM/'"
      ],
      "metadata": {
        "colab": {
          "base_uri": "https://localhost:8080/"
        },
        "id": "J4QazUl7U6UF",
        "outputId": "fa792e65-f8f8-4321-b054-488230eedac5"
      },
      "execution_count": 1,
      "outputs": [
        {
          "output_type": "stream",
          "name": "stdout",
          "text": [
            "Drive already mounted at /content/drive; to attempt to forcibly remount, call drive.mount(\"/content/drive\", force_remount=True).\n"
          ]
        }
      ]
    },
    {
      "cell_type": "code",
      "source": [
        "!pip install sentencepiece\n",
        "!pip install transformers -q"
      ],
      "metadata": {
        "colab": {
          "base_uri": "https://localhost:8080/"
        },
        "id": "ZghQ4Tb8kr3S",
        "outputId": "6ce90f1b-87ff-44e6-9376-f0cccb280524"
      },
      "execution_count": 2,
      "outputs": [
        {
          "output_type": "stream",
          "name": "stdout",
          "text": [
            "Requirement already satisfied: sentencepiece in /usr/local/lib/python3.7/dist-packages (0.1.96)\n"
          ]
        }
      ]
    },
    {
      "cell_type": "code",
      "source": [
        "# Importing stock libraries\n",
        "import numpy as np\n",
        "import pandas as pd\n",
        "import difflib\n",
        "import nltk\n",
        "import copy\n",
        "import regex as re\n",
        "import sys\n",
        "import torch\n",
        "sys.path.append('/content/drive/MyDrive/LM/')\n",
        "from global_param import MyConfig\n",
        "nltk.download(\"punkt\")\n",
        "\n",
        "# Importing the T5 modules from huggingface/transformers\n",
        "from transformers import T5Tokenizer, T5ForConditionalGeneration"
      ],
      "metadata": {
        "id": "KwAz8ZN7Wgb2",
        "colab": {
          "base_uri": "https://localhost:8080/"
        },
        "outputId": "e59fed4a-6390-44e7-d017-d0e3f6d43c0b"
      },
      "execution_count": 13,
      "outputs": [
        {
          "output_type": "stream",
          "name": "stdout",
          "text": [
            "[nltk_data] Downloading package punkt to /root/nltk_data...\n",
            "[nltk_data]   Package punkt is already up-to-date!\n"
          ]
        }
      ]
    },
    {
      "cell_type": "code",
      "source": [
        "myconfig = MyConfig()"
      ],
      "metadata": {
        "id": "0XCj427dklXZ"
      },
      "execution_count": 4,
      "outputs": []
    },
    {
      "cell_type": "code",
      "source": [
        "PRETRAINED_MODEL_NAME = myconfig.PRETRAINED_MODEL_NAME\n",
        "# tokenzier for encoding the text\n",
        "t5_tokenizer = T5Tokenizer.from_pretrained(PRETRAINED_MODEL_NAME)"
      ],
      "metadata": {
        "id": "_tPukXF-WWkp"
      },
      "execution_count": 5,
      "outputs": []
    },
    {
      "cell_type": "code",
      "source": [
        "\n",
        "input_ids = t5_tokenizer.encode_plus(\"The passenger walks in the park\", max_length= myconfig.SOURCE_LEN, padding='max_length', return_tensors='pt')['input_ids'].squeeze()\n",
        "print(input_ids)\n",
        "print(len(input_ids))"
      ],
      "metadata": {
        "colab": {
          "base_uri": "https://localhost:8080/"
        },
        "id": "lVcZDsHHWw-_",
        "outputId": "1e6722ec-233d-440f-95e4-27baab83f98b"
      },
      "execution_count": 11,
      "outputs": [
        {
          "output_type": "stream",
          "name": "stdout",
          "text": [
            "tensor([   37, 10837, 10681,    16,     8,  2447,     1,     0,     0,     0,\n",
            "            0,     0,     0,     0,     0,     0,     0,     0,     0,     0,\n",
            "            0,     0,     0,     0,     0,     0,     0,     0,     0,     0,\n",
            "            0,     0,     0,     0,     0,     0,     0,     0,     0,     0,\n",
            "            0,     0,     0,     0,     0,     0,     0,     0,     0,     0,\n",
            "            0,     0,     0,     0,     0,     0,     0,     0,     0,     0,\n",
            "            0,     0,     0,     0,     0,     0,     0,     0,     0,     0,\n",
            "            0,     0,     0,     0,     0,     0,     0,     0,     0,     0,\n",
            "            0,     0,     0,     0,     0,     0,     0,     0,     0,     0,\n",
            "            0,     0,     0,     0,     0,     0,     0,     0,     0,     0,\n",
            "            0,     0,     0,     0,     0,     0,     0,     0,     0,     0,\n",
            "            0,     0,     0,     0,     0,     0,     0,     0,     0,     0,\n",
            "            0,     0,     0,     0,     0,     0,     0,     0,     0,     0,\n",
            "            0,     0,     0,     0,     0,     0,     0,     0,     0,     0,\n",
            "            0,     0,     0,     0,     0,     0,     0,     0,     0,     0])\n",
            "150\n"
          ]
        }
      ]
    },
    {
      "cell_type": "code",
      "source": [
        "input_ids = t5_tokenizer.encode_plus(\"The passenger walks in the park. I hate the movie.\",return_tensors='pt')['input_ids'].squeeze()\n",
        "print(input_ids)\n",
        "print(len(input_ids))"
      ],
      "metadata": {
        "colab": {
          "base_uri": "https://localhost:8080/"
        },
        "id": "xIBPXS_yl8KJ",
        "outputId": "39487d24-8d8e-41f7-fc05-198cc73c8acc"
      },
      "execution_count": 21,
      "outputs": [
        {
          "output_type": "stream",
          "name": "stdout",
          "text": [
            "tensor([   37, 10837, 10681,    16,     8,  2447,     5,    27,  5591,     8,\n",
            "         1974,     5,     1])\n",
            "13\n"
          ]
        }
      ]
    },
    {
      "cell_type": "code",
      "source": [
        "input_ids = t5_tokenizer.encode_plus(\"The passenger <extra_id_2> in the park. I hate the movie.\",return_tensors='pt')['input_ids'].squeeze()\n",
        "print(input_ids)\n",
        "print(len(input_ids))"
      ],
      "metadata": {
        "colab": {
          "base_uri": "https://localhost:8080/"
        },
        "id": "4Vr4ehcUnT2g",
        "outputId": "95bdcaf5-6b8c-4722-9c46-4c8304aa9bed"
      },
      "execution_count": 31,
      "outputs": [
        {
          "output_type": "stream",
          "name": "stdout",
          "text": [
            "tensor([   37, 10837, 32097,    16,     8,  2447,     5,    27,  5591,     8,\n",
            "         1974,     5,     1])\n",
            "13\n"
          ]
        }
      ]
    },
    {
      "cell_type": "code",
      "source": [
        "test_ids = torch.tensor([5])\n",
        "output = t5_tokenizer.decode(input_ids, skip_special_tokens=False)\n",
        "print(output)"
      ],
      "metadata": {
        "colab": {
          "base_uri": "https://localhost:8080/"
        },
        "id": "ylpmRS0LmjJP",
        "outputId": "5c355219-8110-47c8-c5a9-0aa228873ddf"
      },
      "execution_count": 29,
      "outputs": [
        {
          "output_type": "stream",
          "name": "stdout",
          "text": [
            "The passenger<extra_id_1> in the park. I hate the movie.</s>\n"
          ]
        }
      ]
    },
    {
      "cell_type": "code",
      "source": [
        "input_ids = t5_tokenizer(\"The <extra_id_0> walks in <extra_id_1> park\", return_tensors=\"pt\").input_ids"
      ],
      "metadata": {
        "id": "WctEfr47WxBj"
      },
      "execution_count": null,
      "outputs": []
    },
    {
      "cell_type": "code",
      "source": [
        ""
      ],
      "metadata": {
        "id": "0mHaJ-32WxFd"
      },
      "execution_count": null,
      "outputs": []
    },
    {
      "cell_type": "code",
      "source": [
        "'''\n",
        "  Compared the changes between origin to edited setnence.\n",
        "  For example:  Input:\n",
        "      origin = \"I want to acchieve something to school.\"\n",
        "      edited = \"I do something to go for it to school.\"\n",
        "  Output: \n",
        "      \"1-2:\\\"do something\\\".3-5:\\\"go for it\\\".\"\n",
        "'''\n",
        "\n",
        "def origin2edited(origin, edited):\n",
        "    origin_list = nltk.word_tokenize(origin)\n",
        "    editeed_list = nltk.word_tokenize(edited)\n",
        "    s = difflib.SequenceMatcher(None, origin_list, editeed_list)\n",
        "    cgs = []\n",
        "    for tag, i1, i2, j1, j2 in s.get_opcodes():\n",
        "        if (tag != 'equal'):\n",
        "            cgs.append(f'{i1}-{i2}:\\\"{(\" \").join(editeed_list[j1:j2])}\\\".')\n",
        "    conclusion = \"\".join(cgs)\n",
        "    return conclusion"
      ],
      "metadata": {
        "id": "-OgJ1tHMQyto"
      },
      "execution_count": 2,
      "outputs": []
    },
    {
      "cell_type": "code",
      "source": [
        "'''\n",
        "    Restore the edited sentence based on the changes cg and the original sentence.\n",
        "    For example:  Input:\n",
        "        cg = 1-2:\\\"do something\\\".3-5:\\\"go for it\\\".\n",
        "        origin = \"I want to acchieve something to school.\"\n",
        "    Output:\n",
        "        \"I do something to go for it to school.\"\n",
        "'''\n",
        "\n",
        "def restore(cg, origin):\n",
        "    cgs = cg.split('.')[0:-1]\n",
        "    origin_list = nltk.word_tokenize(origin)\n",
        "    #blocks = copy.deepcopy(origin)\n",
        "    for j in list(reversed(cgs)):\n",
        "        #print(\"unchanged: \", origin_list)\n",
        "        #print(j)\n",
        "        pattern = re.compile(r'^(\\d+)-(\\d+):\\\"(.*?)\\\"')  # matches 1-2:\"do something\".  (1), (2), (do something)\n",
        "        results = re.search(pattern, j)  # i3 means the content between \"\"\n",
        "        i1, i2, i3 = results.group(1), results.group(2), results.group(3)\n",
        "        origin_list[int(i1): int(i2)] = nltk.word_tokenize(i3)\n",
        "        #print(\"changed: \", origin_list)\n",
        "    return (\" \").join(origin_list[0:-1])+'.'  #because we don't want any space before '.', which is the last element in the origin_list"
      ],
      "metadata": {
        "id": "oiKBmucSQyvq"
      },
      "execution_count": 3,
      "outputs": []
    },
    {
      "cell_type": "code",
      "source": [
        "# testing\n",
        "a = \"I want to acchieve something to school.\"\n",
        "b = \"I do something to go for it to school.\"\n",
        "# a_list = nltk.word_tokenize(a)\n",
        "# b_list = nltk.word_tokenize(b)\n",
        "\n",
        "# a_list = \"qabxcd\"\n",
        "# b_list = \"abycdf\"\n",
        "# print(a_list)\n",
        "# print(b_list)\n"
      ],
      "metadata": {
        "id": "b2zNbh4ZQyyA"
      },
      "execution_count": 5,
      "outputs": []
    },
    {
      "cell_type": "code",
      "source": [
        "print(origin2edited(a,b))\n",
        "print(restore(origin2edited(a,b), a))"
      ],
      "metadata": {
        "colab": {
          "base_uri": "https://localhost:8080/"
        },
        "id": "5MxurvH2Qy0F",
        "outputId": "ffae99d3-f6f6-4f24-f2ea-4daf46db5516"
      },
      "execution_count": 6,
      "outputs": [
        {
          "output_type": "stream",
          "name": "stdout",
          "text": [
            "1-2:\"do something\".3-5:\"go for it\".\n",
            "I do something to go for it to school.\n"
          ]
        }
      ]
    },
    {
      "cell_type": "code",
      "source": [
        ""
      ],
      "metadata": {
        "id": "2TL3a7EfQy16"
      },
      "execution_count": null,
      "outputs": []
    },
    {
      "cell_type": "markdown",
      "source": [
        "# 1. Preparation"
      ],
      "metadata": {
        "id": "H0_o1eQTgC08"
      }
    },
    {
      "cell_type": "code",
      "source": [
        "#training df\n",
        "small_path = root + '/TimeTravel/train_supervised_small.json'\n",
        "small_df = pd.read_json(small_path, lines=True)\n",
        "small_df.head()\n",
        "print(len(small_df))"
      ],
      "metadata": {
        "colab": {
          "base_uri": "https://localhost:8080/"
        },
        "id": "sM7Mi7sKgG7_",
        "outputId": "c9d86575-49b6-4ef6-d2e3-0ab9ef16ee41"
      },
      "execution_count": 7,
      "outputs": [
        {
          "output_type": "stream",
          "name": "stdout",
          "text": [
            "16752\n"
          ]
        }
      ]
    },
    {
      "cell_type": "code",
      "source": [
        "# Data cleaning, remove the examples with the same original_ending and edited_ending\n",
        "\n",
        "comb_small_text=[]\n",
        "\n",
        "for i in range(len(small_df)):\n",
        "\n",
        "  comb_small_text.append(small_df.loc[i, 'edited_ending'][0] +\" \"+ small_df.loc[i, 'edited_ending'][1] +\" \"+ \\\n",
        "                small_df.loc[i, 'edited_ending'][2])\n",
        "small_df.insert(6, \"ground_truth\", comb_small_text)\n",
        "small_cleaned_df = small_df[small_df.ground_truth != small_df.original_ending]\n",
        "small_cleaned_df = small_cleaned_df.reset_index() \n",
        "print(len(small_cleaned_df))"
      ],
      "metadata": {
        "colab": {
          "base_uri": "https://localhost:8080/"
        },
        "id": "wlHNWbSSgG-S",
        "outputId": "b46612a9-c372-4e45-b5bc-f55d92ba527d"
      },
      "execution_count": 8,
      "outputs": [
        {
          "output_type": "stream",
          "name": "stdout",
          "text": [
            "15798\n"
          ]
        }
      ]
    },
    {
      "cell_type": "code",
      "source": [
        "# text_a: source, text_b: target, \n",
        "text_a, text_b, word_changes = [], [], []\n",
        "\n",
        "for i in range(len(small_cleaned_df)):\n",
        "  ori_text = small_cleaned_df.loc[i, 'original_ending']\n",
        "  text_a.append(\"premise: \" + small_cleaned_df.loc[i, 'premise'] + \" initial: \" + \\\n",
        "                small_cleaned_df.loc[i, 'initial'] + \" counterfactual: \" + small_cleaned_df.loc[i, 'counterfactual'] + \\\n",
        "                \" original_ending: \" + ori_text)\n",
        "  #text_a.append(re.sub(re_pat, df.loc[i, 'edit1'], df.loc[i, 'original1']))\n",
        "  edited_text = small_cleaned_df.loc[i, 'edited_ending'][0] +\" \"+ small_cleaned_df.loc[i, 'edited_ending'][1] +\" \"+ \\\n",
        "                small_cleaned_df.loc[i, 'edited_ending'][2]\n",
        "  text_b.append(\"edited_ending: \" + edited_text)\n",
        "  word_change = origin2edited(ori_text, edited_text)\n",
        "  word_changes.append(word_change)"
      ],
      "metadata": {
        "id": "oZU2FDtwgHAq"
      },
      "execution_count": 9,
      "outputs": []
    },
    {
      "cell_type": "code",
      "source": [
        "train_df = pd.DataFrame({'source_text': text_a, 'target_text': text_b, 'word_changes': word_changes}) \n",
        "train_df.head()"
      ],
      "metadata": {
        "colab": {
          "base_uri": "https://localhost:8080/",
          "height": 206
        },
        "id": "7S08NkWiUNH5",
        "outputId": "45d0b623-7c91-4947-abcb-743b80f3d8a7"
      },
      "execution_count": 10,
      "outputs": [
        {
          "output_type": "execute_result",
          "data": {
            "text/html": [
              "\n",
              "  <div id=\"df-ede66394-2de5-4836-8981-8a97b84f5102\">\n",
              "    <div class=\"colab-df-container\">\n",
              "      <div>\n",
              "<style scoped>\n",
              "    .dataframe tbody tr th:only-of-type {\n",
              "        vertical-align: middle;\n",
              "    }\n",
              "\n",
              "    .dataframe tbody tr th {\n",
              "        vertical-align: top;\n",
              "    }\n",
              "\n",
              "    .dataframe thead th {\n",
              "        text-align: right;\n",
              "    }\n",
              "</style>\n",
              "<table border=\"1\" class=\"dataframe\">\n",
              "  <thead>\n",
              "    <tr style=\"text-align: right;\">\n",
              "      <th></th>\n",
              "      <th>source_text</th>\n",
              "      <th>target_text</th>\n",
              "      <th>word_changes</th>\n",
              "    </tr>\n",
              "  </thead>\n",
              "  <tbody>\n",
              "    <tr>\n",
              "      <th>0</th>\n",
              "      <td>premise: On my way to work I stopped to get so...</td>\n",
              "      <td>edited_ending: I paid the cashier and patientl...</td>\n",
              "      <td>7-7:\"at the counter\".</td>\n",
              "    </tr>\n",
              "    <tr>\n",
              "      <th>1</th>\n",
              "      <td>premise: Terry aspired to be a chef. initial: ...</td>\n",
              "      <td>edited_ending: He decided he would continue th...</td>\n",
              "      <td>16-17:\"customers\".19-21:\"made\".23-23:\"profitab...</td>\n",
              "    </tr>\n",
              "    <tr>\n",
              "      <th>2</th>\n",
              "      <td>premise: Kim and her glass went on a field tri...</td>\n",
              "      <td>edited_ending: Instead of going home they went...</td>\n",
              "      <td>0-2:\"Instead of going home\".</td>\n",
              "    </tr>\n",
              "    <tr>\n",
              "      <th>3</th>\n",
              "      <td>premise: Susie was sitting on her barstool. in...</td>\n",
              "      <td>edited_ending: Suddenly, an earthquake sent he...</td>\n",
              "      <td>2-4:\"an earthquake\".</td>\n",
              "    </tr>\n",
              "    <tr>\n",
              "      <th>4</th>\n",
              "      <td>premise: Celeste rode her motorcycle across th...</td>\n",
              "      <td>edited_ending: She didn't have enough time to ...</td>\n",
              "      <td>12-14:\"deer ,\".</td>\n",
              "    </tr>\n",
              "  </tbody>\n",
              "</table>\n",
              "</div>\n",
              "      <button class=\"colab-df-convert\" onclick=\"convertToInteractive('df-ede66394-2de5-4836-8981-8a97b84f5102')\"\n",
              "              title=\"Convert this dataframe to an interactive table.\"\n",
              "              style=\"display:none;\">\n",
              "        \n",
              "  <svg xmlns=\"http://www.w3.org/2000/svg\" height=\"24px\"viewBox=\"0 0 24 24\"\n",
              "       width=\"24px\">\n",
              "    <path d=\"M0 0h24v24H0V0z\" fill=\"none\"/>\n",
              "    <path d=\"M18.56 5.44l.94 2.06.94-2.06 2.06-.94-2.06-.94-.94-2.06-.94 2.06-2.06.94zm-11 1L8.5 8.5l.94-2.06 2.06-.94-2.06-.94L8.5 2.5l-.94 2.06-2.06.94zm10 10l.94 2.06.94-2.06 2.06-.94-2.06-.94-.94-2.06-.94 2.06-2.06.94z\"/><path d=\"M17.41 7.96l-1.37-1.37c-.4-.4-.92-.59-1.43-.59-.52 0-1.04.2-1.43.59L10.3 9.45l-7.72 7.72c-.78.78-.78 2.05 0 2.83L4 21.41c.39.39.9.59 1.41.59.51 0 1.02-.2 1.41-.59l7.78-7.78 2.81-2.81c.8-.78.8-2.07 0-2.86zM5.41 20L4 18.59l7.72-7.72 1.47 1.35L5.41 20z\"/>\n",
              "  </svg>\n",
              "      </button>\n",
              "      \n",
              "  <style>\n",
              "    .colab-df-container {\n",
              "      display:flex;\n",
              "      flex-wrap:wrap;\n",
              "      gap: 12px;\n",
              "    }\n",
              "\n",
              "    .colab-df-convert {\n",
              "      background-color: #E8F0FE;\n",
              "      border: none;\n",
              "      border-radius: 50%;\n",
              "      cursor: pointer;\n",
              "      display: none;\n",
              "      fill: #1967D2;\n",
              "      height: 32px;\n",
              "      padding: 0 0 0 0;\n",
              "      width: 32px;\n",
              "    }\n",
              "\n",
              "    .colab-df-convert:hover {\n",
              "      background-color: #E2EBFA;\n",
              "      box-shadow: 0px 1px 2px rgba(60, 64, 67, 0.3), 0px 1px 3px 1px rgba(60, 64, 67, 0.15);\n",
              "      fill: #174EA6;\n",
              "    }\n",
              "\n",
              "    [theme=dark] .colab-df-convert {\n",
              "      background-color: #3B4455;\n",
              "      fill: #D2E3FC;\n",
              "    }\n",
              "\n",
              "    [theme=dark] .colab-df-convert:hover {\n",
              "      background-color: #434B5C;\n",
              "      box-shadow: 0px 1px 3px 1px rgba(0, 0, 0, 0.15);\n",
              "      filter: drop-shadow(0px 1px 2px rgba(0, 0, 0, 0.3));\n",
              "      fill: #FFFFFF;\n",
              "    }\n",
              "  </style>\n",
              "\n",
              "      <script>\n",
              "        const buttonEl =\n",
              "          document.querySelector('#df-ede66394-2de5-4836-8981-8a97b84f5102 button.colab-df-convert');\n",
              "        buttonEl.style.display =\n",
              "          google.colab.kernel.accessAllowed ? 'block' : 'none';\n",
              "\n",
              "        async function convertToInteractive(key) {\n",
              "          const element = document.querySelector('#df-ede66394-2de5-4836-8981-8a97b84f5102');\n",
              "          const dataTable =\n",
              "            await google.colab.kernel.invokeFunction('convertToInteractive',\n",
              "                                                     [key], {});\n",
              "          if (!dataTable) return;\n",
              "\n",
              "          const docLinkHtml = 'Like what you see? Visit the ' +\n",
              "            '<a target=\"_blank\" href=https://colab.research.google.com/notebooks/data_table.ipynb>data table notebook</a>'\n",
              "            + ' to learn more about interactive tables.';\n",
              "          element.innerHTML = '';\n",
              "          dataTable['output_type'] = 'display_data';\n",
              "          await google.colab.output.renderOutput(dataTable, element);\n",
              "          const docLink = document.createElement('div');\n",
              "          docLink.innerHTML = docLinkHtml;\n",
              "          element.appendChild(docLink);\n",
              "        }\n",
              "      </script>\n",
              "    </div>\n",
              "  </div>\n",
              "  "
            ],
            "text/plain": [
              "                                         source_text  \\\n",
              "0  premise: On my way to work I stopped to get so...   \n",
              "1  premise: Terry aspired to be a chef. initial: ...   \n",
              "2  premise: Kim and her glass went on a field tri...   \n",
              "3  premise: Susie was sitting on her barstool. in...   \n",
              "4  premise: Celeste rode her motorcycle across th...   \n",
              "\n",
              "                                         target_text  \\\n",
              "0  edited_ending: I paid the cashier and patientl...   \n",
              "1  edited_ending: He decided he would continue th...   \n",
              "2  edited_ending: Instead of going home they went...   \n",
              "3  edited_ending: Suddenly, an earthquake sent he...   \n",
              "4  edited_ending: She didn't have enough time to ...   \n",
              "\n",
              "                                        word_changes  \n",
              "0                              7-7:\"at the counter\".  \n",
              "1  16-17:\"customers\".19-21:\"made\".23-23:\"profitab...  \n",
              "2                       0-2:\"Instead of going home\".  \n",
              "3                               2-4:\"an earthquake\".  \n",
              "4                                    12-14:\"deer ,\".  "
            ]
          },
          "metadata": {},
          "execution_count": 10
        }
      ]
    },
    {
      "cell_type": "code",
      "source": [
        "#train_df.to_excel(root + 'TimeTravel/' + 'output' + model_version + '.xlsx')\n",
        "train_df.to_excel(root + 'TimeTravel/' + 'cleaned_small_1.0.xlsx')"
      ],
      "metadata": {
        "id": "l7kJnlQQUafL"
      },
      "execution_count": 11,
      "outputs": []
    },
    {
      "cell_type": "markdown",
      "source": [
        "# trash code"
      ],
      "metadata": {
        "id": "aWS7stjGgJXr"
      }
    },
    {
      "cell_type": "code",
      "source": [
        "\n",
        "# a = \"I paid the cashier and patiently waited for my drink.\"\n",
        "# b = \"I paid the cashier and patiently waited at the counter for my drink.\"\n",
        "a = \"I want to acchieve something to school.\"\n",
        "b = \"I do something to go for it to school.\"\n",
        "a_list = nltk.word_tokenize(a)\n",
        "b_list = nltk.word_tokenize(b)\n",
        "\n",
        "a_list = \"qabxcd\"\n",
        "b_list = \"abycdf\"\n",
        "print(a_list)\n",
        "print(b_list)"
      ],
      "metadata": {
        "colab": {
          "base_uri": "https://localhost:8080/"
        },
        "id": "OqWZJ5B-Wmjt",
        "outputId": "5943d55c-c437-4645-d245-865047c371d2"
      },
      "execution_count": null,
      "outputs": [
        {
          "output_type": "stream",
          "name": "stdout",
          "text": [
            "qabxcd\n",
            "abycdf\n"
          ]
        }
      ]
    },
    {
      "cell_type": "code",
      "source": [
        "s = difflib.SequenceMatcher(None, a_list, b_list)\n",
        "for block in s.get_matching_blocks():\n",
        "    print(block)\n",
        "    "
      ],
      "metadata": {
        "colab": {
          "base_uri": "https://localhost:8080/"
        },
        "id": "tWdWTQNhW2dv",
        "outputId": "93043461-79df-493d-cc4b-aabcb0650024"
      },
      "execution_count": null,
      "outputs": [
        {
          "output_type": "stream",
          "name": "stdout",
          "text": [
            "Match(a=1, b=0, size=2)\n",
            "Match(a=4, b=3, size=2)\n",
            "Match(a=6, b=6, size=0)\n"
          ]
        }
      ]
    },
    {
      "cell_type": "code",
      "source": [
        "print(a_list[2])"
      ],
      "metadata": {
        "colab": {
          "base_uri": "https://localhost:8080/"
        },
        "id": "q5ETmjnvG11Y",
        "outputId": "aef84da6-c2aa-44d0-a1c6-da179e7071c3"
      },
      "execution_count": null,
      "outputs": [
        {
          "output_type": "stream",
          "name": "stdout",
          "text": [
            "b\n"
          ]
        }
      ]
    },
    {
      "cell_type": "code",
      "source": [
        "print(a_list[0:0+8])\n",
        "print(a_list[8:8+3])\n",
        "print(a_list[11:11+0])"
      ],
      "metadata": {
        "colab": {
          "base_uri": "https://localhost:8080/"
        },
        "id": "_MEe1kh5XGgS",
        "outputId": "1da758e1-55fa-4c0f-9e81-7a540df6ccef"
      },
      "execution_count": null,
      "outputs": [
        {
          "output_type": "stream",
          "name": "stdout",
          "text": [
            "qabxcd\n",
            "\n",
            "\n"
          ]
        }
      ]
    },
    {
      "cell_type": "code",
      "source": [
        "matches = []\n",
        "matches.append([0, 0, 0])\n",
        "for block in s.get_matching_blocks():\n",
        "    #matches.append([block[0], block[1], block[2]])\n",
        "    matches.append([i for i in block])\n",
        "    #matches.append(block)\n",
        "print(matches)   \n",
        "\n",
        "# explanation: matches[i][0] are the a index, matches[i][1] are the b index, matches[i] [2] are the lengths of same (matched) words."
      ],
      "metadata": {
        "colab": {
          "base_uri": "https://localhost:8080/"
        },
        "id": "5gE7MKlhjkhL",
        "outputId": "fc72c8ea-e9f0-4258-b99b-14ba812b3da7"
      },
      "execution_count": null,
      "outputs": [
        {
          "output_type": "stream",
          "name": "stdout",
          "text": [
            "[[0, 0, 0], [1, 0, 2], [4, 3, 2], [6, 6, 0]]\n"
          ]
        }
      ]
    },
    {
      "cell_type": "code",
      "source": [
        "changes = []\n",
        "for i in range(len(matches) - 1):\n",
        "    #print(matches[i])\n",
        "    if ((matches[i][0]+ matches[i][2] < matches[i+1][0]) & (matches[i][1]+ matches[i][2] < matches[i+1][1])):     # replace\n",
        "        string = (\" \").join(b_list[(matches[i][1]+matches[i][2]) : matches[i+1][1]])\n",
        "        changes.append(f\"replacing_{matches[i][0]+matches[i][2]}-{matches[i+1][0]}:\\\"{string}\\\".\")\n",
        "    elif ((matches[i][0]+ matches[i][2] < matches[i+1][0]) & (matches[i][1]+ matches[i][2] == matches[i+1][1])):     # delete\n",
        "        string = (\" \").join(b_list[(matches[i][1]+matches[i][2]) : matches[i+1][1]])\n",
        "        changes.append(f\"deleting_{matches[i][0]+matches[i][2]}-{matches[i+1][0]}:\\\"{string}\\\".\")\n",
        "    elif ((matches[i][0]+ matches[i][2] == matches[i+1][0]) & (matches[i][1]+ matches[i][2] < matches[i+1][1])):     # insert\n",
        "        string = (\" \").join(b_list[(matches[i][1]+matches[i][2]) : matches[i+1][1]])\n",
        "        changes.append(f\"inserting_{matches[i][0]+matches[i][2]}-{matches[i+1][0]}:\\\"{string}\\\".\")"
      ],
      "metadata": {
        "id": "AnfI2FCJE3zY"
      },
      "execution_count": null,
      "outputs": []
    },
    {
      "cell_type": "code",
      "source": [
        "print(changes)"
      ],
      "metadata": {
        "colab": {
          "base_uri": "https://localhost:8080/"
        },
        "id": "xa7DymdFjp5L",
        "outputId": "cbb026bd-90b3-406a-a734-2d14c7a1351c"
      },
      "execution_count": null,
      "outputs": [
        {
          "output_type": "stream",
          "name": "stdout",
          "text": [
            "['deleting_0-1:\"\".', 'replacing_3-4:\"y\".', 'inserting_6-6:\"f\".']\n"
          ]
        }
      ]
    },
    {
      "cell_type": "code",
      "source": [
        "c = copy.deepcopy(a_list)\n",
        "c[7:7] = nltk.word_tokenize(\"at the counter\")\n"
      ],
      "metadata": {
        "colab": {
          "base_uri": "https://localhost:8080/",
          "height": 183
        },
        "id": "DKcE0ZamHvXp",
        "outputId": "372fd634-2978-4042-ce3f-da641ae8be91"
      },
      "execution_count": null,
      "outputs": [
        {
          "output_type": "error",
          "ename": "TypeError",
          "evalue": "ignored",
          "traceback": [
            "\u001b[0;31m---------------------------------------------------------------------------\u001b[0m",
            "\u001b[0;31mTypeError\u001b[0m                                 Traceback (most recent call last)",
            "\u001b[0;32m<ipython-input-48-f7acf4a89533>\u001b[0m in \u001b[0;36m<module>\u001b[0;34m()\u001b[0m\n\u001b[1;32m      1\u001b[0m \u001b[0mc\u001b[0m \u001b[0;34m=\u001b[0m \u001b[0mcopy\u001b[0m\u001b[0;34m.\u001b[0m\u001b[0mdeepcopy\u001b[0m\u001b[0;34m(\u001b[0m\u001b[0ma_list\u001b[0m\u001b[0;34m)\u001b[0m\u001b[0;34m\u001b[0m\u001b[0;34m\u001b[0m\u001b[0m\n\u001b[0;32m----> 2\u001b[0;31m \u001b[0mc\u001b[0m\u001b[0;34m[\u001b[0m\u001b[0;36m7\u001b[0m\u001b[0;34m:\u001b[0m\u001b[0;36m7\u001b[0m\u001b[0;34m]\u001b[0m \u001b[0;34m=\u001b[0m \u001b[0mnltk\u001b[0m\u001b[0;34m.\u001b[0m\u001b[0mword_tokenize\u001b[0m\u001b[0;34m(\u001b[0m\u001b[0;34m\"at the counter\"\u001b[0m\u001b[0;34m)\u001b[0m\u001b[0;34m\u001b[0m\u001b[0;34m\u001b[0m\u001b[0m\n\u001b[0m",
            "\u001b[0;31mTypeError\u001b[0m: 'str' object does not support item assignment"
          ]
        }
      ]
    },
    {
      "cell_type": "code",
      "source": [
        "print(a_list)"
      ],
      "metadata": {
        "colab": {
          "base_uri": "https://localhost:8080/"
        },
        "id": "8XVQ6JC1IoVJ",
        "outputId": "95c98ba2-baa2-4058-9346-4365167819fd"
      },
      "execution_count": null,
      "outputs": [
        {
          "output_type": "stream",
          "name": "stdout",
          "text": [
            "['I', 'want', 'to', 'acchieve', 'something', 'to', 'school', '.']\n"
          ]
        }
      ]
    },
    {
      "cell_type": "markdown",
      "source": [
        ""
      ],
      "metadata": {
        "id": "9NPsRv5fLlqu"
      }
    },
    {
      "cell_type": "code",
      "source": [
        "print(c)"
      ],
      "metadata": {
        "colab": {
          "base_uri": "https://localhost:8080/"
        },
        "id": "-gCx3vMlIXAH",
        "outputId": "d01f8ab7-e7b8-41db-f675-778f315033ca"
      },
      "execution_count": null,
      "outputs": [
        {
          "output_type": "stream",
          "name": "stdout",
          "text": [
            "['I', 'want', 'to', 'acchieve', 'something', 'to', 'school', 'at', 'the', 'counter', '.']\n"
          ]
        }
      ]
    },
    {
      "cell_type": "code",
      "source": [
        ""
      ],
      "metadata": {
        "id": "IAQMdU-Y7Fdx"
      },
      "execution_count": null,
      "outputs": []
    },
    {
      "cell_type": "code",
      "source": [
        ""
      ],
      "metadata": {
        "id": "jTp3jU6r7FgH"
      },
      "execution_count": null,
      "outputs": []
    },
    {
      "cell_type": "code",
      "source": [
        ""
      ],
      "metadata": {
        "id": "6poKpW-Y7Fjb"
      },
      "execution_count": null,
      "outputs": []
    },
    {
      "cell_type": "markdown",
      "source": [
        "# another way"
      ],
      "metadata": {
        "id": "SSnIVhGr7FsD"
      }
    },
    {
      "cell_type": "code",
      "source": [
        "# a = \"qabxcd\"\n",
        "# b = \"abycdf\"\n",
        "cgs = []\n",
        "s = difflib.SequenceMatcher(None, a_list, b_list)\n",
        "for tag, i1, i2, j1, j2 in s.get_opcodes():\n",
        "    print('{:7}   a[{}:{}] --> b[{}:{}] {!r:>8} --> {!r}'.format(tag, i1, i2, j1, j2, a_list[i1:i2], b_list[j1:j2]))\n",
        "    #print('{:7}   a[{}:{}] --> b[{}:{}] {!r} --> {!r}'.format(tag, i1, i2, j1, j2, a[i1:i2], b[j1:j2]))\n",
        "    if (tag != 'equal'):\n",
        "        #cgs.append(f'{tag}_{i1}-{i2}:\\\"{(\" \").join(b_list[j1:j2])}\\\".')\n",
        "        cgs.append(f{i1}-{i2}:\\\"{(\" \").join(b_list[j1:j2])}\\\".')"
      ],
      "metadata": {
        "colab": {
          "base_uri": "https://localhost:8080/"
        },
        "id": "j6MMOFuy7HaO",
        "outputId": "2ac7d059-09ae-4d92-949a-d8b06efd1da9"
      },
      "execution_count": null,
      "outputs": [
        {
          "output_type": "stream",
          "name": "stdout",
          "text": [
            "delete    a[0:1] --> b[0:0]      'q' --> ''\n",
            "equal     a[1:3] --> b[0:2]     'ab' --> 'ab'\n",
            "replace   a[3:4] --> b[2:3]      'x' --> 'y'\n",
            "equal     a[4:6] --> b[3:5]     'cd' --> 'cd'\n",
            "insert    a[6:6] --> b[5:6]       '' --> 'f'\n"
          ]
        }
      ]
    },
    {
      "cell_type": "code",
      "source": [
        "print(cgs)"
      ],
      "metadata": {
        "colab": {
          "base_uri": "https://localhost:8080/"
        },
        "id": "-K39xwnj8-22",
        "outputId": "1ef0ec24-15cb-417b-8789-b02837bee324"
      },
      "execution_count": null,
      "outputs": [
        {
          "output_type": "stream",
          "name": "stdout",
          "text": [
            "['0-1:\"\".', '3-4:\"y\".', '6-6:\"f\".']\n"
          ]
        }
      ]
    },
    {
      "cell_type": "code",
      "source": [
        "t=(\" \".join(cgs))\n",
        "print(t)"
      ],
      "metadata": {
        "colab": {
          "base_uri": "https://localhost:8080/"
        },
        "id": "HpD7DiEJ_0on",
        "outputId": "8ef05a93-760f-43e0-8f30-9777b6f20235"
      },
      "execution_count": null,
      "outputs": [
        {
          "output_type": "stream",
          "name": "stdout",
          "text": [
            "0-1:\"\". 3-4:\"y\". 6-6:\"f\".\n"
          ]
        }
      ]
    },
    {
      "cell_type": "code",
      "source": [
        "print(t.split(' '))"
      ],
      "metadata": {
        "colab": {
          "base_uri": "https://localhost:8080/"
        },
        "id": "fErC-Sgg_8Jq",
        "outputId": "87c06da8-ad8b-4e88-e10c-b8d3ea675691"
      },
      "execution_count": null,
      "outputs": [
        {
          "output_type": "stream",
          "name": "stdout",
          "text": [
            "['0-1:\"\".', '3-4:\"y\".', '6-6:\"f\".']\n"
          ]
        }
      ]
    },
    {
      "cell_type": "markdown",
      "source": [
        "function"
      ],
      "metadata": {
        "id": "LbPSYyrnAzG2"
      }
    },
    {
      "cell_type": "code",
      "source": [
        "def origin2edited(origin, edited):\n",
        "    origin_list = nltk.word_tokenize(origin)\n",
        "    editeed_list = nltk.word_tokenize(edited)\n",
        "    s = difflib.SequenceMatcher(None, origin_list, editeed_list)\n",
        "    cgs = []\n",
        "    for tag, i1, i2, j1, j2 in s.get_opcodes():\n",
        "        if (tag != 'equal'):\n",
        "            cgs.append(f'{i1}-{i2}:\\\"{(\" \").join(editeed_list[j1:j2])}\\\".')\n",
        "    conclusion = \"\".join(cgs)\n",
        "    return conclusion"
      ],
      "metadata": {
        "id": "ItJzZVixAz3C"
      },
      "execution_count": null,
      "outputs": []
    },
    {
      "cell_type": "code",
      "source": [
        "print(origin2edited(a, b))\n"
      ],
      "metadata": {
        "colab": {
          "base_uri": "https://localhost:8080/"
        },
        "id": "0JdPesuILBZH",
        "outputId": "a704ecc3-c93d-4b9b-d007-370b1c3fdae5"
      },
      "execution_count": null,
      "outputs": [
        {
          "output_type": "stream",
          "name": "stdout",
          "text": [
            "1-2:\"do something\".3-5:\"go for it\".\n"
          ]
        }
      ]
    },
    {
      "cell_type": "code",
      "source": [
        "cgs = sen.split('.')[0:-1]\n",
        "print(len(cgs))"
      ],
      "metadata": {
        "colab": {
          "base_uri": "https://localhost:8080/"
        },
        "id": "VdQnOsuQML3b",
        "outputId": "e32b8444-3d92-4dde-d677-e25d49826494"
      },
      "execution_count": null,
      "outputs": [
        {
          "output_type": "stream",
          "name": "stdout",
          "text": [
            "2\n"
          ]
        }
      ]
    },
    {
      "cell_type": "code",
      "source": [
        "def restore(cg, origin):\n",
        "    cgs = cg.split('.')[0:-1]\n",
        "    origin_list = nltk.word_tokenize(origin)\n",
        "    #blocks = copy.deepcopy(origin)\n",
        "    for j in list(reversed(cgs)):\n",
        "        #print(\"unchanged: \", origin_list)\n",
        "        #print(j)\n",
        "        pattern = re.compile(r'^(\\d+)-(\\d+):\\\"(.*?)\\\"')  # matches 1-2:\"do something\".  (1), (2), (do something)\n",
        "        results = re.search(pattern, j)  # i3 means the content between \"\"\n",
        "        i1, i2, i3 = results.group(1), results.group(2), results.group(3)\n",
        "        origin_list[int(i1): int(i2)] = nltk.word_tokenize(i3)\n",
        "        #print(\"changed: \", origin_list)\n",
        "    return (\" \").join(origin_list[0:-1])+'.'  #because we don't want any space before '.', which is the last element in the origin_list"
      ],
      "metadata": {
        "id": "2VRXAb0aCN6D"
      },
      "execution_count": null,
      "outputs": []
    },
    {
      "cell_type": "code",
      "source": [
        "print(a)"
      ],
      "metadata": {
        "colab": {
          "base_uri": "https://localhost:8080/"
        },
        "id": "syvfOb8MJLCX",
        "outputId": "33401bcb-fd57-4213-8258-746be6ea25c8"
      },
      "execution_count": null,
      "outputs": [
        {
          "output_type": "stream",
          "name": "stdout",
          "text": [
            "I want to acchieve something to school.\n"
          ]
        }
      ]
    },
    {
      "cell_type": "code",
      "source": [
        "print(sen)"
      ],
      "metadata": {
        "colab": {
          "base_uri": "https://localhost:8080/"
        },
        "id": "zMikObXEJv8o",
        "outputId": "14be344a-7e8b-4235-e668-6726d4c9ae3d"
      },
      "execution_count": null,
      "outputs": [
        {
          "output_type": "stream",
          "name": "stdout",
          "text": [
            "1-2:\"do something\".3-5:\"go for it\".\n"
          ]
        }
      ]
    },
    {
      "cell_type": "code",
      "source": [
        "b = \"I do something to go for it to school.\""
      ],
      "metadata": {
        "id": "N9OlZnDbL_uJ"
      },
      "execution_count": null,
      "outputs": []
    },
    {
      "cell_type": "code",
      "source": [
        "print(restore(origin2edited(a, b), a))"
      ],
      "metadata": {
        "colab": {
          "base_uri": "https://localhost:8080/"
        },
        "id": "Dtjnr-1xI-D8",
        "outputId": "616b150f-766e-4cab-9c72-4a6764ed6a23"
      },
      "execution_count": null,
      "outputs": [
        {
          "output_type": "stream",
          "name": "stdout",
          "text": [
            "unchanged:  ['I', 'want', 'to', 'acchieve', 'something', 'to', 'school', '.']\n",
            "3-5:\"go for it\"\n",
            "changed:  ['I', 'want', 'to', 'go', 'for', 'it', 'to', 'school', '.']\n",
            "unchanged:  ['I', 'want', 'to', 'go', 'for', 'it', 'to', 'school', '.']\n",
            "1-2:\"do something\"\n",
            "changed:  ['I', 'do', 'something', 'to', 'go', 'for', 'it', 'to', 'school', '.']\n",
            "I do something to go for it to school.\n"
          ]
        }
      ]
    },
    {
      "cell_type": "code",
      "source": [
        "i1 = re.compile(r'^(\\d+)-(\\d+):\\\"(.*?)\\\"')\n",
        "#i1 = re.compile(r'(\\d+)')\n",
        "sen = \"1-2:\\\"do something\\\".3-5:\\\"go for it\\\".\"\n",
        "i3 = re.search(i1, sen).group(1)\n",
        "print(i3)"
      ],
      "metadata": {
        "colab": {
          "base_uri": "https://localhost:8080/"
        },
        "id": "ikRFtl1AEfxw",
        "outputId": "1f86e345-d03a-4cd4-ce3a-59299c8eafdb"
      },
      "execution_count": null,
      "outputs": [
        {
          "output_type": "stream",
          "name": "stdout",
          "text": [
            "1\n"
          ]
        }
      ]
    },
    {
      "cell_type": "code",
      "source": [
        "pattern = re.compile(r'^(\\d+)-(\\d+):\\\"(.*?)\\\"')  # matches 1-2:\"do something\".  (1), (2), (do something)\n",
        "results = re.search(pattern, sen)  # i3 means the content between \"\"\n",
        "i1, i2, i3 = results.group(1), results.group(2), results.group(3)\n",
        "print(i1, i2, i3)"
      ],
      "metadata": {
        "colab": {
          "base_uri": "https://localhost:8080/"
        },
        "id": "Ihy8hE46H-Nx",
        "outputId": "a29229dd-3e22-4e3b-8081-5a3e3abf6e78"
      },
      "execution_count": null,
      "outputs": [
        {
          "output_type": "stream",
          "name": "stdout",
          "text": [
            "1 2 do something\n"
          ]
        }
      ]
    },
    {
      "cell_type": "code",
      "source": [
        "print(restore(orgin2edited(a, b), a))"
      ],
      "metadata": {
        "colab": {
          "base_uri": "https://localhost:8080/",
          "height": 270
        },
        "id": "k1E9T6KrIxva",
        "outputId": "a456e082-8d8d-456e-8885-8bff19f98743"
      },
      "execution_count": null,
      "outputs": [
        {
          "output_type": "error",
          "ename": "TypeError",
          "evalue": "ignored",
          "traceback": [
            "\u001b[0;31m---------------------------------------------------------------------------\u001b[0m",
            "\u001b[0;31mTypeError\u001b[0m                                 Traceback (most recent call last)",
            "\u001b[0;32m<ipython-input-106-4be3cda1b7b2>\u001b[0m in \u001b[0;36m<module>\u001b[0;34m()\u001b[0m\n\u001b[0;32m----> 1\u001b[0;31m \u001b[0mprint\u001b[0m\u001b[0;34m(\u001b[0m\u001b[0mrestore\u001b[0m\u001b[0;34m(\u001b[0m\u001b[0morgin2edited\u001b[0m\u001b[0;34m(\u001b[0m\u001b[0ma\u001b[0m\u001b[0;34m,\u001b[0m \u001b[0mb\u001b[0m\u001b[0;34m)\u001b[0m\u001b[0;34m,\u001b[0m \u001b[0ma\u001b[0m\u001b[0;34m)\u001b[0m\u001b[0;34m)\u001b[0m\u001b[0;34m\u001b[0m\u001b[0;34m\u001b[0m\u001b[0m\n\u001b[0m",
            "\u001b[0;32m<ipython-input-105-be90ecf5603c>\u001b[0m in \u001b[0;36mrestore\u001b[0;34m(cg, origin)\u001b[0m\n\u001b[1;32m      7\u001b[0m         \u001b[0mresults\u001b[0m \u001b[0;34m=\u001b[0m \u001b[0mre\u001b[0m\u001b[0;34m.\u001b[0m\u001b[0msearch\u001b[0m\u001b[0;34m(\u001b[0m\u001b[0mpattern\u001b[0m\u001b[0;34m,\u001b[0m \u001b[0msen\u001b[0m\u001b[0;34m)\u001b[0m  \u001b[0;31m# i3 means the content between \"\"\u001b[0m\u001b[0;34m\u001b[0m\u001b[0;34m\u001b[0m\u001b[0m\n\u001b[1;32m      8\u001b[0m         \u001b[0mi1\u001b[0m\u001b[0;34m,\u001b[0m \u001b[0mi2\u001b[0m\u001b[0;34m,\u001b[0m \u001b[0mi3\u001b[0m \u001b[0;34m=\u001b[0m \u001b[0mresults\u001b[0m\u001b[0;34m.\u001b[0m\u001b[0mgroup\u001b[0m\u001b[0;34m(\u001b[0m\u001b[0;36m1\u001b[0m\u001b[0;34m)\u001b[0m\u001b[0;34m,\u001b[0m \u001b[0mresults\u001b[0m\u001b[0;34m.\u001b[0m\u001b[0mgroup\u001b[0m\u001b[0;34m(\u001b[0m\u001b[0;36m2\u001b[0m\u001b[0;34m)\u001b[0m\u001b[0;34m,\u001b[0m \u001b[0mresults\u001b[0m\u001b[0;34m.\u001b[0m\u001b[0mgroup\u001b[0m\u001b[0;34m(\u001b[0m\u001b[0;36m3\u001b[0m\u001b[0;34m)\u001b[0m\u001b[0;34m\u001b[0m\u001b[0;34m\u001b[0m\u001b[0m\n\u001b[0;32m----> 9\u001b[0;31m         \u001b[0morigin_list\u001b[0m\u001b[0;34m[\u001b[0m\u001b[0mi1\u001b[0m\u001b[0;34m:\u001b[0m \u001b[0mi2\u001b[0m\u001b[0;34m]\u001b[0m \u001b[0;34m=\u001b[0m \u001b[0mnltk\u001b[0m\u001b[0;34m.\u001b[0m\u001b[0mword_tokenize\u001b[0m\u001b[0;34m(\u001b[0m\u001b[0mi3\u001b[0m\u001b[0;34m)\u001b[0m\u001b[0;34m\u001b[0m\u001b[0;34m\u001b[0m\u001b[0m\n\u001b[0m\u001b[1;32m     10\u001b[0m     \u001b[0;32mreturn\u001b[0m \u001b[0;34m(\u001b[0m\u001b[0;34m\" \"\u001b[0m\u001b[0;34m)\u001b[0m\u001b[0;34m.\u001b[0m\u001b[0mjoin\u001b[0m\u001b[0;34m(\u001b[0m\u001b[0morigin_list\u001b[0m\u001b[0;34m)\u001b[0m\u001b[0;34m\u001b[0m\u001b[0;34m\u001b[0m\u001b[0m\n",
            "\u001b[0;31mTypeError\u001b[0m: slice indices must be integers or None or have an __index__ method"
          ]
        }
      ]
    }
  ]
}