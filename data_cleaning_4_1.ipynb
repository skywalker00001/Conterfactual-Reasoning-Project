{
  "nbformat": 4,
  "nbformat_minor": 0,
  "metadata": {
    "colab": {
      "name": "data_cleaning_4.1.ipynb",
      "provenance": [],
      "collapsed_sections": [],
      "authorship_tag": "ABX9TyMR3A//N4tVYdLGWpMuC3bo",
      "include_colab_link": true
    },
    "kernelspec": {
      "name": "python3",
      "display_name": "Python 3"
    },
    "language_info": {
      "name": "python"
    }
  },
  "cells": [
    {
      "cell_type": "markdown",
      "metadata": {
        "id": "view-in-github",
        "colab_type": "text"
      },
      "source": [
        "<a href=\"https://colab.research.google.com/github/skywalker00001/Conterfactual-Reasoning-Project/blob/main/data_cleaning_4_1.ipynb\" target=\"_parent\"><img src=\"https://colab.research.google.com/assets/colab-badge.svg\" alt=\"Open In Colab\"/></a>"
      ]
    },
    {
      "cell_type": "markdown",
      "source": [
        "# how to find out the different or changed blocks in sentence b compared to the sentence a (base)"
      ],
      "metadata": {
        "id": "Q2aKroRZLmfj"
      }
    },
    {
      "cell_type": "code",
      "source": [
        "# Importing stock libraries\n",
        "import numpy as np\n",
        "import pandas as pd\n",
        "import difflib\n",
        "import nltk\n",
        "import copy"
      ],
      "metadata": {
        "id": "KwAz8ZN7Wgb2"
      },
      "execution_count": 75,
      "outputs": []
    },
    {
      "cell_type": "code",
      "execution_count": 2,
      "metadata": {
        "colab": {
          "base_uri": "https://localhost:8080/"
        },
        "id": "1oheTRbyWWB6",
        "outputId": "cc71ff1d-88de-4ee8-8350-009c241e06aa"
      },
      "outputs": [
        {
          "output_type": "stream",
          "name": "stdout",
          "text": [
            "[nltk_data] Downloading package punkt to /root/nltk_data...\n",
            "[nltk_data]   Unzipping tokenizers/punkt.zip.\n"
          ]
        },
        {
          "output_type": "execute_result",
          "data": {
            "text/plain": [
              "True"
            ]
          },
          "metadata": {},
          "execution_count": 2
        }
      ],
      "source": [
        "nltk.download(\"punkt\")"
      ]
    },
    {
      "cell_type": "code",
      "source": [
        "\n",
        "a = \"I paid the cashier and patiently waited for my drink.\"\n",
        "b = \"I paid the cashier and patiently waited at the counter for my drink.\"\n",
        "# a = \"I want to acchieve something to school.\"\n",
        "# b = \"I do something to go for it to school.\"\n",
        "a_list = nltk.word_tokenize(a)\n",
        "b_list = nltk.word_tokenize(b)\n",
        "\n",
        "# a_list = \"qabxcd\"\n",
        "# b_list = \"abycdf\"\n",
        "print(a_list)\n",
        "print(b_list)"
      ],
      "metadata": {
        "colab": {
          "base_uri": "https://localhost:8080/"
        },
        "id": "OqWZJ5B-Wmjt",
        "outputId": "74e55222-31b9-4636-bf97-055c68929e6f"
      },
      "execution_count": 95,
      "outputs": [
        {
          "output_type": "stream",
          "name": "stdout",
          "text": [
            "['I', 'paid', 'the', 'cashier', 'and', 'patiently', 'waited', 'for', 'my', 'drink', '.']\n",
            "['I', 'paid', 'the', 'cashier', 'and', 'patiently', 'waited', 'at', 'the', 'counter', 'for', 'my', 'drink', '.']\n"
          ]
        }
      ]
    },
    {
      "cell_type": "code",
      "source": [
        "s = difflib.SequenceMatcher(None, a_list, b_list)\n",
        "for block in s.get_matching_blocks():\n",
        "    print(block)\n",
        "    "
      ],
      "metadata": {
        "colab": {
          "base_uri": "https://localhost:8080/"
        },
        "id": "tWdWTQNhW2dv",
        "outputId": "4722604d-3c77-40ee-ad30-a1fefe1b6280"
      },
      "execution_count": 96,
      "outputs": [
        {
          "output_type": "stream",
          "name": "stdout",
          "text": [
            "Match(a=0, b=0, size=7)\n",
            "Match(a=7, b=10, size=4)\n",
            "Match(a=11, b=14, size=0)\n"
          ]
        }
      ]
    },
    {
      "cell_type": "code",
      "source": [
        "print(a_list[2])"
      ],
      "metadata": {
        "colab": {
          "base_uri": "https://localhost:8080/"
        },
        "id": "q5ETmjnvG11Y",
        "outputId": "ac4bca6e-92da-406b-fafd-32fe75209f73"
      },
      "execution_count": 97,
      "outputs": [
        {
          "output_type": "stream",
          "name": "stdout",
          "text": [
            "the\n"
          ]
        }
      ]
    },
    {
      "cell_type": "code",
      "source": [
        "print(a_list[0:0+8])\n",
        "print(a_list[8:8+3])\n",
        "print(a_list[11:11+0])"
      ],
      "metadata": {
        "colab": {
          "base_uri": "https://localhost:8080/"
        },
        "id": "_MEe1kh5XGgS",
        "outputId": "0c7bd44f-ce14-4f8c-a73e-c1369b4d29ff"
      },
      "execution_count": 98,
      "outputs": [
        {
          "output_type": "stream",
          "name": "stdout",
          "text": [
            "['I', 'paid', 'the', 'cashier', 'and', 'patiently', 'waited', 'for']\n",
            "['my', 'drink', '.']\n",
            "[]\n"
          ]
        }
      ]
    },
    {
      "cell_type": "code",
      "source": [
        "matches = []\n",
        "matches.append([0, 0, 0])\n",
        "for block in s.get_matching_blocks():\n",
        "    #matches.append([block[0], block[1], block[2]])\n",
        "    matches.append([i for i in block])\n",
        "    #matches.append(block)\n",
        "print(matches)   \n",
        "\n",
        "# explanation: matches[i][0] are the a index, matches[i][1] are the b index, matches[i] [2] are the lengths of same (matched) words."
      ],
      "metadata": {
        "colab": {
          "base_uri": "https://localhost:8080/"
        },
        "id": "5gE7MKlhjkhL",
        "outputId": "f6e3a42e-ed46-4b95-9209-9de5b1992f1a"
      },
      "execution_count": 99,
      "outputs": [
        {
          "output_type": "stream",
          "name": "stdout",
          "text": [
            "[[0, 0, 0], [0, 0, 7], [7, 10, 4], [11, 14, 0]]\n"
          ]
        }
      ]
    },
    {
      "cell_type": "code",
      "source": [
        "changes = []\n",
        "for i in range(len(matches) - 1):\n",
        "    #print(matches[i])\n",
        "    if ((matches[i][0]+ matches[i][2] < matches[i+1][0]) & (matches[i][1]+ matches[i][2] < matches[i+1][1])):     # replace\n",
        "        string = (\" \").join(b_list[(matches[i][1]+matches[i][2]) : matches[i+1][1]])\n",
        "        changes.append(f\"replacing_{matches[i][0]+matches[i][2]}-{matches[i+1][0]}: {string}\")\n",
        "    elif ((matches[i][0]+ matches[i][2] < matches[i+1][0]) & (matches[i][1]+ matches[i][2] == matches[i+1][1])):     # delete\n",
        "        string = (\" \").join(b_list[(matches[i][1]+matches[i][2]) : matches[i+1][1]])\n",
        "        changes.append(f\"deleting_{matches[i][0]+matches[i][2]}-{matches[i+1][0]}: {string}\")\n",
        "    elif ((matches[i][0]+ matches[i][2] == matches[i+1][0]) & (matches[i][1]+ matches[i][2] < matches[i+1][1])):     # insert\n",
        "        string = (\" \").join(b_list[(matches[i][1]+matches[i][2]) : matches[i+1][1]])\n",
        "        changes.append(f\"inserting_{matches[i][0]+matches[i][2]}-{matches[i+1][0]}: {string}\")"
      ],
      "metadata": {
        "id": "AnfI2FCJE3zY"
      },
      "execution_count": 100,
      "outputs": []
    },
    {
      "cell_type": "code",
      "source": [
        "print(changes)"
      ],
      "metadata": {
        "colab": {
          "base_uri": "https://localhost:8080/"
        },
        "id": "xa7DymdFjp5L",
        "outputId": "2da1331f-6d4b-4db8-e767-2ba919c71e13"
      },
      "execution_count": 101,
      "outputs": [
        {
          "output_type": "stream",
          "name": "stdout",
          "text": [
            "['inserting_7-7: at the counter']\n"
          ]
        }
      ]
    },
    {
      "cell_type": "code",
      "source": [
        "c = copy.deepcopy(a_list)\n",
        "c[7:7] = nltk.word_tokenize(\"at the counter\")\n"
      ],
      "metadata": {
        "id": "DKcE0ZamHvXp"
      },
      "execution_count": 102,
      "outputs": []
    },
    {
      "cell_type": "code",
      "source": [
        "print(a_list)"
      ],
      "metadata": {
        "colab": {
          "base_uri": "https://localhost:8080/"
        },
        "id": "8XVQ6JC1IoVJ",
        "outputId": "caf6a464-7d85-4f6e-c114-17a58404c089"
      },
      "execution_count": 103,
      "outputs": [
        {
          "output_type": "stream",
          "name": "stdout",
          "text": [
            "['I', 'paid', 'the', 'cashier', 'and', 'patiently', 'waited', 'for', 'my', 'drink', '.']\n"
          ]
        }
      ]
    },
    {
      "cell_type": "markdown",
      "source": [
        ""
      ],
      "metadata": {
        "id": "9NPsRv5fLlqu"
      }
    },
    {
      "cell_type": "code",
      "source": [
        "print(c)"
      ],
      "metadata": {
        "colab": {
          "base_uri": "https://localhost:8080/"
        },
        "id": "-gCx3vMlIXAH",
        "outputId": "a87e7a4c-5df4-412c-f4ad-8874ae4262e0"
      },
      "execution_count": 80,
      "outputs": [
        {
          "output_type": "stream",
          "name": "stdout",
          "text": [
            "['I', 'paid', 'the', 'cashier', 'and', 'patiently', 'waited', 'at', 'the', 'counter', 'for', 'my', 'drink', '.']\n"
          ]
        }
      ]
    }
  ]
}