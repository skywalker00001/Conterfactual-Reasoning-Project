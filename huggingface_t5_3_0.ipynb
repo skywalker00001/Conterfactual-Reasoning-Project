{
  "nbformat": 4,
  "nbformat_minor": 0,
  "metadata": {
    "colab": {
      "name": "huggingface_t5_3.0.ipynb",
      "provenance": [],
      "collapsed_sections": [],
      "authorship_tag": "ABX9TyOCIfIXuC+4f7jxWaG4FCZ5",
      "include_colab_link": true
    },
    "kernelspec": {
      "name": "python3",
      "display_name": "Python 3"
    },
    "language_info": {
      "name": "python"
    },
    "accelerator": "GPU",
    "widgets": {
      "application/vnd.jupyter.widget-state+json": {
        "00d75fe550c4400b9096f34cf8ccbe95": {
          "model_module": "@jupyter-widgets/controls",
          "model_name": "HBoxModel",
          "model_module_version": "1.5.0",
          "state": {
            "_view_name": "HBoxView",
            "_dom_classes": [],
            "_model_name": "HBoxModel",
            "_view_module": "@jupyter-widgets/controls",
            "_model_module_version": "1.5.0",
            "_view_count": null,
            "_view_module_version": "1.5.0",
            "box_style": "",
            "layout": "IPY_MODEL_698cadea6262483ab0e8dfbede110d14",
            "_model_module": "@jupyter-widgets/controls",
            "children": [
              "IPY_MODEL_813d539bd90647d7a82d82c3ef8a77e8",
              "IPY_MODEL_efe606ee91d9446c81c54561e54cf37a",
              "IPY_MODEL_f96513b75b7d4cd3bd7340b095d39b5d"
            ]
          }
        },
        "698cadea6262483ab0e8dfbede110d14": {
          "model_module": "@jupyter-widgets/base",
          "model_name": "LayoutModel",
          "model_module_version": "1.2.0",
          "state": {
            "_view_name": "LayoutView",
            "grid_template_rows": null,
            "right": null,
            "justify_content": null,
            "_view_module": "@jupyter-widgets/base",
            "overflow": null,
            "_model_module_version": "1.2.0",
            "_view_count": null,
            "flex_flow": null,
            "width": null,
            "min_width": null,
            "border": null,
            "align_items": null,
            "bottom": null,
            "_model_module": "@jupyter-widgets/base",
            "top": null,
            "grid_column": null,
            "overflow_y": null,
            "overflow_x": null,
            "grid_auto_flow": null,
            "grid_area": null,
            "grid_template_columns": null,
            "flex": null,
            "_model_name": "LayoutModel",
            "justify_items": null,
            "grid_row": null,
            "max_height": null,
            "align_content": null,
            "visibility": null,
            "align_self": null,
            "height": null,
            "min_height": null,
            "padding": null,
            "grid_auto_rows": null,
            "grid_gap": null,
            "max_width": null,
            "order": null,
            "_view_module_version": "1.2.0",
            "grid_template_areas": null,
            "object_position": null,
            "object_fit": null,
            "grid_auto_columns": null,
            "margin": null,
            "display": null,
            "left": null
          }
        },
        "813d539bd90647d7a82d82c3ef8a77e8": {
          "model_module": "@jupyter-widgets/controls",
          "model_name": "HTMLModel",
          "model_module_version": "1.5.0",
          "state": {
            "_view_name": "HTMLView",
            "style": "IPY_MODEL_56c88ce491e346acbef684d1d4ccd820",
            "_dom_classes": [],
            "description": "",
            "_model_name": "HTMLModel",
            "placeholder": "​",
            "_view_module": "@jupyter-widgets/controls",
            "_model_module_version": "1.5.0",
            "value": "Downloading: 100%",
            "_view_count": null,
            "_view_module_version": "1.5.0",
            "description_tooltip": null,
            "_model_module": "@jupyter-widgets/controls",
            "layout": "IPY_MODEL_b3f38bd6ce6a463c9b4f30de244721f5"
          }
        },
        "efe606ee91d9446c81c54561e54cf37a": {
          "model_module": "@jupyter-widgets/controls",
          "model_name": "FloatProgressModel",
          "model_module_version": "1.5.0",
          "state": {
            "_view_name": "ProgressView",
            "style": "IPY_MODEL_678ceaacc91f44a182c1d82a58517353",
            "_dom_classes": [],
            "description": "",
            "_model_name": "FloatProgressModel",
            "bar_style": "success",
            "max": 791656,
            "_view_module": "@jupyter-widgets/controls",
            "_model_module_version": "1.5.0",
            "value": 791656,
            "_view_count": null,
            "_view_module_version": "1.5.0",
            "orientation": "horizontal",
            "min": 0,
            "description_tooltip": null,
            "_model_module": "@jupyter-widgets/controls",
            "layout": "IPY_MODEL_3cc883e2e07644db90595d0409f24580"
          }
        },
        "f96513b75b7d4cd3bd7340b095d39b5d": {
          "model_module": "@jupyter-widgets/controls",
          "model_name": "HTMLModel",
          "model_module_version": "1.5.0",
          "state": {
            "_view_name": "HTMLView",
            "style": "IPY_MODEL_696a4f724be64a74b913c87198f0643b",
            "_dom_classes": [],
            "description": "",
            "_model_name": "HTMLModel",
            "placeholder": "​",
            "_view_module": "@jupyter-widgets/controls",
            "_model_module_version": "1.5.0",
            "value": " 773k/773k [00:00&lt;00:00, 587kB/s]",
            "_view_count": null,
            "_view_module_version": "1.5.0",
            "description_tooltip": null,
            "_model_module": "@jupyter-widgets/controls",
            "layout": "IPY_MODEL_c1e4aff6d373474aba632d011b1e9c64"
          }
        },
        "56c88ce491e346acbef684d1d4ccd820": {
          "model_module": "@jupyter-widgets/controls",
          "model_name": "DescriptionStyleModel",
          "model_module_version": "1.5.0",
          "state": {
            "_view_name": "StyleView",
            "_model_name": "DescriptionStyleModel",
            "description_width": "",
            "_view_module": "@jupyter-widgets/base",
            "_model_module_version": "1.5.0",
            "_view_count": null,
            "_view_module_version": "1.2.0",
            "_model_module": "@jupyter-widgets/controls"
          }
        },
        "b3f38bd6ce6a463c9b4f30de244721f5": {
          "model_module": "@jupyter-widgets/base",
          "model_name": "LayoutModel",
          "model_module_version": "1.2.0",
          "state": {
            "_view_name": "LayoutView",
            "grid_template_rows": null,
            "right": null,
            "justify_content": null,
            "_view_module": "@jupyter-widgets/base",
            "overflow": null,
            "_model_module_version": "1.2.0",
            "_view_count": null,
            "flex_flow": null,
            "width": null,
            "min_width": null,
            "border": null,
            "align_items": null,
            "bottom": null,
            "_model_module": "@jupyter-widgets/base",
            "top": null,
            "grid_column": null,
            "overflow_y": null,
            "overflow_x": null,
            "grid_auto_flow": null,
            "grid_area": null,
            "grid_template_columns": null,
            "flex": null,
            "_model_name": "LayoutModel",
            "justify_items": null,
            "grid_row": null,
            "max_height": null,
            "align_content": null,
            "visibility": null,
            "align_self": null,
            "height": null,
            "min_height": null,
            "padding": null,
            "grid_auto_rows": null,
            "grid_gap": null,
            "max_width": null,
            "order": null,
            "_view_module_version": "1.2.0",
            "grid_template_areas": null,
            "object_position": null,
            "object_fit": null,
            "grid_auto_columns": null,
            "margin": null,
            "display": null,
            "left": null
          }
        },
        "678ceaacc91f44a182c1d82a58517353": {
          "model_module": "@jupyter-widgets/controls",
          "model_name": "ProgressStyleModel",
          "model_module_version": "1.5.0",
          "state": {
            "_view_name": "StyleView",
            "_model_name": "ProgressStyleModel",
            "description_width": "",
            "_view_module": "@jupyter-widgets/base",
            "_model_module_version": "1.5.0",
            "_view_count": null,
            "_view_module_version": "1.2.0",
            "bar_color": null,
            "_model_module": "@jupyter-widgets/controls"
          }
        },
        "3cc883e2e07644db90595d0409f24580": {
          "model_module": "@jupyter-widgets/base",
          "model_name": "LayoutModel",
          "model_module_version": "1.2.0",
          "state": {
            "_view_name": "LayoutView",
            "grid_template_rows": null,
            "right": null,
            "justify_content": null,
            "_view_module": "@jupyter-widgets/base",
            "overflow": null,
            "_model_module_version": "1.2.0",
            "_view_count": null,
            "flex_flow": null,
            "width": null,
            "min_width": null,
            "border": null,
            "align_items": null,
            "bottom": null,
            "_model_module": "@jupyter-widgets/base",
            "top": null,
            "grid_column": null,
            "overflow_y": null,
            "overflow_x": null,
            "grid_auto_flow": null,
            "grid_area": null,
            "grid_template_columns": null,
            "flex": null,
            "_model_name": "LayoutModel",
            "justify_items": null,
            "grid_row": null,
            "max_height": null,
            "align_content": null,
            "visibility": null,
            "align_self": null,
            "height": null,
            "min_height": null,
            "padding": null,
            "grid_auto_rows": null,
            "grid_gap": null,
            "max_width": null,
            "order": null,
            "_view_module_version": "1.2.0",
            "grid_template_areas": null,
            "object_position": null,
            "object_fit": null,
            "grid_auto_columns": null,
            "margin": null,
            "display": null,
            "left": null
          }
        },
        "696a4f724be64a74b913c87198f0643b": {
          "model_module": "@jupyter-widgets/controls",
          "model_name": "DescriptionStyleModel",
          "model_module_version": "1.5.0",
          "state": {
            "_view_name": "StyleView",
            "_model_name": "DescriptionStyleModel",
            "description_width": "",
            "_view_module": "@jupyter-widgets/base",
            "_model_module_version": "1.5.0",
            "_view_count": null,
            "_view_module_version": "1.2.0",
            "_model_module": "@jupyter-widgets/controls"
          }
        },
        "c1e4aff6d373474aba632d011b1e9c64": {
          "model_module": "@jupyter-widgets/base",
          "model_name": "LayoutModel",
          "model_module_version": "1.2.0",
          "state": {
            "_view_name": "LayoutView",
            "grid_template_rows": null,
            "right": null,
            "justify_content": null,
            "_view_module": "@jupyter-widgets/base",
            "overflow": null,
            "_model_module_version": "1.2.0",
            "_view_count": null,
            "flex_flow": null,
            "width": null,
            "min_width": null,
            "border": null,
            "align_items": null,
            "bottom": null,
            "_model_module": "@jupyter-widgets/base",
            "top": null,
            "grid_column": null,
            "overflow_y": null,
            "overflow_x": null,
            "grid_auto_flow": null,
            "grid_area": null,
            "grid_template_columns": null,
            "flex": null,
            "_model_name": "LayoutModel",
            "justify_items": null,
            "grid_row": null,
            "max_height": null,
            "align_content": null,
            "visibility": null,
            "align_self": null,
            "height": null,
            "min_height": null,
            "padding": null,
            "grid_auto_rows": null,
            "grid_gap": null,
            "max_width": null,
            "order": null,
            "_view_module_version": "1.2.0",
            "grid_template_areas": null,
            "object_position": null,
            "object_fit": null,
            "grid_auto_columns": null,
            "margin": null,
            "display": null,
            "left": null
          }
        },
        "b3e3b44e8ac347379c90f149bf9c29af": {
          "model_module": "@jupyter-widgets/controls",
          "model_name": "HBoxModel",
          "model_module_version": "1.5.0",
          "state": {
            "_view_name": "HBoxView",
            "_dom_classes": [],
            "_model_name": "HBoxModel",
            "_view_module": "@jupyter-widgets/controls",
            "_model_module_version": "1.5.0",
            "_view_count": null,
            "_view_module_version": "1.5.0",
            "box_style": "",
            "layout": "IPY_MODEL_914406f031cc455a8db6debfcac6b2f7",
            "_model_module": "@jupyter-widgets/controls",
            "children": [
              "IPY_MODEL_a8dec392dc9e4a57bfa2f0612ffe4bfb",
              "IPY_MODEL_25994bc21bea46749263b78860a4176e",
              "IPY_MODEL_ab8cf8e914c1457bbe96006461727613"
            ]
          }
        },
        "914406f031cc455a8db6debfcac6b2f7": {
          "model_module": "@jupyter-widgets/base",
          "model_name": "LayoutModel",
          "model_module_version": "1.2.0",
          "state": {
            "_view_name": "LayoutView",
            "grid_template_rows": null,
            "right": null,
            "justify_content": null,
            "_view_module": "@jupyter-widgets/base",
            "overflow": null,
            "_model_module_version": "1.2.0",
            "_view_count": null,
            "flex_flow": null,
            "width": null,
            "min_width": null,
            "border": null,
            "align_items": null,
            "bottom": null,
            "_model_module": "@jupyter-widgets/base",
            "top": null,
            "grid_column": null,
            "overflow_y": null,
            "overflow_x": null,
            "grid_auto_flow": null,
            "grid_area": null,
            "grid_template_columns": null,
            "flex": null,
            "_model_name": "LayoutModel",
            "justify_items": null,
            "grid_row": null,
            "max_height": null,
            "align_content": null,
            "visibility": null,
            "align_self": null,
            "height": null,
            "min_height": null,
            "padding": null,
            "grid_auto_rows": null,
            "grid_gap": null,
            "max_width": null,
            "order": null,
            "_view_module_version": "1.2.0",
            "grid_template_areas": null,
            "object_position": null,
            "object_fit": null,
            "grid_auto_columns": null,
            "margin": null,
            "display": null,
            "left": null
          }
        },
        "a8dec392dc9e4a57bfa2f0612ffe4bfb": {
          "model_module": "@jupyter-widgets/controls",
          "model_name": "HTMLModel",
          "model_module_version": "1.5.0",
          "state": {
            "_view_name": "HTMLView",
            "style": "IPY_MODEL_3671591033eb4789b72e3d7f179db449",
            "_dom_classes": [],
            "description": "",
            "_model_name": "HTMLModel",
            "placeholder": "​",
            "_view_module": "@jupyter-widgets/controls",
            "_model_module_version": "1.5.0",
            "value": "Downloading: 100%",
            "_view_count": null,
            "_view_module_version": "1.5.0",
            "description_tooltip": null,
            "_model_module": "@jupyter-widgets/controls",
            "layout": "IPY_MODEL_6425abaccad2415b94c9d9d5fd33a128"
          }
        },
        "25994bc21bea46749263b78860a4176e": {
          "model_module": "@jupyter-widgets/controls",
          "model_name": "FloatProgressModel",
          "model_module_version": "1.5.0",
          "state": {
            "_view_name": "ProgressView",
            "style": "IPY_MODEL_07e9170697a34c37a577799147476aaa",
            "_dom_classes": [],
            "description": "",
            "_model_name": "FloatProgressModel",
            "bar_style": "success",
            "max": 1389353,
            "_view_module": "@jupyter-widgets/controls",
            "_model_module_version": "1.5.0",
            "value": 1389353,
            "_view_count": null,
            "_view_module_version": "1.5.0",
            "orientation": "horizontal",
            "min": 0,
            "description_tooltip": null,
            "_model_module": "@jupyter-widgets/controls",
            "layout": "IPY_MODEL_ac5e2cf99b134b4eb4485d3cbc769c5a"
          }
        },
        "ab8cf8e914c1457bbe96006461727613": {
          "model_module": "@jupyter-widgets/controls",
          "model_name": "HTMLModel",
          "model_module_version": "1.5.0",
          "state": {
            "_view_name": "HTMLView",
            "style": "IPY_MODEL_ad027c0298fe43f393723214e10fb455",
            "_dom_classes": [],
            "description": "",
            "_model_name": "HTMLModel",
            "placeholder": "​",
            "_view_module": "@jupyter-widgets/controls",
            "_model_module_version": "1.5.0",
            "value": " 1.32M/1.32M [00:00&lt;00:00, 2.73MB/s]",
            "_view_count": null,
            "_view_module_version": "1.5.0",
            "description_tooltip": null,
            "_model_module": "@jupyter-widgets/controls",
            "layout": "IPY_MODEL_e91d0c4a2202406d8bad10831bbe7613"
          }
        },
        "3671591033eb4789b72e3d7f179db449": {
          "model_module": "@jupyter-widgets/controls",
          "model_name": "DescriptionStyleModel",
          "model_module_version": "1.5.0",
          "state": {
            "_view_name": "StyleView",
            "_model_name": "DescriptionStyleModel",
            "description_width": "",
            "_view_module": "@jupyter-widgets/base",
            "_model_module_version": "1.5.0",
            "_view_count": null,
            "_view_module_version": "1.2.0",
            "_model_module": "@jupyter-widgets/controls"
          }
        },
        "6425abaccad2415b94c9d9d5fd33a128": {
          "model_module": "@jupyter-widgets/base",
          "model_name": "LayoutModel",
          "model_module_version": "1.2.0",
          "state": {
            "_view_name": "LayoutView",
            "grid_template_rows": null,
            "right": null,
            "justify_content": null,
            "_view_module": "@jupyter-widgets/base",
            "overflow": null,
            "_model_module_version": "1.2.0",
            "_view_count": null,
            "flex_flow": null,
            "width": null,
            "min_width": null,
            "border": null,
            "align_items": null,
            "bottom": null,
            "_model_module": "@jupyter-widgets/base",
            "top": null,
            "grid_column": null,
            "overflow_y": null,
            "overflow_x": null,
            "grid_auto_flow": null,
            "grid_area": null,
            "grid_template_columns": null,
            "flex": null,
            "_model_name": "LayoutModel",
            "justify_items": null,
            "grid_row": null,
            "max_height": null,
            "align_content": null,
            "visibility": null,
            "align_self": null,
            "height": null,
            "min_height": null,
            "padding": null,
            "grid_auto_rows": null,
            "grid_gap": null,
            "max_width": null,
            "order": null,
            "_view_module_version": "1.2.0",
            "grid_template_areas": null,
            "object_position": null,
            "object_fit": null,
            "grid_auto_columns": null,
            "margin": null,
            "display": null,
            "left": null
          }
        },
        "07e9170697a34c37a577799147476aaa": {
          "model_module": "@jupyter-widgets/controls",
          "model_name": "ProgressStyleModel",
          "model_module_version": "1.5.0",
          "state": {
            "_view_name": "StyleView",
            "_model_name": "ProgressStyleModel",
            "description_width": "",
            "_view_module": "@jupyter-widgets/base",
            "_model_module_version": "1.5.0",
            "_view_count": null,
            "_view_module_version": "1.2.0",
            "bar_color": null,
            "_model_module": "@jupyter-widgets/controls"
          }
        },
        "ac5e2cf99b134b4eb4485d3cbc769c5a": {
          "model_module": "@jupyter-widgets/base",
          "model_name": "LayoutModel",
          "model_module_version": "1.2.0",
          "state": {
            "_view_name": "LayoutView",
            "grid_template_rows": null,
            "right": null,
            "justify_content": null,
            "_view_module": "@jupyter-widgets/base",
            "overflow": null,
            "_model_module_version": "1.2.0",
            "_view_count": null,
            "flex_flow": null,
            "width": null,
            "min_width": null,
            "border": null,
            "align_items": null,
            "bottom": null,
            "_model_module": "@jupyter-widgets/base",
            "top": null,
            "grid_column": null,
            "overflow_y": null,
            "overflow_x": null,
            "grid_auto_flow": null,
            "grid_area": null,
            "grid_template_columns": null,
            "flex": null,
            "_model_name": "LayoutModel",
            "justify_items": null,
            "grid_row": null,
            "max_height": null,
            "align_content": null,
            "visibility": null,
            "align_self": null,
            "height": null,
            "min_height": null,
            "padding": null,
            "grid_auto_rows": null,
            "grid_gap": null,
            "max_width": null,
            "order": null,
            "_view_module_version": "1.2.0",
            "grid_template_areas": null,
            "object_position": null,
            "object_fit": null,
            "grid_auto_columns": null,
            "margin": null,
            "display": null,
            "left": null
          }
        },
        "ad027c0298fe43f393723214e10fb455": {
          "model_module": "@jupyter-widgets/controls",
          "model_name": "DescriptionStyleModel",
          "model_module_version": "1.5.0",
          "state": {
            "_view_name": "StyleView",
            "_model_name": "DescriptionStyleModel",
            "description_width": "",
            "_view_module": "@jupyter-widgets/base",
            "_model_module_version": "1.5.0",
            "_view_count": null,
            "_view_module_version": "1.2.0",
            "_model_module": "@jupyter-widgets/controls"
          }
        },
        "e91d0c4a2202406d8bad10831bbe7613": {
          "model_module": "@jupyter-widgets/base",
          "model_name": "LayoutModel",
          "model_module_version": "1.2.0",
          "state": {
            "_view_name": "LayoutView",
            "grid_template_rows": null,
            "right": null,
            "justify_content": null,
            "_view_module": "@jupyter-widgets/base",
            "overflow": null,
            "_model_module_version": "1.2.0",
            "_view_count": null,
            "flex_flow": null,
            "width": null,
            "min_width": null,
            "border": null,
            "align_items": null,
            "bottom": null,
            "_model_module": "@jupyter-widgets/base",
            "top": null,
            "grid_column": null,
            "overflow_y": null,
            "overflow_x": null,
            "grid_auto_flow": null,
            "grid_area": null,
            "grid_template_columns": null,
            "flex": null,
            "_model_name": "LayoutModel",
            "justify_items": null,
            "grid_row": null,
            "max_height": null,
            "align_content": null,
            "visibility": null,
            "align_self": null,
            "height": null,
            "min_height": null,
            "padding": null,
            "grid_auto_rows": null,
            "grid_gap": null,
            "max_width": null,
            "order": null,
            "_view_module_version": "1.2.0",
            "grid_template_areas": null,
            "object_position": null,
            "object_fit": null,
            "grid_auto_columns": null,
            "margin": null,
            "display": null,
            "left": null
          }
        },
        "bbfb30535a6e42fe8921085ea8b09570": {
          "model_module": "@jupyter-widgets/controls",
          "model_name": "HBoxModel",
          "model_module_version": "1.5.0",
          "state": {
            "_view_name": "HBoxView",
            "_dom_classes": [],
            "_model_name": "HBoxModel",
            "_view_module": "@jupyter-widgets/controls",
            "_model_module_version": "1.5.0",
            "_view_count": null,
            "_view_module_version": "1.5.0",
            "box_style": "",
            "layout": "IPY_MODEL_6554b6898a8541faa83c133d6721becf",
            "_model_module": "@jupyter-widgets/controls",
            "children": [
              "IPY_MODEL_5b7ebd3b3c2a43b686c03b16f0954d48",
              "IPY_MODEL_501cb374f1b845648c5c93333835f938",
              "IPY_MODEL_a0256a882b0b4896a17e30a924531d8a"
            ]
          }
        },
        "6554b6898a8541faa83c133d6721becf": {
          "model_module": "@jupyter-widgets/base",
          "model_name": "LayoutModel",
          "model_module_version": "1.2.0",
          "state": {
            "_view_name": "LayoutView",
            "grid_template_rows": null,
            "right": null,
            "justify_content": null,
            "_view_module": "@jupyter-widgets/base",
            "overflow": null,
            "_model_module_version": "1.2.0",
            "_view_count": null,
            "flex_flow": null,
            "width": null,
            "min_width": null,
            "border": null,
            "align_items": null,
            "bottom": null,
            "_model_module": "@jupyter-widgets/base",
            "top": null,
            "grid_column": null,
            "overflow_y": null,
            "overflow_x": null,
            "grid_auto_flow": null,
            "grid_area": null,
            "grid_template_columns": null,
            "flex": null,
            "_model_name": "LayoutModel",
            "justify_items": null,
            "grid_row": null,
            "max_height": null,
            "align_content": null,
            "visibility": null,
            "align_self": null,
            "height": null,
            "min_height": null,
            "padding": null,
            "grid_auto_rows": null,
            "grid_gap": null,
            "max_width": null,
            "order": null,
            "_view_module_version": "1.2.0",
            "grid_template_areas": null,
            "object_position": null,
            "object_fit": null,
            "grid_auto_columns": null,
            "margin": null,
            "display": null,
            "left": null
          }
        },
        "5b7ebd3b3c2a43b686c03b16f0954d48": {
          "model_module": "@jupyter-widgets/controls",
          "model_name": "HTMLModel",
          "model_module_version": "1.5.0",
          "state": {
            "_view_name": "HTMLView",
            "style": "IPY_MODEL_3927e006154545b88150d61e2e5af5d6",
            "_dom_classes": [],
            "description": "",
            "_model_name": "HTMLModel",
            "placeholder": "​",
            "_view_module": "@jupyter-widgets/controls",
            "_model_module_version": "1.5.0",
            "value": "Downloading: 100%",
            "_view_count": null,
            "_view_module_version": "1.5.0",
            "description_tooltip": null,
            "_model_module": "@jupyter-widgets/controls",
            "layout": "IPY_MODEL_3aeb8b66db7449049dca41e0de872214"
          }
        },
        "501cb374f1b845648c5c93333835f938": {
          "model_module": "@jupyter-widgets/controls",
          "model_name": "FloatProgressModel",
          "model_module_version": "1.5.0",
          "state": {
            "_view_name": "ProgressView",
            "style": "IPY_MODEL_dbdd9fe288214478a8cc638b085f1650",
            "_dom_classes": [],
            "description": "",
            "_model_name": "FloatProgressModel",
            "bar_style": "success",
            "max": 1199,
            "_view_module": "@jupyter-widgets/controls",
            "_model_module_version": "1.5.0",
            "value": 1199,
            "_view_count": null,
            "_view_module_version": "1.5.0",
            "orientation": "horizontal",
            "min": 0,
            "description_tooltip": null,
            "_model_module": "@jupyter-widgets/controls",
            "layout": "IPY_MODEL_9dd6d1a19f164e4f9187048466d3b766"
          }
        },
        "a0256a882b0b4896a17e30a924531d8a": {
          "model_module": "@jupyter-widgets/controls",
          "model_name": "HTMLModel",
          "model_module_version": "1.5.0",
          "state": {
            "_view_name": "HTMLView",
            "style": "IPY_MODEL_ee94b4550baa48c9b57d9a322a150894",
            "_dom_classes": [],
            "description": "",
            "_model_name": "HTMLModel",
            "placeholder": "​",
            "_view_module": "@jupyter-widgets/controls",
            "_model_module_version": "1.5.0",
            "value": " 1.17k/1.17k [00:00&lt;00:00, 34.7kB/s]",
            "_view_count": null,
            "_view_module_version": "1.5.0",
            "description_tooltip": null,
            "_model_module": "@jupyter-widgets/controls",
            "layout": "IPY_MODEL_7b0b4cc332814ba4a42bb33373cbc2bd"
          }
        },
        "3927e006154545b88150d61e2e5af5d6": {
          "model_module": "@jupyter-widgets/controls",
          "model_name": "DescriptionStyleModel",
          "model_module_version": "1.5.0",
          "state": {
            "_view_name": "StyleView",
            "_model_name": "DescriptionStyleModel",
            "description_width": "",
            "_view_module": "@jupyter-widgets/base",
            "_model_module_version": "1.5.0",
            "_view_count": null,
            "_view_module_version": "1.2.0",
            "_model_module": "@jupyter-widgets/controls"
          }
        },
        "3aeb8b66db7449049dca41e0de872214": {
          "model_module": "@jupyter-widgets/base",
          "model_name": "LayoutModel",
          "model_module_version": "1.2.0",
          "state": {
            "_view_name": "LayoutView",
            "grid_template_rows": null,
            "right": null,
            "justify_content": null,
            "_view_module": "@jupyter-widgets/base",
            "overflow": null,
            "_model_module_version": "1.2.0",
            "_view_count": null,
            "flex_flow": null,
            "width": null,
            "min_width": null,
            "border": null,
            "align_items": null,
            "bottom": null,
            "_model_module": "@jupyter-widgets/base",
            "top": null,
            "grid_column": null,
            "overflow_y": null,
            "overflow_x": null,
            "grid_auto_flow": null,
            "grid_area": null,
            "grid_template_columns": null,
            "flex": null,
            "_model_name": "LayoutModel",
            "justify_items": null,
            "grid_row": null,
            "max_height": null,
            "align_content": null,
            "visibility": null,
            "align_self": null,
            "height": null,
            "min_height": null,
            "padding": null,
            "grid_auto_rows": null,
            "grid_gap": null,
            "max_width": null,
            "order": null,
            "_view_module_version": "1.2.0",
            "grid_template_areas": null,
            "object_position": null,
            "object_fit": null,
            "grid_auto_columns": null,
            "margin": null,
            "display": null,
            "left": null
          }
        },
        "dbdd9fe288214478a8cc638b085f1650": {
          "model_module": "@jupyter-widgets/controls",
          "model_name": "ProgressStyleModel",
          "model_module_version": "1.5.0",
          "state": {
            "_view_name": "StyleView",
            "_model_name": "ProgressStyleModel",
            "description_width": "",
            "_view_module": "@jupyter-widgets/base",
            "_model_module_version": "1.5.0",
            "_view_count": null,
            "_view_module_version": "1.2.0",
            "bar_color": null,
            "_model_module": "@jupyter-widgets/controls"
          }
        },
        "9dd6d1a19f164e4f9187048466d3b766": {
          "model_module": "@jupyter-widgets/base",
          "model_name": "LayoutModel",
          "model_module_version": "1.2.0",
          "state": {
            "_view_name": "LayoutView",
            "grid_template_rows": null,
            "right": null,
            "justify_content": null,
            "_view_module": "@jupyter-widgets/base",
            "overflow": null,
            "_model_module_version": "1.2.0",
            "_view_count": null,
            "flex_flow": null,
            "width": null,
            "min_width": null,
            "border": null,
            "align_items": null,
            "bottom": null,
            "_model_module": "@jupyter-widgets/base",
            "top": null,
            "grid_column": null,
            "overflow_y": null,
            "overflow_x": null,
            "grid_auto_flow": null,
            "grid_area": null,
            "grid_template_columns": null,
            "flex": null,
            "_model_name": "LayoutModel",
            "justify_items": null,
            "grid_row": null,
            "max_height": null,
            "align_content": null,
            "visibility": null,
            "align_self": null,
            "height": null,
            "min_height": null,
            "padding": null,
            "grid_auto_rows": null,
            "grid_gap": null,
            "max_width": null,
            "order": null,
            "_view_module_version": "1.2.0",
            "grid_template_areas": null,
            "object_position": null,
            "object_fit": null,
            "grid_auto_columns": null,
            "margin": null,
            "display": null,
            "left": null
          }
        },
        "ee94b4550baa48c9b57d9a322a150894": {
          "model_module": "@jupyter-widgets/controls",
          "model_name": "DescriptionStyleModel",
          "model_module_version": "1.5.0",
          "state": {
            "_view_name": "StyleView",
            "_model_name": "DescriptionStyleModel",
            "description_width": "",
            "_view_module": "@jupyter-widgets/base",
            "_model_module_version": "1.5.0",
            "_view_count": null,
            "_view_module_version": "1.2.0",
            "_model_module": "@jupyter-widgets/controls"
          }
        },
        "7b0b4cc332814ba4a42bb33373cbc2bd": {
          "model_module": "@jupyter-widgets/base",
          "model_name": "LayoutModel",
          "model_module_version": "1.2.0",
          "state": {
            "_view_name": "LayoutView",
            "grid_template_rows": null,
            "right": null,
            "justify_content": null,
            "_view_module": "@jupyter-widgets/base",
            "overflow": null,
            "_model_module_version": "1.2.0",
            "_view_count": null,
            "flex_flow": null,
            "width": null,
            "min_width": null,
            "border": null,
            "align_items": null,
            "bottom": null,
            "_model_module": "@jupyter-widgets/base",
            "top": null,
            "grid_column": null,
            "overflow_y": null,
            "overflow_x": null,
            "grid_auto_flow": null,
            "grid_area": null,
            "grid_template_columns": null,
            "flex": null,
            "_model_name": "LayoutModel",
            "justify_items": null,
            "grid_row": null,
            "max_height": null,
            "align_content": null,
            "visibility": null,
            "align_self": null,
            "height": null,
            "min_height": null,
            "padding": null,
            "grid_auto_rows": null,
            "grid_gap": null,
            "max_width": null,
            "order": null,
            "_view_module_version": "1.2.0",
            "grid_template_areas": null,
            "object_position": null,
            "object_fit": null,
            "grid_auto_columns": null,
            "margin": null,
            "display": null,
            "left": null
          }
        },
        "3ece250946164ef6b3ac88d5a1439105": {
          "model_module": "@jupyter-widgets/controls",
          "model_name": "HBoxModel",
          "model_module_version": "1.5.0",
          "state": {
            "_view_name": "HBoxView",
            "_dom_classes": [],
            "_model_name": "HBoxModel",
            "_view_module": "@jupyter-widgets/controls",
            "_model_module_version": "1.5.0",
            "_view_count": null,
            "_view_module_version": "1.5.0",
            "box_style": "",
            "layout": "IPY_MODEL_d4de463cb26743dc9538d23e4aebcf2d",
            "_model_module": "@jupyter-widgets/controls",
            "children": [
              "IPY_MODEL_11dbaaca2c7448a7b8a61236a54f52d1",
              "IPY_MODEL_ae0755724d384379ace945ce241f123a",
              "IPY_MODEL_90571081e00f4f448a64d39140e9509d"
            ]
          }
        },
        "d4de463cb26743dc9538d23e4aebcf2d": {
          "model_module": "@jupyter-widgets/base",
          "model_name": "LayoutModel",
          "model_module_version": "1.2.0",
          "state": {
            "_view_name": "LayoutView",
            "grid_template_rows": null,
            "right": null,
            "justify_content": null,
            "_view_module": "@jupyter-widgets/base",
            "overflow": null,
            "_model_module_version": "1.2.0",
            "_view_count": null,
            "flex_flow": null,
            "width": null,
            "min_width": null,
            "border": null,
            "align_items": null,
            "bottom": null,
            "_model_module": "@jupyter-widgets/base",
            "top": null,
            "grid_column": null,
            "overflow_y": null,
            "overflow_x": null,
            "grid_auto_flow": null,
            "grid_area": null,
            "grid_template_columns": null,
            "flex": null,
            "_model_name": "LayoutModel",
            "justify_items": null,
            "grid_row": null,
            "max_height": null,
            "align_content": null,
            "visibility": null,
            "align_self": null,
            "height": null,
            "min_height": null,
            "padding": null,
            "grid_auto_rows": null,
            "grid_gap": null,
            "max_width": null,
            "order": null,
            "_view_module_version": "1.2.0",
            "grid_template_areas": null,
            "object_position": null,
            "object_fit": null,
            "grid_auto_columns": null,
            "margin": null,
            "display": null,
            "left": null
          }
        },
        "11dbaaca2c7448a7b8a61236a54f52d1": {
          "model_module": "@jupyter-widgets/controls",
          "model_name": "HTMLModel",
          "model_module_version": "1.5.0",
          "state": {
            "_view_name": "HTMLView",
            "style": "IPY_MODEL_fb16f8ad1b8f4b4fa343c2bec992797e",
            "_dom_classes": [],
            "description": "",
            "_model_name": "HTMLModel",
            "placeholder": "​",
            "_view_module": "@jupyter-widgets/controls",
            "_model_module_version": "1.5.0",
            "value": "Downloading: 100%",
            "_view_count": null,
            "_view_module_version": "1.5.0",
            "description_tooltip": null,
            "_model_module": "@jupyter-widgets/controls",
            "layout": "IPY_MODEL_bb3db0a357104b33952b4b93968e1586"
          }
        },
        "ae0755724d384379ace945ce241f123a": {
          "model_module": "@jupyter-widgets/controls",
          "model_name": "FloatProgressModel",
          "model_module_version": "1.5.0",
          "state": {
            "_view_name": "ProgressView",
            "style": "IPY_MODEL_d3b878a38c73444ab3424623373aff8a",
            "_dom_classes": [],
            "description": "",
            "_model_name": "FloatProgressModel",
            "bar_style": "success",
            "max": 891691430,
            "_view_module": "@jupyter-widgets/controls",
            "_model_module_version": "1.5.0",
            "value": 891691430,
            "_view_count": null,
            "_view_module_version": "1.5.0",
            "orientation": "horizontal",
            "min": 0,
            "description_tooltip": null,
            "_model_module": "@jupyter-widgets/controls",
            "layout": "IPY_MODEL_1fc44134f2c24f7bb8c817a028428549"
          }
        },
        "90571081e00f4f448a64d39140e9509d": {
          "model_module": "@jupyter-widgets/controls",
          "model_name": "HTMLModel",
          "model_module_version": "1.5.0",
          "state": {
            "_view_name": "HTMLView",
            "style": "IPY_MODEL_5efe267423af467882aee101076923ff",
            "_dom_classes": [],
            "description": "",
            "_model_name": "HTMLModel",
            "placeholder": "​",
            "_view_module": "@jupyter-widgets/controls",
            "_model_module_version": "1.5.0",
            "value": " 850M/850M [00:16&lt;00:00, 53.4MB/s]",
            "_view_count": null,
            "_view_module_version": "1.5.0",
            "description_tooltip": null,
            "_model_module": "@jupyter-widgets/controls",
            "layout": "IPY_MODEL_1314a174b26e438b9fa5b8a4cd2ae5da"
          }
        },
        "fb16f8ad1b8f4b4fa343c2bec992797e": {
          "model_module": "@jupyter-widgets/controls",
          "model_name": "DescriptionStyleModel",
          "model_module_version": "1.5.0",
          "state": {
            "_view_name": "StyleView",
            "_model_name": "DescriptionStyleModel",
            "description_width": "",
            "_view_module": "@jupyter-widgets/base",
            "_model_module_version": "1.5.0",
            "_view_count": null,
            "_view_module_version": "1.2.0",
            "_model_module": "@jupyter-widgets/controls"
          }
        },
        "bb3db0a357104b33952b4b93968e1586": {
          "model_module": "@jupyter-widgets/base",
          "model_name": "LayoutModel",
          "model_module_version": "1.2.0",
          "state": {
            "_view_name": "LayoutView",
            "grid_template_rows": null,
            "right": null,
            "justify_content": null,
            "_view_module": "@jupyter-widgets/base",
            "overflow": null,
            "_model_module_version": "1.2.0",
            "_view_count": null,
            "flex_flow": null,
            "width": null,
            "min_width": null,
            "border": null,
            "align_items": null,
            "bottom": null,
            "_model_module": "@jupyter-widgets/base",
            "top": null,
            "grid_column": null,
            "overflow_y": null,
            "overflow_x": null,
            "grid_auto_flow": null,
            "grid_area": null,
            "grid_template_columns": null,
            "flex": null,
            "_model_name": "LayoutModel",
            "justify_items": null,
            "grid_row": null,
            "max_height": null,
            "align_content": null,
            "visibility": null,
            "align_self": null,
            "height": null,
            "min_height": null,
            "padding": null,
            "grid_auto_rows": null,
            "grid_gap": null,
            "max_width": null,
            "order": null,
            "_view_module_version": "1.2.0",
            "grid_template_areas": null,
            "object_position": null,
            "object_fit": null,
            "grid_auto_columns": null,
            "margin": null,
            "display": null,
            "left": null
          }
        },
        "d3b878a38c73444ab3424623373aff8a": {
          "model_module": "@jupyter-widgets/controls",
          "model_name": "ProgressStyleModel",
          "model_module_version": "1.5.0",
          "state": {
            "_view_name": "StyleView",
            "_model_name": "ProgressStyleModel",
            "description_width": "",
            "_view_module": "@jupyter-widgets/base",
            "_model_module_version": "1.5.0",
            "_view_count": null,
            "_view_module_version": "1.2.0",
            "bar_color": null,
            "_model_module": "@jupyter-widgets/controls"
          }
        },
        "1fc44134f2c24f7bb8c817a028428549": {
          "model_module": "@jupyter-widgets/base",
          "model_name": "LayoutModel",
          "model_module_version": "1.2.0",
          "state": {
            "_view_name": "LayoutView",
            "grid_template_rows": null,
            "right": null,
            "justify_content": null,
            "_view_module": "@jupyter-widgets/base",
            "overflow": null,
            "_model_module_version": "1.2.0",
            "_view_count": null,
            "flex_flow": null,
            "width": null,
            "min_width": null,
            "border": null,
            "align_items": null,
            "bottom": null,
            "_model_module": "@jupyter-widgets/base",
            "top": null,
            "grid_column": null,
            "overflow_y": null,
            "overflow_x": null,
            "grid_auto_flow": null,
            "grid_area": null,
            "grid_template_columns": null,
            "flex": null,
            "_model_name": "LayoutModel",
            "justify_items": null,
            "grid_row": null,
            "max_height": null,
            "align_content": null,
            "visibility": null,
            "align_self": null,
            "height": null,
            "min_height": null,
            "padding": null,
            "grid_auto_rows": null,
            "grid_gap": null,
            "max_width": null,
            "order": null,
            "_view_module_version": "1.2.0",
            "grid_template_areas": null,
            "object_position": null,
            "object_fit": null,
            "grid_auto_columns": null,
            "margin": null,
            "display": null,
            "left": null
          }
        },
        "5efe267423af467882aee101076923ff": {
          "model_module": "@jupyter-widgets/controls",
          "model_name": "DescriptionStyleModel",
          "model_module_version": "1.5.0",
          "state": {
            "_view_name": "StyleView",
            "_model_name": "DescriptionStyleModel",
            "description_width": "",
            "_view_module": "@jupyter-widgets/base",
            "_model_module_version": "1.5.0",
            "_view_count": null,
            "_view_module_version": "1.2.0",
            "_model_module": "@jupyter-widgets/controls"
          }
        },
        "1314a174b26e438b9fa5b8a4cd2ae5da": {
          "model_module": "@jupyter-widgets/base",
          "model_name": "LayoutModel",
          "model_module_version": "1.2.0",
          "state": {
            "_view_name": "LayoutView",
            "grid_template_rows": null,
            "right": null,
            "justify_content": null,
            "_view_module": "@jupyter-widgets/base",
            "overflow": null,
            "_model_module_version": "1.2.0",
            "_view_count": null,
            "flex_flow": null,
            "width": null,
            "min_width": null,
            "border": null,
            "align_items": null,
            "bottom": null,
            "_model_module": "@jupyter-widgets/base",
            "top": null,
            "grid_column": null,
            "overflow_y": null,
            "overflow_x": null,
            "grid_auto_flow": null,
            "grid_area": null,
            "grid_template_columns": null,
            "flex": null,
            "_model_name": "LayoutModel",
            "justify_items": null,
            "grid_row": null,
            "max_height": null,
            "align_content": null,
            "visibility": null,
            "align_self": null,
            "height": null,
            "min_height": null,
            "padding": null,
            "grid_auto_rows": null,
            "grid_gap": null,
            "max_width": null,
            "order": null,
            "_view_module_version": "1.2.0",
            "grid_template_areas": null,
            "object_position": null,
            "object_fit": null,
            "grid_auto_columns": null,
            "margin": null,
            "display": null,
            "left": null
          }
        }
      }
    }
  },
  "cells": [
    {
      "cell_type": "markdown",
      "metadata": {
        "id": "view-in-github",
        "colab_type": "text"
      },
      "source": [
        "<a href=\"https://colab.research.google.com/github/skywalker00001/Conterfactual-Reasoning-Project/blob/main/huggingface_t5_3_0.ipynb\" target=\"_parent\"><img src=\"https://colab.research.google.com/assets/colab-badge.svg\" alt=\"Open In Colab\"/></a>"
      ]
    },
    {
      "cell_type": "markdown",
      "source": [
        "# Preparation"
      ],
      "metadata": {
        "id": "rCTEkdBKntFE"
      }
    },
    {
      "cell_type": "code",
      "execution_count": 2,
      "metadata": {
        "colab": {
          "base_uri": "https://localhost:8080/"
        },
        "id": "p6esmL2vmo0D",
        "outputId": "9c347e90-3a64-4d29-ec87-1dd25848228a"
      },
      "outputs": [
        {
          "output_type": "stream",
          "name": "stdout",
          "text": [
            "Mounted at /content/drive\n"
          ]
        }
      ],
      "source": [
        "from google.colab import drive\n",
        "drive.mount('/content/drive')\n",
        "root = 'drive/MyDrive/LM/'"
      ]
    },
    {
      "cell_type": "code",
      "source": [
        "!pip install sentencepiece\n",
        "!pip install transformers -q\n",
        "!pip install wandb -q"
      ],
      "metadata": {
        "colab": {
          "base_uri": "https://localhost:8080/"
        },
        "id": "X_UlorGdnHLt",
        "outputId": "77b10055-7f1d-4b87-cfe1-69799e79a6fa"
      },
      "execution_count": 3,
      "outputs": [
        {
          "output_type": "stream",
          "name": "stdout",
          "text": [
            "Collecting sentencepiece\n",
            "  Downloading sentencepiece-0.1.96-cp37-cp37m-manylinux_2_17_x86_64.manylinux2014_x86_64.whl (1.2 MB)\n",
            "\u001b[?25l\r\u001b[K     |▎                               | 10 kB 26.8 MB/s eta 0:00:01\r\u001b[K     |▌                               | 20 kB 26.1 MB/s eta 0:00:01\r\u001b[K     |▉                               | 30 kB 17.5 MB/s eta 0:00:01\r\u001b[K     |█                               | 40 kB 15.9 MB/s eta 0:00:01\r\u001b[K     |█▍                              | 51 kB 8.5 MB/s eta 0:00:01\r\u001b[K     |█▋                              | 61 kB 9.1 MB/s eta 0:00:01\r\u001b[K     |██                              | 71 kB 9.2 MB/s eta 0:00:01\r\u001b[K     |██▏                             | 81 kB 10.3 MB/s eta 0:00:01\r\u001b[K     |██▍                             | 92 kB 10.1 MB/s eta 0:00:01\r\u001b[K     |██▊                             | 102 kB 8.1 MB/s eta 0:00:01\r\u001b[K     |███                             | 112 kB 8.1 MB/s eta 0:00:01\r\u001b[K     |███▎                            | 122 kB 8.1 MB/s eta 0:00:01\r\u001b[K     |███▌                            | 133 kB 8.1 MB/s eta 0:00:01\r\u001b[K     |███▉                            | 143 kB 8.1 MB/s eta 0:00:01\r\u001b[K     |████                            | 153 kB 8.1 MB/s eta 0:00:01\r\u001b[K     |████▎                           | 163 kB 8.1 MB/s eta 0:00:01\r\u001b[K     |████▋                           | 174 kB 8.1 MB/s eta 0:00:01\r\u001b[K     |████▉                           | 184 kB 8.1 MB/s eta 0:00:01\r\u001b[K     |█████▏                          | 194 kB 8.1 MB/s eta 0:00:01\r\u001b[K     |█████▍                          | 204 kB 8.1 MB/s eta 0:00:01\r\u001b[K     |█████▊                          | 215 kB 8.1 MB/s eta 0:00:01\r\u001b[K     |██████                          | 225 kB 8.1 MB/s eta 0:00:01\r\u001b[K     |██████▏                         | 235 kB 8.1 MB/s eta 0:00:01\r\u001b[K     |██████▌                         | 245 kB 8.1 MB/s eta 0:00:01\r\u001b[K     |██████▊                         | 256 kB 8.1 MB/s eta 0:00:01\r\u001b[K     |███████                         | 266 kB 8.1 MB/s eta 0:00:01\r\u001b[K     |███████▎                        | 276 kB 8.1 MB/s eta 0:00:01\r\u001b[K     |███████▋                        | 286 kB 8.1 MB/s eta 0:00:01\r\u001b[K     |███████▉                        | 296 kB 8.1 MB/s eta 0:00:01\r\u001b[K     |████████                        | 307 kB 8.1 MB/s eta 0:00:01\r\u001b[K     |████████▍                       | 317 kB 8.1 MB/s eta 0:00:01\r\u001b[K     |████████▋                       | 327 kB 8.1 MB/s eta 0:00:01\r\u001b[K     |█████████                       | 337 kB 8.1 MB/s eta 0:00:01\r\u001b[K     |█████████▏                      | 348 kB 8.1 MB/s eta 0:00:01\r\u001b[K     |█████████▌                      | 358 kB 8.1 MB/s eta 0:00:01\r\u001b[K     |█████████▊                      | 368 kB 8.1 MB/s eta 0:00:01\r\u001b[K     |██████████                      | 378 kB 8.1 MB/s eta 0:00:01\r\u001b[K     |██████████▎                     | 389 kB 8.1 MB/s eta 0:00:01\r\u001b[K     |██████████▌                     | 399 kB 8.1 MB/s eta 0:00:01\r\u001b[K     |██████████▉                     | 409 kB 8.1 MB/s eta 0:00:01\r\u001b[K     |███████████                     | 419 kB 8.1 MB/s eta 0:00:01\r\u001b[K     |███████████▍                    | 430 kB 8.1 MB/s eta 0:00:01\r\u001b[K     |███████████▋                    | 440 kB 8.1 MB/s eta 0:00:01\r\u001b[K     |███████████▉                    | 450 kB 8.1 MB/s eta 0:00:01\r\u001b[K     |████████████▏                   | 460 kB 8.1 MB/s eta 0:00:01\r\u001b[K     |████████████▍                   | 471 kB 8.1 MB/s eta 0:00:01\r\u001b[K     |████████████▊                   | 481 kB 8.1 MB/s eta 0:00:01\r\u001b[K     |█████████████                   | 491 kB 8.1 MB/s eta 0:00:01\r\u001b[K     |█████████████▎                  | 501 kB 8.1 MB/s eta 0:00:01\r\u001b[K     |█████████████▌                  | 512 kB 8.1 MB/s eta 0:00:01\r\u001b[K     |█████████████▊                  | 522 kB 8.1 MB/s eta 0:00:01\r\u001b[K     |██████████████                  | 532 kB 8.1 MB/s eta 0:00:01\r\u001b[K     |██████████████▎                 | 542 kB 8.1 MB/s eta 0:00:01\r\u001b[K     |██████████████▋                 | 552 kB 8.1 MB/s eta 0:00:01\r\u001b[K     |██████████████▉                 | 563 kB 8.1 MB/s eta 0:00:01\r\u001b[K     |███████████████▏                | 573 kB 8.1 MB/s eta 0:00:01\r\u001b[K     |███████████████▍                | 583 kB 8.1 MB/s eta 0:00:01\r\u001b[K     |███████████████▋                | 593 kB 8.1 MB/s eta 0:00:01\r\u001b[K     |████████████████                | 604 kB 8.1 MB/s eta 0:00:01\r\u001b[K     |████████████████▏               | 614 kB 8.1 MB/s eta 0:00:01\r\u001b[K     |████████████████▌               | 624 kB 8.1 MB/s eta 0:00:01\r\u001b[K     |████████████████▊               | 634 kB 8.1 MB/s eta 0:00:01\r\u001b[K     |█████████████████               | 645 kB 8.1 MB/s eta 0:00:01\r\u001b[K     |█████████████████▎              | 655 kB 8.1 MB/s eta 0:00:01\r\u001b[K     |█████████████████▌              | 665 kB 8.1 MB/s eta 0:00:01\r\u001b[K     |█████████████████▉              | 675 kB 8.1 MB/s eta 0:00:01\r\u001b[K     |██████████████████              | 686 kB 8.1 MB/s eta 0:00:01\r\u001b[K     |██████████████████▍             | 696 kB 8.1 MB/s eta 0:00:01\r\u001b[K     |██████████████████▋             | 706 kB 8.1 MB/s eta 0:00:01\r\u001b[K     |███████████████████             | 716 kB 8.1 MB/s eta 0:00:01\r\u001b[K     |███████████████████▏            | 727 kB 8.1 MB/s eta 0:00:01\r\u001b[K     |███████████████████▍            | 737 kB 8.1 MB/s eta 0:00:01\r\u001b[K     |███████████████████▊            | 747 kB 8.1 MB/s eta 0:00:01\r\u001b[K     |████████████████████            | 757 kB 8.1 MB/s eta 0:00:01\r\u001b[K     |████████████████████▎           | 768 kB 8.1 MB/s eta 0:00:01\r\u001b[K     |████████████████████▌           | 778 kB 8.1 MB/s eta 0:00:01\r\u001b[K     |████████████████████▉           | 788 kB 8.1 MB/s eta 0:00:01\r\u001b[K     |█████████████████████           | 798 kB 8.1 MB/s eta 0:00:01\r\u001b[K     |█████████████████████▎          | 808 kB 8.1 MB/s eta 0:00:01\r\u001b[K     |█████████████████████▋          | 819 kB 8.1 MB/s eta 0:00:01\r\u001b[K     |█████████████████████▉          | 829 kB 8.1 MB/s eta 0:00:01\r\u001b[K     |██████████████████████▏         | 839 kB 8.1 MB/s eta 0:00:01\r\u001b[K     |██████████████████████▍         | 849 kB 8.1 MB/s eta 0:00:01\r\u001b[K     |██████████████████████▊         | 860 kB 8.1 MB/s eta 0:00:01\r\u001b[K     |███████████████████████         | 870 kB 8.1 MB/s eta 0:00:01\r\u001b[K     |███████████████████████▏        | 880 kB 8.1 MB/s eta 0:00:01\r\u001b[K     |███████████████████████▌        | 890 kB 8.1 MB/s eta 0:00:01\r\u001b[K     |███████████████████████▊        | 901 kB 8.1 MB/s eta 0:00:01\r\u001b[K     |████████████████████████        | 911 kB 8.1 MB/s eta 0:00:01\r\u001b[K     |████████████████████████▎       | 921 kB 8.1 MB/s eta 0:00:01\r\u001b[K     |████████████████████████▋       | 931 kB 8.1 MB/s eta 0:00:01\r\u001b[K     |████████████████████████▉       | 942 kB 8.1 MB/s eta 0:00:01\r\u001b[K     |█████████████████████████       | 952 kB 8.1 MB/s eta 0:00:01\r\u001b[K     |█████████████████████████▍      | 962 kB 8.1 MB/s eta 0:00:01\r\u001b[K     |█████████████████████████▋      | 972 kB 8.1 MB/s eta 0:00:01\r\u001b[K     |██████████████████████████      | 983 kB 8.1 MB/s eta 0:00:01\r\u001b[K     |██████████████████████████▏     | 993 kB 8.1 MB/s eta 0:00:01\r\u001b[K     |██████████████████████████▌     | 1.0 MB 8.1 MB/s eta 0:00:01\r\u001b[K     |██████████████████████████▊     | 1.0 MB 8.1 MB/s eta 0:00:01\r\u001b[K     |███████████████████████████     | 1.0 MB 8.1 MB/s eta 0:00:01\r\u001b[K     |███████████████████████████▎    | 1.0 MB 8.1 MB/s eta 0:00:01\r\u001b[K     |███████████████████████████▌    | 1.0 MB 8.1 MB/s eta 0:00:01\r\u001b[K     |███████████████████████████▉    | 1.1 MB 8.1 MB/s eta 0:00:01\r\u001b[K     |████████████████████████████    | 1.1 MB 8.1 MB/s eta 0:00:01\r\u001b[K     |████████████████████████████▍   | 1.1 MB 8.1 MB/s eta 0:00:01\r\u001b[K     |████████████████████████████▋   | 1.1 MB 8.1 MB/s eta 0:00:01\r\u001b[K     |████████████████████████████▉   | 1.1 MB 8.1 MB/s eta 0:00:01\r\u001b[K     |█████████████████████████████▏  | 1.1 MB 8.1 MB/s eta 0:00:01\r\u001b[K     |█████████████████████████████▍  | 1.1 MB 8.1 MB/s eta 0:00:01\r\u001b[K     |█████████████████████████████▊  | 1.1 MB 8.1 MB/s eta 0:00:01\r\u001b[K     |██████████████████████████████  | 1.1 MB 8.1 MB/s eta 0:00:01\r\u001b[K     |██████████████████████████████▎ | 1.1 MB 8.1 MB/s eta 0:00:01\r\u001b[K     |██████████████████████████████▌ | 1.2 MB 8.1 MB/s eta 0:00:01\r\u001b[K     |██████████████████████████████▊ | 1.2 MB 8.1 MB/s eta 0:00:01\r\u001b[K     |███████████████████████████████ | 1.2 MB 8.1 MB/s eta 0:00:01\r\u001b[K     |███████████████████████████████▎| 1.2 MB 8.1 MB/s eta 0:00:01\r\u001b[K     |███████████████████████████████▋| 1.2 MB 8.1 MB/s eta 0:00:01\r\u001b[K     |███████████████████████████████▉| 1.2 MB 8.1 MB/s eta 0:00:01\r\u001b[K     |████████████████████████████████| 1.2 MB 8.1 MB/s \n",
            "\u001b[?25hInstalling collected packages: sentencepiece\n",
            "Successfully installed sentencepiece-0.1.96\n",
            "\u001b[K     |████████████████████████████████| 3.5 MB 8.2 MB/s \n",
            "\u001b[K     |████████████████████████████████| 6.8 MB 47.3 MB/s \n",
            "\u001b[K     |████████████████████████████████| 67 kB 6.1 MB/s \n",
            "\u001b[K     |████████████████████████████████| 895 kB 53.9 MB/s \n",
            "\u001b[K     |████████████████████████████████| 596 kB 60.6 MB/s \n",
            "\u001b[K     |████████████████████████████████| 1.7 MB 8.6 MB/s \n",
            "\u001b[K     |████████████████████████████████| 143 kB 61.7 MB/s \n",
            "\u001b[K     |████████████████████████████████| 180 kB 74.4 MB/s \n",
            "\u001b[K     |████████████████████████████████| 63 kB 1.9 MB/s \n",
            "\u001b[?25h  Building wheel for pathtools (setup.py) ... \u001b[?25l\u001b[?25hdone\n"
          ]
        }
      ]
    },
    {
      "cell_type": "code",
      "source": [
        "# Importing stock libraries\n",
        "import numpy as np\n",
        "import pandas as pd\n",
        "import time\n",
        "from tqdm import tqdm\n",
        "import os\n",
        "import regex as re\n",
        "import torch\n",
        "from torch import cuda\n",
        "import torch.nn.functional as F\n",
        "from torch.utils.data import Dataset, DataLoader, RandomSampler, SequentialSampler\n",
        "\n",
        "# Importing the T5 modules from huggingface/transformers\n",
        "from transformers import T5Tokenizer, T5ForConditionalGeneration\n",
        "\n",
        "# WandB – Import the wandb library\n",
        "import wandb"
      ],
      "metadata": {
        "id": "lmAP7b3pnLSL"
      },
      "execution_count": 4,
      "outputs": []
    },
    {
      "cell_type": "code",
      "source": [
        "# Checking out the GPU we have access to. This is output is from the google colab version. \n",
        "!nvidia-smi"
      ],
      "metadata": {
        "colab": {
          "base_uri": "https://localhost:8080/"
        },
        "id": "xM9n_9U3nO4A",
        "outputId": "63dac0a7-a29b-4bb1-f966-d31018b19f5c"
      },
      "execution_count": 5,
      "outputs": [
        {
          "output_type": "stream",
          "name": "stdout",
          "text": [
            "Wed Feb  9 18:13:44 2022       \n",
            "+-----------------------------------------------------------------------------+\n",
            "| NVIDIA-SMI 460.32.03    Driver Version: 460.32.03    CUDA Version: 11.2     |\n",
            "|-------------------------------+----------------------+----------------------+\n",
            "| GPU  Name        Persistence-M| Bus-Id        Disp.A | Volatile Uncorr. ECC |\n",
            "| Fan  Temp  Perf  Pwr:Usage/Cap|         Memory-Usage | GPU-Util  Compute M. |\n",
            "|                               |                      |               MIG M. |\n",
            "|===============================+======================+======================|\n",
            "|   0  Tesla P100-PCIE...  Off  | 00000000:00:04.0 Off |                    0 |\n",
            "| N/A   33C    P0    26W / 250W |      2MiB / 16280MiB |      0%      Default |\n",
            "|                               |                      |                  N/A |\n",
            "+-------------------------------+----------------------+----------------------+\n",
            "                                                                               \n",
            "+-----------------------------------------------------------------------------+\n",
            "| Processes:                                                                  |\n",
            "|  GPU   GI   CI        PID   Type   Process name                  GPU Memory |\n",
            "|        ID   ID                                                   Usage      |\n",
            "|=============================================================================|\n",
            "|  No running processes found                                                 |\n",
            "+-----------------------------------------------------------------------------+\n"
          ]
        }
      ]
    },
    {
      "cell_type": "code",
      "source": [
        "# # Setting up the device for GPU usage\n",
        "\n",
        "device = 'cuda' if cuda.is_available() else 'cpu'\n",
        "print(\"Device is: \", device)\n",
        "\n",
        "# Set random seeds and deterministic pytorch for reproducibility\n",
        "SEED = 42\n",
        "torch.manual_seed(SEED) # pytorch random seed\n",
        "np.random.seed(SEED) # numpy random seed\n",
        "torch.backends.cudnn.deterministic = True"
      ],
      "metadata": {
        "colab": {
          "base_uri": "https://localhost:8080/"
        },
        "id": "TWzXE0OAnQ_5",
        "outputId": "99a59bb1-d216-4224-beb2-881561d5aa76"
      },
      "execution_count": 6,
      "outputs": [
        {
          "output_type": "stream",
          "name": "stdout",
          "text": [
            "Device is:  cuda\n"
          ]
        }
      ]
    },
    {
      "cell_type": "code",
      "source": [
        "# Login to wandb to log the model run and all the parameters\n",
        "# 7229adacb32965027d73056a6927efd0365a00bc\n",
        "!wandb login"
      ],
      "metadata": {
        "colab": {
          "base_uri": "https://localhost:8080/"
        },
        "id": "uAWMdyDonWV2",
        "outputId": "d4f4df6a-07f7-4d45-cbeb-d3da953aecdd"
      },
      "execution_count": 7,
      "outputs": [
        {
          "output_type": "stream",
          "name": "stdout",
          "text": [
            "\u001b[34m\u001b[1mwandb\u001b[0m: You can find your API key in your browser here: https://wandb.ai/authorize\n",
            "\u001b[34m\u001b[1mwandb\u001b[0m: Paste an API key from your profile and hit enter, or press ctrl+c to quit: \n",
            "\u001b[34m\u001b[1mwandb\u001b[0m: Appending key for api.wandb.ai to your netrc file: /root/.netrc\n"
          ]
        }
      ]
    },
    {
      "cell_type": "code",
      "source": [
        "# WandB – Initialize a new run\n",
        "wandb.init(project=\"counterfactual\")\n",
        "\n",
        "# WandB – Config is a variable that holds and saves hyperparameters and inputs\n",
        "# Defining some key variables that will be used later on in the training  \n",
        "config = wandb.config          # Initialize config\n",
        "config.TRAIN_BATCH_SIZE = 16    # input batch size for training (default: 64)\n",
        "config.VALID_BATCH_SIZE = 32    # input batch size for testing (default: 1000)\n",
        "config.TRAIN_EPOCHS = 2        # number of epochs to train (default: 10)\n",
        "config.VAL_EPOCHS = 1 \n",
        "config.LEARNING_RATE = 1e-4    # learning rate (default: 0.01)\n",
        "config.SEED = 42               # random seed (default: 42)\n",
        "config.SOURCE_LEN = 128\n",
        "config.TARGET_LEN = 128"
      ],
      "metadata": {
        "colab": {
          "base_uri": "https://localhost:8080/",
          "height": 53
        },
        "id": "AzFrt4dtF0dU",
        "outputId": "3690ae33-a781-4fd5-c69e-8119bf9c5069"
      },
      "execution_count": 51,
      "outputs": [
        {
          "output_type": "stream",
          "name": "stderr",
          "text": [
            "\u001b[34m\u001b[1mwandb\u001b[0m: Currently logged in as: \u001b[33mskywalk3r\u001b[0m (use `wandb login --relogin` to force relogin)\n"
          ]
        },
        {
          "output_type": "display_data",
          "data": {
            "text/html": [
              "\n",
              "                    Syncing run <strong><a href=\"https://wandb.ai/skywalk3r/counterfactual/runs/11yh5v3c\" target=\"_blank\">firm-totem-1</a></strong> to <a href=\"https://wandb.ai/skywalk3r/counterfactual\" target=\"_blank\">Weights & Biases</a> (<a href=\"https://docs.wandb.com/integrations/jupyter.html\" target=\"_blank\">docs</a>).<br/>\n",
              "\n",
              "                "
            ],
            "text/plain": [
              "<IPython.core.display.HTML object>"
            ]
          },
          "metadata": {}
        }
      ]
    },
    {
      "cell_type": "code",
      "source": [
        "# Global Parameter\n",
        "model_version = \"3.0\""
      ],
      "metadata": {
        "id": "BT7-Gh3yoAyQ"
      },
      "execution_count": 8,
      "outputs": []
    },
    {
      "cell_type": "code",
      "source": [
        "PRETRAINED_MODEL_NAME = \"t5-base\"\n",
        "# tokenzier for encoding the text\n",
        "tokenizer = T5Tokenizer.from_pretrained(PRETRAINED_MODEL_NAME)\n",
        "# Defining the model. We are using t5-base model and added a Language model layer on top for generation of Summary. \n",
        "# Further this model is sent to device (GPU/TPU) for using the hardware.\n",
        "model = T5ForConditionalGeneration.from_pretrained(PRETRAINED_MODEL_NAME)\n",
        "model = model.to(device)"
      ],
      "metadata": {
        "colab": {
          "base_uri": "https://localhost:8080/",
          "height": 144,
          "referenced_widgets": [
            "00d75fe550c4400b9096f34cf8ccbe95",
            "698cadea6262483ab0e8dfbede110d14",
            "813d539bd90647d7a82d82c3ef8a77e8",
            "efe606ee91d9446c81c54561e54cf37a",
            "f96513b75b7d4cd3bd7340b095d39b5d",
            "56c88ce491e346acbef684d1d4ccd820",
            "b3f38bd6ce6a463c9b4f30de244721f5",
            "678ceaacc91f44a182c1d82a58517353",
            "3cc883e2e07644db90595d0409f24580",
            "696a4f724be64a74b913c87198f0643b",
            "c1e4aff6d373474aba632d011b1e9c64",
            "b3e3b44e8ac347379c90f149bf9c29af",
            "914406f031cc455a8db6debfcac6b2f7",
            "a8dec392dc9e4a57bfa2f0612ffe4bfb",
            "25994bc21bea46749263b78860a4176e",
            "ab8cf8e914c1457bbe96006461727613",
            "3671591033eb4789b72e3d7f179db449",
            "6425abaccad2415b94c9d9d5fd33a128",
            "07e9170697a34c37a577799147476aaa",
            "ac5e2cf99b134b4eb4485d3cbc769c5a",
            "ad027c0298fe43f393723214e10fb455",
            "e91d0c4a2202406d8bad10831bbe7613",
            "bbfb30535a6e42fe8921085ea8b09570",
            "6554b6898a8541faa83c133d6721becf",
            "5b7ebd3b3c2a43b686c03b16f0954d48",
            "501cb374f1b845648c5c93333835f938",
            "a0256a882b0b4896a17e30a924531d8a",
            "3927e006154545b88150d61e2e5af5d6",
            "3aeb8b66db7449049dca41e0de872214",
            "dbdd9fe288214478a8cc638b085f1650",
            "9dd6d1a19f164e4f9187048466d3b766",
            "ee94b4550baa48c9b57d9a322a150894",
            "7b0b4cc332814ba4a42bb33373cbc2bd",
            "3ece250946164ef6b3ac88d5a1439105",
            "d4de463cb26743dc9538d23e4aebcf2d",
            "11dbaaca2c7448a7b8a61236a54f52d1",
            "ae0755724d384379ace945ce241f123a",
            "90571081e00f4f448a64d39140e9509d",
            "fb16f8ad1b8f4b4fa343c2bec992797e",
            "bb3db0a357104b33952b4b93968e1586",
            "d3b878a38c73444ab3424623373aff8a",
            "1fc44134f2c24f7bb8c817a028428549",
            "5efe267423af467882aee101076923ff",
            "1314a174b26e438b9fa5b8a4cd2ae5da"
          ]
        },
        "id": "j8dgmI7zq0g1",
        "outputId": "d780b099-c452-4c26-e77e-5f48992d5d57"
      },
      "execution_count": 9,
      "outputs": [
        {
          "output_type": "display_data",
          "data": {
            "application/vnd.jupyter.widget-view+json": {
              "model_id": "00d75fe550c4400b9096f34cf8ccbe95",
              "version_minor": 0,
              "version_major": 2
            },
            "text/plain": [
              "Downloading:   0%|          | 0.00/773k [00:00<?, ?B/s]"
            ]
          },
          "metadata": {}
        },
        {
          "output_type": "display_data",
          "data": {
            "application/vnd.jupyter.widget-view+json": {
              "model_id": "b3e3b44e8ac347379c90f149bf9c29af",
              "version_minor": 0,
              "version_major": 2
            },
            "text/plain": [
              "Downloading:   0%|          | 0.00/1.32M [00:00<?, ?B/s]"
            ]
          },
          "metadata": {}
        },
        {
          "output_type": "display_data",
          "data": {
            "application/vnd.jupyter.widget-view+json": {
              "model_id": "bbfb30535a6e42fe8921085ea8b09570",
              "version_minor": 0,
              "version_major": 2
            },
            "text/plain": [
              "Downloading:   0%|          | 0.00/1.17k [00:00<?, ?B/s]"
            ]
          },
          "metadata": {}
        },
        {
          "output_type": "display_data",
          "data": {
            "application/vnd.jupyter.widget-view+json": {
              "model_id": "3ece250946164ef6b3ac88d5a1439105",
              "version_minor": 0,
              "version_major": 2
            },
            "text/plain": [
              "Downloading:   0%|          | 0.00/850M [00:00<?, ?B/s]"
            ]
          },
          "metadata": {}
        }
      ]
    },
    {
      "cell_type": "code",
      "source": [
        "# Defining the optimizer that will be used to tune the weights of the network in the training session. \n",
        "optimizer = torch.optim.Adam(params =  model.parameters(), lr=config.LEARNING_RATE)"
      ],
      "metadata": {
        "id": "Zw6FQ04JJV9h"
      },
      "execution_count": null,
      "outputs": []
    },
    {
      "cell_type": "markdown",
      "source": [
        "# Load dataframe"
      ],
      "metadata": {
        "id": "4Mif3CnjnxYU"
      }
    },
    {
      "cell_type": "code",
      "source": [
        "#training df\n",
        "small_path = root + '/TimeTravel/train_supervised_small.json'\n",
        "small_df = pd.read_json(small_path, lines=True)\n",
        "small_df.head()"
      ],
      "metadata": {
        "colab": {
          "base_uri": "https://localhost:8080/",
          "height": 336
        },
        "id": "NvJsz50coGDT",
        "outputId": "64d8b648-26c6-499f-9b95-c11c88b4aa21"
      },
      "execution_count": 10,
      "outputs": [
        {
          "output_type": "execute_result",
          "data": {
            "text/html": [
              "\n",
              "  <div id=\"df-960f9850-d467-4021-abf9-c1c6a43bdedb\">\n",
              "    <div class=\"colab-df-container\">\n",
              "      <div>\n",
              "<style scoped>\n",
              "    .dataframe tbody tr th:only-of-type {\n",
              "        vertical-align: middle;\n",
              "    }\n",
              "\n",
              "    .dataframe tbody tr th {\n",
              "        vertical-align: top;\n",
              "    }\n",
              "\n",
              "    .dataframe thead th {\n",
              "        text-align: right;\n",
              "    }\n",
              "</style>\n",
              "<table border=\"1\" class=\"dataframe\">\n",
              "  <thead>\n",
              "    <tr style=\"text-align: right;\">\n",
              "      <th></th>\n",
              "      <th>story_id</th>\n",
              "      <th>premise</th>\n",
              "      <th>initial</th>\n",
              "      <th>counterfactual</th>\n",
              "      <th>original_ending</th>\n",
              "      <th>edited_ending</th>\n",
              "    </tr>\n",
              "  </thead>\n",
              "  <tbody>\n",
              "    <tr>\n",
              "      <th>0</th>\n",
              "      <td>080198fc-d0e7-42b3-8e63-b2144e59d816</td>\n",
              "      <td>On my way to work I stopped to get some coffee.</td>\n",
              "      <td>I went through the drive through and placed my...</td>\n",
              "      <td>I went inside to place my order.</td>\n",
              "      <td>I paid the cashier and patiently waited for my...</td>\n",
              "      <td>[I paid the cashier and patiently waited at th...</td>\n",
              "    </tr>\n",
              "    <tr>\n",
              "      <th>1</th>\n",
              "      <td>1ba02a18-8807-4f39-9271-ef555597ce21</td>\n",
              "      <td>Terry aspired to be a chef.</td>\n",
              "      <td>His father is one.</td>\n",
              "      <td>He moved to Italy and opened a restaurant.</td>\n",
              "      <td>He decided he would continue the business. He ...</td>\n",
              "      <td>[He decided he would continue the business., H...</td>\n",
              "    </tr>\n",
              "    <tr>\n",
              "      <th>2</th>\n",
              "      <td>dbb0ad3e-9389-44ee-8290-7c3458e3fa0f</td>\n",
              "      <td>Kim and her glass went on a field trip to an a...</td>\n",
              "      <td>Everyone enjoyed looking at the sea creatures.</td>\n",
              "      <td>Everyone did not enjoy looking at the sea  cre...</td>\n",
              "      <td>But when they went to the shark exhibit, Kim w...</td>\n",
              "      <td>[Instead of going home they went to the shark ...</td>\n",
              "    </tr>\n",
              "    <tr>\n",
              "      <th>3</th>\n",
              "      <td>e5955040-5b87-4acb-a8c7-7e81d0ffb9f5</td>\n",
              "      <td>Susie was sitting on her barstool.</td>\n",
              "      <td>She kept kicking the counter with her feet.</td>\n",
              "      <td>She kept herself steady with her feet.</td>\n",
              "      <td>Suddenly, her kick sent her falling backwards....</td>\n",
              "      <td>[Suddenly, an earthquake sent her falling back...</td>\n",
              "    </tr>\n",
              "    <tr>\n",
              "      <th>4</th>\n",
              "      <td>dc234072-2e69-4999-9e2f-632d3ea30b78</td>\n",
              "      <td>Celeste rode her motorcycle across the woods.</td>\n",
              "      <td>When she almost arrived at the intersection, a...</td>\n",
              "      <td>When she almost arrived at the intersection, a...</td>\n",
              "      <td>She didn't have enough time to brake and drove...</td>\n",
              "      <td>[She didn't have enough time to brake and drov...</td>\n",
              "    </tr>\n",
              "  </tbody>\n",
              "</table>\n",
              "</div>\n",
              "      <button class=\"colab-df-convert\" onclick=\"convertToInteractive('df-960f9850-d467-4021-abf9-c1c6a43bdedb')\"\n",
              "              title=\"Convert this dataframe to an interactive table.\"\n",
              "              style=\"display:none;\">\n",
              "        \n",
              "  <svg xmlns=\"http://www.w3.org/2000/svg\" height=\"24px\"viewBox=\"0 0 24 24\"\n",
              "       width=\"24px\">\n",
              "    <path d=\"M0 0h24v24H0V0z\" fill=\"none\"/>\n",
              "    <path d=\"M18.56 5.44l.94 2.06.94-2.06 2.06-.94-2.06-.94-.94-2.06-.94 2.06-2.06.94zm-11 1L8.5 8.5l.94-2.06 2.06-.94-2.06-.94L8.5 2.5l-.94 2.06-2.06.94zm10 10l.94 2.06.94-2.06 2.06-.94-2.06-.94-.94-2.06-.94 2.06-2.06.94z\"/><path d=\"M17.41 7.96l-1.37-1.37c-.4-.4-.92-.59-1.43-.59-.52 0-1.04.2-1.43.59L10.3 9.45l-7.72 7.72c-.78.78-.78 2.05 0 2.83L4 21.41c.39.39.9.59 1.41.59.51 0 1.02-.2 1.41-.59l7.78-7.78 2.81-2.81c.8-.78.8-2.07 0-2.86zM5.41 20L4 18.59l7.72-7.72 1.47 1.35L5.41 20z\"/>\n",
              "  </svg>\n",
              "      </button>\n",
              "      \n",
              "  <style>\n",
              "    .colab-df-container {\n",
              "      display:flex;\n",
              "      flex-wrap:wrap;\n",
              "      gap: 12px;\n",
              "    }\n",
              "\n",
              "    .colab-df-convert {\n",
              "      background-color: #E8F0FE;\n",
              "      border: none;\n",
              "      border-radius: 50%;\n",
              "      cursor: pointer;\n",
              "      display: none;\n",
              "      fill: #1967D2;\n",
              "      height: 32px;\n",
              "      padding: 0 0 0 0;\n",
              "      width: 32px;\n",
              "    }\n",
              "\n",
              "    .colab-df-convert:hover {\n",
              "      background-color: #E2EBFA;\n",
              "      box-shadow: 0px 1px 2px rgba(60, 64, 67, 0.3), 0px 1px 3px 1px rgba(60, 64, 67, 0.15);\n",
              "      fill: #174EA6;\n",
              "    }\n",
              "\n",
              "    [theme=dark] .colab-df-convert {\n",
              "      background-color: #3B4455;\n",
              "      fill: #D2E3FC;\n",
              "    }\n",
              "\n",
              "    [theme=dark] .colab-df-convert:hover {\n",
              "      background-color: #434B5C;\n",
              "      box-shadow: 0px 1px 3px 1px rgba(0, 0, 0, 0.15);\n",
              "      filter: drop-shadow(0px 1px 2px rgba(0, 0, 0, 0.3));\n",
              "      fill: #FFFFFF;\n",
              "    }\n",
              "  </style>\n",
              "\n",
              "      <script>\n",
              "        const buttonEl =\n",
              "          document.querySelector('#df-960f9850-d467-4021-abf9-c1c6a43bdedb button.colab-df-convert');\n",
              "        buttonEl.style.display =\n",
              "          google.colab.kernel.accessAllowed ? 'block' : 'none';\n",
              "\n",
              "        async function convertToInteractive(key) {\n",
              "          const element = document.querySelector('#df-960f9850-d467-4021-abf9-c1c6a43bdedb');\n",
              "          const dataTable =\n",
              "            await google.colab.kernel.invokeFunction('convertToInteractive',\n",
              "                                                     [key], {});\n",
              "          if (!dataTable) return;\n",
              "\n",
              "          const docLinkHtml = 'Like what you see? Visit the ' +\n",
              "            '<a target=\"_blank\" href=https://colab.research.google.com/notebooks/data_table.ipynb>data table notebook</a>'\n",
              "            + ' to learn more about interactive tables.';\n",
              "          element.innerHTML = '';\n",
              "          dataTable['output_type'] = 'display_data';\n",
              "          await google.colab.output.renderOutput(dataTable, element);\n",
              "          const docLink = document.createElement('div');\n",
              "          docLink.innerHTML = docLinkHtml;\n",
              "          element.appendChild(docLink);\n",
              "        }\n",
              "      </script>\n",
              "    </div>\n",
              "  </div>\n",
              "  "
            ],
            "text/plain": [
              "                               story_id  ...                                      edited_ending\n",
              "0  080198fc-d0e7-42b3-8e63-b2144e59d816  ...  [I paid the cashier and patiently waited at th...\n",
              "1  1ba02a18-8807-4f39-9271-ef555597ce21  ...  [He decided he would continue the business., H...\n",
              "2  dbb0ad3e-9389-44ee-8290-7c3458e3fa0f  ...  [Instead of going home they went to the shark ...\n",
              "3  e5955040-5b87-4acb-a8c7-7e81d0ffb9f5  ...  [Suddenly, an earthquake sent her falling back...\n",
              "4  dc234072-2e69-4999-9e2f-632d3ea30b78  ...  [She didn't have enough time to brake and drov...\n",
              "\n",
              "[5 rows x 6 columns]"
            ]
          },
          "metadata": {},
          "execution_count": 10
        }
      ]
    },
    {
      "cell_type": "code",
      "source": [
        "print(small_df.loc[:,\"edited_ending\"][0])"
      ],
      "metadata": {
        "colab": {
          "base_uri": "https://localhost:8080/"
        },
        "id": "GQCTsHIeoUTA",
        "outputId": "c81a581b-cef4-4a59-b93d-f38980268d2a"
      },
      "execution_count": 11,
      "outputs": [
        {
          "output_type": "stream",
          "name": "stdout",
          "text": [
            "['I paid the cashier and patiently waited at the counter for my drink.', 'When she handed me the drink, the lid came off and spilled on me.', 'The coffee hurt and I had to go home and change clothes.']\n"
          ]
        }
      ]
    },
    {
      "cell_type": "code",
      "source": [
        "# text_a: source, text_b: target\n",
        "text_a, text_b = [], []\n",
        "\n",
        "for i in range(len(small_df)):\n",
        "  text_a.append(\"premise: \" + small_df.loc[i, 'premise'] + \" initial: \" + \\\n",
        "                small_df.loc[i, 'initial'] + \" counterfactual: \" + small_df.loc[i, 'counterfactual'] + \\\n",
        "                \" original_ending: \" + small_df.loc[i, 'original_ending'])\n",
        "  #text_a.append(re.sub(re_pat, df.loc[i, 'edit1'], df.loc[i, 'original1']))\n",
        "  text_b.append(\"edited_ending: \" + small_df.loc[i, 'edited_ending'][0] +\" \"+ small_df.loc[i, 'edited_ending'][1] +\" \"+ \\\n",
        "                small_df.loc[i, 'edited_ending'][2])"
      ],
      "metadata": {
        "id": "urlc0P-qoxiY"
      },
      "execution_count": 12,
      "outputs": []
    },
    {
      "cell_type": "code",
      "source": [
        "train_df = pd.DataFrame({'source_text': text_a, 'target_text': text_b}) \n",
        "train_df.head()"
      ],
      "metadata": {
        "colab": {
          "base_uri": "https://localhost:8080/",
          "height": 206
        },
        "id": "TRsmraaNo2Xv",
        "outputId": "c854d1ef-0e6f-42b7-862e-54aa6b718ba8"
      },
      "execution_count": 13,
      "outputs": [
        {
          "output_type": "execute_result",
          "data": {
            "text/html": [
              "\n",
              "  <div id=\"df-1598385f-1438-481b-be27-a2701041dae0\">\n",
              "    <div class=\"colab-df-container\">\n",
              "      <div>\n",
              "<style scoped>\n",
              "    .dataframe tbody tr th:only-of-type {\n",
              "        vertical-align: middle;\n",
              "    }\n",
              "\n",
              "    .dataframe tbody tr th {\n",
              "        vertical-align: top;\n",
              "    }\n",
              "\n",
              "    .dataframe thead th {\n",
              "        text-align: right;\n",
              "    }\n",
              "</style>\n",
              "<table border=\"1\" class=\"dataframe\">\n",
              "  <thead>\n",
              "    <tr style=\"text-align: right;\">\n",
              "      <th></th>\n",
              "      <th>source_text</th>\n",
              "      <th>target_text</th>\n",
              "    </tr>\n",
              "  </thead>\n",
              "  <tbody>\n",
              "    <tr>\n",
              "      <th>0</th>\n",
              "      <td>premise: On my way to work I stopped to get so...</td>\n",
              "      <td>edited_ending: I paid the cashier and patientl...</td>\n",
              "    </tr>\n",
              "    <tr>\n",
              "      <th>1</th>\n",
              "      <td>premise: Terry aspired to be a chef. initial: ...</td>\n",
              "      <td>edited_ending: He decided he would continue th...</td>\n",
              "    </tr>\n",
              "    <tr>\n",
              "      <th>2</th>\n",
              "      <td>premise: Kim and her glass went on a field tri...</td>\n",
              "      <td>edited_ending: Instead of going home they went...</td>\n",
              "    </tr>\n",
              "    <tr>\n",
              "      <th>3</th>\n",
              "      <td>premise: Susie was sitting on her barstool. in...</td>\n",
              "      <td>edited_ending: Suddenly, an earthquake sent he...</td>\n",
              "    </tr>\n",
              "    <tr>\n",
              "      <th>4</th>\n",
              "      <td>premise: Celeste rode her motorcycle across th...</td>\n",
              "      <td>edited_ending: She didn't have enough time to ...</td>\n",
              "    </tr>\n",
              "  </tbody>\n",
              "</table>\n",
              "</div>\n",
              "      <button class=\"colab-df-convert\" onclick=\"convertToInteractive('df-1598385f-1438-481b-be27-a2701041dae0')\"\n",
              "              title=\"Convert this dataframe to an interactive table.\"\n",
              "              style=\"display:none;\">\n",
              "        \n",
              "  <svg xmlns=\"http://www.w3.org/2000/svg\" height=\"24px\"viewBox=\"0 0 24 24\"\n",
              "       width=\"24px\">\n",
              "    <path d=\"M0 0h24v24H0V0z\" fill=\"none\"/>\n",
              "    <path d=\"M18.56 5.44l.94 2.06.94-2.06 2.06-.94-2.06-.94-.94-2.06-.94 2.06-2.06.94zm-11 1L8.5 8.5l.94-2.06 2.06-.94-2.06-.94L8.5 2.5l-.94 2.06-2.06.94zm10 10l.94 2.06.94-2.06 2.06-.94-2.06-.94-.94-2.06-.94 2.06-2.06.94z\"/><path d=\"M17.41 7.96l-1.37-1.37c-.4-.4-.92-.59-1.43-.59-.52 0-1.04.2-1.43.59L10.3 9.45l-7.72 7.72c-.78.78-.78 2.05 0 2.83L4 21.41c.39.39.9.59 1.41.59.51 0 1.02-.2 1.41-.59l7.78-7.78 2.81-2.81c.8-.78.8-2.07 0-2.86zM5.41 20L4 18.59l7.72-7.72 1.47 1.35L5.41 20z\"/>\n",
              "  </svg>\n",
              "      </button>\n",
              "      \n",
              "  <style>\n",
              "    .colab-df-container {\n",
              "      display:flex;\n",
              "      flex-wrap:wrap;\n",
              "      gap: 12px;\n",
              "    }\n",
              "\n",
              "    .colab-df-convert {\n",
              "      background-color: #E8F0FE;\n",
              "      border: none;\n",
              "      border-radius: 50%;\n",
              "      cursor: pointer;\n",
              "      display: none;\n",
              "      fill: #1967D2;\n",
              "      height: 32px;\n",
              "      padding: 0 0 0 0;\n",
              "      width: 32px;\n",
              "    }\n",
              "\n",
              "    .colab-df-convert:hover {\n",
              "      background-color: #E2EBFA;\n",
              "      box-shadow: 0px 1px 2px rgba(60, 64, 67, 0.3), 0px 1px 3px 1px rgba(60, 64, 67, 0.15);\n",
              "      fill: #174EA6;\n",
              "    }\n",
              "\n",
              "    [theme=dark] .colab-df-convert {\n",
              "      background-color: #3B4455;\n",
              "      fill: #D2E3FC;\n",
              "    }\n",
              "\n",
              "    [theme=dark] .colab-df-convert:hover {\n",
              "      background-color: #434B5C;\n",
              "      box-shadow: 0px 1px 3px 1px rgba(0, 0, 0, 0.15);\n",
              "      filter: drop-shadow(0px 1px 2px rgba(0, 0, 0, 0.3));\n",
              "      fill: #FFFFFF;\n",
              "    }\n",
              "  </style>\n",
              "\n",
              "      <script>\n",
              "        const buttonEl =\n",
              "          document.querySelector('#df-1598385f-1438-481b-be27-a2701041dae0 button.colab-df-convert');\n",
              "        buttonEl.style.display =\n",
              "          google.colab.kernel.accessAllowed ? 'block' : 'none';\n",
              "\n",
              "        async function convertToInteractive(key) {\n",
              "          const element = document.querySelector('#df-1598385f-1438-481b-be27-a2701041dae0');\n",
              "          const dataTable =\n",
              "            await google.colab.kernel.invokeFunction('convertToInteractive',\n",
              "                                                     [key], {});\n",
              "          if (!dataTable) return;\n",
              "\n",
              "          const docLinkHtml = 'Like what you see? Visit the ' +\n",
              "            '<a target=\"_blank\" href=https://colab.research.google.com/notebooks/data_table.ipynb>data table notebook</a>'\n",
              "            + ' to learn more about interactive tables.';\n",
              "          element.innerHTML = '';\n",
              "          dataTable['output_type'] = 'display_data';\n",
              "          await google.colab.output.renderOutput(dataTable, element);\n",
              "          const docLink = document.createElement('div');\n",
              "          docLink.innerHTML = docLinkHtml;\n",
              "          element.appendChild(docLink);\n",
              "        }\n",
              "      </script>\n",
              "    </div>\n",
              "  </div>\n",
              "  "
            ],
            "text/plain": [
              "                                         source_text                                        target_text\n",
              "0  premise: On my way to work I stopped to get so...  edited_ending: I paid the cashier and patientl...\n",
              "1  premise: Terry aspired to be a chef. initial: ...  edited_ending: He decided he would continue th...\n",
              "2  premise: Kim and her glass went on a field tri...  edited_ending: Instead of going home they went...\n",
              "3  premise: Susie was sitting on her barstool. in...  edited_ending: Suddenly, an earthquake sent he...\n",
              "4  premise: Celeste rode her motorcycle across th...  edited_ending: She didn't have enough time to ..."
            ]
          },
          "metadata": {},
          "execution_count": 13
        }
      ]
    },
    {
      "cell_type": "code",
      "source": [
        "print(train_df.loc[0, \"source_text\"])\n",
        "print(\"-------------\")\n",
        "print(train_df.loc[0, \"target_text\"])"
      ],
      "metadata": {
        "colab": {
          "base_uri": "https://localhost:8080/"
        },
        "id": "J_cKnvV9o8h7",
        "outputId": "30176ab9-69ec-4c80-c75e-ec125e12ce8e"
      },
      "execution_count": 14,
      "outputs": [
        {
          "output_type": "stream",
          "name": "stdout",
          "text": [
            "premise: On my way to work I stopped to get some coffee. initial: I went through the drive through and placed my order. counterfactual: I went inside to place my order. original_ending: I paid the cashier and patiently waited for my drink. When she handed me the drink, the lid came off and spilled on me. The coffee hurt and I had to go home and change clothes.\n",
            "-------------\n",
            "edited_ending: I paid the cashier and patiently waited at the counter for my drink. When she handed me the drink, the lid came off and spilled on me. The coffee hurt and I had to go home and change clothes.\n"
          ]
        }
      ]
    },
    {
      "cell_type": "code",
      "source": [
        "print(train_df.shape)"
      ],
      "metadata": {
        "colab": {
          "base_uri": "https://localhost:8080/"
        },
        "id": "TQ0SwwaGpEP5",
        "outputId": "3f9e9096-fa60-4d8e-fca4-7552228c354c"
      },
      "execution_count": 15,
      "outputs": [
        {
          "output_type": "stream",
          "name": "stdout",
          "text": [
            "(16752, 2)\n"
          ]
        }
      ]
    },
    {
      "cell_type": "code",
      "source": [
        "# valid df\n",
        "large_path = root + '/TimeTravel/train_supervised_large.json'\n",
        "df_large = pd.read_json(large_path, lines=True)\n",
        "print(len(df_large))"
      ],
      "metadata": {
        "id": "v0murVdNnzVF"
      },
      "execution_count": null,
      "outputs": []
    },
    {
      "cell_type": "code",
      "source": [
        "small_ids = []\n",
        "for i in range(len(small_df)):\n",
        "    small_ids.append(small_df.loc[i, 'story_id'])\n",
        "\n",
        "print(len(small_ids))"
      ],
      "metadata": {
        "id": "HZzkV6-YGyLw"
      },
      "execution_count": null,
      "outputs": []
    },
    {
      "cell_type": "code",
      "source": [
        "df_large = df_large[~df_large.story_id.isin(small_ids)]\n",
        "df_large = df_large.reset_index()   # must reset index after delete rows\n",
        "print(len(df_large))"
      ],
      "metadata": {
        "id": "fLBc3iPkG6hI"
      },
      "execution_count": null,
      "outputs": []
    },
    {
      "cell_type": "code",
      "source": [
        "# select data not in training set\n",
        "part_df_large = df_large[0:1000]\n",
        "df_large = df_large.reset_index()\n",
        "print(len(part_df_large))"
      ],
      "metadata": {
        "id": "5hWewdbDG9oc"
      },
      "execution_count": null,
      "outputs": []
    },
    {
      "cell_type": "code",
      "source": [
        "text, gt = [],[] # gt for ground truth\n",
        "\n",
        "for i in range(len(part_df_large)):\n",
        "  text.append(\"premise: \" + part_df_large.loc[i, 'premise'] + \\\n",
        "              \" initial: \" + part_df_large.loc[i, 'initial'] + \\\n",
        "              \" counterfactual: \" + part_df_large.loc[i, 'counterfactual'] + \\\n",
        "              \" original_ending: \" + part_df_large.loc[i, 'original_ending'])\n",
        "  gt.append(\"edited_ending: \" + part_df_large.loc[i, 'edited_ending'][0] +\" \"+ \\\n",
        "            part_df_large.loc[i, 'edited_ending'][1] +\" \"+ part_df_large.loc[i, 'edited_ending'][2])\n",
        "\n",
        "print(len(text))"
      ],
      "metadata": {
        "id": "KOFEFFfHHQXy"
      },
      "execution_count": null,
      "outputs": []
    },
    {
      "cell_type": "code",
      "source": [
        "valid_df = pd.DataFrame({'source_text': text, 'target_text': gt}) \n",
        "valid_df.head()"
      ],
      "metadata": {
        "id": "DxJmfN1BHUXX"
      },
      "execution_count": null,
      "outputs": []
    },
    {
      "cell_type": "markdown",
      "source": [
        "# Dataset and Dataloader"
      ],
      "metadata": {
        "id": "dcFsA1QQnpel"
      }
    },
    {
      "cell_type": "code",
      "source": [
        "# Creating a custom dataset for reading the dataframe and loading it into the dataloader to pass it to the neural network at a later stage for finetuning the model and to prepare it for predictions\n",
        "\n",
        "class CustomDataset(Dataset):\n",
        "\n",
        "    def __init__(self, dataframe, tokenizer, ori_len, con_len):\n",
        "        self.tokenizer = tokenizer\n",
        "        self.data = dataframe\n",
        "        self.ori_len = ori_len\n",
        "        self.con_len = con_len\n",
        "        self.original = self.data.source_text\n",
        "        self.counterfactual = self.data.target_text\n",
        "        \n",
        "\n",
        "    def __len__(self):\n",
        "        return len(self.counterfactual)\n",
        "\n",
        "    def __getitem__(self, index):\n",
        "        original = str(self.original[index])\n",
        "        original = ' '.join(original.split())\n",
        "\n",
        "        counterfactual = str(self.counterfactual[index])\n",
        "        counterfactual = ' '.join(counterfactual.split())\n",
        "\n",
        "        source = self.tokenizer.encode_plus(original, max_length= self.ori_len, padding='max_length',return_tensors='pt')\n",
        "        target = self.tokenizer.encode_plus(counterfactual, max_length= self.con_len, padding='max_length',return_tensors='pt')\n",
        "\n",
        "        # source_ids = source['input_ids'].squeeze()\n",
        "        # source_mask = source['attention_mask'].squeeze()\n",
        "        # target_ids = target['input_ids'].squeeze()\n",
        "        # target_mask = target['attention_mask'].squeeze()\n",
        "\n",
        "        return {\n",
        "            'source_ids': source_ids.to(dtype=torch.long), \n",
        "            'source_mask': source_mask.to(dtype=torch.long), \n",
        "            'target_ids': target_ids.to(dtype=torch.long),\n",
        "            'target_ids_y': target_ids.to(dtype=torch.long)\n",
        "        }"
      ],
      "metadata": {
        "id": "09xuAFkDnf9j"
      },
      "execution_count": 30,
      "outputs": []
    },
    {
      "cell_type": "code",
      "source": [
        "trainingset = CustomDataset(dataframe=train_df, tokenizer=tokenizer, ori_len=config.SOURCE_LEN , con_len=config.TARGET_LEN )\n",
        "validset = CustomDataset(dataframe=valid_df, tokenizer=tokenizer, ori_len=config.SOURCE_LEN , con_len=config.TARGET_LEN )"
      ],
      "metadata": {
        "id": "ybW0gTCtse_G"
      },
      "execution_count": 35,
      "outputs": []
    },
    {
      "cell_type": "code",
      "source": [
        "# pick up a data sample\n",
        "sample_idx = 4\n",
        "sample = trainingset[sample_idx]\n",
        "\n",
        "source_ids = sample[\"source_ids\"]\n",
        "source_mask = sample[\"source_mask\"]\n",
        "target_ids = sample[\"target_ids\"]\n",
        "target_ids_y = sample[\"target_ids_y\"]\n",
        "\n",
        "print(source_ids)"
      ],
      "metadata": {
        "colab": {
          "base_uri": "https://localhost:8080/"
        },
        "id": "SeeGPPuitkTH",
        "outputId": "141e5e5a-c24f-43a2-dff1-7848babb6d5c"
      },
      "execution_count": 36,
      "outputs": [
        {
          "output_type": "stream",
          "name": "stdout",
          "text": [
            "tensor([    3, 17398,    10, 13136,   849,  6102,    15,   160, 11718,   640,\n",
            "            8,  1679,     7,     5,  2332,    10,   366,   255,   966,  4363,\n",
            "           44,     8, 15415,     6,     3,     9,     3, 31062,    15,  4283,\n",
            "            5,  3485,    89, 25481,    10,   366,   255,   966,  4363,    44,\n",
            "            8, 15415,     6,     3,     9,    20,    49,  4283,     5,   926,\n",
            "          834,  9303,    10,   451,   737,    31,    17,    43,   631,    97,\n",
            "           12,  9563,    11, 10719,  1587,     8,     3, 31062,    15,     5,\n",
            "          328,   130,   321,  7673,    15,    26,    91,     5,   451,  3725,\n",
            "          530,    95,    11,   718,     8,  2095,     5,     1,     0,     0,\n",
            "            0,     0,     0,     0,     0,     0,     0,     0,     0,     0,\n",
            "            0,     0,     0,     0,     0,     0,     0,     0,     0,     0,\n",
            "            0,     0,     0,     0,     0,     0,     0,     0,     0,     0,\n",
            "            0,     0,     0,     0,     0,     0,     0,     0])\n"
          ]
        }
      ]
    },
    {
      "cell_type": "code",
      "source": [
        "print(train_df.iloc[sample_idx].target_text)\n",
        "\n",
        "sen = tokenizer.decode(target_ids, skip_special_tokens=False) # skip_special_tokens=True will be completely same.\n",
        "print(sen)"
      ],
      "metadata": {
        "colab": {
          "base_uri": "https://localhost:8080/"
        },
        "id": "ej_c-RkEtkb7",
        "outputId": "e68c55df-2ff4-422e-b12b-e1a2d9b95204"
      },
      "execution_count": 40,
      "outputs": [
        {
          "output_type": "stream",
          "name": "stdout",
          "text": [
            "edited_ending: She didn't have enough time to brake and drove towards the deer, They were both knocked out. She eventually got up and called the police.\n",
            "edited_ending: She didn't have enough time to brake and drove towards the deer, They were both knocked out. She eventually got up and called the police.</s> <pad> <pad> <pad> <pad> <pad> <pad> <pad> <pad> <pad> <pad> <pad> <pad> <pad> <pad> <pad> <pad> <pad> <pad> <pad> <pad> <pad> <pad> <pad> <pad> <pad> <pad> <pad> <pad> <pad> <pad> <pad> <pad> <pad> <pad> <pad> <pad> <pad> <pad> <pad> <pad> <pad> <pad> <pad> <pad> <pad> <pad> <pad> <pad> <pad> <pad> <pad> <pad> <pad> <pad> <pad> <pad> <pad> <pad> <pad> <pad> <pad> <pad> <pad> <pad> <pad> <pad> <pad> <pad> <pad> <pad> <pad> <pad> <pad> <pad> <pad> <pad> <pad> <pad> <pad> <pad> <pad> <pad> <pad> <pad> <pad> <pad> <pad> <pad> <pad> <pad>\n"
          ]
        }
      ]
    },
    {
      "cell_type": "code",
      "source": [
        "# DataLoader\n",
        "\n",
        "train_params = {\n",
        "    'batch_size': config.TRAIN_BATCH_SIZE,\n",
        "    'shuffle': True,\n",
        "    'num_workers': 2\n",
        "    }\n",
        "\n",
        "val_params = {\n",
        "    'batch_size': config.VALID_BATCH_SIZE,\n",
        "    'shuffle': False,\n",
        "    'num_workers': 2\n",
        "    }\n",
        "\n",
        "training_loader = DataLoader(trainingset, **train_params)\n",
        "val_loader = DataLoader(validset, **val_params)\n",
        "print(len(training_loader))\n",
        "print(len(val_loader))"
      ],
      "metadata": {
        "colab": {
          "base_uri": "https://localhost:8080/"
        },
        "id": "fY1CfrsuwgaQ",
        "outputId": "7d834a3c-d187-4d09-abf0-119fbcb3b48b"
      },
      "execution_count": 50,
      "outputs": [
        {
          "output_type": "stream",
          "name": "stdout",
          "text": [
            "1047\n"
          ]
        }
      ]
    },
    {
      "cell_type": "code",
      "source": [
        ""
      ],
      "metadata": {
        "id": "Hd8N-2N-016F"
      },
      "execution_count": null,
      "outputs": []
    },
    {
      "cell_type": "markdown",
      "source": [
        "# Define train() and val()"
      ],
      "metadata": {
        "id": "sT0T9bEQxUE2"
      }
    },
    {
      "cell_type": "code",
      "source": [
        "# Creating the training function. This will be called in the main function. It is run depending on the epoch value.\n",
        "# The model is put into train mode and then we wnumerate over the training loader and passed to the defined network \n",
        "\n",
        "def train(epoch, tokenizer, model, device, loader, optimizer):\n",
        "    model.train()\n",
        "    for i,data in enumerate(loader):\n",
        "        #len(loader)=10xx\n",
        "        ids = data['source_ids'].to(device, dtype = torch.long)\n",
        "        mask = data['source_mask'].to(device, dtype = torch.long)\n",
        "        y = data['target_ids'].to(device, dtype = torch.long)\n",
        "\n",
        "        # padded ids (pad=0) are set to -100, which means ignore for loss calculation\n",
        "        y[y[: ,:] == tokenizer.pad_token_id ] = -100\n",
        "        label_ids = y.to(device)\n",
        "\n",
        "        outputs = model(input_ids = ids, attention_mask = mask, labels=label_ids)\n",
        "        loss = outputs[0]\n",
        "        #logit = outputs[1]\n",
        "        \n",
        "        if i%50 == 0:\n",
        "            wandb.log({\"Training Loss\": loss.item()})\n",
        "\n",
        "        if i%600==0:\n",
        "            print(f'Epoch: {epoch}, Loss:  {loss.item()}')\n",
        "        \n",
        "        optimizer.zero_grad()\n",
        "        loss.backward()\n",
        "        optimizer.step()\n",
        "        # xm.optimizer_step(optimizer)\n",
        "        # xm.mark_step()"
      ],
      "metadata": {
        "id": "yA6SQwTYxWaJ"
      },
      "execution_count": null,
      "outputs": []
    },
    {
      "cell_type": "code",
      "source": [
        "def validate(tokenizer, model, device, loader):\n",
        "    model.eval()\n",
        "    predictions = []\n",
        "    actuals = []\n",
        "    with torch.no_grad():\n",
        "        for i, data in enumerate(loader):\n",
        "            y = data['target_ids'].to(device, dtype = torch.long)\n",
        "            ids = data['source_ids'].to(device, dtype = torch.long)\n",
        "            mask = data['source_mask'].to(device, dtype = torch.long)\n",
        "\n",
        "            generated_ids = model.generate(\n",
        "                input_ids = ids,\n",
        "                attention_mask = mask, \n",
        "                num_beams=2,\n",
        "                repetition_penalty=2.5, \n",
        "                length_penalty=1.0, \n",
        "                early_stopping=True\n",
        "                )\n",
        "            raw = [tokenizer.decode(i, skip_special_tokens=True, clean_up_tokenization_spaces=True) for i in ids]\n",
        "            preds = [tokenizer.decode(i, skip_special_tokens=True, clean_up_tokenization_spaces=True) for i in generated_ids]\n",
        "            target = [tokenizer.decode(i, skip_special_tokens=True, clean_up_tokenization_spaces=True)for i in y]\n",
        "            if i%(len(loader)/5)==0:\n",
        "                print(f'valid Completed {i/loader} / {5}')\n",
        "\n",
        "            predictions.extend(preds)\n",
        "            actuals.extend(target)\n",
        "    return raw, predictions, actuals"
      ],
      "metadata": {
        "id": "kVLrtY7P6KHH"
      },
      "execution_count": null,
      "outputs": []
    },
    {
      "cell_type": "markdown",
      "source": [
        "# main"
      ],
      "metadata": {
        "id": "0WpWFy1wFrAM"
      }
    },
    {
      "cell_type": "code",
      "source": [
        "import time\n",
        "# Helper function to print time between epochs\n",
        "def epoch_time(start_time, end_time):\n",
        "    elapsed_time = end_time - start_time\n",
        "    elapsed_mins = int(elapsed_time / 60)\n",
        "    elapsed_secs = int(elapsed_time - (elapsed_mins * 60))\n",
        "    return elapsed_mins, elapsed_secs"
      ],
      "metadata": {
        "id": "rGfmTknmFt4w"
      },
      "execution_count": null,
      "outputs": []
    },
    {
      "cell_type": "code",
      "source": [
        "# Log metrics with wandb\n",
        "#wandb.watch(model, log=\"all\")\n",
        "# Training loop\n",
        "print('Initiating Fine-Tuning for the model on counterfactual dataset:')\n",
        "\n",
        "\n",
        "for epoch in tqdm(range(config.TRAIN_EPOCHS)):\n",
        "    start_time = time.time()\n",
        "    train(epoch, tokenizer, model, device, training_loader, optimizer)\n",
        "    end_time = time.time()\n",
        "    epoch_mins, epoch_secs = epoch_time(start_time, end_time)\n",
        "    print(f'Epoch: {epoch:02} | Epoch Time: {epoch_mins}m {epoch_secs}s')\n"
      ],
      "metadata": {
        "id": "fhOCd_QgIHMu"
      },
      "execution_count": null,
      "outputs": []
    },
    {
      "cell_type": "code",
      "source": [
        "# Validation loop and saving the resulting file with predictions and acutals in a dataframe.\n",
        "# Saving the dataframe as predictions.csv\n",
        "print('Now inferecing:')\n",
        "raw, predictions, actuals = validate(tokenizer, model, device, val_loader)\n",
        "final_df = pd.DataFrame({'raw_text': raw, 'ground_truth': actuals, 'generated_text': predictions})\n",
        "final_df.to_csv(root + 'results/' + 'output' + model_version + '.csv')\n",
        "print('Output Files generated for review')"
      ],
      "metadata": {
        "id": "dP6Yf2qcKVed"
      },
      "execution_count": null,
      "outputs": []
    }
  ]
}