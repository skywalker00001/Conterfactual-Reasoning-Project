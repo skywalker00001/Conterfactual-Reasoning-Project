{
  "nbformat": 4,
  "nbformat_minor": 0,
  "metadata": {
    "colab": {
      "name": "data_cleaning_4.1.ipynb",
      "provenance": [],
      "collapsed_sections": [],
      "authorship_tag": "ABX9TyNPVFd5JBEMJe/M+3t7qS/3",
      "include_colab_link": true
    },
    "kernelspec": {
      "name": "python3",
      "display_name": "Python 3"
    },
    "language_info": {
      "name": "python"
    }
  },
  "cells": [
    {
      "cell_type": "markdown",
      "metadata": {
        "id": "view-in-github",
        "colab_type": "text"
      },
      "source": [
        "<a href=\"https://colab.research.google.com/github/skywalker00001/Conterfactual-Reasoning-Project/blob/main/data_cleaning_4_2.ipynb\" target=\"_parent\"><img src=\"https://colab.research.google.com/assets/colab-badge.svg\" alt=\"Open In Colab\"/></a>"
      ]
    },
    {
      "cell_type": "markdown",
      "source": [
        "# how to find out the different or changed blocks in sentence b compared to the sentence a (base)"
      ],
      "metadata": {
        "id": "Q2aKroRZLmfj"
      }
    },
    {
      "cell_type": "code",
      "source": [
        "# Importing stock libraries\n",
        "import numpy as np\n",
        "import pandas as pd\n",
        "import difflib\n",
        "import nltk\n",
        "import copy"
      ],
      "metadata": {
        "id": "KwAz8ZN7Wgb2"
      },
      "execution_count": 1,
      "outputs": []
    },
    {
      "cell_type": "code",
      "execution_count": 2,
      "metadata": {
        "colab": {
          "base_uri": "https://localhost:8080/"
        },
        "id": "1oheTRbyWWB6",
        "outputId": "90ede2fe-22f4-4506-940d-44a64d594f89"
      },
      "outputs": [
        {
          "output_type": "stream",
          "name": "stdout",
          "text": [
            "[nltk_data] Downloading package punkt to /root/nltk_data...\n",
            "[nltk_data]   Unzipping tokenizers/punkt.zip.\n"
          ]
        },
        {
          "output_type": "execute_result",
          "data": {
            "text/plain": [
              "True"
            ]
          },
          "metadata": {},
          "execution_count": 2
        }
      ],
      "source": [
        "nltk.download(\"punkt\")"
      ]
    },
    {
      "cell_type": "code",
      "source": [
        "\n",
        "# a = \"I paid the cashier and patiently waited for my drink.\"\n",
        "# b = \"I paid the cashier and patiently waited at the counter for my drink.\"\n",
        "a = \"I want to acchieve something to school.\"\n",
        "b = \"I do something to go for it to school.\"\n",
        "a_list = nltk.word_tokenize(a)\n",
        "b_list = nltk.word_tokenize(b)\n",
        "\n",
        "a_list = \"qabxcd\"\n",
        "b_list = \"abycdf\"\n",
        "print(a_list)\n",
        "print(b_list)"
      ],
      "metadata": {
        "colab": {
          "base_uri": "https://localhost:8080/"
        },
        "id": "OqWZJ5B-Wmjt",
        "outputId": "8d47cd5c-e9e4-4b2c-fd1e-5be17b7e74a2"
      },
      "execution_count": 41,
      "outputs": [
        {
          "output_type": "stream",
          "name": "stdout",
          "text": [
            "qabxcd\n",
            "abycdf\n"
          ]
        }
      ]
    },
    {
      "cell_type": "code",
      "source": [
        "s = difflib.SequenceMatcher(None, a_list, b_list)\n",
        "for block in s.get_matching_blocks():\n",
        "    print(block)\n",
        "    "
      ],
      "metadata": {
        "colab": {
          "base_uri": "https://localhost:8080/"
        },
        "id": "tWdWTQNhW2dv",
        "outputId": "2007bce5-5b85-4390-828f-e9df31bcb17c"
      },
      "execution_count": 42,
      "outputs": [
        {
          "output_type": "stream",
          "name": "stdout",
          "text": [
            "Match(a=1, b=0, size=2)\n",
            "Match(a=4, b=3, size=2)\n",
            "Match(a=6, b=6, size=0)\n"
          ]
        }
      ]
    },
    {
      "cell_type": "code",
      "source": [
        "print(a_list[2])"
      ],
      "metadata": {
        "colab": {
          "base_uri": "https://localhost:8080/"
        },
        "id": "q5ETmjnvG11Y",
        "outputId": "1b7d85eb-8975-4a07-d571-6f9205492ae4"
      },
      "execution_count": 43,
      "outputs": [
        {
          "output_type": "stream",
          "name": "stdout",
          "text": [
            "b\n"
          ]
        }
      ]
    },
    {
      "cell_type": "code",
      "source": [
        "print(a_list[0:0+8])\n",
        "print(a_list[8:8+3])\n",
        "print(a_list[11:11+0])"
      ],
      "metadata": {
        "colab": {
          "base_uri": "https://localhost:8080/"
        },
        "id": "_MEe1kh5XGgS",
        "outputId": "e512819e-72cf-4746-e8c8-ec11fad20239"
      },
      "execution_count": 44,
      "outputs": [
        {
          "output_type": "stream",
          "name": "stdout",
          "text": [
            "qabxcd\n",
            "\n",
            "\n"
          ]
        }
      ]
    },
    {
      "cell_type": "code",
      "source": [
        "matches = []\n",
        "matches.append([0, 0, 0])\n",
        "for block in s.get_matching_blocks():\n",
        "    #matches.append([block[0], block[1], block[2]])\n",
        "    matches.append([i for i in block])\n",
        "    #matches.append(block)\n",
        "print(matches)   \n",
        "\n",
        "# explanation: matches[i][0] are the a index, matches[i][1] are the b index, matches[i] [2] are the lengths of same (matched) words."
      ],
      "metadata": {
        "colab": {
          "base_uri": "https://localhost:8080/"
        },
        "id": "5gE7MKlhjkhL",
        "outputId": "99256522-f2e2-441e-db10-4dadcab736f5"
      },
      "execution_count": 45,
      "outputs": [
        {
          "output_type": "stream",
          "name": "stdout",
          "text": [
            "[[0, 0, 0], [1, 0, 2], [4, 3, 2], [6, 6, 0]]\n"
          ]
        }
      ]
    },
    {
      "cell_type": "code",
      "source": [
        "changes = []\n",
        "for i in range(len(matches) - 1):\n",
        "    #print(matches[i])\n",
        "    if ((matches[i][0]+ matches[i][2] < matches[i+1][0]) & (matches[i][1]+ matches[i][2] < matches[i+1][1])):     # replace\n",
        "        string = (\" \").join(b_list[(matches[i][1]+matches[i][2]) : matches[i+1][1]])\n",
        "        changes.append(f\"replacing_{matches[i][0]+matches[i][2]}-{matches[i+1][0]}: \\\"{string}\\\".\")\n",
        "    elif ((matches[i][0]+ matches[i][2] < matches[i+1][0]) & (matches[i][1]+ matches[i][2] == matches[i+1][1])):     # delete\n",
        "        string = (\" \").join(b_list[(matches[i][1]+matches[i][2]) : matches[i+1][1]])\n",
        "        changes.append(f\"deleting_{matches[i][0]+matches[i][2]}-{matches[i+1][0]}: \\\"{string}\\\".\")\n",
        "    elif ((matches[i][0]+ matches[i][2] == matches[i+1][0]) & (matches[i][1]+ matches[i][2] < matches[i+1][1])):     # insert\n",
        "        string = (\" \").join(b_list[(matches[i][1]+matches[i][2]) : matches[i+1][1]])\n",
        "        changes.append(f\"inserting_{matches[i][0]+matches[i][2]}-{matches[i+1][0]}: \\\"{string}\\\".\")"
      ],
      "metadata": {
        "id": "AnfI2FCJE3zY"
      },
      "execution_count": 46,
      "outputs": []
    },
    {
      "cell_type": "code",
      "source": [
        "print(changes)"
      ],
      "metadata": {
        "colab": {
          "base_uri": "https://localhost:8080/"
        },
        "id": "xa7DymdFjp5L",
        "outputId": "3c90ca3d-3568-46cb-d267-e0e6a208002b"
      },
      "execution_count": 47,
      "outputs": [
        {
          "output_type": "stream",
          "name": "stdout",
          "text": [
            "['deleting_0-1: .', 'replacing_3-4: y.', 'inserting_6-6: f.']\n"
          ]
        }
      ]
    },
    {
      "cell_type": "code",
      "source": [
        "c = copy.deepcopy(a_list)\n",
        "c[7:7] = nltk.word_tokenize(\"at the counter\")\n"
      ],
      "metadata": {
        "colab": {
          "base_uri": "https://localhost:8080/",
          "height": 183
        },
        "id": "DKcE0ZamHvXp",
        "outputId": "372fd634-2978-4042-ce3f-da641ae8be91"
      },
      "execution_count": 48,
      "outputs": [
        {
          "output_type": "error",
          "ename": "TypeError",
          "evalue": "ignored",
          "traceback": [
            "\u001b[0;31m---------------------------------------------------------------------------\u001b[0m",
            "\u001b[0;31mTypeError\u001b[0m                                 Traceback (most recent call last)",
            "\u001b[0;32m<ipython-input-48-f7acf4a89533>\u001b[0m in \u001b[0;36m<module>\u001b[0;34m()\u001b[0m\n\u001b[1;32m      1\u001b[0m \u001b[0mc\u001b[0m \u001b[0;34m=\u001b[0m \u001b[0mcopy\u001b[0m\u001b[0;34m.\u001b[0m\u001b[0mdeepcopy\u001b[0m\u001b[0;34m(\u001b[0m\u001b[0ma_list\u001b[0m\u001b[0;34m)\u001b[0m\u001b[0;34m\u001b[0m\u001b[0;34m\u001b[0m\u001b[0m\n\u001b[0;32m----> 2\u001b[0;31m \u001b[0mc\u001b[0m\u001b[0;34m[\u001b[0m\u001b[0;36m7\u001b[0m\u001b[0;34m:\u001b[0m\u001b[0;36m7\u001b[0m\u001b[0;34m]\u001b[0m \u001b[0;34m=\u001b[0m \u001b[0mnltk\u001b[0m\u001b[0;34m.\u001b[0m\u001b[0mword_tokenize\u001b[0m\u001b[0;34m(\u001b[0m\u001b[0;34m\"at the counter\"\u001b[0m\u001b[0;34m)\u001b[0m\u001b[0;34m\u001b[0m\u001b[0;34m\u001b[0m\u001b[0m\n\u001b[0m",
            "\u001b[0;31mTypeError\u001b[0m: 'str' object does not support item assignment"
          ]
        }
      ]
    },
    {
      "cell_type": "code",
      "source": [
        "print(a_list)"
      ],
      "metadata": {
        "colab": {
          "base_uri": "https://localhost:8080/"
        },
        "id": "8XVQ6JC1IoVJ",
        "outputId": "95c98ba2-baa2-4058-9346-4365167819fd"
      },
      "execution_count": 37,
      "outputs": [
        {
          "output_type": "stream",
          "name": "stdout",
          "text": [
            "['I', 'want', 'to', 'acchieve', 'something', 'to', 'school', '.']\n"
          ]
        }
      ]
    },
    {
      "cell_type": "markdown",
      "source": [
        ""
      ],
      "metadata": {
        "id": "9NPsRv5fLlqu"
      }
    },
    {
      "cell_type": "code",
      "source": [
        "print(c)"
      ],
      "metadata": {
        "colab": {
          "base_uri": "https://localhost:8080/"
        },
        "id": "-gCx3vMlIXAH",
        "outputId": "d01f8ab7-e7b8-41db-f675-778f315033ca"
      },
      "execution_count": 38,
      "outputs": [
        {
          "output_type": "stream",
          "name": "stdout",
          "text": [
            "['I', 'want', 'to', 'acchieve', 'something', 'to', 'school', 'at', 'the', 'counter', '.']\n"
          ]
        }
      ]
    },
    {
      "cell_type": "code",
      "source": [
        ""
      ],
      "metadata": {
        "id": "IAQMdU-Y7Fdx"
      },
      "execution_count": null,
      "outputs": []
    },
    {
      "cell_type": "code",
      "source": [
        ""
      ],
      "metadata": {
        "id": "jTp3jU6r7FgH"
      },
      "execution_count": null,
      "outputs": []
    },
    {
      "cell_type": "code",
      "source": [
        ""
      ],
      "metadata": {
        "id": "6poKpW-Y7Fjb"
      },
      "execution_count": null,
      "outputs": []
    },
    {
      "cell_type": "markdown",
      "source": [
        "# another way"
      ],
      "metadata": {
        "id": "SSnIVhGr7FsD"
      }
    },
    {
      "cell_type": "code",
      "source": [
        "# a = \"qabxcd\"\n",
        "# b = \"abycdf\"\n",
        "cgs = []\n",
        "s = difflib.SequenceMatcher(None, a_list, b_list)\n",
        "for tag, i1, i2, j1, j2 in s.get_opcodes():\n",
        "    print('{:7}   a[{}:{}] --> b[{}:{}] {!r:>8} --> {!r}'.format(tag, i1, i2, j1, j2, a_list[i1:i2], b_list[j1:j2]))\n",
        "    #print('{:7}   a[{}:{}] --> b[{}:{}] {!r} --> {!r}'.format(tag, i1, i2, j1, j2, a[i1:i2], b[j1:j2]))\n",
        "    if (tag != 'equal'):\n",
        "        cgs.append(f'{tag}_{i1}-{i2}: \\\"{(\" \").join(b_list[j1:j2])}\\\".')"
      ],
      "metadata": {
        "colab": {
          "base_uri": "https://localhost:8080/"
        },
        "id": "j6MMOFuy7HaO",
        "outputId": "dfce6fa4-6927-4762-8cb1-633daa9551db"
      },
      "execution_count": 51,
      "outputs": [
        {
          "output_type": "stream",
          "name": "stdout",
          "text": [
            "delete    a[0:1] --> b[0:0]      'q' --> ''\n",
            "equal     a[1:3] --> b[0:2]     'ab' --> 'ab'\n",
            "replace   a[3:4] --> b[2:3]      'x' --> 'y'\n",
            "equal     a[4:6] --> b[3:5]     'cd' --> 'cd'\n",
            "insert    a[6:6] --> b[5:6]       '' --> 'f'\n"
          ]
        }
      ]
    },
    {
      "cell_type": "code",
      "source": [
        "print(cgs)"
      ],
      "metadata": {
        "colab": {
          "base_uri": "https://localhost:8080/"
        },
        "id": "-K39xwnj8-22",
        "outputId": "6e004ef1-f5a8-4b88-b9b6-c99d60f07fe0"
      },
      "execution_count": 52,
      "outputs": [
        {
          "output_type": "stream",
          "name": "stdout",
          "text": [
            "['delete_0-1: \"\".', 'replace_3-4: \"y\".', 'insert_6-6: \"f\".']\n"
          ]
        }
      ]
    }
  ]
}