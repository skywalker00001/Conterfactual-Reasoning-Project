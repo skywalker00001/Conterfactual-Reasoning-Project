{
  "nbformat": 4,
  "nbformat_minor": 0,
  "metadata": {
    "colab": {
      "name": "data_cleaning_4.1.ipynb",
      "provenance": [],
      "collapsed_sections": [],
      "authorship_tag": "ABX9TyNBr2G5IA1Y1a40YNfsBgQp",
      "include_colab_link": true
    },
    "kernelspec": {
      "name": "python3",
      "display_name": "Python 3"
    },
    "language_info": {
      "name": "python"
    }
  },
  "cells": [
    {
      "cell_type": "markdown",
      "metadata": {
        "id": "view-in-github",
        "colab_type": "text"
      },
      "source": [
        "<a href=\"https://colab.research.google.com/github/skywalker00001/Conterfactual-Reasoning-Project/blob/main/data_cleaning_4_2.ipynb\" target=\"_parent\"><img src=\"https://colab.research.google.com/assets/colab-badge.svg\" alt=\"Open In Colab\"/></a>"
      ]
    },
    {
      "cell_type": "markdown",
      "source": [
        "# how to find out the different or changed blocks in sentence b compared to the sentence a (base)"
      ],
      "metadata": {
        "id": "Q2aKroRZLmfj"
      }
    },
    {
      "cell_type": "code",
      "source": [
        "# Importing stock libraries\n",
        "import numpy as np\n",
        "import pandas as pd\n",
        "import difflib\n",
        "import nltk\n",
        "import copy\n",
        "import regex as re"
      ],
      "metadata": {
        "id": "KwAz8ZN7Wgb2"
      },
      "execution_count": 75,
      "outputs": []
    },
    {
      "cell_type": "code",
      "execution_count": 57,
      "metadata": {
        "colab": {
          "base_uri": "https://localhost:8080/"
        },
        "id": "1oheTRbyWWB6",
        "outputId": "c74daa99-f3e2-4eda-9057-38152e88e4e6"
      },
      "outputs": [
        {
          "output_type": "stream",
          "name": "stdout",
          "text": [
            "[nltk_data] Downloading package punkt to /root/nltk_data...\n",
            "[nltk_data]   Package punkt is already up-to-date!\n"
          ]
        },
        {
          "output_type": "execute_result",
          "data": {
            "text/plain": [
              "True"
            ]
          },
          "metadata": {},
          "execution_count": 57
        }
      ],
      "source": [
        "nltk.download(\"punkt\")"
      ]
    },
    {
      "cell_type": "code",
      "source": [
        "\n",
        "# a = \"I paid the cashier and patiently waited for my drink.\"\n",
        "# b = \"I paid the cashier and patiently waited at the counter for my drink.\"\n",
        "a = \"I want to acchieve something to school.\"\n",
        "b = \"I do something to go for it to school.\"\n",
        "a_list = nltk.word_tokenize(a)\n",
        "b_list = nltk.word_tokenize(b)\n",
        "\n",
        "a_list = \"qabxcd\"\n",
        "b_list = \"abycdf\"\n",
        "print(a_list)\n",
        "print(b_list)"
      ],
      "metadata": {
        "colab": {
          "base_uri": "https://localhost:8080/"
        },
        "id": "OqWZJ5B-Wmjt",
        "outputId": "5943d55c-c437-4645-d245-865047c371d2"
      },
      "execution_count": 58,
      "outputs": [
        {
          "output_type": "stream",
          "name": "stdout",
          "text": [
            "qabxcd\n",
            "abycdf\n"
          ]
        }
      ]
    },
    {
      "cell_type": "code",
      "source": [
        "s = difflib.SequenceMatcher(None, a_list, b_list)\n",
        "for block in s.get_matching_blocks():\n",
        "    print(block)\n",
        "    "
      ],
      "metadata": {
        "colab": {
          "base_uri": "https://localhost:8080/"
        },
        "id": "tWdWTQNhW2dv",
        "outputId": "93043461-79df-493d-cc4b-aabcb0650024"
      },
      "execution_count": 59,
      "outputs": [
        {
          "output_type": "stream",
          "name": "stdout",
          "text": [
            "Match(a=1, b=0, size=2)\n",
            "Match(a=4, b=3, size=2)\n",
            "Match(a=6, b=6, size=0)\n"
          ]
        }
      ]
    },
    {
      "cell_type": "code",
      "source": [
        "print(a_list[2])"
      ],
      "metadata": {
        "colab": {
          "base_uri": "https://localhost:8080/"
        },
        "id": "q5ETmjnvG11Y",
        "outputId": "aef84da6-c2aa-44d0-a1c6-da179e7071c3"
      },
      "execution_count": 60,
      "outputs": [
        {
          "output_type": "stream",
          "name": "stdout",
          "text": [
            "b\n"
          ]
        }
      ]
    },
    {
      "cell_type": "code",
      "source": [
        "print(a_list[0:0+8])\n",
        "print(a_list[8:8+3])\n",
        "print(a_list[11:11+0])"
      ],
      "metadata": {
        "colab": {
          "base_uri": "https://localhost:8080/"
        },
        "id": "_MEe1kh5XGgS",
        "outputId": "1da758e1-55fa-4c0f-9e81-7a540df6ccef"
      },
      "execution_count": 61,
      "outputs": [
        {
          "output_type": "stream",
          "name": "stdout",
          "text": [
            "qabxcd\n",
            "\n",
            "\n"
          ]
        }
      ]
    },
    {
      "cell_type": "code",
      "source": [
        "matches = []\n",
        "matches.append([0, 0, 0])\n",
        "for block in s.get_matching_blocks():\n",
        "    #matches.append([block[0], block[1], block[2]])\n",
        "    matches.append([i for i in block])\n",
        "    #matches.append(block)\n",
        "print(matches)   \n",
        "\n",
        "# explanation: matches[i][0] are the a index, matches[i][1] are the b index, matches[i] [2] are the lengths of same (matched) words."
      ],
      "metadata": {
        "colab": {
          "base_uri": "https://localhost:8080/"
        },
        "id": "5gE7MKlhjkhL",
        "outputId": "fc72c8ea-e9f0-4258-b99b-14ba812b3da7"
      },
      "execution_count": 62,
      "outputs": [
        {
          "output_type": "stream",
          "name": "stdout",
          "text": [
            "[[0, 0, 0], [1, 0, 2], [4, 3, 2], [6, 6, 0]]\n"
          ]
        }
      ]
    },
    {
      "cell_type": "code",
      "source": [
        "changes = []\n",
        "for i in range(len(matches) - 1):\n",
        "    #print(matches[i])\n",
        "    if ((matches[i][0]+ matches[i][2] < matches[i+1][0]) & (matches[i][1]+ matches[i][2] < matches[i+1][1])):     # replace\n",
        "        string = (\" \").join(b_list[(matches[i][1]+matches[i][2]) : matches[i+1][1]])\n",
        "        changes.append(f\"replacing_{matches[i][0]+matches[i][2]}-{matches[i+1][0]}:\\\"{string}\\\".\")\n",
        "    elif ((matches[i][0]+ matches[i][2] < matches[i+1][0]) & (matches[i][1]+ matches[i][2] == matches[i+1][1])):     # delete\n",
        "        string = (\" \").join(b_list[(matches[i][1]+matches[i][2]) : matches[i+1][1]])\n",
        "        changes.append(f\"deleting_{matches[i][0]+matches[i][2]}-{matches[i+1][0]}:\\\"{string}\\\".\")\n",
        "    elif ((matches[i][0]+ matches[i][2] == matches[i+1][0]) & (matches[i][1]+ matches[i][2] < matches[i+1][1])):     # insert\n",
        "        string = (\" \").join(b_list[(matches[i][1]+matches[i][2]) : matches[i+1][1]])\n",
        "        changes.append(f\"inserting_{matches[i][0]+matches[i][2]}-{matches[i+1][0]}:\\\"{string}\\\".\")"
      ],
      "metadata": {
        "id": "AnfI2FCJE3zY"
      },
      "execution_count": 63,
      "outputs": []
    },
    {
      "cell_type": "code",
      "source": [
        "print(changes)"
      ],
      "metadata": {
        "colab": {
          "base_uri": "https://localhost:8080/"
        },
        "id": "xa7DymdFjp5L",
        "outputId": "cbb026bd-90b3-406a-a734-2d14c7a1351c"
      },
      "execution_count": 64,
      "outputs": [
        {
          "output_type": "stream",
          "name": "stdout",
          "text": [
            "['deleting_0-1:\"\".', 'replacing_3-4:\"y\".', 'inserting_6-6:\"f\".']\n"
          ]
        }
      ]
    },
    {
      "cell_type": "code",
      "source": [
        "c = copy.deepcopy(a_list)\n",
        "c[7:7] = nltk.word_tokenize(\"at the counter\")\n"
      ],
      "metadata": {
        "colab": {
          "base_uri": "https://localhost:8080/",
          "height": 183
        },
        "id": "DKcE0ZamHvXp",
        "outputId": "372fd634-2978-4042-ce3f-da641ae8be91"
      },
      "execution_count": 48,
      "outputs": [
        {
          "output_type": "error",
          "ename": "TypeError",
          "evalue": "ignored",
          "traceback": [
            "\u001b[0;31m---------------------------------------------------------------------------\u001b[0m",
            "\u001b[0;31mTypeError\u001b[0m                                 Traceback (most recent call last)",
            "\u001b[0;32m<ipython-input-48-f7acf4a89533>\u001b[0m in \u001b[0;36m<module>\u001b[0;34m()\u001b[0m\n\u001b[1;32m      1\u001b[0m \u001b[0mc\u001b[0m \u001b[0;34m=\u001b[0m \u001b[0mcopy\u001b[0m\u001b[0;34m.\u001b[0m\u001b[0mdeepcopy\u001b[0m\u001b[0;34m(\u001b[0m\u001b[0ma_list\u001b[0m\u001b[0;34m)\u001b[0m\u001b[0;34m\u001b[0m\u001b[0;34m\u001b[0m\u001b[0m\n\u001b[0;32m----> 2\u001b[0;31m \u001b[0mc\u001b[0m\u001b[0;34m[\u001b[0m\u001b[0;36m7\u001b[0m\u001b[0;34m:\u001b[0m\u001b[0;36m7\u001b[0m\u001b[0;34m]\u001b[0m \u001b[0;34m=\u001b[0m \u001b[0mnltk\u001b[0m\u001b[0;34m.\u001b[0m\u001b[0mword_tokenize\u001b[0m\u001b[0;34m(\u001b[0m\u001b[0;34m\"at the counter\"\u001b[0m\u001b[0;34m)\u001b[0m\u001b[0;34m\u001b[0m\u001b[0;34m\u001b[0m\u001b[0m\n\u001b[0m",
            "\u001b[0;31mTypeError\u001b[0m: 'str' object does not support item assignment"
          ]
        }
      ]
    },
    {
      "cell_type": "code",
      "source": [
        "print(a_list)"
      ],
      "metadata": {
        "colab": {
          "base_uri": "https://localhost:8080/"
        },
        "id": "8XVQ6JC1IoVJ",
        "outputId": "95c98ba2-baa2-4058-9346-4365167819fd"
      },
      "execution_count": 37,
      "outputs": [
        {
          "output_type": "stream",
          "name": "stdout",
          "text": [
            "['I', 'want', 'to', 'acchieve', 'something', 'to', 'school', '.']\n"
          ]
        }
      ]
    },
    {
      "cell_type": "markdown",
      "source": [
        ""
      ],
      "metadata": {
        "id": "9NPsRv5fLlqu"
      }
    },
    {
      "cell_type": "code",
      "source": [
        "print(c)"
      ],
      "metadata": {
        "colab": {
          "base_uri": "https://localhost:8080/"
        },
        "id": "-gCx3vMlIXAH",
        "outputId": "d01f8ab7-e7b8-41db-f675-778f315033ca"
      },
      "execution_count": 38,
      "outputs": [
        {
          "output_type": "stream",
          "name": "stdout",
          "text": [
            "['I', 'want', 'to', 'acchieve', 'something', 'to', 'school', 'at', 'the', 'counter', '.']\n"
          ]
        }
      ]
    },
    {
      "cell_type": "code",
      "source": [
        ""
      ],
      "metadata": {
        "id": "IAQMdU-Y7Fdx"
      },
      "execution_count": null,
      "outputs": []
    },
    {
      "cell_type": "code",
      "source": [
        ""
      ],
      "metadata": {
        "id": "jTp3jU6r7FgH"
      },
      "execution_count": null,
      "outputs": []
    },
    {
      "cell_type": "code",
      "source": [
        ""
      ],
      "metadata": {
        "id": "6poKpW-Y7Fjb"
      },
      "execution_count": null,
      "outputs": []
    },
    {
      "cell_type": "markdown",
      "source": [
        "# another way"
      ],
      "metadata": {
        "id": "SSnIVhGr7FsD"
      }
    },
    {
      "cell_type": "code",
      "source": [
        "# a = \"qabxcd\"\n",
        "# b = \"abycdf\"\n",
        "cgs = []\n",
        "s = difflib.SequenceMatcher(None, a_list, b_list)\n",
        "for tag, i1, i2, j1, j2 in s.get_opcodes():\n",
        "    print('{:7}   a[{}:{}] --> b[{}:{}] {!r:>8} --> {!r}'.format(tag, i1, i2, j1, j2, a_list[i1:i2], b_list[j1:j2]))\n",
        "    #print('{:7}   a[{}:{}] --> b[{}:{}] {!r} --> {!r}'.format(tag, i1, i2, j1, j2, a[i1:i2], b[j1:j2]))\n",
        "    if (tag != 'equal'):\n",
        "        #cgs.append(f'{tag}_{i1}-{i2}:\\\"{(\" \").join(b_list[j1:j2])}\\\".')\n",
        "        cgs.append(f{i1}-{i2}:\\\"{(\" \").join(b_list[j1:j2])}\\\".')"
      ],
      "metadata": {
        "colab": {
          "base_uri": "https://localhost:8080/"
        },
        "id": "j6MMOFuy7HaO",
        "outputId": "2ac7d059-09ae-4d92-949a-d8b06efd1da9"
      },
      "execution_count": 69,
      "outputs": [
        {
          "output_type": "stream",
          "name": "stdout",
          "text": [
            "delete    a[0:1] --> b[0:0]      'q' --> ''\n",
            "equal     a[1:3] --> b[0:2]     'ab' --> 'ab'\n",
            "replace   a[3:4] --> b[2:3]      'x' --> 'y'\n",
            "equal     a[4:6] --> b[3:5]     'cd' --> 'cd'\n",
            "insert    a[6:6] --> b[5:6]       '' --> 'f'\n"
          ]
        }
      ]
    },
    {
      "cell_type": "code",
      "source": [
        "print(cgs)"
      ],
      "metadata": {
        "colab": {
          "base_uri": "https://localhost:8080/"
        },
        "id": "-K39xwnj8-22",
        "outputId": "1ef0ec24-15cb-417b-8789-b02837bee324"
      },
      "execution_count": 70,
      "outputs": [
        {
          "output_type": "stream",
          "name": "stdout",
          "text": [
            "['0-1:\"\".', '3-4:\"y\".', '6-6:\"f\".']\n"
          ]
        }
      ]
    },
    {
      "cell_type": "code",
      "source": [
        "t=(\" \".join(cgs))\n",
        "print(t)"
      ],
      "metadata": {
        "colab": {
          "base_uri": "https://localhost:8080/"
        },
        "id": "HpD7DiEJ_0on",
        "outputId": "8ef05a93-760f-43e0-8f30-9777b6f20235"
      },
      "execution_count": 71,
      "outputs": [
        {
          "output_type": "stream",
          "name": "stdout",
          "text": [
            "0-1:\"\". 3-4:\"y\". 6-6:\"f\".\n"
          ]
        }
      ]
    },
    {
      "cell_type": "code",
      "source": [
        "print(t.split(' '))"
      ],
      "metadata": {
        "colab": {
          "base_uri": "https://localhost:8080/"
        },
        "id": "fErC-Sgg_8Jq",
        "outputId": "87c06da8-ad8b-4e88-e10c-b8d3ea675691"
      },
      "execution_count": 72,
      "outputs": [
        {
          "output_type": "stream",
          "name": "stdout",
          "text": [
            "['0-1:\"\".', '3-4:\"y\".', '6-6:\"f\".']\n"
          ]
        }
      ]
    },
    {
      "cell_type": "markdown",
      "source": [
        "function"
      ],
      "metadata": {
        "id": "LbPSYyrnAzG2"
      }
    },
    {
      "cell_type": "code",
      "source": [
        "def origin2edited(origin, edited):\n",
        "    origin_list = nltk.word_tokenize(origin)\n",
        "    editeed_list = nltk.word_tokenize(edited)\n",
        "    s = difflib.SequenceMatcher(None, origin_list, editeed_list)\n",
        "    cgs = []\n",
        "    for tag, i1, i2, j1, j2 in s.get_opcodes():\n",
        "        if (tag != 'equal'):\n",
        "            cgs.append(f'{i1}-{i2}:\\\"{(\" \").join(editeed_list[j1:j2])}\\\".')\n",
        "    conclusion = \"\".join(cgs)\n",
        "    return conclusion"
      ],
      "metadata": {
        "id": "ItJzZVixAz3C"
      },
      "execution_count": 129,
      "outputs": []
    },
    {
      "cell_type": "code",
      "source": [
        "print(origin2edited(a, b))\n"
      ],
      "metadata": {
        "colab": {
          "base_uri": "https://localhost:8080/"
        },
        "id": "0JdPesuILBZH",
        "outputId": "a704ecc3-c93d-4b9b-d007-370b1c3fdae5"
      },
      "execution_count": 133,
      "outputs": [
        {
          "output_type": "stream",
          "name": "stdout",
          "text": [
            "1-2:\"do something\".3-5:\"go for it\".\n"
          ]
        }
      ]
    },
    {
      "cell_type": "code",
      "source": [
        "cgs = sen.split('.')[0:-1]\n",
        "print(len(cgs))"
      ],
      "metadata": {
        "colab": {
          "base_uri": "https://localhost:8080/"
        },
        "id": "VdQnOsuQML3b",
        "outputId": "e32b8444-3d92-4dde-d677-e25d49826494"
      },
      "execution_count": 140,
      "outputs": [
        {
          "output_type": "stream",
          "name": "stdout",
          "text": [
            "2\n"
          ]
        }
      ]
    },
    {
      "cell_type": "code",
      "source": [
        "def restore(cg, origin):\n",
        "    cgs = cg.split('.')[0:-1]\n",
        "    origin_list = nltk.word_tokenize(origin)\n",
        "    #blocks = copy.deepcopy(origin)\n",
        "    for j in list(reversed(cgs)):\n",
        "        #print(\"unchanged: \", origin_list)\n",
        "        #print(j)\n",
        "        pattern = re.compile(r'^(\\d+)-(\\d+):\\\"(.*?)\\\"')  # matches 1-2:\"do something\".  (1), (2), (do something)\n",
        "        results = re.search(pattern, j)  # i3 means the content between \"\"\n",
        "        i1, i2, i3 = results.group(1), results.group(2), results.group(3)\n",
        "        origin_list[int(i1): int(i2)] = nltk.word_tokenize(i3)\n",
        "        #print(\"changed: \", origin_list)\n",
        "    return (\" \").join(origin_list[0:-1])+'.'  #because we don't want any space before '.', which is the last element in the origin_list"
      ],
      "metadata": {
        "id": "2VRXAb0aCN6D"
      },
      "execution_count": 154,
      "outputs": []
    },
    {
      "cell_type": "code",
      "source": [
        "print(a)"
      ],
      "metadata": {
        "colab": {
          "base_uri": "https://localhost:8080/"
        },
        "id": "syvfOb8MJLCX",
        "outputId": "33401bcb-fd57-4213-8258-746be6ea25c8"
      },
      "execution_count": 144,
      "outputs": [
        {
          "output_type": "stream",
          "name": "stdout",
          "text": [
            "I want to acchieve something to school.\n"
          ]
        }
      ]
    },
    {
      "cell_type": "code",
      "source": [
        "print(sen)"
      ],
      "metadata": {
        "colab": {
          "base_uri": "https://localhost:8080/"
        },
        "id": "zMikObXEJv8o",
        "outputId": "14be344a-7e8b-4235-e668-6726d4c9ae3d"
      },
      "execution_count": 145,
      "outputs": [
        {
          "output_type": "stream",
          "name": "stdout",
          "text": [
            "1-2:\"do something\".3-5:\"go for it\".\n"
          ]
        }
      ]
    },
    {
      "cell_type": "code",
      "source": [
        "b = \"I do something to go for it to school.\""
      ],
      "metadata": {
        "id": "N9OlZnDbL_uJ"
      },
      "execution_count": 146,
      "outputs": []
    },
    {
      "cell_type": "code",
      "source": [
        "print(restore(origin2edited(a, b), a))"
      ],
      "metadata": {
        "colab": {
          "base_uri": "https://localhost:8080/"
        },
        "id": "Dtjnr-1xI-D8",
        "outputId": "616b150f-766e-4cab-9c72-4a6764ed6a23"
      },
      "execution_count": 153,
      "outputs": [
        {
          "output_type": "stream",
          "name": "stdout",
          "text": [
            "unchanged:  ['I', 'want', 'to', 'acchieve', 'something', 'to', 'school', '.']\n",
            "3-5:\"go for it\"\n",
            "changed:  ['I', 'want', 'to', 'go', 'for', 'it', 'to', 'school', '.']\n",
            "unchanged:  ['I', 'want', 'to', 'go', 'for', 'it', 'to', 'school', '.']\n",
            "1-2:\"do something\"\n",
            "changed:  ['I', 'do', 'something', 'to', 'go', 'for', 'it', 'to', 'school', '.']\n",
            "I do something to go for it to school.\n"
          ]
        }
      ]
    },
    {
      "cell_type": "code",
      "source": [
        "i1 = re.compile(r'^(\\d+)-(\\d+):\\\"(.*?)\\\"')\n",
        "#i1 = re.compile(r'(\\d+)')\n",
        "sen = \"1-2:\\\"do something\\\".3-5:\\\"go for it\\\".\"\n",
        "i3 = re.search(i1, sen).group(1)\n",
        "print(i3)"
      ],
      "metadata": {
        "colab": {
          "base_uri": "https://localhost:8080/"
        },
        "id": "ikRFtl1AEfxw",
        "outputId": "1f86e345-d03a-4cd4-ce3a-59299c8eafdb"
      },
      "execution_count": 134,
      "outputs": [
        {
          "output_type": "stream",
          "name": "stdout",
          "text": [
            "1\n"
          ]
        }
      ]
    },
    {
      "cell_type": "code",
      "source": [
        "pattern = re.compile(r'^(\\d+)-(\\d+):\\\"(.*?)\\\"')  # matches 1-2:\"do something\".  (1), (2), (do something)\n",
        "results = re.search(pattern, sen)  # i3 means the content between \"\"\n",
        "i1, i2, i3 = results.group(1), results.group(2), results.group(3)\n",
        "print(i1, i2, i3)"
      ],
      "metadata": {
        "colab": {
          "base_uri": "https://localhost:8080/"
        },
        "id": "Ihy8hE46H-Nx",
        "outputId": "a29229dd-3e22-4e3b-8081-5a3e3abf6e78"
      },
      "execution_count": 104,
      "outputs": [
        {
          "output_type": "stream",
          "name": "stdout",
          "text": [
            "1 2 do something\n"
          ]
        }
      ]
    },
    {
      "cell_type": "code",
      "source": [
        "print(restore(orgin2edited(a, b), a))"
      ],
      "metadata": {
        "colab": {
          "base_uri": "https://localhost:8080/",
          "height": 270
        },
        "id": "k1E9T6KrIxva",
        "outputId": "a456e082-8d8d-456e-8885-8bff19f98743"
      },
      "execution_count": 106,
      "outputs": [
        {
          "output_type": "error",
          "ename": "TypeError",
          "evalue": "ignored",
          "traceback": [
            "\u001b[0;31m---------------------------------------------------------------------------\u001b[0m",
            "\u001b[0;31mTypeError\u001b[0m                                 Traceback (most recent call last)",
            "\u001b[0;32m<ipython-input-106-4be3cda1b7b2>\u001b[0m in \u001b[0;36m<module>\u001b[0;34m()\u001b[0m\n\u001b[0;32m----> 1\u001b[0;31m \u001b[0mprint\u001b[0m\u001b[0;34m(\u001b[0m\u001b[0mrestore\u001b[0m\u001b[0;34m(\u001b[0m\u001b[0morgin2edited\u001b[0m\u001b[0;34m(\u001b[0m\u001b[0ma\u001b[0m\u001b[0;34m,\u001b[0m \u001b[0mb\u001b[0m\u001b[0;34m)\u001b[0m\u001b[0;34m,\u001b[0m \u001b[0ma\u001b[0m\u001b[0;34m)\u001b[0m\u001b[0;34m)\u001b[0m\u001b[0;34m\u001b[0m\u001b[0;34m\u001b[0m\u001b[0m\n\u001b[0m",
            "\u001b[0;32m<ipython-input-105-be90ecf5603c>\u001b[0m in \u001b[0;36mrestore\u001b[0;34m(cg, origin)\u001b[0m\n\u001b[1;32m      7\u001b[0m         \u001b[0mresults\u001b[0m \u001b[0;34m=\u001b[0m \u001b[0mre\u001b[0m\u001b[0;34m.\u001b[0m\u001b[0msearch\u001b[0m\u001b[0;34m(\u001b[0m\u001b[0mpattern\u001b[0m\u001b[0;34m,\u001b[0m \u001b[0msen\u001b[0m\u001b[0;34m)\u001b[0m  \u001b[0;31m# i3 means the content between \"\"\u001b[0m\u001b[0;34m\u001b[0m\u001b[0;34m\u001b[0m\u001b[0m\n\u001b[1;32m      8\u001b[0m         \u001b[0mi1\u001b[0m\u001b[0;34m,\u001b[0m \u001b[0mi2\u001b[0m\u001b[0;34m,\u001b[0m \u001b[0mi3\u001b[0m \u001b[0;34m=\u001b[0m \u001b[0mresults\u001b[0m\u001b[0;34m.\u001b[0m\u001b[0mgroup\u001b[0m\u001b[0;34m(\u001b[0m\u001b[0;36m1\u001b[0m\u001b[0;34m)\u001b[0m\u001b[0;34m,\u001b[0m \u001b[0mresults\u001b[0m\u001b[0;34m.\u001b[0m\u001b[0mgroup\u001b[0m\u001b[0;34m(\u001b[0m\u001b[0;36m2\u001b[0m\u001b[0;34m)\u001b[0m\u001b[0;34m,\u001b[0m \u001b[0mresults\u001b[0m\u001b[0;34m.\u001b[0m\u001b[0mgroup\u001b[0m\u001b[0;34m(\u001b[0m\u001b[0;36m3\u001b[0m\u001b[0;34m)\u001b[0m\u001b[0;34m\u001b[0m\u001b[0;34m\u001b[0m\u001b[0m\n\u001b[0;32m----> 9\u001b[0;31m         \u001b[0morigin_list\u001b[0m\u001b[0;34m[\u001b[0m\u001b[0mi1\u001b[0m\u001b[0;34m:\u001b[0m \u001b[0mi2\u001b[0m\u001b[0;34m]\u001b[0m \u001b[0;34m=\u001b[0m \u001b[0mnltk\u001b[0m\u001b[0;34m.\u001b[0m\u001b[0mword_tokenize\u001b[0m\u001b[0;34m(\u001b[0m\u001b[0mi3\u001b[0m\u001b[0;34m)\u001b[0m\u001b[0;34m\u001b[0m\u001b[0;34m\u001b[0m\u001b[0m\n\u001b[0m\u001b[1;32m     10\u001b[0m     \u001b[0;32mreturn\u001b[0m \u001b[0;34m(\u001b[0m\u001b[0;34m\" \"\u001b[0m\u001b[0;34m)\u001b[0m\u001b[0;34m.\u001b[0m\u001b[0mjoin\u001b[0m\u001b[0;34m(\u001b[0m\u001b[0morigin_list\u001b[0m\u001b[0;34m)\u001b[0m\u001b[0;34m\u001b[0m\u001b[0;34m\u001b[0m\u001b[0m\n",
            "\u001b[0;31mTypeError\u001b[0m: slice indices must be integers or None or have an __index__ method"
          ]
        }
      ]
    }
  ]
}